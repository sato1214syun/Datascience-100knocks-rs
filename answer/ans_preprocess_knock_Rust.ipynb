{
 "cells": [
  {
   "cell_type": "markdown",
   "metadata": {},
   "source": [
    "# データサイエンス100本ノック（構造化データ加工編） - Rust"
   ]
  },
  {
   "cell_type": "markdown",
   "metadata": {},
   "source": [
    "## はじめに\n",
    "- 初めに以下のセルを実行してください\n",
    "- 必要なライブラリのインポートとデータベース（PostgreSQL）からのデータ読み込みを行います\n",
    "- pandas等、利用が想定されるライブラリは以下セルでインポートしています\n",
    "- その他利用したいライブラリがあれば適宜インストールしてください（\"!pip install ライブラリ名\"でインストールも可能）\n",
    "- 処理は複数回に分けても構いません\n",
    "- 名前、住所等はダミーデータであり、実在するものではありません"
   ]
  },
  {
   "cell_type": "code",
   "execution_count": 2,
   "metadata": {
    "vscode": {
     "languageId": "rust"
    }
   },
   "outputs": [],
   "source": [
    ":dep polars = { version = \"0.31.1\", features = [\"describe\", \"lazy\", \"object\", \"dtype-categorical\", \"dtype-full\", \"mode\", \"temporal\", \"concat_str\", \"to_dummies\", \"log\", \"dtype-duration\"]}"
   ]
  },
  {
   "cell_type": "code",
   "execution_count": 3,
   "metadata": {
    "vscode": {
     "languageId": "rust"
    }
   },
   "outputs": [],
   "source": [
    "use polars::prelude::*;\n",
    "// データ型の指定\n",
    "let mut schema = Schema::new();\n",
    "schema.with_column(\"customer_id\".into(), DataType::Utf8);\n",
    "schema.with_column(\"gender_cd\".into(), DataType::Utf8);\n",
    "schema.with_column(\"postal_cd\".into(), DataType::Utf8);\n",
    "schema.with_column(\"application_store_cd\".into(), DataType::Utf8);\n",
    "schema.with_column(\"status_cd\".into(), DataType::Utf8);\n",
    "schema.with_column(\"category_major_cd\".into(), DataType::Utf8);\n",
    "schema.with_column(\"category_medium_cd\".into(), DataType::Utf8);\n",
    "schema.with_column(\"category_small_cd\".into(), DataType::Utf8);\n",
    "schema.with_column(\"product_cd\".into(), DataType::Utf8);\n",
    "schema.with_column(\"store_cd\".into(), DataType::Utf8);\n",
    "schema.with_column(\"prefecture_cd\".into(), DataType::Utf8);\n",
    "schema.with_column(\"tel_no\".into(), DataType::Utf8);\n",
    "schema.with_column(\"postal_cd\".into(), DataType::Utf8);\n",
    "schema.with_column(\"street\".into(), DataType::Utf8);\n",
    "schema.with_column(\n",
    "    \"birth_day\".into(),\n",
    "    DataType::Date\n",
    ");\n",
    "schema.with_column(\n",
    "    \"application_date\".into(),\n",
    "    DataType::Utf8\n",
    ");\n",
    "\n",
    "let df_customer = LazyCsvReader::new(\"../data/customer.csv\")\n",
    "    .has_header(true)\n",
    "    .with_dtype_overwrite(Some(&schema.clone()))\n",
    "    .finish()\n",
    "    .unwrap();\n",
    "let df_category = LazyCsvReader::new(\"../data/category.csv\")\n",
    "    .has_header(true)\n",
    "    .with_dtype_overwrite(Some(&schema.clone()))\n",
    "    .finish()\n",
    "    .unwrap();\n",
    "let df_product = LazyCsvReader::new(\"../data/product.csv\")\n",
    "    .has_header(true)\n",
    "    .with_dtype_overwrite(Some(&schema.clone()))\n",
    "    .finish()\n",
    "    .unwrap();\n",
    "let df_receipt = LazyCsvReader::new(\"../data/receipt.csv\")\n",
    "    .has_header(true)\n",
    "    .with_dtype_overwrite(Some(&schema.clone()))\n",
    "    .finish()\n",
    "    .unwrap();\n",
    "let df_store = LazyCsvReader::new(\"../data/store.csv\")\n",
    "    .has_header(true)\n",
    "    .with_dtype_overwrite(Some(&schema.clone()))\n",
    "    .finish()\n",
    "    .unwrap();\n",
    "let df_geocode = LazyCsvReader::new(\"../data/geocode.csv\")\n",
    "    .has_header(true)\n",
    "    .with_dtype_overwrite(Some(&schema.clone()))\n",
    "    .finish()\n",
    "    .unwrap();"
   ]
  },
  {
   "cell_type": "markdown",
   "metadata": {},
   "source": [
    "# 演習問題"
   ]
  },
  {
   "cell_type": "markdown",
   "metadata": {},
   "source": [
    "---\n",
    "> P-001: レシート明細データ（df_receipt）から全項目の先頭10件を表示し、どのようなデータを保有しているか目視で確認せよ。"
   ]
  },
  {
   "cell_type": "code",
   "execution_count": 34,
   "metadata": {
    "vscode": {
     "languageId": "rust"
    }
   },
   "outputs": [
    {
     "data": {
      "text/plain": [
       "shape: (10, 9)\n",
       "┌───────────┬────────────┬──────────┬────────────┬───┬────────────┬────────────┬──────────┬────────┐\n",
       "│ sales_ymd ┆ sales_epoc ┆ store_cd ┆ receipt_no ┆ … ┆ customer_i ┆ product_cd ┆ quantity ┆ amount │\n",
       "│ ---       ┆ h          ┆ ---      ┆ ---        ┆   ┆ d          ┆ ---        ┆ ---      ┆ ---    │\n",
       "│ i64       ┆ ---        ┆ str      ┆ i64        ┆   ┆ ---        ┆ str        ┆ i64      ┆ i64    │\n",
       "│           ┆ i64        ┆          ┆            ┆   ┆ str        ┆            ┆          ┆        │\n",
       "╞═══════════╪════════════╪══════════╪════════════╪═══╪════════════╪════════════╪══════════╪════════╡\n",
       "│ 20181103  ┆ 1541203200 ┆ S14006   ┆ 112        ┆ … ┆ CS00621400 ┆ P070305012 ┆ 1        ┆ 158    │\n",
       "│           ┆            ┆          ┆            ┆   ┆ 0001       ┆            ┆          ┆        │\n",
       "│ 20181118  ┆ 1542499200 ┆ S13008   ┆ 1132       ┆ … ┆ CS00841500 ┆ P070701017 ┆ 1        ┆ 81     │\n",
       "│           ┆            ┆          ┆            ┆   ┆ 0097       ┆            ┆          ┆        │\n",
       "│ 20170712  ┆ 1499817600 ┆ S14028   ┆ 1102       ┆ … ┆ CS02841400 ┆ P060101005 ┆ 1        ┆ 170    │\n",
       "│           ┆            ┆          ┆            ┆   ┆ 0014       ┆            ┆          ┆        │\n",
       "│ 20190205  ┆ 1549324800 ┆ S14042   ┆ 1132       ┆ … ┆ ZZ00000000 ┆ P050301001 ┆ 1        ┆ 25     │\n",
       "│           ┆            ┆          ┆            ┆   ┆ 0000       ┆            ┆          ┆        │\n",
       "│ …         ┆ …          ┆ …        ┆ …          ┆ … ┆ …          ┆ …          ┆ …        ┆ …      │\n",
       "│ 20181205  ┆ 1543968000 ┆ S14024   ┆ 1102       ┆ … ┆ CS02451400 ┆ P080101005 ┆ 1        ┆ 30     │\n",
       "│           ┆            ┆          ┆            ┆   ┆ 0042       ┆            ┆          ┆        │\n",
       "│ 20190922  ┆ 1569110400 ┆ S14040   ┆ 1102       ┆ … ┆ CS04041500 ┆ P070501004 ┆ 1        ┆ 128    │\n",
       "│           ┆            ┆          ┆            ┆   ┆ 0178       ┆            ┆          ┆        │\n",
       "│ 20170504  ┆ 1493856000 ┆ S13020   ┆ 1112       ┆ … ┆ ZZ00000000 ┆ P071302010 ┆ 1        ┆ 770    │\n",
       "│           ┆            ┆          ┆            ┆   ┆ 0000       ┆            ┆          ┆        │\n",
       "│ 20191010  ┆ 1570665600 ┆ S14027   ┆ 1102       ┆ … ┆ CS02751400 ┆ P071101003 ┆ 1        ┆ 680    │\n",
       "│           ┆            ┆          ┆            ┆   ┆ 0015       ┆            ┆          ┆        │\n",
       "└───────────┴────────────┴──────────┴────────────┴───┴────────────┴────────────┴──────────┴────────┘"
      ]
     },
     "execution_count": 34,
     "metadata": {},
     "output_type": "execute_result"
    }
   ],
   "source": [
    "df_receipt.clone().collect().unwrap().head(Some(10))"
   ]
  },
  {
   "cell_type": "markdown",
   "metadata": {},
   "source": [
    "---\n",
    "> P-002: レシート明細データ（df_receipt）から売上年月日（sales_ymd）、顧客ID（customer_id）、商品コード（product_cd）、売上金額（amount）の順に列を指定し、10件表示せよ。"
   ]
  },
  {
   "cell_type": "code",
   "execution_count": 35,
   "metadata": {
    "vscode": {
     "languageId": "rust"
    }
   },
   "outputs": [
    {
     "data": {
      "text/plain": [
       "shape: (10, 4)\n",
       "┌───────────┬────────────────┬────────────┬────────┐\n",
       "│ sales_ymd ┆ customer_id    ┆ product_cd ┆ amount │\n",
       "│ ---       ┆ ---            ┆ ---        ┆ ---    │\n",
       "│ i64       ┆ str            ┆ str        ┆ i64    │\n",
       "╞═══════════╪════════════════╪════════════╪════════╡\n",
       "│ 20181103  ┆ CS006214000001 ┆ P070305012 ┆ 158    │\n",
       "│ 20181118  ┆ CS008415000097 ┆ P070701017 ┆ 81     │\n",
       "│ 20170712  ┆ CS028414000014 ┆ P060101005 ┆ 170    │\n",
       "│ 20190205  ┆ ZZ000000000000 ┆ P050301001 ┆ 25     │\n",
       "│ …         ┆ …              ┆ …          ┆ …      │\n",
       "│ 20181205  ┆ CS024514000042 ┆ P080101005 ┆ 30     │\n",
       "│ 20190922  ┆ CS040415000178 ┆ P070501004 ┆ 128    │\n",
       "│ 20170504  ┆ ZZ000000000000 ┆ P071302010 ┆ 770    │\n",
       "│ 20191010  ┆ CS027514000015 ┆ P071101003 ┆ 680    │\n",
       "└───────────┴────────────────┴────────────┴────────┘"
      ]
     },
     "execution_count": 35,
     "metadata": {},
     "output_type": "execute_result"
    }
   ],
   "source": [
    "\n",
    "df_receipt\n",
    "    .clone()\n",
    "    .select([\n",
    "        col(\"sales_ymd\"),\n",
    "        col(\"customer_id\"),\n",
    "        col(\"product_cd\"),\n",
    "        col(\"amount\")\n",
    "    ])\n",
    "    .collect()\n",
    "    .unwrap()\n",
    "    .head(Some(10))"
   ]
  },
  {
   "cell_type": "markdown",
   "metadata": {},
   "source": [
    "---\n",
    "> P-003: レシート明細データ（df_receipt）から売上年月日（sales_ymd）、顧客ID（customer_id）、商品コード（product_cd）、売上金額（amount）の順に列を指定し、10件表示せよ。ただし、sales_ymdをsales_dateに項目名を変更して抽出すること。"
   ]
  },
  {
   "cell_type": "code",
   "execution_count": 36,
   "metadata": {
    "vscode": {
     "languageId": "rust"
    }
   },
   "outputs": [
    {
     "data": {
      "text/plain": [
       "shape: (10, 4)\n",
       "┌────────────┬────────────────┬────────────┬────────┐\n",
       "│ sales_date ┆ customer_id    ┆ product_cd ┆ amount │\n",
       "│ ---        ┆ ---            ┆ ---        ┆ ---    │\n",
       "│ i64        ┆ str            ┆ str        ┆ i64    │\n",
       "╞════════════╪════════════════╪════════════╪════════╡\n",
       "│ 20181103   ┆ CS006214000001 ┆ P070305012 ┆ 158    │\n",
       "│ 20181118   ┆ CS008415000097 ┆ P070701017 ┆ 81     │\n",
       "│ 20170712   ┆ CS028414000014 ┆ P060101005 ┆ 170    │\n",
       "│ 20190205   ┆ ZZ000000000000 ┆ P050301001 ┆ 25     │\n",
       "│ …          ┆ …              ┆ …          ┆ …      │\n",
       "│ 20181205   ┆ CS024514000042 ┆ P080101005 ┆ 30     │\n",
       "│ 20190922   ┆ CS040415000178 ┆ P070501004 ┆ 128    │\n",
       "│ 20170504   ┆ ZZ000000000000 ┆ P071302010 ┆ 770    │\n",
       "│ 20191010   ┆ CS027514000015 ┆ P071101003 ┆ 680    │\n",
       "└────────────┴────────────────┴────────────┴────────┘"
      ]
     },
     "execution_count": 36,
     "metadata": {},
     "output_type": "execute_result"
    }
   ],
   "source": [
    "df_receipt\n",
    "    .clone()\n",
    "    .select([\n",
    "        col(\"sales_ymd\").alias(\"sales_date\".into()),\n",
    "        col(\"customer_id\"),\n",
    "        col(\"product_cd\"),\n",
    "        col(\"amount\"),\n",
    "    ])\n",
    "    .collect()\n",
    "    .unwrap()\n",
    "    .head(Some(10))"
   ]
  },
  {
   "cell_type": "markdown",
   "metadata": {},
   "source": [
    "---\n",
    "> P-004: レシート明細データ（df_receipt）から売上日（sales_ymd）、顧客ID（customer_id）、商品コード（product_cd）、売上金額（amount）の順に列を指定し、以下の条件を満たすデータを抽出せよ。\n",
    "> - 顧客ID（customer_id）が\"CS018205000001\""
   ]
  },
  {
   "cell_type": "code",
   "execution_count": 37,
   "metadata": {
    "vscode": {
     "languageId": "rust"
    }
   },
   "outputs": [
    {
     "data": {
      "text/plain": [
       "shape: (12, 4)\n",
       "┌───────────┬────────────────┬────────────┬────────┐\n",
       "│ sales_ymd ┆ customer_id    ┆ product_cd ┆ amount │\n",
       "│ ---       ┆ ---            ┆ ---        ┆ ---    │\n",
       "│ i64       ┆ str            ┆ str        ┆ i64    │\n",
       "╞═══════════╪════════════════╪════════════╪════════╡\n",
       "│ 20180911  ┆ CS018205000001 ┆ P071401012 ┆ 2200   │\n",
       "│ 20180414  ┆ CS018205000001 ┆ P060104007 ┆ 600    │\n",
       "│ 20170614  ┆ CS018205000001 ┆ P050206001 ┆ 990    │\n",
       "│ 20170614  ┆ CS018205000001 ┆ P060702015 ┆ 108    │\n",
       "│ …         ┆ …              ┆ …          ┆ …      │\n",
       "│ 20190226  ┆ CS018205000001 ┆ P071401020 ┆ 2200   │\n",
       "│ 20180911  ┆ CS018205000001 ┆ P071401005 ┆ 1100   │\n",
       "│ 20190216  ┆ CS018205000001 ┆ P040101002 ┆ 218    │\n",
       "│ 20190924  ┆ CS018205000001 ┆ P091503001 ┆ 280    │\n",
       "└───────────┴────────────────┴────────────┴────────┘"
      ]
     },
     "execution_count": 37,
     "metadata": {},
     "output_type": "execute_result"
    }
   ],
   "source": [
    "df_receipt\n",
    "    .clone()\n",
    "    .select([\n",
    "        col(\"sales_ymd\"),\n",
    "        col(\"customer_id\"),\n",
    "        col(\"product_cd\"),\n",
    "        col(\"amount\"),\n",
    "    ])\n",
    "    .filter(col(\"customer_id\").eq(lit(\"CS018205000001\")))\n",
    "    .collect()\n",
    "    .unwrap()"
   ]
  },
  {
   "cell_type": "markdown",
   "metadata": {},
   "source": [
    "---\n",
    "> P-005: レシート明細データ（df_receipt）から売上日（sales_ymd）、顧客ID（customer_id）、商品コード（product_cd）、売上金額（amount）の順に列を指定し、以下の全ての条件を満たすデータを抽出せよ。\n",
    "> - 顧客ID（customer_id）が\"CS018205000001\"\n",
    "> - 売上金額（amount）が1,000以上"
   ]
  },
  {
   "cell_type": "code",
   "execution_count": 38,
   "metadata": {
    "vscode": {
     "languageId": "rust"
    }
   },
   "outputs": [
    {
     "data": {
      "text/plain": [
       "shape: (3, 4)\n",
       "┌───────────┬────────────────┬────────────┬────────┐\n",
       "│ sales_ymd ┆ customer_id    ┆ product_cd ┆ amount │\n",
       "│ ---       ┆ ---            ┆ ---        ┆ ---    │\n",
       "│ i64       ┆ str            ┆ str        ┆ i64    │\n",
       "╞═══════════╪════════════════╪════════════╪════════╡\n",
       "│ 20180911  ┆ CS018205000001 ┆ P071401012 ┆ 2200   │\n",
       "│ 20190226  ┆ CS018205000001 ┆ P071401020 ┆ 2200   │\n",
       "│ 20180911  ┆ CS018205000001 ┆ P071401005 ┆ 1100   │\n",
       "└───────────┴────────────────┴────────────┴────────┘"
      ]
     },
     "execution_count": 38,
     "metadata": {},
     "output_type": "execute_result"
    }
   ],
   "source": [
    "df_receipt\n",
    "    .clone()\n",
    "    .select([\n",
    "        col(\"sales_ymd\"),\n",
    "        col(\"customer_id\"),\n",
    "        col(\"product_cd\"),\n",
    "        col(\"amount\"),\n",
    "    ])\n",
    "    .filter(\n",
    "        col(\"customer_id\")\n",
    "            .eq(lit(\"CS018205000001\"))\n",
    "            .and(col(\"amount\").gt_eq(lit(1000)))\n",
    "    )\n",
    "    .collect()\n",
    "    .unwrap()"
   ]
  },
  {
   "cell_type": "markdown",
   "metadata": {},
   "source": [
    "---\n",
    "> P-006: レシート明細データ（df_receipt）から売上日（sales_ymd）、顧客ID（customer_id）、商品コード（product_cd）、売上数量（quantity）、売上金額（amount）の順に列を指定し、以下の全ての条件を満たすデータを抽出せよ。\n",
    "> - 顧客ID（customer_id）が\"CS018205000001\"\n",
    "> - 売上金額（amount）が1,000以上または売上数量（quantity）が5以上"
   ]
  },
  {
   "cell_type": "code",
   "execution_count": 39,
   "metadata": {
    "vscode": {
     "languageId": "rust"
    }
   },
   "outputs": [
    {
     "data": {
      "text/plain": [
       "shape: (5, 5)\n",
       "┌───────────┬────────────────┬────────────┬──────────┬────────┐\n",
       "│ sales_ymd ┆ customer_id    ┆ product_cd ┆ quantity ┆ amount │\n",
       "│ ---       ┆ ---            ┆ ---        ┆ ---      ┆ ---    │\n",
       "│ i64       ┆ str            ┆ str        ┆ i64      ┆ i64    │\n",
       "╞═══════════╪════════════════╪════════════╪══════════╪════════╡\n",
       "│ 20180911  ┆ CS018205000001 ┆ P071401012 ┆ 1        ┆ 2200   │\n",
       "│ 20180414  ┆ CS018205000001 ┆ P060104007 ┆ 6        ┆ 600    │\n",
       "│ 20170614  ┆ CS018205000001 ┆ P050206001 ┆ 5        ┆ 990    │\n",
       "│ 20190226  ┆ CS018205000001 ┆ P071401020 ┆ 1        ┆ 2200   │\n",
       "│ 20180911  ┆ CS018205000001 ┆ P071401005 ┆ 1        ┆ 1100   │\n",
       "└───────────┴────────────────┴────────────┴──────────┴────────┘"
      ]
     },
     "execution_count": 39,
     "metadata": {},
     "output_type": "execute_result"
    }
   ],
   "source": [
    "df_receipt\n",
    "    .clone()\n",
    "    .select([\n",
    "        col(\"sales_ymd\"),\n",
    "        col(\"customer_id\"),\n",
    "        col(\"product_cd\"),\n",
    "        col(\"quantity\"),\n",
    "        col(\"amount\"),\n",
    "    ])\n",
    "    .filter(\n",
    "        col(\"customer_id\").eq(lit(\"CS018205000001\")).and(\n",
    "            col(\"amount\")\n",
    "                .gt_eq(lit(1000))\n",
    "                .or(col(\"quantity\").gt_eq(lit(5)))\n",
    "        )\n",
    "    )\n",
    "    .collect()\n",
    "    .unwrap()"
   ]
  },
  {
   "cell_type": "markdown",
   "metadata": {},
   "source": [
    "---\n",
    "> P-007: レシート明細データ（df_receipt）から売上日（sales_ymd）、顧客ID（customer_id）、商品コード（product_cd）、売上金額（amount）の順に列を指定し、以下の全ての条件を満たすデータを抽出せよ。\n",
    "> - 顧客ID（customer_id）が\"CS018205000001\"\n",
    "> - 売上金額（amount）が1,000以上2,000以下"
   ]
  },
  {
   "cell_type": "code",
   "execution_count": 40,
   "metadata": {
    "vscode": {
     "languageId": "rust"
    }
   },
   "outputs": [
    {
     "data": {
      "text/plain": [
       "shape: (1, 4)\n",
       "┌───────────┬────────────────┬────────────┬────────┐\n",
       "│ sales_ymd ┆ customer_id    ┆ product_cd ┆ amount │\n",
       "│ ---       ┆ ---            ┆ ---        ┆ ---    │\n",
       "│ i64       ┆ str            ┆ str        ┆ i64    │\n",
       "╞═══════════╪════════════════╪════════════╪════════╡\n",
       "│ 20180911  ┆ CS018205000001 ┆ P071401005 ┆ 1100   │\n",
       "└───────────┴────────────────┴────────────┴────────┘"
      ]
     },
     "execution_count": 40,
     "metadata": {},
     "output_type": "execute_result"
    }
   ],
   "source": [
    "df_receipt\n",
    "    .clone()\n",
    "    .select([\n",
    "        col(\"sales_ymd\"),\n",
    "        col(\"customer_id\"),\n",
    "        col(\"product_cd\"),\n",
    "        col(\"amount\"),\n",
    "    ])\n",
    "    .filter(\n",
    "        col(\"customer_id\").eq(lit(\"CS018205000001\")).and(\n",
    "            col(\"amount\")\n",
    "                .gt_eq(lit(1000))\n",
    "                .and(col(\"amount\").lt_eq(lit(2000)))\n",
    "        )\n",
    "    )\n",
    "    .collect()\n",
    "    .unwrap()"
   ]
  },
  {
   "cell_type": "markdown",
   "metadata": {},
   "source": [
    "---\n",
    "> P-008: レシート明細データ（df_receipt）から売上日（sales_ymd）、顧客ID（customer_id）、商品コード（product_cd）、売上金額（amount）の順に列を指定し、以下の全ての条件を満たすデータを抽出せよ。\n",
    "> - 顧客ID（customer_id）が\"CS018205000001\"\n",
    "> - 商品コード（product_cd）が\"P071401019\"以外"
   ]
  },
  {
   "cell_type": "code",
   "execution_count": 41,
   "metadata": {
    "vscode": {
     "languageId": "rust"
    }
   },
   "outputs": [
    {
     "data": {
      "text/plain": [
       "shape: (12, 4)\n",
       "┌───────────┬────────────────┬────────────┬────────┐\n",
       "│ sales_ymd ┆ customer_id    ┆ product_cd ┆ amount │\n",
       "│ ---       ┆ ---            ┆ ---        ┆ ---    │\n",
       "│ i64       ┆ str            ┆ str        ┆ i64    │\n",
       "╞═══════════╪════════════════╪════════════╪════════╡\n",
       "│ 20180911  ┆ CS018205000001 ┆ P071401012 ┆ 2200   │\n",
       "│ 20180414  ┆ CS018205000001 ┆ P060104007 ┆ 600    │\n",
       "│ 20170614  ┆ CS018205000001 ┆ P050206001 ┆ 990    │\n",
       "│ 20170614  ┆ CS018205000001 ┆ P060702015 ┆ 108    │\n",
       "│ …         ┆ …              ┆ …          ┆ …      │\n",
       "│ 20190226  ┆ CS018205000001 ┆ P071401020 ┆ 2200   │\n",
       "│ 20180911  ┆ CS018205000001 ┆ P071401005 ┆ 1100   │\n",
       "│ 20190216  ┆ CS018205000001 ┆ P040101002 ┆ 218    │\n",
       "│ 20190924  ┆ CS018205000001 ┆ P091503001 ┆ 280    │\n",
       "└───────────┴────────────────┴────────────┴────────┘"
      ]
     },
     "execution_count": 41,
     "metadata": {},
     "output_type": "execute_result"
    }
   ],
   "source": [
    "df_receipt\n",
    "    .clone()\n",
    "    .select([\n",
    "        col(\"sales_ymd\"),\n",
    "        col(\"customer_id\"),\n",
    "        col(\"product_cd\"),\n",
    "        col(\"amount\"),\n",
    "    ])\n",
    "    .filter(\n",
    "        col(\"customer_id\")\n",
    "            .eq(lit(\"CS018205000001\"))\n",
    "            .and(col(\"product_cd\").ne(&lit(\"P071401019\")))\n",
    "    )\n",
    "    .collect()\n",
    "    .unwrap()"
   ]
  },
  {
   "cell_type": "markdown",
   "metadata": {},
   "source": [
    "---\n",
    "> P-009: 以下の処理において、出力結果を変えずにORをANDに書き換えよ。\n",
    "> \n",
    "> `df_store.query(\"not(prefecture_cd == \"13\" | floor_area > 900)\")`"
   ]
  },
  {
   "cell_type": "code",
   "execution_count": 42,
   "metadata": {
    "vscode": {
     "languageId": "rust"
    }
   },
   "outputs": [
    {
     "data": {
      "text/plain": [
       "shape: (3, 10)\n",
       "┌──────────┬────────────┬───────────┬───────────┬───┬───────────┬───────────┬──────────┬───────────┐\n",
       "│ store_cd ┆ store_name ┆ prefectur ┆ prefectur ┆ … ┆ tel_no    ┆ longitude ┆ latitude ┆ floor_are │\n",
       "│ ---      ┆ ---        ┆ e_cd      ┆ e         ┆   ┆ ---       ┆ ---       ┆ ---      ┆ a         │\n",
       "│ str      ┆ str        ┆ ---       ┆ ---       ┆   ┆ str       ┆ f64       ┆ f64      ┆ ---       │\n",
       "│          ┆            ┆ str       ┆ str       ┆   ┆           ┆           ┆          ┆ f64       │\n",
       "╞══════════╪════════════╪═══════════╪═══════════╪═══╪═══════════╪═══════════╪══════════╪═══════════╡\n",
       "│ S14046   ┆ 北山田店   ┆ 14        ┆ 神奈川県  ┆ … ┆ 045-123-4 ┆ 139.5916  ┆ 35.56189 ┆ 831.0     │\n",
       "│          ┆            ┆           ┆           ┆   ┆ 049       ┆           ┆          ┆           │\n",
       "│ S14011   ┆ 日吉本町店 ┆ 14        ┆ 神奈川県  ┆ … ┆ 045-123-4 ┆ 139.6316  ┆ 35.54655 ┆ 890.0     │\n",
       "│          ┆            ┆           ┆           ┆   ┆ 033       ┆           ┆          ┆           │\n",
       "│ S12013   ┆ 習志野店   ┆ 12        ┆ 千葉県    ┆ … ┆ 047-123-4 ┆ 140.022   ┆ 35.66122 ┆ 808.0     │\n",
       "│          ┆            ┆           ┆           ┆   ┆ 002       ┆           ┆          ┆           │\n",
       "└──────────┴────────────┴───────────┴───────────┴───┴───────────┴───────────┴──────────┴───────────┘"
      ]
     },
     "execution_count": 42,
     "metadata": {},
     "output_type": "execute_result"
    }
   ],
   "source": [
    "df_store\n",
    "    .clone()\n",
    "    .filter(\n",
    "        col(\"prefecture_cd\")\n",
    "            .eq(lit(\"13\"))\n",
    "            .not()\n",
    "            .and(col(\"floor_area\").gt(lit(900)).not())\n",
    "    )\n",
    "    .collect()\n",
    "    .unwrap()"
   ]
  },
  {
   "cell_type": "markdown",
   "metadata": {},
   "source": [
    "---\n",
    "> P-010: 店舗データ（df_store）から、店舗コード（store_cd）が\"S14\"で始まるものだけ全項目抽出し、10件表示せよ。"
   ]
  },
  {
   "cell_type": "code",
   "execution_count": 43,
   "metadata": {
    "vscode": {
     "languageId": "rust"
    }
   },
   "outputs": [
    {
     "data": {
      "text/plain": [
       "shape: (10, 10)\n",
       "┌──────────┬────────────┬───────────┬───────────┬───┬───────────┬───────────┬──────────┬───────────┐\n",
       "│ store_cd ┆ store_name ┆ prefectur ┆ prefectur ┆ … ┆ tel_no    ┆ longitude ┆ latitude ┆ floor_are │\n",
       "│ ---      ┆ ---        ┆ e_cd      ┆ e         ┆   ┆ ---       ┆ ---       ┆ ---      ┆ a         │\n",
       "│ str      ┆ str        ┆ ---       ┆ ---       ┆   ┆ str       ┆ f64       ┆ f64      ┆ ---       │\n",
       "│          ┆            ┆ str       ┆ str       ┆   ┆           ┆           ┆          ┆ f64       │\n",
       "╞══════════╪════════════╪═══════════╪═══════════╪═══╪═══════════╪═══════════╪══════════╪═══════════╡\n",
       "│ S14010   ┆ 菊名店     ┆ 14        ┆ 神奈川県  ┆ … ┆ 045-123-4 ┆ 139.6326  ┆ 35.50049 ┆ 1732.0    │\n",
       "│          ┆            ┆           ┆           ┆   ┆ 032       ┆           ┆          ┆           │\n",
       "│ S14033   ┆ 阿久和店   ┆ 14        ┆ 神奈川県  ┆ … ┆ 045-123-4 ┆ 139.4961  ┆ 35.45918 ┆ 1495.0    │\n",
       "│          ┆            ┆           ┆           ┆   ┆ 043       ┆           ┆          ┆           │\n",
       "│ S14036   ┆ 相模原中央 ┆ 14        ┆ 神奈川県  ┆ … ┆ 042-123-4 ┆ 139.3716  ┆ 35.57327 ┆ 1679.0    │\n",
       "│          ┆ 店         ┆           ┆           ┆   ┆ 045       ┆           ┆          ┆           │\n",
       "│ S14040   ┆ 長津田店   ┆ 14        ┆ 神奈川県  ┆ … ┆ 045-123-4 ┆ 139.4994  ┆ 35.52398 ┆ 1548.0    │\n",
       "│          ┆            ┆           ┆           ┆   ┆ 046       ┆           ┆          ┆           │\n",
       "│ …        ┆ …          ┆ …         ┆ …         ┆ … ┆ …         ┆ …         ┆ …        ┆ …         │\n",
       "│ S14012   ┆ 本牧和田店 ┆ 14        ┆ 神奈川県  ┆ … ┆ 045-123-4 ┆ 139.6582  ┆ 35.42156 ┆ 1341.0    │\n",
       "│          ┆            ┆           ┆           ┆   ┆ 034       ┆           ┆          ┆           │\n",
       "│ S14046   ┆ 北山田店   ┆ 14        ┆ 神奈川県  ┆ … ┆ 045-123-4 ┆ 139.5916  ┆ 35.56189 ┆ 831.0     │\n",
       "│          ┆            ┆           ┆           ┆   ┆ 049       ┆           ┆          ┆           │\n",
       "│ S14022   ┆ 逗子店     ┆ 14        ┆ 神奈川県  ┆ … ┆ 046-123-4 ┆ 139.5789  ┆ 35.29642 ┆ 1838.0    │\n",
       "│          ┆            ┆           ┆           ┆   ┆ 036       ┆           ┆          ┆           │\n",
       "│ S14011   ┆ 日吉本町店 ┆ 14        ┆ 神奈川県  ┆ … ┆ 045-123-4 ┆ 139.6316  ┆ 35.54655 ┆ 890.0     │\n",
       "│          ┆            ┆           ┆           ┆   ┆ 033       ┆           ┆          ┆           │\n",
       "└──────────┴────────────┴───────────┴───────────┴───┴───────────┴───────────┴──────────┴───────────┘"
      ]
     },
     "execution_count": 43,
     "metadata": {},
     "output_type": "execute_result"
    }
   ],
   "source": [
    "df_store\n",
    "    .clone()\n",
    "    .filter(col(\"store_cd\").str().starts_with(lit(\"S14\")))\n",
    "    .collect()\n",
    "    .unwrap()\n",
    "    .head(Some(10))"
   ]
  },
  {
   "cell_type": "markdown",
   "metadata": {},
   "source": [
    "---\n",
    "> P-011: 顧客データ（df_customer）から顧客ID（customer_id）の末尾が1のものだけ全項目抽出し、10件表示せよ。"
   ]
  },
  {
   "cell_type": "code",
   "execution_count": 44,
   "metadata": {
    "vscode": {
     "languageId": "rust"
    }
   },
   "outputs": [
    {
     "data": {
      "text/plain": [
       "shape: (10, 11)\n",
       "┌────────────┬────────────┬───────────┬────────┬───┬───────────┬───────────┬───────────┬───────────┐\n",
       "│ customer_i ┆ customer_n ┆ gender_cd ┆ gender ┆ … ┆ address   ┆ applicati ┆ applicati ┆ status_cd │\n",
       "│ d          ┆ ame        ┆ ---       ┆ ---    ┆   ┆ ---       ┆ on_store_ ┆ on_date   ┆ ---       │\n",
       "│ ---        ┆ ---        ┆ str       ┆ str    ┆   ┆ str       ┆ cd        ┆ ---       ┆ str       │\n",
       "│ str        ┆ str        ┆           ┆        ┆   ┆           ┆ ---       ┆ i64       ┆           │\n",
       "│            ┆            ┆           ┆        ┆   ┆           ┆ str       ┆           ┆           │\n",
       "╞════════════╪════════════╪═══════════╪════════╪═══╪═══════════╪═══════════╪═══════════╪═══════════╡\n",
       "│ CS03761300 ┆ 六角 雅彦  ┆ 9         ┆ 不明   ┆ … ┆ 東京都江  ┆ S13037    ┆ 20150414  ┆ 0-0000000 │\n",
       "│ 0071       ┆            ┆           ┆        ┆   ┆ 東区南砂* ┆           ┆           ┆ 0-0       │\n",
       "│            ┆            ┆           ┆        ┆   ┆ ********* ┆           ┆           ┆           │\n",
       "│ CS02881100 ┆ 堀井       ┆ 1         ┆ 女性   ┆ … ┆ 神奈川県  ┆ S14028    ┆ 20160115  ┆ 0-0000000 │\n",
       "│ 0001       ┆ かおり     ┆           ┆        ┆   ┆ 横浜市泉  ┆           ┆           ┆ 0-0       │\n",
       "│            ┆            ┆           ┆        ┆   ┆ 区和泉町* ┆           ┆           ┆           │\n",
       "│            ┆            ┆           ┆        ┆   ┆ ********* ┆           ┆           ┆           │\n",
       "│ CS04041200 ┆ 川井 郁恵  ┆ 1         ┆ 女性   ┆ … ┆ 神奈川県  ┆ S14040    ┆ 20151101  ┆ 1-2009102 │\n",
       "│ 0191       ┆            ┆           ┆        ┆   ┆ 横浜市緑  ┆           ┆           ┆ 5-4       │\n",
       "│            ┆            ┆           ┆        ┆   ┆ 区北八朔  ┆           ┆           ┆           │\n",
       "│            ┆            ┆           ┆        ┆   ┆ 町******* ┆           ┆           ┆           │\n",
       "│            ┆            ┆           ┆        ┆   ┆ ***       ┆           ┆           ┆           │\n",
       "│ CS02831400 ┆ 小菅       ┆ 1         ┆ 女性   ┆ … ┆ 神奈川県  ┆ S14028    ┆ 20151123  ┆ 1-2008042 │\n",
       "│ 0011       ┆ あおい     ┆           ┆        ┆   ┆ 横浜市瀬  ┆           ┆           ┆ 6-5       │\n",
       "│            ┆            ┆           ┆        ┆   ┆ 谷区宮沢* ┆           ┆           ┆           │\n",
       "│            ┆            ┆           ┆        ┆   ┆ ********* ┆           ┆           ┆           │\n",
       "│ …          ┆ …          ┆ …         ┆ …      ┆ … ┆ …         ┆ …         ┆ …         ┆ …         │\n",
       "│ CS00470200 ┆ 野島 洋    ┆ 0         ┆ 男性   ┆ … ┆ 東京都練  ┆ S13004    ┆ 20170218  ┆ 0-0000000 │\n",
       "│ 0041       ┆            ┆           ┆        ┆   ┆ 馬区向山* ┆           ┆           ┆ 0-0       │\n",
       "│            ┆            ┆           ┆        ┆   ┆ ********* ┆           ┆           ┆           │\n",
       "│ CS04151500 ┆ 栗田 千夏  ┆ 1         ┆ 女性   ┆ … ┆ 東京都多  ┆ S13041    ┆ 20160422  ┆ E-2010080 │\n",
       "│ 0001       ┆            ┆           ┆        ┆   ┆ 摩市和田* ┆           ┆           ┆ 3-F       │\n",
       "│            ┆            ┆           ┆        ┆   ┆ ********* ┆           ┆           ┆           │\n",
       "│ CS02931300 ┆ 北条       ┆ 1         ┆ 女性   ┆ … ┆ 千葉県浦  ┆ S12029    ┆ 20180810  ┆ 0-0000000 │\n",
       "│ 0221       ┆ ひかり     ┆           ┆        ┆   ┆ 安市美浜* ┆           ┆           ┆ 0-0       │\n",
       "│            ┆            ┆           ┆        ┆   ┆ ********* ┆           ┆           ┆           │\n",
       "│ CS03431200 ┆ 望月 奈央  ┆ 1         ┆ 女性   ┆ … ┆ 神奈川県  ┆ S14034    ┆ 20160106  ┆ 0-0000000 │\n",
       "│ 0071       ┆            ┆           ┆        ┆   ┆ 川崎市高  ┆           ┆           ┆ 0-0       │\n",
       "│            ┆            ┆           ┆        ┆   ┆ 津区久末* ┆           ┆           ┆           │\n",
       "│            ┆            ┆           ┆        ┆   ┆ ********* ┆           ┆           ┆           │\n",
       "└────────────┴────────────┴───────────┴────────┴───┴───────────┴───────────┴───────────┴───────────┘"
      ]
     },
     "execution_count": 44,
     "metadata": {},
     "output_type": "execute_result"
    }
   ],
   "source": [
    "df_customer\n",
    "    .clone()\n",
    "    .filter(col(\"customer_id\").str().ends_with(lit(\"1\")))\n",
    "    .collect()\n",
    "    .unwrap()\n",
    "    .head(Some(10))"
   ]
  },
  {
   "cell_type": "markdown",
   "metadata": {},
   "source": [
    "---\n",
    "> P-012: 店舗データ（df_store）から、住所 (address) に\"横浜市\"が含まれるものだけ全項目表示せよ。"
   ]
  },
  {
   "cell_type": "code",
   "execution_count": 45,
   "metadata": {
    "vscode": {
     "languageId": "rust"
    }
   },
   "outputs": [
    {
     "data": {
      "text/plain": [
       "shape: (10, 10)\n",
       "┌──────────┬────────────┬───────────┬───────────┬───┬───────────┬───────────┬──────────┬───────────┐\n",
       "│ store_cd ┆ store_name ┆ prefectur ┆ prefectur ┆ … ┆ tel_no    ┆ longitude ┆ latitude ┆ floor_are │\n",
       "│ ---      ┆ ---        ┆ e_cd      ┆ e         ┆   ┆ ---       ┆ ---       ┆ ---      ┆ a         │\n",
       "│ str      ┆ str        ┆ ---       ┆ ---       ┆   ┆ str       ┆ f64       ┆ f64      ┆ ---       │\n",
       "│          ┆            ┆ str       ┆ str       ┆   ┆           ┆           ┆          ┆ f64       │\n",
       "╞══════════╪════════════╪═══════════╪═══════════╪═══╪═══════════╪═══════════╪══════════╪═══════════╡\n",
       "│ S14010   ┆ 菊名店     ┆ 14        ┆ 神奈川県  ┆ … ┆ 045-123-4 ┆ 139.6326  ┆ 35.50049 ┆ 1732.0    │\n",
       "│          ┆            ┆           ┆           ┆   ┆ 032       ┆           ┆          ┆           │\n",
       "│ S14033   ┆ 阿久和店   ┆ 14        ┆ 神奈川県  ┆ … ┆ 045-123-4 ┆ 139.4961  ┆ 35.45918 ┆ 1495.0    │\n",
       "│          ┆            ┆           ┆           ┆   ┆ 043       ┆           ┆          ┆           │\n",
       "│ S14040   ┆ 長津田店   ┆ 14        ┆ 神奈川県  ┆ … ┆ 045-123-4 ┆ 139.4994  ┆ 35.52398 ┆ 1548.0    │\n",
       "│          ┆            ┆           ┆           ┆   ┆ 046       ┆           ┆          ┆           │\n",
       "│ S14050   ┆ 阿久和西店 ┆ 14        ┆ 神奈川県  ┆ … ┆ 045-123-4 ┆ 139.4961  ┆ 35.45918 ┆ 1830.0    │\n",
       "│          ┆            ┆           ┆           ┆   ┆ 053       ┆           ┆          ┆           │\n",
       "│ …        ┆ …          ┆ …         ┆ …         ┆ … ┆ …         ┆ …         ┆ …        ┆ …         │\n",
       "│ S14046   ┆ 北山田店   ┆ 14        ┆ 神奈川県  ┆ … ┆ 045-123-4 ┆ 139.5916  ┆ 35.56189 ┆ 831.0     │\n",
       "│          ┆            ┆           ┆           ┆   ┆ 049       ┆           ┆          ┆           │\n",
       "│ S14011   ┆ 日吉本町店 ┆ 14        ┆ 神奈川県  ┆ … ┆ 045-123-4 ┆ 139.6316  ┆ 35.54655 ┆ 890.0     │\n",
       "│          ┆            ┆           ┆           ┆   ┆ 033       ┆           ┆          ┆           │\n",
       "│ S14048   ┆ 中川中央店 ┆ 14        ┆ 神奈川県  ┆ … ┆ 045-123-4 ┆ 139.5758  ┆ 35.54912 ┆ 1657.0    │\n",
       "│          ┆            ┆           ┆           ┆   ┆ 051       ┆           ┆          ┆           │\n",
       "│ S14042   ┆ 新山下店   ┆ 14        ┆ 神奈川県  ┆ … ┆ 045-123-4 ┆ 139.6593  ┆ 35.43894 ┆ 1044.0    │\n",
       "│          ┆            ┆           ┆           ┆   ┆ 047       ┆           ┆          ┆           │\n",
       "└──────────┴────────────┴───────────┴───────────┴───┴───────────┴───────────┴──────────┴───────────┘"
      ]
     },
     "execution_count": 45,
     "metadata": {},
     "output_type": "execute_result"
    }
   ],
   "source": [
    "df_store\n",
    "    .clone()\n",
    "    .filter(col(\"address\").str().contains(lit(\"横浜市\"), true))\n",
    "    .collect()\n",
    "    .unwrap()\n",
    "    .head(Some(10))"
   ]
  },
  {
   "cell_type": "markdown",
   "metadata": {},
   "source": [
    "---\n",
    "> P-013: 顧客データ（df_customer）から、ステータスコード（status_cd）の先頭がアルファベットのA〜Fで始まるデータを全項目抽出し、10件表示せよ。"
   ]
  },
  {
   "cell_type": "code",
   "execution_count": 46,
   "metadata": {
    "vscode": {
     "languageId": "rust"
    }
   },
   "outputs": [
    {
     "data": {
      "text/plain": [
       "shape: (10, 11)\n",
       "┌────────────┬────────────┬───────────┬────────┬───┬───────────┬───────────┬───────────┬───────────┐\n",
       "│ customer_i ┆ customer_n ┆ gender_cd ┆ gender ┆ … ┆ address   ┆ applicati ┆ applicati ┆ status_cd │\n",
       "│ d          ┆ ame        ┆ ---       ┆ ---    ┆   ┆ ---       ┆ on_store_ ┆ on_date   ┆ ---       │\n",
       "│ ---        ┆ ---        ┆ str       ┆ str    ┆   ┆ str       ┆ cd        ┆ ---       ┆ str       │\n",
       "│ str        ┆ str        ┆           ┆        ┆   ┆           ┆ ---       ┆ i64       ┆           │\n",
       "│            ┆            ┆           ┆        ┆   ┆           ┆ str       ┆           ┆           │\n",
       "╞════════════╪════════════╪═══════════╪════════╪═══╪═══════════╪═══════════╪═══════════╪═══════════╡\n",
       "│ CS03141500 ┆ 宇多田     ┆ 1         ┆ 女性   ┆ … ┆ 東京都渋  ┆ S13031    ┆ 20150529  ┆ D-2010032 │\n",
       "│ 0172       ┆ 貴美子     ┆           ┆        ┆   ┆ 谷区代々  ┆           ┆           ┆ 5-C       │\n",
       "│            ┆            ┆           ┆        ┆   ┆ 木******* ┆           ┆           ┆           │\n",
       "│            ┆            ┆           ┆        ┆   ┆ ***       ┆           ┆           ┆           │\n",
       "│ CS01541400 ┆ 奥野 陽子  ┆ 1         ┆ 女性   ┆ … ┆ 東京都江  ┆ S13015    ┆ 20150722  ┆ B-2010060 │\n",
       "│ 0103       ┆            ┆           ┆        ┆   ┆ 東区北砂* ┆           ┆           ┆ 9-B       │\n",
       "│            ┆            ┆           ┆        ┆   ┆ ********* ┆           ┆           ┆           │\n",
       "│ CS01121500 ┆ 芦田 沙耶  ┆ 1         ┆ 女性   ┆ … ┆ 神奈川県  ┆ S14011    ┆ 20150228  ┆ C-2010042 │\n",
       "│ 0048       ┆            ┆           ┆        ┆   ┆ 横浜市港  ┆           ┆           ┆ 1-9       │\n",
       "│            ┆            ┆           ┆        ┆   ┆ 北区日吉  ┆           ┆           ┆           │\n",
       "│            ┆            ┆           ┆        ┆   ┆ 本町***** ┆           ┆           ┆           │\n",
       "│            ┆            ┆           ┆        ┆   ┆ *****     ┆           ┆           ┆           │\n",
       "│ CS02941500 ┆ 梅田 里穂  ┆ 1         ┆ 女性   ┆ … ┆ 千葉県浦  ┆ S12029    ┆ 20150610  ┆ D-2010091 │\n",
       "│ 0023       ┆            ┆           ┆        ┆   ┆ 安市富士  ┆           ┆           ┆ 8-E       │\n",
       "│            ┆            ┆           ┆        ┆   ┆ 見******* ┆           ┆           ┆           │\n",
       "│            ┆            ┆           ┆        ┆   ┆ ***       ┆           ┆           ┆           │\n",
       "│ …          ┆ …          ┆ …         ┆ …      ┆ … ┆ …         ┆ …         ┆ …         ┆ …         │\n",
       "│ CS02921500 ┆ 石倉 美帆  ┆ 1         ┆ 女性   ┆ … ┆ 千葉県浦  ┆ S12029    ┆ 20150708  ┆ B-2010082 │\n",
       "│ 0025       ┆            ┆           ┆        ┆   ┆ 安市今川* ┆           ┆           ┆ 0-C       │\n",
       "│            ┆            ┆           ┆        ┆   ┆ ********* ┆           ┆           ┆           │\n",
       "│ CS03360500 ┆ 猪股 雄太  ┆ 0         ┆ 男性   ┆ … ┆ 神奈川県  ┆ S14033    ┆ 20150425  ┆ F-2010091 │\n",
       "│ 0005       ┆            ┆           ┆        ┆   ┆ 横浜市瀬  ┆           ┆           ┆ 7-E       │\n",
       "│            ┆            ┆           ┆        ┆   ┆ 谷区瀬谷* ┆           ┆           ┆           │\n",
       "│            ┆            ┆           ┆        ┆   ┆ ********* ┆           ┆           ┆           │\n",
       "│ CS03341500 ┆ 板垣       ┆ 1         ┆ 女性   ┆ … ┆ 神奈川県  ┆ S14033    ┆ 20150712  ┆ F-2010032 │\n",
       "│ 0229       ┆ 菜々美     ┆           ┆        ┆   ┆ 横浜市瀬  ┆           ┆           ┆ 6-E       │\n",
       "│            ┆            ┆           ┆        ┆   ┆ 谷区二ツ  ┆           ┆           ┆           │\n",
       "│            ┆            ┆           ┆        ┆   ┆ 橋町***** ┆           ┆           ┆           │\n",
       "│            ┆            ┆           ┆        ┆   ┆ *****     ┆           ┆           ┆           │\n",
       "│ CS00841500 ┆ 黒谷 麻緒  ┆ 1         ┆ 女性   ┆ … ┆ 東京都世  ┆ S13008    ┆ 20150829  ┆ F-2010062 │\n",
       "│ 0145       ┆            ┆           ┆        ┆   ┆ 田谷区喜  ┆           ┆           ┆ 2-F       │\n",
       "│            ┆            ┆           ┆        ┆   ┆ 多見***** ┆           ┆           ┆           │\n",
       "│            ┆            ┆           ┆        ┆   ┆ *****     ┆           ┆           ┆           │\n",
       "└────────────┴────────────┴───────────┴────────┴───┴───────────┴───────────┴───────────┴───────────┘"
      ]
     },
     "execution_count": 46,
     "metadata": {},
     "output_type": "execute_result"
    }
   ],
   "source": [
    "df_customer\n",
    "    .clone()\n",
    "    .filter(col(\"status_cd\").str().contains(lit(\"^[A-F]\"), true))\n",
    "    .collect()\n",
    "    .unwrap()\n",
    "    .head(Some(10))"
   ]
  },
  {
   "cell_type": "markdown",
   "metadata": {},
   "source": [
    "---\n",
    "> P-014: 顧客データ（df_customer）から、ステータスコード（status_cd）の末尾が数字の1〜9で終わるデータを全項目抽出し、10件表示せよ。"
   ]
  },
  {
   "cell_type": "code",
   "execution_count": 47,
   "metadata": {
    "vscode": {
     "languageId": "rust"
    }
   },
   "outputs": [
    {
     "data": {
      "text/plain": [
       "shape: (10, 11)\n",
       "┌────────────┬────────────┬───────────┬────────┬───┬───────────┬───────────┬───────────┬───────────┐\n",
       "│ customer_i ┆ customer_n ┆ gender_cd ┆ gender ┆ … ┆ address   ┆ applicati ┆ applicati ┆ status_cd │\n",
       "│ d          ┆ ame        ┆ ---       ┆ ---    ┆   ┆ ---       ┆ on_store_ ┆ on_date   ┆ ---       │\n",
       "│ ---        ┆ ---        ┆ str       ┆ str    ┆   ┆ str       ┆ cd        ┆ ---       ┆ str       │\n",
       "│ str        ┆ str        ┆           ┆        ┆   ┆           ┆ ---       ┆ i64       ┆           │\n",
       "│            ┆            ┆           ┆        ┆   ┆           ┆ str       ┆           ┆           │\n",
       "╞════════════╪════════════╪═══════════╪════════╪═══╪═══════════╪═══════════╪═══════════╪═══════════╡\n",
       "│ CS00121500 ┆ 田崎 美紀  ┆ 1         ┆ 女性   ┆ … ┆ 東京都大  ┆ S13001    ┆ 20170605  ┆ 6-2009092 │\n",
       "│ 0145       ┆            ┆           ┆        ┆   ┆ 田区仲六  ┆           ┆           ┆ 9-2       │\n",
       "│            ┆            ┆           ┆        ┆   ┆ 郷******* ┆           ┆           ┆           │\n",
       "│            ┆            ┆           ┆        ┆   ┆ ***       ┆           ┆           ┆           │\n",
       "│ CS03351300 ┆ 安斎 遥    ┆ 1         ┆ 女性   ┆ … ┆ 神奈川県  ┆ S14033    ┆ 20150728  ┆ 6-2008050 │\n",
       "│ 0180       ┆            ┆           ┆        ┆   ┆ 横浜市旭  ┆           ┆           ┆ 6-5       │\n",
       "│            ┆            ┆           ┆        ┆   ┆ 区善部町* ┆           ┆           ┆           │\n",
       "│            ┆            ┆           ┆        ┆   ┆ ********* ┆           ┆           ┆           │\n",
       "│ CS01121500 ┆ 芦田 沙耶  ┆ 1         ┆ 女性   ┆ … ┆ 神奈川県  ┆ S14011    ┆ 20150228  ┆ C-2010042 │\n",
       "│ 0048       ┆            ┆           ┆        ┆   ┆ 横浜市港  ┆           ┆           ┆ 1-9       │\n",
       "│            ┆            ┆           ┆        ┆   ┆ 北区日吉  ┆           ┆           ┆           │\n",
       "│            ┆            ┆           ┆        ┆   ┆ 本町***** ┆           ┆           ┆           │\n",
       "│            ┆            ┆           ┆        ┆   ┆ *****     ┆           ┆           ┆           │\n",
       "│ CS04041200 ┆ 川井 郁恵  ┆ 1         ┆ 女性   ┆ … ┆ 神奈川県  ┆ S14040    ┆ 20151101  ┆ 1-2009102 │\n",
       "│ 0191       ┆            ┆           ┆        ┆   ┆ 横浜市緑  ┆           ┆           ┆ 5-4       │\n",
       "│            ┆            ┆           ┆        ┆   ┆ 区北八朔  ┆           ┆           ┆           │\n",
       "│            ┆            ┆           ┆        ┆   ┆ 町******* ┆           ┆           ┆           │\n",
       "│            ┆            ┆           ┆        ┆   ┆ ***       ┆           ┆           ┆           │\n",
       "│ …          ┆ …          ┆ …         ┆ …      ┆ … ┆ …         ┆ …         ┆ …         ┆ …         │\n",
       "│ CS02351300 ┆ 神戸 そら  ┆ 1         ┆ 女性   ┆ … ┆ 神奈川県  ┆ S14023    ┆ 20150915  ┆ 5-2010052 │\n",
       "│ 0066       ┆            ┆           ┆        ┆   ┆ 川崎市川  ┆           ┆           ┆ 4-9       │\n",
       "│            ┆            ┆           ┆        ┆   ┆ 崎区東田  ┆           ┆           ┆           │\n",
       "│            ┆            ┆           ┆        ┆   ┆ 町******* ┆           ┆           ┆           │\n",
       "│            ┆            ┆           ┆        ┆   ┆ ***       ┆           ┆           ┆           │\n",
       "│ CS03551300 ┆ 市川 美帆  ┆ 1         ┆ 女性   ┆ … ┆ 東京都世  ┆ S13035    ┆ 20150227  ┆ 8-2010071 │\n",
       "│ 0134       ┆            ┆           ┆        ┆   ┆ 田谷区桜* ┆           ┆           ┆ 1-9       │\n",
       "│            ┆            ┆           ┆        ┆   ┆ ********* ┆           ┆           ┆           │\n",
       "│ CS00151500 ┆ 高松 夏空  ┆ 1         ┆ 女性   ┆ … ┆ 東京都大  ┆ S13001    ┆ 20160812  ┆ 1-2010080 │\n",
       "│ 0263       ┆            ┆           ┆        ┆   ┆ 田区西蒲  ┆           ┆           ┆ 4-1       │\n",
       "│            ┆            ┆           ┆        ┆   ┆ 田******* ┆           ┆           ┆           │\n",
       "│            ┆            ┆           ┆        ┆   ┆ ***       ┆           ┆           ┆           │\n",
       "│ CS04031400 ┆ 鶴田       ┆ 9         ┆ 不明   ┆ … ┆ 神奈川県  ┆ S14040    ┆ 20150122  ┆ 2-2008042 │\n",
       "│ 0027       ┆ きみまろ   ┆           ┆        ┆   ┆ 横浜市緑  ┆           ┆           ┆ 6-4       │\n",
       "│            ┆            ┆           ┆        ┆   ┆ 区長津田* ┆           ┆           ┆           │\n",
       "│            ┆            ┆           ┆        ┆   ┆ ********* ┆           ┆           ┆           │\n",
       "└────────────┴────────────┴───────────┴────────┴───┴───────────┴───────────┴───────────┴───────────┘"
      ]
     },
     "execution_count": 47,
     "metadata": {},
     "output_type": "execute_result"
    }
   ],
   "source": [
    "df_customer\n",
    "    .clone()\n",
    "    .filter(col(\"status_cd\").str().contains(lit(\"[1-9]$\"), true))\n",
    "    .collect()\n",
    "    .unwrap()\n",
    "    .head(Some(10))"
   ]
  },
  {
   "cell_type": "markdown",
   "metadata": {},
   "source": [
    "---\n",
    "> P-015: 顧客データ（df_customer）から、ステータスコード（status_cd）の先頭がアルファベットのA〜Fで始まり、末尾が数字の1〜9で終わるデータを全項目抽出し、10件表示せよ。"
   ]
  },
  {
   "cell_type": "code",
   "execution_count": 48,
   "metadata": {
    "vscode": {
     "languageId": "rust"
    }
   },
   "outputs": [
    {
     "data": {
      "text/plain": [
       "shape: (10, 11)\n",
       "┌────────────┬────────────┬───────────┬────────┬───┬───────────┬───────────┬───────────┬───────────┐\n",
       "│ customer_i ┆ customer_n ┆ gender_cd ┆ gender ┆ … ┆ address   ┆ applicati ┆ applicati ┆ status_cd │\n",
       "│ d          ┆ ame        ┆ ---       ┆ ---    ┆   ┆ ---       ┆ on_store_ ┆ on_date   ┆ ---       │\n",
       "│ ---        ┆ ---        ┆ str       ┆ str    ┆   ┆ str       ┆ cd        ┆ ---       ┆ str       │\n",
       "│ str        ┆ str        ┆           ┆        ┆   ┆           ┆ ---       ┆ i64       ┆           │\n",
       "│            ┆            ┆           ┆        ┆   ┆           ┆ str       ┆           ┆           │\n",
       "╞════════════╪════════════╪═══════════╪════════╪═══╪═══════════╪═══════════╪═══════════╪═══════════╡\n",
       "│ CS01121500 ┆ 芦田 沙耶  ┆ 1         ┆ 女性   ┆ … ┆ 神奈川県  ┆ S14011    ┆ 20150228  ┆ C-2010042 │\n",
       "│ 0048       ┆            ┆           ┆        ┆   ┆ 横浜市港  ┆           ┆           ┆ 1-9       │\n",
       "│            ┆            ┆           ┆        ┆   ┆ 北区日吉  ┆           ┆           ┆           │\n",
       "│            ┆            ┆           ┆        ┆   ┆ 本町***** ┆           ┆           ┆           │\n",
       "│            ┆            ┆           ┆        ┆   ┆ *****     ┆           ┆           ┆           │\n",
       "│ CS02251300 ┆ 島村       ┆ 1         ┆ 女性   ┆ … ┆ 神奈川県  ┆ S14022    ┆ 20150320  ┆ A-2009111 │\n",
       "│ 0105       ┆ 貴美子     ┆           ┆        ┆   ┆ 逗子市山  ┆           ┆           ┆ 5-7       │\n",
       "│            ┆            ┆           ┆        ┆   ┆ の根***** ┆           ┆           ┆           │\n",
       "│            ┆            ┆           ┆        ┆   ┆ *****     ┆           ┆           ┆           │\n",
       "│ CS00151500 ┆ 水野 陽子  ┆ 9         ┆ 不明   ┆ … ┆ 東京都大  ┆ S13001    ┆ 20150614  ┆ A-2010072 │\n",
       "│ 0096       ┆            ┆           ┆        ┆   ┆ 田区蒲田  ┆           ┆           ┆ 4-7       │\n",
       "│            ┆            ┆           ┆        ┆   ┆ 本町***** ┆           ┆           ┆           │\n",
       "│            ┆            ┆           ┆        ┆   ┆ *****     ┆           ┆           ┆           │\n",
       "│ CS01361500 ┆ 西脇 季衣  ┆ 1         ┆ 女性   ┆ … ┆ 千葉県千  ┆ S12013    ┆ 20150128  ┆ B-2010032 │\n",
       "│ 0053       ┆            ┆           ┆        ┆   ┆ 葉市美浜  ┆           ┆           ┆ 9-6       │\n",
       "│            ┆            ┆           ┆        ┆   ┆ 区幕張西* ┆           ┆           ┆           │\n",
       "│            ┆            ┆           ┆        ┆   ┆ ********* ┆           ┆           ┆           │\n",
       "│ …          ┆ …          ┆ …         ┆ …      ┆ … ┆ …         ┆ …         ┆ …         ┆ …         │\n",
       "│ CS03521200 ┆ 内村       ┆ 1         ┆ 女性   ┆ … ┆ 東京都目  ┆ S13035    ┆ 20151013  ┆ B-2010101 │\n",
       "│ 0007       ┆ 恵梨香     ┆           ┆        ┆   ┆ 黒区八雲* ┆           ┆           ┆ 8-6       │\n",
       "│            ┆            ┆           ┆        ┆   ┆ ********* ┆           ┆           ┆           │\n",
       "│ CS00251500 ┆ 野田 コウ  ┆ 1         ┆ 女性   ┆ … ┆ 東京都国  ┆ S13002    ┆ 20160410  ┆ C-2010012 │\n",
       "│ 0386       ┆            ┆           ┆        ┆   ┆ 分寺市西  ┆           ┆           ┆ 7-8       │\n",
       "│            ┆            ┆           ┆        ┆   ┆ 恋ケ窪*** ┆           ┆           ┆           │\n",
       "│            ┆            ┆           ┆        ┆   ┆ *******   ┆           ┆           ┆           │\n",
       "│ CS00161500 ┆ 稲垣       ┆ 1         ┆ 女性   ┆ … ┆ 東京都大  ┆ S13001    ┆ 20170403  ┆ A-2010010 │\n",
       "│ 0372       ┆ 寿々花     ┆           ┆        ┆   ┆ 田区南蒲  ┆           ┆           ┆ 4-1       │\n",
       "│            ┆            ┆           ┆        ┆   ┆ 田******* ┆           ┆           ┆           │\n",
       "│            ┆            ┆           ┆        ┆   ┆ ***       ┆           ┆           ┆           │\n",
       "│ CS03251200 ┆ 松井 知世  ┆ 1         ┆ 女性   ┆ … ┆ 神奈川県  ┆ S13032    ┆ 20150727  ┆ A-2010010 │\n",
       "│ 0121       ┆            ┆           ┆        ┆   ┆ 川崎市川  ┆           ┆           ┆ 3-5       │\n",
       "│            ┆            ┆           ┆        ┆   ┆ 崎区富士  ┆           ┆           ┆           │\n",
       "│            ┆            ┆           ┆        ┆   ┆ 見******* ┆           ┆           ┆           │\n",
       "│            ┆            ┆           ┆        ┆   ┆ ***       ┆           ┆           ┆           │\n",
       "└────────────┴────────────┴───────────┴────────┴───┴───────────┴───────────┴───────────┴───────────┘"
      ]
     },
     "execution_count": 48,
     "metadata": {},
     "output_type": "execute_result"
    }
   ],
   "source": [
    "df_customer\n",
    "    .clone()\n",
    "    .filter(col(\"status_cd\").str().contains(lit(\"^[A-F].*[0-9]$\"), true))\n",
    "    .collect()\n",
    "    .unwrap()\n",
    "    .head(Some(10))"
   ]
  },
  {
   "cell_type": "markdown",
   "metadata": {},
   "source": [
    "---\n",
    "> P-016: 店舗データ（df_store）から、電話番号（tel_no）が3桁-3桁-4桁のデータを全項目表示せよ。"
   ]
  },
  {
   "cell_type": "code",
   "execution_count": 49,
   "metadata": {
    "vscode": {
     "languageId": "rust"
    }
   },
   "outputs": [
    {
     "data": {
      "text/plain": [
       "shape: (34, 10)\n",
       "┌──────────┬────────────┬───────────┬───────────┬───┬───────────┬───────────┬──────────┬───────────┐\n",
       "│ store_cd ┆ store_name ┆ prefectur ┆ prefectur ┆ … ┆ tel_no    ┆ longitude ┆ latitude ┆ floor_are │\n",
       "│ ---      ┆ ---        ┆ e_cd      ┆ e         ┆   ┆ ---       ┆ ---       ┆ ---      ┆ a         │\n",
       "│ str      ┆ str        ┆ ---       ┆ ---       ┆   ┆ str       ┆ f64       ┆ f64      ┆ ---       │\n",
       "│          ┆            ┆ str       ┆ str       ┆   ┆           ┆           ┆          ┆ f64       │\n",
       "╞══════════╪════════════╪═══════════╪═══════════╪═══╪═══════════╪═══════════╪══════════╪═══════════╡\n",
       "│ S12014   ┆ 千草台店   ┆ 12        ┆ 千葉県    ┆ … ┆ 043-123-4 ┆ 140.118   ┆ 35.63559 ┆ 1698.0    │\n",
       "│          ┆            ┆           ┆           ┆   ┆ 003       ┆           ┆          ┆           │\n",
       "│ S13002   ┆ 国分寺店   ┆ 13        ┆ 東京都    ┆ … ┆ 042-123-4 ┆ 139.4802  ┆ 35.70566 ┆ 1735.0    │\n",
       "│          ┆            ┆           ┆           ┆   ┆ 008       ┆           ┆          ┆           │\n",
       "│ S14010   ┆ 菊名店     ┆ 14        ┆ 神奈川県  ┆ … ┆ 045-123-4 ┆ 139.6326  ┆ 35.50049 ┆ 1732.0    │\n",
       "│          ┆            ┆           ┆           ┆   ┆ 032       ┆           ┆          ┆           │\n",
       "│ S14033   ┆ 阿久和店   ┆ 14        ┆ 神奈川県  ┆ … ┆ 045-123-4 ┆ 139.4961  ┆ 35.45918 ┆ 1495.0    │\n",
       "│          ┆            ┆           ┆           ┆   ┆ 043       ┆           ┆          ┆           │\n",
       "│ …        ┆ …          ┆ …         ┆ …         ┆ … ┆ …         ┆ …         ┆ …        ┆ …         │\n",
       "│ S12029   ┆ 東野店     ┆ 12        ┆ 千葉県    ┆ … ┆ 047-123-4 ┆ 139.8968  ┆ 35.65086 ┆ 1101.0    │\n",
       "│          ┆            ┆           ┆           ┆   ┆ 004       ┆           ┆          ┆           │\n",
       "│ S12053   ┆ 高洲店     ┆ 12        ┆ 千葉県    ┆ … ┆ 047-123-4 ┆ 139.9176  ┆ 35.63755 ┆ 1555.0    │\n",
       "│          ┆            ┆           ┆           ┆   ┆ 006       ┆           ┆          ┆           │\n",
       "│ S14024   ┆ 三田店     ┆ 14        ┆ 神奈川県  ┆ … ┆ 044-123-4 ┆ 139.5424  ┆ 35.6077  ┆ 972.0     │\n",
       "│          ┆            ┆           ┆           ┆   ┆ 038       ┆           ┆          ┆           │\n",
       "│ S14006   ┆ 葛が谷店   ┆ 14        ┆ 神奈川県  ┆ … ┆ 045-123-4 ┆ 139.5633  ┆ 35.53573 ┆ 1886.0    │\n",
       "│          ┆            ┆           ┆           ┆   ┆ 031       ┆           ┆          ┆           │\n",
       "└──────────┴────────────┴───────────┴───────────┴───┴───────────┴───────────┴──────────┴───────────┘"
      ]
     },
     "execution_count": 49,
     "metadata": {},
     "output_type": "execute_result"
    }
   ],
   "source": [
    "df_store\n",
    "    .clone()\n",
    "    .filter(\n",
    "        col(\"tel_no\")\n",
    "            .str()\n",
    "            .contains(lit(r\"\\d{3}-\\d{3}-\\d{4}\"), true)\n",
    "    )\n",
    "    .collect()\n",
    "    .unwrap()"
   ]
  },
  {
   "cell_type": "markdown",
   "metadata": {},
   "source": [
    "---\n",
    "> P-017: 顧客データ（df_customer）を生年月日（birth_day）で高齢順にソートし、先頭から全項目を10件表示せよ。"
   ]
  },
  {
   "cell_type": "code",
   "execution_count": 50,
   "metadata": {
    "vscode": {
     "languageId": "rust"
    }
   },
   "outputs": [
    {
     "data": {
      "text/plain": [
       "shape: (10, 11)\n",
       "┌────────────┬────────────┬───────────┬────────┬───┬───────────┬───────────┬───────────┬───────────┐\n",
       "│ customer_i ┆ customer_n ┆ gender_cd ┆ gender ┆ … ┆ address   ┆ applicati ┆ applicati ┆ status_cd │\n",
       "│ d          ┆ ame        ┆ ---       ┆ ---    ┆   ┆ ---       ┆ on_store_ ┆ on_date   ┆ ---       │\n",
       "│ ---        ┆ ---        ┆ str       ┆ str    ┆   ┆ str       ┆ cd        ┆ ---       ┆ str       │\n",
       "│ str        ┆ str        ┆           ┆        ┆   ┆           ┆ ---       ┆ i64       ┆           │\n",
       "│            ┆            ┆           ┆        ┆   ┆           ┆ str       ┆           ┆           │\n",
       "╞════════════╪════════════╪═══════════╪════════╪═══╪═══════════╪═══════════╪═══════════╪═══════════╡\n",
       "│ CS00381300 ┆ 村山       ┆ 1         ┆ 女性   ┆ … ┆ 東京都調  ┆ S13003    ┆ 20160214  ┆ 0-0000000 │\n",
       "│ 0014       ┆ 菜々美     ┆           ┆        ┆   ┆ 布市菊野  ┆           ┆           ┆ 0-0       │\n",
       "│            ┆            ┆           ┆        ┆   ┆ 台******* ┆           ┆           ┆           │\n",
       "│            ┆            ┆           ┆        ┆   ┆ ***       ┆           ┆           ┆           │\n",
       "│ CS02681300 ┆ 吉村 朝陽  ┆ 1         ┆ 女性   ┆ … ┆ 神奈川県  ┆ S14026    ┆ 20150723  ┆ 0-0000000 │\n",
       "│ 0004       ┆            ┆           ┆        ┆   ┆ 藤沢市辻  ┆           ┆           ┆ 0-0       │\n",
       "│            ┆            ┆           ┆        ┆   ┆ 堂元町*** ┆           ┆           ┆           │\n",
       "│            ┆            ┆           ┆        ┆   ┆ *******   ┆           ┆           ┆           │\n",
       "│ CS01881100 ┆ 熊沢 美里  ┆ 1         ┆ 女性   ┆ … ┆ 東京都清  ┆ S13018    ┆ 20150403  ┆ 0-0000000 │\n",
       "│ 0003       ┆            ┆           ┆        ┆   ┆ 瀬市野塩* ┆           ┆           ┆ 0-0       │\n",
       "│            ┆            ┆           ┆        ┆   ┆ ********* ┆           ┆           ┆           │\n",
       "│ CS02780300 ┆ 内村 拓郎  ┆ 0         ┆ 男性   ┆ … ┆ 神奈川県  ┆ S14027    ┆ 20151227  ┆ 0-0000000 │\n",
       "│ 0004       ┆            ┆           ┆        ┆   ┆ 藤沢市鵠  ┆           ┆           ┆ 0-0       │\n",
       "│            ┆            ┆           ┆        ┆   ┆ 沼藤が谷* ┆           ┆           ┆           │\n",
       "│            ┆            ┆           ┆        ┆   ┆ ********* ┆           ┆           ┆           │\n",
       "│ …          ┆ …          ┆ …         ┆ …      ┆ … ┆ …         ┆ …         ┆ …         ┆ …         │\n",
       "│ CS01681500 ┆ 山元 美紀  ┆ 1         ┆ 女性   ┆ … ┆ 東京都小  ┆ S13016    ┆ 20150629  ┆ C-2009092 │\n",
       "│ 0002       ┆            ┆           ┆        ┆   ┆ 金井市桜  ┆           ┆           ┆ 3-C       │\n",
       "│            ┆            ┆           ┆        ┆   ┆ 町******* ┆           ┆           ┆           │\n",
       "│            ┆            ┆           ┆        ┆   ┆ ***       ┆           ┆           ┆           │\n",
       "│ CS00981500 ┆ 中田 里穂  ┆ 1         ┆ 女性   ┆ … ┆ 東京都世  ┆ S13009    ┆ 20150421  ┆ D-2009102 │\n",
       "│ 0003       ┆            ┆           ┆        ┆   ┆ 田谷区新  ┆           ┆           ┆ 1-E       │\n",
       "│            ┆            ┆           ┆        ┆   ┆ 町******* ┆           ┆           ┆           │\n",
       "│            ┆            ┆           ┆        ┆   ┆ ***       ┆           ┆           ┆           │\n",
       "│ CS01281300 ┆ 宇野 南朋  ┆ 1         ┆ 女性   ┆ … ┆ 神奈川県  ┆ S14012    ┆ 20150712  ┆ 0-0000000 │\n",
       "│ 0013       ┆            ┆           ┆        ┆   ┆ 横浜市中  ┆           ┆           ┆ 0-0       │\n",
       "│            ┆            ┆           ┆        ┆   ┆ 区本牧町* ┆           ┆           ┆           │\n",
       "│            ┆            ┆           ┆        ┆   ┆ ********* ┆           ┆           ┆           │\n",
       "│ CS00581300 ┆ 金谷       ┆ 1         ┆ 女性   ┆ … ┆ 東京都中  ┆ S13005    ┆ 20150506  ┆ 0-0000000 │\n",
       "│ 0015       ┆ 恵梨香     ┆           ┆        ┆   ┆ 野区鷺宮* ┆           ┆           ┆ 0-0       │\n",
       "│            ┆            ┆           ┆        ┆   ┆ ********* ┆           ┆           ┆           │\n",
       "└────────────┴────────────┴───────────┴────────┴───┴───────────┴───────────┴───────────┴───────────┘"
      ]
     },
     "execution_count": 50,
     "metadata": {},
     "output_type": "execute_result"
    }
   ],
   "source": [
    "df_customer\n",
    "    .clone()\n",
    "    .sort(\n",
    "        \"birth_day\",\n",
    "        SortOptions {\n",
    "            descending: false,\n",
    "            nulls_last: true,\n",
    "            multithreaded: true,\n",
    "            maintain_order: true,\n",
    "        }\n",
    "    )\n",
    "    .collect()\n",
    "    .unwrap()\n",
    "    .head(Some(10))"
   ]
  },
  {
   "cell_type": "markdown",
   "metadata": {},
   "source": [
    "---\n",
    "> P-018: 顧客データ（df_customer）を生年月日（birth_day）で若い順にソートし、先頭から全項目を10件表示せよ。"
   ]
  },
  {
   "cell_type": "code",
   "execution_count": 51,
   "metadata": {
    "vscode": {
     "languageId": "rust"
    }
   },
   "outputs": [
    {
     "data": {
      "text/plain": [
       "shape: (10, 10)\n",
       "┌──────────┬────────────┬───────────┬───────────┬───┬───────────┬───────────┬──────────┬───────────┐\n",
       "│ store_cd ┆ store_name ┆ prefectur ┆ prefectur ┆ … ┆ tel_no    ┆ longitude ┆ latitude ┆ floor_are │\n",
       "│ ---      ┆ ---        ┆ e_cd      ┆ e         ┆   ┆ ---       ┆ ---       ┆ ---      ┆ a         │\n",
       "│ str      ┆ str        ┆ ---       ┆ ---       ┆   ┆ str       ┆ f64       ┆ f64      ┆ ---       │\n",
       "│          ┆            ┆ str       ┆ str       ┆   ┆           ┆           ┆          ┆ f64       │\n",
       "╞══════════╪════════════╪═══════════╪═══════════╪═══╪═══════════╪═══════════╪══════════╪═══════════╡\n",
       "│ S14010   ┆ 菊名店     ┆ 14        ┆ 神奈川県  ┆ … ┆ 045-123-4 ┆ 139.6326  ┆ 35.50049 ┆ 1732.0    │\n",
       "│          ┆            ┆           ┆           ┆   ┆ 032       ┆           ┆          ┆           │\n",
       "│ S14033   ┆ 阿久和店   ┆ 14        ┆ 神奈川県  ┆ … ┆ 045-123-4 ┆ 139.4961  ┆ 35.45918 ┆ 1495.0    │\n",
       "│          ┆            ┆           ┆           ┆   ┆ 043       ┆           ┆          ┆           │\n",
       "│ S14036   ┆ 相模原中央 ┆ 14        ┆ 神奈川県  ┆ … ┆ 042-123-4 ┆ 139.3716  ┆ 35.57327 ┆ 1679.0    │\n",
       "│          ┆ 店         ┆           ┆           ┆   ┆ 045       ┆           ┆          ┆           │\n",
       "│ S14040   ┆ 長津田店   ┆ 14        ┆ 神奈川県  ┆ … ┆ 045-123-4 ┆ 139.4994  ┆ 35.52398 ┆ 1548.0    │\n",
       "│          ┆            ┆           ┆           ┆   ┆ 046       ┆           ┆          ┆           │\n",
       "│ …        ┆ …          ┆ …         ┆ …         ┆ … ┆ …         ┆ …         ┆ …        ┆ …         │\n",
       "│ S14012   ┆ 本牧和田店 ┆ 14        ┆ 神奈川県  ┆ … ┆ 045-123-4 ┆ 139.6582  ┆ 35.42156 ┆ 1341.0    │\n",
       "│          ┆            ┆           ┆           ┆   ┆ 034       ┆           ┆          ┆           │\n",
       "│ S14046   ┆ 北山田店   ┆ 14        ┆ 神奈川県  ┆ … ┆ 045-123-4 ┆ 139.5916  ┆ 35.56189 ┆ 831.0     │\n",
       "│          ┆            ┆           ┆           ┆   ┆ 049       ┆           ┆          ┆           │\n",
       "│ S14022   ┆ 逗子店     ┆ 14        ┆ 神奈川県  ┆ … ┆ 046-123-4 ┆ 139.5789  ┆ 35.29642 ┆ 1838.0    │\n",
       "│          ┆            ┆           ┆           ┆   ┆ 036       ┆           ┆          ┆           │\n",
       "│ S14011   ┆ 日吉本町店 ┆ 14        ┆ 神奈川県  ┆ … ┆ 045-123-4 ┆ 139.6316  ┆ 35.54655 ┆ 890.0     │\n",
       "│          ┆            ┆           ┆           ┆   ┆ 033       ┆           ┆          ┆           │\n",
       "└──────────┴────────────┴───────────┴───────────┴───┴───────────┴───────────┴──────────┴───────────┘"
      ]
     },
     "execution_count": 51,
     "metadata": {},
     "output_type": "execute_result"
    }
   ],
   "source": [
    "df_store\n",
    "    .clone()\n",
    "    .filter(col(\"store_cd\").str().starts_with(lit(\"S14\")))\n",
    "    .collect()\n",
    "    .unwrap()\n",
    "    .head(Some(10))"
   ]
  },
  {
   "cell_type": "markdown",
   "metadata": {},
   "source": [
    "---\n",
    "> P-019: レシート明細データ（df_receipt）に対し、1件あたりの売上金額（amount）が高い順にランクを付与し、先頭から10件表示せよ。項目は顧客ID（customer_id）、売上金額（amount）、付与したランクを表示させること。なお、売上金額（amount）が等しい場合は同一順位を付与するものとする。"
   ]
  },
  {
   "cell_type": "code",
   "execution_count": 52,
   "metadata": {
    "vscode": {
     "languageId": "rust"
    }
   },
   "outputs": [
    {
     "data": {
      "text/plain": [
       "shape: (10, 10)\n",
       "┌──────────┬────────────┬───────────┬───────────┬───┬───────────┬───────────┬──────────┬───────────┐\n",
       "│ store_cd ┆ store_name ┆ prefectur ┆ prefectur ┆ … ┆ tel_no    ┆ longitude ┆ latitude ┆ floor_are │\n",
       "│ ---      ┆ ---        ┆ e_cd      ┆ e         ┆   ┆ ---       ┆ ---       ┆ ---      ┆ a         │\n",
       "│ str      ┆ str        ┆ ---       ┆ ---       ┆   ┆ str       ┆ f64       ┆ f64      ┆ ---       │\n",
       "│          ┆            ┆ str       ┆ str       ┆   ┆           ┆           ┆          ┆ f64       │\n",
       "╞══════════╪════════════╪═══════════╪═══════════╪═══╪═══════════╪═══════════╪══════════╪═══════════╡\n",
       "│ S14010   ┆ 菊名店     ┆ 14        ┆ 神奈川県  ┆ … ┆ 045-123-4 ┆ 139.6326  ┆ 35.50049 ┆ 1732.0    │\n",
       "│          ┆            ┆           ┆           ┆   ┆ 032       ┆           ┆          ┆           │\n",
       "│ S14033   ┆ 阿久和店   ┆ 14        ┆ 神奈川県  ┆ … ┆ 045-123-4 ┆ 139.4961  ┆ 35.45918 ┆ 1495.0    │\n",
       "│          ┆            ┆           ┆           ┆   ┆ 043       ┆           ┆          ┆           │\n",
       "│ S14036   ┆ 相模原中央 ┆ 14        ┆ 神奈川県  ┆ … ┆ 042-123-4 ┆ 139.3716  ┆ 35.57327 ┆ 1679.0    │\n",
       "│          ┆ 店         ┆           ┆           ┆   ┆ 045       ┆           ┆          ┆           │\n",
       "│ S14040   ┆ 長津田店   ┆ 14        ┆ 神奈川県  ┆ … ┆ 045-123-4 ┆ 139.4994  ┆ 35.52398 ┆ 1548.0    │\n",
       "│          ┆            ┆           ┆           ┆   ┆ 046       ┆           ┆          ┆           │\n",
       "│ …        ┆ …          ┆ …         ┆ …         ┆ … ┆ …         ┆ …         ┆ …        ┆ …         │\n",
       "│ S14012   ┆ 本牧和田店 ┆ 14        ┆ 神奈川県  ┆ … ┆ 045-123-4 ┆ 139.6582  ┆ 35.42156 ┆ 1341.0    │\n",
       "│          ┆            ┆           ┆           ┆   ┆ 034       ┆           ┆          ┆           │\n",
       "│ S14046   ┆ 北山田店   ┆ 14        ┆ 神奈川県  ┆ … ┆ 045-123-4 ┆ 139.5916  ┆ 35.56189 ┆ 831.0     │\n",
       "│          ┆            ┆           ┆           ┆   ┆ 049       ┆           ┆          ┆           │\n",
       "│ S14022   ┆ 逗子店     ┆ 14        ┆ 神奈川県  ┆ … ┆ 046-123-4 ┆ 139.5789  ┆ 35.29642 ┆ 1838.0    │\n",
       "│          ┆            ┆           ┆           ┆   ┆ 036       ┆           ┆          ┆           │\n",
       "│ S14011   ┆ 日吉本町店 ┆ 14        ┆ 神奈川県  ┆ … ┆ 045-123-4 ┆ 139.6316  ┆ 35.54655 ┆ 890.0     │\n",
       "│          ┆            ┆           ┆           ┆   ┆ 033       ┆           ┆          ┆           │\n",
       "└──────────┴────────────┴───────────┴───────────┴───┴───────────┴───────────┴──────────┴───────────┘"
      ]
     },
     "execution_count": 52,
     "metadata": {},
     "output_type": "execute_result"
    }
   ],
   "source": [
    "df_store\n",
    "    .clone()\n",
    "    .filter(col(\"store_cd\").str().starts_with(lit(\"S14\")))\n",
    "    .collect()\n",
    "    .unwrap()\n",
    "    .head(Some(10))"
   ]
  },
  {
   "cell_type": "markdown",
   "metadata": {},
   "source": [
    "---\n",
    "> P-020: レシート明細データ（df_receipt）に対し、1件あたりの売上金額（amount）が高い順にランクを付与し、先頭から10件表示せよ。項目は顧客ID（customer_id）、売上金額（amount）、付与したランクを表示させること。なお、売上金額（amount）が等しい場合でも別順位を付与すること。"
   ]
  },
  {
   "cell_type": "code",
   "execution_count": 53,
   "metadata": {
    "vscode": {
     "languageId": "rust"
    }
   },
   "outputs": [
    {
     "data": {
      "text/plain": [
       "shape: (10, 10)\n",
       "┌──────────┬────────────┬───────────┬───────────┬───┬───────────┬───────────┬──────────┬───────────┐\n",
       "│ store_cd ┆ store_name ┆ prefectur ┆ prefectur ┆ … ┆ tel_no    ┆ longitude ┆ latitude ┆ floor_are │\n",
       "│ ---      ┆ ---        ┆ e_cd      ┆ e         ┆   ┆ ---       ┆ ---       ┆ ---      ┆ a         │\n",
       "│ str      ┆ str        ┆ ---       ┆ ---       ┆   ┆ str       ┆ f64       ┆ f64      ┆ ---       │\n",
       "│          ┆            ┆ str       ┆ str       ┆   ┆           ┆           ┆          ┆ f64       │\n",
       "╞══════════╪════════════╪═══════════╪═══════════╪═══╪═══════════╪═══════════╪══════════╪═══════════╡\n",
       "│ S14010   ┆ 菊名店     ┆ 14        ┆ 神奈川県  ┆ … ┆ 045-123-4 ┆ 139.6326  ┆ 35.50049 ┆ 1732.0    │\n",
       "│          ┆            ┆           ┆           ┆   ┆ 032       ┆           ┆          ┆           │\n",
       "│ S14033   ┆ 阿久和店   ┆ 14        ┆ 神奈川県  ┆ … ┆ 045-123-4 ┆ 139.4961  ┆ 35.45918 ┆ 1495.0    │\n",
       "│          ┆            ┆           ┆           ┆   ┆ 043       ┆           ┆          ┆           │\n",
       "│ S14036   ┆ 相模原中央 ┆ 14        ┆ 神奈川県  ┆ … ┆ 042-123-4 ┆ 139.3716  ┆ 35.57327 ┆ 1679.0    │\n",
       "│          ┆ 店         ┆           ┆           ┆   ┆ 045       ┆           ┆          ┆           │\n",
       "│ S14040   ┆ 長津田店   ┆ 14        ┆ 神奈川県  ┆ … ┆ 045-123-4 ┆ 139.4994  ┆ 35.52398 ┆ 1548.0    │\n",
       "│          ┆            ┆           ┆           ┆   ┆ 046       ┆           ┆          ┆           │\n",
       "│ …        ┆ …          ┆ …         ┆ …         ┆ … ┆ …         ┆ …         ┆ …        ┆ …         │\n",
       "│ S14012   ┆ 本牧和田店 ┆ 14        ┆ 神奈川県  ┆ … ┆ 045-123-4 ┆ 139.6582  ┆ 35.42156 ┆ 1341.0    │\n",
       "│          ┆            ┆           ┆           ┆   ┆ 034       ┆           ┆          ┆           │\n",
       "│ S14046   ┆ 北山田店   ┆ 14        ┆ 神奈川県  ┆ … ┆ 045-123-4 ┆ 139.5916  ┆ 35.56189 ┆ 831.0     │\n",
       "│          ┆            ┆           ┆           ┆   ┆ 049       ┆           ┆          ┆           │\n",
       "│ S14022   ┆ 逗子店     ┆ 14        ┆ 神奈川県  ┆ … ┆ 046-123-4 ┆ 139.5789  ┆ 35.29642 ┆ 1838.0    │\n",
       "│          ┆            ┆           ┆           ┆   ┆ 036       ┆           ┆          ┆           │\n",
       "│ S14011   ┆ 日吉本町店 ┆ 14        ┆ 神奈川県  ┆ … ┆ 045-123-4 ┆ 139.6316  ┆ 35.54655 ┆ 890.0     │\n",
       "│          ┆            ┆           ┆           ┆   ┆ 033       ┆           ┆          ┆           │\n",
       "└──────────┴────────────┴───────────┴───────────┴───┴───────────┴───────────┴──────────┴───────────┘"
      ]
     },
     "execution_count": 53,
     "metadata": {},
     "output_type": "execute_result"
    }
   ],
   "source": [
    "df_store\n",
    "    .clone()\n",
    "    .filter(col(\"store_cd\").str().starts_with(lit(\"S14\")))\n",
    "    .collect()\n",
    "    .unwrap()\n",
    "    .head(Some(10))"
   ]
  },
  {
   "cell_type": "markdown",
   "metadata": {},
   "source": [
    "---\n",
    "> P-021: レシート明細データ（df_receipt）に対し、件数をカウントせよ。"
   ]
  },
  {
   "cell_type": "code",
   "execution_count": 54,
   "metadata": {
    "vscode": {
     "languageId": "rust"
    }
   },
   "outputs": [
    {
     "data": {
      "text/plain": [
       "104681"
      ]
     },
     "execution_count": 54,
     "metadata": {},
     "output_type": "execute_result"
    }
   ],
   "source": [
    "df_receipt\n",
    "    .clone()\n",
    "    .collect()\n",
    "    .unwrap()\n",
    "    .height()"
   ]
  },
  {
   "cell_type": "markdown",
   "metadata": {},
   "source": [
    "---\n",
    "> P-022: レシート明細データ（df_receipt）の顧客ID（customer_id）に対し、ユニーク件数をカウントせよ。"
   ]
  },
  {
   "cell_type": "code",
   "execution_count": 55,
   "metadata": {
    "vscode": {
     "languageId": "rust"
    }
   },
   "outputs": [
    {
     "data": {
      "text/plain": [
       "shape: (1, 1)\n",
       "┌─────────────┐\n",
       "│ customer_id │\n",
       "│ ---         │\n",
       "│ u32         │\n",
       "╞═════════════╡\n",
       "│ 8307        │\n",
       "└─────────────┘"
      ]
     },
     "execution_count": 55,
     "metadata": {},
     "output_type": "execute_result"
    }
   ],
   "source": [
    "df_receipt\n",
    "    .clone()\n",
    "    .select([col(\"customer_id\").n_unique()])\n",
    "    .collect()\n",
    "    .unwrap()\n",
    "    "
   ]
  },
  {
   "cell_type": "markdown",
   "metadata": {},
   "source": [
    "---\n",
    "> P-023: レシート明細データ（df_receipt）に対し、店舗コード（store_cd）ごとに売上金額（amount）と売上数量（quantity）を合計せよ。"
   ]
  },
  {
   "cell_type": "code",
   "execution_count": 56,
   "metadata": {
    "vscode": {
     "languageId": "rust"
    }
   },
   "outputs": [
    {
     "data": {
      "text/plain": [
       "shape: (52, 3)\n",
       "┌──────────┬────────┬──────────┐\n",
       "│ store_cd ┆ amount ┆ quantity │\n",
       "│ ---      ┆ ---    ┆ ---      │\n",
       "│ str      ┆ i64    ┆ i64      │\n",
       "╞══════════╪════════╪══════════╡\n",
       "│ S12007   ┆ 638761 ┆ 2099     │\n",
       "│ S12013   ┆ 787513 ┆ 2425     │\n",
       "│ S12014   ┆ 725167 ┆ 2358     │\n",
       "│ S12029   ┆ 794741 ┆ 2555     │\n",
       "│ …        ┆ …      ┆ …        │\n",
       "│ S14047   ┆ 338329 ┆ 1041     │\n",
       "│ S14048   ┆ 234276 ┆ 769      │\n",
       "│ S14049   ┆ 230808 ┆ 788      │\n",
       "│ S14050   ┆ 167090 ┆ 580      │\n",
       "└──────────┴────────┴──────────┘"
      ]
     },
     "execution_count": 56,
     "metadata": {},
     "output_type": "execute_result"
    }
   ],
   "source": [
    "df_receipt\n",
    "    .clone()\n",
    "    .groupby([\"store_cd\"])\n",
    "    .agg([col(\"amount\").sum(), col(\"quantity\").sum()])\n",
    "    .sort(\"store_cd\", SortOptions{descending: (false), nulls_last: (true), multithreaded: (true), maintain_order: (true)})\n",
    "    .collect()\n",
    "    .unwrap()"
   ]
  },
  {
   "cell_type": "markdown",
   "metadata": {},
   "source": [
    "---\n",
    "> P-024: レシート明細データ（df_receipt）に対し、顧客ID（customer_id）ごとに最も新しい売上年月日（sales_ymd）を求め、10件表示せよ。"
   ]
  },
  {
   "cell_type": "code",
   "execution_count": 57,
   "metadata": {
    "vscode": {
     "languageId": "rust"
    }
   },
   "outputs": [
    {
     "data": {
      "text/plain": [
       "shape: (10, 2)\n",
       "┌────────────────┬───────────┐\n",
       "│ customer_id    ┆ sales_ymd │\n",
       "│ ---            ┆ ---       │\n",
       "│ str            ┆ i64       │\n",
       "╞════════════════╪═══════════╡\n",
       "│ CS001113000004 ┆ 20190308  │\n",
       "│ CS001114000005 ┆ 20190731  │\n",
       "│ CS001115000010 ┆ 20190405  │\n",
       "│ CS001205000004 ┆ 20190625  │\n",
       "│ …              ┆ …         │\n",
       "│ CS001212000027 ┆ 20170127  │\n",
       "│ CS001212000031 ┆ 20180906  │\n",
       "│ CS001212000046 ┆ 20170811  │\n",
       "│ CS001212000070 ┆ 20191018  │\n",
       "└────────────────┴───────────┘"
      ]
     },
     "execution_count": 57,
     "metadata": {},
     "output_type": "execute_result"
    }
   ],
   "source": [
    "df_receipt\n",
    "    .clone()\n",
    "    .groupby([\"customer_id\"])\n",
    "    .agg([col(\"sales_ymd\").max()])\n",
    "    .sort(\"customer_id\", SortOptions{descending: (false), nulls_last: (true), multithreaded: (true),maintain_order: true,})\n",
    "    .collect()\n",
    "    .unwrap()\n",
    "    .head(Some(10))\n"
   ]
  },
  {
   "cell_type": "markdown",
   "metadata": {},
   "source": [
    "---\n",
    "> P-025: レシート明細データ（df_receipt）に対し、顧客ID（customer_id）ごとに最も古い売上年月日（sales_ymd）を求め、10件表示せよ。"
   ]
  },
  {
   "cell_type": "code",
   "execution_count": 58,
   "metadata": {
    "vscode": {
     "languageId": "rust"
    }
   },
   "outputs": [
    {
     "data": {
      "text/plain": [
       "shape: (10, 2)\n",
       "┌────────────────┬───────────┐\n",
       "│ customer_id    ┆ sales_ymd │\n",
       "│ ---            ┆ ---       │\n",
       "│ str            ┆ i64       │\n",
       "╞════════════════╪═══════════╡\n",
       "│ CS001113000004 ┆ 20190308  │\n",
       "│ CS001114000005 ┆ 20180503  │\n",
       "│ CS001115000010 ┆ 20171228  │\n",
       "│ CS001205000004 ┆ 20170914  │\n",
       "│ …              ┆ …         │\n",
       "│ CS001212000027 ┆ 20170127  │\n",
       "│ CS001212000031 ┆ 20180906  │\n",
       "│ CS001212000046 ┆ 20170811  │\n",
       "│ CS001212000070 ┆ 20191018  │\n",
       "└────────────────┴───────────┘"
      ]
     },
     "execution_count": 58,
     "metadata": {},
     "output_type": "execute_result"
    }
   ],
   "source": [
    "df_receipt\n",
    "    .clone()\n",
    "    .groupby([\"customer_id\"])\n",
    "    .agg([col(\"sales_ymd\").min()])\n",
    "    .sort(\"customer_id\", SortOptions{descending: (false), nulls_last: (true), multithreaded: (true), maintain_order: true,})\n",
    "    .collect()\n",
    "    .unwrap()\n",
    "    .head(Some(10))\n"
   ]
  },
  {
   "cell_type": "markdown",
   "metadata": {},
   "source": [
    "---\n",
    "> P-026: レシート明細データ（df_receipt）に対し、顧客ID（customer_id）ごとに最も新しい売上年月日（sales_ymd）と古い売上年月日を求め、両者が異なるデータを10件表示せよ。"
   ]
  },
  {
   "cell_type": "code",
   "execution_count": 59,
   "metadata": {
    "vscode": {
     "languageId": "rust"
    }
   },
   "outputs": [
    {
     "data": {
      "text/plain": [
       "shape: (10, 3)\n",
       "┌────────────────┬───────────────┬───────────────┐\n",
       "│ customer_id    ┆ sales_ymd_max ┆ sales_ymd_min │\n",
       "│ ---            ┆ ---           ┆ ---           │\n",
       "│ str            ┆ i64           ┆ i64           │\n",
       "╞════════════════╪═══════════════╪═══════════════╡\n",
       "│ CS001114000005 ┆ 20190731      ┆ 20180503      │\n",
       "│ CS001115000010 ┆ 20190405      ┆ 20171228      │\n",
       "│ CS001205000004 ┆ 20190625      ┆ 20170914      │\n",
       "│ CS001205000006 ┆ 20190224      ┆ 20180207      │\n",
       "│ …              ┆ …             ┆ …             │\n",
       "│ CS001214000048 ┆ 20190929      ┆ 20171109      │\n",
       "│ CS001214000052 ┆ 20190617      ┆ 20180208      │\n",
       "│ CS001215000005 ┆ 20181021      ┆ 20170206      │\n",
       "│ CS001215000040 ┆ 20171022      ┆ 20170214      │\n",
       "└────────────────┴───────────────┴───────────────┘"
      ]
     },
     "execution_count": 59,
     "metadata": {},
     "output_type": "execute_result"
    }
   ],
   "source": [
    "df_receipt\n",
    "    .clone()\n",
    "    .groupby([\"customer_id\"])\n",
    "    .agg([col(\"sales_ymd\").max().alias(\"sales_ymd_max\"), col(\"sales_ymd\").min().alias(\"sales_ymd_min\")])\n",
    "    .filter(col(\"sales_ymd_max\").neq(\"sales_ymd_min\"))\n",
    "    .sort(\"customer_id\", SortOptions{descending: (false), nulls_last: (true), multithreaded: (true), maintain_order: true,})\n",
    "    .collect()\n",
    "    .unwrap()\n",
    "    .head(Some(10))\n"
   ]
  },
  {
   "cell_type": "markdown",
   "metadata": {},
   "source": [
    "---\n",
    "> P-027: レシート明細データ（df_receipt）に対し、店舗コード（store_cd）ごとに売上金額（amount）の平均を計算し、降順でTOP5を表示せよ。"
   ]
  },
  {
   "cell_type": "code",
   "execution_count": 60,
   "metadata": {
    "vscode": {
     "languageId": "rust"
    }
   },
   "outputs": [
    {
     "data": {
      "text/plain": [
       "shape: (5, 2)\n",
       "┌──────────┬────────────┐\n",
       "│ store_cd ┆ amount     │\n",
       "│ ---      ┆ ---        │\n",
       "│ str      ┆ f64        │\n",
       "╞══════════╪════════════╡\n",
       "│ S13052   ┆ 402.86747  │\n",
       "│ S13015   ┆ 351.11196  │\n",
       "│ S13003   ┆ 350.915519 │\n",
       "│ S14010   ┆ 348.791262 │\n",
       "│ S13001   ┆ 348.470386 │\n",
       "└──────────┴────────────┘"
      ]
     },
     "execution_count": 60,
     "metadata": {},
     "output_type": "execute_result"
    }
   ],
   "source": [
    "df_receipt\n",
    "    .clone()\n",
    "    .groupby([\"store_cd\"])\n",
    "    .agg([col(\"amount\").mean()])\n",
    "    .sort(\"amount\",\n",
    "        SortOptions{\n",
    "            descending: (true),\n",
    "            nulls_last: (true),\n",
    "            multithreaded: (true),\n",
    "            maintain_order: true,\n",
    "        }\n",
    "    )\n",
    "    .collect()\n",
    "    .unwrap()\n",
    "    .head(Some(5))"
   ]
  },
  {
   "cell_type": "markdown",
   "metadata": {},
   "source": [
    "---\n",
    "> P-028: レシート明細データ（df_receipt）に対し、店舗コード（store_cd）ごとに売上金額（amount）の中央値を計算し、降順でTOP5を表示せよ。"
   ]
  },
  {
   "cell_type": "code",
   "execution_count": 61,
   "metadata": {
    "vscode": {
     "languageId": "rust"
    }
   },
   "outputs": [
    {
     "data": {
      "text/plain": [
       "shape: (5, 2)\n",
       "┌──────────┬────────┐\n",
       "│ store_cd ┆ amount │\n",
       "│ ---      ┆ ---    │\n",
       "│ str      ┆ f64    │\n",
       "╞══════════╪════════╡\n",
       "│ S13052   ┆ 190.0  │\n",
       "│ S14010   ┆ 188.0  │\n",
       "│ S14050   ┆ 185.0  │\n",
       "│ S13003   ┆ 180.0  │\n",
       "│ S13018   ┆ 180.0  │\n",
       "└──────────┴────────┘"
      ]
     },
     "execution_count": 61,
     "metadata": {},
     "output_type": "execute_result"
    }
   ],
   "source": [
    "df_receipt\n",
    "    .clone()\n",
    "    .groupby([\"store_cd\"])\n",
    "    .agg([col(\"amount\").median()])\n",
    "    .sort(\"amount\", SortOptions{descending: (true), nulls_last: (true), multithreaded: (true),maintain_order: true,})\n",
    "    .collect()\n",
    "    .unwrap()\n",
    "    .head(Some(5))"
   ]
  },
  {
   "cell_type": "markdown",
   "metadata": {},
   "source": [
    "---\n",
    "> P-029: レシート明細データ（df_receipt）に対し、店舗コード（store_cd）ごとに商品コード（product_cd）の最頻値を求め、10件表示させよ。"
   ]
  },
  {
   "cell_type": "code",
   "execution_count": 62,
   "metadata": {
    "vscode": {
     "languageId": "rust"
    }
   },
   "outputs": [
    {
     "data": {
      "text/plain": [
       "shape: (10, 2)\n",
       "┌──────────┬────────────┐\n",
       "│ store_cd ┆ product_cd │\n",
       "│ ---      ┆ ---        │\n",
       "│ str      ┆ str        │\n",
       "╞══════════╪════════════╡\n",
       "│ S12007   ┆ P060303001 │\n",
       "│ S12013   ┆ P060303001 │\n",
       "│ S12014   ┆ P060303001 │\n",
       "│ S12029   ┆ P060303001 │\n",
       "│ …        ┆ …          │\n",
       "│ S13002   ┆ P060303001 │\n",
       "│ S13003   ┆ P071401001 │\n",
       "│ S13004   ┆ P060303001 │\n",
       "│ S13005   ┆ P040503001 │\n",
       "└──────────┴────────────┘"
      ]
     },
     "execution_count": 62,
     "metadata": {},
     "output_type": "execute_result"
    }
   ],
   "source": [
    "df_receipt\n",
    "    .clone()\n",
    "    .groupby([\"store_cd\"])\n",
    "    .agg([col(\"product_cd\").mode().first()])\n",
    "    .sort(\"store_cd\", SortOptions{descending: (false), nulls_last: (true), multithreaded: (true), maintain_order: true,})\n",
    "    .collect()\n",
    "    .unwrap()\n",
    "    .head(Some(10))"
   ]
  },
  {
   "cell_type": "markdown",
   "metadata": {},
   "source": [
    "---\n",
    "> P-030: レシート明細データ（df_receipt）に対し、店舗コード（store_cd）ごとに売上金額（amount）の分散を計算し、降順で5件表示せよ。"
   ]
  },
  {
   "cell_type": "code",
   "execution_count": 63,
   "metadata": {
    "vscode": {
     "languageId": "rust"
    }
   },
   "outputs": [
    {
     "data": {
      "text/plain": [
       "shape: (5, 2)\n",
       "┌──────────┬───────────────┐\n",
       "│ store_cd ┆ amount        │\n",
       "│ ---      ┆ ---           │\n",
       "│ str      ┆ f64           │\n",
       "╞══════════╪═══════════════╡\n",
       "│ S13052   ┆ 440088.701311 │\n",
       "│ S14011   ┆ 306314.558164 │\n",
       "│ S14034   ┆ 296920.081011 │\n",
       "│ S13001   ┆ 295431.993329 │\n",
       "│ S13015   ┆ 295294.361116 │\n",
       "└──────────┴───────────────┘"
      ]
     },
     "execution_count": 63,
     "metadata": {},
     "output_type": "execute_result"
    }
   ],
   "source": [
    "df_receipt\n",
    "    .clone()\n",
    "    .groupby([\"store_cd\"])\n",
    "    .agg([col(\"amount\").var(0)])\n",
    "    .sort(\"amount\", SortOptions{descending: (true), nulls_last: (true), multithreaded: (true), maintain_order: true})\n",
    "    .collect()\n",
    "    .unwrap()\n",
    "    .head(Some(5))"
   ]
  },
  {
   "cell_type": "markdown",
   "metadata": {},
   "source": [
    "---\n",
    "> P-031: レシート明細データ（df_receipt）に対し、店舗コード（store_cd）ごとに売上金額（amount）の標準偏差を計算し、降順で5件表示せよ。"
   ]
  },
  {
   "cell_type": "markdown",
   "metadata": {},
   "source": [
    "TIPS:\n",
    "\n",
    "PandasとNumpyでddofのデフォルト値が異なることに注意しましょう\n",
    "```\n",
    "Pandas：\n",
    "DataFrame.std(self, axis=None, skipna=None, level=None, ddof=1, numeric_only=None, **kwargs)\n",
    "Numpy:\n",
    "numpy.std(a, axis=None, dtype=None, out=None, ddof=0, keepdims=)\n",
    "```"
   ]
  },
  {
   "cell_type": "code",
   "execution_count": 64,
   "metadata": {
    "vscode": {
     "languageId": "rust"
    }
   },
   "outputs": [
    {
     "data": {
      "text/plain": [
       "shape: (5, 2)\n",
       "┌──────────┬────────────┐\n",
       "│ store_cd ┆ amount     │\n",
       "│ ---      ┆ ---        │\n",
       "│ str      ┆ f64        │\n",
       "╞══════════╪════════════╡\n",
       "│ S13052   ┆ 663.391816 │\n",
       "│ S14011   ┆ 553.456916 │\n",
       "│ S14034   ┆ 544.903736 │\n",
       "│ S13001   ┆ 543.536561 │\n",
       "│ S13015   ┆ 543.409938 │\n",
       "└──────────┴────────────┘"
      ]
     },
     "execution_count": 64,
     "metadata": {},
     "output_type": "execute_result"
    }
   ],
   "source": [
    "df_receipt\n",
    "    .clone()\n",
    "    .groupby([\"store_cd\"])\n",
    "    .agg([col(\"amount\").std(0)])\n",
    "    .sort(\"amount\", SortOptions{descending: (true), nulls_last: (true), multithreaded: (true), maintain_order: true,})\n",
    "    .collect()\n",
    "    .unwrap()\n",
    "    .head(Some(5))\n"
   ]
  },
  {
   "cell_type": "markdown",
   "metadata": {},
   "source": [
    "---\n",
    "> P-032: レシート明細データ（df_receipt）の売上金額（amount）について、25％刻みでパーセンタイル値を求めよ。"
   ]
  },
  {
   "cell_type": "code",
   "execution_count": 65,
   "metadata": {
    "vscode": {
     "languageId": "rust"
    }
   },
   "outputs": [
    {
     "data": {
      "text/plain": [
       "shape: (1, 5)\n",
       "┌────────┬─────────┬─────────┬─────────┬──────────┐\n",
       "│ 0%tile ┆ 25%tile ┆ 50%tile ┆ 75%tile ┆ 100%tile │\n",
       "│ ---    ┆ ---     ┆ ---     ┆ ---     ┆ ---      │\n",
       "│ f64    ┆ f64     ┆ f64     ┆ f64     ┆ f64      │\n",
       "╞════════╪═════════╪═════════╪═════════╪══════════╡\n",
       "│ 10.0   ┆ 102.0   ┆ 170.0   ┆ 288.0   ┆ 10925.0  │\n",
       "└────────┴─────────┴─────────┴─────────┴──────────┘"
      ]
     },
     "execution_count": 65,
     "metadata": {},
     "output_type": "execute_result"
    }
   ],
   "source": [
    "df_receipt\n",
    "    .clone()\n",
    "    .select([\n",
    "        col(\"amount\").quantile(lit(0.0), QuantileInterpolOptions::Nearest).alias(\"0%tile\"),\n",
    "        col(\"amount\").quantile(lit(0.25), QuantileInterpolOptions::Nearest).alias(\"25%tile\"),\n",
    "        col(\"amount\").quantile(lit(0.50), QuantileInterpolOptions::Nearest).alias(\"50%tile\"),\n",
    "        col(\"amount\").quantile(lit(0.75), QuantileInterpolOptions::Nearest).alias(\"75%tile\"),\n",
    "        col(\"amount\").quantile(lit(1.00), QuantileInterpolOptions::Nearest).alias(\"100%tile\"),\n",
    "    ])\n",
    "    .collect()\n",
    "    .unwrap()"
   ]
  },
  {
   "cell_type": "markdown",
   "metadata": {},
   "source": [
    "---\n",
    "> P-033: レシート明細データ（df_receipt）に対し、店舗コード（store_cd）ごとに売上金額（amount）の平均を計算し、330以上のものを抽出せよ。"
   ]
  },
  {
   "cell_type": "code",
   "execution_count": 66,
   "metadata": {
    "vscode": {
     "languageId": "rust"
    }
   },
   "outputs": [
    {
     "data": {
      "text/plain": [
       "shape: (13, 2)\n",
       "┌──────────┬────────────┐\n",
       "│ store_cd ┆ amount     │\n",
       "│ ---      ┆ ---        │\n",
       "│ str      ┆ f64        │\n",
       "╞══════════╪════════════╡\n",
       "│ S12013   ┆ 330.19413  │\n",
       "│ S13001   ┆ 348.470386 │\n",
       "│ S13003   ┆ 350.915519 │\n",
       "│ S13004   ┆ 330.943949 │\n",
       "│ …        ┆ …          │\n",
       "│ S14011   ┆ 335.718333 │\n",
       "│ S14026   ┆ 332.340588 │\n",
       "│ S14045   ┆ 330.082073 │\n",
       "│ S14047   ┆ 330.077073 │\n",
       "└──────────┴────────────┘"
      ]
     },
     "execution_count": 66,
     "metadata": {},
     "output_type": "execute_result"
    }
   ],
   "source": [
    "df_receipt\n",
    "    .clone()\n",
    "    .groupby([\"store_cd\"])\n",
    "    .agg([col(\"amount\").mean()])\n",
    "    .filter(col(\"amount\").gt_eq(lit(330)))\n",
    "    .sort(\"store_cd\", SortOptions{descending: (false), nulls_last: (true), multithreaded: (true), maintain_order: true,})\n",
    "    .collect()\n",
    "    .unwrap()"
   ]
  },
  {
   "cell_type": "markdown",
   "metadata": {},
   "source": [
    "---\n",
    "> P-034: レシート明細データ（df_receipt）に対し、顧客ID（customer_id）ごとに売上金額（amount）を合計して全顧客の平均を求めよ。ただし、顧客IDが\"Z\"から始まるものは非会員を表すため、除外して計算すること。"
   ]
  },
  {
   "cell_type": "code",
   "execution_count": 67,
   "metadata": {
    "vscode": {
     "languageId": "rust"
    }
   },
   "outputs": [
    {
     "data": {
      "text/plain": [
       "shape: (1, 1)\n",
       "┌─────────────┐\n",
       "│ amount      │\n",
       "│ ---         │\n",
       "│ f64         │\n",
       "╞═════════════╡\n",
       "│ 2547.742235 │\n",
       "└─────────────┘"
      ]
     },
     "execution_count": 67,
     "metadata": {},
     "output_type": "execute_result"
    }
   ],
   "source": [
    "df_receipt\n",
    "    .clone()\n",
    "    .filter(col(\"customer_id\").str().starts_with(lit(\"Z\")).not())\n",
    "    .groupby([\"customer_id\"]).agg([col(\"amount\").sum()])\n",
    "    .select([col(\"amount\").mean()])\n",
    "    .collect()\n",
    "    .unwrap()"
   ]
  },
  {
   "cell_type": "markdown",
   "metadata": {},
   "source": [
    "---\n",
    "> P-035: レシート明細データ（df_receipt）に対し、顧客ID（customer_id）ごとに売上金額（amount）を合計して全顧客の平均を求め、平均以上に買い物をしている顧客を抽出し、10件表示せよ。ただし、顧客IDが\"Z\"から始まるものは非会員を表すため、除外して計算すること。"
   ]
  },
  {
   "cell_type": "code",
   "execution_count": 68,
   "metadata": {
    "vscode": {
     "languageId": "rust"
    }
   },
   "outputs": [
    {
     "data": {
      "text/plain": [
       "shape: (10, 3)\n",
       "┌────────────────┬────────┬─────────────┐\n",
       "│ customer_id    ┆ amount ┆ avg_amount  │\n",
       "│ ---            ┆ ---    ┆ ---         │\n",
       "│ str            ┆ i64    ┆ f64         │\n",
       "╞════════════════╪════════╪═════════════╡\n",
       "│ CS001115000010 ┆ 3044   ┆ 2547.742235 │\n",
       "│ CS001205000006 ┆ 3337   ┆ 2547.742235 │\n",
       "│ CS001214000009 ┆ 4685   ┆ 2547.742235 │\n",
       "│ CS001214000017 ┆ 4132   ┆ 2547.742235 │\n",
       "│ …              ┆ …      ┆ …           │\n",
       "│ CS001304000006 ┆ 3726   ┆ 2547.742235 │\n",
       "│ CS001305000005 ┆ 3485   ┆ 2547.742235 │\n",
       "│ CS001305000011 ┆ 4370   ┆ 2547.742235 │\n",
       "│ CS001315000180 ┆ 3300   ┆ 2547.742235 │\n",
       "└────────────────┴────────┴─────────────┘"
      ]
     },
     "execution_count": 68,
     "metadata": {},
     "output_type": "execute_result"
    }
   ],
   "source": [
    "df_receipt\n",
    "    .clone()\n",
    "    .filter(col(\"customer_id\").str().starts_with(lit(\"Z\")).not())\n",
    "    .groupby([\"customer_id\"]).agg([col(\"amount\").sum()])\n",
    "    .with_column(col(\"amount\").mean().alias(\"avg_amount\"))\n",
    "    .filter(col(\"amount\").gt_eq(col(\"avg_amount\")))\n",
    "    .sort(\"customer_id\", SortOptions{descending: (false), nulls_last: (true), multithreaded: (true), maintain_order: true,})\n",
    "    .collect()\n",
    "    .unwrap()\n",
    "    .head(Some(10))\n"
   ]
  },
  {
   "cell_type": "markdown",
   "metadata": {},
   "source": [
    "---\n",
    "> P-036: レシート明細データ（df_receipt）と店舗データ（df_store）を内部結合し、レシート明細データの全項目と店舗データの店舗名（store_name）を10件表示せよ。"
   ]
  },
  {
   "cell_type": "code",
   "execution_count": 69,
   "metadata": {
    "vscode": {
     "languageId": "rust"
    }
   },
   "outputs": [
    {
     "data": {
      "text/plain": [
       "shape: (10, 10)\n",
       "┌───────────┬────────────┬──────────┬────────────┬───┬────────────┬──────────┬────────┬────────────┐\n",
       "│ sales_ymd ┆ sales_epoc ┆ store_cd ┆ receipt_no ┆ … ┆ product_cd ┆ quantity ┆ amount ┆ store_name │\n",
       "│ ---       ┆ h          ┆ ---      ┆ ---        ┆   ┆ ---        ┆ ---      ┆ ---    ┆ ---        │\n",
       "│ i64       ┆ ---        ┆ str      ┆ i64        ┆   ┆ str        ┆ i64      ┆ i64    ┆ str        │\n",
       "│           ┆ i64        ┆          ┆            ┆   ┆            ┆          ┆        ┆            │\n",
       "╞═══════════╪════════════╪══════════╪════════════╪═══╪════════════╪══════════╪════════╪════════════╡\n",
       "│ 20181103  ┆ 1541203200 ┆ S14006   ┆ 112        ┆ … ┆ P070305012 ┆ 1        ┆ 158    ┆ 葛が谷店   │\n",
       "│ 20181118  ┆ 1542499200 ┆ S13008   ┆ 1132       ┆ … ┆ P070701017 ┆ 1        ┆ 81     ┆ 成城店     │\n",
       "│ 20170712  ┆ 1499817600 ┆ S14028   ┆ 1102       ┆ … ┆ P060101005 ┆ 1        ┆ 170    ┆ 二ツ橋店   │\n",
       "│ 20190205  ┆ 1549324800 ┆ S14042   ┆ 1132       ┆ … ┆ P050301001 ┆ 1        ┆ 25     ┆ 新山下店   │\n",
       "│ …         ┆ …          ┆ …        ┆ …          ┆ … ┆ …          ┆ …        ┆ …      ┆ …          │\n",
       "│ 20181205  ┆ 1543968000 ┆ S14024   ┆ 1102       ┆ … ┆ P080101005 ┆ 1        ┆ 30     ┆ 三田店     │\n",
       "│ 20190922  ┆ 1569110400 ┆ S14040   ┆ 1102       ┆ … ┆ P070501004 ┆ 1        ┆ 128    ┆ 長津田店   │\n",
       "│ 20170504  ┆ 1493856000 ┆ S13020   ┆ 1112       ┆ … ┆ P071302010 ┆ 1        ┆ 770    ┆ 十条仲原店 │\n",
       "│ 20191010  ┆ 1570665600 ┆ S14027   ┆ 1102       ┆ … ┆ P071101003 ┆ 1        ┆ 680    ┆ 南藤沢店   │\n",
       "└───────────┴────────────┴──────────┴────────────┴───┴────────────┴──────────┴────────┴────────────┘"
      ]
     },
     "execution_count": 69,
     "metadata": {},
     "output_type": "execute_result"
    }
   ],
   "source": [
    "df_receipt\n",
    "    .clone()\n",
    "    .inner_join(\n",
    "        df_store.clone().select([col(\"store_cd\"), col(\"store_name\")]),\n",
    "        col(\"store_cd\"),\n",
    "        col(\"store_cd\"),\n",
    "    )\n",
    "    .collect()\n",
    "    .unwrap()\n",
    "    .head(Some(10))"
   ]
  },
  {
   "cell_type": "markdown",
   "metadata": {},
   "source": [
    "---\n",
    "> P-037: 商品データ（df_product）とカテゴリデータ（df_category）を内部結合し、商品データの全項目とカテゴリデータのカテゴリ小区分名（category_small_name）を10件表示せよ。"
   ]
  },
  {
   "cell_type": "code",
   "execution_count": 70,
   "metadata": {
    "vscode": {
     "languageId": "rust"
    }
   },
   "outputs": [
    {
     "data": {
      "text/plain": [
       "shape: (10, 7)\n",
       "┌────────────┬───────────────┬──────────────┬──────────────┬────────────┬───────────┬──────────────┐\n",
       "│ product_cd ┆ category_majo ┆ category_med ┆ category_sma ┆ unit_price ┆ unit_cost ┆ category_sma │\n",
       "│ ---        ┆ r_cd          ┆ ium_cd       ┆ ll_cd        ┆ ---        ┆ ---       ┆ ll_name      │\n",
       "│ str        ┆ ---           ┆ ---          ┆ ---          ┆ i64        ┆ i64       ┆ ---          │\n",
       "│            ┆ str           ┆ str          ┆ str          ┆            ┆           ┆ str          │\n",
       "╞════════════╪═══════════════╪══════════════╪══════════════╪════════════╪═══════════╪══════════════╡\n",
       "│ P040101001 ┆ 04            ┆ 0401         ┆ 040101       ┆ 198        ┆ 149       ┆ 弁当類       │\n",
       "│ P040101002 ┆ 04            ┆ 0401         ┆ 040101       ┆ 218        ┆ 164       ┆ 弁当類       │\n",
       "│ P040101003 ┆ 04            ┆ 0401         ┆ 040101       ┆ 230        ┆ 173       ┆ 弁当類       │\n",
       "│ P040101004 ┆ 04            ┆ 0401         ┆ 040101       ┆ 248        ┆ 186       ┆ 弁当類       │\n",
       "│ …          ┆ …             ┆ …            ┆ …            ┆ …          ┆ …         ┆ …            │\n",
       "│ P040101007 ┆ 04            ┆ 0401         ┆ 040101       ┆ 338        ┆ 254       ┆ 弁当類       │\n",
       "│ P040101008 ┆ 04            ┆ 0401         ┆ 040101       ┆ 420        ┆ 315       ┆ 弁当類       │\n",
       "│ P040101009 ┆ 04            ┆ 0401         ┆ 040101       ┆ 498        ┆ 374       ┆ 弁当類       │\n",
       "│ P040101010 ┆ 04            ┆ 0401         ┆ 040101       ┆ 580        ┆ 435       ┆ 弁当類       │\n",
       "└────────────┴───────────────┴──────────────┴──────────────┴────────────┴───────────┴──────────────┘"
      ]
     },
     "execution_count": 70,
     "metadata": {},
     "output_type": "execute_result"
    }
   ],
   "source": [
    "df_product\n",
    "    .clone()\n",
    "    .inner_join(\n",
    "        df_category.clone().select([col(\"category_small_cd\"), col(\"category_small_name\")]),\n",
    "        col(\"category_small_cd\"),\n",
    "        col(\"category_small_cd\"),\n",
    "    )\n",
    "    .collect()\n",
    "    .unwrap()\n",
    "    .head(Some(10))"
   ]
  },
  {
   "cell_type": "markdown",
   "metadata": {},
   "source": [
    "---\n",
    "> P-038: 顧客データ（df_customer）とレシート明細データ（df_receipt）から、顧客ごとの売上金額合計を求め、10件表示せよ。ただし、売上実績がない顧客については売上金額を0として表示させること。また、顧客は性別コード（gender_cd）が女性（1）であるものを対象とし、非会員（顧客IDが\"Z\"から始まるもの）は除外すること。"
   ]
  },
  {
   "cell_type": "code",
   "execution_count": 71,
   "metadata": {
    "vscode": {
     "languageId": "rust"
    }
   },
   "outputs": [
    {
     "data": {
      "text/plain": [
       "shape: (10, 2)\n",
       "┌────────────────┬────────┐\n",
       "│ customer_id    ┆ amount │\n",
       "│ ---            ┆ ---    │\n",
       "│ str            ┆ i64    │\n",
       "╞════════════════╪════════╡\n",
       "│ CS008515000062 ┆ 1972   │\n",
       "│ CS047211000001 ┆ 2293   │\n",
       "│ CS013415000077 ┆ 5164   │\n",
       "│ CS002515000266 ┆ 784    │\n",
       "│ …              ┆ …      │\n",
       "│ CS016315000115 ┆ 426    │\n",
       "│ CS034415000038 ┆ 5039   │\n",
       "│ CS016415000250 ┆ 7076   │\n",
       "│ CS013614000024 ┆ 689    │\n",
       "└────────────────┴────────┘"
      ]
     },
     "execution_count": 71,
     "metadata": {},
     "output_type": "execute_result"
    }
   ],
   "source": [
    "df_customer\n",
    "    .clone()\n",
    "    .filter(\n",
    "        col(\"gender_cd\").eq(lit(\"1\"))\n",
    "        .and(\n",
    "            col(\"customer_id\").str().starts_with(lit(\"Z\")).not()\n",
    "        )\n",
    "    )\n",
    "    .inner_join(\n",
    "        df_receipt.clone(),\n",
    "        col(\"customer_id\"),\n",
    "        col(\"customer_id\"),\n",
    "    )\n",
    "    .groupby([\"customer_id\"])\n",
    "    .agg([col(\"amount\").sum().fill_null(0)])\n",
    "    .collect()\n",
    "    .unwrap()\n",
    "    .head(Some(10))"
   ]
  },
  {
   "cell_type": "markdown",
   "metadata": {},
   "source": [
    "---\n",
    "> P-039: レシート明細データ（df_receipt）から、売上日数の多い顧客の上位20件を抽出したデータと、売上金額合計の多い顧客の上位20件を抽出したデータをそれぞれ作成し、さらにその2つを完全外部結合せよ。ただし、非会員（顧客IDが\"Z\"から始まるもの）は除外すること。"
   ]
  },
  {
   "cell_type": "code",
   "execution_count": 72,
   "metadata": {
    "vscode": {
     "languageId": "rust"
    }
   },
   "outputs": [
    {
     "data": {
      "text/plain": [
       "shape: (34, 3)\n",
       "┌────────────────┬───────────┬────────┐\n",
       "│ customer_id    ┆ sales_ymd ┆ amount │\n",
       "│ ---            ┆ ---       ┆ ---    │\n",
       "│ str            ┆ u32       ┆ i64    │\n",
       "╞════════════════╪═══════════╪════════╡\n",
       "│ CS040214000008 ┆ 23        ┆ null   │\n",
       "│ CS010214000010 ┆ 22        ┆ 18585  │\n",
       "│ CS015415000185 ┆ 22        ┆ 20153  │\n",
       "│ CS028415000007 ┆ 21        ┆ 19127  │\n",
       "│ …              ┆ …         ┆ …      │\n",
       "│ CS007514000094 ┆ null      ┆ 15735  │\n",
       "│ CS009414000059 ┆ null      ┆ 15492  │\n",
       "│ CS030415000034 ┆ null      ┆ 15468  │\n",
       "│ CS015515000034 ┆ null      ┆ 15300  │\n",
       "└────────────────┴───────────┴────────┘"
      ]
     },
     "execution_count": 72,
     "metadata": {},
     "output_type": "execute_result"
    }
   ],
   "source": [
    "let df_data = df_receipt.clone().filter(col(\"customer_id\").str().starts_with(lit(\"Z\")).not());\n",
    "\n",
    "let df_cnt: LazyFrame = df_data.clone()\n",
    "    .groupby([\"customer_id\"]).agg([col(\"sales_ymd\").n_unique()])\n",
    "    .sort(\"sales_ymd\", SortOptions{descending: true, nulls_last: true, multithreaded: true, maintain_order: true})\n",
    "    .slice(0, 20);\n",
    "let df_sum: LazyFrame = df_data.clone().groupby([\"customer_id\"]).agg([col(\"amount\").sum()])\n",
    "    .sort(\"amount\", SortOptions{descending: true, nulls_last: true, multithreaded: true, maintain_order: true})\n",
    "    .slice(0, 20);\n",
    "    \n",
    "df_cnt\n",
    "    .outer_join(\n",
    "        df_sum.clone(),\n",
    "        col(\"customer_id\"),\n",
    "        col(\"customer_id\"),\n",
    "    )\n",
    "    .sort(\"amount\", SortOptions{descending: false, nulls_last: true, multithreaded: true, maintain_order: true})\n",
    "    .sort(\"sales_ymd\", SortOptions{descending: true, nulls_last: true, multithreaded: true, maintain_order: true})\n",
    "    .collect()\n",
    "    .unwrap()"
   ]
  },
  {
   "cell_type": "markdown",
   "metadata": {},
   "source": [
    "---\n",
    "> P-040: 全ての店舗と全ての商品を組み合わせたデータを作成したい。店舗データ（df_store）と商品データ（df_product）を直積し、件数を計算せよ。"
   ]
  },
  {
   "cell_type": "code",
   "execution_count": 73,
   "metadata": {
    "vscode": {
     "languageId": "rust"
    }
   },
   "outputs": [
    {
     "data": {
      "text/plain": [
       "531590"
      ]
     },
     "execution_count": 73,
     "metadata": {},
     "output_type": "execute_result"
    }
   ],
   "source": [
    "let df_store_tmp: LazyFrame = df_store.clone().with_columns([lit(0).alias(\"key\")]);\n",
    "let df_product_tmp: LazyFrame = df_product.clone().with_columns([lit(0).alias(\"key\")]);\n",
    "\n",
    "df_store_tmp.outer_join(df_product_tmp, col(\"key\"), col(\"key\"))\n",
    "    .collect()\n",
    "    .unwrap()\n",
    "    .height()"
   ]
  },
  {
   "cell_type": "markdown",
   "metadata": {},
   "source": [
    "---\n",
    "> P-041: レシート明細データ（df_receipt）の売上金額（amount）を日付（sales_ymd）ごとに集計し、前回売上があった日からの売上金額増減を計算せよ。そして結果を10件表示せよ。"
   ]
  },
  {
   "cell_type": "code",
   "execution_count": 74,
   "metadata": {
    "vscode": {
     "languageId": "rust"
    }
   },
   "outputs": [
    {
     "data": {
      "text/plain": [
       "shape: (10, 4)\n",
       "┌───────────┬────────┬──────────────┬─────────────┐\n",
       "│ sales_ymd ┆ amount ┆ -1day_amount ┆ diff_amount │\n",
       "│ ---       ┆ ---    ┆ ---          ┆ ---         │\n",
       "│ i64       ┆ i64    ┆ i64          ┆ i64         │\n",
       "╞═══════════╪════════╪══════════════╪═════════════╡\n",
       "│ 20170101  ┆ 33723  ┆ null         ┆ null        │\n",
       "│ 20170102  ┆ 24165  ┆ 33723        ┆ -9558       │\n",
       "│ 20170103  ┆ 27503  ┆ 24165        ┆ 3338        │\n",
       "│ 20170104  ┆ 36165  ┆ 27503        ┆ 8662        │\n",
       "│ …         ┆ …      ┆ …            ┆ …           │\n",
       "│ 20170107  ┆ 23415  ┆ 32387        ┆ -8972       │\n",
       "│ 20170108  ┆ 24737  ┆ 23415        ┆ 1322        │\n",
       "│ 20170109  ┆ 26718  ┆ 24737        ┆ 1981        │\n",
       "│ 20170110  ┆ 20143  ┆ 26718        ┆ -6575       │\n",
       "└───────────┴────────┴──────────────┴─────────────┘"
      ]
     },
     "execution_count": 74,
     "metadata": {},
     "output_type": "execute_result"
    }
   ],
   "source": [
    "df_receipt.clone()\n",
    "    .groupby([\"sales_ymd\"]).agg([col(\"amount\").sum()])\n",
    "    .sort(\"sales_ymd\", SortOptions{descending: false, nulls_last: true, multithreaded: true, maintain_order: true})\n",
    "    .with_columns(\n",
    "        [\n",
    "            col(\"amount\").shift(1).alias(\"-1day_amount\"),\n",
    "            (col(\"amount\") - col(\"amount\").shift(1)).alias(\"diff_amount\"),\n",
    "        ]\n",
    "    )\n",
    "    .collect()\n",
    "    .unwrap()\n",
    "    .head(Some(10))"
   ]
  },
  {
   "cell_type": "markdown",
   "metadata": {},
   "source": [
    "---\n",
    "> P-042: レシート明細データ（df_receipt）の売上金額（amount）を日付（sales_ymd）ごとに集計し、各日付のデータに対し、前回、前々回、3回前に売上があった日のデータを結合せよ。そして結果を10件表示せよ。"
   ]
  },
  {
   "cell_type": "code",
   "execution_count": 75,
   "metadata": {
    "vscode": {
     "languageId": "rust"
    }
   },
   "outputs": [
    {
     "data": {
      "text/plain": [
       "shape: (10, 8)\n",
       "┌───────────┬────────┬────────────┬────────────┬────────────┬────────────┬────────────┬────────────┐\n",
       "│ sales_ymd ┆ amount ┆ 1day_befor ┆ 1day_befor ┆ 2day_befor ┆ 2day_befor ┆ 3day_befor ┆ 3day_befor │\n",
       "│ ---       ┆ ---    ┆ e_ymd      ┆ e_amount   ┆ e_ymd      ┆ e_amount   ┆ e_ymd      ┆ e_amount   │\n",
       "│ i64       ┆ i64    ┆ ---        ┆ ---        ┆ ---        ┆ ---        ┆ ---        ┆ ---        │\n",
       "│           ┆        ┆ i64        ┆ i64        ┆ i64        ┆ i64        ┆ i64        ┆ i64        │\n",
       "╞═══════════╪════════╪════════════╪════════════╪════════════╪════════════╪════════════╪════════════╡\n",
       "│ 20170101  ┆ 33723  ┆ null       ┆ null       ┆ null       ┆ null       ┆ null       ┆ null       │\n",
       "│ 20170102  ┆ 24165  ┆ 20170101   ┆ 33723      ┆ null       ┆ null       ┆ null       ┆ null       │\n",
       "│ 20170103  ┆ 27503  ┆ 20170102   ┆ 24165      ┆ 20170101   ┆ 33723      ┆ null       ┆ null       │\n",
       "│ 20170104  ┆ 36165  ┆ 20170103   ┆ 27503      ┆ 20170102   ┆ 24165      ┆ 20170101   ┆ 33723      │\n",
       "│ …         ┆ …      ┆ …          ┆ …          ┆ …          ┆ …          ┆ …          ┆ …          │\n",
       "│ 20170107  ┆ 23415  ┆ 20170106   ┆ 32387      ┆ 20170105   ┆ 37830      ┆ 20170104   ┆ 36165      │\n",
       "│ 20170108  ┆ 24737  ┆ 20170107   ┆ 23415      ┆ 20170106   ┆ 32387      ┆ 20170105   ┆ 37830      │\n",
       "│ 20170109  ┆ 26718  ┆ 20170108   ┆ 24737      ┆ 20170107   ┆ 23415      ┆ 20170106   ┆ 32387      │\n",
       "│ 20170110  ┆ 20143  ┆ 20170109   ┆ 26718      ┆ 20170108   ┆ 24737      ┆ 20170107   ┆ 23415      │\n",
       "└───────────┴────────┴────────────┴────────────┴────────────┴────────────┴────────────┴────────────┘"
      ]
     },
     "execution_count": 75,
     "metadata": {},
     "output_type": "execute_result"
    }
   ],
   "source": [
    "df_receipt.clone()\n",
    "    .groupby([\"sales_ymd\"]).agg([col(\"amount\").sum()])\n",
    "    .sort(\"sales_ymd\", SortOptions{descending: false, nulls_last: true, multithreaded: true, maintain_order: true})\n",
    "    .with_columns(\n",
    "        [\n",
    "            col(\"sales_ymd\").shift(1).alias(\"1day_before_ymd\"),\n",
    "            col(\"amount\").shift(1).alias(\"1day_before_amount\"),\n",
    "            col(\"sales_ymd\").shift(2).alias(\"2day_before_ymd\"),\n",
    "            col(\"amount\").shift(2).alias(\"2day_before_amount\"),\n",
    "            col(\"sales_ymd\").shift(3).alias(\"3day_before_ymd\"),\n",
    "            col(\"amount\").shift(3).alias(\"3day_before_amount\"),\n",
    "        ]\n",
    "    )\n",
    "    .collect()\n",
    "    .unwrap()\n",
    "    .head(Some(10))"
   ]
  },
  {
   "cell_type": "markdown",
   "metadata": {},
   "source": [
    "---\n",
    "> P-043： レシート明細データ（df_receipt）と顧客データ（df_customer）を結合し、性別コード（gender_cd）と年代（ageから計算）ごとに売上金額（amount）を合計した売上サマリデータを作成せよ。性別コードは0が男性、1が女性、9が不明を表すものとする。\n",
    ">\n",
    "> ただし、項目構成は年代、女性の売上金額、男性の売上金額、性別不明の売上金額の4項目とすること（縦に年代、横に性別のクロス集計）。また、年代は10歳ごとの階級とすること。"
   ]
  },
  {
   "cell_type": "code",
   "execution_count": 76,
   "metadata": {
    "vscode": {
     "languageId": "rust"
    }
   },
   "outputs": [
    {
     "data": {
      "text/plain": [
       "shape: (9, 4)\n",
       "┌─────┬────────┬─────────┬─────────┐\n",
       "│ era ┆ male   ┆ female  ┆ unknown │\n",
       "│ --- ┆ ---    ┆ ---     ┆ ---     │\n",
       "│ i32 ┆ i64    ┆ i64     ┆ i64     │\n",
       "╞═════╪════════╪═════════╪═════════╡\n",
       "│ 10  ┆ 1591   ┆ 149836  ┆ 4317    │\n",
       "│ 20  ┆ 72940  ┆ 1363724 ┆ 44328   │\n",
       "│ 30  ┆ 177322 ┆ 693047  ┆ 50441   │\n",
       "│ 40  ┆ 19355  ┆ 9320791 ┆ 483512  │\n",
       "│ 50  ┆ 54320  ┆ 6685192 ┆ 342923  │\n",
       "│ 60  ┆ 272469 ┆ 987741  ┆ 71418   │\n",
       "│ 70  ┆ 13435  ┆ 29764   ┆ 2427    │\n",
       "│ 80  ┆ 46360  ┆ 262923  ┆ 5111    │\n",
       "│ 90  ┆ null   ┆ 6260    ┆ null    │\n",
       "└─────┴────────┴─────────┴─────────┘"
      ]
     },
     "execution_count": 76,
     "metadata": {},
     "output_type": "execute_result"
    }
   ],
   "source": [
    "let temp_df = df_receipt.clone()\n",
    "    .inner_join(df_customer.clone(), col(\"customer_id\"), col(\"customer_id\")) \n",
    "    .with_column(\n",
    "        ((col(\"age\") / lit(10.0)).floor() * lit(10.0)).cast(DataType::Int32).alias(\"era\"),\n",
    "    )\n",
    "    .groupby([\"gender_cd\", \"era\"]).agg([col(\"amount\").sum()]);\n",
    "\n",
    "let df_sales_summary = temp_df.clone()\n",
    "    .select([col(\"era\").unique()])\n",
    "    .outer_join(\n",
    "        temp_df.clone()\n",
    "            .filter(col(\"gender_cd\").eq(lit(\"0\")))\n",
    "            .select([col(\"era\"), col(\"amount\").alias(\"male\")]),\n",
    "        col(\"era\"), \n",
    "        col(\"era\"),\n",
    "    )\n",
    "    .outer_join(\n",
    "        temp_df.clone()\n",
    "            .filter(col(\"gender_cd\").eq(lit(\"1\")))\n",
    "            .select([col(\"era\"), col(\"amount\").alias(\"female\")]),\n",
    "        col(\"era\"), \n",
    "        col(\"era\"),\n",
    "    )\n",
    "    .outer_join(\n",
    "        temp_df.clone()\n",
    "            .filter(col(\"gender_cd\").eq(lit(\"9\")))\n",
    "            .select([col(\"era\"), col(\"amount\").alias(\"unknown\")]),\n",
    "        col(\"era\"), \n",
    "        col(\"era\"),\n",
    "    )\n",
    "    .sort(\"era\", SortOptions{descending: false, nulls_last: true, multithreaded: true, maintain_order: true});\n",
    "\n",
    "df_sales_summary.clone()\n",
    "    .collect()\n",
    "    .unwrap()"
   ]
  },
  {
   "cell_type": "markdown",
   "metadata": {},
   "source": [
    "---\n",
    "> P-044： 043で作成した売上サマリデータ（df_sales_summary）は性別の売上を横持ちさせたものであった。このデータから性別を縦持ちさせ、年代、性別コード、売上金額の3項目に変換せよ。ただし、性別コードは男性を\"00\"、女性を\"01\"、不明を\"99\"とする。"
   ]
  },
  {
   "cell_type": "code",
   "execution_count": 77,
   "metadata": {
    "vscode": {
     "languageId": "rust"
    }
   },
   "outputs": [
    {
     "data": {
      "text/plain": [
       "shape: (27, 3)\n",
       "┌─────┬───────────┬────────┐\n",
       "│ era ┆ gender_cd ┆ amount │\n",
       "│ --- ┆ ---       ┆ ---    │\n",
       "│ i32 ┆ str       ┆ i64    │\n",
       "╞═════╪═══════════╪════════╡\n",
       "│ 10  ┆ 00        ┆ 1591   │\n",
       "│ 10  ┆ 01        ┆ 149836 │\n",
       "│ 10  ┆ 99        ┆ 4317   │\n",
       "│ 20  ┆ 00        ┆ 72940  │\n",
       "│ …   ┆ …         ┆ …      │\n",
       "│ 80  ┆ 99        ┆ 5111   │\n",
       "│ 90  ┆ 00        ┆ null   │\n",
       "│ 90  ┆ 01        ┆ 6260   │\n",
       "│ 90  ┆ 99        ┆ null   │\n",
       "└─────┴───────────┴────────┘"
      ]
     },
     "execution_count": 77,
     "metadata": {},
     "output_type": "execute_result"
    }
   ],
   "source": [
    "fn conv_gender2cd(str_val: Series) -> Result<Option<Series>, PolarsError> {\n",
    "    let x: ChunkedArray<Utf8Type> = str_val\n",
    "        .utf8()\n",
    "        .unwrap()\n",
    "        .into_iter()\n",
    "        // your actual custom function would be in this map\n",
    "        .map(\n",
    "            |opt_name: Option<&str>| opt_name.map(\n",
    "                |name: &str| match name {\n",
    "                    \"male\" => \"00\",\n",
    "                    \"female\" => \"01\",\n",
    "                    \"unknown\" => \"99\",\n",
    "                    _ => \"\",\n",
    "                }\n",
    "            )\n",
    "        )\n",
    "        .collect();\n",
    "    Ok(Some(x.into_series()))\n",
    "}\n",
    "\n",
    "let melt_args: MeltArgs = MeltArgs {\n",
    "    id_vars: vec![\"era\".into()],\n",
    "    value_vars: vec![\"male\".into(), \"female\".into(), \"unknown\".into()],\n",
    "    variable_name: Some(\"gender\".into()),\n",
    "    value_name: Some(\"amount\".into()),\n",
    "    streamable: true,\n",
    "};\n",
    "\n",
    "let melt_df = df_sales_summary.clone().melt(melt_args);\n",
    "\n",
    "\n",
    "melt_df.clone()\n",
    "    .select([\n",
    "        col(\"era\"),\n",
    "        col(\"gender\")\n",
    "        .apply(\n",
    "            |x| conv_gender2cd(x),\n",
    "            GetOutput::from_type(DataType::UInt32)\n",
    "        ).alias(\"gender_cd\"),\n",
    "        col(\"amount\"),\n",
    "    ])\n",
    "    .sort(\n",
    "        \"era\",\n",
    "        SortOptions{\n",
    "            descending: false,\n",
    "            nulls_last: true,\n",
    "            multithreaded: true,\n",
    "            maintain_order: true\n",
    "        }\n",
    "    )\n",
    "    .collect()\n",
    "    .unwrap()"
   ]
  },
  {
   "cell_type": "code",
   "execution_count": 142,
   "metadata": {
    "vscode": {
     "languageId": "rust"
    }
   },
   "outputs": [
    {
     "data": {
      "text/plain": [
       "shape: (27, 3)\n",
       "┌─────┬───────────┬────────┐\n",
       "│ era ┆ gender_cd ┆ amount │\n",
       "│ --- ┆ ---       ┆ ---    │\n",
       "│ i32 ┆ str       ┆ i64    │\n",
       "╞═════╪═══════════╪════════╡\n",
       "│ 10  ┆ 00        ┆ 1591   │\n",
       "│ 10  ┆ 01        ┆ 149836 │\n",
       "│ 10  ┆ 99        ┆ 4317   │\n",
       "│ 20  ┆ 00        ┆ 72940  │\n",
       "│ …   ┆ …         ┆ …      │\n",
       "│ 80  ┆ 99        ┆ 5111   │\n",
       "│ 90  ┆ 00        ┆ null   │\n",
       "│ 90  ┆ 01        ┆ 6260   │\n",
       "│ 90  ┆ 99        ┆ null   │\n",
       "└─────┴───────────┴────────┘"
      ]
     },
     "execution_count": 142,
     "metadata": {},
     "output_type": "execute_result"
    }
   ],
   "source": [
    "// when().then().otherwise()を使用するほうがスッキリかける\n",
    "\n",
    "let melt_args: MeltArgs = MeltArgs {\n",
    "    id_vars: vec![\"era\".into()],\n",
    "    value_vars: vec![\"male\".into(), \"female\".into(), \"unknown\".into()],\n",
    "    variable_name: Some(\"gender\".into()),\n",
    "    value_name: Some(\"amount\".into()),\n",
    "    streamable: true,\n",
    "};\n",
    "\n",
    "let melt_df = df_sales_summary.clone().melt(melt_args);\n",
    "\n",
    "melt_df.clone()\n",
    "    .select([\n",
    "        col(\"era\"),\n",
    "        when(col(\"gender\").eq(lit(\"male\"))).then(lit(\"00\"))\n",
    "            .when(col(\"gender\").eq(lit(\"female\"))).then(lit(\"01\"))\n",
    "            .otherwise(lit(\"99\"))\n",
    "            .alias(\"gender_cd\"),\n",
    "        col(\"amount\"),\n",
    "    ])\n",
    "    .sort(\n",
    "        \"era\",\n",
    "        SortOptions{\n",
    "            descending: false,\n",
    "            nulls_last: true,\n",
    "            multithreaded: true,\n",
    "            maintain_order: true\n",
    "        }\n",
    "    )\n",
    "    .collect()\n",
    "    .unwrap()"
   ]
  },
  {
   "cell_type": "markdown",
   "metadata": {},
   "source": [
    "---\n",
    "> P-045: 顧客データ（df_customer）の生年月日（birth_day）は日付型でデータを保有している。これをYYYYMMDD形式の文字列に変換し、顧客ID（customer_id）とともに10件表示せよ。"
   ]
  },
  {
   "cell_type": "code",
   "execution_count": 78,
   "metadata": {
    "vscode": {
     "languageId": "rust"
    }
   },
   "outputs": [
    {
     "data": {
      "text/plain": [
       "shape: (10, 2)\n",
       "┌────────────────┬───────────┐\n",
       "│ customer_id    ┆ birth_day │\n",
       "│ ---            ┆ ---       │\n",
       "│ str            ┆ str       │\n",
       "╞════════════════╪═══════════╡\n",
       "│ CS021313000114 ┆ 19810429  │\n",
       "│ CS037613000071 ┆ 19520401  │\n",
       "│ CS031415000172 ┆ 19761004  │\n",
       "│ CS028811000001 ┆ 19330327  │\n",
       "│ …              ┆ …         │\n",
       "│ CS015414000103 ┆ 19770809  │\n",
       "│ CS029403000008 ┆ 19730817  │\n",
       "│ CS015804000004 ┆ 19310502  │\n",
       "│ CS033513000180 ┆ 19620711  │\n",
       "└────────────────┴───────────┘"
      ]
     },
     "execution_count": 78,
     "metadata": {},
     "output_type": "execute_result"
    }
   ],
   "source": [
    "df_customer.clone()\n",
    "    .select([\n",
    "        col(\"customer_id\"),\n",
    "        col(\"birth_day\").dt().to_string(\"%Y%m%d\"),\n",
    "    ])\n",
    "    .collect()\n",
    "    .unwrap()\n",
    "    .head(Some(10))"
   ]
  },
  {
   "cell_type": "markdown",
   "metadata": {},
   "source": [
    "---\n",
    "> P-046: 顧客データ（df_customer）の申し込み日（application_date）はYYYYMMDD形式の文字列型でデータを保有している。これを日付型に変換し、顧客ID（customer_id）とともに10件表示せよ。"
   ]
  },
  {
   "cell_type": "code",
   "execution_count": 94,
   "metadata": {
    "vscode": {
     "languageId": "rust"
    }
   },
   "outputs": [
    {
     "data": {
      "text/plain": [
       "shape: (10, 2)\n",
       "┌────────────────┬──────────────────┐\n",
       "│ customer_id    ┆ application_date │\n",
       "│ ---            ┆ ---              │\n",
       "│ str            ┆ date             │\n",
       "╞════════════════╪══════════════════╡\n",
       "│ CS021313000114 ┆ 2015-09-05       │\n",
       "│ CS037613000071 ┆ 2015-04-14       │\n",
       "│ CS031415000172 ┆ 2015-05-29       │\n",
       "│ CS028811000001 ┆ 2016-01-15       │\n",
       "│ …              ┆ …                │\n",
       "│ CS015414000103 ┆ 2015-07-22       │\n",
       "│ CS029403000008 ┆ 2015-05-15       │\n",
       "│ CS015804000004 ┆ 2015-06-07       │\n",
       "│ CS033513000180 ┆ 2015-07-28       │\n",
       "└────────────────┴──────────────────┘"
      ]
     },
     "execution_count": 94,
     "metadata": {},
     "output_type": "execute_result"
    }
   ],
   "source": [
    "let options: StrptimeOptions = StrptimeOptions {\n",
    "    format: Some(\"%Y%m%d\".into()),\n",
    "    strict: false,\n",
    "    exact: true,\n",
    "    cache: true,\n",
    "};\n",
    "\n",
    "df_customer.clone()\n",
    "    .select([\n",
    "        col(\"customer_id\"),\n",
    "        col(\"application_date\").str().to_date(options),\n",
    "    ])\n",
    "    .collect()\n",
    "    .unwrap()\n",
    "    .head(Some(10))"
   ]
  },
  {
   "cell_type": "markdown",
   "metadata": {},
   "source": [
    "---\n",
    "> P-047: レシート明細データ（df_receipt）の売上日（sales_ymd）はYYYYMMDD形式の数値型でデータを保有している。これを日付型に変換し、レシート番号（receipt_no）、レシートサブ番号（receipt_sub_no）とともに10件表示せよ。"
   ]
  },
  {
   "cell_type": "code",
   "execution_count": 125,
   "metadata": {
    "vscode": {
     "languageId": "rust"
    }
   },
   "outputs": [
    {
     "data": {
      "text/plain": [
       "shape: (10, 3)\n",
       "┌────────────┬────────────────┬────────────┐\n",
       "│ receipt_no ┆ receipt_sub_no ┆ sales_ymd  │\n",
       "│ ---        ┆ ---            ┆ ---        │\n",
       "│ i64        ┆ i64            ┆ date       │\n",
       "╞════════════╪════════════════╪════════════╡\n",
       "│ 112        ┆ 1              ┆ 2018-11-03 │\n",
       "│ 1132       ┆ 2              ┆ 2018-11-18 │\n",
       "│ 1102       ┆ 1              ┆ 2017-07-12 │\n",
       "│ 1132       ┆ 1              ┆ 2019-02-05 │\n",
       "│ …          ┆ …              ┆ …          │\n",
       "│ 1102       ┆ 2              ┆ 2018-12-05 │\n",
       "│ 1102       ┆ 1              ┆ 2019-09-22 │\n",
       "│ 1112       ┆ 2              ┆ 2017-05-04 │\n",
       "│ 1102       ┆ 1              ┆ 2019-10-10 │\n",
       "└────────────┴────────────────┴────────────┘"
      ]
     },
     "execution_count": 125,
     "metadata": {},
     "output_type": "execute_result"
    }
   ],
   "source": [
    "let options: StrptimeOptions = StrptimeOptions {\n",
    "    format: Some(\"%Y%m%d\".into()),\n",
    "    strict: false,\n",
    "    exact: true,\n",
    "    cache: true,\n",
    "};\n",
    "\n",
    "df_receipt.clone()\n",
    "    .select([\n",
    "        col(\"receipt_no\"),\n",
    "        col(\"receipt_sub_no\"),\n",
    "        col(\"sales_ymd\").cast(DataType::Utf8).str().to_date(options),\n",
    "    ])\n",
    "    .collect()\n",
    "    .unwrap()\n",
    "    .head(Some(10))"
   ]
  },
  {
   "cell_type": "markdown",
   "metadata": {},
   "source": [
    "---\n",
    "> P-048: レシート明細データ（df_receipt）の売上エポック秒（sales_epoch）は数値型のUNIX秒でデータを保有している。これを日付型に変換し、レシート番号(receipt_no)、レシートサブ番号（receipt_sub_no）とともに10件表示せよ。"
   ]
  },
  {
   "cell_type": "code",
   "execution_count": 126,
   "metadata": {
    "vscode": {
     "languageId": "rust"
    }
   },
   "outputs": [
    {
     "data": {
      "text/plain": [
       "shape: (10, 3)\n",
       "┌────────────┬────────────────┬────────────┐\n",
       "│ receipt_no ┆ receipt_sub_no ┆ sales_ymd  │\n",
       "│ ---        ┆ ---            ┆ ---        │\n",
       "│ i64        ┆ i64            ┆ date       │\n",
       "╞════════════╪════════════════╪════════════╡\n",
       "│ 112        ┆ 1              ┆ 2018-11-03 │\n",
       "│ 1132       ┆ 2              ┆ 2018-11-18 │\n",
       "│ 1102       ┆ 1              ┆ 2017-07-12 │\n",
       "│ 1132       ┆ 1              ┆ 2019-02-05 │\n",
       "│ …          ┆ …              ┆ …          │\n",
       "│ 1102       ┆ 2              ┆ 2018-12-05 │\n",
       "│ 1102       ┆ 1              ┆ 2019-09-22 │\n",
       "│ 1112       ┆ 2              ┆ 2017-05-04 │\n",
       "│ 1102       ┆ 1              ┆ 2019-10-10 │\n",
       "└────────────┴────────────────┴────────────┘"
      ]
     },
     "execution_count": 126,
     "metadata": {},
     "output_type": "execute_result"
    }
   ],
   "source": [
    "// to_datetimeを使用しない場合\n",
    "// df_receipt.clone()\n",
    "//     .select([\n",
    "//         col(\"receipt_no\"),\n",
    "//         col(\"receipt_sub_no\"),\n",
    "//         (col(\"sales_epoch\") * lit(1000))\n",
    "//             .cast(DataType::Datetime(\n",
    "//                 TimeUnit::Milliseconds,\n",
    "//                 Some(\"Tokyo\".into())\n",
    "//             ))\n",
    "//             .dt().date()\n",
    "//             .alias(\"sales_ymd\"),\n",
    "//     ])\n",
    "//     .collect()\n",
    "//     .unwrap()\n",
    "//     .head(Some(10))\n",
    "\n",
    "let options: StrptimeOptions = StrptimeOptions {\n",
    "    format: Some(\"%s\".into()),\n",
    "    strict: false,\n",
    "    exact: true,\n",
    "    cache: true,\n",
    "};\n",
    "\n",
    "df_receipt.clone()\n",
    "    .select([\n",
    "        col(\"receipt_no\"),\n",
    "        col(\"receipt_sub_no\"),\n",
    "        col(\"sales_epoch\").cast(DataType::Utf8)\n",
    "            .str().to_datetime(\n",
    "                Some(TimeUnit::Milliseconds),\n",
    "                Some(\"Tokyo\".into()),\n",
    "                options,\n",
    "            )\n",
    "            .dt().date()\n",
    "            .alias(\"sales_ymd\"),\n",
    "    ])\n",
    "    .collect()\n",
    "    .unwrap()\n",
    "    .head(Some(10))"
   ]
  },
  {
   "cell_type": "markdown",
   "metadata": {},
   "source": [
    "---\n",
    "> P-049: レシート明細データ（df_receipt）の売上エポック秒（sales_epoch）を日付型に変換し、「年」だけ取り出してレシート番号(receipt_no)、レシートサブ番号（receipt_sub_no）とともに10件表示せよ。"
   ]
  },
  {
   "cell_type": "code",
   "execution_count": 127,
   "metadata": {
    "vscode": {
     "languageId": "rust"
    }
   },
   "outputs": [
    {
     "data": {
      "text/plain": [
       "shape: (10, 3)\n",
       "┌────────────┬────────────────┬────────────┐\n",
       "│ receipt_no ┆ receipt_sub_no ┆ sales_year │\n",
       "│ ---        ┆ ---            ┆ ---        │\n",
       "│ i64        ┆ i64            ┆ i32        │\n",
       "╞════════════╪════════════════╪════════════╡\n",
       "│ 112        ┆ 1              ┆ 2018       │\n",
       "│ 1132       ┆ 2              ┆ 2018       │\n",
       "│ 1102       ┆ 1              ┆ 2017       │\n",
       "│ 1132       ┆ 1              ┆ 2019       │\n",
       "│ …          ┆ …              ┆ …          │\n",
       "│ 1102       ┆ 2              ┆ 2018       │\n",
       "│ 1102       ┆ 1              ┆ 2019       │\n",
       "│ 1112       ┆ 2              ┆ 2017       │\n",
       "│ 1102       ┆ 1              ┆ 2019       │\n",
       "└────────────┴────────────────┴────────────┘"
      ]
     },
     "execution_count": 127,
     "metadata": {},
     "output_type": "execute_result"
    }
   ],
   "source": [
    "let options: StrptimeOptions = StrptimeOptions {\n",
    "    format: Some(\"%s\".into()),\n",
    "    strict: false,\n",
    "    exact: true,\n",
    "    cache: true,\n",
    "};\n",
    "\n",
    "df_receipt.clone()\n",
    "    .select([\n",
    "        col(\"receipt_no\"),\n",
    "        col(\"receipt_sub_no\"),\n",
    "        col(\"sales_epoch\").cast(DataType::Utf8)\n",
    "            .str().to_datetime(\n",
    "                Some(TimeUnit::Milliseconds),\n",
    "                Some(\"Tokyo\".into()),\n",
    "                options,\n",
    "            )\n",
    "            .dt().year()\n",
    "            .alias(\"sales_year\"),\n",
    "    ])\n",
    "    .collect()\n",
    "    .unwrap()\n",
    "    .head(Some(10))"
   ]
  },
  {
   "cell_type": "markdown",
   "metadata": {},
   "source": [
    "---\n",
    "> P-050: レシート明細データ（df_receipt）の売上エポック秒（sales_epoch）を日付型に変換し、「月」だけ取り出してレシート番号(receipt_no)、レシートサブ番号（receipt_sub_no）とともに10件表示せよ。なお、「月」は0埋め2桁で取り出すこと。"
   ]
  },
  {
   "cell_type": "code",
   "execution_count": 128,
   "metadata": {
    "vscode": {
     "languageId": "rust"
    }
   },
   "outputs": [
    {
     "data": {
      "text/plain": [
       "shape: (10, 3)\n",
       "┌────────────┬────────────────┬─────────────┐\n",
       "│ receipt_no ┆ receipt_sub_no ┆ sales_month │\n",
       "│ ---        ┆ ---            ┆ ---         │\n",
       "│ i64        ┆ i64            ┆ u32         │\n",
       "╞════════════╪════════════════╪═════════════╡\n",
       "│ 112        ┆ 1              ┆ 11          │\n",
       "│ 1132       ┆ 2              ┆ 11          │\n",
       "│ 1102       ┆ 1              ┆ 7           │\n",
       "│ 1132       ┆ 1              ┆ 2           │\n",
       "│ …          ┆ …              ┆ …           │\n",
       "│ 1102       ┆ 2              ┆ 12          │\n",
       "│ 1102       ┆ 1              ┆ 9           │\n",
       "│ 1112       ┆ 2              ┆ 5           │\n",
       "│ 1102       ┆ 1              ┆ 10          │\n",
       "└────────────┴────────────────┴─────────────┘"
      ]
     },
     "execution_count": 128,
     "metadata": {},
     "output_type": "execute_result"
    }
   ],
   "source": [
    "let options: StrptimeOptions = StrptimeOptions {\n",
    "    format: Some(\"%s\".into()),\n",
    "    strict: false,\n",
    "    exact: true,\n",
    "    cache: true,\n",
    "};\n",
    "\n",
    "df_receipt.clone()\n",
    "    .select([\n",
    "        col(\"receipt_no\"),\n",
    "        col(\"receipt_sub_no\"),\n",
    "        col(\"sales_epoch\").cast(DataType::Utf8)\n",
    "            .str().to_datetime(\n",
    "                Some(TimeUnit::Milliseconds),\n",
    "                Some(\"Tokyo\".into()),\n",
    "                options,\n",
    "            )\n",
    "            .dt().month()\n",
    "            .alias(\"sales_month\"),\n",
    "    ])\n",
    "    .collect()\n",
    "    .unwrap()\n",
    "    .head(Some(10))"
   ]
  },
  {
   "cell_type": "markdown",
   "metadata": {},
   "source": [
    "---\n",
    "> P-051: レシート明細データ（df_receipt）の売上エポック秒を日付型に変換し、「日」だけ取り出してレシート番号(receipt_no)、レシートサブ番号（receipt_sub_no）とともに10件表示せよ。なお、「日」は0埋め2桁で取り出すこと。"
   ]
  },
  {
   "cell_type": "code",
   "execution_count": 130,
   "metadata": {
    "vscode": {
     "languageId": "rust"
    }
   },
   "outputs": [
    {
     "data": {
      "text/plain": [
       "shape: (10, 3)\n",
       "┌────────────┬────────────────┬──────────────┐\n",
       "│ receipt_no ┆ receipt_sub_no ┆ sales_day    │\n",
       "│ ---        ┆ ---            ┆              │\n",
       "│ i64        ┆ i64            ┆          …   │\n",
       "│            ┆                ┆ ---          │\n",
       "│            ┆                ┆ str          │\n",
       "╞════════════╪════════════════╪══════════════╡\n",
       "│ 112        ┆ 1              ┆ 03           │\n",
       "│ 1132       ┆ 2              ┆ 18           │\n",
       "│ 1102       ┆ 1              ┆ 12           │\n",
       "│ 1132       ┆ 1              ┆ 05           │\n",
       "│ …          ┆ …              ┆ …            │\n",
       "│ 1102       ┆ 2              ┆ 05           │\n",
       "│ 1102       ┆ 1              ┆ 22           │\n",
       "│ 1112       ┆ 2              ┆ 04           │\n",
       "│ 1102       ┆ 1              ┆ 10           │\n",
       "└────────────┴────────────────┴──────────────┘"
      ]
     },
     "execution_count": 130,
     "metadata": {},
     "output_type": "execute_result"
    }
   ],
   "source": [
    "let options: StrptimeOptions = StrptimeOptions {\n",
    "    format: Some(\"%s\".into()),\n",
    "    strict: false,\n",
    "    exact: true,\n",
    "    cache: true,\n",
    "};\n",
    "\n",
    "df_receipt.clone()\n",
    "    .select([\n",
    "        col(\"receipt_no\"),\n",
    "        col(\"receipt_sub_no\"),\n",
    "        col(\"sales_epoch\").cast(DataType::Utf8)\n",
    "            .str().to_datetime(\n",
    "                Some(TimeUnit::Milliseconds),\n",
    "                Some(\"Tokyo\".into()),\n",
    "                options,\n",
    "            )\n",
    "            .dt().to_string(\"%d\".into())\n",
    "            .alias(\"sales_day\"),\n",
    "    ])\n",
    "    .collect()\n",
    "    .unwrap()\n",
    "    .head(Some(10))"
   ]
  },
  {
   "cell_type": "markdown",
   "metadata": {},
   "source": [
    "---\n",
    "> P-052: レシート明細データ（df_receipt）の売上金額（amount）を顧客ID（customer_id）ごとに合計の上、売上金額合計に対して2,000円以下を0、2,000円より大きい金額を1に二値化し、顧客ID、売上金額合計とともに10件表示せよ。ただし、顧客IDが\"Z\"から始まるのものは非会員を表すため、除外して計算すること。"
   ]
  },
  {
   "cell_type": "code",
   "execution_count": 143,
   "metadata": {
    "vscode": {
     "languageId": "rust"
    }
   },
   "outputs": [
    {
     "data": {
      "text/plain": [
       "shape: (10, 3)\n",
       "┌────────────────┬────────┬───────────┐\n",
       "│ customer_id    ┆ amount ┆ sales_flg │\n",
       "│ ---            ┆ ---    ┆ ---       │\n",
       "│ str            ┆ i64    ┆ i32       │\n",
       "╞════════════════╪════════╪═══════════╡\n",
       "│ CS001113000004 ┆ 1298   ┆ 0         │\n",
       "│ CS001114000005 ┆ 626    ┆ 0         │\n",
       "│ CS001115000010 ┆ 3044   ┆ 1         │\n",
       "│ CS001205000004 ┆ 1988   ┆ 0         │\n",
       "│ …              ┆ …      ┆ …         │\n",
       "│ CS001212000027 ┆ 448    ┆ 0         │\n",
       "│ CS001212000031 ┆ 296    ┆ 0         │\n",
       "│ CS001212000046 ┆ 228    ┆ 0         │\n",
       "│ CS001212000070 ┆ 456    ┆ 0         │\n",
       "└────────────────┴────────┴───────────┘"
      ]
     },
     "execution_count": 143,
     "metadata": {},
     "output_type": "execute_result"
    }
   ],
   "source": [
    "let options: StrptimeOptions = StrptimeOptions {\n",
    "    format: Some(\"%s\".into()),\n",
    "    strict: false,\n",
    "    exact: true,\n",
    "    cache: true,\n",
    "};\n",
    "\n",
    "df_receipt.clone()\n",
    "    .filter(col(\"customer_id\").str().starts_with(lit(\"Z\")).not())\n",
    "    .groupby([\"customer_id\"]).agg([col(\"amount\").sum()])\n",
    "    .select([\n",
    "        col(\"customer_id\"),\n",
    "        col(\"amount\"),\n",
    "        when(col(\"amount\").gt_eq(lit(2000)))\n",
    "            .then(lit(1))\n",
    "            .otherwise(lit(0))\n",
    "            .alias(\"sales_flg\")\n",
    "    ])\n",
    "    .sort(\n",
    "        \"customer_id\",\n",
    "        SortOptions{\n",
    "            descending: false,\n",
    "            nulls_last: true,\n",
    "            multithreaded: true,\n",
    "            maintain_order: true\n",
    "        }\n",
    "    )\n",
    "    .collect()\n",
    "    .unwrap()\n",
    "    .head(Some(10))"
   ]
  },
  {
   "cell_type": "markdown",
   "metadata": {},
   "source": [
    "---\n",
    "> P-053: 顧客データ（df_customer）の郵便番号（postal_cd）に対し、東京（先頭3桁が100〜209のもの）を1、それ以外のものを0に二値化せよ。さらにレシート明細データ（df_receipt）と結合し、全期間において売上実績のある顧客数を、作成した二値ごとにカウントせよ。"
   ]
  },
  {
   "cell_type": "code",
   "execution_count": 170,
   "metadata": {
    "vscode": {
     "languageId": "rust"
    }
   },
   "outputs": [
    {
     "data": {
      "text/plain": [
       "shape: (2, 2)\n",
       "┌────────────┬─────────────┐\n",
       "│ postal_flg ┆ customer_id │\n",
       "│ ---        ┆ ---         │\n",
       "│ i32        ┆ u32         │\n",
       "╞════════════╪═════════════╡\n",
       "│ 0          ┆ 3906        │\n",
       "│ 1          ┆ 4400        │\n",
       "└────────────┴─────────────┘"
      ]
     },
     "execution_count": 170,
     "metadata": {},
     "output_type": "execute_result"
    }
   ],
   "source": [
    "df_customer.clone()\n",
    "    .with_column(col(\"postal_cd\").str().str_slice(0, Some(3)).cast(DataType::Int16).alias(\"postal_flg\"))\n",
    "    .select([\n",
    "        col(\"customer_id\"),\n",
    "        when(col(\"postal_flg\").gt_eq(lit(100)).and(col(\"postal_flg\").lt_eq(lit(209))))\n",
    "            .then(lit(1))\n",
    "            .otherwise(lit(0)).alias(\"postal_flg\"),\n",
    "    ])\n",
    "    .inner_join(df_receipt.clone(), col(\"customer_id\"), col(\"customer_id\"))\n",
    "    .groupby([\"postal_flg\"]).agg([col(\"customer_id\").n_unique()])\n",
    "    .collect()\n",
    "    .unwrap()\n"
   ]
  },
  {
   "cell_type": "markdown",
   "metadata": {},
   "source": [
    "---\n",
    "> P-054: 顧客データ（df_customer）の住所（address）は、埼玉県、千葉県、東京都、神奈川県のいずれかとなっている。都道府県毎にコード値を作成し、顧客ID、住所とともに10件表示せよ。値は埼玉県を11、千葉県を12、東京都を13、神奈川県を14とすること。"
   ]
  },
  {
   "cell_type": "code",
   "execution_count": 177,
   "metadata": {
    "vscode": {
     "languageId": "rust"
    }
   },
   "outputs": [
    {
     "data": {
      "text/plain": [
       "shape: (10, 3)\n",
       "┌────────────────┬───────────────────────────────────┬───────────────┐\n",
       "│ customer_id    ┆ address                           ┆ prefecture_cd │\n",
       "│ ---            ┆ ---                               ┆ ---           │\n",
       "│ str            ┆ str                               ┆ str           │\n",
       "╞════════════════╪═══════════════════════════════════╪═══════════════╡\n",
       "│ CS021313000114 ┆ 神奈川県伊勢原市粟窪**********    ┆ 14            │\n",
       "│ CS037613000071 ┆ 東京都江東区南砂**********        ┆ 13            │\n",
       "│ CS031415000172 ┆ 東京都渋谷区代々木**********      ┆ 13            │\n",
       "│ CS028811000001 ┆ 神奈川県横浜市泉区和泉町********* ┆ 14            │\n",
       "│                ┆ *                                 ┆               │\n",
       "│ …              ┆ …                                 ┆ …             │\n",
       "│ CS015414000103 ┆ 東京都江東区北砂**********        ┆ 13            │\n",
       "│ CS029403000008 ┆ 千葉県浦安市海楽**********        ┆ 12            │\n",
       "│ CS015804000004 ┆ 東京都江東区北砂**********        ┆ 13            │\n",
       "│ CS033513000180 ┆ 神奈川県横浜市旭区善部町********* ┆ 14            │\n",
       "│                ┆ *                                 ┆               │\n",
       "└────────────────┴───────────────────────────────────┴───────────────┘"
      ]
     },
     "execution_count": 177,
     "metadata": {},
     "output_type": "execute_result"
    }
   ],
   "source": [
    "df_customer.clone()\n",
    "    .with_column(\n",
    "        when(col(\"address\").str().contains(lit(\"埼玉県\"), true)).then(lit(11))\n",
    "        .when(col(\"address\").str().contains(lit(\"千葉県\"), true)).then(lit(12))\n",
    "        .when(col(\"address\").str().contains(lit(\"東京都\"), true)).then(lit(13))\n",
    "        .when(col(\"address\").str().contains(lit(\"神奈川県\"), true)).then(lit(14))\n",
    "        .otherwise(lit(\"\")).alias(\"prefecture_cd\")\n",
    "    ).select([\n",
    "        col(\"customer_id\"),\n",
    "        col(\"address\"),\n",
    "        col(\"prefecture_cd\"),\n",
    "    ])\n",
    "    .collect()\n",
    "    .unwrap()\n",
    "    .head(Some(10))"
   ]
  },
  {
   "cell_type": "markdown",
   "metadata": {},
   "source": [
    "---\n",
    "> P-055: レシート明細（df_receipt）データの売上金額（amount）を顧客ID（customer_id）ごとに合計し、その合計金額の四分位点を求めよ。その上で、顧客ごとの売上金額合計に対して以下の基準でカテゴリ値を作成し、顧客ID、売上金額合計とともに10件表示せよ。カテゴリ値は順に1〜4とする。\n",
    ">\n",
    "> - 最小値以上第1四分位未満 ・・・ 1を付与\n",
    "> - 第1四分位以上第2四分位未満 ・・・ 2を付与\n",
    "> - 第2四分位以上第3四分位未満 ・・・ 3を付与\n",
    "> - 第3四分位以上 ・・・ 4を付与"
   ]
  },
  {
   "cell_type": "code",
   "execution_count": 181,
   "metadata": {
    "vscode": {
     "languageId": "rust"
    }
   },
   "outputs": [
    {
     "data": {
      "text/plain": [
       "shape: (10, 3)\n",
       "┌────────────────┬────────┬───────────┐\n",
       "│ customer_id    ┆ amount ┆ pct_group │\n",
       "│ ---            ┆ ---    ┆ ---       │\n",
       "│ str            ┆ i64    ┆ i32       │\n",
       "╞════════════════╪════════╪═══════════╡\n",
       "│ CS001113000004 ┆ 1298   ┆ 2         │\n",
       "│ CS001114000005 ┆ 626    ┆ 2         │\n",
       "│ CS001115000010 ┆ 3044   ┆ 3         │\n",
       "│ CS001205000004 ┆ 1988   ┆ 3         │\n",
       "│ …              ┆ …      ┆ …         │\n",
       "│ CS001212000027 ┆ 448    ┆ 1         │\n",
       "│ CS001212000031 ┆ 296    ┆ 1         │\n",
       "│ CS001212000046 ┆ 228    ┆ 1         │\n",
       "│ CS001212000070 ┆ 456    ┆ 1         │\n",
       "└────────────────┴────────┴───────────┘"
      ]
     },
     "execution_count": 181,
     "metadata": {},
     "output_type": "execute_result"
    }
   ],
   "source": [
    "df_receipt.clone()\n",
    "    .groupby([\"customer_id\"]).agg([col(\"amount\").sum()])\n",
    "    .with_column(\n",
    "        when(col(\"amount\").lt(col(\"amount\").quantile(lit(0.25), QuantileInterpolOptions::Nearest))).then(lit(1))\n",
    "        .when(col(\"amount\").lt(col(\"amount\").quantile(lit(0.50), QuantileInterpolOptions::Nearest))).then(lit(2))\n",
    "        .when(col(\"amount\").lt(col(\"amount\").quantile(lit(0.75), QuantileInterpolOptions::Nearest))).then(lit(3))\n",
    "        .otherwise(lit(4)).alias(\"pct_group\")\n",
    "    ).sort(\n",
    "        \"customer_id\",\n",
    "        SortOptions{\n",
    "            descending: false,\n",
    "            nulls_last: true,\n",
    "            multithreaded: true,\n",
    "            maintain_order: true\n",
    "        }\n",
    "    ).collect()\n",
    "    .unwrap()\n",
    "    .head(Some(10))"
   ]
  },
  {
   "cell_type": "markdown",
   "metadata": {},
   "source": [
    "---\n",
    "> P-056: 顧客データ（df_customer）の年齢（age）をもとに10歳刻みで年代を算出し、顧客ID（customer_id）、生年月日（birth_day）とともに10件表示せよ。ただし、60歳以上は全て60歳代とすること。年代を表すカテゴリ名は任意とする。"
   ]
  },
  {
   "cell_type": "code",
   "execution_count": 220,
   "metadata": {
    "vscode": {
     "languageId": "rust"
    }
   },
   "outputs": [
    {
     "data": {
      "text/plain": [
       "shape: (10, 3)\n",
       "┌────────────────┬────────────┬─────┐\n",
       "│ customer_id    ┆ birth_day  ┆ era │\n",
       "│ ---            ┆ ---        ┆ --- │\n",
       "│ str            ┆ date       ┆ i32 │\n",
       "╞════════════════╪════════════╪═════╡\n",
       "│ CS021313000114 ┆ 1981-04-29 ┆ 30  │\n",
       "│ CS037613000071 ┆ 1952-04-01 ┆ 60  │\n",
       "│ CS031415000172 ┆ 1976-10-04 ┆ 40  │\n",
       "│ CS028811000001 ┆ 1933-03-27 ┆ 60  │\n",
       "│ …              ┆ …          ┆ …   │\n",
       "│ CS015414000103 ┆ 1977-08-09 ┆ 40  │\n",
       "│ CS029403000008 ┆ 1973-08-17 ┆ 40  │\n",
       "│ CS015804000004 ┆ 1931-05-02 ┆ 60  │\n",
       "│ CS033513000180 ┆ 1962-07-11 ┆ 50  │\n",
       "└────────────────┴────────────┴─────┘"
      ]
     },
     "execution_count": 220,
     "metadata": {},
     "output_type": "execute_result"
    }
   ],
   "source": [
    "df_customer.clone()\n",
    "    .select([\n",
    "        col(\"customer_id\"),\n",
    "        col(\"birth_day\"),\n",
    "        when(col(\"age\").gt_eq(lit(60))).then(60)\n",
    "            .otherwise(((col(\"age\") / lit(10.0)).floor() * lit(10.0)).cast(DataType::Int32))\n",
    "            .alias(\"era\"),\n",
    "    ])\n",
    "    .collect()\n",
    "    .unwrap()\n",
    "    .head(Some(10))"
   ]
  },
  {
   "cell_type": "markdown",
   "metadata": {},
   "source": [
    "---\n",
    "> P-057: 056の抽出結果と性別コード（gender_cd）により、新たに性別×年代の組み合わせを表すカテゴリデータを作成し、10件表示せよ。組み合わせを表すカテゴリの値は任意とする。"
   ]
  },
  {
   "cell_type": "code",
   "execution_count": 4,
   "metadata": {
    "vscode": {
     "languageId": "rust"
    }
   },
   "outputs": [
    {
     "data": {
      "text/plain": [
       "shape: (10, 4)\n",
       "┌────────────────┬────────────┬─────┬───────────┐\n",
       "│ customer_id    ┆ birth_day  ┆ era ┆ gender_cd │\n",
       "│ ---            ┆ ---        ┆ --- ┆ ---       │\n",
       "│ str            ┆ date       ┆ i32 ┆ str       │\n",
       "╞════════════════╪════════════╪═════╪═══════════╡\n",
       "│ CS021313000114 ┆ 1981-04-29 ┆ 30  ┆ 130       │\n",
       "│ CS037613000071 ┆ 1952-04-01 ┆ 60  ┆ 960       │\n",
       "│ CS031415000172 ┆ 1976-10-04 ┆ 40  ┆ 140       │\n",
       "│ CS028811000001 ┆ 1933-03-27 ┆ 60  ┆ 160       │\n",
       "│ …              ┆ …          ┆ …   ┆ …         │\n",
       "│ CS015414000103 ┆ 1977-08-09 ┆ 40  ┆ 140       │\n",
       "│ CS029403000008 ┆ 1973-08-17 ┆ 40  ┆ 040       │\n",
       "│ CS015804000004 ┆ 1931-05-02 ┆ 60  ┆ 060       │\n",
       "│ CS033513000180 ┆ 1962-07-11 ┆ 50  ┆ 150       │\n",
       "└────────────────┴────────────┴─────┴───────────┘"
      ]
     },
     "execution_count": 4,
     "metadata": {},
     "output_type": "execute_result"
    }
   ],
   "source": [
    "df_customer.clone()\n",
    "    .with_column(\n",
    "        when(col(\"age\").gt_eq(lit(60))).then(60)\n",
    "            .otherwise(((col(\"age\") / lit(10.0)).floor() * lit(10.0)).cast(DataType::Int32))\n",
    "            .alias(\"era\"),\n",
    "    )\n",
    "    .select([\n",
    "        col(\"customer_id\"),\n",
    "        col(\"birth_day\"),\n",
    "        col(\"era\"),\n",
    "        concat_str([col(\"gender_cd\"), col(\"era\").cast(DataType::Utf8)], \"\"),\n",
    "    ])\n",
    "    .collect()\n",
    "    .unwrap()\n",
    "    .head(Some(10))"
   ]
  },
  {
   "cell_type": "markdown",
   "metadata": {},
   "source": [
    "---\n",
    "> P-058: 顧客データ（df_customer）の性別コード（gender_cd）をダミー変数化し、顧客ID（customer_id）とともに10件表示せよ。"
   ]
  },
  {
   "cell_type": "code",
   "execution_count": 8,
   "metadata": {
    "vscode": {
     "languageId": "rust"
    }
   },
   "outputs": [
    {
     "data": {
      "text/plain": [
       "shape: (10, 4)\n",
       "┌────────────────┬─────────────┬─────────────┬─────────────┐\n",
       "│ customer_id    ┆ gender_cd_0 ┆ gender_cd_1 ┆ gender_cd_9 │\n",
       "│ ---            ┆ ---         ┆ ---         ┆ ---         │\n",
       "│ str            ┆ u8          ┆ u8          ┆ u8          │\n",
       "╞════════════════╪═════════════╪═════════════╪═════════════╡\n",
       "│ CS021313000114 ┆ 0           ┆ 1           ┆ 0           │\n",
       "│ CS037613000071 ┆ 0           ┆ 0           ┆ 1           │\n",
       "│ CS031415000172 ┆ 0           ┆ 1           ┆ 0           │\n",
       "│ CS028811000001 ┆ 0           ┆ 1           ┆ 0           │\n",
       "│ …              ┆ …           ┆ …           ┆ …           │\n",
       "│ CS015414000103 ┆ 0           ┆ 1           ┆ 0           │\n",
       "│ CS029403000008 ┆ 1           ┆ 0           ┆ 0           │\n",
       "│ CS015804000004 ┆ 1           ┆ 0           ┆ 0           │\n",
       "│ CS033513000180 ┆ 0           ┆ 1           ┆ 0           │\n",
       "└────────────────┴─────────────┴─────────────┴─────────────┘"
      ]
     },
     "execution_count": 8,
     "metadata": {},
     "output_type": "execute_result"
    }
   ],
   "source": [
    "df_customer.clone()\n",
    "    .select([\n",
    "        col(\"customer_id\"),\n",
    "        col(\"gender_cd\"),\n",
    "    ])\n",
    "    .collect()\n",
    "    .unwrap()\n",
    "    .columns_to_dummies(vec![\"gender_cd\"], None, false)\n",
    "    .unwrap()\n",
    "    .head(Some(10))"
   ]
  },
  {
   "cell_type": "markdown",
   "metadata": {},
   "source": [
    "---\n",
    "> P-059: レシート明細データ（df_receipt）の売上金額（amount）を顧客ID（customer_id）ごとに合計し、売上金額合計を平均0、標準偏差1に標準化して顧客ID、売上金額合計とともに10件表示せよ。標準化に使用する標準偏差は、分散の平方根、もしくは不偏分散の平方根のどちらでも良いものとする。ただし、顧客IDが\"Z\"から始まるのものは非会員を表すため、除外して計算すること。"
   ]
  },
  {
   "cell_type": "markdown",
   "metadata": {},
   "source": [
    "TIPS:\n",
    "- query()の引数engineで\"python\"か\"numexpr\"かを選択でき、デフォルトはインストールされていればnumexprが、無ければpythonが使われます。さらに、文字列メソッドはengine=\"python\"でないとquery()内で使えません。\n"
   ]
  },
  {
   "cell_type": "code",
   "execution_count": 19,
   "metadata": {
    "vscode": {
     "languageId": "rust"
    }
   },
   "outputs": [
    {
     "data": {
      "text/plain": [
       "shape: (10, 3)\n",
       "┌────────────────┬────────┬────────────┐\n",
       "│ customer_id    ┆ amount ┆ std_amount │\n",
       "│ ---            ┆ ---    ┆ ---        │\n",
       "│ str            ┆ i64    ┆ f64        │\n",
       "╞════════════════╪════════╪════════════╡\n",
       "│ CS001113000004 ┆ 1298   ┆ -0.459378  │\n",
       "│ CS001114000005 ┆ 626    ┆ -0.70639   │\n",
       "│ CS001115000010 ┆ 3044   ┆ 0.182413   │\n",
       "│ CS001205000004 ┆ 1988   ┆ -0.205749  │\n",
       "│ …              ┆ …      ┆ …          │\n",
       "│ CS001212000027 ┆ 448    ┆ -0.771819  │\n",
       "│ CS001212000031 ┆ 296    ┆ -0.827691  │\n",
       "│ CS001212000046 ┆ 228    ┆ -0.852686  │\n",
       "│ CS001212000070 ┆ 456    ┆ -0.768879  │\n",
       "└────────────────┴────────┴────────────┘"
      ]
     },
     "execution_count": 19,
     "metadata": {},
     "output_type": "execute_result"
    }
   ],
   "source": [
    "let amount: Expr = col(\"amount\");\n",
    "\n",
    "df_receipt.clone()\n",
    "    .filter(\n",
    "        col(\"customer_id\").str().starts_with(lit(\"Z\")).not()\n",
    "    )\n",
    "    .groupby([\"customer_id\"]).agg([col(\"amount\").sum()])\n",
    "    .select([\n",
    "        col(\"customer_id\"),\n",
    "        col(\"amount\"),\n",
    "        ((amount.clone() - amount.clone().mean()) / amount.clone().std(0)).alias(\"std_amount\")\n",
    "    ])\n",
    "    .sort(\n",
    "        \"customer_id\",\n",
    "        SortOptions{\n",
    "            descending: false,\n",
    "            nulls_last: true,\n",
    "            multithreaded: true,\n",
    "            maintain_order: true\n",
    "        }\n",
    "    )\n",
    "    .collect()\n",
    "    .unwrap()\n",
    "    .head(Some(10))"
   ]
  },
  {
   "cell_type": "markdown",
   "metadata": {},
   "source": [
    "---\n",
    "> P-060: レシート明細データ（df_receipt）の売上金額（amount）を顧客ID（customer_id）ごとに合計し、売上金額合計を最小値0、最大値1に正規化して顧客ID、売上金額合計とともに10件表示せよ。ただし、顧客IDが\"Z\"から始まるのものは非会員を表すため、除外して計算すること。"
   ]
  },
  {
   "cell_type": "code",
   "execution_count": 26,
   "metadata": {
    "vscode": {
     "languageId": "rust"
    }
   },
   "outputs": [
    {
     "data": {
      "text/plain": [
       "shape: (10, 3)\n",
       "┌────────────────┬────────┬──────────────┐\n",
       "│ customer_id    ┆ amount ┆ scale_amount │\n",
       "│ ---            ┆ ---    ┆ ---          │\n",
       "│ str            ┆ i64    ┆ f64          │\n",
       "╞════════════════╪════════╪══════════════╡\n",
       "│ CS001113000004 ┆ 1298   ┆ 0.053354     │\n",
       "│ CS001114000005 ┆ 626    ┆ 0.024157     │\n",
       "│ CS001115000010 ┆ 3044   ┆ 0.129214     │\n",
       "│ CS001205000004 ┆ 1988   ┆ 0.083333     │\n",
       "│ …              ┆ …      ┆ …            │\n",
       "│ CS001212000027 ┆ 448    ┆ 0.016423     │\n",
       "│ CS001212000031 ┆ 296    ┆ 0.009819     │\n",
       "│ CS001212000046 ┆ 228    ┆ 0.006865     │\n",
       "│ CS001212000070 ┆ 456    ┆ 0.016771     │\n",
       "└────────────────┴────────┴──────────────┘"
      ]
     },
     "execution_count": 26,
     "metadata": {},
     "output_type": "execute_result"
    }
   ],
   "source": [
    "let amount: Expr = col(\"amount\");\n",
    "\n",
    "df_receipt.clone()\n",
    "    .filter(col(\"customer_id\").str().starts_with(lit(\"Z\")).not())\n",
    "    .groupby([\"customer_id\"]).agg([col(\"amount\").sum()])\n",
    "    .select([\n",
    "        col(\"customer_id\"),\n",
    "        col(\"amount\"),\n",
    "        ((amount.clone() - amount.clone().min()).cast(DataType::Float64) / (amount.clone().max() - amount.clone().min())).alias(\"scale_amount\")\n",
    "    ])\n",
    "    .sort(\n",
    "        \"customer_id\",\n",
    "        SortOptions{\n",
    "            descending: false,\n",
    "            nulls_last: true,\n",
    "            multithreaded: true,\n",
    "            maintain_order: true\n",
    "        }\n",
    "    )\n",
    "    .collect()\n",
    "    .unwrap()\n",
    "    .head(Some(10))"
   ]
  },
  {
   "cell_type": "markdown",
   "metadata": {},
   "source": [
    "---\n",
    "> P-061: レシート明細データ（df_receipt）の売上金額（amount）を顧客ID（customer_id）ごとに合計し、売上金額合計を常用対数化（底10）して顧客ID、売上金額合計とともに10件表示せよ。ただし、顧客IDが\"Z\"から始まるのものは非会員を表すため、除外して計算すること。"
   ]
  },
  {
   "cell_type": "code",
   "execution_count": 37,
   "metadata": {
    "vscode": {
     "languageId": "rust"
    }
   },
   "outputs": [
    {
     "data": {
      "text/plain": [
       "shape: (10, 3)\n",
       "┌────────────────┬────────┬────────────┐\n",
       "│ customer_id    ┆ amount ┆ log_amount │\n",
       "│ ---            ┆ ---    ┆ ---        │\n",
       "│ str            ┆ f64    ┆ f64        │\n",
       "╞════════════════╪════════╪════════════╡\n",
       "│ CS001113000004 ┆ 1298.5 ┆ 3.113442   │\n",
       "│ CS001114000005 ┆ 626.5  ┆ 2.796921   │\n",
       "│ CS001115000010 ┆ 3044.5 ┆ 3.483516   │\n",
       "│ CS001205000004 ┆ 1988.5 ┆ 3.298526   │\n",
       "│ …              ┆ …      ┆ …          │\n",
       "│ CS001212000027 ┆ 448.5  ┆ 2.651762   │\n",
       "│ CS001212000031 ┆ 296.5  ┆ 2.472025   │\n",
       "│ CS001212000046 ┆ 228.5  ┆ 2.358886   │\n",
       "│ CS001212000070 ┆ 456.5  ┆ 2.659441   │\n",
       "└────────────────┴────────┴────────────┘"
      ]
     },
     "execution_count": 37,
     "metadata": {},
     "output_type": "execute_result"
    }
   ],
   "source": [
    "df_receipt.clone()\n",
    "    .filter(col(\"customer_id\").str().starts_with(lit(\"Z\")).not())\n",
    "    .groupby([\"customer_id\"]).agg([col(\"amount\").sum() + lit(0.5)]) // +0.5の理由?\n",
    "    .with_column(col(\"amount\").log(10.0).alias(\"log_amount\"))\n",
    "    .sort(\n",
    "        \"customer_id\",\n",
    "        SortOptions{\n",
    "            descending: false,\n",
    "            nulls_last: true,\n",
    "            multithreaded: true,\n",
    "            maintain_order: true\n",
    "        }\n",
    "    )\n",
    "    .collect()\n",
    "    .unwrap()\n",
    "    .head(Some(10))"
   ]
  },
  {
   "cell_type": "markdown",
   "metadata": {},
   "source": [
    "---\n",
    "> P-062: レシート明細データ（df_receipt）の売上金額（amount）を顧客ID（customer_id）ごとに合計し、売上金額合計を自然対数化（底e）して顧客ID、売上金額合計とともに10件表示せよ。ただし、顧客IDが\"Z\"から始まるのものは非会員を表すため、除外して計算すること。"
   ]
  },
  {
   "cell_type": "code",
   "execution_count": 39,
   "metadata": {
    "vscode": {
     "languageId": "rust"
    }
   },
   "outputs": [
    {
     "data": {
      "text/plain": [
       "shape: (10, 3)\n",
       "┌────────────────┬────────┬────────────┐\n",
       "│ customer_id    ┆ amount ┆ log_amount │\n",
       "│ ---            ┆ ---    ┆ ---        │\n",
       "│ str            ┆ f64    ┆ f64        │\n",
       "╞════════════════╪════════╪════════════╡\n",
       "│ CS001113000004 ┆ 1297.5 ┆ 7.168965   │\n",
       "│ CS001114000005 ┆ 625.5  ┆ 6.440149   │\n",
       "│ CS001115000010 ┆ 3043.5 ┆ 8.021092   │\n",
       "│ CS001205000004 ┆ 1987.5 ┆ 7.595136   │\n",
       "│ …              ┆ …      ┆ …          │\n",
       "│ CS001212000027 ┆ 447.5  ┆ 6.105909   │\n",
       "│ CS001212000031 ┆ 295.5  ┆ 5.692047   │\n",
       "│ CS001212000046 ┆ 227.5  ┆ 5.431536   │\n",
       "│ CS001212000070 ┆ 455.5  ┆ 6.123589   │\n",
       "└────────────────┴────────┴────────────┘"
      ]
     },
     "execution_count": 39,
     "metadata": {},
     "output_type": "execute_result"
    }
   ],
   "source": [
    "df_receipt.clone()\n",
    "    .filter(col(\"customer_id\").str().starts_with(lit(\"Z\")).not())\n",
    "    .groupby([\"customer_id\"]).agg([col(\"amount\").sum() - lit(0.5)]) // -0.5の理由?\n",
    "    .with_column(col(\"amount\").log1p().alias(\"log_amount\"))  // log1pはln(x + 1)を計算している\n",
    "    .sort(\n",
    "        \"customer_id\",\n",
    "        SortOptions{\n",
    "            descending: false,\n",
    "            nulls_last: true,\n",
    "            multithreaded: true,\n",
    "            maintain_order: true\n",
    "        }\n",
    "    )\n",
    "    .collect()\n",
    "    .unwrap()\n",
    "    .head(Some(10))"
   ]
  },
  {
   "cell_type": "markdown",
   "metadata": {},
   "source": [
    "---\n",
    "> P-063: 商品データ（df_product）の単価（unit_price）と原価（unit_cost）から各商品の利益額を算出し、結果を10件表示せよ。"
   ]
  },
  {
   "cell_type": "code",
   "execution_count": 40,
   "metadata": {
    "vscode": {
     "languageId": "rust"
    }
   },
   "outputs": [
    {
     "data": {
      "text/plain": [
       "shape: (10, 7)\n",
       "┌────────────┬───────────────┬───────────────┬──────────────┬────────────┬───────────┬─────────────┐\n",
       "│ product_cd ┆ category_majo ┆ category_medi ┆ category_sma ┆ unit_price ┆ unit_cost ┆ unit_profit │\n",
       "│ ---        ┆ r_cd          ┆ um_cd         ┆ ll_cd        ┆ ---        ┆ ---       ┆ ---         │\n",
       "│ str        ┆ ---           ┆ ---           ┆ ---          ┆ i64        ┆ i64       ┆ i64         │\n",
       "│            ┆ str           ┆ str           ┆ str          ┆            ┆           ┆             │\n",
       "╞════════════╪═══════════════╪═══════════════╪══════════════╪════════════╪═══════════╪═════════════╡\n",
       "│ P040101001 ┆ 04            ┆ 0401          ┆ 040101       ┆ 198        ┆ 149       ┆ 49          │\n",
       "│ P040101002 ┆ 04            ┆ 0401          ┆ 040101       ┆ 218        ┆ 164       ┆ 54          │\n",
       "│ P040101003 ┆ 04            ┆ 0401          ┆ 040101       ┆ 230        ┆ 173       ┆ 57          │\n",
       "│ P040101004 ┆ 04            ┆ 0401          ┆ 040101       ┆ 248        ┆ 186       ┆ 62          │\n",
       "│ …          ┆ …             ┆ …             ┆ …            ┆ …          ┆ …         ┆ …           │\n",
       "│ P040101007 ┆ 04            ┆ 0401          ┆ 040101       ┆ 338        ┆ 254       ┆ 84          │\n",
       "│ P040101008 ┆ 04            ┆ 0401          ┆ 040101       ┆ 420        ┆ 315       ┆ 105         │\n",
       "│ P040101009 ┆ 04            ┆ 0401          ┆ 040101       ┆ 498        ┆ 374       ┆ 124         │\n",
       "│ P040101010 ┆ 04            ┆ 0401          ┆ 040101       ┆ 580        ┆ 435       ┆ 145         │\n",
       "└────────────┴───────────────┴───────────────┴──────────────┴────────────┴───────────┴─────────────┘"
      ]
     },
     "execution_count": 40,
     "metadata": {},
     "output_type": "execute_result"
    }
   ],
   "source": [
    "df_product.clone()\n",
    "    .with_column((col(\"unit_price\") - col(\"unit_cost\")).alias(\"unit_profit\"))\n",
    "    .collect()\n",
    "    .unwrap()\n",
    "    .head(Some(10))"
   ]
  },
  {
   "cell_type": "markdown",
   "metadata": {},
   "source": [
    "---\n",
    "> P-064: 商品データ（df_product）の単価（unit_price）と原価（unit_cost）から、各商品の利益率の全体平均を算出せよ。ただし、単価と原価には欠損が生じていることに注意せよ。"
   ]
  },
  {
   "cell_type": "code",
   "execution_count": 46,
   "metadata": {
    "vscode": {
     "languageId": "rust"
    }
   },
   "outputs": [
    {
     "data": {
      "text/plain": [
       "shape: (1, 1)\n",
       "┌──────────────────┐\n",
       "│ unit_profit_rate │\n",
       "│ ---              │\n",
       "│ f64              │\n",
       "╞══════════════════╡\n",
       "│ 0.249114         │\n",
       "└──────────────────┘"
      ]
     },
     "execution_count": 46,
     "metadata": {},
     "output_type": "execute_result"
    }
   ],
   "source": [
    "df_product.clone()\n",
    "    .select([((col(\"unit_price\") - col(\"unit_cost\")).cast(DataType::Float64) / col(\"unit_price\")).alias(\"unit_profit_rate\")])\n",
    "    .mean()\n",
    "    .collect()\n",
    "    .unwrap()"
   ]
  },
  {
   "cell_type": "markdown",
   "metadata": {},
   "source": [
    "---\n",
    "> P-065: 商品データ（df_product）の各商品について、利益率が30%となる新たな単価を求めよ。ただし、1円未満は切り捨てること。そして結果を10件表示させ、利益率がおよそ30％付近であることを確認せよ。ただし、単価（unit_price）と原価（unit_cost）には欠損が生じていることに注意せよ。"
   ]
  },
  {
   "cell_type": "code",
   "execution_count": 58,
   "metadata": {
    "vscode": {
     "languageId": "rust"
    }
   },
   "outputs": [
    {
     "data": {
      "text/plain": [
       "shape: (10, 5)\n",
       "┌────────────┬────────────┬───────────┬───────────┬─────────────────┐\n",
       "│ product_cd ┆ unit_price ┆ unit_cost ┆ new_price ┆ new_profit_rate │\n",
       "│ ---        ┆ ---        ┆ ---       ┆ ---       ┆ ---             │\n",
       "│ str        ┆ i64        ┆ i64       ┆ f64       ┆ f64             │\n",
       "╞════════════╪════════════╪═══════════╪═══════════╪═════════════════╡\n",
       "│ P040101001 ┆ 198        ┆ 149       ┆ 212.0     ┆ 0.29717         │\n",
       "│ P040101002 ┆ 218        ┆ 164       ┆ 234.0     ┆ 0.299145        │\n",
       "│ P040101003 ┆ 230        ┆ 173       ┆ 247.0     ┆ 0.299595        │\n",
       "│ P040101004 ┆ 248        ┆ 186       ┆ 265.0     ┆ 0.298113        │\n",
       "│ …          ┆ …          ┆ …         ┆ …         ┆ …               │\n",
       "│ P040101007 ┆ 338        ┆ 254       ┆ 362.0     ┆ 0.298343        │\n",
       "│ P040101008 ┆ 420        ┆ 315       ┆ 450.0     ┆ 0.3             │\n",
       "│ P040101009 ┆ 498        ┆ 374       ┆ 534.0     ┆ 0.299625        │\n",
       "│ P040101010 ┆ 580        ┆ 435       ┆ 621.0     ┆ 0.299517        │\n",
       "└────────────┴────────────┴───────────┴───────────┴─────────────────┘"
      ]
     },
     "execution_count": 58,
     "metadata": {},
     "output_type": "execute_result"
    }
   ],
   "source": [
    "df_product.clone()\n",
    "    .select([\n",
    "        col(\"product_cd\"),\n",
    "        col(\"unit_price\"),\n",
    "        col(\"unit_cost\"),\n",
    "        (col(\"unit_cost\") / lit(0.7)).floor().alias(\"new_price\"),\n",
    "    ])\n",
    "    .with_column(((col(\"new_price\") - col(\"unit_cost\")) / col(\"new_price\")).alias(\"new_profit_rate\"))\n",
    "    .collect()\n",
    "    .unwrap()\n",
    "    .head(Some(10))"
   ]
  },
  {
   "cell_type": "markdown",
   "metadata": {},
   "source": [
    "---\n",
    "> P-066: 商品データ（df_product）の各商品について、利益率が30%となる新たな単価を求めよ。今回は、1円未満を丸めること（四捨五入または偶数への丸めで良い）。そして結果を10件表示させ、利益率がおよそ30％付近であることを確認せよ。ただし、単価（unit_price）と原価（unit_cost）には欠損が生じていることに注意せよ。"
   ]
  },
  {
   "cell_type": "code",
   "execution_count": 60,
   "metadata": {
    "vscode": {
     "languageId": "rust"
    }
   },
   "outputs": [
    {
     "data": {
      "text/plain": [
       "shape: (10, 5)\n",
       "┌────────────┬────────────┬───────────┬───────────┬─────────────────┐\n",
       "│ product_cd ┆ unit_price ┆ unit_cost ┆ new_price ┆ new_profit_rate │\n",
       "│ ---        ┆ ---        ┆ ---       ┆ ---       ┆ ---             │\n",
       "│ str        ┆ i64        ┆ i64       ┆ f64       ┆ f64             │\n",
       "╞════════════╪════════════╪═══════════╪═══════════╪═════════════════╡\n",
       "│ P040101001 ┆ 198        ┆ 149       ┆ 213.0     ┆ 0.300469        │\n",
       "│ P040101002 ┆ 218        ┆ 164       ┆ 234.0     ┆ 0.299145        │\n",
       "│ P040101003 ┆ 230        ┆ 173       ┆ 247.0     ┆ 0.299595        │\n",
       "│ P040101004 ┆ 248        ┆ 186       ┆ 266.0     ┆ 0.300752        │\n",
       "│ …          ┆ …          ┆ …         ┆ …         ┆ …               │\n",
       "│ P040101007 ┆ 338        ┆ 254       ┆ 363.0     ┆ 0.300275        │\n",
       "│ P040101008 ┆ 420        ┆ 315       ┆ 450.0     ┆ 0.3             │\n",
       "│ P040101009 ┆ 498        ┆ 374       ┆ 534.0     ┆ 0.299625        │\n",
       "│ P040101010 ┆ 580        ┆ 435       ┆ 621.0     ┆ 0.299517        │\n",
       "└────────────┴────────────┴───────────┴───────────┴─────────────────┘"
      ]
     },
     "execution_count": 60,
     "metadata": {},
     "output_type": "execute_result"
    }
   ],
   "source": [
    "df_product.clone()\n",
    "    .select([\n",
    "        col(\"product_cd\"),\n",
    "        col(\"unit_price\"),\n",
    "        col(\"unit_cost\"),\n",
    "        (col(\"unit_cost\") / lit(0.7)).round(0).alias(\"new_price\"),\n",
    "    ])\n",
    "    .with_column(((col(\"new_price\") - col(\"unit_cost\")) / col(\"new_price\")).alias(\"new_profit_rate\"))\n",
    "    .collect()\n",
    "    .unwrap()\n",
    "    .head(Some(10))"
   ]
  },
  {
   "cell_type": "markdown",
   "metadata": {},
   "source": [
    "---\n",
    "> P-067: 商品データ（df_product）の各商品について、利益率が30%となる新たな単価を求めよ。今回は、1円未満を切り上げること。そして結果を10件表示させ、利益率がおよそ30％付近であることを確認せよ。ただし、単価（unit_price）と原価（unit_cost）には欠損が生じていることに注意せよ。"
   ]
  },
  {
   "cell_type": "code",
   "execution_count": 61,
   "metadata": {
    "vscode": {
     "languageId": "rust"
    }
   },
   "outputs": [
    {
     "data": {
      "text/plain": [
       "shape: (10, 5)\n",
       "┌────────────┬────────────┬───────────┬───────────┬─────────────────┐\n",
       "│ product_cd ┆ unit_price ┆ unit_cost ┆ new_price ┆ new_profit_rate │\n",
       "│ ---        ┆ ---        ┆ ---       ┆ ---       ┆ ---             │\n",
       "│ str        ┆ i64        ┆ i64       ┆ f64       ┆ f64             │\n",
       "╞════════════╪════════════╪═══════════╪═══════════╪═════════════════╡\n",
       "│ P040101001 ┆ 198        ┆ 149       ┆ 213.0     ┆ 0.300469        │\n",
       "│ P040101002 ┆ 218        ┆ 164       ┆ 235.0     ┆ 0.302128        │\n",
       "│ P040101003 ┆ 230        ┆ 173       ┆ 248.0     ┆ 0.302419        │\n",
       "│ P040101004 ┆ 248        ┆ 186       ┆ 266.0     ┆ 0.300752        │\n",
       "│ …          ┆ …          ┆ …         ┆ …         ┆ …               │\n",
       "│ P040101007 ┆ 338        ┆ 254       ┆ 363.0     ┆ 0.300275        │\n",
       "│ P040101008 ┆ 420        ┆ 315       ┆ 451.0     ┆ 0.301552        │\n",
       "│ P040101009 ┆ 498        ┆ 374       ┆ 535.0     ┆ 0.300935        │\n",
       "│ P040101010 ┆ 580        ┆ 435       ┆ 622.0     ┆ 0.300643        │\n",
       "└────────────┴────────────┴───────────┴───────────┴─────────────────┘"
      ]
     },
     "execution_count": 61,
     "metadata": {},
     "output_type": "execute_result"
    }
   ],
   "source": [
    "df_product.clone()\n",
    "    .select([\n",
    "        col(\"product_cd\"),\n",
    "        col(\"unit_price\"),\n",
    "        col(\"unit_cost\"),\n",
    "        (col(\"unit_cost\") / lit(0.7)).ceil().alias(\"new_price\"),\n",
    "    ])\n",
    "    .with_column(((col(\"new_price\") - col(\"unit_cost\")) / col(\"new_price\")).alias(\"new_profit_rate\"))\n",
    "    .collect()\n",
    "    .unwrap()\n",
    "    .head(Some(10))"
   ]
  },
  {
   "cell_type": "markdown",
   "metadata": {},
   "source": [
    "---\n",
    "> P-068: 商品データ（df_product）の各商品について、消費税率10％の税込み金額を求めよ。1円未満の端数は切り捨てとし、結果を10件表示せよ。ただし、単価（unit_price）には欠損が生じていることに注意せよ。"
   ]
  },
  {
   "cell_type": "code",
   "execution_count": 65,
   "metadata": {
    "vscode": {
     "languageId": "rust"
    }
   },
   "outputs": [
    {
     "data": {
      "text/plain": [
       "shape: (10, 3)\n",
       "┌────────────┬────────────┬───────────┐\n",
       "│ product_cd ┆ unit_price ┆ tax_price │\n",
       "│ ---        ┆ ---        ┆ ---       │\n",
       "│ str        ┆ i64        ┆ f64       │\n",
       "╞════════════╪════════════╪═══════════╡\n",
       "│ P040101001 ┆ 198        ┆ 217.0     │\n",
       "│ P040101002 ┆ 218        ┆ 239.0     │\n",
       "│ P040101003 ┆ 230        ┆ 253.0     │\n",
       "│ P040101004 ┆ 248        ┆ 272.0     │\n",
       "│ …          ┆ …          ┆ …         │\n",
       "│ P040101007 ┆ 338        ┆ 371.0     │\n",
       "│ P040101008 ┆ 420        ┆ 462.0     │\n",
       "│ P040101009 ┆ 498        ┆ 547.0     │\n",
       "│ P040101010 ┆ 580        ┆ 638.0     │\n",
       "└────────────┴────────────┴───────────┘"
      ]
     },
     "execution_count": 65,
     "metadata": {},
     "output_type": "execute_result"
    }
   ],
   "source": [
    "df_product.clone()\n",
    "    .select([\n",
    "        col(\"product_cd\"),\n",
    "        col(\"unit_price\"),\n",
    "        (col(\"unit_price\") * lit(1.1)).floor().alias(\"tax_price\"),\n",
    "    ])\n",
    "    .collect()\n",
    "    .unwrap()\n",
    "    .head(Some(10))"
   ]
  },
  {
   "cell_type": "markdown",
   "metadata": {},
   "source": [
    "---\n",
    "> P-069: レシート明細データ（df_receipt）と商品データ（df_product）を結合し、顧客毎に全商品の売上金額合計と、カテゴリ大区分コード（category_major_cd）が\"07\"（瓶詰缶詰）の売上金額合計を計算の上、両者の比率を求めよ。抽出対象はカテゴリ大区分コード\"07\"（瓶詰缶詰）の売上実績がある顧客のみとし、結果を10件表示せよ。"
   ]
  },
  {
   "cell_type": "code",
   "execution_count": 72,
   "metadata": {
    "vscode": {
     "languageId": "rust"
    }
   },
   "outputs": [
    {
     "data": {
      "text/plain": [
       "shape: (10, 4)\n",
       "┌────────────────┬─────────┬────────┬────────────┐\n",
       "│ customer_id    ┆ sum_all ┆ sum_07 ┆ sales_rate │\n",
       "│ ---            ┆ ---     ┆ ---    ┆ ---        │\n",
       "│ str            ┆ i64     ┆ i64    ┆ f64        │\n",
       "╞════════════════╪═════════╪════════╪════════════╡\n",
       "│ CS001113000004 ┆ 1298    ┆ 1298   ┆ 1.0        │\n",
       "│ CS001114000005 ┆ 626     ┆ 486    ┆ 0.776358   │\n",
       "│ CS001115000010 ┆ 3044    ┆ 2694   ┆ 0.88502    │\n",
       "│ CS001205000004 ┆ 1988    ┆ 346    ┆ 0.174044   │\n",
       "│ …              ┆ …       ┆ …      ┆ …          │\n",
       "│ CS001212000031 ┆ 296     ┆ 296    ┆ 1.0        │\n",
       "│ CS001212000046 ┆ 228     ┆ 108    ┆ 0.473684   │\n",
       "│ CS001212000070 ┆ 456     ┆ 308    ┆ 0.675439   │\n",
       "│ CS001213000018 ┆ 243     ┆ 145    ┆ 0.596708   │\n",
       "└────────────────┴─────────┴────────┴────────────┘"
      ]
     },
     "execution_count": 72,
     "metadata": {},
     "output_type": "execute_result"
    }
   ],
   "source": [
    "df_receipt.clone().inner_join(df_product.clone(), col(\"product_cd\"), col(\"product_cd\"))\n",
    "    .groupby([\"customer_id\"]).agg([\n",
    "        col(\"amount\").sum().alias(\"sum_all\"),\n",
    "        col(\"amount\").filter(col(\"category_major_cd\").eq(lit(\"07\"))).sum().alias(\"sum_07\"),\n",
    "    ])\n",
    "    .with_column(\n",
    "        (col(\"sum_07\") / col(\"sum_all\").cast(DataType::Float64)).alias(\"sales_rate\")\n",
    "    )\n",
    "    .filter(col(\"sum_07\").gt(lit(0)))\n",
    "    .sort(\n",
    "        \"customer_id\",\n",
    "        SortOptions{\n",
    "            descending: false,\n",
    "            nulls_last: true,\n",
    "            multithreaded: true,\n",
    "            maintain_order: true\n",
    "        }\n",
    "    )\n",
    "    .collect()\n",
    "    .unwrap()\n",
    "    .head(Some(10))\n"
   ]
  },
  {
   "cell_type": "markdown",
   "metadata": {},
   "source": [
    "---\n",
    "> P-070: レシート明細データ（df_receipt）の売上日（sales_ymd）に対し、顧客データ（df_customer）の会員申込日（application_date）からの経過日数を計算し、顧客ID（customer_id）、売上日、会員申込日とともに10件表示せよ（sales_ymdは数値、application_dateは文字列でデータを保持している点に注意）。"
   ]
  },
  {
   "cell_type": "code",
   "execution_count": 102,
   "metadata": {
    "vscode": {
     "languageId": "rust"
    }
   },
   "outputs": [
    {
     "data": {
      "text/plain": [
       "shape: (10, 4)\n",
       "┌────────────────┬────────────┬──────────────────┬──────────────┐\n",
       "│ customer_id    ┆ sales_ymd  ┆ application_date ┆ elapsed_days │\n",
       "│ ---            ┆ ---        ┆ ---              ┆ ---          │\n",
       "│ str            ┆ date       ┆ date             ┆ duration[ms] │\n",
       "╞════════════════╪════════════╪══════════════════╪══════════════╡\n",
       "│ CS006214000001 ┆ 2018-11-03 ┆ 2015-02-01       ┆ 1371d        │\n",
       "│ ZZ000000000000 ┆ 2017-05-04 ┆ null             ┆ null         │\n",
       "│ CS026515000042 ┆ 2019-06-03 ┆ 2015-07-21       ┆ 1413d        │\n",
       "│ CS026414000062 ┆ 2017-03-06 ┆ 2015-06-10       ┆ 635d         │\n",
       "│ …              ┆ …          ┆ …                ┆ …            │\n",
       "│ ZZ000000000000 ┆ 2017-08-29 ┆ null             ┆ null         │\n",
       "│ ZZ000000000000 ┆ 2019-06-23 ┆ null             ┆ null         │\n",
       "│ CS018205000001 ┆ 2018-09-11 ┆ 2015-05-02       ┆ 1228d        │\n",
       "│ CS008515000124 ┆ 2019-05-09 ┆ 2015-09-16       ┆ 1331d        │\n",
       "└────────────────┴────────────┴──────────────────┴──────────────┘"
      ]
     },
     "execution_count": 102,
     "metadata": {},
     "output_type": "execute_result"
    }
   ],
   "source": [
    "let options: StrptimeOptions = StrptimeOptions {\n",
    "    format: Some(\"%Y%m%d\".into()),\n",
    "    strict: false,\n",
    "    exact: true,\n",
    "    cache: true,\n",
    "};\n",
    "\n",
    "df_receipt.clone()\n",
    "    .select([col(\"customer_id\"), col(\"sales_ymd\")])\n",
    "    .unique(\n",
    "        Some(vec![\"customer_id\".to_string(), \"sales_ymd\".to_string()]),\n",
    "        UniqueKeepStrategy::First,\n",
    "    )\n",
    "    .left_join(df_customer.clone(), col(\"customer_id\"), col(\"customer_id\"))\n",
    "    .select([\n",
    "        col(\"customer_id\"),\n",
    "        col(\"sales_ymd\").cast(DataType::Utf8).str().to_date(options.clone()),\n",
    "        col(\"application_date\").str().to_date(options.clone()),\n",
    "    ])\n",
    "    .with_column((col(\"sales_ymd\") - col(\"application_date\")).alias(\"elapsed_days\"))\n",
    "    .collect()\n",
    "    .unwrap()\n",
    "    .head(Some(10))\n"
   ]
  },
  {
   "cell_type": "markdown",
   "metadata": {},
   "source": [
    "---\n",
    "> P-071: レシート明細データ（df_receipt）の売上日（sales_ymd）に対し、顧客データ（df_customer）の会員申込日（application_date）からの経過月数を計算し、顧客ID（customer_id）、売上日、会員申込日とともに10件表示せよ（sales_ymdは数値、application_dateは文字列でデータを保持している点に注意）。1ヶ月未満は切り捨てること。"
   ]
  },
  {
   "cell_type": "code",
   "execution_count": 8,
   "metadata": {
    "vscode": {
     "languageId": "rust"
    }
   },
   "outputs": [
    {
     "data": {
      "text/plain": [
       "shape: (10, 4)\n",
       "┌────────────────┬────────────┬──────────────────┬──────────────┐\n",
       "│ customer_id    ┆ sales_ymd  ┆ application_date ┆ elapsed_days │\n",
       "│ ---            ┆ ---        ┆ ---              ┆ ---          │\n",
       "│ str            ┆ date       ┆ date             ┆ i64          │\n",
       "╞════════════════╪════════════╪══════════════════╪══════════════╡\n",
       "│ CS006214000001 ┆ 2018-11-03 ┆ 2015-02-01       ┆ 45           │\n",
       "│ CS006214000001 ┆ 2019-09-08 ┆ 2015-02-01       ┆ 55           │\n",
       "│ CS006214000001 ┆ 2018-01-31 ┆ 2015-02-01       ┆ 35           │\n",
       "│ CS006214000001 ┆ 2019-04-10 ┆ 2015-02-01       ┆ 50           │\n",
       "│ …              ┆ …          ┆ …                ┆ …            │\n",
       "│ CS006214000001 ┆ 2019-06-01 ┆ 2015-02-01       ┆ 51           │\n",
       "│ CS006214000001 ┆ 2017-06-08 ┆ 2015-02-01       ┆ 28           │\n",
       "│ CS006214000001 ┆ 2018-10-28 ┆ 2015-02-01       ┆ 44           │\n",
       "│ CS006214000001 ┆ 2017-07-05 ┆ 2015-02-01       ┆ 29           │\n",
       "└────────────────┴────────────┴──────────────────┴──────────────┘"
      ]
     },
     "execution_count": 8,
     "metadata": {},
     "output_type": "execute_result"
    }
   ],
   "source": [
    "let options: StrptimeOptions = StrptimeOptions {\n",
    "    format: Some(\"%Y%m%d\".into()),\n",
    "    strict: false,\n",
    "    exact: true,\n",
    "    cache: true,\n",
    "};\n",
    "\n",
    "df_receipt.clone()\n",
    "    .select([col(\"customer_id\"), col(\"sales_ymd\")])\n",
    "    .unique(\n",
    "        Some(vec![\"customer_id\".to_string(), \"sales_ymd\".to_string()]),\n",
    "        UniqueKeepStrategy::First,\n",
    "    )\n",
    "    .left_join(df_customer.clone(), col(\"customer_id\"), col(\"customer_id\"))\n",
    "    .select([\n",
    "        col(\"customer_id\"),\n",
    "        col(\"sales_ymd\").cast(DataType::Utf8).str().to_date(options.clone()),\n",
    "        col(\"application_date\").str().to_date(options.clone()),\n",
    "    ])\n",
    "    .with_column(((col(\"sales_ymd\") - col(\"application_date\")).cast(DataType::Int64) / (lit(2_629_746_000 as i64))).alias(\"elapsed_days\"))\n",
    "    .filter(col(\"customer_id\").eq(lit(\"CS006214000001\")))\n",
    "    .collect()\n",
    "    .unwrap()\n",
    "    .head(Some(10))\n"
   ]
  },
  {
   "cell_type": "markdown",
   "metadata": {},
   "source": [
    "---\n",
    "> P-072: レシート明細データ（df_receipt）の売上日（df_customer）に対し、顧客データ（df_customer）の会員申込日（application_date）からの経過年数を計算し、顧客ID（customer_id）、売上日、会員申込日とともに10件表示せよ（sales_ymdは数値、application_dateは文字列でデータを保持している点に注意）。1年未満は切り捨てること。"
   ]
  },
  {
   "cell_type": "code",
   "execution_count": 9,
   "metadata": {
    "vscode": {
     "languageId": "rust"
    }
   },
   "outputs": [
    {
     "data": {
      "text/plain": [
       "shape: (10, 4)\n",
       "┌────────────────┬────────────┬──────────────────┬──────────────┐\n",
       "│ customer_id    ┆ sales_ymd  ┆ application_date ┆ elapsed_days │\n",
       "│ ---            ┆ ---        ┆ ---              ┆ ---          │\n",
       "│ str            ┆ date       ┆ date             ┆ i64          │\n",
       "╞════════════════╪════════════╪══════════════════╪══════════════╡\n",
       "│ CS006214000001 ┆ 2018-11-03 ┆ 2015-02-01       ┆ 3            │\n",
       "│ CS006214000001 ┆ 2017-05-09 ┆ 2015-02-01       ┆ 2            │\n",
       "│ CS006214000001 ┆ 2018-01-31 ┆ 2015-02-01       ┆ 3            │\n",
       "│ CS006214000001 ┆ 2017-07-05 ┆ 2015-02-01       ┆ 2            │\n",
       "│ …              ┆ …          ┆ …                ┆ …            │\n",
       "│ CS006214000001 ┆ 2019-04-10 ┆ 2015-02-01       ┆ 4            │\n",
       "│ CS006214000001 ┆ 2019-05-07 ┆ 2015-02-01       ┆ 4            │\n",
       "│ CS006214000001 ┆ 2017-06-08 ┆ 2015-02-01       ┆ 2            │\n",
       "│ CS006214000001 ┆ 2018-10-28 ┆ 2015-02-01       ┆ 3            │\n",
       "└────────────────┴────────────┴──────────────────┴──────────────┘"
      ]
     },
     "execution_count": 9,
     "metadata": {},
     "output_type": "execute_result"
    }
   ],
   "source": [
    "let options: StrptimeOptions = StrptimeOptions {\n",
    "    format: Some(\"%Y%m%d\".into()),\n",
    "    strict: false,\n",
    "    exact: true,\n",
    "    cache: true,\n",
    "};\n",
    "\n",
    "df_receipt.clone()\n",
    "    .select([col(\"customer_id\"), col(\"sales_ymd\")])\n",
    "    .unique(\n",
    "        Some(vec![\"customer_id\".to_string(), \"sales_ymd\".to_string()]),\n",
    "        UniqueKeepStrategy::First,\n",
    "    )\n",
    "    .left_join(df_customer.clone(), col(\"customer_id\"), col(\"customer_id\"))\n",
    "    .select([\n",
    "        col(\"customer_id\"),\n",
    "        col(\"sales_ymd\").cast(DataType::Utf8).str().to_date(options.clone()),\n",
    "        col(\"application_date\").str().to_date(options.clone()),\n",
    "    ])\n",
    "    .with_column(((col(\"sales_ymd\") - col(\"application_date\")).cast(DataType::Int64) / (lit(31_536_000_000 as i64))).alias(\"elapsed_years\"))\n",
    "    .filter(col(\"customer_id\").eq(lit(\"CS006214000001\")))\n",
    "    .collect()\n",
    "    .unwrap()\n",
    "    .head(Some(10))\n"
   ]
  },
  {
   "cell_type": "markdown",
   "metadata": {},
   "source": [
    "---\n",
    "> P-073: レシート明細データ（df_receipt）の売上日（sales_ymd）に対し、顧客データ（df_customer）の会員申込日（application_date）からのエポック秒による経過時間を計算し、顧客ID（customer_id）、売上日、会員申込日とともに10件表示せよ（なお、sales_ymdは数値、application_dateは文字列でデータを保持している点に注意）。なお、時間情報は保有していないため各日付は0時0分0秒を表すものとする。"
   ]
  },
  {
   "cell_type": "code",
   "execution_count": 22,
   "metadata": {
    "vscode": {
     "languageId": "rust"
    }
   },
   "outputs": [
    {
     "data": {
      "text/plain": [
       "shape: (10, 4)\n",
       "┌────────────────┬────────────┬──────────────────┬───────────────┐\n",
       "│ customer_id    ┆ sales_ymd  ┆ application_date ┆ elapsed_epoch │\n",
       "│ ---            ┆ ---        ┆ ---              ┆ ---           │\n",
       "│ str            ┆ date       ┆ date             ┆ i64           │\n",
       "╞════════════════╪════════════╪══════════════════╪═══════════════╡\n",
       "│ CS006214000001 ┆ 2019-09-08 ┆ 2015-02-01       ┆ 145152000     │\n",
       "│ CS006214000001 ┆ 2017-07-05 ┆ 2015-02-01       ┆ 76464000      │\n",
       "│ CS006214000001 ┆ 2019-05-07 ┆ 2015-02-01       ┆ 134438400     │\n",
       "│ CS006214000001 ┆ 2017-05-09 ┆ 2015-02-01       ┆ 71539200      │\n",
       "│ …              ┆ …          ┆ …                ┆ …             │\n",
       "│ CS006214000001 ┆ 2019-04-10 ┆ 2015-02-01       ┆ 132105600     │\n",
       "│ CS006214000001 ┆ 2018-11-03 ┆ 2015-02-01       ┆ 118454400     │\n",
       "│ CS006214000001 ┆ 2017-06-08 ┆ 2015-02-01       ┆ 74131200      │\n",
       "│ CS006214000001 ┆ 2018-01-31 ┆ 2015-02-01       ┆ 94608000      │\n",
       "└────────────────┴────────────┴──────────────────┴───────────────┘"
      ]
     },
     "execution_count": 22,
     "metadata": {},
     "output_type": "execute_result"
    }
   ],
   "source": [
    "let options: StrptimeOptions = StrptimeOptions {\n",
    "    format: Some(\"%Y%m%d\".into()),\n",
    "    strict: false,\n",
    "    exact: true,\n",
    "    cache: true,\n",
    "};\n",
    "\n",
    "df_receipt.clone()\n",
    "    .select([col(\"customer_id\"), col(\"sales_ymd\")])\n",
    "    .unique(\n",
    "        Some(vec![\"customer_id\".to_string(), \"sales_ymd\".to_string()]),\n",
    "        UniqueKeepStrategy::First,\n",
    "    )\n",
    "    .left_join(df_customer.clone(), col(\"customer_id\"), col(\"customer_id\"))\n",
    "    .select([\n",
    "        col(\"customer_id\"),\n",
    "        col(\"sales_ymd\").cast(DataType::Utf8).str().to_date(options.clone()),\n",
    "        col(\"application_date\").str().to_date(options.clone()),\n",
    "    ])\n",
    "    .with_column(((col(\"sales_ymd\").dt().timestamp(TimeUnit::Milliseconds) - col(\"application_date\").dt().timestamp(TimeUnit::Milliseconds)) / lit(1000)).alias(\"elapsed_epoch\"))\n",
    "    .filter(col(\"customer_id\").eq(lit(\"CS006214000001\")))\n",
    "    .collect()\n",
    "    .unwrap()\n",
    "    .head(Some(10))"
   ]
  },
  {
   "cell_type": "markdown",
   "metadata": {},
   "source": [
    "---\n",
    "> P-074: レシート明細データ（df_receipt）の売上日（sales_ymd）に対し、当該週の月曜日からの経過日数を計算し、売上日、直前の月曜日付とともに10件表示せよ（sales_ymdは数値でデータを保持している点に注意）。"
   ]
  },
  {
   "cell_type": "code",
   "execution_count": 11,
   "metadata": {
    "vscode": {
     "languageId": "rust"
    }
   },
   "outputs": [
    {
     "data": {
      "text/plain": [
       "shape: (10, 3)\n",
       "┌────────────┬──────────────┬────────────┐\n",
       "│ sales_ymd  ┆ elapsed_days ┆ monday     │\n",
       "│ ---        ┆ ---          ┆ ---        │\n",
       "│ date       ┆ u32          ┆ date       │\n",
       "╞════════════╪══════════════╪════════════╡\n",
       "│ 2018-11-03 ┆ 5            ┆ 2018-10-29 │\n",
       "│ 2018-11-18 ┆ 6            ┆ 2018-11-12 │\n",
       "│ 2017-07-12 ┆ 2            ┆ 2017-07-10 │\n",
       "│ 2019-02-05 ┆ 1            ┆ 2019-02-04 │\n",
       "│ …          ┆ …            ┆ …          │\n",
       "│ 2018-12-05 ┆ 2            ┆ 2018-12-03 │\n",
       "│ 2019-09-22 ┆ 6            ┆ 2019-09-16 │\n",
       "│ 2017-05-04 ┆ 3            ┆ 2017-05-01 │\n",
       "│ 2019-10-10 ┆ 3            ┆ 2019-10-07 │\n",
       "└────────────┴──────────────┴────────────┘"
      ]
     },
     "execution_count": 11,
     "metadata": {},
     "output_type": "execute_result"
    }
   ],
   "source": [
    "let options: StrptimeOptions = StrptimeOptions {\n",
    "    format: Some(\"%Y%m%d\".into()),\n",
    "    strict: false,\n",
    "    exact: true,\n",
    "    cache: true,\n",
    "};\n",
    "\n",
    "// let truncate_options = TruncateOptions {\n",
    "//     every: \"w\",\n",
    "//     offset: \"\",\n",
    "//     use_earliest: true,\n",
    "// }\n",
    "\n",
    "df_receipt.clone()\n",
    "    .select([\n",
    "        col(\"sales_ymd\").cast(DataType::Utf8).str().to_date(options.clone()),\n",
    "    ])\n",
    "    .with_columns([\n",
    "        (col(\"sales_ymd\").dt().weekday() - lit(1)).alias(\"elapsed_days\"),\n",
    "        col(\"sales_ymd\").dt().truncate(\"1w\", \"0\").alias(\"monday\"), \n",
    "    ])\n",
    "    .collect()\n",
    "    .unwrap()\n",
    "    .head(Some(10))"
   ]
  },
  {
   "cell_type": "markdown",
   "metadata": {},
   "source": [
    "---\n",
    "> P-075: 顧客データ（df_customer）からランダムに1%のデータを抽出し、先頭から10件表示せよ。"
   ]
  },
  {
   "cell_type": "code",
   "execution_count": 33,
   "metadata": {
    "vscode": {
     "languageId": "rust"
    }
   },
   "outputs": [
    {
     "data": {
      "text/plain": [
       "shape: (10, 11)\n",
       "┌────────────┬────────────┬───────────┬────────┬───┬───────────┬───────────┬───────────┬───────────┐\n",
       "│ customer_i ┆ customer_n ┆ gender_cd ┆ gender ┆ … ┆ address   ┆ applicati ┆ applicati ┆ status_cd │\n",
       "│ d          ┆ ame        ┆ ---       ┆ ---    ┆   ┆ ---       ┆ on_store_ ┆ on_date   ┆ ---       │\n",
       "│ ---        ┆ ---        ┆ str       ┆ str    ┆   ┆ str       ┆ cd        ┆ ---       ┆ str       │\n",
       "│ str        ┆ str        ┆           ┆        ┆   ┆           ┆ ---       ┆ str       ┆           │\n",
       "│            ┆            ┆           ┆        ┆   ┆           ┆ str       ┆           ┆           │\n",
       "╞════════════╪════════════╪═══════════╪════════╪═══╪═══════════╪═══════════╪═══════════╪═══════════╡\n",
       "│ CS00350300 ┆ 阿部 正義  ┆ 0         ┆ 男性   ┆ … ┆ 東京都狛  ┆ S13003    ┆ 20160818  ┆ 0-0000000 │\n",
       "│ 0057       ┆            ┆           ┆        ┆   ┆ 江市和泉  ┆           ┆           ┆ 0-0       │\n",
       "│            ┆            ┆           ┆        ┆   ┆ 本町***** ┆           ┆           ┆           │\n",
       "│            ┆            ┆           ┆        ┆   ┆ *****     ┆           ┆           ┆           │\n",
       "│ CS02531200 ┆ 薬師丸 咲  ┆ 1         ┆ 女性   ┆ … ┆ 神奈川県  ┆ S14025    ┆ 20150716  ┆ 0-0000000 │\n",
       "│ 0030       ┆            ┆           ┆        ┆   ┆ 大和市上  ┆           ┆           ┆ 0-0       │\n",
       "│            ┆            ┆           ┆        ┆   ┆ 和田***** ┆           ┆           ┆           │\n",
       "│            ┆            ┆           ┆        ┆   ┆ *****     ┆           ┆           ┆           │\n",
       "│ CS03351400 ┆ 石田 未來  ┆ 1         ┆ 女性   ┆ … ┆ 神奈川県  ┆ S14033    ┆ 20150123  ┆ 8-2008020 │\n",
       "│ 0025       ┆            ┆           ┆        ┆   ┆ 横浜市瀬  ┆           ┆           ┆ 3-5       │\n",
       "│            ┆            ┆           ┆        ┆   ┆ 谷区宮沢* ┆           ┆           ┆           │\n",
       "│            ┆            ┆           ┆        ┆   ┆ ********* ┆           ┆           ┆           │\n",
       "│ CS00261500 ┆ 伊東 愛    ┆ 1         ┆ 女性   ┆ … ┆ 東京都国  ┆ S13002    ┆ 20150523  ┆ 5-2009121 │\n",
       "│ 0072       ┆            ┆           ┆        ┆   ┆ 分寺市東  ┆           ┆           ┆ 4-2       │\n",
       "│            ┆            ┆           ┆        ┆   ┆ 恋ケ窪*** ┆           ┆           ┆           │\n",
       "│            ┆            ┆           ┆        ┆   ┆ *******   ┆           ┆           ┆           │\n",
       "│ …          ┆ …          ┆ …         ┆ …      ┆ … ┆ …         ┆ …         ┆ …         ┆ …         │\n",
       "│ CS02141400 ┆ 柴山 結衣  ┆ 1         ┆ 女性   ┆ … ┆ 神奈川県  ┆ S14021    ┆ 20150825  ┆ 1-2008102 │\n",
       "│ 0093       ┆            ┆           ┆        ┆   ┆ 伊勢原市  ┆           ┆           ┆ 2-3       │\n",
       "│            ┆            ┆           ┆        ┆   ┆ 伊勢原*** ┆           ┆           ┆           │\n",
       "│            ┆            ┆           ┆        ┆   ┆ *******   ┆           ┆           ┆           │\n",
       "│ CS03351400 ┆ 青山       ┆ 1         ┆ 女性   ┆ … ┆ 神奈川県  ┆ S14033    ┆ 20150530  ┆ B-2010051 │\n",
       "│ 0076       ┆ さやか     ┆           ┆        ┆   ┆ 横浜市瀬  ┆           ┆           ┆ 7-9       │\n",
       "│            ┆            ┆           ┆        ┆   ┆ 谷区阿久  ┆           ┆           ┆           │\n",
       "│            ┆            ┆           ┆        ┆   ┆ 和西***** ┆           ┆           ┆           │\n",
       "│            ┆            ┆           ┆        ┆   ┆ *****     ┆           ┆           ┆           │\n",
       "│ CS04021300 ┆ 福田       ┆ 1         ┆ 女性   ┆ … ┆ 神奈川県  ┆ S14040    ┆ 20150609  ┆ 0-0000000 │\n",
       "│ 0032       ┆ 菜々美     ┆           ┆        ┆   ┆ 横浜市緑  ┆           ┆           ┆ 0-0       │\n",
       "│            ┆            ┆           ┆        ┆   ┆ 区長津田* ┆           ┆           ┆           │\n",
       "│            ┆            ┆           ┆        ┆   ┆ ********* ┆           ┆           ┆           │\n",
       "│ CS00451200 ┆ 栗田       ┆ 1         ┆ 女性   ┆ … ┆ 東京都練  ┆ S13004    ┆ 20180722  ┆ 0-0000000 │\n",
       "│ 0527       ┆ さゆり     ┆           ┆        ┆   ┆ 馬区富士  ┆           ┆           ┆ 0-0       │\n",
       "│            ┆            ┆           ┆        ┆   ┆ 見台***** ┆           ┆           ┆           │\n",
       "│            ┆            ┆           ┆        ┆   ┆ *****     ┆           ┆           ┆           │\n",
       "└────────────┴────────────┴───────────┴────────┴───┴───────────┴───────────┴───────────┴───────────┘"
      ]
     },
     "execution_count": 33,
     "metadata": {},
     "output_type": "execute_result"
    }
   ],
   "source": [
    "df_customer.clone()\n",
    "    .collect()\n",
    "    .unwrap()\n",
    "    .sample_frac(\n",
    "        0.01,\n",
    "        true,\n",
    "        false,\n",
    "        None,\n",
    "    )?.head(Some(10))"
   ]
  },
  {
   "cell_type": "code",
   "execution_count": null,
   "metadata": {
    "vscode": {
     "languageId": "rust"
    }
   },
   "outputs": [],
   "source": []
  },
  {
   "cell_type": "markdown",
   "metadata": {},
   "source": [
    "---\n",
    "> P-076: 顧客データ（df_customer）から性別コード（gender_cd）の割合に基づきランダムに10%のデータを層化抽出し、性別コードごとに件数を集計せよ。"
   ]
  },
  {
   "cell_type": "code",
   "execution_count": 40,
   "metadata": {
    "vscode": {
     "languageId": "rust"
    }
   },
   "outputs": [
    {
     "data": {
      "text/plain": [
       "shape: (3, 2)\n",
       "┌───────────┬─────────────┐\n",
       "│ gender_cd ┆ customer_id │\n",
       "│ ---       ┆ ---         │\n",
       "│ str       ┆ u32         │\n",
       "╞═══════════╪═════════════╡\n",
       "│ 1         ┆ 1791        │\n",
       "│ 0         ┆ 298         │\n",
       "│ 9         ┆ 107         │\n",
       "└───────────┴─────────────┘"
      ]
     },
     "execution_count": 40,
     "metadata": {},
     "output_type": "execute_result"
    }
   ],
   "source": [
    "fn sample_frac_gb(x: DataFrame) -> DataFrame {\n",
    "    x.sample_frac(0.1, true, false, None).unwrap()\n",
    "}\n",
    "\n",
    "df_customer.clone()\n",
    "    .groupby([\"gender_cd\"]).apply(|x| Ok(sample_frac_gb(x)), df_customer.schema().unwrap())\n",
    "    .groupby([\"gender_cd\"]).agg([col(\"customer_id\").count()])\n",
    "    // .select([\n",
    "    //     col(\"gender_cd\").value_counts(true, true),\n",
    "    // ]) こちらでも良いが出力形式がPythonと違う\n",
    "    .collect()\n",
    "    .unwrap()"
   ]
  },
  {
   "cell_type": "markdown",
   "metadata": {},
   "source": [
    "---\n",
    "> P-077: レシート明細データ（df_receipt）の売上金額を顧客単位に合計し、合計した売上金額の外れ値を抽出せよ。なお、外れ値は売上金額合計を対数化したうえで平均と標準偏差を計算し、その平均から3σを超えて離れたものとする（自然対数と常用対数のどちらでも可）。結果は10件表示せよ。"
   ]
  },
  {
   "cell_type": "code",
   "execution_count": 50,
   "metadata": {
    "vscode": {
     "languageId": "rust"
    }
   },
   "outputs": [
    {
     "data": {
      "text/plain": [
       "shape: (1, 4)\n",
       "┌────────────────┬──────────┬────────────────┬───────────────────┐\n",
       "│ customer_id    ┆ amount   ┆ log_sum_amount ┆ log_sum_amount_ss │\n",
       "│ ---            ┆ ---      ┆ ---            ┆ ---               │\n",
       "│ str            ┆ i64      ┆ f64            ┆ f64               │\n",
       "╞════════════════╪══════════╪════════════════╪═══════════════════╡\n",
       "│ ZZ000000000000 ┆ 12395003 ┆ 16.332804      ┆ 7.967822          │\n",
       "└────────────────┴──────────┴────────────────┴───────────────────┘"
      ]
     },
     "execution_count": 50,
     "metadata": {},
     "output_type": "execute_result"
    }
   ],
   "source": [
    "df_receipt.clone()\n",
    "    .groupby([\"customer_id\"]).agg([col(\"amount\").sum()])\n",
    "    .with_column((col(\"amount\") - lit(0.5)).log1p().alias(\"log_sum_amount\"))\n",
    "    .with_column(\n",
    "        ((col(\"log_sum_amount\") - col(\"log_sum_amount\").mean()).abs() / col(\"log_sum_amount\").std(0))\n",
    "        .alias(\"log_sum_amount_ss\")\n",
    "    )\n",
    "    .filter(\n",
    "        (col(\"log_sum_amount\") - col(\"log_sum_amount\").mean()).abs()\n",
    "        .gt(\n",
    "            col(\"log_sum_amount\").std(0) * lit(3.0)\n",
    "        )\n",
    "    )\n",
    "    .collect()\n",
    "    .unwrap()\n",
    "    .head(Some(10))"
   ]
  },
  {
   "cell_type": "markdown",
   "metadata": {},
   "source": [
    "---\n",
    "> P-078: レシート明細データ（df_receipt）の売上金額（amount）を顧客単位に合計し、合計した売上金額の外れ値を抽出せよ。ただし、顧客IDが\"Z\"から始まるのものは非会員を表すため、除外して計算すること。なお、ここでは外れ値を第1四分位と第3四分位の差であるIQRを用いて、「第1四分位数-1.5×IQR」を下回るもの、または「第3四分位数+1.5×IQR」を超えるものとする。結果は10件表示せよ。"
   ]
  },
  {
   "cell_type": "code",
   "execution_count": 64,
   "metadata": {
    "vscode": {
     "languageId": "rust"
    }
   },
   "outputs": [
    {
     "data": {
      "text/plain": [
       "shape: (10, 5)\n",
       "┌────────────────┬────────┬───────┬────────┬────────┐\n",
       "│ customer_id    ┆ amount ┆ 1qtr  ┆ 3qtr   ┆ iqr    │\n",
       "│ ---            ┆ ---    ┆ ---   ┆ ---    ┆ ---    │\n",
       "│ str            ┆ i64    ┆ f64   ┆ f64    ┆ f64    │\n",
       "╞════════════════╪════════╪═══════╪════════╪════════╡\n",
       "│ CS001414000048 ┆ 8584   ┆ 548.0 ┆ 3650.0 ┆ 3102.0 │\n",
       "│ CS001605000009 ┆ 18925  ┆ 548.0 ┆ 3650.0 ┆ 3102.0 │\n",
       "│ CS002415000594 ┆ 9568   ┆ 548.0 ┆ 3650.0 ┆ 3102.0 │\n",
       "│ CS004414000181 ┆ 9584   ┆ 548.0 ┆ 3650.0 ┆ 3102.0 │\n",
       "│ …              ┆ …      ┆ …     ┆ …      ┆ …      │\n",
       "│ CS006414000029 ┆ 9179   ┆ 548.0 ┆ 3650.0 ┆ 3102.0 │\n",
       "│ CS006415000105 ┆ 10042  ┆ 548.0 ┆ 3650.0 ┆ 3102.0 │\n",
       "│ CS006415000147 ┆ 12723  ┆ 548.0 ┆ 3650.0 ┆ 3102.0 │\n",
       "│ CS006415000157 ┆ 10648  ┆ 548.0 ┆ 3650.0 ┆ 3102.0 │\n",
       "└────────────────┴────────┴───────┴────────┴────────┘"
      ]
     },
     "execution_count": 64,
     "metadata": {},
     "output_type": "execute_result"
    }
   ],
   "source": [
    "df_receipt.clone()\n",
    "    .filter(col(\"customer_id\").str().starts_with(lit(\"Z\")).not())\n",
    "    .groupby([\"customer_id\"]).agg([col(\"amount\").sum()])\n",
    "    .with_columns([\n",
    "        col(\"amount\").quantile(lit(0.25), QuantileInterpolOptions::Nearest).alias(\"1qtr\"),\n",
    "        col(\"amount\").quantile(lit(0.75), QuantileInterpolOptions::Nearest).alias(\"3qtr\"),\n",
    "    ])\n",
    "    .with_column((col(\"3qtr\") - col(\"1qtr\")).alias(\"iqr\"))\n",
    "    .filter(\n",
    "        col(\"amount\").lt(col(\"1qtr\") - lit(1.5) * col(\"iqr\")).or(col(\"amount\").gt(col(\"3qtr\") + lit(1.5) * col(\"iqr\")))\n",
    "    )\n",
    "    .sort(\n",
    "        \"customer_id\",\n",
    "        SortOptions{\n",
    "            descending: false,\n",
    "            nulls_last: true,\n",
    "            multithreaded: true,\n",
    "            maintain_order: true\n",
    "        }\n",
    "    )\n",
    "    .collect()\n",
    "    .unwrap()\n",
    "    .head(Some(10))"
   ]
  },
  {
   "cell_type": "markdown",
   "metadata": {},
   "source": [
    "---\n",
    "> P-079: 商品データ（df_product）の各項目に対し、欠損数を確認せよ。"
   ]
  },
  {
   "cell_type": "code",
   "execution_count": 66,
   "metadata": {
    "vscode": {
     "languageId": "rust"
    }
   },
   "outputs": [
    {
     "data": {
      "text/plain": [
       "shape: (1, 6)\n",
       "┌────────────┬───────────────────┬────────────────────┬───────────────────┬────────────┬───────────┐\n",
       "│ product_cd ┆ category_major_cd ┆ category_medium_cd ┆ category_small_cd ┆ unit_price ┆ unit_cost │\n",
       "│ ---        ┆ ---               ┆ ---                ┆ ---               ┆ ---        ┆ ---       │\n",
       "│ u32        ┆ u32               ┆ u32                ┆ u32               ┆ u32        ┆ u32       │\n",
       "╞════════════╪═══════════════════╪════════════════════╪═══════════════════╪════════════╪═══════════╡\n",
       "│ 0          ┆ 0                 ┆ 0                  ┆ 0                 ┆ 7          ┆ 7         │\n",
       "└────────────┴───────────────────┴────────────────────┴───────────────────┴────────────┴───────────┘"
      ]
     },
     "execution_count": 66,
     "metadata": {},
     "output_type": "execute_result"
    }
   ],
   "source": [
    "df_product.clone()\n",
    "    .null_count()\n",
    "    .collect()\n",
    "    .unwrap()"
   ]
  },
  {
   "cell_type": "markdown",
   "metadata": {},
   "source": [
    "---\n",
    "> P-080: 商品データ（df_product）のいずれかの項目に欠損が発生しているレコードを全て削除した新たな商品データを作成せよ。なお、削除前後の件数を表示させ、079で確認した件数だけ減少していることも確認すること。"
   ]
  },
  {
   "cell_type": "code",
   "execution_count": 79,
   "metadata": {
    "vscode": {
     "languageId": "rust"
    }
   },
   "outputs": [
    {
     "name": "stdout",
     "output_type": "stream",
     "text": [
      "削除前: 10030\n",
      "削除後: 10023\n"
     ]
    }
   ],
   "source": [
    "println!(\"削除前: {:?}\", df_product.clone().collect().unwrap().height());\n",
    "\n",
    "println!(\"削除後: {:?}\", df_product.clone().drop_nulls(Some(vec![col(\"*\")])).collect().unwrap().height());"
   ]
  },
  {
   "cell_type": "markdown",
   "metadata": {},
   "source": [
    "---\n",
    "> P-081: 単価（unit_price）と原価（unit_cost）の欠損値について、それぞれの平均値で補完した新たな商品データを作成せよ。なお、平均値については1円未満を丸めること（四捨五入または偶数への丸めで良い）。補完実施後、各項目について欠損が生じていないことも確認すること。"
   ]
  },
  {
   "cell_type": "code",
   "execution_count": 4,
   "metadata": {
    "tags": [],
    "vscode": {
     "languageId": "rust"
    }
   },
   "outputs": [
    {
     "data": {
      "text/plain": [
       "shape: (1, 6)\n",
       "┌────────────┬───────────────────┬────────────────────┬───────────────────┬────────────┬───────────┐\n",
       "│ product_cd ┆ category_major_cd ┆ category_medium_cd ┆ category_small_cd ┆ unit_price ┆ unit_cost │\n",
       "│ ---        ┆ ---               ┆ ---                ┆ ---               ┆ ---        ┆ ---       │\n",
       "│ u32        ┆ u32               ┆ u32                ┆ u32               ┆ u32        ┆ u32       │\n",
       "╞════════════╪═══════════════════╪════════════════════╪═══════════════════╪════════════╪═══════════╡\n",
       "│ 0          ┆ 0                 ┆ 0                  ┆ 0                 ┆ 0          ┆ 0         │\n",
       "└────────────┴───────────────────┴────────────────────┴───────────────────┴────────────┴───────────┘"
      ]
     },
     "execution_count": 4,
     "metadata": {},
     "output_type": "execute_result"
    }
   ],
   "source": [
    "df_product.clone()\n",
    "    .collect()\n",
    "    .unwrap()\n",
    "    .fill_null(FillNullStrategy::Mean)?\n",
    "    .null_count()\n",
    "\n",
    "\n",
    "// df_product.clone()\n",
    "//     .with_columns([\n",
    "//         col(\"unit_price\").fill_null(col(\"unit_price\").mean()),\n",
    "//         col(\"unit_cost\").fill_null(col(\"unit_cost\").mean()),\n",
    "//     ])\n",
    "//     .null_count()\n",
    "//     .collect()\n",
    "//     .unwrap()"
   ]
  },
  {
   "cell_type": "markdown",
   "metadata": {
    "tags": []
   },
   "source": [
    "---\n",
    "> P-082: 単価（unit_price）と原価（unit_cost）の欠損値について、それぞれの中央値で補完した新たな商品データを作成せよ。なお、中央値については1円未満を丸めること（四捨五入または偶数への丸めで良い）。補完実施後、各項目について欠損が生じていないことも確認すること。"
   ]
  },
  {
   "cell_type": "code",
   "execution_count": 5,
   "metadata": {
    "vscode": {
     "languageId": "rust"
    }
   },
   "outputs": [
    {
     "data": {
      "text/plain": [
       "shape: (1, 6)\n",
       "┌────────────┬───────────────────┬────────────────────┬───────────────────┬────────────┬───────────┐\n",
       "│ product_cd ┆ category_major_cd ┆ category_medium_cd ┆ category_small_cd ┆ unit_price ┆ unit_cost │\n",
       "│ ---        ┆ ---               ┆ ---                ┆ ---               ┆ ---        ┆ ---       │\n",
       "│ u32        ┆ u32               ┆ u32                ┆ u32               ┆ u32        ┆ u32       │\n",
       "╞════════════╪═══════════════════╪════════════════════╪═══════════════════╪════════════╪═══════════╡\n",
       "│ 0          ┆ 0                 ┆ 0                  ┆ 0                 ┆ 0          ┆ 0         │\n",
       "└────────────┴───────────────────┴────────────────────┴───────────────────┴────────────┴───────────┘"
      ]
     },
     "execution_count": 5,
     "metadata": {},
     "output_type": "execute_result"
    }
   ],
   "source": [
    "df_product.clone()\n",
    "    .with_columns([\n",
    "        col(\"unit_price\").fill_null(col(\"unit_price\").median().cast(DataType::Int32)),\n",
    "        col(\"unit_cost\").fill_null(col(\"unit_cost\").median().cast(DataType::Int32)),\n",
    "    ])\n",
    "    .null_count()\n",
    "    .collect()\n",
    "    .unwrap()"
   ]
  },
  {
   "cell_type": "markdown",
   "metadata": {},
   "source": [
    "---\n",
    "> P-083: 単価（unit_price）と原価（unit_cost）の欠損値について、各商品のカテゴリ小区分コード（category_small_cd）ごとに算出した中央値で補完した新たな商品データを作成せよ。なお、中央値については1円未満を丸めること（四捨五入または偶数への丸めで良い）。補完実施後、各項目について欠損が生じていないことも確認すること。"
   ]
  },
  {
   "cell_type": "code",
   "execution_count": 11,
   "metadata": {
    "vscode": {
     "languageId": "rust"
    }
   },
   "outputs": [
    {
     "data": {
      "text/plain": [
       "shape: (1, 2)\n",
       "┌───────────┬────────────┐\n",
       "│ unit_cost ┆ unit_price │\n",
       "│ ---       ┆ ---        │\n",
       "│ u32       ┆ u32        │\n",
       "╞═══════════╪════════════╡\n",
       "│ 0         ┆ 0          │\n",
       "└───────────┴────────────┘"
      ]
     },
     "execution_count": 11,
     "metadata": {},
     "output_type": "execute_result"
    }
   ],
   "source": [
    "let tmp_df = df_product.clone()\n",
    "    .select([\n",
    "        coalesce(&[\n",
    "            col(\"unit_cost\"),\n",
    "            median(\"unit_cost\").over([col(\"category_small_cd\")]).cast(DataType::Int64)\n",
    "        ]),\n",
    "        coalesce(&[\n",
    "            col(\"unit_price\"),\n",
    "            median(\"unit_price\").over([col(\"category_small_cd\")]).cast(DataType::Int64)\n",
    "        ]),\n",
    "    ]);\n",
    "\n",
    "tmp_df.null_count().collect().unwrap()"
   ]
  },
  {
   "cell_type": "markdown",
   "metadata": {},
   "source": [
    "---\n",
    "> P-084: 顧客データ（df_customer）の全顧客に対して全期間の売上金額に占める2019年売上金額の割合を計算し、新たなデータを作成せよ。ただし、売上実績がない場合は0として扱うこと。そして計算した割合が0超のものを抽出し、結果を10件表示せよ。また、作成したデータに欠損が存在しないことを確認せよ。"
   ]
  },
  {
   "cell_type": "code",
   "execution_count": null,
   "metadata": {
    "vscode": {
     "languageId": "rust"
    }
   },
   "outputs": [],
   "source": []
  },
  {
   "cell_type": "markdown",
   "metadata": {},
   "source": [
    "---\n",
    "> P-085: 顧客データ（df_customer）の全顧客に対し、郵便番号（postal_cd）を用いてジオコードデータ（df_geocode）を紐付け、新たな顧客データを作成せよ。ただし、1つの郵便番号（postal_cd）に複数の経度（longitude）、緯度（latitude）情報が紐づく場合は、経度（longitude）、緯度（latitude）の平均値を算出して使用すること。また、作成結果を確認するために結果を10件表示せよ。"
   ]
  },
  {
   "cell_type": "code",
   "execution_count": null,
   "metadata": {
    "vscode": {
     "languageId": "rust"
    }
   },
   "outputs": [],
   "source": []
  },
  {
   "cell_type": "markdown",
   "metadata": {},
   "source": [
    "---\n",
    "> P-086: 085で作成した緯度経度つき顧客データに対し、会員申込店舗コード（application_store_cd）をキーに店舗データ（df_store）と結合せよ。そして申込み店舗の緯度（latitude）・経度情報（longitude)と顧客住所（address）の緯度・経度を用いて申込み店舗と顧客住所の距離（単位：km）を求め、顧客ID（customer_id）、顧客住所（address）、店舗住所（address）とともに表示せよ。計算式は以下の簡易式で良いものとするが、その他精度の高い方式を利用したライブラリを利用してもかまわない。結果は10件表示せよ。\n",
    "\n",
    "$$\n",
    "\\mbox{緯度（ラジアン）}：\\phi \\\\\n",
    "\\mbox{経度（ラジアン）}：\\lambda \\\\\n",
    "\\mbox{距離}L = 6371 * \\arccos(\\sin \\phi_1 * \\sin \\phi_2\n",
    "+ \\cos \\phi_1 * \\cos \\phi_2 * \\cos(\\lambda_1 − \\lambda_2))\n",
    "$$"
   ]
  },
  {
   "cell_type": "code",
   "execution_count": null,
   "metadata": {
    "vscode": {
     "languageId": "rust"
    }
   },
   "outputs": [],
   "source": []
  },
  {
   "cell_type": "markdown",
   "metadata": {},
   "source": [
    "---\n",
    "> P-087: 顧客データ（df_customer）では、異なる店舗での申込みなどにより同一顧客が複数登録されている。名前（customer_name）と郵便番号（postal_cd）が同じ顧客は同一顧客とみなして1顧客1レコードとなるように名寄せした名寄顧客データを作成し、顧客データの件数、名寄顧客データの件数、重複数を算出せよ。ただし、同一顧客に対しては売上金額合計が最も高いものを残し、売上金額合計が同一もしくは売上実績がない顧客については顧客ID（customer_id）の番号が小さいものを残すこととする。"
   ]
  },
  {
   "cell_type": "code",
   "execution_count": null,
   "metadata": {
    "vscode": {
     "languageId": "rust"
    }
   },
   "outputs": [],
   "source": []
  },
  {
   "cell_type": "markdown",
   "metadata": {},
   "source": [
    "---\n",
    "> P-088: 087で作成したデータを元に、顧客データに統合名寄IDを付与したデータを作成せよ。ただし、統合名寄IDは以下の仕様で付与するものとする。\n",
    ">\n",
    "> - 重複していない顧客：顧客ID（customer_id）を設定\n",
    "> - 重複している顧客：前設問で抽出したレコードの顧客IDを設定\n",
    "> \n",
    "> 顧客IDのユニーク件数と、統合名寄IDのユニーク件数の差も確認すること。"
   ]
  },
  {
   "cell_type": "code",
   "execution_count": null,
   "metadata": {
    "vscode": {
     "languageId": "rust"
    }
   },
   "outputs": [],
   "source": []
  },
  {
   "cell_type": "markdown",
   "metadata": {},
   "source": [
    "---\n",
    "> P-089: 売上実績がある顧客を、予測モデル構築のため学習用データとテスト用データに分割したい。それぞれ8:2の割合でランダムにデータを分割せよ。"
   ]
  },
  {
   "cell_type": "code",
   "execution_count": null,
   "metadata": {
    "vscode": {
     "languageId": "rust"
    }
   },
   "outputs": [],
   "source": []
  },
  {
   "cell_type": "markdown",
   "metadata": {},
   "source": [
    "---\n",
    "> P-090: レシート明細データ（df_receipt）は2017年1月1日〜2019年10月31日までのデータを有している。売上金額（amount）を月次で集計し、学習用に12ヶ月、テスト用に6ヶ月の時系列モデル構築用データを3セット作成せよ。"
   ]
  },
  {
   "cell_type": "code",
   "execution_count": null,
   "metadata": {
    "vscode": {
     "languageId": "rust"
    }
   },
   "outputs": [],
   "source": []
  },
  {
   "cell_type": "markdown",
   "metadata": {},
   "source": [
    "---\n",
    "> P-091: 顧客データ（df_customer）の各顧客に対し、売上実績がある顧客数と売上実績がない顧客数が1:1となるようにアンダーサンプリングで抽出せよ。"
   ]
  },
  {
   "cell_type": "code",
   "execution_count": null,
   "metadata": {
    "vscode": {
     "languageId": "rust"
    }
   },
   "outputs": [],
   "source": []
  },
  {
   "cell_type": "markdown",
   "metadata": {},
   "source": [
    "---\n",
    "> P-092: 顧客データ（df_customer）の性別について、第三正規形へと正規化せよ。"
   ]
  },
  {
   "cell_type": "code",
   "execution_count": null,
   "metadata": {
    "vscode": {
     "languageId": "rust"
    }
   },
   "outputs": [],
   "source": []
  },
  {
   "cell_type": "markdown",
   "metadata": {},
   "source": [
    "---\n",
    "> P-093: 商品データ（df_product）では各カテゴリのコード値だけを保有し、カテゴリ名は保有していない。カテゴリデータ（df_category）と組み合わせて非正規化し、カテゴリ名を保有した新たな商品データを作成せよ。"
   ]
  },
  {
   "cell_type": "code",
   "execution_count": null,
   "metadata": {
    "vscode": {
     "languageId": "rust"
    }
   },
   "outputs": [],
   "source": []
  },
  {
   "cell_type": "markdown",
   "metadata": {},
   "source": [
    "---\n",
    "> P-094: 093で作成したカテゴリ名付き商品データを以下の仕様でファイル出力せよ。\n",
    ">\n",
    "> |ファイル形式|ヘッダ有無|文字エンコーディング|\n",
    "> |:--:|:--:|:--:|\n",
    "> |CSV（カンマ区切り）|有り|UTF-8|\n",
    "> \n",
    "> ファイル出力先のパスは以下のようにすること\n",
    "> \n",
    "> |出力先|\n",
    "> |:--:|\n",
    "> |./data|"
   ]
  },
  {
   "cell_type": "code",
   "execution_count": null,
   "metadata": {
    "vscode": {
     "languageId": "rust"
    }
   },
   "outputs": [],
   "source": []
  },
  {
   "cell_type": "markdown",
   "metadata": {},
   "source": [
    "---\n",
    "> P-095: 093で作成したカテゴリ名付き商品データを以下の仕様でファイル出力せよ。\n",
    ">\n",
    "> |ファイル形式|ヘッダ有無|文字エンコーディング|\n",
    "> |:--:|:--:|:--:|\n",
    "> |CSV（カンマ区切り）|有り|CP932|\n",
    "> \n",
    "> ファイル出力先のパスは以下のようにすること。\n",
    "> \n",
    "> |出力先|\n",
    "> |:--:|\n",
    "> |./data|"
   ]
  },
  {
   "cell_type": "code",
   "execution_count": null,
   "metadata": {
    "vscode": {
     "languageId": "rust"
    }
   },
   "outputs": [],
   "source": []
  },
  {
   "cell_type": "markdown",
   "metadata": {},
   "source": [
    "---\n",
    "> P-096: 093で作成したカテゴリ名付き商品データを以下の仕様でファイル出力せよ。\n",
    ">\n",
    "> |ファイル形式|ヘッダ有無|文字エンコーディング|\n",
    "> |:--:|:--:|:--:|\n",
    "> |CSV（カンマ区切り）|無し|UTF-8|\n",
    "> \n",
    "> ファイル出力先のパスは以下のようにすること。\n",
    "> \n",
    "> |出力先|\n",
    "> |:--:|\n",
    "> |./data|"
   ]
  },
  {
   "cell_type": "code",
   "execution_count": null,
   "metadata": {
    "vscode": {
     "languageId": "rust"
    }
   },
   "outputs": [],
   "source": []
  },
  {
   "cell_type": "markdown",
   "metadata": {},
   "source": [
    "---\n",
    "> P-097: 094で作成した以下形式のファイルを読み込み、データを3件を表示させて正しく取り込まれていることを確認せよ。\n",
    "> \n",
    "> |ファイル形式|ヘッダ有無|文字エンコーディング|\n",
    "> |:--:|:--:|:--:|\n",
    "> |CSV（カンマ区切り）|有り|UTF-8|"
   ]
  },
  {
   "cell_type": "code",
   "execution_count": null,
   "metadata": {
    "vscode": {
     "languageId": "rust"
    }
   },
   "outputs": [],
   "source": []
  },
  {
   "cell_type": "markdown",
   "metadata": {},
   "source": [
    "---\n",
    "> P-098: 096で作成した以下形式のファイルを読み込み、データを3件を表示させて正しく取り込まれていることを確認せよ。\n",
    "> \n",
    "> |ファイル形式|ヘッダ有無|文字エンコーディング|\n",
    "> |:--:|:--:|:--:|\n",
    "> |CSV（カンマ区切り）|ヘッダ無し|UTF-8|"
   ]
  },
  {
   "cell_type": "code",
   "execution_count": null,
   "metadata": {
    "vscode": {
     "languageId": "rust"
    }
   },
   "outputs": [],
   "source": []
  },
  {
   "cell_type": "markdown",
   "metadata": {},
   "source": [
    "---\n",
    "> P-099: 093で作成したカテゴリ名付き商品データを以下の仕様でファイル出力せよ。\n",
    ">\n",
    "> |ファイル形式|ヘッダ有無|文字エンコーディング|\n",
    "> |:--:|:--:|:--:|\n",
    "> |TSV（タブ区切り）|有り|UTF-8|\n",
    "> \n",
    "> ファイル出力先のパスは以下のようにすること\n",
    "> \n",
    "> |出力先|\n",
    "> |:--:|\n",
    "> |./data|"
   ]
  },
  {
   "cell_type": "code",
   "execution_count": null,
   "metadata": {
    "vscode": {
     "languageId": "rust"
    }
   },
   "outputs": [],
   "source": []
  },
  {
   "cell_type": "markdown",
   "metadata": {},
   "source": [
    "---\n",
    "> P-100: 099で作成した以下形式のファイルを読み込み、データを3件を表示させて正しく取り込まれていることを確認せよ。\n",
    "> \n",
    "> |ファイル形式|ヘッダ有無|文字エンコーディング|\n",
    "> |:--:|:--:|:--:|\n",
    "> |TSV（タブ区切り）|有り|UTF-8|"
   ]
  },
  {
   "cell_type": "code",
   "execution_count": null,
   "metadata": {
    "vscode": {
     "languageId": "rust"
    }
   },
   "outputs": [],
   "source": []
  },
  {
   "cell_type": "markdown",
   "metadata": {},
   "source": [
    "# これで１００本終わりです。おつかれさまでした！"
   ]
  }
 ],
 "metadata": {
  "kernelspec": {
   "display_name": "Rust",
   "language": "rust",
   "name": "rust"
  },
  "language_info": {
   "codemirror_mode": "rust",
   "file_extension": ".rs",
   "mimetype": "text/rust",
   "name": "Rust",
   "pygment_lexer": "rust",
   "version": ""
  }
 },
 "nbformat": 4,
 "nbformat_minor": 4
}
