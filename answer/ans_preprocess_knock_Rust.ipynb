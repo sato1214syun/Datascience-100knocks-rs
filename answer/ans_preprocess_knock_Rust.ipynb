{
 "cells": [
  {
   "cell_type": "markdown",
   "metadata": {},
   "source": [
    "# データサイエンス100本ノック（構造化データ加工編） - Rust"
   ]
  },
  {
   "cell_type": "markdown",
   "metadata": {},
   "source": [
    "## はじめに\n",
    "- 初めに以下のセルを実行してください\n",
    "- 必要なライブラリのインポートとデータベース（PostgreSQL）からのデータ読み込みを行います\n",
    "- pandas等、利用が想定されるライブラリは以下セルでインポートしています\n",
    "- その他利用したいライブラリがあれば適宜インストールしてください（\"!pip install ライブラリ名\"でインストールも可能）\n",
    "- 処理は複数回に分けても構いません\n",
    "- 名前、住所等はダミーデータであり、実在するものではありません"
   ]
  },
  {
   "cell_type": "code",
   "execution_count": 135,
   "metadata": {
    "vscode": {
     "languageId": "rust"
    }
   },
   "outputs": [],
   "source": [
    ":dep polars = { version = \"0.31.1\", features = [\"describe\", \"lazy\", \"object\", \"dtype-categorical\", \"dtype-full\", \"mode\", \"temporal\", \"concat_str\", \"to_dummies\", \"log\", \"dtype-duration\", \"trigonometry\", \"polars-io\"]}\n",
    "// :dep smartcore = { version = \"0.3.2\", default-features = false, features = [\"ndarray-bindings\", \"datasets\"]}"
   ]
  },
  {
   "cell_type": "code",
   "execution_count": 136,
   "metadata": {
    "vscode": {
     "languageId": "rust"
    }
   },
   "outputs": [],
   "source": [
    "use polars::prelude::*;\n",
    "// データ型の指定\n",
    "let mut schema = Schema::new();\n",
    "schema.with_column(\"customer_id\".into(), DataType::Utf8);\n",
    "schema.with_column(\"gender_cd\".into(), DataType::Utf8);\n",
    "schema.with_column(\"postal_cd\".into(), DataType::Utf8);\n",
    "schema.with_column(\"application_store_cd\".into(), DataType::Utf8);\n",
    "schema.with_column(\"status_cd\".into(), DataType::Utf8);\n",
    "schema.with_column(\"category_major_cd\".into(), DataType::Utf8);\n",
    "schema.with_column(\"category_medium_cd\".into(), DataType::Utf8);\n",
    "schema.with_column(\"category_small_cd\".into(), DataType::Utf8);\n",
    "schema.with_column(\"product_cd\".into(), DataType::Utf8);\n",
    "schema.with_column(\"store_cd\".into(), DataType::Utf8);\n",
    "schema.with_column(\"prefecture_cd\".into(), DataType::Utf8);\n",
    "schema.with_column(\"tel_no\".into(), DataType::Utf8);\n",
    "schema.with_column(\"postal_cd\".into(), DataType::Utf8);\n",
    "schema.with_column(\"street\".into(), DataType::Utf8);\n",
    "schema.with_column(\n",
    "    \"birth_day\".into(),\n",
    "    DataType::Date\n",
    ");\n",
    "schema.with_column(\n",
    "    \"application_date\".into(),\n",
    "    DataType::Utf8\n",
    ");\n",
    "\n",
    "let df_customer = LazyCsvReader::new(\"../data/customer.csv\")\n",
    "    .has_header(true)\n",
    "    .with_dtype_overwrite(Some(&schema.clone()))\n",
    "    .finish()\n",
    "    .unwrap();\n",
    "let df_category = LazyCsvReader::new(\"../data/category.csv\")\n",
    "    .has_header(true)\n",
    "    .with_dtype_overwrite(Some(&schema.clone()))\n",
    "    .finish()\n",
    "    .unwrap();\n",
    "let df_product = LazyCsvReader::new(\"../data/product.csv\")\n",
    "    .has_header(true)\n",
    "    .with_dtype_overwrite(Some(&schema.clone()))\n",
    "    .finish()\n",
    "    .unwrap();\n",
    "let df_receipt = LazyCsvReader::new(\"../data/receipt.csv\")\n",
    "    .has_header(true)\n",
    "    .with_dtype_overwrite(Some(&schema.clone()))\n",
    "    .finish()\n",
    "    .unwrap();\n",
    "let df_store = LazyCsvReader::new(\"../data/store.csv\")\n",
    "    .has_header(true)\n",
    "    .with_dtype_overwrite(Some(&schema.clone()))\n",
    "    .finish()\n",
    "    .unwrap();\n",
    "let df_geocode = LazyCsvReader::new(\"../data/geocode.csv\")\n",
    "    .has_header(true)\n",
    "    .with_dtype_overwrite(Some(&schema.clone()))\n",
    "    .finish()\n",
    "    .unwrap();"
   ]
  },
  {
   "cell_type": "markdown",
   "metadata": {},
   "source": [
    "# 演習問題"
   ]
  },
  {
   "cell_type": "markdown",
   "metadata": {},
   "source": [
    "---\n",
    "> P-001: レシート明細データ（df_receipt）から全項目の先頭10件を表示し、どのようなデータを保有しているか目視で確認せよ。"
   ]
  },
  {
   "cell_type": "code",
   "execution_count": 34,
   "metadata": {
    "vscode": {
     "languageId": "rust"
    }
   },
   "outputs": [
    {
     "data": {
      "text/plain": [
       "shape: (10, 9)\n",
       "┌───────────┬────────────┬──────────┬────────────┬───┬────────────┬────────────┬──────────┬────────┐\n",
       "│ sales_ymd ┆ sales_epoc ┆ store_cd ┆ receipt_no ┆ … ┆ customer_i ┆ product_cd ┆ quantity ┆ amount │\n",
       "│ ---       ┆ h          ┆ ---      ┆ ---        ┆   ┆ d          ┆ ---        ┆ ---      ┆ ---    │\n",
       "│ i64       ┆ ---        ┆ str      ┆ i64        ┆   ┆ ---        ┆ str        ┆ i64      ┆ i64    │\n",
       "│           ┆ i64        ┆          ┆            ┆   ┆ str        ┆            ┆          ┆        │\n",
       "╞═══════════╪════════════╪══════════╪════════════╪═══╪════════════╪════════════╪══════════╪════════╡\n",
       "│ 20181103  ┆ 1541203200 ┆ S14006   ┆ 112        ┆ … ┆ CS00621400 ┆ P070305012 ┆ 1        ┆ 158    │\n",
       "│           ┆            ┆          ┆            ┆   ┆ 0001       ┆            ┆          ┆        │\n",
       "│ 20181118  ┆ 1542499200 ┆ S13008   ┆ 1132       ┆ … ┆ CS00841500 ┆ P070701017 ┆ 1        ┆ 81     │\n",
       "│           ┆            ┆          ┆            ┆   ┆ 0097       ┆            ┆          ┆        │\n",
       "│ 20170712  ┆ 1499817600 ┆ S14028   ┆ 1102       ┆ … ┆ CS02841400 ┆ P060101005 ┆ 1        ┆ 170    │\n",
       "│           ┆            ┆          ┆            ┆   ┆ 0014       ┆            ┆          ┆        │\n",
       "│ 20190205  ┆ 1549324800 ┆ S14042   ┆ 1132       ┆ … ┆ ZZ00000000 ┆ P050301001 ┆ 1        ┆ 25     │\n",
       "│           ┆            ┆          ┆            ┆   ┆ 0000       ┆            ┆          ┆        │\n",
       "│ …         ┆ …          ┆ …        ┆ …          ┆ … ┆ …          ┆ …          ┆ …        ┆ …      │\n",
       "│ 20181205  ┆ 1543968000 ┆ S14024   ┆ 1102       ┆ … ┆ CS02451400 ┆ P080101005 ┆ 1        ┆ 30     │\n",
       "│           ┆            ┆          ┆            ┆   ┆ 0042       ┆            ┆          ┆        │\n",
       "│ 20190922  ┆ 1569110400 ┆ S14040   ┆ 1102       ┆ … ┆ CS04041500 ┆ P070501004 ┆ 1        ┆ 128    │\n",
       "│           ┆            ┆          ┆            ┆   ┆ 0178       ┆            ┆          ┆        │\n",
       "│ 20170504  ┆ 1493856000 ┆ S13020   ┆ 1112       ┆ … ┆ ZZ00000000 ┆ P071302010 ┆ 1        ┆ 770    │\n",
       "│           ┆            ┆          ┆            ┆   ┆ 0000       ┆            ┆          ┆        │\n",
       "│ 20191010  ┆ 1570665600 ┆ S14027   ┆ 1102       ┆ … ┆ CS02751400 ┆ P071101003 ┆ 1        ┆ 680    │\n",
       "│           ┆            ┆          ┆            ┆   ┆ 0015       ┆            ┆          ┆        │\n",
       "└───────────┴────────────┴──────────┴────────────┴───┴────────────┴────────────┴──────────┴────────┘"
      ]
     },
     "execution_count": 34,
     "metadata": {},
     "output_type": "execute_result"
    }
   ],
   "source": [
    "df_receipt.clone().collect().unwrap().head(Some(10))"
   ]
  },
  {
   "cell_type": "markdown",
   "metadata": {},
   "source": [
    "---\n",
    "> P-002: レシート明細データ（df_receipt）から売上年月日（sales_ymd）、顧客ID（customer_id）、商品コード（product_cd）、売上金額（amount）の順に列を指定し、10件表示せよ。"
   ]
  },
  {
   "cell_type": "code",
   "execution_count": 35,
   "metadata": {
    "vscode": {
     "languageId": "rust"
    }
   },
   "outputs": [
    {
     "data": {
      "text/plain": [
       "shape: (10, 4)\n",
       "┌───────────┬────────────────┬────────────┬────────┐\n",
       "│ sales_ymd ┆ customer_id    ┆ product_cd ┆ amount │\n",
       "│ ---       ┆ ---            ┆ ---        ┆ ---    │\n",
       "│ i64       ┆ str            ┆ str        ┆ i64    │\n",
       "╞═══════════╪════════════════╪════════════╪════════╡\n",
       "│ 20181103  ┆ CS006214000001 ┆ P070305012 ┆ 158    │\n",
       "│ 20181118  ┆ CS008415000097 ┆ P070701017 ┆ 81     │\n",
       "│ 20170712  ┆ CS028414000014 ┆ P060101005 ┆ 170    │\n",
       "│ 20190205  ┆ ZZ000000000000 ┆ P050301001 ┆ 25     │\n",
       "│ …         ┆ …              ┆ …          ┆ …      │\n",
       "│ 20181205  ┆ CS024514000042 ┆ P080101005 ┆ 30     │\n",
       "│ 20190922  ┆ CS040415000178 ┆ P070501004 ┆ 128    │\n",
       "│ 20170504  ┆ ZZ000000000000 ┆ P071302010 ┆ 770    │\n",
       "│ 20191010  ┆ CS027514000015 ┆ P071101003 ┆ 680    │\n",
       "└───────────┴────────────────┴────────────┴────────┘"
      ]
     },
     "execution_count": 35,
     "metadata": {},
     "output_type": "execute_result"
    }
   ],
   "source": [
    "\n",
    "df_receipt\n",
    "    .clone()\n",
    "    .select([\n",
    "        col(\"sales_ymd\"),\n",
    "        col(\"customer_id\"),\n",
    "        col(\"product_cd\"),\n",
    "        col(\"amount\")\n",
    "    ])\n",
    "    .collect()\n",
    "    .unwrap()\n",
    "    .head(Some(10))"
   ]
  },
  {
   "cell_type": "markdown",
   "metadata": {},
   "source": [
    "---\n",
    "> P-003: レシート明細データ（df_receipt）から売上年月日（sales_ymd）、顧客ID（customer_id）、商品コード（product_cd）、売上金額（amount）の順に列を指定し、10件表示せよ。ただし、sales_ymdをsales_dateに項目名を変更して抽出すること。"
   ]
  },
  {
   "cell_type": "code",
   "execution_count": 36,
   "metadata": {
    "vscode": {
     "languageId": "rust"
    }
   },
   "outputs": [
    {
     "data": {
      "text/plain": [
       "shape: (10, 4)\n",
       "┌────────────┬────────────────┬────────────┬────────┐\n",
       "│ sales_date ┆ customer_id    ┆ product_cd ┆ amount │\n",
       "│ ---        ┆ ---            ┆ ---        ┆ ---    │\n",
       "│ i64        ┆ str            ┆ str        ┆ i64    │\n",
       "╞════════════╪════════════════╪════════════╪════════╡\n",
       "│ 20181103   ┆ CS006214000001 ┆ P070305012 ┆ 158    │\n",
       "│ 20181118   ┆ CS008415000097 ┆ P070701017 ┆ 81     │\n",
       "│ 20170712   ┆ CS028414000014 ┆ P060101005 ┆ 170    │\n",
       "│ 20190205   ┆ ZZ000000000000 ┆ P050301001 ┆ 25     │\n",
       "│ …          ┆ …              ┆ …          ┆ …      │\n",
       "│ 20181205   ┆ CS024514000042 ┆ P080101005 ┆ 30     │\n",
       "│ 20190922   ┆ CS040415000178 ┆ P070501004 ┆ 128    │\n",
       "│ 20170504   ┆ ZZ000000000000 ┆ P071302010 ┆ 770    │\n",
       "│ 20191010   ┆ CS027514000015 ┆ P071101003 ┆ 680    │\n",
       "└────────────┴────────────────┴────────────┴────────┘"
      ]
     },
     "execution_count": 36,
     "metadata": {},
     "output_type": "execute_result"
    }
   ],
   "source": [
    "df_receipt\n",
    "    .clone()\n",
    "    .select([\n",
    "        col(\"sales_ymd\").alias(\"sales_date\".into()),\n",
    "        col(\"customer_id\"),\n",
    "        col(\"product_cd\"),\n",
    "        col(\"amount\"),\n",
    "    ])\n",
    "    .collect()\n",
    "    .unwrap()\n",
    "    .head(Some(10))"
   ]
  },
  {
   "cell_type": "markdown",
   "metadata": {},
   "source": [
    "---\n",
    "> P-004: レシート明細データ（df_receipt）から売上日（sales_ymd）、顧客ID（customer_id）、商品コード（product_cd）、売上金額（amount）の順に列を指定し、以下の条件を満たすデータを抽出せよ。\n",
    "> - 顧客ID（customer_id）が\"CS018205000001\""
   ]
  },
  {
   "cell_type": "code",
   "execution_count": 37,
   "metadata": {
    "vscode": {
     "languageId": "rust"
    }
   },
   "outputs": [
    {
     "data": {
      "text/plain": [
       "shape: (12, 4)\n",
       "┌───────────┬────────────────┬────────────┬────────┐\n",
       "│ sales_ymd ┆ customer_id    ┆ product_cd ┆ amount │\n",
       "│ ---       ┆ ---            ┆ ---        ┆ ---    │\n",
       "│ i64       ┆ str            ┆ str        ┆ i64    │\n",
       "╞═══════════╪════════════════╪════════════╪════════╡\n",
       "│ 20180911  ┆ CS018205000001 ┆ P071401012 ┆ 2200   │\n",
       "│ 20180414  ┆ CS018205000001 ┆ P060104007 ┆ 600    │\n",
       "│ 20170614  ┆ CS018205000001 ┆ P050206001 ┆ 990    │\n",
       "│ 20170614  ┆ CS018205000001 ┆ P060702015 ┆ 108    │\n",
       "│ …         ┆ …              ┆ …          ┆ …      │\n",
       "│ 20190226  ┆ CS018205000001 ┆ P071401020 ┆ 2200   │\n",
       "│ 20180911  ┆ CS018205000001 ┆ P071401005 ┆ 1100   │\n",
       "│ 20190216  ┆ CS018205000001 ┆ P040101002 ┆ 218    │\n",
       "│ 20190924  ┆ CS018205000001 ┆ P091503001 ┆ 280    │\n",
       "└───────────┴────────────────┴────────────┴────────┘"
      ]
     },
     "execution_count": 37,
     "metadata": {},
     "output_type": "execute_result"
    }
   ],
   "source": [
    "df_receipt\n",
    "    .clone()\n",
    "    .select([\n",
    "        col(\"sales_ymd\"),\n",
    "        col(\"customer_id\"),\n",
    "        col(\"product_cd\"),\n",
    "        col(\"amount\"),\n",
    "    ])\n",
    "    .filter(col(\"customer_id\").eq(lit(\"CS018205000001\")))\n",
    "    .collect()\n",
    "    .unwrap()"
   ]
  },
  {
   "cell_type": "markdown",
   "metadata": {},
   "source": [
    "---\n",
    "> P-005: レシート明細データ（df_receipt）から売上日（sales_ymd）、顧客ID（customer_id）、商品コード（product_cd）、売上金額（amount）の順に列を指定し、以下の全ての条件を満たすデータを抽出せよ。\n",
    "> - 顧客ID（customer_id）が\"CS018205000001\"\n",
    "> - 売上金額（amount）が1,000以上"
   ]
  },
  {
   "cell_type": "code",
   "execution_count": 38,
   "metadata": {
    "vscode": {
     "languageId": "rust"
    }
   },
   "outputs": [
    {
     "data": {
      "text/plain": [
       "shape: (3, 4)\n",
       "┌───────────┬────────────────┬────────────┬────────┐\n",
       "│ sales_ymd ┆ customer_id    ┆ product_cd ┆ amount │\n",
       "│ ---       ┆ ---            ┆ ---        ┆ ---    │\n",
       "│ i64       ┆ str            ┆ str        ┆ i64    │\n",
       "╞═══════════╪════════════════╪════════════╪════════╡\n",
       "│ 20180911  ┆ CS018205000001 ┆ P071401012 ┆ 2200   │\n",
       "│ 20190226  ┆ CS018205000001 ┆ P071401020 ┆ 2200   │\n",
       "│ 20180911  ┆ CS018205000001 ┆ P071401005 ┆ 1100   │\n",
       "└───────────┴────────────────┴────────────┴────────┘"
      ]
     },
     "execution_count": 38,
     "metadata": {},
     "output_type": "execute_result"
    }
   ],
   "source": [
    "df_receipt\n",
    "    .clone()\n",
    "    .select([\n",
    "        col(\"sales_ymd\"),\n",
    "        col(\"customer_id\"),\n",
    "        col(\"product_cd\"),\n",
    "        col(\"amount\"),\n",
    "    ])\n",
    "    .filter(\n",
    "        col(\"customer_id\")\n",
    "            .eq(lit(\"CS018205000001\"))\n",
    "            .and(col(\"amount\").gt_eq(lit(1000)))\n",
    "    )\n",
    "    .collect()\n",
    "    .unwrap()"
   ]
  },
  {
   "cell_type": "markdown",
   "metadata": {},
   "source": [
    "---\n",
    "> P-006: レシート明細データ（df_receipt）から売上日（sales_ymd）、顧客ID（customer_id）、商品コード（product_cd）、売上数量（quantity）、売上金額（amount）の順に列を指定し、以下の全ての条件を満たすデータを抽出せよ。\n",
    "> - 顧客ID（customer_id）が\"CS018205000001\"\n",
    "> - 売上金額（amount）が1,000以上または売上数量（quantity）が5以上"
   ]
  },
  {
   "cell_type": "code",
   "execution_count": 39,
   "metadata": {
    "vscode": {
     "languageId": "rust"
    }
   },
   "outputs": [
    {
     "data": {
      "text/plain": [
       "shape: (5, 5)\n",
       "┌───────────┬────────────────┬────────────┬──────────┬────────┐\n",
       "│ sales_ymd ┆ customer_id    ┆ product_cd ┆ quantity ┆ amount │\n",
       "│ ---       ┆ ---            ┆ ---        ┆ ---      ┆ ---    │\n",
       "│ i64       ┆ str            ┆ str        ┆ i64      ┆ i64    │\n",
       "╞═══════════╪════════════════╪════════════╪══════════╪════════╡\n",
       "│ 20180911  ┆ CS018205000001 ┆ P071401012 ┆ 1        ┆ 2200   │\n",
       "│ 20180414  ┆ CS018205000001 ┆ P060104007 ┆ 6        ┆ 600    │\n",
       "│ 20170614  ┆ CS018205000001 ┆ P050206001 ┆ 5        ┆ 990    │\n",
       "│ 20190226  ┆ CS018205000001 ┆ P071401020 ┆ 1        ┆ 2200   │\n",
       "│ 20180911  ┆ CS018205000001 ┆ P071401005 ┆ 1        ┆ 1100   │\n",
       "└───────────┴────────────────┴────────────┴──────────┴────────┘"
      ]
     },
     "execution_count": 39,
     "metadata": {},
     "output_type": "execute_result"
    }
   ],
   "source": [
    "df_receipt\n",
    "    .clone()\n",
    "    .select([\n",
    "        col(\"sales_ymd\"),\n",
    "        col(\"customer_id\"),\n",
    "        col(\"product_cd\"),\n",
    "        col(\"quantity\"),\n",
    "        col(\"amount\"),\n",
    "    ])\n",
    "    .filter(\n",
    "        col(\"customer_id\").eq(lit(\"CS018205000001\")).and(\n",
    "            col(\"amount\")\n",
    "                .gt_eq(lit(1000))\n",
    "                .or(col(\"quantity\").gt_eq(lit(5)))\n",
    "        )\n",
    "    )\n",
    "    .collect()\n",
    "    .unwrap()"
   ]
  },
  {
   "cell_type": "markdown",
   "metadata": {},
   "source": [
    "---\n",
    "> P-007: レシート明細データ（df_receipt）から売上日（sales_ymd）、顧客ID（customer_id）、商品コード（product_cd）、売上金額（amount）の順に列を指定し、以下の全ての条件を満たすデータを抽出せよ。\n",
    "> - 顧客ID（customer_id）が\"CS018205000001\"\n",
    "> - 売上金額（amount）が1,000以上2,000以下"
   ]
  },
  {
   "cell_type": "code",
   "execution_count": 40,
   "metadata": {
    "vscode": {
     "languageId": "rust"
    }
   },
   "outputs": [
    {
     "data": {
      "text/plain": [
       "shape: (1, 4)\n",
       "┌───────────┬────────────────┬────────────┬────────┐\n",
       "│ sales_ymd ┆ customer_id    ┆ product_cd ┆ amount │\n",
       "│ ---       ┆ ---            ┆ ---        ┆ ---    │\n",
       "│ i64       ┆ str            ┆ str        ┆ i64    │\n",
       "╞═══════════╪════════════════╪════════════╪════════╡\n",
       "│ 20180911  ┆ CS018205000001 ┆ P071401005 ┆ 1100   │\n",
       "└───────────┴────────────────┴────────────┴────────┘"
      ]
     },
     "execution_count": 40,
     "metadata": {},
     "output_type": "execute_result"
    }
   ],
   "source": [
    "df_receipt\n",
    "    .clone()\n",
    "    .select([\n",
    "        col(\"sales_ymd\"),\n",
    "        col(\"customer_id\"),\n",
    "        col(\"product_cd\"),\n",
    "        col(\"amount\"),\n",
    "    ])\n",
    "    .filter(\n",
    "        col(\"customer_id\").eq(lit(\"CS018205000001\")).and(\n",
    "            col(\"amount\")\n",
    "                .gt_eq(lit(1000))\n",
    "                .and(col(\"amount\").lt_eq(lit(2000)))\n",
    "        )\n",
    "    )\n",
    "    .collect()\n",
    "    .unwrap()"
   ]
  },
  {
   "cell_type": "markdown",
   "metadata": {},
   "source": [
    "---\n",
    "> P-008: レシート明細データ（df_receipt）から売上日（sales_ymd）、顧客ID（customer_id）、商品コード（product_cd）、売上金額（amount）の順に列を指定し、以下の全ての条件を満たすデータを抽出せよ。\n",
    "> - 顧客ID（customer_id）が\"CS018205000001\"\n",
    "> - 商品コード（product_cd）が\"P071401019\"以外"
   ]
  },
  {
   "cell_type": "code",
   "execution_count": 41,
   "metadata": {
    "vscode": {
     "languageId": "rust"
    }
   },
   "outputs": [
    {
     "data": {
      "text/plain": [
       "shape: (12, 4)\n",
       "┌───────────┬────────────────┬────────────┬────────┐\n",
       "│ sales_ymd ┆ customer_id    ┆ product_cd ┆ amount │\n",
       "│ ---       ┆ ---            ┆ ---        ┆ ---    │\n",
       "│ i64       ┆ str            ┆ str        ┆ i64    │\n",
       "╞═══════════╪════════════════╪════════════╪════════╡\n",
       "│ 20180911  ┆ CS018205000001 ┆ P071401012 ┆ 2200   │\n",
       "│ 20180414  ┆ CS018205000001 ┆ P060104007 ┆ 600    │\n",
       "│ 20170614  ┆ CS018205000001 ┆ P050206001 ┆ 990    │\n",
       "│ 20170614  ┆ CS018205000001 ┆ P060702015 ┆ 108    │\n",
       "│ …         ┆ …              ┆ …          ┆ …      │\n",
       "│ 20190226  ┆ CS018205000001 ┆ P071401020 ┆ 2200   │\n",
       "│ 20180911  ┆ CS018205000001 ┆ P071401005 ┆ 1100   │\n",
       "│ 20190216  ┆ CS018205000001 ┆ P040101002 ┆ 218    │\n",
       "│ 20190924  ┆ CS018205000001 ┆ P091503001 ┆ 280    │\n",
       "└───────────┴────────────────┴────────────┴────────┘"
      ]
     },
     "execution_count": 41,
     "metadata": {},
     "output_type": "execute_result"
    }
   ],
   "source": [
    "df_receipt\n",
    "    .clone()\n",
    "    .select([\n",
    "        col(\"sales_ymd\"),\n",
    "        col(\"customer_id\"),\n",
    "        col(\"product_cd\"),\n",
    "        col(\"amount\"),\n",
    "    ])\n",
    "    .filter(\n",
    "        col(\"customer_id\")\n",
    "            .eq(lit(\"CS018205000001\"))\n",
    "            .and(col(\"product_cd\").ne(&lit(\"P071401019\")))\n",
    "    )\n",
    "    .collect()\n",
    "    .unwrap()"
   ]
  },
  {
   "cell_type": "markdown",
   "metadata": {},
   "source": [
    "---\n",
    "> P-009: 以下の処理において、出力結果を変えずにORをANDに書き換えよ。\n",
    "> \n",
    "> `df_store.query(\"not(prefecture_cd == \"13\" | floor_area > 900)\")`"
   ]
  },
  {
   "cell_type": "code",
   "execution_count": 42,
   "metadata": {
    "vscode": {
     "languageId": "rust"
    }
   },
   "outputs": [
    {
     "data": {
      "text/plain": [
       "shape: (3, 10)\n",
       "┌──────────┬────────────┬───────────┬───────────┬───┬───────────┬───────────┬──────────┬───────────┐\n",
       "│ store_cd ┆ store_name ┆ prefectur ┆ prefectur ┆ … ┆ tel_no    ┆ longitude ┆ latitude ┆ floor_are │\n",
       "│ ---      ┆ ---        ┆ e_cd      ┆ e         ┆   ┆ ---       ┆ ---       ┆ ---      ┆ a         │\n",
       "│ str      ┆ str        ┆ ---       ┆ ---       ┆   ┆ str       ┆ f64       ┆ f64      ┆ ---       │\n",
       "│          ┆            ┆ str       ┆ str       ┆   ┆           ┆           ┆          ┆ f64       │\n",
       "╞══════════╪════════════╪═══════════╪═══════════╪═══╪═══════════╪═══════════╪══════════╪═══════════╡\n",
       "│ S14046   ┆ 北山田店   ┆ 14        ┆ 神奈川県  ┆ … ┆ 045-123-4 ┆ 139.5916  ┆ 35.56189 ┆ 831.0     │\n",
       "│          ┆            ┆           ┆           ┆   ┆ 049       ┆           ┆          ┆           │\n",
       "│ S14011   ┆ 日吉本町店 ┆ 14        ┆ 神奈川県  ┆ … ┆ 045-123-4 ┆ 139.6316  ┆ 35.54655 ┆ 890.0     │\n",
       "│          ┆            ┆           ┆           ┆   ┆ 033       ┆           ┆          ┆           │\n",
       "│ S12013   ┆ 習志野店   ┆ 12        ┆ 千葉県    ┆ … ┆ 047-123-4 ┆ 140.022   ┆ 35.66122 ┆ 808.0     │\n",
       "│          ┆            ┆           ┆           ┆   ┆ 002       ┆           ┆          ┆           │\n",
       "└──────────┴────────────┴───────────┴───────────┴───┴───────────┴───────────┴──────────┴───────────┘"
      ]
     },
     "execution_count": 42,
     "metadata": {},
     "output_type": "execute_result"
    }
   ],
   "source": [
    "df_store\n",
    "    .clone()\n",
    "    .filter(\n",
    "        col(\"prefecture_cd\")\n",
    "            .eq(lit(\"13\"))\n",
    "            .not()\n",
    "            .and(col(\"floor_area\").gt(lit(900)).not())\n",
    "    )\n",
    "    .collect()\n",
    "    .unwrap()"
   ]
  },
  {
   "cell_type": "markdown",
   "metadata": {},
   "source": [
    "---\n",
    "> P-010: 店舗データ（df_store）から、店舗コード（store_cd）が\"S14\"で始まるものだけ全項目抽出し、10件表示せよ。"
   ]
  },
  {
   "cell_type": "code",
   "execution_count": 43,
   "metadata": {
    "vscode": {
     "languageId": "rust"
    }
   },
   "outputs": [
    {
     "data": {
      "text/plain": [
       "shape: (10, 10)\n",
       "┌──────────┬────────────┬───────────┬───────────┬───┬───────────┬───────────┬──────────┬───────────┐\n",
       "│ store_cd ┆ store_name ┆ prefectur ┆ prefectur ┆ … ┆ tel_no    ┆ longitude ┆ latitude ┆ floor_are │\n",
       "│ ---      ┆ ---        ┆ e_cd      ┆ e         ┆   ┆ ---       ┆ ---       ┆ ---      ┆ a         │\n",
       "│ str      ┆ str        ┆ ---       ┆ ---       ┆   ┆ str       ┆ f64       ┆ f64      ┆ ---       │\n",
       "│          ┆            ┆ str       ┆ str       ┆   ┆           ┆           ┆          ┆ f64       │\n",
       "╞══════════╪════════════╪═══════════╪═══════════╪═══╪═══════════╪═══════════╪══════════╪═══════════╡\n",
       "│ S14010   ┆ 菊名店     ┆ 14        ┆ 神奈川県  ┆ … ┆ 045-123-4 ┆ 139.6326  ┆ 35.50049 ┆ 1732.0    │\n",
       "│          ┆            ┆           ┆           ┆   ┆ 032       ┆           ┆          ┆           │\n",
       "│ S14033   ┆ 阿久和店   ┆ 14        ┆ 神奈川県  ┆ … ┆ 045-123-4 ┆ 139.4961  ┆ 35.45918 ┆ 1495.0    │\n",
       "│          ┆            ┆           ┆           ┆   ┆ 043       ┆           ┆          ┆           │\n",
       "│ S14036   ┆ 相模原中央 ┆ 14        ┆ 神奈川県  ┆ … ┆ 042-123-4 ┆ 139.3716  ┆ 35.57327 ┆ 1679.0    │\n",
       "│          ┆ 店         ┆           ┆           ┆   ┆ 045       ┆           ┆          ┆           │\n",
       "│ S14040   ┆ 長津田店   ┆ 14        ┆ 神奈川県  ┆ … ┆ 045-123-4 ┆ 139.4994  ┆ 35.52398 ┆ 1548.0    │\n",
       "│          ┆            ┆           ┆           ┆   ┆ 046       ┆           ┆          ┆           │\n",
       "│ …        ┆ …          ┆ …         ┆ …         ┆ … ┆ …         ┆ …         ┆ …        ┆ …         │\n",
       "│ S14012   ┆ 本牧和田店 ┆ 14        ┆ 神奈川県  ┆ … ┆ 045-123-4 ┆ 139.6582  ┆ 35.42156 ┆ 1341.0    │\n",
       "│          ┆            ┆           ┆           ┆   ┆ 034       ┆           ┆          ┆           │\n",
       "│ S14046   ┆ 北山田店   ┆ 14        ┆ 神奈川県  ┆ … ┆ 045-123-4 ┆ 139.5916  ┆ 35.56189 ┆ 831.0     │\n",
       "│          ┆            ┆           ┆           ┆   ┆ 049       ┆           ┆          ┆           │\n",
       "│ S14022   ┆ 逗子店     ┆ 14        ┆ 神奈川県  ┆ … ┆ 046-123-4 ┆ 139.5789  ┆ 35.29642 ┆ 1838.0    │\n",
       "│          ┆            ┆           ┆           ┆   ┆ 036       ┆           ┆          ┆           │\n",
       "│ S14011   ┆ 日吉本町店 ┆ 14        ┆ 神奈川県  ┆ … ┆ 045-123-4 ┆ 139.6316  ┆ 35.54655 ┆ 890.0     │\n",
       "│          ┆            ┆           ┆           ┆   ┆ 033       ┆           ┆          ┆           │\n",
       "└──────────┴────────────┴───────────┴───────────┴───┴───────────┴───────────┴──────────┴───────────┘"
      ]
     },
     "execution_count": 43,
     "metadata": {},
     "output_type": "execute_result"
    }
   ],
   "source": [
    "df_store\n",
    "    .clone()\n",
    "    .filter(col(\"store_cd\").str().starts_with(lit(\"S14\")))\n",
    "    .collect()\n",
    "    .unwrap()\n",
    "    .head(Some(10))"
   ]
  },
  {
   "cell_type": "markdown",
   "metadata": {},
   "source": [
    "---\n",
    "> P-011: 顧客データ（df_customer）から顧客ID（customer_id）の末尾が1のものだけ全項目抽出し、10件表示せよ。"
   ]
  },
  {
   "cell_type": "code",
   "execution_count": 44,
   "metadata": {
    "vscode": {
     "languageId": "rust"
    }
   },
   "outputs": [
    {
     "data": {
      "text/plain": [
       "shape: (10, 11)\n",
       "┌────────────┬────────────┬───────────┬────────┬───┬───────────┬───────────┬───────────┬───────────┐\n",
       "│ customer_i ┆ customer_n ┆ gender_cd ┆ gender ┆ … ┆ address   ┆ applicati ┆ applicati ┆ status_cd │\n",
       "│ d          ┆ ame        ┆ ---       ┆ ---    ┆   ┆ ---       ┆ on_store_ ┆ on_date   ┆ ---       │\n",
       "│ ---        ┆ ---        ┆ str       ┆ str    ┆   ┆ str       ┆ cd        ┆ ---       ┆ str       │\n",
       "│ str        ┆ str        ┆           ┆        ┆   ┆           ┆ ---       ┆ i64       ┆           │\n",
       "│            ┆            ┆           ┆        ┆   ┆           ┆ str       ┆           ┆           │\n",
       "╞════════════╪════════════╪═══════════╪════════╪═══╪═══════════╪═══════════╪═══════════╪═══════════╡\n",
       "│ CS03761300 ┆ 六角 雅彦  ┆ 9         ┆ 不明   ┆ … ┆ 東京都江  ┆ S13037    ┆ 20150414  ┆ 0-0000000 │\n",
       "│ 0071       ┆            ┆           ┆        ┆   ┆ 東区南砂* ┆           ┆           ┆ 0-0       │\n",
       "│            ┆            ┆           ┆        ┆   ┆ ********* ┆           ┆           ┆           │\n",
       "│ CS02881100 ┆ 堀井       ┆ 1         ┆ 女性   ┆ … ┆ 神奈川県  ┆ S14028    ┆ 20160115  ┆ 0-0000000 │\n",
       "│ 0001       ┆ かおり     ┆           ┆        ┆   ┆ 横浜市泉  ┆           ┆           ┆ 0-0       │\n",
       "│            ┆            ┆           ┆        ┆   ┆ 区和泉町* ┆           ┆           ┆           │\n",
       "│            ┆            ┆           ┆        ┆   ┆ ********* ┆           ┆           ┆           │\n",
       "│ CS04041200 ┆ 川井 郁恵  ┆ 1         ┆ 女性   ┆ … ┆ 神奈川県  ┆ S14040    ┆ 20151101  ┆ 1-2009102 │\n",
       "│ 0191       ┆            ┆           ┆        ┆   ┆ 横浜市緑  ┆           ┆           ┆ 5-4       │\n",
       "│            ┆            ┆           ┆        ┆   ┆ 区北八朔  ┆           ┆           ┆           │\n",
       "│            ┆            ┆           ┆        ┆   ┆ 町******* ┆           ┆           ┆           │\n",
       "│            ┆            ┆           ┆        ┆   ┆ ***       ┆           ┆           ┆           │\n",
       "│ CS02831400 ┆ 小菅       ┆ 1         ┆ 女性   ┆ … ┆ 神奈川県  ┆ S14028    ┆ 20151123  ┆ 1-2008042 │\n",
       "│ 0011       ┆ あおい     ┆           ┆        ┆   ┆ 横浜市瀬  ┆           ┆           ┆ 6-5       │\n",
       "│            ┆            ┆           ┆        ┆   ┆ 谷区宮沢* ┆           ┆           ┆           │\n",
       "│            ┆            ┆           ┆        ┆   ┆ ********* ┆           ┆           ┆           │\n",
       "│ …          ┆ …          ┆ …         ┆ …      ┆ … ┆ …         ┆ …         ┆ …         ┆ …         │\n",
       "│ CS00470200 ┆ 野島 洋    ┆ 0         ┆ 男性   ┆ … ┆ 東京都練  ┆ S13004    ┆ 20170218  ┆ 0-0000000 │\n",
       "│ 0041       ┆            ┆           ┆        ┆   ┆ 馬区向山* ┆           ┆           ┆ 0-0       │\n",
       "│            ┆            ┆           ┆        ┆   ┆ ********* ┆           ┆           ┆           │\n",
       "│ CS04151500 ┆ 栗田 千夏  ┆ 1         ┆ 女性   ┆ … ┆ 東京都多  ┆ S13041    ┆ 20160422  ┆ E-2010080 │\n",
       "│ 0001       ┆            ┆           ┆        ┆   ┆ 摩市和田* ┆           ┆           ┆ 3-F       │\n",
       "│            ┆            ┆           ┆        ┆   ┆ ********* ┆           ┆           ┆           │\n",
       "│ CS02931300 ┆ 北条       ┆ 1         ┆ 女性   ┆ … ┆ 千葉県浦  ┆ S12029    ┆ 20180810  ┆ 0-0000000 │\n",
       "│ 0221       ┆ ひかり     ┆           ┆        ┆   ┆ 安市美浜* ┆           ┆           ┆ 0-0       │\n",
       "│            ┆            ┆           ┆        ┆   ┆ ********* ┆           ┆           ┆           │\n",
       "│ CS03431200 ┆ 望月 奈央  ┆ 1         ┆ 女性   ┆ … ┆ 神奈川県  ┆ S14034    ┆ 20160106  ┆ 0-0000000 │\n",
       "│ 0071       ┆            ┆           ┆        ┆   ┆ 川崎市高  ┆           ┆           ┆ 0-0       │\n",
       "│            ┆            ┆           ┆        ┆   ┆ 津区久末* ┆           ┆           ┆           │\n",
       "│            ┆            ┆           ┆        ┆   ┆ ********* ┆           ┆           ┆           │\n",
       "└────────────┴────────────┴───────────┴────────┴───┴───────────┴───────────┴───────────┴───────────┘"
      ]
     },
     "execution_count": 44,
     "metadata": {},
     "output_type": "execute_result"
    }
   ],
   "source": [
    "df_customer\n",
    "    .clone()\n",
    "    .filter(col(\"customer_id\").str().ends_with(lit(\"1\")))\n",
    "    .collect()\n",
    "    .unwrap()\n",
    "    .head(Some(10))"
   ]
  },
  {
   "cell_type": "markdown",
   "metadata": {},
   "source": [
    "---\n",
    "> P-012: 店舗データ（df_store）から、住所 (address) に\"横浜市\"が含まれるものだけ全項目表示せよ。"
   ]
  },
  {
   "cell_type": "code",
   "execution_count": 45,
   "metadata": {
    "vscode": {
     "languageId": "rust"
    }
   },
   "outputs": [
    {
     "data": {
      "text/plain": [
       "shape: (10, 10)\n",
       "┌──────────┬────────────┬───────────┬───────────┬───┬───────────┬───────────┬──────────┬───────────┐\n",
       "│ store_cd ┆ store_name ┆ prefectur ┆ prefectur ┆ … ┆ tel_no    ┆ longitude ┆ latitude ┆ floor_are │\n",
       "│ ---      ┆ ---        ┆ e_cd      ┆ e         ┆   ┆ ---       ┆ ---       ┆ ---      ┆ a         │\n",
       "│ str      ┆ str        ┆ ---       ┆ ---       ┆   ┆ str       ┆ f64       ┆ f64      ┆ ---       │\n",
       "│          ┆            ┆ str       ┆ str       ┆   ┆           ┆           ┆          ┆ f64       │\n",
       "╞══════════╪════════════╪═══════════╪═══════════╪═══╪═══════════╪═══════════╪══════════╪═══════════╡\n",
       "│ S14010   ┆ 菊名店     ┆ 14        ┆ 神奈川県  ┆ … ┆ 045-123-4 ┆ 139.6326  ┆ 35.50049 ┆ 1732.0    │\n",
       "│          ┆            ┆           ┆           ┆   ┆ 032       ┆           ┆          ┆           │\n",
       "│ S14033   ┆ 阿久和店   ┆ 14        ┆ 神奈川県  ┆ … ┆ 045-123-4 ┆ 139.4961  ┆ 35.45918 ┆ 1495.0    │\n",
       "│          ┆            ┆           ┆           ┆   ┆ 043       ┆           ┆          ┆           │\n",
       "│ S14040   ┆ 長津田店   ┆ 14        ┆ 神奈川県  ┆ … ┆ 045-123-4 ┆ 139.4994  ┆ 35.52398 ┆ 1548.0    │\n",
       "│          ┆            ┆           ┆           ┆   ┆ 046       ┆           ┆          ┆           │\n",
       "│ S14050   ┆ 阿久和西店 ┆ 14        ┆ 神奈川県  ┆ … ┆ 045-123-4 ┆ 139.4961  ┆ 35.45918 ┆ 1830.0    │\n",
       "│          ┆            ┆           ┆           ┆   ┆ 053       ┆           ┆          ┆           │\n",
       "│ …        ┆ …          ┆ …         ┆ …         ┆ … ┆ …         ┆ …         ┆ …        ┆ …         │\n",
       "│ S14046   ┆ 北山田店   ┆ 14        ┆ 神奈川県  ┆ … ┆ 045-123-4 ┆ 139.5916  ┆ 35.56189 ┆ 831.0     │\n",
       "│          ┆            ┆           ┆           ┆   ┆ 049       ┆           ┆          ┆           │\n",
       "│ S14011   ┆ 日吉本町店 ┆ 14        ┆ 神奈川県  ┆ … ┆ 045-123-4 ┆ 139.6316  ┆ 35.54655 ┆ 890.0     │\n",
       "│          ┆            ┆           ┆           ┆   ┆ 033       ┆           ┆          ┆           │\n",
       "│ S14048   ┆ 中川中央店 ┆ 14        ┆ 神奈川県  ┆ … ┆ 045-123-4 ┆ 139.5758  ┆ 35.54912 ┆ 1657.0    │\n",
       "│          ┆            ┆           ┆           ┆   ┆ 051       ┆           ┆          ┆           │\n",
       "│ S14042   ┆ 新山下店   ┆ 14        ┆ 神奈川県  ┆ … ┆ 045-123-4 ┆ 139.6593  ┆ 35.43894 ┆ 1044.0    │\n",
       "│          ┆            ┆           ┆           ┆   ┆ 047       ┆           ┆          ┆           │\n",
       "└──────────┴────────────┴───────────┴───────────┴───┴───────────┴───────────┴──────────┴───────────┘"
      ]
     },
     "execution_count": 45,
     "metadata": {},
     "output_type": "execute_result"
    }
   ],
   "source": [
    "df_store\n",
    "    .clone()\n",
    "    .filter(col(\"address\").str().contains(lit(\"横浜市\"), true))\n",
    "    .collect()\n",
    "    .unwrap()\n",
    "    .head(Some(10))"
   ]
  },
  {
   "cell_type": "markdown",
   "metadata": {},
   "source": [
    "---\n",
    "> P-013: 顧客データ（df_customer）から、ステータスコード（status_cd）の先頭がアルファベットのA〜Fで始まるデータを全項目抽出し、10件表示せよ。"
   ]
  },
  {
   "cell_type": "code",
   "execution_count": 46,
   "metadata": {
    "vscode": {
     "languageId": "rust"
    }
   },
   "outputs": [
    {
     "data": {
      "text/plain": [
       "shape: (10, 11)\n",
       "┌────────────┬────────────┬───────────┬────────┬───┬───────────┬───────────┬───────────┬───────────┐\n",
       "│ customer_i ┆ customer_n ┆ gender_cd ┆ gender ┆ … ┆ address   ┆ applicati ┆ applicati ┆ status_cd │\n",
       "│ d          ┆ ame        ┆ ---       ┆ ---    ┆   ┆ ---       ┆ on_store_ ┆ on_date   ┆ ---       │\n",
       "│ ---        ┆ ---        ┆ str       ┆ str    ┆   ┆ str       ┆ cd        ┆ ---       ┆ str       │\n",
       "│ str        ┆ str        ┆           ┆        ┆   ┆           ┆ ---       ┆ i64       ┆           │\n",
       "│            ┆            ┆           ┆        ┆   ┆           ┆ str       ┆           ┆           │\n",
       "╞════════════╪════════════╪═══════════╪════════╪═══╪═══════════╪═══════════╪═══════════╪═══════════╡\n",
       "│ CS03141500 ┆ 宇多田     ┆ 1         ┆ 女性   ┆ … ┆ 東京都渋  ┆ S13031    ┆ 20150529  ┆ D-2010032 │\n",
       "│ 0172       ┆ 貴美子     ┆           ┆        ┆   ┆ 谷区代々  ┆           ┆           ┆ 5-C       │\n",
       "│            ┆            ┆           ┆        ┆   ┆ 木******* ┆           ┆           ┆           │\n",
       "│            ┆            ┆           ┆        ┆   ┆ ***       ┆           ┆           ┆           │\n",
       "│ CS01541400 ┆ 奥野 陽子  ┆ 1         ┆ 女性   ┆ … ┆ 東京都江  ┆ S13015    ┆ 20150722  ┆ B-2010060 │\n",
       "│ 0103       ┆            ┆           ┆        ┆   ┆ 東区北砂* ┆           ┆           ┆ 9-B       │\n",
       "│            ┆            ┆           ┆        ┆   ┆ ********* ┆           ┆           ┆           │\n",
       "│ CS01121500 ┆ 芦田 沙耶  ┆ 1         ┆ 女性   ┆ … ┆ 神奈川県  ┆ S14011    ┆ 20150228  ┆ C-2010042 │\n",
       "│ 0048       ┆            ┆           ┆        ┆   ┆ 横浜市港  ┆           ┆           ┆ 1-9       │\n",
       "│            ┆            ┆           ┆        ┆   ┆ 北区日吉  ┆           ┆           ┆           │\n",
       "│            ┆            ┆           ┆        ┆   ┆ 本町***** ┆           ┆           ┆           │\n",
       "│            ┆            ┆           ┆        ┆   ┆ *****     ┆           ┆           ┆           │\n",
       "│ CS02941500 ┆ 梅田 里穂  ┆ 1         ┆ 女性   ┆ … ┆ 千葉県浦  ┆ S12029    ┆ 20150610  ┆ D-2010091 │\n",
       "│ 0023       ┆            ┆           ┆        ┆   ┆ 安市富士  ┆           ┆           ┆ 8-E       │\n",
       "│            ┆            ┆           ┆        ┆   ┆ 見******* ┆           ┆           ┆           │\n",
       "│            ┆            ┆           ┆        ┆   ┆ ***       ┆           ┆           ┆           │\n",
       "│ …          ┆ …          ┆ …         ┆ …      ┆ … ┆ …         ┆ …         ┆ …         ┆ …         │\n",
       "│ CS02921500 ┆ 石倉 美帆  ┆ 1         ┆ 女性   ┆ … ┆ 千葉県浦  ┆ S12029    ┆ 20150708  ┆ B-2010082 │\n",
       "│ 0025       ┆            ┆           ┆        ┆   ┆ 安市今川* ┆           ┆           ┆ 0-C       │\n",
       "│            ┆            ┆           ┆        ┆   ┆ ********* ┆           ┆           ┆           │\n",
       "│ CS03360500 ┆ 猪股 雄太  ┆ 0         ┆ 男性   ┆ … ┆ 神奈川県  ┆ S14033    ┆ 20150425  ┆ F-2010091 │\n",
       "│ 0005       ┆            ┆           ┆        ┆   ┆ 横浜市瀬  ┆           ┆           ┆ 7-E       │\n",
       "│            ┆            ┆           ┆        ┆   ┆ 谷区瀬谷* ┆           ┆           ┆           │\n",
       "│            ┆            ┆           ┆        ┆   ┆ ********* ┆           ┆           ┆           │\n",
       "│ CS03341500 ┆ 板垣       ┆ 1         ┆ 女性   ┆ … ┆ 神奈川県  ┆ S14033    ┆ 20150712  ┆ F-2010032 │\n",
       "│ 0229       ┆ 菜々美     ┆           ┆        ┆   ┆ 横浜市瀬  ┆           ┆           ┆ 6-E       │\n",
       "│            ┆            ┆           ┆        ┆   ┆ 谷区二ツ  ┆           ┆           ┆           │\n",
       "│            ┆            ┆           ┆        ┆   ┆ 橋町***** ┆           ┆           ┆           │\n",
       "│            ┆            ┆           ┆        ┆   ┆ *****     ┆           ┆           ┆           │\n",
       "│ CS00841500 ┆ 黒谷 麻緒  ┆ 1         ┆ 女性   ┆ … ┆ 東京都世  ┆ S13008    ┆ 20150829  ┆ F-2010062 │\n",
       "│ 0145       ┆            ┆           ┆        ┆   ┆ 田谷区喜  ┆           ┆           ┆ 2-F       │\n",
       "│            ┆            ┆           ┆        ┆   ┆ 多見***** ┆           ┆           ┆           │\n",
       "│            ┆            ┆           ┆        ┆   ┆ *****     ┆           ┆           ┆           │\n",
       "└────────────┴────────────┴───────────┴────────┴───┴───────────┴───────────┴───────────┴───────────┘"
      ]
     },
     "execution_count": 46,
     "metadata": {},
     "output_type": "execute_result"
    }
   ],
   "source": [
    "df_customer\n",
    "    .clone()\n",
    "    .filter(col(\"status_cd\").str().contains(lit(\"^[A-F]\"), true))\n",
    "    .collect()\n",
    "    .unwrap()\n",
    "    .head(Some(10))"
   ]
  },
  {
   "cell_type": "markdown",
   "metadata": {},
   "source": [
    "---\n",
    "> P-014: 顧客データ（df_customer）から、ステータスコード（status_cd）の末尾が数字の1〜9で終わるデータを全項目抽出し、10件表示せよ。"
   ]
  },
  {
   "cell_type": "code",
   "execution_count": 47,
   "metadata": {
    "vscode": {
     "languageId": "rust"
    }
   },
   "outputs": [
    {
     "data": {
      "text/plain": [
       "shape: (10, 11)\n",
       "┌────────────┬────────────┬───────────┬────────┬───┬───────────┬───────────┬───────────┬───────────┐\n",
       "│ customer_i ┆ customer_n ┆ gender_cd ┆ gender ┆ … ┆ address   ┆ applicati ┆ applicati ┆ status_cd │\n",
       "│ d          ┆ ame        ┆ ---       ┆ ---    ┆   ┆ ---       ┆ on_store_ ┆ on_date   ┆ ---       │\n",
       "│ ---        ┆ ---        ┆ str       ┆ str    ┆   ┆ str       ┆ cd        ┆ ---       ┆ str       │\n",
       "│ str        ┆ str        ┆           ┆        ┆   ┆           ┆ ---       ┆ i64       ┆           │\n",
       "│            ┆            ┆           ┆        ┆   ┆           ┆ str       ┆           ┆           │\n",
       "╞════════════╪════════════╪═══════════╪════════╪═══╪═══════════╪═══════════╪═══════════╪═══════════╡\n",
       "│ CS00121500 ┆ 田崎 美紀  ┆ 1         ┆ 女性   ┆ … ┆ 東京都大  ┆ S13001    ┆ 20170605  ┆ 6-2009092 │\n",
       "│ 0145       ┆            ┆           ┆        ┆   ┆ 田区仲六  ┆           ┆           ┆ 9-2       │\n",
       "│            ┆            ┆           ┆        ┆   ┆ 郷******* ┆           ┆           ┆           │\n",
       "│            ┆            ┆           ┆        ┆   ┆ ***       ┆           ┆           ┆           │\n",
       "│ CS03351300 ┆ 安斎 遥    ┆ 1         ┆ 女性   ┆ … ┆ 神奈川県  ┆ S14033    ┆ 20150728  ┆ 6-2008050 │\n",
       "│ 0180       ┆            ┆           ┆        ┆   ┆ 横浜市旭  ┆           ┆           ┆ 6-5       │\n",
       "│            ┆            ┆           ┆        ┆   ┆ 区善部町* ┆           ┆           ┆           │\n",
       "│            ┆            ┆           ┆        ┆   ┆ ********* ┆           ┆           ┆           │\n",
       "│ CS01121500 ┆ 芦田 沙耶  ┆ 1         ┆ 女性   ┆ … ┆ 神奈川県  ┆ S14011    ┆ 20150228  ┆ C-2010042 │\n",
       "│ 0048       ┆            ┆           ┆        ┆   ┆ 横浜市港  ┆           ┆           ┆ 1-9       │\n",
       "│            ┆            ┆           ┆        ┆   ┆ 北区日吉  ┆           ┆           ┆           │\n",
       "│            ┆            ┆           ┆        ┆   ┆ 本町***** ┆           ┆           ┆           │\n",
       "│            ┆            ┆           ┆        ┆   ┆ *****     ┆           ┆           ┆           │\n",
       "│ CS04041200 ┆ 川井 郁恵  ┆ 1         ┆ 女性   ┆ … ┆ 神奈川県  ┆ S14040    ┆ 20151101  ┆ 1-2009102 │\n",
       "│ 0191       ┆            ┆           ┆        ┆   ┆ 横浜市緑  ┆           ┆           ┆ 5-4       │\n",
       "│            ┆            ┆           ┆        ┆   ┆ 区北八朔  ┆           ┆           ┆           │\n",
       "│            ┆            ┆           ┆        ┆   ┆ 町******* ┆           ┆           ┆           │\n",
       "│            ┆            ┆           ┆        ┆   ┆ ***       ┆           ┆           ┆           │\n",
       "│ …          ┆ …          ┆ …         ┆ …      ┆ … ┆ …         ┆ …         ┆ …         ┆ …         │\n",
       "│ CS02351300 ┆ 神戸 そら  ┆ 1         ┆ 女性   ┆ … ┆ 神奈川県  ┆ S14023    ┆ 20150915  ┆ 5-2010052 │\n",
       "│ 0066       ┆            ┆           ┆        ┆   ┆ 川崎市川  ┆           ┆           ┆ 4-9       │\n",
       "│            ┆            ┆           ┆        ┆   ┆ 崎区東田  ┆           ┆           ┆           │\n",
       "│            ┆            ┆           ┆        ┆   ┆ 町******* ┆           ┆           ┆           │\n",
       "│            ┆            ┆           ┆        ┆   ┆ ***       ┆           ┆           ┆           │\n",
       "│ CS03551300 ┆ 市川 美帆  ┆ 1         ┆ 女性   ┆ … ┆ 東京都世  ┆ S13035    ┆ 20150227  ┆ 8-2010071 │\n",
       "│ 0134       ┆            ┆           ┆        ┆   ┆ 田谷区桜* ┆           ┆           ┆ 1-9       │\n",
       "│            ┆            ┆           ┆        ┆   ┆ ********* ┆           ┆           ┆           │\n",
       "│ CS00151500 ┆ 高松 夏空  ┆ 1         ┆ 女性   ┆ … ┆ 東京都大  ┆ S13001    ┆ 20160812  ┆ 1-2010080 │\n",
       "│ 0263       ┆            ┆           ┆        ┆   ┆ 田区西蒲  ┆           ┆           ┆ 4-1       │\n",
       "│            ┆            ┆           ┆        ┆   ┆ 田******* ┆           ┆           ┆           │\n",
       "│            ┆            ┆           ┆        ┆   ┆ ***       ┆           ┆           ┆           │\n",
       "│ CS04031400 ┆ 鶴田       ┆ 9         ┆ 不明   ┆ … ┆ 神奈川県  ┆ S14040    ┆ 20150122  ┆ 2-2008042 │\n",
       "│ 0027       ┆ きみまろ   ┆           ┆        ┆   ┆ 横浜市緑  ┆           ┆           ┆ 6-4       │\n",
       "│            ┆            ┆           ┆        ┆   ┆ 区長津田* ┆           ┆           ┆           │\n",
       "│            ┆            ┆           ┆        ┆   ┆ ********* ┆           ┆           ┆           │\n",
       "└────────────┴────────────┴───────────┴────────┴───┴───────────┴───────────┴───────────┴───────────┘"
      ]
     },
     "execution_count": 47,
     "metadata": {},
     "output_type": "execute_result"
    }
   ],
   "source": [
    "df_customer\n",
    "    .clone()\n",
    "    .filter(col(\"status_cd\").str().contains(lit(\"[1-9]$\"), true))\n",
    "    .collect()\n",
    "    .unwrap()\n",
    "    .head(Some(10))"
   ]
  },
  {
   "cell_type": "markdown",
   "metadata": {},
   "source": [
    "---\n",
    "> P-015: 顧客データ（df_customer）から、ステータスコード（status_cd）の先頭がアルファベットのA〜Fで始まり、末尾が数字の1〜9で終わるデータを全項目抽出し、10件表示せよ。"
   ]
  },
  {
   "cell_type": "code",
   "execution_count": 48,
   "metadata": {
    "vscode": {
     "languageId": "rust"
    }
   },
   "outputs": [
    {
     "data": {
      "text/plain": [
       "shape: (10, 11)\n",
       "┌────────────┬────────────┬───────────┬────────┬───┬───────────┬───────────┬───────────┬───────────┐\n",
       "│ customer_i ┆ customer_n ┆ gender_cd ┆ gender ┆ … ┆ address   ┆ applicati ┆ applicati ┆ status_cd │\n",
       "│ d          ┆ ame        ┆ ---       ┆ ---    ┆   ┆ ---       ┆ on_store_ ┆ on_date   ┆ ---       │\n",
       "│ ---        ┆ ---        ┆ str       ┆ str    ┆   ┆ str       ┆ cd        ┆ ---       ┆ str       │\n",
       "│ str        ┆ str        ┆           ┆        ┆   ┆           ┆ ---       ┆ i64       ┆           │\n",
       "│            ┆            ┆           ┆        ┆   ┆           ┆ str       ┆           ┆           │\n",
       "╞════════════╪════════════╪═══════════╪════════╪═══╪═══════════╪═══════════╪═══════════╪═══════════╡\n",
       "│ CS01121500 ┆ 芦田 沙耶  ┆ 1         ┆ 女性   ┆ … ┆ 神奈川県  ┆ S14011    ┆ 20150228  ┆ C-2010042 │\n",
       "│ 0048       ┆            ┆           ┆        ┆   ┆ 横浜市港  ┆           ┆           ┆ 1-9       │\n",
       "│            ┆            ┆           ┆        ┆   ┆ 北区日吉  ┆           ┆           ┆           │\n",
       "│            ┆            ┆           ┆        ┆   ┆ 本町***** ┆           ┆           ┆           │\n",
       "│            ┆            ┆           ┆        ┆   ┆ *****     ┆           ┆           ┆           │\n",
       "│ CS02251300 ┆ 島村       ┆ 1         ┆ 女性   ┆ … ┆ 神奈川県  ┆ S14022    ┆ 20150320  ┆ A-2009111 │\n",
       "│ 0105       ┆ 貴美子     ┆           ┆        ┆   ┆ 逗子市山  ┆           ┆           ┆ 5-7       │\n",
       "│            ┆            ┆           ┆        ┆   ┆ の根***** ┆           ┆           ┆           │\n",
       "│            ┆            ┆           ┆        ┆   ┆ *****     ┆           ┆           ┆           │\n",
       "│ CS00151500 ┆ 水野 陽子  ┆ 9         ┆ 不明   ┆ … ┆ 東京都大  ┆ S13001    ┆ 20150614  ┆ A-2010072 │\n",
       "│ 0096       ┆            ┆           ┆        ┆   ┆ 田区蒲田  ┆           ┆           ┆ 4-7       │\n",
       "│            ┆            ┆           ┆        ┆   ┆ 本町***** ┆           ┆           ┆           │\n",
       "│            ┆            ┆           ┆        ┆   ┆ *****     ┆           ┆           ┆           │\n",
       "│ CS01361500 ┆ 西脇 季衣  ┆ 1         ┆ 女性   ┆ … ┆ 千葉県千  ┆ S12013    ┆ 20150128  ┆ B-2010032 │\n",
       "│ 0053       ┆            ┆           ┆        ┆   ┆ 葉市美浜  ┆           ┆           ┆ 9-6       │\n",
       "│            ┆            ┆           ┆        ┆   ┆ 区幕張西* ┆           ┆           ┆           │\n",
       "│            ┆            ┆           ┆        ┆   ┆ ********* ┆           ┆           ┆           │\n",
       "│ …          ┆ …          ┆ …         ┆ …      ┆ … ┆ …         ┆ …         ┆ …         ┆ …         │\n",
       "│ CS03521200 ┆ 内村       ┆ 1         ┆ 女性   ┆ … ┆ 東京都目  ┆ S13035    ┆ 20151013  ┆ B-2010101 │\n",
       "│ 0007       ┆ 恵梨香     ┆           ┆        ┆   ┆ 黒区八雲* ┆           ┆           ┆ 8-6       │\n",
       "│            ┆            ┆           ┆        ┆   ┆ ********* ┆           ┆           ┆           │\n",
       "│ CS00251500 ┆ 野田 コウ  ┆ 1         ┆ 女性   ┆ … ┆ 東京都国  ┆ S13002    ┆ 20160410  ┆ C-2010012 │\n",
       "│ 0386       ┆            ┆           ┆        ┆   ┆ 分寺市西  ┆           ┆           ┆ 7-8       │\n",
       "│            ┆            ┆           ┆        ┆   ┆ 恋ケ窪*** ┆           ┆           ┆           │\n",
       "│            ┆            ┆           ┆        ┆   ┆ *******   ┆           ┆           ┆           │\n",
       "│ CS00161500 ┆ 稲垣       ┆ 1         ┆ 女性   ┆ … ┆ 東京都大  ┆ S13001    ┆ 20170403  ┆ A-2010010 │\n",
       "│ 0372       ┆ 寿々花     ┆           ┆        ┆   ┆ 田区南蒲  ┆           ┆           ┆ 4-1       │\n",
       "│            ┆            ┆           ┆        ┆   ┆ 田******* ┆           ┆           ┆           │\n",
       "│            ┆            ┆           ┆        ┆   ┆ ***       ┆           ┆           ┆           │\n",
       "│ CS03251200 ┆ 松井 知世  ┆ 1         ┆ 女性   ┆ … ┆ 神奈川県  ┆ S13032    ┆ 20150727  ┆ A-2010010 │\n",
       "│ 0121       ┆            ┆           ┆        ┆   ┆ 川崎市川  ┆           ┆           ┆ 3-5       │\n",
       "│            ┆            ┆           ┆        ┆   ┆ 崎区富士  ┆           ┆           ┆           │\n",
       "│            ┆            ┆           ┆        ┆   ┆ 見******* ┆           ┆           ┆           │\n",
       "│            ┆            ┆           ┆        ┆   ┆ ***       ┆           ┆           ┆           │\n",
       "└────────────┴────────────┴───────────┴────────┴───┴───────────┴───────────┴───────────┴───────────┘"
      ]
     },
     "execution_count": 48,
     "metadata": {},
     "output_type": "execute_result"
    }
   ],
   "source": [
    "df_customer\n",
    "    .clone()\n",
    "    .filter(col(\"status_cd\").str().contains(lit(\"^[A-F].*[0-9]$\"), true))\n",
    "    .collect()\n",
    "    .unwrap()\n",
    "    .head(Some(10))"
   ]
  },
  {
   "cell_type": "markdown",
   "metadata": {},
   "source": [
    "---\n",
    "> P-016: 店舗データ（df_store）から、電話番号（tel_no）が3桁-3桁-4桁のデータを全項目表示せよ。"
   ]
  },
  {
   "cell_type": "code",
   "execution_count": 49,
   "metadata": {
    "vscode": {
     "languageId": "rust"
    }
   },
   "outputs": [
    {
     "data": {
      "text/plain": [
       "shape: (34, 10)\n",
       "┌──────────┬────────────┬───────────┬───────────┬───┬───────────┬───────────┬──────────┬───────────┐\n",
       "│ store_cd ┆ store_name ┆ prefectur ┆ prefectur ┆ … ┆ tel_no    ┆ longitude ┆ latitude ┆ floor_are │\n",
       "│ ---      ┆ ---        ┆ e_cd      ┆ e         ┆   ┆ ---       ┆ ---       ┆ ---      ┆ a         │\n",
       "│ str      ┆ str        ┆ ---       ┆ ---       ┆   ┆ str       ┆ f64       ┆ f64      ┆ ---       │\n",
       "│          ┆            ┆ str       ┆ str       ┆   ┆           ┆           ┆          ┆ f64       │\n",
       "╞══════════╪════════════╪═══════════╪═══════════╪═══╪═══════════╪═══════════╪══════════╪═══════════╡\n",
       "│ S12014   ┆ 千草台店   ┆ 12        ┆ 千葉県    ┆ … ┆ 043-123-4 ┆ 140.118   ┆ 35.63559 ┆ 1698.0    │\n",
       "│          ┆            ┆           ┆           ┆   ┆ 003       ┆           ┆          ┆           │\n",
       "│ S13002   ┆ 国分寺店   ┆ 13        ┆ 東京都    ┆ … ┆ 042-123-4 ┆ 139.4802  ┆ 35.70566 ┆ 1735.0    │\n",
       "│          ┆            ┆           ┆           ┆   ┆ 008       ┆           ┆          ┆           │\n",
       "│ S14010   ┆ 菊名店     ┆ 14        ┆ 神奈川県  ┆ … ┆ 045-123-4 ┆ 139.6326  ┆ 35.50049 ┆ 1732.0    │\n",
       "│          ┆            ┆           ┆           ┆   ┆ 032       ┆           ┆          ┆           │\n",
       "│ S14033   ┆ 阿久和店   ┆ 14        ┆ 神奈川県  ┆ … ┆ 045-123-4 ┆ 139.4961  ┆ 35.45918 ┆ 1495.0    │\n",
       "│          ┆            ┆           ┆           ┆   ┆ 043       ┆           ┆          ┆           │\n",
       "│ …        ┆ …          ┆ …         ┆ …         ┆ … ┆ …         ┆ …         ┆ …        ┆ …         │\n",
       "│ S12029   ┆ 東野店     ┆ 12        ┆ 千葉県    ┆ … ┆ 047-123-4 ┆ 139.8968  ┆ 35.65086 ┆ 1101.0    │\n",
       "│          ┆            ┆           ┆           ┆   ┆ 004       ┆           ┆          ┆           │\n",
       "│ S12053   ┆ 高洲店     ┆ 12        ┆ 千葉県    ┆ … ┆ 047-123-4 ┆ 139.9176  ┆ 35.63755 ┆ 1555.0    │\n",
       "│          ┆            ┆           ┆           ┆   ┆ 006       ┆           ┆          ┆           │\n",
       "│ S14024   ┆ 三田店     ┆ 14        ┆ 神奈川県  ┆ … ┆ 044-123-4 ┆ 139.5424  ┆ 35.6077  ┆ 972.0     │\n",
       "│          ┆            ┆           ┆           ┆   ┆ 038       ┆           ┆          ┆           │\n",
       "│ S14006   ┆ 葛が谷店   ┆ 14        ┆ 神奈川県  ┆ … ┆ 045-123-4 ┆ 139.5633  ┆ 35.53573 ┆ 1886.0    │\n",
       "│          ┆            ┆           ┆           ┆   ┆ 031       ┆           ┆          ┆           │\n",
       "└──────────┴────────────┴───────────┴───────────┴───┴───────────┴───────────┴──────────┴───────────┘"
      ]
     },
     "execution_count": 49,
     "metadata": {},
     "output_type": "execute_result"
    }
   ],
   "source": [
    "df_store\n",
    "    .clone()\n",
    "    .filter(\n",
    "        col(\"tel_no\")\n",
    "            .str()\n",
    "            .contains(lit(r\"\\d{3}-\\d{3}-\\d{4}\"), true)\n",
    "    )\n",
    "    .collect()\n",
    "    .unwrap()"
   ]
  },
  {
   "cell_type": "markdown",
   "metadata": {},
   "source": [
    "---\n",
    "> P-017: 顧客データ（df_customer）を生年月日（birth_day）で高齢順にソートし、先頭から全項目を10件表示せよ。"
   ]
  },
  {
   "cell_type": "code",
   "execution_count": 50,
   "metadata": {
    "vscode": {
     "languageId": "rust"
    }
   },
   "outputs": [
    {
     "data": {
      "text/plain": [
       "shape: (10, 11)\n",
       "┌────────────┬────────────┬───────────┬────────┬───┬───────────┬───────────┬───────────┬───────────┐\n",
       "│ customer_i ┆ customer_n ┆ gender_cd ┆ gender ┆ … ┆ address   ┆ applicati ┆ applicati ┆ status_cd │\n",
       "│ d          ┆ ame        ┆ ---       ┆ ---    ┆   ┆ ---       ┆ on_store_ ┆ on_date   ┆ ---       │\n",
       "│ ---        ┆ ---        ┆ str       ┆ str    ┆   ┆ str       ┆ cd        ┆ ---       ┆ str       │\n",
       "│ str        ┆ str        ┆           ┆        ┆   ┆           ┆ ---       ┆ i64       ┆           │\n",
       "│            ┆            ┆           ┆        ┆   ┆           ┆ str       ┆           ┆           │\n",
       "╞════════════╪════════════╪═══════════╪════════╪═══╪═══════════╪═══════════╪═══════════╪═══════════╡\n",
       "│ CS00381300 ┆ 村山       ┆ 1         ┆ 女性   ┆ … ┆ 東京都調  ┆ S13003    ┆ 20160214  ┆ 0-0000000 │\n",
       "│ 0014       ┆ 菜々美     ┆           ┆        ┆   ┆ 布市菊野  ┆           ┆           ┆ 0-0       │\n",
       "│            ┆            ┆           ┆        ┆   ┆ 台******* ┆           ┆           ┆           │\n",
       "│            ┆            ┆           ┆        ┆   ┆ ***       ┆           ┆           ┆           │\n",
       "│ CS02681300 ┆ 吉村 朝陽  ┆ 1         ┆ 女性   ┆ … ┆ 神奈川県  ┆ S14026    ┆ 20150723  ┆ 0-0000000 │\n",
       "│ 0004       ┆            ┆           ┆        ┆   ┆ 藤沢市辻  ┆           ┆           ┆ 0-0       │\n",
       "│            ┆            ┆           ┆        ┆   ┆ 堂元町*** ┆           ┆           ┆           │\n",
       "│            ┆            ┆           ┆        ┆   ┆ *******   ┆           ┆           ┆           │\n",
       "│ CS01881100 ┆ 熊沢 美里  ┆ 1         ┆ 女性   ┆ … ┆ 東京都清  ┆ S13018    ┆ 20150403  ┆ 0-0000000 │\n",
       "│ 0003       ┆            ┆           ┆        ┆   ┆ 瀬市野塩* ┆           ┆           ┆ 0-0       │\n",
       "│            ┆            ┆           ┆        ┆   ┆ ********* ┆           ┆           ┆           │\n",
       "│ CS02780300 ┆ 内村 拓郎  ┆ 0         ┆ 男性   ┆ … ┆ 神奈川県  ┆ S14027    ┆ 20151227  ┆ 0-0000000 │\n",
       "│ 0004       ┆            ┆           ┆        ┆   ┆ 藤沢市鵠  ┆           ┆           ┆ 0-0       │\n",
       "│            ┆            ┆           ┆        ┆   ┆ 沼藤が谷* ┆           ┆           ┆           │\n",
       "│            ┆            ┆           ┆        ┆   ┆ ********* ┆           ┆           ┆           │\n",
       "│ …          ┆ …          ┆ …         ┆ …      ┆ … ┆ …         ┆ …         ┆ …         ┆ …         │\n",
       "│ CS01681500 ┆ 山元 美紀  ┆ 1         ┆ 女性   ┆ … ┆ 東京都小  ┆ S13016    ┆ 20150629  ┆ C-2009092 │\n",
       "│ 0002       ┆            ┆           ┆        ┆   ┆ 金井市桜  ┆           ┆           ┆ 3-C       │\n",
       "│            ┆            ┆           ┆        ┆   ┆ 町******* ┆           ┆           ┆           │\n",
       "│            ┆            ┆           ┆        ┆   ┆ ***       ┆           ┆           ┆           │\n",
       "│ CS00981500 ┆ 中田 里穂  ┆ 1         ┆ 女性   ┆ … ┆ 東京都世  ┆ S13009    ┆ 20150421  ┆ D-2009102 │\n",
       "│ 0003       ┆            ┆           ┆        ┆   ┆ 田谷区新  ┆           ┆           ┆ 1-E       │\n",
       "│            ┆            ┆           ┆        ┆   ┆ 町******* ┆           ┆           ┆           │\n",
       "│            ┆            ┆           ┆        ┆   ┆ ***       ┆           ┆           ┆           │\n",
       "│ CS01281300 ┆ 宇野 南朋  ┆ 1         ┆ 女性   ┆ … ┆ 神奈川県  ┆ S14012    ┆ 20150712  ┆ 0-0000000 │\n",
       "│ 0013       ┆            ┆           ┆        ┆   ┆ 横浜市中  ┆           ┆           ┆ 0-0       │\n",
       "│            ┆            ┆           ┆        ┆   ┆ 区本牧町* ┆           ┆           ┆           │\n",
       "│            ┆            ┆           ┆        ┆   ┆ ********* ┆           ┆           ┆           │\n",
       "│ CS00581300 ┆ 金谷       ┆ 1         ┆ 女性   ┆ … ┆ 東京都中  ┆ S13005    ┆ 20150506  ┆ 0-0000000 │\n",
       "│ 0015       ┆ 恵梨香     ┆           ┆        ┆   ┆ 野区鷺宮* ┆           ┆           ┆ 0-0       │\n",
       "│            ┆            ┆           ┆        ┆   ┆ ********* ┆           ┆           ┆           │\n",
       "└────────────┴────────────┴───────────┴────────┴───┴───────────┴───────────┴───────────┴───────────┘"
      ]
     },
     "execution_count": 50,
     "metadata": {},
     "output_type": "execute_result"
    }
   ],
   "source": [
    "df_customer\n",
    "    .clone()\n",
    "    .sort(\n",
    "        \"birth_day\",\n",
    "        SortOptions {\n",
    "            descending: false,\n",
    "            nulls_last: true,\n",
    "            multithreaded: true,\n",
    "            maintain_order: true,\n",
    "        }\n",
    "    )\n",
    "    .collect()\n",
    "    .unwrap()\n",
    "    .head(Some(10))"
   ]
  },
  {
   "cell_type": "markdown",
   "metadata": {},
   "source": [
    "---\n",
    "> P-018: 顧客データ（df_customer）を生年月日（birth_day）で若い順にソートし、先頭から全項目を10件表示せよ。"
   ]
  },
  {
   "cell_type": "code",
   "execution_count": 51,
   "metadata": {
    "vscode": {
     "languageId": "rust"
    }
   },
   "outputs": [
    {
     "data": {
      "text/plain": [
       "shape: (10, 10)\n",
       "┌──────────┬────────────┬───────────┬───────────┬───┬───────────┬───────────┬──────────┬───────────┐\n",
       "│ store_cd ┆ store_name ┆ prefectur ┆ prefectur ┆ … ┆ tel_no    ┆ longitude ┆ latitude ┆ floor_are │\n",
       "│ ---      ┆ ---        ┆ e_cd      ┆ e         ┆   ┆ ---       ┆ ---       ┆ ---      ┆ a         │\n",
       "│ str      ┆ str        ┆ ---       ┆ ---       ┆   ┆ str       ┆ f64       ┆ f64      ┆ ---       │\n",
       "│          ┆            ┆ str       ┆ str       ┆   ┆           ┆           ┆          ┆ f64       │\n",
       "╞══════════╪════════════╪═══════════╪═══════════╪═══╪═══════════╪═══════════╪══════════╪═══════════╡\n",
       "│ S14010   ┆ 菊名店     ┆ 14        ┆ 神奈川県  ┆ … ┆ 045-123-4 ┆ 139.6326  ┆ 35.50049 ┆ 1732.0    │\n",
       "│          ┆            ┆           ┆           ┆   ┆ 032       ┆           ┆          ┆           │\n",
       "│ S14033   ┆ 阿久和店   ┆ 14        ┆ 神奈川県  ┆ … ┆ 045-123-4 ┆ 139.4961  ┆ 35.45918 ┆ 1495.0    │\n",
       "│          ┆            ┆           ┆           ┆   ┆ 043       ┆           ┆          ┆           │\n",
       "│ S14036   ┆ 相模原中央 ┆ 14        ┆ 神奈川県  ┆ … ┆ 042-123-4 ┆ 139.3716  ┆ 35.57327 ┆ 1679.0    │\n",
       "│          ┆ 店         ┆           ┆           ┆   ┆ 045       ┆           ┆          ┆           │\n",
       "│ S14040   ┆ 長津田店   ┆ 14        ┆ 神奈川県  ┆ … ┆ 045-123-4 ┆ 139.4994  ┆ 35.52398 ┆ 1548.0    │\n",
       "│          ┆            ┆           ┆           ┆   ┆ 046       ┆           ┆          ┆           │\n",
       "│ …        ┆ …          ┆ …         ┆ …         ┆ … ┆ …         ┆ …         ┆ …        ┆ …         │\n",
       "│ S14012   ┆ 本牧和田店 ┆ 14        ┆ 神奈川県  ┆ … ┆ 045-123-4 ┆ 139.6582  ┆ 35.42156 ┆ 1341.0    │\n",
       "│          ┆            ┆           ┆           ┆   ┆ 034       ┆           ┆          ┆           │\n",
       "│ S14046   ┆ 北山田店   ┆ 14        ┆ 神奈川県  ┆ … ┆ 045-123-4 ┆ 139.5916  ┆ 35.56189 ┆ 831.0     │\n",
       "│          ┆            ┆           ┆           ┆   ┆ 049       ┆           ┆          ┆           │\n",
       "│ S14022   ┆ 逗子店     ┆ 14        ┆ 神奈川県  ┆ … ┆ 046-123-4 ┆ 139.5789  ┆ 35.29642 ┆ 1838.0    │\n",
       "│          ┆            ┆           ┆           ┆   ┆ 036       ┆           ┆          ┆           │\n",
       "│ S14011   ┆ 日吉本町店 ┆ 14        ┆ 神奈川県  ┆ … ┆ 045-123-4 ┆ 139.6316  ┆ 35.54655 ┆ 890.0     │\n",
       "│          ┆            ┆           ┆           ┆   ┆ 033       ┆           ┆          ┆           │\n",
       "└──────────┴────────────┴───────────┴───────────┴───┴───────────┴───────────┴──────────┴───────────┘"
      ]
     },
     "execution_count": 51,
     "metadata": {},
     "output_type": "execute_result"
    }
   ],
   "source": [
    "df_store\n",
    "    .clone()\n",
    "    .filter(col(\"store_cd\").str().starts_with(lit(\"S14\")))\n",
    "    .collect()\n",
    "    .unwrap()\n",
    "    .head(Some(10))"
   ]
  },
  {
   "cell_type": "markdown",
   "metadata": {},
   "source": [
    "---\n",
    "> P-019: レシート明細データ（df_receipt）に対し、1件あたりの売上金額（amount）が高い順にランクを付与し、先頭から10件表示せよ。項目は顧客ID（customer_id）、売上金額（amount）、付与したランクを表示させること。なお、売上金額（amount）が等しい場合は同一順位を付与するものとする。"
   ]
  },
  {
   "cell_type": "code",
   "execution_count": 52,
   "metadata": {
    "vscode": {
     "languageId": "rust"
    }
   },
   "outputs": [
    {
     "data": {
      "text/plain": [
       "shape: (10, 10)\n",
       "┌──────────┬────────────┬───────────┬───────────┬───┬───────────┬───────────┬──────────┬───────────┐\n",
       "│ store_cd ┆ store_name ┆ prefectur ┆ prefectur ┆ … ┆ tel_no    ┆ longitude ┆ latitude ┆ floor_are │\n",
       "│ ---      ┆ ---        ┆ e_cd      ┆ e         ┆   ┆ ---       ┆ ---       ┆ ---      ┆ a         │\n",
       "│ str      ┆ str        ┆ ---       ┆ ---       ┆   ┆ str       ┆ f64       ┆ f64      ┆ ---       │\n",
       "│          ┆            ┆ str       ┆ str       ┆   ┆           ┆           ┆          ┆ f64       │\n",
       "╞══════════╪════════════╪═══════════╪═══════════╪═══╪═══════════╪═══════════╪══════════╪═══════════╡\n",
       "│ S14010   ┆ 菊名店     ┆ 14        ┆ 神奈川県  ┆ … ┆ 045-123-4 ┆ 139.6326  ┆ 35.50049 ┆ 1732.0    │\n",
       "│          ┆            ┆           ┆           ┆   ┆ 032       ┆           ┆          ┆           │\n",
       "│ S14033   ┆ 阿久和店   ┆ 14        ┆ 神奈川県  ┆ … ┆ 045-123-4 ┆ 139.4961  ┆ 35.45918 ┆ 1495.0    │\n",
       "│          ┆            ┆           ┆           ┆   ┆ 043       ┆           ┆          ┆           │\n",
       "│ S14036   ┆ 相模原中央 ┆ 14        ┆ 神奈川県  ┆ … ┆ 042-123-4 ┆ 139.3716  ┆ 35.57327 ┆ 1679.0    │\n",
       "│          ┆ 店         ┆           ┆           ┆   ┆ 045       ┆           ┆          ┆           │\n",
       "│ S14040   ┆ 長津田店   ┆ 14        ┆ 神奈川県  ┆ … ┆ 045-123-4 ┆ 139.4994  ┆ 35.52398 ┆ 1548.0    │\n",
       "│          ┆            ┆           ┆           ┆   ┆ 046       ┆           ┆          ┆           │\n",
       "│ …        ┆ …          ┆ …         ┆ …         ┆ … ┆ …         ┆ …         ┆ …        ┆ …         │\n",
       "│ S14012   ┆ 本牧和田店 ┆ 14        ┆ 神奈川県  ┆ … ┆ 045-123-4 ┆ 139.6582  ┆ 35.42156 ┆ 1341.0    │\n",
       "│          ┆            ┆           ┆           ┆   ┆ 034       ┆           ┆          ┆           │\n",
       "│ S14046   ┆ 北山田店   ┆ 14        ┆ 神奈川県  ┆ … ┆ 045-123-4 ┆ 139.5916  ┆ 35.56189 ┆ 831.0     │\n",
       "│          ┆            ┆           ┆           ┆   ┆ 049       ┆           ┆          ┆           │\n",
       "│ S14022   ┆ 逗子店     ┆ 14        ┆ 神奈川県  ┆ … ┆ 046-123-4 ┆ 139.5789  ┆ 35.29642 ┆ 1838.0    │\n",
       "│          ┆            ┆           ┆           ┆   ┆ 036       ┆           ┆          ┆           │\n",
       "│ S14011   ┆ 日吉本町店 ┆ 14        ┆ 神奈川県  ┆ … ┆ 045-123-4 ┆ 139.6316  ┆ 35.54655 ┆ 890.0     │\n",
       "│          ┆            ┆           ┆           ┆   ┆ 033       ┆           ┆          ┆           │\n",
       "└──────────┴────────────┴───────────┴───────────┴───┴───────────┴───────────┴──────────┴───────────┘"
      ]
     },
     "execution_count": 52,
     "metadata": {},
     "output_type": "execute_result"
    }
   ],
   "source": [
    "df_store\n",
    "    .clone()\n",
    "    .filter(col(\"store_cd\").str().starts_with(lit(\"S14\")))\n",
    "    .collect()\n",
    "    .unwrap()\n",
    "    .head(Some(10))"
   ]
  },
  {
   "cell_type": "markdown",
   "metadata": {},
   "source": [
    "---\n",
    "> P-020: レシート明細データ（df_receipt）に対し、1件あたりの売上金額（amount）が高い順にランクを付与し、先頭から10件表示せよ。項目は顧客ID（customer_id）、売上金額（amount）、付与したランクを表示させること。なお、売上金額（amount）が等しい場合でも別順位を付与すること。"
   ]
  },
  {
   "cell_type": "code",
   "execution_count": 53,
   "metadata": {
    "vscode": {
     "languageId": "rust"
    }
   },
   "outputs": [
    {
     "data": {
      "text/plain": [
       "shape: (10, 10)\n",
       "┌──────────┬────────────┬───────────┬───────────┬───┬───────────┬───────────┬──────────┬───────────┐\n",
       "│ store_cd ┆ store_name ┆ prefectur ┆ prefectur ┆ … ┆ tel_no    ┆ longitude ┆ latitude ┆ floor_are │\n",
       "│ ---      ┆ ---        ┆ e_cd      ┆ e         ┆   ┆ ---       ┆ ---       ┆ ---      ┆ a         │\n",
       "│ str      ┆ str        ┆ ---       ┆ ---       ┆   ┆ str       ┆ f64       ┆ f64      ┆ ---       │\n",
       "│          ┆            ┆ str       ┆ str       ┆   ┆           ┆           ┆          ┆ f64       │\n",
       "╞══════════╪════════════╪═══════════╪═══════════╪═══╪═══════════╪═══════════╪══════════╪═══════════╡\n",
       "│ S14010   ┆ 菊名店     ┆ 14        ┆ 神奈川県  ┆ … ┆ 045-123-4 ┆ 139.6326  ┆ 35.50049 ┆ 1732.0    │\n",
       "│          ┆            ┆           ┆           ┆   ┆ 032       ┆           ┆          ┆           │\n",
       "│ S14033   ┆ 阿久和店   ┆ 14        ┆ 神奈川県  ┆ … ┆ 045-123-4 ┆ 139.4961  ┆ 35.45918 ┆ 1495.0    │\n",
       "│          ┆            ┆           ┆           ┆   ┆ 043       ┆           ┆          ┆           │\n",
       "│ S14036   ┆ 相模原中央 ┆ 14        ┆ 神奈川県  ┆ … ┆ 042-123-4 ┆ 139.3716  ┆ 35.57327 ┆ 1679.0    │\n",
       "│          ┆ 店         ┆           ┆           ┆   ┆ 045       ┆           ┆          ┆           │\n",
       "│ S14040   ┆ 長津田店   ┆ 14        ┆ 神奈川県  ┆ … ┆ 045-123-4 ┆ 139.4994  ┆ 35.52398 ┆ 1548.0    │\n",
       "│          ┆            ┆           ┆           ┆   ┆ 046       ┆           ┆          ┆           │\n",
       "│ …        ┆ …          ┆ …         ┆ …         ┆ … ┆ …         ┆ …         ┆ …        ┆ …         │\n",
       "│ S14012   ┆ 本牧和田店 ┆ 14        ┆ 神奈川県  ┆ … ┆ 045-123-4 ┆ 139.6582  ┆ 35.42156 ┆ 1341.0    │\n",
       "│          ┆            ┆           ┆           ┆   ┆ 034       ┆           ┆          ┆           │\n",
       "│ S14046   ┆ 北山田店   ┆ 14        ┆ 神奈川県  ┆ … ┆ 045-123-4 ┆ 139.5916  ┆ 35.56189 ┆ 831.0     │\n",
       "│          ┆            ┆           ┆           ┆   ┆ 049       ┆           ┆          ┆           │\n",
       "│ S14022   ┆ 逗子店     ┆ 14        ┆ 神奈川県  ┆ … ┆ 046-123-4 ┆ 139.5789  ┆ 35.29642 ┆ 1838.0    │\n",
       "│          ┆            ┆           ┆           ┆   ┆ 036       ┆           ┆          ┆           │\n",
       "│ S14011   ┆ 日吉本町店 ┆ 14        ┆ 神奈川県  ┆ … ┆ 045-123-4 ┆ 139.6316  ┆ 35.54655 ┆ 890.0     │\n",
       "│          ┆            ┆           ┆           ┆   ┆ 033       ┆           ┆          ┆           │\n",
       "└──────────┴────────────┴───────────┴───────────┴───┴───────────┴───────────┴──────────┴───────────┘"
      ]
     },
     "execution_count": 53,
     "metadata": {},
     "output_type": "execute_result"
    }
   ],
   "source": [
    "df_store\n",
    "    .clone()\n",
    "    .filter(col(\"store_cd\").str().starts_with(lit(\"S14\")))\n",
    "    .collect()\n",
    "    .unwrap()\n",
    "    .head(Some(10))"
   ]
  },
  {
   "cell_type": "markdown",
   "metadata": {},
   "source": [
    "---\n",
    "> P-021: レシート明細データ（df_receipt）に対し、件数をカウントせよ。"
   ]
  },
  {
   "cell_type": "code",
   "execution_count": 54,
   "metadata": {
    "vscode": {
     "languageId": "rust"
    }
   },
   "outputs": [
    {
     "data": {
      "text/plain": [
       "104681"
      ]
     },
     "execution_count": 54,
     "metadata": {},
     "output_type": "execute_result"
    }
   ],
   "source": [
    "df_receipt\n",
    "    .clone()\n",
    "    .collect()\n",
    "    .unwrap()\n",
    "    .height()"
   ]
  },
  {
   "cell_type": "markdown",
   "metadata": {},
   "source": [
    "---\n",
    "> P-022: レシート明細データ（df_receipt）の顧客ID（customer_id）に対し、ユニーク件数をカウントせよ。"
   ]
  },
  {
   "cell_type": "code",
   "execution_count": 55,
   "metadata": {
    "vscode": {
     "languageId": "rust"
    }
   },
   "outputs": [
    {
     "data": {
      "text/plain": [
       "shape: (1, 1)\n",
       "┌─────────────┐\n",
       "│ customer_id │\n",
       "│ ---         │\n",
       "│ u32         │\n",
       "╞═════════════╡\n",
       "│ 8307        │\n",
       "└─────────────┘"
      ]
     },
     "execution_count": 55,
     "metadata": {},
     "output_type": "execute_result"
    }
   ],
   "source": [
    "df_receipt\n",
    "    .clone()\n",
    "    .select([col(\"customer_id\").n_unique()])\n",
    "    .collect()\n",
    "    .unwrap()\n",
    "    "
   ]
  },
  {
   "cell_type": "markdown",
   "metadata": {},
   "source": [
    "---\n",
    "> P-023: レシート明細データ（df_receipt）に対し、店舗コード（store_cd）ごとに売上金額（amount）と売上数量（quantity）を合計せよ。"
   ]
  },
  {
   "cell_type": "code",
   "execution_count": 56,
   "metadata": {
    "vscode": {
     "languageId": "rust"
    }
   },
   "outputs": [
    {
     "data": {
      "text/plain": [
       "shape: (52, 3)\n",
       "┌──────────┬────────┬──────────┐\n",
       "│ store_cd ┆ amount ┆ quantity │\n",
       "│ ---      ┆ ---    ┆ ---      │\n",
       "│ str      ┆ i64    ┆ i64      │\n",
       "╞══════════╪════════╪══════════╡\n",
       "│ S12007   ┆ 638761 ┆ 2099     │\n",
       "│ S12013   ┆ 787513 ┆ 2425     │\n",
       "│ S12014   ┆ 725167 ┆ 2358     │\n",
       "│ S12029   ┆ 794741 ┆ 2555     │\n",
       "│ …        ┆ …      ┆ …        │\n",
       "│ S14047   ┆ 338329 ┆ 1041     │\n",
       "│ S14048   ┆ 234276 ┆ 769      │\n",
       "│ S14049   ┆ 230808 ┆ 788      │\n",
       "│ S14050   ┆ 167090 ┆ 580      │\n",
       "└──────────┴────────┴──────────┘"
      ]
     },
     "execution_count": 56,
     "metadata": {},
     "output_type": "execute_result"
    }
   ],
   "source": [
    "df_receipt\n",
    "    .clone()\n",
    "    .groupby([\"store_cd\"])\n",
    "    .agg([col(\"amount\").sum(), col(\"quantity\").sum()])\n",
    "    .sort(\"store_cd\", SortOptions{descending: (false), nulls_last: (true), multithreaded: (true), maintain_order: (true)})\n",
    "    .collect()\n",
    "    .unwrap()"
   ]
  },
  {
   "cell_type": "markdown",
   "metadata": {},
   "source": [
    "---\n",
    "> P-024: レシート明細データ（df_receipt）に対し、顧客ID（customer_id）ごとに最も新しい売上年月日（sales_ymd）を求め、10件表示せよ。"
   ]
  },
  {
   "cell_type": "code",
   "execution_count": 57,
   "metadata": {
    "vscode": {
     "languageId": "rust"
    }
   },
   "outputs": [
    {
     "data": {
      "text/plain": [
       "shape: (10, 2)\n",
       "┌────────────────┬───────────┐\n",
       "│ customer_id    ┆ sales_ymd │\n",
       "│ ---            ┆ ---       │\n",
       "│ str            ┆ i64       │\n",
       "╞════════════════╪═══════════╡\n",
       "│ CS001113000004 ┆ 20190308  │\n",
       "│ CS001114000005 ┆ 20190731  │\n",
       "│ CS001115000010 ┆ 20190405  │\n",
       "│ CS001205000004 ┆ 20190625  │\n",
       "│ …              ┆ …         │\n",
       "│ CS001212000027 ┆ 20170127  │\n",
       "│ CS001212000031 ┆ 20180906  │\n",
       "│ CS001212000046 ┆ 20170811  │\n",
       "│ CS001212000070 ┆ 20191018  │\n",
       "└────────────────┴───────────┘"
      ]
     },
     "execution_count": 57,
     "metadata": {},
     "output_type": "execute_result"
    }
   ],
   "source": [
    "df_receipt\n",
    "    .clone()\n",
    "    .groupby([\"customer_id\"])\n",
    "    .agg([col(\"sales_ymd\").max()])\n",
    "    .sort(\"customer_id\", SortOptions{descending: (false), nulls_last: (true), multithreaded: (true),maintain_order: true,})\n",
    "    .collect()\n",
    "    .unwrap()\n",
    "    .head(Some(10))\n"
   ]
  },
  {
   "cell_type": "markdown",
   "metadata": {},
   "source": [
    "---\n",
    "> P-025: レシート明細データ（df_receipt）に対し、顧客ID（customer_id）ごとに最も古い売上年月日（sales_ymd）を求め、10件表示せよ。"
   ]
  },
  {
   "cell_type": "code",
   "execution_count": 58,
   "metadata": {
    "vscode": {
     "languageId": "rust"
    }
   },
   "outputs": [
    {
     "data": {
      "text/plain": [
       "shape: (10, 2)\n",
       "┌────────────────┬───────────┐\n",
       "│ customer_id    ┆ sales_ymd │\n",
       "│ ---            ┆ ---       │\n",
       "│ str            ┆ i64       │\n",
       "╞════════════════╪═══════════╡\n",
       "│ CS001113000004 ┆ 20190308  │\n",
       "│ CS001114000005 ┆ 20180503  │\n",
       "│ CS001115000010 ┆ 20171228  │\n",
       "│ CS001205000004 ┆ 20170914  │\n",
       "│ …              ┆ …         │\n",
       "│ CS001212000027 ┆ 20170127  │\n",
       "│ CS001212000031 ┆ 20180906  │\n",
       "│ CS001212000046 ┆ 20170811  │\n",
       "│ CS001212000070 ┆ 20191018  │\n",
       "└────────────────┴───────────┘"
      ]
     },
     "execution_count": 58,
     "metadata": {},
     "output_type": "execute_result"
    }
   ],
   "source": [
    "df_receipt\n",
    "    .clone()\n",
    "    .groupby([\"customer_id\"])\n",
    "    .agg([col(\"sales_ymd\").min()])\n",
    "    .sort(\"customer_id\", SortOptions{descending: (false), nulls_last: (true), multithreaded: (true), maintain_order: true,})\n",
    "    .collect()\n",
    "    .unwrap()\n",
    "    .head(Some(10))\n"
   ]
  },
  {
   "cell_type": "markdown",
   "metadata": {},
   "source": [
    "---\n",
    "> P-026: レシート明細データ（df_receipt）に対し、顧客ID（customer_id）ごとに最も新しい売上年月日（sales_ymd）と古い売上年月日を求め、両者が異なるデータを10件表示せよ。"
   ]
  },
  {
   "cell_type": "code",
   "execution_count": 59,
   "metadata": {
    "vscode": {
     "languageId": "rust"
    }
   },
   "outputs": [
    {
     "data": {
      "text/plain": [
       "shape: (10, 3)\n",
       "┌────────────────┬───────────────┬───────────────┐\n",
       "│ customer_id    ┆ sales_ymd_max ┆ sales_ymd_min │\n",
       "│ ---            ┆ ---           ┆ ---           │\n",
       "│ str            ┆ i64           ┆ i64           │\n",
       "╞════════════════╪═══════════════╪═══════════════╡\n",
       "│ CS001114000005 ┆ 20190731      ┆ 20180503      │\n",
       "│ CS001115000010 ┆ 20190405      ┆ 20171228      │\n",
       "│ CS001205000004 ┆ 20190625      ┆ 20170914      │\n",
       "│ CS001205000006 ┆ 20190224      ┆ 20180207      │\n",
       "│ …              ┆ …             ┆ …             │\n",
       "│ CS001214000048 ┆ 20190929      ┆ 20171109      │\n",
       "│ CS001214000052 ┆ 20190617      ┆ 20180208      │\n",
       "│ CS001215000005 ┆ 20181021      ┆ 20170206      │\n",
       "│ CS001215000040 ┆ 20171022      ┆ 20170214      │\n",
       "└────────────────┴───────────────┴───────────────┘"
      ]
     },
     "execution_count": 59,
     "metadata": {},
     "output_type": "execute_result"
    }
   ],
   "source": [
    "df_receipt\n",
    "    .clone()\n",
    "    .groupby([\"customer_id\"])\n",
    "    .agg([col(\"sales_ymd\").max().alias(\"sales_ymd_max\"), col(\"sales_ymd\").min().alias(\"sales_ymd_min\")])\n",
    "    .filter(col(\"sales_ymd_max\").neq(\"sales_ymd_min\"))\n",
    "    .sort(\"customer_id\", SortOptions{descending: (false), nulls_last: (true), multithreaded: (true), maintain_order: true,})\n",
    "    .collect()\n",
    "    .unwrap()\n",
    "    .head(Some(10))\n"
   ]
  },
  {
   "cell_type": "markdown",
   "metadata": {},
   "source": [
    "---\n",
    "> P-027: レシート明細データ（df_receipt）に対し、店舗コード（store_cd）ごとに売上金額（amount）の平均を計算し、降順でTOP5を表示せよ。"
   ]
  },
  {
   "cell_type": "code",
   "execution_count": 60,
   "metadata": {
    "vscode": {
     "languageId": "rust"
    }
   },
   "outputs": [
    {
     "data": {
      "text/plain": [
       "shape: (5, 2)\n",
       "┌──────────┬────────────┐\n",
       "│ store_cd ┆ amount     │\n",
       "│ ---      ┆ ---        │\n",
       "│ str      ┆ f64        │\n",
       "╞══════════╪════════════╡\n",
       "│ S13052   ┆ 402.86747  │\n",
       "│ S13015   ┆ 351.11196  │\n",
       "│ S13003   ┆ 350.915519 │\n",
       "│ S14010   ┆ 348.791262 │\n",
       "│ S13001   ┆ 348.470386 │\n",
       "└──────────┴────────────┘"
      ]
     },
     "execution_count": 60,
     "metadata": {},
     "output_type": "execute_result"
    }
   ],
   "source": [
    "df_receipt\n",
    "    .clone()\n",
    "    .groupby([\"store_cd\"])\n",
    "    .agg([col(\"amount\").mean()])\n",
    "    .sort(\"amount\",\n",
    "        SortOptions{\n",
    "            descending: (true),\n",
    "            nulls_last: (true),\n",
    "            multithreaded: (true),\n",
    "            maintain_order: true,\n",
    "        }\n",
    "    )\n",
    "    .collect()\n",
    "    .unwrap()\n",
    "    .head(Some(5))"
   ]
  },
  {
   "cell_type": "markdown",
   "metadata": {},
   "source": [
    "---\n",
    "> P-028: レシート明細データ（df_receipt）に対し、店舗コード（store_cd）ごとに売上金額（amount）の中央値を計算し、降順でTOP5を表示せよ。"
   ]
  },
  {
   "cell_type": "code",
   "execution_count": 61,
   "metadata": {
    "vscode": {
     "languageId": "rust"
    }
   },
   "outputs": [
    {
     "data": {
      "text/plain": [
       "shape: (5, 2)\n",
       "┌──────────┬────────┐\n",
       "│ store_cd ┆ amount │\n",
       "│ ---      ┆ ---    │\n",
       "│ str      ┆ f64    │\n",
       "╞══════════╪════════╡\n",
       "│ S13052   ┆ 190.0  │\n",
       "│ S14010   ┆ 188.0  │\n",
       "│ S14050   ┆ 185.0  │\n",
       "│ S13003   ┆ 180.0  │\n",
       "│ S13018   ┆ 180.0  │\n",
       "└──────────┴────────┘"
      ]
     },
     "execution_count": 61,
     "metadata": {},
     "output_type": "execute_result"
    }
   ],
   "source": [
    "df_receipt\n",
    "    .clone()\n",
    "    .groupby([\"store_cd\"])\n",
    "    .agg([col(\"amount\").median()])\n",
    "    .sort(\"amount\", SortOptions{descending: (true), nulls_last: (true), multithreaded: (true),maintain_order: true,})\n",
    "    .collect()\n",
    "    .unwrap()\n",
    "    .head(Some(5))"
   ]
  },
  {
   "cell_type": "markdown",
   "metadata": {},
   "source": [
    "---\n",
    "> P-029: レシート明細データ（df_receipt）に対し、店舗コード（store_cd）ごとに商品コード（product_cd）の最頻値を求め、10件表示させよ。"
   ]
  },
  {
   "cell_type": "code",
   "execution_count": 62,
   "metadata": {
    "vscode": {
     "languageId": "rust"
    }
   },
   "outputs": [
    {
     "data": {
      "text/plain": [
       "shape: (10, 2)\n",
       "┌──────────┬────────────┐\n",
       "│ store_cd ┆ product_cd │\n",
       "│ ---      ┆ ---        │\n",
       "│ str      ┆ str        │\n",
       "╞══════════╪════════════╡\n",
       "│ S12007   ┆ P060303001 │\n",
       "│ S12013   ┆ P060303001 │\n",
       "│ S12014   ┆ P060303001 │\n",
       "│ S12029   ┆ P060303001 │\n",
       "│ …        ┆ …          │\n",
       "│ S13002   ┆ P060303001 │\n",
       "│ S13003   ┆ P071401001 │\n",
       "│ S13004   ┆ P060303001 │\n",
       "│ S13005   ┆ P040503001 │\n",
       "└──────────┴────────────┘"
      ]
     },
     "execution_count": 62,
     "metadata": {},
     "output_type": "execute_result"
    }
   ],
   "source": [
    "df_receipt\n",
    "    .clone()\n",
    "    .groupby([\"store_cd\"])\n",
    "    .agg([col(\"product_cd\").mode().first()])\n",
    "    .sort(\"store_cd\", SortOptions{descending: (false), nulls_last: (true), multithreaded: (true), maintain_order: true,})\n",
    "    .collect()\n",
    "    .unwrap()\n",
    "    .head(Some(10))"
   ]
  },
  {
   "cell_type": "markdown",
   "metadata": {},
   "source": [
    "---\n",
    "> P-030: レシート明細データ（df_receipt）に対し、店舗コード（store_cd）ごとに売上金額（amount）の分散を計算し、降順で5件表示せよ。"
   ]
  },
  {
   "cell_type": "code",
   "execution_count": 63,
   "metadata": {
    "vscode": {
     "languageId": "rust"
    }
   },
   "outputs": [
    {
     "data": {
      "text/plain": [
       "shape: (5, 2)\n",
       "┌──────────┬───────────────┐\n",
       "│ store_cd ┆ amount        │\n",
       "│ ---      ┆ ---           │\n",
       "│ str      ┆ f64           │\n",
       "╞══════════╪═══════════════╡\n",
       "│ S13052   ┆ 440088.701311 │\n",
       "│ S14011   ┆ 306314.558164 │\n",
       "│ S14034   ┆ 296920.081011 │\n",
       "│ S13001   ┆ 295431.993329 │\n",
       "│ S13015   ┆ 295294.361116 │\n",
       "└──────────┴───────────────┘"
      ]
     },
     "execution_count": 63,
     "metadata": {},
     "output_type": "execute_result"
    }
   ],
   "source": [
    "df_receipt\n",
    "    .clone()\n",
    "    .groupby([\"store_cd\"])\n",
    "    .agg([col(\"amount\").var(0)])\n",
    "    .sort(\"amount\", SortOptions{descending: (true), nulls_last: (true), multithreaded: (true), maintain_order: true})\n",
    "    .collect()\n",
    "    .unwrap()\n",
    "    .head(Some(5))"
   ]
  },
  {
   "cell_type": "markdown",
   "metadata": {},
   "source": [
    "---\n",
    "> P-031: レシート明細データ（df_receipt）に対し、店舗コード（store_cd）ごとに売上金額（amount）の標準偏差を計算し、降順で5件表示せよ。"
   ]
  },
  {
   "cell_type": "markdown",
   "metadata": {},
   "source": [
    "TIPS:\n",
    "\n",
    "PandasとNumpyでddofのデフォルト値が異なることに注意しましょう\n",
    "```\n",
    "Pandas：\n",
    "DataFrame.std(self, axis=None, skipna=None, level=None, ddof=1, numeric_only=None, **kwargs)\n",
    "Numpy:\n",
    "numpy.std(a, axis=None, dtype=None, out=None, ddof=0, keepdims=)\n",
    "```"
   ]
  },
  {
   "cell_type": "code",
   "execution_count": 64,
   "metadata": {
    "vscode": {
     "languageId": "rust"
    }
   },
   "outputs": [
    {
     "data": {
      "text/plain": [
       "shape: (5, 2)\n",
       "┌──────────┬────────────┐\n",
       "│ store_cd ┆ amount     │\n",
       "│ ---      ┆ ---        │\n",
       "│ str      ┆ f64        │\n",
       "╞══════════╪════════════╡\n",
       "│ S13052   ┆ 663.391816 │\n",
       "│ S14011   ┆ 553.456916 │\n",
       "│ S14034   ┆ 544.903736 │\n",
       "│ S13001   ┆ 543.536561 │\n",
       "│ S13015   ┆ 543.409938 │\n",
       "└──────────┴────────────┘"
      ]
     },
     "execution_count": 64,
     "metadata": {},
     "output_type": "execute_result"
    }
   ],
   "source": [
    "df_receipt\n",
    "    .clone()\n",
    "    .groupby([\"store_cd\"])\n",
    "    .agg([col(\"amount\").std(0)])\n",
    "    .sort(\"amount\", SortOptions{descending: (true), nulls_last: (true), multithreaded: (true), maintain_order: true,})\n",
    "    .collect()\n",
    "    .unwrap()\n",
    "    .head(Some(5))\n"
   ]
  },
  {
   "cell_type": "markdown",
   "metadata": {},
   "source": [
    "---\n",
    "> P-032: レシート明細データ（df_receipt）の売上金額（amount）について、25％刻みでパーセンタイル値を求めよ。"
   ]
  },
  {
   "cell_type": "code",
   "execution_count": 65,
   "metadata": {
    "vscode": {
     "languageId": "rust"
    }
   },
   "outputs": [
    {
     "data": {
      "text/plain": [
       "shape: (1, 5)\n",
       "┌────────┬─────────┬─────────┬─────────┬──────────┐\n",
       "│ 0%tile ┆ 25%tile ┆ 50%tile ┆ 75%tile ┆ 100%tile │\n",
       "│ ---    ┆ ---     ┆ ---     ┆ ---     ┆ ---      │\n",
       "│ f64    ┆ f64     ┆ f64     ┆ f64     ┆ f64      │\n",
       "╞════════╪═════════╪═════════╪═════════╪══════════╡\n",
       "│ 10.0   ┆ 102.0   ┆ 170.0   ┆ 288.0   ┆ 10925.0  │\n",
       "└────────┴─────────┴─────────┴─────────┴──────────┘"
      ]
     },
     "execution_count": 65,
     "metadata": {},
     "output_type": "execute_result"
    }
   ],
   "source": [
    "df_receipt\n",
    "    .clone()\n",
    "    .select([\n",
    "        col(\"amount\").quantile(lit(0.0), QuantileInterpolOptions::Nearest).alias(\"0%tile\"),\n",
    "        col(\"amount\").quantile(lit(0.25), QuantileInterpolOptions::Nearest).alias(\"25%tile\"),\n",
    "        col(\"amount\").quantile(lit(0.50), QuantileInterpolOptions::Nearest).alias(\"50%tile\"),\n",
    "        col(\"amount\").quantile(lit(0.75), QuantileInterpolOptions::Nearest).alias(\"75%tile\"),\n",
    "        col(\"amount\").quantile(lit(1.00), QuantileInterpolOptions::Nearest).alias(\"100%tile\"),\n",
    "    ])\n",
    "    .collect()\n",
    "    .unwrap()"
   ]
  },
  {
   "cell_type": "markdown",
   "metadata": {},
   "source": [
    "---\n",
    "> P-033: レシート明細データ（df_receipt）に対し、店舗コード（store_cd）ごとに売上金額（amount）の平均を計算し、330以上のものを抽出せよ。"
   ]
  },
  {
   "cell_type": "code",
   "execution_count": 66,
   "metadata": {
    "vscode": {
     "languageId": "rust"
    }
   },
   "outputs": [
    {
     "data": {
      "text/plain": [
       "shape: (13, 2)\n",
       "┌──────────┬────────────┐\n",
       "│ store_cd ┆ amount     │\n",
       "│ ---      ┆ ---        │\n",
       "│ str      ┆ f64        │\n",
       "╞══════════╪════════════╡\n",
       "│ S12013   ┆ 330.19413  │\n",
       "│ S13001   ┆ 348.470386 │\n",
       "│ S13003   ┆ 350.915519 │\n",
       "│ S13004   ┆ 330.943949 │\n",
       "│ …        ┆ …          │\n",
       "│ S14011   ┆ 335.718333 │\n",
       "│ S14026   ┆ 332.340588 │\n",
       "│ S14045   ┆ 330.082073 │\n",
       "│ S14047   ┆ 330.077073 │\n",
       "└──────────┴────────────┘"
      ]
     },
     "execution_count": 66,
     "metadata": {},
     "output_type": "execute_result"
    }
   ],
   "source": [
    "df_receipt\n",
    "    .clone()\n",
    "    .groupby([\"store_cd\"])\n",
    "    .agg([col(\"amount\").mean()])\n",
    "    .filter(col(\"amount\").gt_eq(lit(330)))\n",
    "    .sort(\"store_cd\", SortOptions{descending: (false), nulls_last: (true), multithreaded: (true), maintain_order: true,})\n",
    "    .collect()\n",
    "    .unwrap()"
   ]
  },
  {
   "cell_type": "markdown",
   "metadata": {},
   "source": [
    "---\n",
    "> P-034: レシート明細データ（df_receipt）に対し、顧客ID（customer_id）ごとに売上金額（amount）を合計して全顧客の平均を求めよ。ただし、顧客IDが\"Z\"から始まるものは非会員を表すため、除外して計算すること。"
   ]
  },
  {
   "cell_type": "code",
   "execution_count": 67,
   "metadata": {
    "vscode": {
     "languageId": "rust"
    }
   },
   "outputs": [
    {
     "data": {
      "text/plain": [
       "shape: (1, 1)\n",
       "┌─────────────┐\n",
       "│ amount      │\n",
       "│ ---         │\n",
       "│ f64         │\n",
       "╞═════════════╡\n",
       "│ 2547.742235 │\n",
       "└─────────────┘"
      ]
     },
     "execution_count": 67,
     "metadata": {},
     "output_type": "execute_result"
    }
   ],
   "source": [
    "df_receipt\n",
    "    .clone()\n",
    "    .filter(col(\"customer_id\").str().starts_with(lit(\"Z\")).not())\n",
    "    .groupby([\"customer_id\"]).agg([col(\"amount\").sum()])\n",
    "    .select([col(\"amount\").mean()])\n",
    "    .collect()\n",
    "    .unwrap()"
   ]
  },
  {
   "cell_type": "markdown",
   "metadata": {},
   "source": [
    "---\n",
    "> P-035: レシート明細データ（df_receipt）に対し、顧客ID（customer_id）ごとに売上金額（amount）を合計して全顧客の平均を求め、平均以上に買い物をしている顧客を抽出し、10件表示せよ。ただし、顧客IDが\"Z\"から始まるものは非会員を表すため、除外して計算すること。"
   ]
  },
  {
   "cell_type": "code",
   "execution_count": 68,
   "metadata": {
    "vscode": {
     "languageId": "rust"
    }
   },
   "outputs": [
    {
     "data": {
      "text/plain": [
       "shape: (10, 3)\n",
       "┌────────────────┬────────┬─────────────┐\n",
       "│ customer_id    ┆ amount ┆ avg_amount  │\n",
       "│ ---            ┆ ---    ┆ ---         │\n",
       "│ str            ┆ i64    ┆ f64         │\n",
       "╞════════════════╪════════╪═════════════╡\n",
       "│ CS001115000010 ┆ 3044   ┆ 2547.742235 │\n",
       "│ CS001205000006 ┆ 3337   ┆ 2547.742235 │\n",
       "│ CS001214000009 ┆ 4685   ┆ 2547.742235 │\n",
       "│ CS001214000017 ┆ 4132   ┆ 2547.742235 │\n",
       "│ …              ┆ …      ┆ …           │\n",
       "│ CS001304000006 ┆ 3726   ┆ 2547.742235 │\n",
       "│ CS001305000005 ┆ 3485   ┆ 2547.742235 │\n",
       "│ CS001305000011 ┆ 4370   ┆ 2547.742235 │\n",
       "│ CS001315000180 ┆ 3300   ┆ 2547.742235 │\n",
       "└────────────────┴────────┴─────────────┘"
      ]
     },
     "execution_count": 68,
     "metadata": {},
     "output_type": "execute_result"
    }
   ],
   "source": [
    "df_receipt\n",
    "    .clone()\n",
    "    .filter(col(\"customer_id\").str().starts_with(lit(\"Z\")).not())\n",
    "    .groupby([\"customer_id\"]).agg([col(\"amount\").sum()])\n",
    "    .with_column(col(\"amount\").mean().alias(\"avg_amount\"))\n",
    "    .filter(col(\"amount\").gt_eq(col(\"avg_amount\")))\n",
    "    .sort(\"customer_id\", SortOptions{descending: (false), nulls_last: (true), multithreaded: (true), maintain_order: true,})\n",
    "    .collect()\n",
    "    .unwrap()\n",
    "    .head(Some(10))\n"
   ]
  },
  {
   "cell_type": "markdown",
   "metadata": {},
   "source": [
    "---\n",
    "> P-036: レシート明細データ（df_receipt）と店舗データ（df_store）を内部結合し、レシート明細データの全項目と店舗データの店舗名（store_name）を10件表示せよ。"
   ]
  },
  {
   "cell_type": "code",
   "execution_count": 69,
   "metadata": {
    "vscode": {
     "languageId": "rust"
    }
   },
   "outputs": [
    {
     "data": {
      "text/plain": [
       "shape: (10, 10)\n",
       "┌───────────┬────────────┬──────────┬────────────┬───┬────────────┬──────────┬────────┬────────────┐\n",
       "│ sales_ymd ┆ sales_epoc ┆ store_cd ┆ receipt_no ┆ … ┆ product_cd ┆ quantity ┆ amount ┆ store_name │\n",
       "│ ---       ┆ h          ┆ ---      ┆ ---        ┆   ┆ ---        ┆ ---      ┆ ---    ┆ ---        │\n",
       "│ i64       ┆ ---        ┆ str      ┆ i64        ┆   ┆ str        ┆ i64      ┆ i64    ┆ str        │\n",
       "│           ┆ i64        ┆          ┆            ┆   ┆            ┆          ┆        ┆            │\n",
       "╞═══════════╪════════════╪══════════╪════════════╪═══╪════════════╪══════════╪════════╪════════════╡\n",
       "│ 20181103  ┆ 1541203200 ┆ S14006   ┆ 112        ┆ … ┆ P070305012 ┆ 1        ┆ 158    ┆ 葛が谷店   │\n",
       "│ 20181118  ┆ 1542499200 ┆ S13008   ┆ 1132       ┆ … ┆ P070701017 ┆ 1        ┆ 81     ┆ 成城店     │\n",
       "│ 20170712  ┆ 1499817600 ┆ S14028   ┆ 1102       ┆ … ┆ P060101005 ┆ 1        ┆ 170    ┆ 二ツ橋店   │\n",
       "│ 20190205  ┆ 1549324800 ┆ S14042   ┆ 1132       ┆ … ┆ P050301001 ┆ 1        ┆ 25     ┆ 新山下店   │\n",
       "│ …         ┆ …          ┆ …        ┆ …          ┆ … ┆ …          ┆ …        ┆ …      ┆ …          │\n",
       "│ 20181205  ┆ 1543968000 ┆ S14024   ┆ 1102       ┆ … ┆ P080101005 ┆ 1        ┆ 30     ┆ 三田店     │\n",
       "│ 20190922  ┆ 1569110400 ┆ S14040   ┆ 1102       ┆ … ┆ P070501004 ┆ 1        ┆ 128    ┆ 長津田店   │\n",
       "│ 20170504  ┆ 1493856000 ┆ S13020   ┆ 1112       ┆ … ┆ P071302010 ┆ 1        ┆ 770    ┆ 十条仲原店 │\n",
       "│ 20191010  ┆ 1570665600 ┆ S14027   ┆ 1102       ┆ … ┆ P071101003 ┆ 1        ┆ 680    ┆ 南藤沢店   │\n",
       "└───────────┴────────────┴──────────┴────────────┴───┴────────────┴──────────┴────────┴────────────┘"
      ]
     },
     "execution_count": 69,
     "metadata": {},
     "output_type": "execute_result"
    }
   ],
   "source": [
    "df_receipt\n",
    "    .clone()\n",
    "    .inner_join(\n",
    "        df_store.clone().select([col(\"store_cd\"), col(\"store_name\")]),\n",
    "        col(\"store_cd\"),\n",
    "        col(\"store_cd\"),\n",
    "    )\n",
    "    .collect()\n",
    "    .unwrap()\n",
    "    .head(Some(10))"
   ]
  },
  {
   "cell_type": "markdown",
   "metadata": {},
   "source": [
    "---\n",
    "> P-037: 商品データ（df_product）とカテゴリデータ（df_category）を内部結合し、商品データの全項目とカテゴリデータのカテゴリ小区分名（category_small_name）を10件表示せよ。"
   ]
  },
  {
   "cell_type": "code",
   "execution_count": 70,
   "metadata": {
    "vscode": {
     "languageId": "rust"
    }
   },
   "outputs": [
    {
     "data": {
      "text/plain": [
       "shape: (10, 7)\n",
       "┌────────────┬───────────────┬──────────────┬──────────────┬────────────┬───────────┬──────────────┐\n",
       "│ product_cd ┆ category_majo ┆ category_med ┆ category_sma ┆ unit_price ┆ unit_cost ┆ category_sma │\n",
       "│ ---        ┆ r_cd          ┆ ium_cd       ┆ ll_cd        ┆ ---        ┆ ---       ┆ ll_name      │\n",
       "│ str        ┆ ---           ┆ ---          ┆ ---          ┆ i64        ┆ i64       ┆ ---          │\n",
       "│            ┆ str           ┆ str          ┆ str          ┆            ┆           ┆ str          │\n",
       "╞════════════╪═══════════════╪══════════════╪══════════════╪════════════╪═══════════╪══════════════╡\n",
       "│ P040101001 ┆ 04            ┆ 0401         ┆ 040101       ┆ 198        ┆ 149       ┆ 弁当類       │\n",
       "│ P040101002 ┆ 04            ┆ 0401         ┆ 040101       ┆ 218        ┆ 164       ┆ 弁当類       │\n",
       "│ P040101003 ┆ 04            ┆ 0401         ┆ 040101       ┆ 230        ┆ 173       ┆ 弁当類       │\n",
       "│ P040101004 ┆ 04            ┆ 0401         ┆ 040101       ┆ 248        ┆ 186       ┆ 弁当類       │\n",
       "│ …          ┆ …             ┆ …            ┆ …            ┆ …          ┆ …         ┆ …            │\n",
       "│ P040101007 ┆ 04            ┆ 0401         ┆ 040101       ┆ 338        ┆ 254       ┆ 弁当類       │\n",
       "│ P040101008 ┆ 04            ┆ 0401         ┆ 040101       ┆ 420        ┆ 315       ┆ 弁当類       │\n",
       "│ P040101009 ┆ 04            ┆ 0401         ┆ 040101       ┆ 498        ┆ 374       ┆ 弁当類       │\n",
       "│ P040101010 ┆ 04            ┆ 0401         ┆ 040101       ┆ 580        ┆ 435       ┆ 弁当類       │\n",
       "└────────────┴───────────────┴──────────────┴──────────────┴────────────┴───────────┴──────────────┘"
      ]
     },
     "execution_count": 70,
     "metadata": {},
     "output_type": "execute_result"
    }
   ],
   "source": [
    "df_product\n",
    "    .clone()\n",
    "    .inner_join(\n",
    "        df_category.clone().select([col(\"category_small_cd\"), col(\"category_small_name\")]),\n",
    "        col(\"category_small_cd\"),\n",
    "        col(\"category_small_cd\"),\n",
    "    )\n",
    "    .collect()\n",
    "    .unwrap()\n",
    "    .head(Some(10))"
   ]
  },
  {
   "cell_type": "markdown",
   "metadata": {},
   "source": [
    "---\n",
    "> P-038: 顧客データ（df_customer）とレシート明細データ（df_receipt）から、顧客ごとの売上金額合計を求め、10件表示せよ。ただし、売上実績がない顧客については売上金額を0として表示させること。また、顧客は性別コード（gender_cd）が女性（1）であるものを対象とし、非会員（顧客IDが\"Z\"から始まるもの）は除外すること。"
   ]
  },
  {
   "cell_type": "code",
   "execution_count": 71,
   "metadata": {
    "vscode": {
     "languageId": "rust"
    }
   },
   "outputs": [
    {
     "data": {
      "text/plain": [
       "shape: (10, 2)\n",
       "┌────────────────┬────────┐\n",
       "│ customer_id    ┆ amount │\n",
       "│ ---            ┆ ---    │\n",
       "│ str            ┆ i64    │\n",
       "╞════════════════╪════════╡\n",
       "│ CS008515000062 ┆ 1972   │\n",
       "│ CS047211000001 ┆ 2293   │\n",
       "│ CS013415000077 ┆ 5164   │\n",
       "│ CS002515000266 ┆ 784    │\n",
       "│ …              ┆ …      │\n",
       "│ CS016315000115 ┆ 426    │\n",
       "│ CS034415000038 ┆ 5039   │\n",
       "│ CS016415000250 ┆ 7076   │\n",
       "│ CS013614000024 ┆ 689    │\n",
       "└────────────────┴────────┘"
      ]
     },
     "execution_count": 71,
     "metadata": {},
     "output_type": "execute_result"
    }
   ],
   "source": [
    "df_customer\n",
    "    .clone()\n",
    "    .filter(\n",
    "        col(\"gender_cd\").eq(lit(\"1\"))\n",
    "        .and(\n",
    "            col(\"customer_id\").str().starts_with(lit(\"Z\")).not()\n",
    "        )\n",
    "    )\n",
    "    .inner_join(\n",
    "        df_receipt.clone(),\n",
    "        col(\"customer_id\"),\n",
    "        col(\"customer_id\"),\n",
    "    )\n",
    "    .groupby([\"customer_id\"])\n",
    "    .agg([col(\"amount\").sum().fill_null(0)])\n",
    "    .collect()\n",
    "    .unwrap()\n",
    "    .head(Some(10))"
   ]
  },
  {
   "cell_type": "markdown",
   "metadata": {},
   "source": [
    "---\n",
    "> P-039: レシート明細データ（df_receipt）から、売上日数の多い顧客の上位20件を抽出したデータと、売上金額合計の多い顧客の上位20件を抽出したデータをそれぞれ作成し、さらにその2つを完全外部結合せよ。ただし、非会員（顧客IDが\"Z\"から始まるもの）は除外すること。"
   ]
  },
  {
   "cell_type": "code",
   "execution_count": 72,
   "metadata": {
    "vscode": {
     "languageId": "rust"
    }
   },
   "outputs": [
    {
     "data": {
      "text/plain": [
       "shape: (34, 3)\n",
       "┌────────────────┬───────────┬────────┐\n",
       "│ customer_id    ┆ sales_ymd ┆ amount │\n",
       "│ ---            ┆ ---       ┆ ---    │\n",
       "│ str            ┆ u32       ┆ i64    │\n",
       "╞════════════════╪═══════════╪════════╡\n",
       "│ CS040214000008 ┆ 23        ┆ null   │\n",
       "│ CS010214000010 ┆ 22        ┆ 18585  │\n",
       "│ CS015415000185 ┆ 22        ┆ 20153  │\n",
       "│ CS028415000007 ┆ 21        ┆ 19127  │\n",
       "│ …              ┆ …         ┆ …      │\n",
       "│ CS007514000094 ┆ null      ┆ 15735  │\n",
       "│ CS009414000059 ┆ null      ┆ 15492  │\n",
       "│ CS030415000034 ┆ null      ┆ 15468  │\n",
       "│ CS015515000034 ┆ null      ┆ 15300  │\n",
       "└────────────────┴───────────┴────────┘"
      ]
     },
     "execution_count": 72,
     "metadata": {},
     "output_type": "execute_result"
    }
   ],
   "source": [
    "let df_data = df_receipt.clone().filter(col(\"customer_id\").str().starts_with(lit(\"Z\")).not());\n",
    "\n",
    "let df_cnt: LazyFrame = df_data.clone()\n",
    "    .groupby([\"customer_id\"]).agg([col(\"sales_ymd\").n_unique()])\n",
    "    .sort(\"sales_ymd\", SortOptions{descending: true, nulls_last: true, multithreaded: true, maintain_order: true})\n",
    "    .slice(0, 20);\n",
    "let df_sum: LazyFrame = df_data.clone().groupby([\"customer_id\"]).agg([col(\"amount\").sum()])\n",
    "    .sort(\"amount\", SortOptions{descending: true, nulls_last: true, multithreaded: true, maintain_order: true})\n",
    "    .slice(0, 20);\n",
    "    \n",
    "df_cnt\n",
    "    .outer_join(\n",
    "        df_sum.clone(),\n",
    "        col(\"customer_id\"),\n",
    "        col(\"customer_id\"),\n",
    "    )\n",
    "    .sort(\"amount\", SortOptions{descending: false, nulls_last: true, multithreaded: true, maintain_order: true})\n",
    "    .sort(\"sales_ymd\", SortOptions{descending: true, nulls_last: true, multithreaded: true, maintain_order: true})\n",
    "    .collect()\n",
    "    .unwrap()"
   ]
  },
  {
   "cell_type": "markdown",
   "metadata": {},
   "source": [
    "---\n",
    "> P-040: 全ての店舗と全ての商品を組み合わせたデータを作成したい。店舗データ（df_store）と商品データ（df_product）を直積し、件数を計算せよ。"
   ]
  },
  {
   "cell_type": "code",
   "execution_count": 73,
   "metadata": {
    "vscode": {
     "languageId": "rust"
    }
   },
   "outputs": [
    {
     "data": {
      "text/plain": [
       "531590"
      ]
     },
     "execution_count": 73,
     "metadata": {},
     "output_type": "execute_result"
    }
   ],
   "source": [
    "let df_store_tmp: LazyFrame = df_store.clone().with_columns([lit(0).alias(\"key\")]);\n",
    "let df_product_tmp: LazyFrame = df_product.clone().with_columns([lit(0).alias(\"key\")]);\n",
    "\n",
    "df_store_tmp.outer_join(df_product_tmp, col(\"key\"), col(\"key\"))\n",
    "    .collect()\n",
    "    .unwrap()\n",
    "    .height()"
   ]
  },
  {
   "cell_type": "markdown",
   "metadata": {},
   "source": [
    "---\n",
    "> P-041: レシート明細データ（df_receipt）の売上金額（amount）を日付（sales_ymd）ごとに集計し、前回売上があった日からの売上金額増減を計算せよ。そして結果を10件表示せよ。"
   ]
  },
  {
   "cell_type": "code",
   "execution_count": 74,
   "metadata": {
    "vscode": {
     "languageId": "rust"
    }
   },
   "outputs": [
    {
     "data": {
      "text/plain": [
       "shape: (10, 4)\n",
       "┌───────────┬────────┬──────────────┬─────────────┐\n",
       "│ sales_ymd ┆ amount ┆ -1day_amount ┆ diff_amount │\n",
       "│ ---       ┆ ---    ┆ ---          ┆ ---         │\n",
       "│ i64       ┆ i64    ┆ i64          ┆ i64         │\n",
       "╞═══════════╪════════╪══════════════╪═════════════╡\n",
       "│ 20170101  ┆ 33723  ┆ null         ┆ null        │\n",
       "│ 20170102  ┆ 24165  ┆ 33723        ┆ -9558       │\n",
       "│ 20170103  ┆ 27503  ┆ 24165        ┆ 3338        │\n",
       "│ 20170104  ┆ 36165  ┆ 27503        ┆ 8662        │\n",
       "│ …         ┆ …      ┆ …            ┆ …           │\n",
       "│ 20170107  ┆ 23415  ┆ 32387        ┆ -8972       │\n",
       "│ 20170108  ┆ 24737  ┆ 23415        ┆ 1322        │\n",
       "│ 20170109  ┆ 26718  ┆ 24737        ┆ 1981        │\n",
       "│ 20170110  ┆ 20143  ┆ 26718        ┆ -6575       │\n",
       "└───────────┴────────┴──────────────┴─────────────┘"
      ]
     },
     "execution_count": 74,
     "metadata": {},
     "output_type": "execute_result"
    }
   ],
   "source": [
    "df_receipt.clone()\n",
    "    .groupby([\"sales_ymd\"]).agg([col(\"amount\").sum()])\n",
    "    .sort(\"sales_ymd\", SortOptions{descending: false, nulls_last: true, multithreaded: true, maintain_order: true})\n",
    "    .with_columns(\n",
    "        [\n",
    "            col(\"amount\").shift(1).alias(\"-1day_amount\"),\n",
    "            (col(\"amount\") - col(\"amount\").shift(1)).alias(\"diff_amount\"),\n",
    "        ]\n",
    "    )\n",
    "    .collect()\n",
    "    .unwrap()\n",
    "    .head(Some(10))"
   ]
  },
  {
   "cell_type": "markdown",
   "metadata": {},
   "source": [
    "---\n",
    "> P-042: レシート明細データ（df_receipt）の売上金額（amount）を日付（sales_ymd）ごとに集計し、各日付のデータに対し、前回、前々回、3回前に売上があった日のデータを結合せよ。そして結果を10件表示せよ。"
   ]
  },
  {
   "cell_type": "code",
   "execution_count": 75,
   "metadata": {
    "vscode": {
     "languageId": "rust"
    }
   },
   "outputs": [
    {
     "data": {
      "text/plain": [
       "shape: (10, 8)\n",
       "┌───────────┬────────┬────────────┬────────────┬────────────┬────────────┬────────────┬────────────┐\n",
       "│ sales_ymd ┆ amount ┆ 1day_befor ┆ 1day_befor ┆ 2day_befor ┆ 2day_befor ┆ 3day_befor ┆ 3day_befor │\n",
       "│ ---       ┆ ---    ┆ e_ymd      ┆ e_amount   ┆ e_ymd      ┆ e_amount   ┆ e_ymd      ┆ e_amount   │\n",
       "│ i64       ┆ i64    ┆ ---        ┆ ---        ┆ ---        ┆ ---        ┆ ---        ┆ ---        │\n",
       "│           ┆        ┆ i64        ┆ i64        ┆ i64        ┆ i64        ┆ i64        ┆ i64        │\n",
       "╞═══════════╪════════╪════════════╪════════════╪════════════╪════════════╪════════════╪════════════╡\n",
       "│ 20170101  ┆ 33723  ┆ null       ┆ null       ┆ null       ┆ null       ┆ null       ┆ null       │\n",
       "│ 20170102  ┆ 24165  ┆ 20170101   ┆ 33723      ┆ null       ┆ null       ┆ null       ┆ null       │\n",
       "│ 20170103  ┆ 27503  ┆ 20170102   ┆ 24165      ┆ 20170101   ┆ 33723      ┆ null       ┆ null       │\n",
       "│ 20170104  ┆ 36165  ┆ 20170103   ┆ 27503      ┆ 20170102   ┆ 24165      ┆ 20170101   ┆ 33723      │\n",
       "│ …         ┆ …      ┆ …          ┆ …          ┆ …          ┆ …          ┆ …          ┆ …          │\n",
       "│ 20170107  ┆ 23415  ┆ 20170106   ┆ 32387      ┆ 20170105   ┆ 37830      ┆ 20170104   ┆ 36165      │\n",
       "│ 20170108  ┆ 24737  ┆ 20170107   ┆ 23415      ┆ 20170106   ┆ 32387      ┆ 20170105   ┆ 37830      │\n",
       "│ 20170109  ┆ 26718  ┆ 20170108   ┆ 24737      ┆ 20170107   ┆ 23415      ┆ 20170106   ┆ 32387      │\n",
       "│ 20170110  ┆ 20143  ┆ 20170109   ┆ 26718      ┆ 20170108   ┆ 24737      ┆ 20170107   ┆ 23415      │\n",
       "└───────────┴────────┴────────────┴────────────┴────────────┴────────────┴────────────┴────────────┘"
      ]
     },
     "execution_count": 75,
     "metadata": {},
     "output_type": "execute_result"
    }
   ],
   "source": [
    "df_receipt.clone()\n",
    "    .groupby([\"sales_ymd\"]).agg([col(\"amount\").sum()])\n",
    "    .sort(\"sales_ymd\", SortOptions{descending: false, nulls_last: true, multithreaded: true, maintain_order: true})\n",
    "    .with_columns(\n",
    "        [\n",
    "            col(\"sales_ymd\").shift(1).alias(\"1day_before_ymd\"),\n",
    "            col(\"amount\").shift(1).alias(\"1day_before_amount\"),\n",
    "            col(\"sales_ymd\").shift(2).alias(\"2day_before_ymd\"),\n",
    "            col(\"amount\").shift(2).alias(\"2day_before_amount\"),\n",
    "            col(\"sales_ymd\").shift(3).alias(\"3day_before_ymd\"),\n",
    "            col(\"amount\").shift(3).alias(\"3day_before_amount\"),\n",
    "        ]\n",
    "    )\n",
    "    .collect()\n",
    "    .unwrap()\n",
    "    .head(Some(10))"
   ]
  },
  {
   "cell_type": "markdown",
   "metadata": {},
   "source": [
    "---\n",
    "> P-043： レシート明細データ（df_receipt）と顧客データ（df_customer）を結合し、性別コード（gender_cd）と年代（ageから計算）ごとに売上金額（amount）を合計した売上サマリデータを作成せよ。性別コードは0が男性、1が女性、9が不明を表すものとする。\n",
    ">\n",
    "> ただし、項目構成は年代、女性の売上金額、男性の売上金額、性別不明の売上金額の4項目とすること（縦に年代、横に性別のクロス集計）。また、年代は10歳ごとの階級とすること。"
   ]
  },
  {
   "cell_type": "code",
   "execution_count": 76,
   "metadata": {
    "vscode": {
     "languageId": "rust"
    }
   },
   "outputs": [
    {
     "data": {
      "text/plain": [
       "shape: (9, 4)\n",
       "┌─────┬────────┬─────────┬─────────┐\n",
       "│ era ┆ male   ┆ female  ┆ unknown │\n",
       "│ --- ┆ ---    ┆ ---     ┆ ---     │\n",
       "│ i32 ┆ i64    ┆ i64     ┆ i64     │\n",
       "╞═════╪════════╪═════════╪═════════╡\n",
       "│ 10  ┆ 1591   ┆ 149836  ┆ 4317    │\n",
       "│ 20  ┆ 72940  ┆ 1363724 ┆ 44328   │\n",
       "│ 30  ┆ 177322 ┆ 693047  ┆ 50441   │\n",
       "│ 40  ┆ 19355  ┆ 9320791 ┆ 483512  │\n",
       "│ 50  ┆ 54320  ┆ 6685192 ┆ 342923  │\n",
       "│ 60  ┆ 272469 ┆ 987741  ┆ 71418   │\n",
       "│ 70  ┆ 13435  ┆ 29764   ┆ 2427    │\n",
       "│ 80  ┆ 46360  ┆ 262923  ┆ 5111    │\n",
       "│ 90  ┆ null   ┆ 6260    ┆ null    │\n",
       "└─────┴────────┴─────────┴─────────┘"
      ]
     },
     "execution_count": 76,
     "metadata": {},
     "output_type": "execute_result"
    }
   ],
   "source": [
    "let temp_df = df_receipt.clone()\n",
    "    .inner_join(df_customer.clone(), col(\"customer_id\"), col(\"customer_id\")) \n",
    "    .with_column(\n",
    "        ((col(\"age\") / lit(10.0)).floor() * lit(10.0)).cast(DataType::Int32).alias(\"era\"),\n",
    "    )\n",
    "    .groupby([\"gender_cd\", \"era\"]).agg([col(\"amount\").sum()]);\n",
    "\n",
    "let df_sales_summary = temp_df.clone()\n",
    "    .select([col(\"era\").unique()])\n",
    "    .outer_join(\n",
    "        temp_df.clone()\n",
    "            .filter(col(\"gender_cd\").eq(lit(\"0\")))\n",
    "            .select([col(\"era\"), col(\"amount\").alias(\"male\")]),\n",
    "        col(\"era\"), \n",
    "        col(\"era\"),\n",
    "    )\n",
    "    .outer_join(\n",
    "        temp_df.clone()\n",
    "            .filter(col(\"gender_cd\").eq(lit(\"1\")))\n",
    "            .select([col(\"era\"), col(\"amount\").alias(\"female\")]),\n",
    "        col(\"era\"), \n",
    "        col(\"era\"),\n",
    "    )\n",
    "    .outer_join(\n",
    "        temp_df.clone()\n",
    "            .filter(col(\"gender_cd\").eq(lit(\"9\")))\n",
    "            .select([col(\"era\"), col(\"amount\").alias(\"unknown\")]),\n",
    "        col(\"era\"), \n",
    "        col(\"era\"),\n",
    "    )\n",
    "    .sort(\"era\", SortOptions{descending: false, nulls_last: true, multithreaded: true, maintain_order: true});\n",
    "\n",
    "df_sales_summary.clone()\n",
    "    .collect()\n",
    "    .unwrap()"
   ]
  },
  {
   "cell_type": "markdown",
   "metadata": {},
   "source": [
    "---\n",
    "> P-044： 043で作成した売上サマリデータ（df_sales_summary）は性別の売上を横持ちさせたものであった。このデータから性別を縦持ちさせ、年代、性別コード、売上金額の3項目に変換せよ。ただし、性別コードは男性を\"00\"、女性を\"01\"、不明を\"99\"とする。"
   ]
  },
  {
   "cell_type": "code",
   "execution_count": 77,
   "metadata": {
    "vscode": {
     "languageId": "rust"
    }
   },
   "outputs": [
    {
     "data": {
      "text/plain": [
       "shape: (27, 3)\n",
       "┌─────┬───────────┬────────┐\n",
       "│ era ┆ gender_cd ┆ amount │\n",
       "│ --- ┆ ---       ┆ ---    │\n",
       "│ i32 ┆ str       ┆ i64    │\n",
       "╞═════╪═══════════╪════════╡\n",
       "│ 10  ┆ 00        ┆ 1591   │\n",
       "│ 10  ┆ 01        ┆ 149836 │\n",
       "│ 10  ┆ 99        ┆ 4317   │\n",
       "│ 20  ┆ 00        ┆ 72940  │\n",
       "│ …   ┆ …         ┆ …      │\n",
       "│ 80  ┆ 99        ┆ 5111   │\n",
       "│ 90  ┆ 00        ┆ null   │\n",
       "│ 90  ┆ 01        ┆ 6260   │\n",
       "│ 90  ┆ 99        ┆ null   │\n",
       "└─────┴───────────┴────────┘"
      ]
     },
     "execution_count": 77,
     "metadata": {},
     "output_type": "execute_result"
    }
   ],
   "source": [
    "fn conv_gender2cd(str_val: Series) -> Result<Option<Series>, PolarsError> {\n",
    "    let x: ChunkedArray<Utf8Type> = str_val\n",
    "        .utf8()\n",
    "        .unwrap()\n",
    "        .into_iter()\n",
    "        // your actual custom function would be in this map\n",
    "        .map(\n",
    "            |opt_name: Option<&str>| opt_name.map(\n",
    "                |name: &str| match name {\n",
    "                    \"male\" => \"00\",\n",
    "                    \"female\" => \"01\",\n",
    "                    \"unknown\" => \"99\",\n",
    "                    _ => \"\",\n",
    "                }\n",
    "            )\n",
    "        )\n",
    "        .collect();\n",
    "    Ok(Some(x.into_series()))\n",
    "}\n",
    "\n",
    "let melt_args: MeltArgs = MeltArgs {\n",
    "    id_vars: vec![\"era\".into()],\n",
    "    value_vars: vec![\"male\".into(), \"female\".into(), \"unknown\".into()],\n",
    "    variable_name: Some(\"gender\".into()),\n",
    "    value_name: Some(\"amount\".into()),\n",
    "    streamable: true,\n",
    "};\n",
    "\n",
    "let melt_df = df_sales_summary.clone().melt(melt_args);\n",
    "\n",
    "\n",
    "melt_df.clone()\n",
    "    .select([\n",
    "        col(\"era\"),\n",
    "        col(\"gender\")\n",
    "        .apply(\n",
    "            |x| conv_gender2cd(x),\n",
    "            GetOutput::from_type(DataType::UInt32)\n",
    "        ).alias(\"gender_cd\"),\n",
    "        col(\"amount\"),\n",
    "    ])\n",
    "    .sort(\n",
    "        \"era\",\n",
    "        SortOptions{\n",
    "            descending: false,\n",
    "            nulls_last: true,\n",
    "            multithreaded: true,\n",
    "            maintain_order: true\n",
    "        }\n",
    "    )\n",
    "    .collect()\n",
    "    .unwrap()"
   ]
  },
  {
   "cell_type": "code",
   "execution_count": 142,
   "metadata": {
    "vscode": {
     "languageId": "rust"
    }
   },
   "outputs": [
    {
     "data": {
      "text/plain": [
       "shape: (27, 3)\n",
       "┌─────┬───────────┬────────┐\n",
       "│ era ┆ gender_cd ┆ amount │\n",
       "│ --- ┆ ---       ┆ ---    │\n",
       "│ i32 ┆ str       ┆ i64    │\n",
       "╞═════╪═══════════╪════════╡\n",
       "│ 10  ┆ 00        ┆ 1591   │\n",
       "│ 10  ┆ 01        ┆ 149836 │\n",
       "│ 10  ┆ 99        ┆ 4317   │\n",
       "│ 20  ┆ 00        ┆ 72940  │\n",
       "│ …   ┆ …         ┆ …      │\n",
       "│ 80  ┆ 99        ┆ 5111   │\n",
       "│ 90  ┆ 00        ┆ null   │\n",
       "│ 90  ┆ 01        ┆ 6260   │\n",
       "│ 90  ┆ 99        ┆ null   │\n",
       "└─────┴───────────┴────────┘"
      ]
     },
     "execution_count": 142,
     "metadata": {},
     "output_type": "execute_result"
    }
   ],
   "source": [
    "// when().then().otherwise()を使用するほうがスッキリかける\n",
    "\n",
    "let melt_args: MeltArgs = MeltArgs {\n",
    "    id_vars: vec![\"era\".into()],\n",
    "    value_vars: vec![\"male\".into(), \"female\".into(), \"unknown\".into()],\n",
    "    variable_name: Some(\"gender\".into()),\n",
    "    value_name: Some(\"amount\".into()),\n",
    "    streamable: true,\n",
    "};\n",
    "\n",
    "let melt_df = df_sales_summary.clone().melt(melt_args);\n",
    "\n",
    "melt_df.clone()\n",
    "    .select([\n",
    "        col(\"era\"),\n",
    "        when(col(\"gender\").eq(lit(\"male\"))).then(lit(\"00\"))\n",
    "            .when(col(\"gender\").eq(lit(\"female\"))).then(lit(\"01\"))\n",
    "            .otherwise(lit(\"99\"))\n",
    "            .alias(\"gender_cd\"),\n",
    "        col(\"amount\"),\n",
    "    ])\n",
    "    .sort(\n",
    "        \"era\",\n",
    "        SortOptions{\n",
    "            descending: false,\n",
    "            nulls_last: true,\n",
    "            multithreaded: true,\n",
    "            maintain_order: true\n",
    "        }\n",
    "    )\n",
    "    .collect()\n",
    "    .unwrap()"
   ]
  },
  {
   "cell_type": "markdown",
   "metadata": {},
   "source": [
    "---\n",
    "> P-045: 顧客データ（df_customer）の生年月日（birth_day）は日付型でデータを保有している。これをYYYYMMDD形式の文字列に変換し、顧客ID（customer_id）とともに10件表示せよ。"
   ]
  },
  {
   "cell_type": "code",
   "execution_count": 78,
   "metadata": {
    "vscode": {
     "languageId": "rust"
    }
   },
   "outputs": [
    {
     "data": {
      "text/plain": [
       "shape: (10, 2)\n",
       "┌────────────────┬───────────┐\n",
       "│ customer_id    ┆ birth_day │\n",
       "│ ---            ┆ ---       │\n",
       "│ str            ┆ str       │\n",
       "╞════════════════╪═══════════╡\n",
       "│ CS021313000114 ┆ 19810429  │\n",
       "│ CS037613000071 ┆ 19520401  │\n",
       "│ CS031415000172 ┆ 19761004  │\n",
       "│ CS028811000001 ┆ 19330327  │\n",
       "│ …              ┆ …         │\n",
       "│ CS015414000103 ┆ 19770809  │\n",
       "│ CS029403000008 ┆ 19730817  │\n",
       "│ CS015804000004 ┆ 19310502  │\n",
       "│ CS033513000180 ┆ 19620711  │\n",
       "└────────────────┴───────────┘"
      ]
     },
     "execution_count": 78,
     "metadata": {},
     "output_type": "execute_result"
    }
   ],
   "source": [
    "df_customer.clone()\n",
    "    .select([\n",
    "        col(\"customer_id\"),\n",
    "        col(\"birth_day\").dt().to_string(\"%Y%m%d\"),\n",
    "    ])\n",
    "    .collect()\n",
    "    .unwrap()\n",
    "    .head(Some(10))"
   ]
  },
  {
   "cell_type": "markdown",
   "metadata": {},
   "source": [
    "---\n",
    "> P-046: 顧客データ（df_customer）の申し込み日（application_date）はYYYYMMDD形式の文字列型でデータを保有している。これを日付型に変換し、顧客ID（customer_id）とともに10件表示せよ。"
   ]
  },
  {
   "cell_type": "code",
   "execution_count": 94,
   "metadata": {
    "vscode": {
     "languageId": "rust"
    }
   },
   "outputs": [
    {
     "data": {
      "text/plain": [
       "shape: (10, 2)\n",
       "┌────────────────┬──────────────────┐\n",
       "│ customer_id    ┆ application_date │\n",
       "│ ---            ┆ ---              │\n",
       "│ str            ┆ date             │\n",
       "╞════════════════╪══════════════════╡\n",
       "│ CS021313000114 ┆ 2015-09-05       │\n",
       "│ CS037613000071 ┆ 2015-04-14       │\n",
       "│ CS031415000172 ┆ 2015-05-29       │\n",
       "│ CS028811000001 ┆ 2016-01-15       │\n",
       "│ …              ┆ …                │\n",
       "│ CS015414000103 ┆ 2015-07-22       │\n",
       "│ CS029403000008 ┆ 2015-05-15       │\n",
       "│ CS015804000004 ┆ 2015-06-07       │\n",
       "│ CS033513000180 ┆ 2015-07-28       │\n",
       "└────────────────┴──────────────────┘"
      ]
     },
     "execution_count": 94,
     "metadata": {},
     "output_type": "execute_result"
    }
   ],
   "source": [
    "let options: StrptimeOptions = StrptimeOptions {\n",
    "    format: Some(\"%Y%m%d\".into()),\n",
    "    strict: false,\n",
    "    exact: true,\n",
    "    cache: true,\n",
    "};\n",
    "\n",
    "df_customer.clone()\n",
    "    .select([\n",
    "        col(\"customer_id\"),\n",
    "        col(\"application_date\").str().to_date(options),\n",
    "    ])\n",
    "    .collect()\n",
    "    .unwrap()\n",
    "    .head(Some(10))"
   ]
  },
  {
   "cell_type": "markdown",
   "metadata": {},
   "source": [
    "---\n",
    "> P-047: レシート明細データ（df_receipt）の売上日（sales_ymd）はYYYYMMDD形式の数値型でデータを保有している。これを日付型に変換し、レシート番号（receipt_no）、レシートサブ番号（receipt_sub_no）とともに10件表示せよ。"
   ]
  },
  {
   "cell_type": "code",
   "execution_count": 125,
   "metadata": {
    "vscode": {
     "languageId": "rust"
    }
   },
   "outputs": [
    {
     "data": {
      "text/plain": [
       "shape: (10, 3)\n",
       "┌────────────┬────────────────┬────────────┐\n",
       "│ receipt_no ┆ receipt_sub_no ┆ sales_ymd  │\n",
       "│ ---        ┆ ---            ┆ ---        │\n",
       "│ i64        ┆ i64            ┆ date       │\n",
       "╞════════════╪════════════════╪════════════╡\n",
       "│ 112        ┆ 1              ┆ 2018-11-03 │\n",
       "│ 1132       ┆ 2              ┆ 2018-11-18 │\n",
       "│ 1102       ┆ 1              ┆ 2017-07-12 │\n",
       "│ 1132       ┆ 1              ┆ 2019-02-05 │\n",
       "│ …          ┆ …              ┆ …          │\n",
       "│ 1102       ┆ 2              ┆ 2018-12-05 │\n",
       "│ 1102       ┆ 1              ┆ 2019-09-22 │\n",
       "│ 1112       ┆ 2              ┆ 2017-05-04 │\n",
       "│ 1102       ┆ 1              ┆ 2019-10-10 │\n",
       "└────────────┴────────────────┴────────────┘"
      ]
     },
     "execution_count": 125,
     "metadata": {},
     "output_type": "execute_result"
    }
   ],
   "source": [
    "let options: StrptimeOptions = StrptimeOptions {\n",
    "    format: Some(\"%Y%m%d\".into()),\n",
    "    strict: false,\n",
    "    exact: true,\n",
    "    cache: true,\n",
    "};\n",
    "\n",
    "df_receipt.clone()\n",
    "    .select([\n",
    "        col(\"receipt_no\"),\n",
    "        col(\"receipt_sub_no\"),\n",
    "        col(\"sales_ymd\").cast(DataType::Utf8).str().to_date(options),\n",
    "    ])\n",
    "    .collect()\n",
    "    .unwrap()\n",
    "    .head(Some(10))"
   ]
  },
  {
   "cell_type": "markdown",
   "metadata": {},
   "source": [
    "---\n",
    "> P-048: レシート明細データ（df_receipt）の売上エポック秒（sales_epoch）は数値型のUNIX秒でデータを保有している。これを日付型に変換し、レシート番号(receipt_no)、レシートサブ番号（receipt_sub_no）とともに10件表示せよ。"
   ]
  },
  {
   "cell_type": "code",
   "execution_count": 126,
   "metadata": {
    "vscode": {
     "languageId": "rust"
    }
   },
   "outputs": [
    {
     "data": {
      "text/plain": [
       "shape: (10, 3)\n",
       "┌────────────┬────────────────┬────────────┐\n",
       "│ receipt_no ┆ receipt_sub_no ┆ sales_ymd  │\n",
       "│ ---        ┆ ---            ┆ ---        │\n",
       "│ i64        ┆ i64            ┆ date       │\n",
       "╞════════════╪════════════════╪════════════╡\n",
       "│ 112        ┆ 1              ┆ 2018-11-03 │\n",
       "│ 1132       ┆ 2              ┆ 2018-11-18 │\n",
       "│ 1102       ┆ 1              ┆ 2017-07-12 │\n",
       "│ 1132       ┆ 1              ┆ 2019-02-05 │\n",
       "│ …          ┆ …              ┆ …          │\n",
       "│ 1102       ┆ 2              ┆ 2018-12-05 │\n",
       "│ 1102       ┆ 1              ┆ 2019-09-22 │\n",
       "│ 1112       ┆ 2              ┆ 2017-05-04 │\n",
       "│ 1102       ┆ 1              ┆ 2019-10-10 │\n",
       "└────────────┴────────────────┴────────────┘"
      ]
     },
     "execution_count": 126,
     "metadata": {},
     "output_type": "execute_result"
    }
   ],
   "source": [
    "// to_datetimeを使用しない場合\n",
    "// df_receipt.clone()\n",
    "//     .select([\n",
    "//         col(\"receipt_no\"),\n",
    "//         col(\"receipt_sub_no\"),\n",
    "//         (col(\"sales_epoch\") * lit(1000))\n",
    "//             .cast(DataType::Datetime(\n",
    "//                 TimeUnit::Milliseconds,\n",
    "//                 Some(\"Tokyo\".into())\n",
    "//             ))\n",
    "//             .dt().date()\n",
    "//             .alias(\"sales_ymd\"),\n",
    "//     ])\n",
    "//     .collect()\n",
    "//     .unwrap()\n",
    "//     .head(Some(10))\n",
    "\n",
    "let options: StrptimeOptions = StrptimeOptions {\n",
    "    format: Some(\"%s\".into()),\n",
    "    strict: false,\n",
    "    exact: true,\n",
    "    cache: true,\n",
    "};\n",
    "\n",
    "df_receipt.clone()\n",
    "    .select([\n",
    "        col(\"receipt_no\"),\n",
    "        col(\"receipt_sub_no\"),\n",
    "        col(\"sales_epoch\").cast(DataType::Utf8)\n",
    "            .str().to_datetime(\n",
    "                Some(TimeUnit::Milliseconds),\n",
    "                Some(\"Tokyo\".into()),\n",
    "                options,\n",
    "            )\n",
    "            .dt().date()\n",
    "            .alias(\"sales_ymd\"),\n",
    "    ])\n",
    "    .collect()\n",
    "    .unwrap()\n",
    "    .head(Some(10))"
   ]
  },
  {
   "cell_type": "markdown",
   "metadata": {},
   "source": [
    "---\n",
    "> P-049: レシート明細データ（df_receipt）の売上エポック秒（sales_epoch）を日付型に変換し、「年」だけ取り出してレシート番号(receipt_no)、レシートサブ番号（receipt_sub_no）とともに10件表示せよ。"
   ]
  },
  {
   "cell_type": "code",
   "execution_count": 127,
   "metadata": {
    "vscode": {
     "languageId": "rust"
    }
   },
   "outputs": [
    {
     "data": {
      "text/plain": [
       "shape: (10, 3)\n",
       "┌────────────┬────────────────┬────────────┐\n",
       "│ receipt_no ┆ receipt_sub_no ┆ sales_year │\n",
       "│ ---        ┆ ---            ┆ ---        │\n",
       "│ i64        ┆ i64            ┆ i32        │\n",
       "╞════════════╪════════════════╪════════════╡\n",
       "│ 112        ┆ 1              ┆ 2018       │\n",
       "│ 1132       ┆ 2              ┆ 2018       │\n",
       "│ 1102       ┆ 1              ┆ 2017       │\n",
       "│ 1132       ┆ 1              ┆ 2019       │\n",
       "│ …          ┆ …              ┆ …          │\n",
       "│ 1102       ┆ 2              ┆ 2018       │\n",
       "│ 1102       ┆ 1              ┆ 2019       │\n",
       "│ 1112       ┆ 2              ┆ 2017       │\n",
       "│ 1102       ┆ 1              ┆ 2019       │\n",
       "└────────────┴────────────────┴────────────┘"
      ]
     },
     "execution_count": 127,
     "metadata": {},
     "output_type": "execute_result"
    }
   ],
   "source": [
    "let options: StrptimeOptions = StrptimeOptions {\n",
    "    format: Some(\"%s\".into()),\n",
    "    strict: false,\n",
    "    exact: true,\n",
    "    cache: true,\n",
    "};\n",
    "\n",
    "df_receipt.clone()\n",
    "    .select([\n",
    "        col(\"receipt_no\"),\n",
    "        col(\"receipt_sub_no\"),\n",
    "        col(\"sales_epoch\").cast(DataType::Utf8)\n",
    "            .str().to_datetime(\n",
    "                Some(TimeUnit::Milliseconds),\n",
    "                Some(\"Tokyo\".into()),\n",
    "                options,\n",
    "            )\n",
    "            .dt().year()\n",
    "            .alias(\"sales_year\"),\n",
    "    ])\n",
    "    .collect()\n",
    "    .unwrap()\n",
    "    .head(Some(10))"
   ]
  },
  {
   "cell_type": "markdown",
   "metadata": {},
   "source": [
    "---\n",
    "> P-050: レシート明細データ（df_receipt）の売上エポック秒（sales_epoch）を日付型に変換し、「月」だけ取り出してレシート番号(receipt_no)、レシートサブ番号（receipt_sub_no）とともに10件表示せよ。なお、「月」は0埋め2桁で取り出すこと。"
   ]
  },
  {
   "cell_type": "code",
   "execution_count": 128,
   "metadata": {
    "vscode": {
     "languageId": "rust"
    }
   },
   "outputs": [
    {
     "data": {
      "text/plain": [
       "shape: (10, 3)\n",
       "┌────────────┬────────────────┬─────────────┐\n",
       "│ receipt_no ┆ receipt_sub_no ┆ sales_month │\n",
       "│ ---        ┆ ---            ┆ ---         │\n",
       "│ i64        ┆ i64            ┆ u32         │\n",
       "╞════════════╪════════════════╪═════════════╡\n",
       "│ 112        ┆ 1              ┆ 11          │\n",
       "│ 1132       ┆ 2              ┆ 11          │\n",
       "│ 1102       ┆ 1              ┆ 7           │\n",
       "│ 1132       ┆ 1              ┆ 2           │\n",
       "│ …          ┆ …              ┆ …           │\n",
       "│ 1102       ┆ 2              ┆ 12          │\n",
       "│ 1102       ┆ 1              ┆ 9           │\n",
       "│ 1112       ┆ 2              ┆ 5           │\n",
       "│ 1102       ┆ 1              ┆ 10          │\n",
       "└────────────┴────────────────┴─────────────┘"
      ]
     },
     "execution_count": 128,
     "metadata": {},
     "output_type": "execute_result"
    }
   ],
   "source": [
    "let options: StrptimeOptions = StrptimeOptions {\n",
    "    format: Some(\"%s\".into()),\n",
    "    strict: false,\n",
    "    exact: true,\n",
    "    cache: true,\n",
    "};\n",
    "\n",
    "df_receipt.clone()\n",
    "    .select([\n",
    "        col(\"receipt_no\"),\n",
    "        col(\"receipt_sub_no\"),\n",
    "        col(\"sales_epoch\").cast(DataType::Utf8)\n",
    "            .str().to_datetime(\n",
    "                Some(TimeUnit::Milliseconds),\n",
    "                Some(\"Tokyo\".into()),\n",
    "                options,\n",
    "            )\n",
    "            .dt().month()\n",
    "            .alias(\"sales_month\"),\n",
    "    ])\n",
    "    .collect()\n",
    "    .unwrap()\n",
    "    .head(Some(10))"
   ]
  },
  {
   "cell_type": "markdown",
   "metadata": {},
   "source": [
    "---\n",
    "> P-051: レシート明細データ（df_receipt）の売上エポック秒を日付型に変換し、「日」だけ取り出してレシート番号(receipt_no)、レシートサブ番号（receipt_sub_no）とともに10件表示せよ。なお、「日」は0埋め2桁で取り出すこと。"
   ]
  },
  {
   "cell_type": "code",
   "execution_count": 130,
   "metadata": {
    "vscode": {
     "languageId": "rust"
    }
   },
   "outputs": [
    {
     "data": {
      "text/plain": [
       "shape: (10, 3)\n",
       "┌────────────┬────────────────┬──────────────┐\n",
       "│ receipt_no ┆ receipt_sub_no ┆ sales_day    │\n",
       "│ ---        ┆ ---            ┆              │\n",
       "│ i64        ┆ i64            ┆          …   │\n",
       "│            ┆                ┆ ---          │\n",
       "│            ┆                ┆ str          │\n",
       "╞════════════╪════════════════╪══════════════╡\n",
       "│ 112        ┆ 1              ┆ 03           │\n",
       "│ 1132       ┆ 2              ┆ 18           │\n",
       "│ 1102       ┆ 1              ┆ 12           │\n",
       "│ 1132       ┆ 1              ┆ 05           │\n",
       "│ …          ┆ …              ┆ …            │\n",
       "│ 1102       ┆ 2              ┆ 05           │\n",
       "│ 1102       ┆ 1              ┆ 22           │\n",
       "│ 1112       ┆ 2              ┆ 04           │\n",
       "│ 1102       ┆ 1              ┆ 10           │\n",
       "└────────────┴────────────────┴──────────────┘"
      ]
     },
     "execution_count": 130,
     "metadata": {},
     "output_type": "execute_result"
    }
   ],
   "source": [
    "let options: StrptimeOptions = StrptimeOptions {\n",
    "    format: Some(\"%s\".into()),\n",
    "    strict: false,\n",
    "    exact: true,\n",
    "    cache: true,\n",
    "};\n",
    "\n",
    "df_receipt.clone()\n",
    "    .select([\n",
    "        col(\"receipt_no\"),\n",
    "        col(\"receipt_sub_no\"),\n",
    "        col(\"sales_epoch\").cast(DataType::Utf8)\n",
    "            .str().to_datetime(\n",
    "                Some(TimeUnit::Milliseconds),\n",
    "                Some(\"Tokyo\".into()),\n",
    "                options,\n",
    "            )\n",
    "            .dt().to_string(\"%d\".into())\n",
    "            .alias(\"sales_day\"),\n",
    "    ])\n",
    "    .collect()\n",
    "    .unwrap()\n",
    "    .head(Some(10))"
   ]
  },
  {
   "cell_type": "markdown",
   "metadata": {},
   "source": [
    "---\n",
    "> P-052: レシート明細データ（df_receipt）の売上金額（amount）を顧客ID（customer_id）ごとに合計の上、売上金額合計に対して2,000円以下を0、2,000円より大きい金額を1に二値化し、顧客ID、売上金額合計とともに10件表示せよ。ただし、顧客IDが\"Z\"から始まるのものは非会員を表すため、除外して計算すること。"
   ]
  },
  {
   "cell_type": "code",
   "execution_count": 143,
   "metadata": {
    "vscode": {
     "languageId": "rust"
    }
   },
   "outputs": [
    {
     "data": {
      "text/plain": [
       "shape: (10, 3)\n",
       "┌────────────────┬────────┬───────────┐\n",
       "│ customer_id    ┆ amount ┆ sales_flg │\n",
       "│ ---            ┆ ---    ┆ ---       │\n",
       "│ str            ┆ i64    ┆ i32       │\n",
       "╞════════════════╪════════╪═══════════╡\n",
       "│ CS001113000004 ┆ 1298   ┆ 0         │\n",
       "│ CS001114000005 ┆ 626    ┆ 0         │\n",
       "│ CS001115000010 ┆ 3044   ┆ 1         │\n",
       "│ CS001205000004 ┆ 1988   ┆ 0         │\n",
       "│ …              ┆ …      ┆ …         │\n",
       "│ CS001212000027 ┆ 448    ┆ 0         │\n",
       "│ CS001212000031 ┆ 296    ┆ 0         │\n",
       "│ CS001212000046 ┆ 228    ┆ 0         │\n",
       "│ CS001212000070 ┆ 456    ┆ 0         │\n",
       "└────────────────┴────────┴───────────┘"
      ]
     },
     "execution_count": 143,
     "metadata": {},
     "output_type": "execute_result"
    }
   ],
   "source": [
    "let options: StrptimeOptions = StrptimeOptions {\n",
    "    format: Some(\"%s\".into()),\n",
    "    strict: false,\n",
    "    exact: true,\n",
    "    cache: true,\n",
    "};\n",
    "\n",
    "df_receipt.clone()\n",
    "    .filter(col(\"customer_id\").str().starts_with(lit(\"Z\")).not())\n",
    "    .groupby([\"customer_id\"]).agg([col(\"amount\").sum()])\n",
    "    .select([\n",
    "        col(\"customer_id\"),\n",
    "        col(\"amount\"),\n",
    "        when(col(\"amount\").gt_eq(lit(2000)))\n",
    "            .then(lit(1))\n",
    "            .otherwise(lit(0))\n",
    "            .alias(\"sales_flg\")\n",
    "    ])\n",
    "    .sort(\n",
    "        \"customer_id\",\n",
    "        SortOptions{\n",
    "            descending: false,\n",
    "            nulls_last: true,\n",
    "            multithreaded: true,\n",
    "            maintain_order: true\n",
    "        }\n",
    "    )\n",
    "    .collect()\n",
    "    .unwrap()\n",
    "    .head(Some(10))"
   ]
  },
  {
   "cell_type": "markdown",
   "metadata": {},
   "source": [
    "---\n",
    "> P-053: 顧客データ（df_customer）の郵便番号（postal_cd）に対し、東京（先頭3桁が100〜209のもの）を1、それ以外のものを0に二値化せよ。さらにレシート明細データ（df_receipt）と結合し、全期間において売上実績のある顧客数を、作成した二値ごとにカウントせよ。"
   ]
  },
  {
   "cell_type": "code",
   "execution_count": 170,
   "metadata": {
    "vscode": {
     "languageId": "rust"
    }
   },
   "outputs": [
    {
     "data": {
      "text/plain": [
       "shape: (2, 2)\n",
       "┌────────────┬─────────────┐\n",
       "│ postal_flg ┆ customer_id │\n",
       "│ ---        ┆ ---         │\n",
       "│ i32        ┆ u32         │\n",
       "╞════════════╪═════════════╡\n",
       "│ 0          ┆ 3906        │\n",
       "│ 1          ┆ 4400        │\n",
       "└────────────┴─────────────┘"
      ]
     },
     "execution_count": 170,
     "metadata": {},
     "output_type": "execute_result"
    }
   ],
   "source": [
    "df_customer.clone()\n",
    "    .with_column(col(\"postal_cd\").str().str_slice(0, Some(3)).cast(DataType::Int16).alias(\"postal_flg\"))\n",
    "    .select([\n",
    "        col(\"customer_id\"),\n",
    "        when(col(\"postal_flg\").gt_eq(lit(100)).and(col(\"postal_flg\").lt_eq(lit(209))))\n",
    "            .then(lit(1))\n",
    "            .otherwise(lit(0)).alias(\"postal_flg\"),\n",
    "    ])\n",
    "    .inner_join(df_receipt.clone(), col(\"customer_id\"), col(\"customer_id\"))\n",
    "    .groupby([\"postal_flg\"]).agg([col(\"customer_id\").n_unique()])\n",
    "    .collect()\n",
    "    .unwrap()\n"
   ]
  },
  {
   "cell_type": "markdown",
   "metadata": {},
   "source": [
    "---\n",
    "> P-054: 顧客データ（df_customer）の住所（address）は、埼玉県、千葉県、東京都、神奈川県のいずれかとなっている。都道府県毎にコード値を作成し、顧客ID、住所とともに10件表示せよ。値は埼玉県を11、千葉県を12、東京都を13、神奈川県を14とすること。"
   ]
  },
  {
   "cell_type": "code",
   "execution_count": 177,
   "metadata": {
    "vscode": {
     "languageId": "rust"
    }
   },
   "outputs": [
    {
     "data": {
      "text/plain": [
       "shape: (10, 3)\n",
       "┌────────────────┬───────────────────────────────────┬───────────────┐\n",
       "│ customer_id    ┆ address                           ┆ prefecture_cd │\n",
       "│ ---            ┆ ---                               ┆ ---           │\n",
       "│ str            ┆ str                               ┆ str           │\n",
       "╞════════════════╪═══════════════════════════════════╪═══════════════╡\n",
       "│ CS021313000114 ┆ 神奈川県伊勢原市粟窪**********    ┆ 14            │\n",
       "│ CS037613000071 ┆ 東京都江東区南砂**********        ┆ 13            │\n",
       "│ CS031415000172 ┆ 東京都渋谷区代々木**********      ┆ 13            │\n",
       "│ CS028811000001 ┆ 神奈川県横浜市泉区和泉町********* ┆ 14            │\n",
       "│                ┆ *                                 ┆               │\n",
       "│ …              ┆ …                                 ┆ …             │\n",
       "│ CS015414000103 ┆ 東京都江東区北砂**********        ┆ 13            │\n",
       "│ CS029403000008 ┆ 千葉県浦安市海楽**********        ┆ 12            │\n",
       "│ CS015804000004 ┆ 東京都江東区北砂**********        ┆ 13            │\n",
       "│ CS033513000180 ┆ 神奈川県横浜市旭区善部町********* ┆ 14            │\n",
       "│                ┆ *                                 ┆               │\n",
       "└────────────────┴───────────────────────────────────┴───────────────┘"
      ]
     },
     "execution_count": 177,
     "metadata": {},
     "output_type": "execute_result"
    }
   ],
   "source": [
    "df_customer.clone()\n",
    "    .with_column(\n",
    "        when(col(\"address\").str().contains(lit(\"埼玉県\"), true)).then(lit(11))\n",
    "        .when(col(\"address\").str().contains(lit(\"千葉県\"), true)).then(lit(12))\n",
    "        .when(col(\"address\").str().contains(lit(\"東京都\"), true)).then(lit(13))\n",
    "        .when(col(\"address\").str().contains(lit(\"神奈川県\"), true)).then(lit(14))\n",
    "        .otherwise(lit(\"\")).alias(\"prefecture_cd\")\n",
    "    ).select([\n",
    "        col(\"customer_id\"),\n",
    "        col(\"address\"),\n",
    "        col(\"prefecture_cd\"),\n",
    "    ])\n",
    "    .collect()\n",
    "    .unwrap()\n",
    "    .head(Some(10))"
   ]
  },
  {
   "cell_type": "markdown",
   "metadata": {},
   "source": [
    "---\n",
    "> P-055: レシート明細（df_receipt）データの売上金額（amount）を顧客ID（customer_id）ごとに合計し、その合計金額の四分位点を求めよ。その上で、顧客ごとの売上金額合計に対して以下の基準でカテゴリ値を作成し、顧客ID、売上金額合計とともに10件表示せよ。カテゴリ値は順に1〜4とする。\n",
    ">\n",
    "> - 最小値以上第1四分位未満 ・・・ 1を付与\n",
    "> - 第1四分位以上第2四分位未満 ・・・ 2を付与\n",
    "> - 第2四分位以上第3四分位未満 ・・・ 3を付与\n",
    "> - 第3四分位以上 ・・・ 4を付与"
   ]
  },
  {
   "cell_type": "code",
   "execution_count": 181,
   "metadata": {
    "vscode": {
     "languageId": "rust"
    }
   },
   "outputs": [
    {
     "data": {
      "text/plain": [
       "shape: (10, 3)\n",
       "┌────────────────┬────────┬───────────┐\n",
       "│ customer_id    ┆ amount ┆ pct_group │\n",
       "│ ---            ┆ ---    ┆ ---       │\n",
       "│ str            ┆ i64    ┆ i32       │\n",
       "╞════════════════╪════════╪═══════════╡\n",
       "│ CS001113000004 ┆ 1298   ┆ 2         │\n",
       "│ CS001114000005 ┆ 626    ┆ 2         │\n",
       "│ CS001115000010 ┆ 3044   ┆ 3         │\n",
       "│ CS001205000004 ┆ 1988   ┆ 3         │\n",
       "│ …              ┆ …      ┆ …         │\n",
       "│ CS001212000027 ┆ 448    ┆ 1         │\n",
       "│ CS001212000031 ┆ 296    ┆ 1         │\n",
       "│ CS001212000046 ┆ 228    ┆ 1         │\n",
       "│ CS001212000070 ┆ 456    ┆ 1         │\n",
       "└────────────────┴────────┴───────────┘"
      ]
     },
     "execution_count": 181,
     "metadata": {},
     "output_type": "execute_result"
    }
   ],
   "source": [
    "df_receipt.clone()\n",
    "    .groupby([\"customer_id\"]).agg([col(\"amount\").sum()])\n",
    "    .with_column(\n",
    "        when(col(\"amount\").lt(col(\"amount\").quantile(lit(0.25), QuantileInterpolOptions::Nearest))).then(lit(1))\n",
    "        .when(col(\"amount\").lt(col(\"amount\").quantile(lit(0.50), QuantileInterpolOptions::Nearest))).then(lit(2))\n",
    "        .when(col(\"amount\").lt(col(\"amount\").quantile(lit(0.75), QuantileInterpolOptions::Nearest))).then(lit(3))\n",
    "        .otherwise(lit(4)).alias(\"pct_group\")\n",
    "    ).sort(\n",
    "        \"customer_id\",\n",
    "        SortOptions{\n",
    "            descending: false,\n",
    "            nulls_last: true,\n",
    "            multithreaded: true,\n",
    "            maintain_order: true\n",
    "        }\n",
    "    ).collect()\n",
    "    .unwrap()\n",
    "    .head(Some(10))"
   ]
  },
  {
   "cell_type": "markdown",
   "metadata": {},
   "source": [
    "---\n",
    "> P-056: 顧客データ（df_customer）の年齢（age）をもとに10歳刻みで年代を算出し、顧客ID（customer_id）、生年月日（birth_day）とともに10件表示せよ。ただし、60歳以上は全て60歳代とすること。年代を表すカテゴリ名は任意とする。"
   ]
  },
  {
   "cell_type": "code",
   "execution_count": 220,
   "metadata": {
    "vscode": {
     "languageId": "rust"
    }
   },
   "outputs": [
    {
     "data": {
      "text/plain": [
       "shape: (10, 3)\n",
       "┌────────────────┬────────────┬─────┐\n",
       "│ customer_id    ┆ birth_day  ┆ era │\n",
       "│ ---            ┆ ---        ┆ --- │\n",
       "│ str            ┆ date       ┆ i32 │\n",
       "╞════════════════╪════════════╪═════╡\n",
       "│ CS021313000114 ┆ 1981-04-29 ┆ 30  │\n",
       "│ CS037613000071 ┆ 1952-04-01 ┆ 60  │\n",
       "│ CS031415000172 ┆ 1976-10-04 ┆ 40  │\n",
       "│ CS028811000001 ┆ 1933-03-27 ┆ 60  │\n",
       "│ …              ┆ …          ┆ …   │\n",
       "│ CS015414000103 ┆ 1977-08-09 ┆ 40  │\n",
       "│ CS029403000008 ┆ 1973-08-17 ┆ 40  │\n",
       "│ CS015804000004 ┆ 1931-05-02 ┆ 60  │\n",
       "│ CS033513000180 ┆ 1962-07-11 ┆ 50  │\n",
       "└────────────────┴────────────┴─────┘"
      ]
     },
     "execution_count": 220,
     "metadata": {},
     "output_type": "execute_result"
    }
   ],
   "source": [
    "df_customer.clone()\n",
    "    .select([\n",
    "        col(\"customer_id\"),\n",
    "        col(\"birth_day\"),\n",
    "        when(col(\"age\").gt_eq(lit(60))).then(60)\n",
    "            .otherwise(((col(\"age\") / lit(10.0)).floor() * lit(10.0)).cast(DataType::Int32))\n",
    "            .alias(\"era\"),\n",
    "    ])\n",
    "    .collect()\n",
    "    .unwrap()\n",
    "    .head(Some(10))"
   ]
  },
  {
   "cell_type": "markdown",
   "metadata": {},
   "source": [
    "---\n",
    "> P-057: 056の抽出結果と性別コード（gender_cd）により、新たに性別×年代の組み合わせを表すカテゴリデータを作成し、10件表示せよ。組み合わせを表すカテゴリの値は任意とする。"
   ]
  },
  {
   "cell_type": "code",
   "execution_count": 4,
   "metadata": {
    "vscode": {
     "languageId": "rust"
    }
   },
   "outputs": [
    {
     "data": {
      "text/plain": [
       "shape: (10, 4)\n",
       "┌────────────────┬────────────┬─────┬───────────┐\n",
       "│ customer_id    ┆ birth_day  ┆ era ┆ gender_cd │\n",
       "│ ---            ┆ ---        ┆ --- ┆ ---       │\n",
       "│ str            ┆ date       ┆ i32 ┆ str       │\n",
       "╞════════════════╪════════════╪═════╪═══════════╡\n",
       "│ CS021313000114 ┆ 1981-04-29 ┆ 30  ┆ 130       │\n",
       "│ CS037613000071 ┆ 1952-04-01 ┆ 60  ┆ 960       │\n",
       "│ CS031415000172 ┆ 1976-10-04 ┆ 40  ┆ 140       │\n",
       "│ CS028811000001 ┆ 1933-03-27 ┆ 60  ┆ 160       │\n",
       "│ …              ┆ …          ┆ …   ┆ …         │\n",
       "│ CS015414000103 ┆ 1977-08-09 ┆ 40  ┆ 140       │\n",
       "│ CS029403000008 ┆ 1973-08-17 ┆ 40  ┆ 040       │\n",
       "│ CS015804000004 ┆ 1931-05-02 ┆ 60  ┆ 060       │\n",
       "│ CS033513000180 ┆ 1962-07-11 ┆ 50  ┆ 150       │\n",
       "└────────────────┴────────────┴─────┴───────────┘"
      ]
     },
     "execution_count": 4,
     "metadata": {},
     "output_type": "execute_result"
    }
   ],
   "source": [
    "df_customer.clone()\n",
    "    .with_column(\n",
    "        when(col(\"age\").gt_eq(lit(60))).then(60)\n",
    "            .otherwise(((col(\"age\") / lit(10.0)).floor() * lit(10.0)).cast(DataType::Int32))\n",
    "            .alias(\"era\"),\n",
    "    )\n",
    "    .select([\n",
    "        col(\"customer_id\"),\n",
    "        col(\"birth_day\"),\n",
    "        col(\"era\"),\n",
    "        concat_str([col(\"gender_cd\"), col(\"era\").cast(DataType::Utf8)], \"\"),\n",
    "    ])\n",
    "    .collect()\n",
    "    .unwrap()\n",
    "    .head(Some(10))"
   ]
  },
  {
   "cell_type": "markdown",
   "metadata": {},
   "source": [
    "---\n",
    "> P-058: 顧客データ（df_customer）の性別コード（gender_cd）をダミー変数化し、顧客ID（customer_id）とともに10件表示せよ。"
   ]
  },
  {
   "cell_type": "code",
   "execution_count": 8,
   "metadata": {
    "vscode": {
     "languageId": "rust"
    }
   },
   "outputs": [
    {
     "data": {
      "text/plain": [
       "shape: (10, 4)\n",
       "┌────────────────┬─────────────┬─────────────┬─────────────┐\n",
       "│ customer_id    ┆ gender_cd_0 ┆ gender_cd_1 ┆ gender_cd_9 │\n",
       "│ ---            ┆ ---         ┆ ---         ┆ ---         │\n",
       "│ str            ┆ u8          ┆ u8          ┆ u8          │\n",
       "╞════════════════╪═════════════╪═════════════╪═════════════╡\n",
       "│ CS021313000114 ┆ 0           ┆ 1           ┆ 0           │\n",
       "│ CS037613000071 ┆ 0           ┆ 0           ┆ 1           │\n",
       "│ CS031415000172 ┆ 0           ┆ 1           ┆ 0           │\n",
       "│ CS028811000001 ┆ 0           ┆ 1           ┆ 0           │\n",
       "│ …              ┆ …           ┆ …           ┆ …           │\n",
       "│ CS015414000103 ┆ 0           ┆ 1           ┆ 0           │\n",
       "│ CS029403000008 ┆ 1           ┆ 0           ┆ 0           │\n",
       "│ CS015804000004 ┆ 1           ┆ 0           ┆ 0           │\n",
       "│ CS033513000180 ┆ 0           ┆ 1           ┆ 0           │\n",
       "└────────────────┴─────────────┴─────────────┴─────────────┘"
      ]
     },
     "execution_count": 8,
     "metadata": {},
     "output_type": "execute_result"
    }
   ],
   "source": [
    "df_customer.clone()\n",
    "    .select([\n",
    "        col(\"customer_id\"),\n",
    "        col(\"gender_cd\"),\n",
    "    ])\n",
    "    .collect()\n",
    "    .unwrap()\n",
    "    .columns_to_dummies(vec![\"gender_cd\"], None, false)\n",
    "    .unwrap()\n",
    "    .head(Some(10))"
   ]
  },
  {
   "cell_type": "markdown",
   "metadata": {},
   "source": [
    "---\n",
    "> P-059: レシート明細データ（df_receipt）の売上金額（amount）を顧客ID（customer_id）ごとに合計し、売上金額合計を平均0、標準偏差1に標準化して顧客ID、売上金額合計とともに10件表示せよ。標準化に使用する標準偏差は、分散の平方根、もしくは不偏分散の平方根のどちらでも良いものとする。ただし、顧客IDが\"Z\"から始まるのものは非会員を表すため、除外して計算すること。"
   ]
  },
  {
   "cell_type": "markdown",
   "metadata": {},
   "source": [
    "TIPS:\n",
    "- query()の引数engineで\"python\"か\"numexpr\"かを選択でき、デフォルトはインストールされていればnumexprが、無ければpythonが使われます。さらに、文字列メソッドはengine=\"python\"でないとquery()内で使えません。\n"
   ]
  },
  {
   "cell_type": "code",
   "execution_count": 19,
   "metadata": {
    "vscode": {
     "languageId": "rust"
    }
   },
   "outputs": [
    {
     "data": {
      "text/plain": [
       "shape: (10, 3)\n",
       "┌────────────────┬────────┬────────────┐\n",
       "│ customer_id    ┆ amount ┆ std_amount │\n",
       "│ ---            ┆ ---    ┆ ---        │\n",
       "│ str            ┆ i64    ┆ f64        │\n",
       "╞════════════════╪════════╪════════════╡\n",
       "│ CS001113000004 ┆ 1298   ┆ -0.459378  │\n",
       "│ CS001114000005 ┆ 626    ┆ -0.70639   │\n",
       "│ CS001115000010 ┆ 3044   ┆ 0.182413   │\n",
       "│ CS001205000004 ┆ 1988   ┆ -0.205749  │\n",
       "│ …              ┆ …      ┆ …          │\n",
       "│ CS001212000027 ┆ 448    ┆ -0.771819  │\n",
       "│ CS001212000031 ┆ 296    ┆ -0.827691  │\n",
       "│ CS001212000046 ┆ 228    ┆ -0.852686  │\n",
       "│ CS001212000070 ┆ 456    ┆ -0.768879  │\n",
       "└────────────────┴────────┴────────────┘"
      ]
     },
     "execution_count": 19,
     "metadata": {},
     "output_type": "execute_result"
    }
   ],
   "source": [
    "let amount: Expr = col(\"amount\");\n",
    "\n",
    "df_receipt.clone()\n",
    "    .filter(\n",
    "        col(\"customer_id\").str().starts_with(lit(\"Z\")).not()\n",
    "    )\n",
    "    .groupby([\"customer_id\"]).agg([col(\"amount\").sum()])\n",
    "    .select([\n",
    "        col(\"customer_id\"),\n",
    "        col(\"amount\"),\n",
    "        ((amount.clone() - amount.clone().mean()) / amount.clone().std(0)).alias(\"std_amount\")\n",
    "    ])\n",
    "    .sort(\n",
    "        \"customer_id\",\n",
    "        SortOptions{\n",
    "            descending: false,\n",
    "            nulls_last: true,\n",
    "            multithreaded: true,\n",
    "            maintain_order: true\n",
    "        }\n",
    "    )\n",
    "    .collect()\n",
    "    .unwrap()\n",
    "    .head(Some(10))"
   ]
  },
  {
   "cell_type": "markdown",
   "metadata": {},
   "source": [
    "---\n",
    "> P-060: レシート明細データ（df_receipt）の売上金額（amount）を顧客ID（customer_id）ごとに合計し、売上金額合計を最小値0、最大値1に正規化して顧客ID、売上金額合計とともに10件表示せよ。ただし、顧客IDが\"Z\"から始まるのものは非会員を表すため、除外して計算すること。"
   ]
  },
  {
   "cell_type": "code",
   "execution_count": 26,
   "metadata": {
    "vscode": {
     "languageId": "rust"
    }
   },
   "outputs": [
    {
     "data": {
      "text/plain": [
       "shape: (10, 3)\n",
       "┌────────────────┬────────┬──────────────┐\n",
       "│ customer_id    ┆ amount ┆ scale_amount │\n",
       "│ ---            ┆ ---    ┆ ---          │\n",
       "│ str            ┆ i64    ┆ f64          │\n",
       "╞════════════════╪════════╪══════════════╡\n",
       "│ CS001113000004 ┆ 1298   ┆ 0.053354     │\n",
       "│ CS001114000005 ┆ 626    ┆ 0.024157     │\n",
       "│ CS001115000010 ┆ 3044   ┆ 0.129214     │\n",
       "│ CS001205000004 ┆ 1988   ┆ 0.083333     │\n",
       "│ …              ┆ …      ┆ …            │\n",
       "│ CS001212000027 ┆ 448    ┆ 0.016423     │\n",
       "│ CS001212000031 ┆ 296    ┆ 0.009819     │\n",
       "│ CS001212000046 ┆ 228    ┆ 0.006865     │\n",
       "│ CS001212000070 ┆ 456    ┆ 0.016771     │\n",
       "└────────────────┴────────┴──────────────┘"
      ]
     },
     "execution_count": 26,
     "metadata": {},
     "output_type": "execute_result"
    }
   ],
   "source": [
    "let amount: Expr = col(\"amount\");\n",
    "\n",
    "df_receipt.clone()\n",
    "    .filter(col(\"customer_id\").str().starts_with(lit(\"Z\")).not())\n",
    "    .groupby([\"customer_id\"]).agg([col(\"amount\").sum()])\n",
    "    .select([\n",
    "        col(\"customer_id\"),\n",
    "        col(\"amount\"),\n",
    "        ((amount.clone() - amount.clone().min()).cast(DataType::Float64) / (amount.clone().max() - amount.clone().min())).alias(\"scale_amount\")\n",
    "    ])\n",
    "    .sort(\n",
    "        \"customer_id\",\n",
    "        SortOptions{\n",
    "            descending: false,\n",
    "            nulls_last: true,\n",
    "            multithreaded: true,\n",
    "            maintain_order: true\n",
    "        }\n",
    "    )\n",
    "    .collect()\n",
    "    .unwrap()\n",
    "    .head(Some(10))"
   ]
  },
  {
   "cell_type": "markdown",
   "metadata": {},
   "source": [
    "---\n",
    "> P-061: レシート明細データ（df_receipt）の売上金額（amount）を顧客ID（customer_id）ごとに合計し、売上金額合計を常用対数化（底10）して顧客ID、売上金額合計とともに10件表示せよ。ただし、顧客IDが\"Z\"から始まるのものは非会員を表すため、除外して計算すること。"
   ]
  },
  {
   "cell_type": "code",
   "execution_count": 37,
   "metadata": {
    "vscode": {
     "languageId": "rust"
    }
   },
   "outputs": [
    {
     "data": {
      "text/plain": [
       "shape: (10, 3)\n",
       "┌────────────────┬────────┬────────────┐\n",
       "│ customer_id    ┆ amount ┆ log_amount │\n",
       "│ ---            ┆ ---    ┆ ---        │\n",
       "│ str            ┆ f64    ┆ f64        │\n",
       "╞════════════════╪════════╪════════════╡\n",
       "│ CS001113000004 ┆ 1298.5 ┆ 3.113442   │\n",
       "│ CS001114000005 ┆ 626.5  ┆ 2.796921   │\n",
       "│ CS001115000010 ┆ 3044.5 ┆ 3.483516   │\n",
       "│ CS001205000004 ┆ 1988.5 ┆ 3.298526   │\n",
       "│ …              ┆ …      ┆ …          │\n",
       "│ CS001212000027 ┆ 448.5  ┆ 2.651762   │\n",
       "│ CS001212000031 ┆ 296.5  ┆ 2.472025   │\n",
       "│ CS001212000046 ┆ 228.5  ┆ 2.358886   │\n",
       "│ CS001212000070 ┆ 456.5  ┆ 2.659441   │\n",
       "└────────────────┴────────┴────────────┘"
      ]
     },
     "execution_count": 37,
     "metadata": {},
     "output_type": "execute_result"
    }
   ],
   "source": [
    "df_receipt.clone()\n",
    "    .filter(col(\"customer_id\").str().starts_with(lit(\"Z\")).not())\n",
    "    .groupby([\"customer_id\"]).agg([col(\"amount\").sum() + lit(0.5)]) // +0.5の理由?\n",
    "    .with_column(col(\"amount\").log(10.0).alias(\"log_amount\"))\n",
    "    .sort(\n",
    "        \"customer_id\",\n",
    "        SortOptions{\n",
    "            descending: false,\n",
    "            nulls_last: true,\n",
    "            multithreaded: true,\n",
    "            maintain_order: true\n",
    "        }\n",
    "    )\n",
    "    .collect()\n",
    "    .unwrap()\n",
    "    .head(Some(10))"
   ]
  },
  {
   "cell_type": "markdown",
   "metadata": {},
   "source": [
    "---\n",
    "> P-062: レシート明細データ（df_receipt）の売上金額（amount）を顧客ID（customer_id）ごとに合計し、売上金額合計を自然対数化（底e）して顧客ID、売上金額合計とともに10件表示せよ。ただし、顧客IDが\"Z\"から始まるのものは非会員を表すため、除外して計算すること。"
   ]
  },
  {
   "cell_type": "code",
   "execution_count": 39,
   "metadata": {
    "vscode": {
     "languageId": "rust"
    }
   },
   "outputs": [
    {
     "data": {
      "text/plain": [
       "shape: (10, 3)\n",
       "┌────────────────┬────────┬────────────┐\n",
       "│ customer_id    ┆ amount ┆ log_amount │\n",
       "│ ---            ┆ ---    ┆ ---        │\n",
       "│ str            ┆ f64    ┆ f64        │\n",
       "╞════════════════╪════════╪════════════╡\n",
       "│ CS001113000004 ┆ 1297.5 ┆ 7.168965   │\n",
       "│ CS001114000005 ┆ 625.5  ┆ 6.440149   │\n",
       "│ CS001115000010 ┆ 3043.5 ┆ 8.021092   │\n",
       "│ CS001205000004 ┆ 1987.5 ┆ 7.595136   │\n",
       "│ …              ┆ …      ┆ …          │\n",
       "│ CS001212000027 ┆ 447.5  ┆ 6.105909   │\n",
       "│ CS001212000031 ┆ 295.5  ┆ 5.692047   │\n",
       "│ CS001212000046 ┆ 227.5  ┆ 5.431536   │\n",
       "│ CS001212000070 ┆ 455.5  ┆ 6.123589   │\n",
       "└────────────────┴────────┴────────────┘"
      ]
     },
     "execution_count": 39,
     "metadata": {},
     "output_type": "execute_result"
    }
   ],
   "source": [
    "df_receipt.clone()\n",
    "    .filter(col(\"customer_id\").str().starts_with(lit(\"Z\")).not())\n",
    "    .groupby([\"customer_id\"]).agg([col(\"amount\").sum() - lit(0.5)]) // -0.5の理由?\n",
    "    .with_column(col(\"amount\").log1p().alias(\"log_amount\"))  // log1pはln(x + 1)を計算している\n",
    "    .sort(\n",
    "        \"customer_id\",\n",
    "        SortOptions{\n",
    "            descending: false,\n",
    "            nulls_last: true,\n",
    "            multithreaded: true,\n",
    "            maintain_order: true\n",
    "        }\n",
    "    )\n",
    "    .collect()\n",
    "    .unwrap()\n",
    "    .head(Some(10))"
   ]
  },
  {
   "cell_type": "markdown",
   "metadata": {},
   "source": [
    "---\n",
    "> P-063: 商品データ（df_product）の単価（unit_price）と原価（unit_cost）から各商品の利益額を算出し、結果を10件表示せよ。"
   ]
  },
  {
   "cell_type": "code",
   "execution_count": 40,
   "metadata": {
    "vscode": {
     "languageId": "rust"
    }
   },
   "outputs": [
    {
     "data": {
      "text/plain": [
       "shape: (10, 7)\n",
       "┌────────────┬───────────────┬───────────────┬──────────────┬────────────┬───────────┬─────────────┐\n",
       "│ product_cd ┆ category_majo ┆ category_medi ┆ category_sma ┆ unit_price ┆ unit_cost ┆ unit_profit │\n",
       "│ ---        ┆ r_cd          ┆ um_cd         ┆ ll_cd        ┆ ---        ┆ ---       ┆ ---         │\n",
       "│ str        ┆ ---           ┆ ---           ┆ ---          ┆ i64        ┆ i64       ┆ i64         │\n",
       "│            ┆ str           ┆ str           ┆ str          ┆            ┆           ┆             │\n",
       "╞════════════╪═══════════════╪═══════════════╪══════════════╪════════════╪═══════════╪═════════════╡\n",
       "│ P040101001 ┆ 04            ┆ 0401          ┆ 040101       ┆ 198        ┆ 149       ┆ 49          │\n",
       "│ P040101002 ┆ 04            ┆ 0401          ┆ 040101       ┆ 218        ┆ 164       ┆ 54          │\n",
       "│ P040101003 ┆ 04            ┆ 0401          ┆ 040101       ┆ 230        ┆ 173       ┆ 57          │\n",
       "│ P040101004 ┆ 04            ┆ 0401          ┆ 040101       ┆ 248        ┆ 186       ┆ 62          │\n",
       "│ …          ┆ …             ┆ …             ┆ …            ┆ …          ┆ …         ┆ …           │\n",
       "│ P040101007 ┆ 04            ┆ 0401          ┆ 040101       ┆ 338        ┆ 254       ┆ 84          │\n",
       "│ P040101008 ┆ 04            ┆ 0401          ┆ 040101       ┆ 420        ┆ 315       ┆ 105         │\n",
       "│ P040101009 ┆ 04            ┆ 0401          ┆ 040101       ┆ 498        ┆ 374       ┆ 124         │\n",
       "│ P040101010 ┆ 04            ┆ 0401          ┆ 040101       ┆ 580        ┆ 435       ┆ 145         │\n",
       "└────────────┴───────────────┴───────────────┴──────────────┴────────────┴───────────┴─────────────┘"
      ]
     },
     "execution_count": 40,
     "metadata": {},
     "output_type": "execute_result"
    }
   ],
   "source": [
    "df_product.clone()\n",
    "    .with_column((col(\"unit_price\") - col(\"unit_cost\")).alias(\"unit_profit\"))\n",
    "    .collect()\n",
    "    .unwrap()\n",
    "    .head(Some(10))"
   ]
  },
  {
   "cell_type": "markdown",
   "metadata": {},
   "source": [
    "---\n",
    "> P-064: 商品データ（df_product）の単価（unit_price）と原価（unit_cost）から、各商品の利益率の全体平均を算出せよ。ただし、単価と原価には欠損が生じていることに注意せよ。"
   ]
  },
  {
   "cell_type": "code",
   "execution_count": 46,
   "metadata": {
    "vscode": {
     "languageId": "rust"
    }
   },
   "outputs": [
    {
     "data": {
      "text/plain": [
       "shape: (1, 1)\n",
       "┌──────────────────┐\n",
       "│ unit_profit_rate │\n",
       "│ ---              │\n",
       "│ f64              │\n",
       "╞══════════════════╡\n",
       "│ 0.249114         │\n",
       "└──────────────────┘"
      ]
     },
     "execution_count": 46,
     "metadata": {},
     "output_type": "execute_result"
    }
   ],
   "source": [
    "df_product.clone()\n",
    "    .select([((col(\"unit_price\") - col(\"unit_cost\")).cast(DataType::Float64) / col(\"unit_price\")).alias(\"unit_profit_rate\")])\n",
    "    .mean()\n",
    "    .collect()\n",
    "    .unwrap()"
   ]
  },
  {
   "cell_type": "markdown",
   "metadata": {},
   "source": [
    "---\n",
    "> P-065: 商品データ（df_product）の各商品について、利益率が30%となる新たな単価を求めよ。ただし、1円未満は切り捨てること。そして結果を10件表示させ、利益率がおよそ30％付近であることを確認せよ。ただし、単価（unit_price）と原価（unit_cost）には欠損が生じていることに注意せよ。"
   ]
  },
  {
   "cell_type": "code",
   "execution_count": 58,
   "metadata": {
    "vscode": {
     "languageId": "rust"
    }
   },
   "outputs": [
    {
     "data": {
      "text/plain": [
       "shape: (10, 5)\n",
       "┌────────────┬────────────┬───────────┬───────────┬─────────────────┐\n",
       "│ product_cd ┆ unit_price ┆ unit_cost ┆ new_price ┆ new_profit_rate │\n",
       "│ ---        ┆ ---        ┆ ---       ┆ ---       ┆ ---             │\n",
       "│ str        ┆ i64        ┆ i64       ┆ f64       ┆ f64             │\n",
       "╞════════════╪════════════╪═══════════╪═══════════╪═════════════════╡\n",
       "│ P040101001 ┆ 198        ┆ 149       ┆ 212.0     ┆ 0.29717         │\n",
       "│ P040101002 ┆ 218        ┆ 164       ┆ 234.0     ┆ 0.299145        │\n",
       "│ P040101003 ┆ 230        ┆ 173       ┆ 247.0     ┆ 0.299595        │\n",
       "│ P040101004 ┆ 248        ┆ 186       ┆ 265.0     ┆ 0.298113        │\n",
       "│ …          ┆ …          ┆ …         ┆ …         ┆ …               │\n",
       "│ P040101007 ┆ 338        ┆ 254       ┆ 362.0     ┆ 0.298343        │\n",
       "│ P040101008 ┆ 420        ┆ 315       ┆ 450.0     ┆ 0.3             │\n",
       "│ P040101009 ┆ 498        ┆ 374       ┆ 534.0     ┆ 0.299625        │\n",
       "│ P040101010 ┆ 580        ┆ 435       ┆ 621.0     ┆ 0.299517        │\n",
       "└────────────┴────────────┴───────────┴───────────┴─────────────────┘"
      ]
     },
     "execution_count": 58,
     "metadata": {},
     "output_type": "execute_result"
    }
   ],
   "source": [
    "df_product.clone()\n",
    "    .select([\n",
    "        col(\"product_cd\"),\n",
    "        col(\"unit_price\"),\n",
    "        col(\"unit_cost\"),\n",
    "        (col(\"unit_cost\") / lit(0.7)).floor().alias(\"new_price\"),\n",
    "    ])\n",
    "    .with_column(((col(\"new_price\") - col(\"unit_cost\")) / col(\"new_price\")).alias(\"new_profit_rate\"))\n",
    "    .collect()\n",
    "    .unwrap()\n",
    "    .head(Some(10))"
   ]
  },
  {
   "cell_type": "markdown",
   "metadata": {},
   "source": [
    "---\n",
    "> P-066: 商品データ（df_product）の各商品について、利益率が30%となる新たな単価を求めよ。今回は、1円未満を丸めること（四捨五入または偶数への丸めで良い）。そして結果を10件表示させ、利益率がおよそ30％付近であることを確認せよ。ただし、単価（unit_price）と原価（unit_cost）には欠損が生じていることに注意せよ。"
   ]
  },
  {
   "cell_type": "code",
   "execution_count": 60,
   "metadata": {
    "vscode": {
     "languageId": "rust"
    }
   },
   "outputs": [
    {
     "data": {
      "text/plain": [
       "shape: (10, 5)\n",
       "┌────────────┬────────────┬───────────┬───────────┬─────────────────┐\n",
       "│ product_cd ┆ unit_price ┆ unit_cost ┆ new_price ┆ new_profit_rate │\n",
       "│ ---        ┆ ---        ┆ ---       ┆ ---       ┆ ---             │\n",
       "│ str        ┆ i64        ┆ i64       ┆ f64       ┆ f64             │\n",
       "╞════════════╪════════════╪═══════════╪═══════════╪═════════════════╡\n",
       "│ P040101001 ┆ 198        ┆ 149       ┆ 213.0     ┆ 0.300469        │\n",
       "│ P040101002 ┆ 218        ┆ 164       ┆ 234.0     ┆ 0.299145        │\n",
       "│ P040101003 ┆ 230        ┆ 173       ┆ 247.0     ┆ 0.299595        │\n",
       "│ P040101004 ┆ 248        ┆ 186       ┆ 266.0     ┆ 0.300752        │\n",
       "│ …          ┆ …          ┆ …         ┆ …         ┆ …               │\n",
       "│ P040101007 ┆ 338        ┆ 254       ┆ 363.0     ┆ 0.300275        │\n",
       "│ P040101008 ┆ 420        ┆ 315       ┆ 450.0     ┆ 0.3             │\n",
       "│ P040101009 ┆ 498        ┆ 374       ┆ 534.0     ┆ 0.299625        │\n",
       "│ P040101010 ┆ 580        ┆ 435       ┆ 621.0     ┆ 0.299517        │\n",
       "└────────────┴────────────┴───────────┴───────────┴─────────────────┘"
      ]
     },
     "execution_count": 60,
     "metadata": {},
     "output_type": "execute_result"
    }
   ],
   "source": [
    "df_product.clone()\n",
    "    .select([\n",
    "        col(\"product_cd\"),\n",
    "        col(\"unit_price\"),\n",
    "        col(\"unit_cost\"),\n",
    "        (col(\"unit_cost\") / lit(0.7)).round(0).alias(\"new_price\"),\n",
    "    ])\n",
    "    .with_column(((col(\"new_price\") - col(\"unit_cost\")) / col(\"new_price\")).alias(\"new_profit_rate\"))\n",
    "    .collect()\n",
    "    .unwrap()\n",
    "    .head(Some(10))"
   ]
  },
  {
   "cell_type": "markdown",
   "metadata": {},
   "source": [
    "---\n",
    "> P-067: 商品データ（df_product）の各商品について、利益率が30%となる新たな単価を求めよ。今回は、1円未満を切り上げること。そして結果を10件表示させ、利益率がおよそ30％付近であることを確認せよ。ただし、単価（unit_price）と原価（unit_cost）には欠損が生じていることに注意せよ。"
   ]
  },
  {
   "cell_type": "code",
   "execution_count": 61,
   "metadata": {
    "vscode": {
     "languageId": "rust"
    }
   },
   "outputs": [
    {
     "data": {
      "text/plain": [
       "shape: (10, 5)\n",
       "┌────────────┬────────────┬───────────┬───────────┬─────────────────┐\n",
       "│ product_cd ┆ unit_price ┆ unit_cost ┆ new_price ┆ new_profit_rate │\n",
       "│ ---        ┆ ---        ┆ ---       ┆ ---       ┆ ---             │\n",
       "│ str        ┆ i64        ┆ i64       ┆ f64       ┆ f64             │\n",
       "╞════════════╪════════════╪═══════════╪═══════════╪═════════════════╡\n",
       "│ P040101001 ┆ 198        ┆ 149       ┆ 213.0     ┆ 0.300469        │\n",
       "│ P040101002 ┆ 218        ┆ 164       ┆ 235.0     ┆ 0.302128        │\n",
       "│ P040101003 ┆ 230        ┆ 173       ┆ 248.0     ┆ 0.302419        │\n",
       "│ P040101004 ┆ 248        ┆ 186       ┆ 266.0     ┆ 0.300752        │\n",
       "│ …          ┆ …          ┆ …         ┆ …         ┆ …               │\n",
       "│ P040101007 ┆ 338        ┆ 254       ┆ 363.0     ┆ 0.300275        │\n",
       "│ P040101008 ┆ 420        ┆ 315       ┆ 451.0     ┆ 0.301552        │\n",
       "│ P040101009 ┆ 498        ┆ 374       ┆ 535.0     ┆ 0.300935        │\n",
       "│ P040101010 ┆ 580        ┆ 435       ┆ 622.0     ┆ 0.300643        │\n",
       "└────────────┴────────────┴───────────┴───────────┴─────────────────┘"
      ]
     },
     "execution_count": 61,
     "metadata": {},
     "output_type": "execute_result"
    }
   ],
   "source": [
    "df_product.clone()\n",
    "    .select([\n",
    "        col(\"product_cd\"),\n",
    "        col(\"unit_price\"),\n",
    "        col(\"unit_cost\"),\n",
    "        (col(\"unit_cost\") / lit(0.7)).ceil().alias(\"new_price\"),\n",
    "    ])\n",
    "    .with_column(((col(\"new_price\") - col(\"unit_cost\")) / col(\"new_price\")).alias(\"new_profit_rate\"))\n",
    "    .collect()\n",
    "    .unwrap()\n",
    "    .head(Some(10))"
   ]
  },
  {
   "cell_type": "markdown",
   "metadata": {},
   "source": [
    "---\n",
    "> P-068: 商品データ（df_product）の各商品について、消費税率10％の税込み金額を求めよ。1円未満の端数は切り捨てとし、結果を10件表示せよ。ただし、単価（unit_price）には欠損が生じていることに注意せよ。"
   ]
  },
  {
   "cell_type": "code",
   "execution_count": 65,
   "metadata": {
    "vscode": {
     "languageId": "rust"
    }
   },
   "outputs": [
    {
     "data": {
      "text/plain": [
       "shape: (10, 3)\n",
       "┌────────────┬────────────┬───────────┐\n",
       "│ product_cd ┆ unit_price ┆ tax_price │\n",
       "│ ---        ┆ ---        ┆ ---       │\n",
       "│ str        ┆ i64        ┆ f64       │\n",
       "╞════════════╪════════════╪═══════════╡\n",
       "│ P040101001 ┆ 198        ┆ 217.0     │\n",
       "│ P040101002 ┆ 218        ┆ 239.0     │\n",
       "│ P040101003 ┆ 230        ┆ 253.0     │\n",
       "│ P040101004 ┆ 248        ┆ 272.0     │\n",
       "│ …          ┆ …          ┆ …         │\n",
       "│ P040101007 ┆ 338        ┆ 371.0     │\n",
       "│ P040101008 ┆ 420        ┆ 462.0     │\n",
       "│ P040101009 ┆ 498        ┆ 547.0     │\n",
       "│ P040101010 ┆ 580        ┆ 638.0     │\n",
       "└────────────┴────────────┴───────────┘"
      ]
     },
     "execution_count": 65,
     "metadata": {},
     "output_type": "execute_result"
    }
   ],
   "source": [
    "df_product.clone()\n",
    "    .select([\n",
    "        col(\"product_cd\"),\n",
    "        col(\"unit_price\"),\n",
    "        (col(\"unit_price\") * lit(1.1)).floor().alias(\"tax_price\"),\n",
    "    ])\n",
    "    .collect()\n",
    "    .unwrap()\n",
    "    .head(Some(10))"
   ]
  },
  {
   "cell_type": "markdown",
   "metadata": {},
   "source": [
    "---\n",
    "> P-069: レシート明細データ（df_receipt）と商品データ（df_product）を結合し、顧客毎に全商品の売上金額合計と、カテゴリ大区分コード（category_major_cd）が\"07\"（瓶詰缶詰）の売上金額合計を計算の上、両者の比率を求めよ。抽出対象はカテゴリ大区分コード\"07\"（瓶詰缶詰）の売上実績がある顧客のみとし、結果を10件表示せよ。"
   ]
  },
  {
   "cell_type": "code",
   "execution_count": 72,
   "metadata": {
    "vscode": {
     "languageId": "rust"
    }
   },
   "outputs": [
    {
     "data": {
      "text/plain": [
       "shape: (10, 4)\n",
       "┌────────────────┬─────────┬────────┬────────────┐\n",
       "│ customer_id    ┆ sum_all ┆ sum_07 ┆ sales_rate │\n",
       "│ ---            ┆ ---     ┆ ---    ┆ ---        │\n",
       "│ str            ┆ i64     ┆ i64    ┆ f64        │\n",
       "╞════════════════╪═════════╪════════╪════════════╡\n",
       "│ CS001113000004 ┆ 1298    ┆ 1298   ┆ 1.0        │\n",
       "│ CS001114000005 ┆ 626     ┆ 486    ┆ 0.776358   │\n",
       "│ CS001115000010 ┆ 3044    ┆ 2694   ┆ 0.88502    │\n",
       "│ CS001205000004 ┆ 1988    ┆ 346    ┆ 0.174044   │\n",
       "│ …              ┆ …       ┆ …      ┆ …          │\n",
       "│ CS001212000031 ┆ 296     ┆ 296    ┆ 1.0        │\n",
       "│ CS001212000046 ┆ 228     ┆ 108    ┆ 0.473684   │\n",
       "│ CS001212000070 ┆ 456     ┆ 308    ┆ 0.675439   │\n",
       "│ CS001213000018 ┆ 243     ┆ 145    ┆ 0.596708   │\n",
       "└────────────────┴─────────┴────────┴────────────┘"
      ]
     },
     "execution_count": 72,
     "metadata": {},
     "output_type": "execute_result"
    }
   ],
   "source": [
    "df_receipt.clone().inner_join(df_product.clone(), col(\"product_cd\"), col(\"product_cd\"))\n",
    "    .groupby([\"customer_id\"]).agg([\n",
    "        col(\"amount\").sum().alias(\"sum_all\"),\n",
    "        col(\"amount\").filter(col(\"category_major_cd\").eq(lit(\"07\"))).sum().alias(\"sum_07\"),\n",
    "    ])\n",
    "    .with_column(\n",
    "        (col(\"sum_07\") / col(\"sum_all\").cast(DataType::Float64)).alias(\"sales_rate\")\n",
    "    )\n",
    "    .filter(col(\"sum_07\").gt(lit(0)))\n",
    "    .sort(\n",
    "        \"customer_id\",\n",
    "        SortOptions{\n",
    "            descending: false,\n",
    "            nulls_last: true,\n",
    "            multithreaded: true,\n",
    "            maintain_order: true\n",
    "        }\n",
    "    )\n",
    "    .collect()\n",
    "    .unwrap()\n",
    "    .head(Some(10))\n"
   ]
  },
  {
   "cell_type": "markdown",
   "metadata": {},
   "source": [
    "---\n",
    "> P-070: レシート明細データ（df_receipt）の売上日（sales_ymd）に対し、顧客データ（df_customer）の会員申込日（application_date）からの経過日数を計算し、顧客ID（customer_id）、売上日、会員申込日とともに10件表示せよ（sales_ymdは数値、application_dateは文字列でデータを保持している点に注意）。"
   ]
  },
  {
   "cell_type": "code",
   "execution_count": 102,
   "metadata": {
    "vscode": {
     "languageId": "rust"
    }
   },
   "outputs": [
    {
     "data": {
      "text/plain": [
       "shape: (10, 4)\n",
       "┌────────────────┬────────────┬──────────────────┬──────────────┐\n",
       "│ customer_id    ┆ sales_ymd  ┆ application_date ┆ elapsed_days │\n",
       "│ ---            ┆ ---        ┆ ---              ┆ ---          │\n",
       "│ str            ┆ date       ┆ date             ┆ duration[ms] │\n",
       "╞════════════════╪════════════╪══════════════════╪══════════════╡\n",
       "│ CS006214000001 ┆ 2018-11-03 ┆ 2015-02-01       ┆ 1371d        │\n",
       "│ ZZ000000000000 ┆ 2017-05-04 ┆ null             ┆ null         │\n",
       "│ CS026515000042 ┆ 2019-06-03 ┆ 2015-07-21       ┆ 1413d        │\n",
       "│ CS026414000062 ┆ 2017-03-06 ┆ 2015-06-10       ┆ 635d         │\n",
       "│ …              ┆ …          ┆ …                ┆ …            │\n",
       "│ ZZ000000000000 ┆ 2017-08-29 ┆ null             ┆ null         │\n",
       "│ ZZ000000000000 ┆ 2019-06-23 ┆ null             ┆ null         │\n",
       "│ CS018205000001 ┆ 2018-09-11 ┆ 2015-05-02       ┆ 1228d        │\n",
       "│ CS008515000124 ┆ 2019-05-09 ┆ 2015-09-16       ┆ 1331d        │\n",
       "└────────────────┴────────────┴──────────────────┴──────────────┘"
      ]
     },
     "execution_count": 102,
     "metadata": {},
     "output_type": "execute_result"
    }
   ],
   "source": [
    "let options: StrptimeOptions = StrptimeOptions {\n",
    "    format: Some(\"%Y%m%d\".into()),\n",
    "    strict: false,\n",
    "    exact: true,\n",
    "    cache: true,\n",
    "};\n",
    "\n",
    "df_receipt.clone()\n",
    "    .select([col(\"customer_id\"), col(\"sales_ymd\")])\n",
    "    .unique(\n",
    "        Some(vec![\"customer_id\".to_string(), \"sales_ymd\".to_string()]),\n",
    "        UniqueKeepStrategy::First,\n",
    "    )\n",
    "    .left_join(df_customer.clone(), col(\"customer_id\"), col(\"customer_id\"))\n",
    "    .select([\n",
    "        col(\"customer_id\"),\n",
    "        col(\"sales_ymd\").cast(DataType::Utf8).str().to_date(options.clone()),\n",
    "        col(\"application_date\").str().to_date(options.clone()),\n",
    "    ])\n",
    "    .with_column((col(\"sales_ymd\") - col(\"application_date\")).alias(\"elapsed_days\"))\n",
    "    .collect()\n",
    "    .unwrap()\n",
    "    .head(Some(10))\n"
   ]
  },
  {
   "cell_type": "markdown",
   "metadata": {},
   "source": [
    "---\n",
    "> P-071: レシート明細データ（df_receipt）の売上日（sales_ymd）に対し、顧客データ（df_customer）の会員申込日（application_date）からの経過月数を計算し、顧客ID（customer_id）、売上日、会員申込日とともに10件表示せよ（sales_ymdは数値、application_dateは文字列でデータを保持している点に注意）。1ヶ月未満は切り捨てること。"
   ]
  },
  {
   "cell_type": "code",
   "execution_count": 8,
   "metadata": {
    "vscode": {
     "languageId": "rust"
    }
   },
   "outputs": [
    {
     "data": {
      "text/plain": [
       "shape: (10, 4)\n",
       "┌────────────────┬────────────┬──────────────────┬──────────────┐\n",
       "│ customer_id    ┆ sales_ymd  ┆ application_date ┆ elapsed_days │\n",
       "│ ---            ┆ ---        ┆ ---              ┆ ---          │\n",
       "│ str            ┆ date       ┆ date             ┆ i64          │\n",
       "╞════════════════╪════════════╪══════════════════╪══════════════╡\n",
       "│ CS006214000001 ┆ 2018-11-03 ┆ 2015-02-01       ┆ 45           │\n",
       "│ CS006214000001 ┆ 2019-09-08 ┆ 2015-02-01       ┆ 55           │\n",
       "│ CS006214000001 ┆ 2018-01-31 ┆ 2015-02-01       ┆ 35           │\n",
       "│ CS006214000001 ┆ 2019-04-10 ┆ 2015-02-01       ┆ 50           │\n",
       "│ …              ┆ …          ┆ …                ┆ …            │\n",
       "│ CS006214000001 ┆ 2019-06-01 ┆ 2015-02-01       ┆ 51           │\n",
       "│ CS006214000001 ┆ 2017-06-08 ┆ 2015-02-01       ┆ 28           │\n",
       "│ CS006214000001 ┆ 2018-10-28 ┆ 2015-02-01       ┆ 44           │\n",
       "│ CS006214000001 ┆ 2017-07-05 ┆ 2015-02-01       ┆ 29           │\n",
       "└────────────────┴────────────┴──────────────────┴──────────────┘"
      ]
     },
     "execution_count": 8,
     "metadata": {},
     "output_type": "execute_result"
    }
   ],
   "source": [
    "let options: StrptimeOptions = StrptimeOptions {\n",
    "    format: Some(\"%Y%m%d\".into()),\n",
    "    strict: false,\n",
    "    exact: true,\n",
    "    cache: true,\n",
    "};\n",
    "\n",
    "df_receipt.clone()\n",
    "    .select([col(\"customer_id\"), col(\"sales_ymd\")])\n",
    "    .unique(\n",
    "        Some(vec![\"customer_id\".to_string(), \"sales_ymd\".to_string()]),\n",
    "        UniqueKeepStrategy::First,\n",
    "    )\n",
    "    .left_join(df_customer.clone(), col(\"customer_id\"), col(\"customer_id\"))\n",
    "    .select([\n",
    "        col(\"customer_id\"),\n",
    "        col(\"sales_ymd\").cast(DataType::Utf8).str().to_date(options.clone()),\n",
    "        col(\"application_date\").str().to_date(options.clone()),\n",
    "    ])\n",
    "    .with_column(((col(\"sales_ymd\") - col(\"application_date\")).cast(DataType::Int64) / (lit(2_629_746_000 as i64))).alias(\"elapsed_days\"))\n",
    "    .filter(col(\"customer_id\").eq(lit(\"CS006214000001\")))\n",
    "    .collect()\n",
    "    .unwrap()\n",
    "    .head(Some(10))\n"
   ]
  },
  {
   "cell_type": "markdown",
   "metadata": {},
   "source": [
    "---\n",
    "> P-072: レシート明細データ（df_receipt）の売上日（df_customer）に対し、顧客データ（df_customer）の会員申込日（application_date）からの経過年数を計算し、顧客ID（customer_id）、売上日、会員申込日とともに10件表示せよ（sales_ymdは数値、application_dateは文字列でデータを保持している点に注意）。1年未満は切り捨てること。"
   ]
  },
  {
   "cell_type": "code",
   "execution_count": 9,
   "metadata": {
    "vscode": {
     "languageId": "rust"
    }
   },
   "outputs": [
    {
     "data": {
      "text/plain": [
       "shape: (10, 4)\n",
       "┌────────────────┬────────────┬──────────────────┬──────────────┐\n",
       "│ customer_id    ┆ sales_ymd  ┆ application_date ┆ elapsed_days │\n",
       "│ ---            ┆ ---        ┆ ---              ┆ ---          │\n",
       "│ str            ┆ date       ┆ date             ┆ i64          │\n",
       "╞════════════════╪════════════╪══════════════════╪══════════════╡\n",
       "│ CS006214000001 ┆ 2018-11-03 ┆ 2015-02-01       ┆ 3            │\n",
       "│ CS006214000001 ┆ 2017-05-09 ┆ 2015-02-01       ┆ 2            │\n",
       "│ CS006214000001 ┆ 2018-01-31 ┆ 2015-02-01       ┆ 3            │\n",
       "│ CS006214000001 ┆ 2017-07-05 ┆ 2015-02-01       ┆ 2            │\n",
       "│ …              ┆ …          ┆ …                ┆ …            │\n",
       "│ CS006214000001 ┆ 2019-04-10 ┆ 2015-02-01       ┆ 4            │\n",
       "│ CS006214000001 ┆ 2019-05-07 ┆ 2015-02-01       ┆ 4            │\n",
       "│ CS006214000001 ┆ 2017-06-08 ┆ 2015-02-01       ┆ 2            │\n",
       "│ CS006214000001 ┆ 2018-10-28 ┆ 2015-02-01       ┆ 3            │\n",
       "└────────────────┴────────────┴──────────────────┴──────────────┘"
      ]
     },
     "execution_count": 9,
     "metadata": {},
     "output_type": "execute_result"
    }
   ],
   "source": [
    "let options: StrptimeOptions = StrptimeOptions {\n",
    "    format: Some(\"%Y%m%d\".into()),\n",
    "    strict: false,\n",
    "    exact: true,\n",
    "    cache: true,\n",
    "};\n",
    "\n",
    "df_receipt.clone()\n",
    "    .select([col(\"customer_id\"), col(\"sales_ymd\")])\n",
    "    .unique(\n",
    "        Some(vec![\"customer_id\".to_string(), \"sales_ymd\".to_string()]),\n",
    "        UniqueKeepStrategy::First,\n",
    "    )\n",
    "    .left_join(df_customer.clone(), col(\"customer_id\"), col(\"customer_id\"))\n",
    "    .select([\n",
    "        col(\"customer_id\"),\n",
    "        col(\"sales_ymd\").cast(DataType::Utf8).str().to_date(options.clone()),\n",
    "        col(\"application_date\").str().to_date(options.clone()),\n",
    "    ])\n",
    "    .with_column(((col(\"sales_ymd\") - col(\"application_date\")).cast(DataType::Int64) / (lit(31_536_000_000 as i64))).alias(\"elapsed_years\"))\n",
    "    .filter(col(\"customer_id\").eq(lit(\"CS006214000001\")))\n",
    "    .collect()\n",
    "    .unwrap()\n",
    "    .head(Some(10))\n"
   ]
  },
  {
   "cell_type": "markdown",
   "metadata": {},
   "source": [
    "---\n",
    "> P-073: レシート明細データ（df_receipt）の売上日（sales_ymd）に対し、顧客データ（df_customer）の会員申込日（application_date）からのエポック秒による経過時間を計算し、顧客ID（customer_id）、売上日、会員申込日とともに10件表示せよ（なお、sales_ymdは数値、application_dateは文字列でデータを保持している点に注意）。なお、時間情報は保有していないため各日付は0時0分0秒を表すものとする。"
   ]
  },
  {
   "cell_type": "code",
   "execution_count": 22,
   "metadata": {
    "vscode": {
     "languageId": "rust"
    }
   },
   "outputs": [
    {
     "data": {
      "text/plain": [
       "shape: (10, 4)\n",
       "┌────────────────┬────────────┬──────────────────┬───────────────┐\n",
       "│ customer_id    ┆ sales_ymd  ┆ application_date ┆ elapsed_epoch │\n",
       "│ ---            ┆ ---        ┆ ---              ┆ ---           │\n",
       "│ str            ┆ date       ┆ date             ┆ i64           │\n",
       "╞════════════════╪════════════╪══════════════════╪═══════════════╡\n",
       "│ CS006214000001 ┆ 2019-09-08 ┆ 2015-02-01       ┆ 145152000     │\n",
       "│ CS006214000001 ┆ 2017-07-05 ┆ 2015-02-01       ┆ 76464000      │\n",
       "│ CS006214000001 ┆ 2019-05-07 ┆ 2015-02-01       ┆ 134438400     │\n",
       "│ CS006214000001 ┆ 2017-05-09 ┆ 2015-02-01       ┆ 71539200      │\n",
       "│ …              ┆ …          ┆ …                ┆ …             │\n",
       "│ CS006214000001 ┆ 2019-04-10 ┆ 2015-02-01       ┆ 132105600     │\n",
       "│ CS006214000001 ┆ 2018-11-03 ┆ 2015-02-01       ┆ 118454400     │\n",
       "│ CS006214000001 ┆ 2017-06-08 ┆ 2015-02-01       ┆ 74131200      │\n",
       "│ CS006214000001 ┆ 2018-01-31 ┆ 2015-02-01       ┆ 94608000      │\n",
       "└────────────────┴────────────┴──────────────────┴───────────────┘"
      ]
     },
     "execution_count": 22,
     "metadata": {},
     "output_type": "execute_result"
    }
   ],
   "source": [
    "let options: StrptimeOptions = StrptimeOptions {\n",
    "    format: Some(\"%Y%m%d\".into()),\n",
    "    strict: false,\n",
    "    exact: true,\n",
    "    cache: true,\n",
    "};\n",
    "\n",
    "df_receipt.clone()\n",
    "    .select([col(\"customer_id\"), col(\"sales_ymd\")])\n",
    "    .unique(\n",
    "        Some(vec![\"customer_id\".to_string(), \"sales_ymd\".to_string()]),\n",
    "        UniqueKeepStrategy::First,\n",
    "    )\n",
    "    .left_join(df_customer.clone(), col(\"customer_id\"), col(\"customer_id\"))\n",
    "    .select([\n",
    "        col(\"customer_id\"),\n",
    "        col(\"sales_ymd\").cast(DataType::Utf8).str().to_date(options.clone()),\n",
    "        col(\"application_date\").str().to_date(options.clone()),\n",
    "    ])\n",
    "    .with_column(((col(\"sales_ymd\").dt().timestamp(TimeUnit::Milliseconds) - col(\"application_date\").dt().timestamp(TimeUnit::Milliseconds)) / lit(1000)).alias(\"elapsed_epoch\"))\n",
    "    .filter(col(\"customer_id\").eq(lit(\"CS006214000001\")))\n",
    "    .collect()\n",
    "    .unwrap()\n",
    "    .head(Some(10))"
   ]
  },
  {
   "cell_type": "markdown",
   "metadata": {},
   "source": [
    "---\n",
    "> P-074: レシート明細データ（df_receipt）の売上日（sales_ymd）に対し、当該週の月曜日からの経過日数を計算し、売上日、直前の月曜日付とともに10件表示せよ（sales_ymdは数値でデータを保持している点に注意）。"
   ]
  },
  {
   "cell_type": "code",
   "execution_count": 11,
   "metadata": {
    "vscode": {
     "languageId": "rust"
    }
   },
   "outputs": [
    {
     "data": {
      "text/plain": [
       "shape: (10, 3)\n",
       "┌────────────┬──────────────┬────────────┐\n",
       "│ sales_ymd  ┆ elapsed_days ┆ monday     │\n",
       "│ ---        ┆ ---          ┆ ---        │\n",
       "│ date       ┆ u32          ┆ date       │\n",
       "╞════════════╪══════════════╪════════════╡\n",
       "│ 2018-11-03 ┆ 5            ┆ 2018-10-29 │\n",
       "│ 2018-11-18 ┆ 6            ┆ 2018-11-12 │\n",
       "│ 2017-07-12 ┆ 2            ┆ 2017-07-10 │\n",
       "│ 2019-02-05 ┆ 1            ┆ 2019-02-04 │\n",
       "│ …          ┆ …            ┆ …          │\n",
       "│ 2018-12-05 ┆ 2            ┆ 2018-12-03 │\n",
       "│ 2019-09-22 ┆ 6            ┆ 2019-09-16 │\n",
       "│ 2017-05-04 ┆ 3            ┆ 2017-05-01 │\n",
       "│ 2019-10-10 ┆ 3            ┆ 2019-10-07 │\n",
       "└────────────┴──────────────┴────────────┘"
      ]
     },
     "execution_count": 11,
     "metadata": {},
     "output_type": "execute_result"
    }
   ],
   "source": [
    "let options: StrptimeOptions = StrptimeOptions {\n",
    "    format: Some(\"%Y%m%d\".into()),\n",
    "    strict: false,\n",
    "    exact: true,\n",
    "    cache: true,\n",
    "};\n",
    "\n",
    "// let truncate_options = TruncateOptions {\n",
    "//     every: \"w\",\n",
    "//     offset: \"\",\n",
    "//     use_earliest: true,\n",
    "// }\n",
    "\n",
    "df_receipt.clone()\n",
    "    .select([\n",
    "        col(\"sales_ymd\").cast(DataType::Utf8).str().to_date(options.clone()),\n",
    "    ])\n",
    "    .with_columns([\n",
    "        (col(\"sales_ymd\").dt().weekday() - lit(1)).alias(\"elapsed_days\"),\n",
    "        col(\"sales_ymd\").dt().truncate(\"1w\", \"0\").alias(\"monday\"), \n",
    "    ])\n",
    "    .collect()\n",
    "    .unwrap()\n",
    "    .head(Some(10))"
   ]
  },
  {
   "cell_type": "markdown",
   "metadata": {},
   "source": [
    "---\n",
    "> P-075: 顧客データ（df_customer）からランダムに1%のデータを抽出し、先頭から10件表示せよ。"
   ]
  },
  {
   "cell_type": "code",
   "execution_count": 33,
   "metadata": {
    "vscode": {
     "languageId": "rust"
    }
   },
   "outputs": [
    {
     "data": {
      "text/plain": [
       "shape: (10, 11)\n",
       "┌────────────┬────────────┬───────────┬────────┬───┬───────────┬───────────┬───────────┬───────────┐\n",
       "│ customer_i ┆ customer_n ┆ gender_cd ┆ gender ┆ … ┆ address   ┆ applicati ┆ applicati ┆ status_cd │\n",
       "│ d          ┆ ame        ┆ ---       ┆ ---    ┆   ┆ ---       ┆ on_store_ ┆ on_date   ┆ ---       │\n",
       "│ ---        ┆ ---        ┆ str       ┆ str    ┆   ┆ str       ┆ cd        ┆ ---       ┆ str       │\n",
       "│ str        ┆ str        ┆           ┆        ┆   ┆           ┆ ---       ┆ str       ┆           │\n",
       "│            ┆            ┆           ┆        ┆   ┆           ┆ str       ┆           ┆           │\n",
       "╞════════════╪════════════╪═══════════╪════════╪═══╪═══════════╪═══════════╪═══════════╪═══════════╡\n",
       "│ CS00350300 ┆ 阿部 正義  ┆ 0         ┆ 男性   ┆ … ┆ 東京都狛  ┆ S13003    ┆ 20160818  ┆ 0-0000000 │\n",
       "│ 0057       ┆            ┆           ┆        ┆   ┆ 江市和泉  ┆           ┆           ┆ 0-0       │\n",
       "│            ┆            ┆           ┆        ┆   ┆ 本町***** ┆           ┆           ┆           │\n",
       "│            ┆            ┆           ┆        ┆   ┆ *****     ┆           ┆           ┆           │\n",
       "│ CS02531200 ┆ 薬師丸 咲  ┆ 1         ┆ 女性   ┆ … ┆ 神奈川県  ┆ S14025    ┆ 20150716  ┆ 0-0000000 │\n",
       "│ 0030       ┆            ┆           ┆        ┆   ┆ 大和市上  ┆           ┆           ┆ 0-0       │\n",
       "│            ┆            ┆           ┆        ┆   ┆ 和田***** ┆           ┆           ┆           │\n",
       "│            ┆            ┆           ┆        ┆   ┆ *****     ┆           ┆           ┆           │\n",
       "│ CS03351400 ┆ 石田 未來  ┆ 1         ┆ 女性   ┆ … ┆ 神奈川県  ┆ S14033    ┆ 20150123  ┆ 8-2008020 │\n",
       "│ 0025       ┆            ┆           ┆        ┆   ┆ 横浜市瀬  ┆           ┆           ┆ 3-5       │\n",
       "│            ┆            ┆           ┆        ┆   ┆ 谷区宮沢* ┆           ┆           ┆           │\n",
       "│            ┆            ┆           ┆        ┆   ┆ ********* ┆           ┆           ┆           │\n",
       "│ CS00261500 ┆ 伊東 愛    ┆ 1         ┆ 女性   ┆ … ┆ 東京都国  ┆ S13002    ┆ 20150523  ┆ 5-2009121 │\n",
       "│ 0072       ┆            ┆           ┆        ┆   ┆ 分寺市東  ┆           ┆           ┆ 4-2       │\n",
       "│            ┆            ┆           ┆        ┆   ┆ 恋ケ窪*** ┆           ┆           ┆           │\n",
       "│            ┆            ┆           ┆        ┆   ┆ *******   ┆           ┆           ┆           │\n",
       "│ …          ┆ …          ┆ …         ┆ …      ┆ … ┆ …         ┆ …         ┆ …         ┆ …         │\n",
       "│ CS02141400 ┆ 柴山 結衣  ┆ 1         ┆ 女性   ┆ … ┆ 神奈川県  ┆ S14021    ┆ 20150825  ┆ 1-2008102 │\n",
       "│ 0093       ┆            ┆           ┆        ┆   ┆ 伊勢原市  ┆           ┆           ┆ 2-3       │\n",
       "│            ┆            ┆           ┆        ┆   ┆ 伊勢原*** ┆           ┆           ┆           │\n",
       "│            ┆            ┆           ┆        ┆   ┆ *******   ┆           ┆           ┆           │\n",
       "│ CS03351400 ┆ 青山       ┆ 1         ┆ 女性   ┆ … ┆ 神奈川県  ┆ S14033    ┆ 20150530  ┆ B-2010051 │\n",
       "│ 0076       ┆ さやか     ┆           ┆        ┆   ┆ 横浜市瀬  ┆           ┆           ┆ 7-9       │\n",
       "│            ┆            ┆           ┆        ┆   ┆ 谷区阿久  ┆           ┆           ┆           │\n",
       "│            ┆            ┆           ┆        ┆   ┆ 和西***** ┆           ┆           ┆           │\n",
       "│            ┆            ┆           ┆        ┆   ┆ *****     ┆           ┆           ┆           │\n",
       "│ CS04021300 ┆ 福田       ┆ 1         ┆ 女性   ┆ … ┆ 神奈川県  ┆ S14040    ┆ 20150609  ┆ 0-0000000 │\n",
       "│ 0032       ┆ 菜々美     ┆           ┆        ┆   ┆ 横浜市緑  ┆           ┆           ┆ 0-0       │\n",
       "│            ┆            ┆           ┆        ┆   ┆ 区長津田* ┆           ┆           ┆           │\n",
       "│            ┆            ┆           ┆        ┆   ┆ ********* ┆           ┆           ┆           │\n",
       "│ CS00451200 ┆ 栗田       ┆ 1         ┆ 女性   ┆ … ┆ 東京都練  ┆ S13004    ┆ 20180722  ┆ 0-0000000 │\n",
       "│ 0527       ┆ さゆり     ┆           ┆        ┆   ┆ 馬区富士  ┆           ┆           ┆ 0-0       │\n",
       "│            ┆            ┆           ┆        ┆   ┆ 見台***** ┆           ┆           ┆           │\n",
       "│            ┆            ┆           ┆        ┆   ┆ *****     ┆           ┆           ┆           │\n",
       "└────────────┴────────────┴───────────┴────────┴───┴───────────┴───────────┴───────────┴───────────┘"
      ]
     },
     "execution_count": 33,
     "metadata": {},
     "output_type": "execute_result"
    }
   ],
   "source": [
    "df_customer.clone()\n",
    "    .collect()\n",
    "    .unwrap()\n",
    "    .sample_frac(\n",
    "        0.01,\n",
    "        true,\n",
    "        false,\n",
    "        None,\n",
    "    )?.head(Some(10))"
   ]
  },
  {
   "cell_type": "markdown",
   "metadata": {},
   "source": [
    "---\n",
    "> P-076: 顧客データ（df_customer）から性別コード（gender_cd）の割合に基づきランダムに10%のデータを層化抽出し、性別コードごとに件数を集計せよ。"
   ]
  },
  {
   "cell_type": "code",
   "execution_count": 40,
   "metadata": {
    "vscode": {
     "languageId": "rust"
    }
   },
   "outputs": [
    {
     "data": {
      "text/plain": [
       "shape: (3, 2)\n",
       "┌───────────┬─────────────┐\n",
       "│ gender_cd ┆ customer_id │\n",
       "│ ---       ┆ ---         │\n",
       "│ str       ┆ u32         │\n",
       "╞═══════════╪═════════════╡\n",
       "│ 1         ┆ 1791        │\n",
       "│ 0         ┆ 298         │\n",
       "│ 9         ┆ 107         │\n",
       "└───────────┴─────────────┘"
      ]
     },
     "execution_count": 40,
     "metadata": {},
     "output_type": "execute_result"
    }
   ],
   "source": [
    "fn sample_frac_gb(x: DataFrame) -> DataFrame {\n",
    "    x.sample_frac(0.1, true, false, None).unwrap()\n",
    "}\n",
    "\n",
    "df_customer.clone()\n",
    "    .groupby([\"gender_cd\"]).apply(|x| Ok(sample_frac_gb(x)), df_customer.schema().unwrap())\n",
    "    .groupby([\"gender_cd\"]).agg([col(\"customer_id\").count()])\n",
    "    // .select([\n",
    "    //     col(\"gender_cd\").value_counts(true, true),\n",
    "    // ]) こちらでも良いが出力形式がPythonと違う\n",
    "    .collect()\n",
    "    .unwrap()"
   ]
  },
  {
   "cell_type": "markdown",
   "metadata": {},
   "source": [
    "---\n",
    "> P-077: レシート明細データ（df_receipt）の売上金額を顧客単位に合計し、合計した売上金額の外れ値を抽出せよ。なお、外れ値は売上金額合計を対数化したうえで平均と標準偏差を計算し、その平均から3σを超えて離れたものとする（自然対数と常用対数のどちらでも可）。結果は10件表示せよ。"
   ]
  },
  {
   "cell_type": "code",
   "execution_count": 50,
   "metadata": {
    "vscode": {
     "languageId": "rust"
    }
   },
   "outputs": [
    {
     "data": {
      "text/plain": [
       "shape: (1, 4)\n",
       "┌────────────────┬──────────┬────────────────┬───────────────────┐\n",
       "│ customer_id    ┆ amount   ┆ log_sum_amount ┆ log_sum_amount_ss │\n",
       "│ ---            ┆ ---      ┆ ---            ┆ ---               │\n",
       "│ str            ┆ i64      ┆ f64            ┆ f64               │\n",
       "╞════════════════╪══════════╪════════════════╪═══════════════════╡\n",
       "│ ZZ000000000000 ┆ 12395003 ┆ 16.332804      ┆ 7.967822          │\n",
       "└────────────────┴──────────┴────────────────┴───────────────────┘"
      ]
     },
     "execution_count": 50,
     "metadata": {},
     "output_type": "execute_result"
    }
   ],
   "source": [
    "df_receipt.clone()\n",
    "    .groupby([\"customer_id\"]).agg([col(\"amount\").sum()])\n",
    "    .with_column((col(\"amount\") - lit(0.5)).log1p().alias(\"log_sum_amount\"))\n",
    "    .with_column(\n",
    "        ((col(\"log_sum_amount\") - col(\"log_sum_amount\").mean()).abs() / col(\"log_sum_amount\").std(0))\n",
    "        .alias(\"log_sum_amount_ss\")\n",
    "    )\n",
    "    .filter(\n",
    "        (col(\"log_sum_amount\") - col(\"log_sum_amount\").mean()).abs()\n",
    "        .gt(\n",
    "            col(\"log_sum_amount\").std(0) * lit(3.0)\n",
    "        )\n",
    "    )\n",
    "    .collect()\n",
    "    .unwrap()\n",
    "    .head(Some(10))"
   ]
  },
  {
   "cell_type": "markdown",
   "metadata": {},
   "source": [
    "---\n",
    "> P-078: レシート明細データ（df_receipt）の売上金額（amount）を顧客単位に合計し、合計した売上金額の外れ値を抽出せよ。ただし、顧客IDが\"Z\"から始まるのものは非会員を表すため、除外して計算すること。なお、ここでは外れ値を第1四分位と第3四分位の差であるIQRを用いて、「第1四分位数-1.5×IQR」を下回るもの、または「第3四分位数+1.5×IQR」を超えるものとする。結果は10件表示せよ。"
   ]
  },
  {
   "cell_type": "code",
   "execution_count": 64,
   "metadata": {
    "vscode": {
     "languageId": "rust"
    }
   },
   "outputs": [
    {
     "data": {
      "text/plain": [
       "shape: (10, 5)\n",
       "┌────────────────┬────────┬───────┬────────┬────────┐\n",
       "│ customer_id    ┆ amount ┆ 1qtr  ┆ 3qtr   ┆ iqr    │\n",
       "│ ---            ┆ ---    ┆ ---   ┆ ---    ┆ ---    │\n",
       "│ str            ┆ i64    ┆ f64   ┆ f64    ┆ f64    │\n",
       "╞════════════════╪════════╪═══════╪════════╪════════╡\n",
       "│ CS001414000048 ┆ 8584   ┆ 548.0 ┆ 3650.0 ┆ 3102.0 │\n",
       "│ CS001605000009 ┆ 18925  ┆ 548.0 ┆ 3650.0 ┆ 3102.0 │\n",
       "│ CS002415000594 ┆ 9568   ┆ 548.0 ┆ 3650.0 ┆ 3102.0 │\n",
       "│ CS004414000181 ┆ 9584   ┆ 548.0 ┆ 3650.0 ┆ 3102.0 │\n",
       "│ …              ┆ …      ┆ …     ┆ …      ┆ …      │\n",
       "│ CS006414000029 ┆ 9179   ┆ 548.0 ┆ 3650.0 ┆ 3102.0 │\n",
       "│ CS006415000105 ┆ 10042  ┆ 548.0 ┆ 3650.0 ┆ 3102.0 │\n",
       "│ CS006415000147 ┆ 12723  ┆ 548.0 ┆ 3650.0 ┆ 3102.0 │\n",
       "│ CS006415000157 ┆ 10648  ┆ 548.0 ┆ 3650.0 ┆ 3102.0 │\n",
       "└────────────────┴────────┴───────┴────────┴────────┘"
      ]
     },
     "execution_count": 64,
     "metadata": {},
     "output_type": "execute_result"
    }
   ],
   "source": [
    "df_receipt.clone()\n",
    "    .filter(col(\"customer_id\").str().starts_with(lit(\"Z\")).not())\n",
    "    .groupby([\"customer_id\"]).agg([col(\"amount\").sum()])\n",
    "    .with_columns([\n",
    "        col(\"amount\").quantile(lit(0.25), QuantileInterpolOptions::Nearest).alias(\"1qtr\"),\n",
    "        col(\"amount\").quantile(lit(0.75), QuantileInterpolOptions::Nearest).alias(\"3qtr\"),\n",
    "    ])\n",
    "    .with_column((col(\"3qtr\") - col(\"1qtr\")).alias(\"iqr\"))\n",
    "    .filter(\n",
    "        col(\"amount\").lt(col(\"1qtr\") - lit(1.5) * col(\"iqr\")).or(col(\"amount\").gt(col(\"3qtr\") + lit(1.5) * col(\"iqr\")))\n",
    "    )\n",
    "    .sort(\n",
    "        \"customer_id\",\n",
    "        SortOptions{\n",
    "            descending: false,\n",
    "            nulls_last: true,\n",
    "            multithreaded: true,\n",
    "            maintain_order: true\n",
    "        }\n",
    "    )\n",
    "    .collect()\n",
    "    .unwrap()\n",
    "    .head(Some(10))"
   ]
  },
  {
   "cell_type": "markdown",
   "metadata": {},
   "source": [
    "---\n",
    "> P-079: 商品データ（df_product）の各項目に対し、欠損数を確認せよ。"
   ]
  },
  {
   "cell_type": "code",
   "execution_count": 66,
   "metadata": {
    "vscode": {
     "languageId": "rust"
    }
   },
   "outputs": [
    {
     "data": {
      "text/plain": [
       "shape: (1, 6)\n",
       "┌────────────┬───────────────────┬────────────────────┬───────────────────┬────────────┬───────────┐\n",
       "│ product_cd ┆ category_major_cd ┆ category_medium_cd ┆ category_small_cd ┆ unit_price ┆ unit_cost │\n",
       "│ ---        ┆ ---               ┆ ---                ┆ ---               ┆ ---        ┆ ---       │\n",
       "│ u32        ┆ u32               ┆ u32                ┆ u32               ┆ u32        ┆ u32       │\n",
       "╞════════════╪═══════════════════╪════════════════════╪═══════════════════╪════════════╪═══════════╡\n",
       "│ 0          ┆ 0                 ┆ 0                  ┆ 0                 ┆ 7          ┆ 7         │\n",
       "└────────────┴───────────────────┴────────────────────┴───────────────────┴────────────┴───────────┘"
      ]
     },
     "execution_count": 66,
     "metadata": {},
     "output_type": "execute_result"
    }
   ],
   "source": [
    "df_product.clone()\n",
    "    .null_count()\n",
    "    .collect()\n",
    "    .unwrap()"
   ]
  },
  {
   "cell_type": "markdown",
   "metadata": {},
   "source": [
    "---\n",
    "> P-080: 商品データ（df_product）のいずれかの項目に欠損が発生しているレコードを全て削除した新たな商品データを作成せよ。なお、削除前後の件数を表示させ、079で確認した件数だけ減少していることも確認すること。"
   ]
  },
  {
   "cell_type": "code",
   "execution_count": 79,
   "metadata": {
    "vscode": {
     "languageId": "rust"
    }
   },
   "outputs": [
    {
     "name": "stdout",
     "output_type": "stream",
     "text": [
      "削除前: 10030\n",
      "削除後: 10023\n"
     ]
    }
   ],
   "source": [
    "println!(\"削除前: {:?}\", df_product.clone().collect().unwrap().height());\n",
    "\n",
    "println!(\"削除後: {:?}\", df_product.clone().drop_nulls(Some(vec![col(\"*\")])).collect().unwrap().height());"
   ]
  },
  {
   "cell_type": "markdown",
   "metadata": {},
   "source": [
    "---\n",
    "> P-081: 単価（unit_price）と原価（unit_cost）の欠損値について、それぞれの平均値で補完した新たな商品データを作成せよ。なお、平均値については1円未満を丸めること（四捨五入または偶数への丸めで良い）。補完実施後、各項目について欠損が生じていないことも確認すること。"
   ]
  },
  {
   "cell_type": "code",
   "execution_count": 22,
   "metadata": {
    "tags": [],
    "vscode": {
     "languageId": "rust"
    }
   },
   "outputs": [
    {
     "name": "stdout",
     "output_type": "stream",
     "text": [
      "shape: (10_030, 6)\n",
      "┌────────────┬───────────────────┬────────────────────┬───────────────────┬────────────┬───────────┐\n",
      "│ product_cd ┆ category_major_cd ┆ category_medium_cd ┆ category_small_cd ┆ unit_price ┆ unit_cost │\n",
      "│ ---        ┆ ---               ┆ ---                ┆ ---               ┆ ---        ┆ ---       │\n",
      "│ str        ┆ str               ┆ str                ┆ str               ┆ i64        ┆ i64       │\n",
      "╞════════════╪═══════════════════╪════════════════════╪═══════════════════╪════════════╪═══════════╡\n",
      "│ P040101001 ┆ 04                ┆ 0401               ┆ 040101            ┆ 198        ┆ 149       │\n",
      "│ P040101002 ┆ 04                ┆ 0401               ┆ 040101            ┆ 218        ┆ 164       │\n",
      "│ P040101003 ┆ 04                ┆ 0401               ┆ 040101            ┆ 230        ┆ 173       │\n",
      "│ P040101004 ┆ 04                ┆ 0401               ┆ 040101            ┆ 248        ┆ 186       │\n",
      "│ …          ┆ …                 ┆ …                  ┆ …                 ┆ …          ┆ …         │\n",
      "│ P091503002 ┆ 09                ┆ 0915               ┆ 091503            ┆ 680        ┆ 510       │\n",
      "│ P091503003 ┆ 09                ┆ 0915               ┆ 091503            ┆ 1080       ┆ 810       │\n",
      "│ P091503004 ┆ 09                ┆ 0915               ┆ 091503            ┆ 1130       ┆ 848       │\n",
      "│ P091503005 ┆ 09                ┆ 0915               ┆ 091503            ┆ 1280       ┆ 960       │\n",
      "└────────────┴───────────────────┴────────────────────┴───────────────────┴────────────┴───────────┘\n"
     ]
    },
    {
     "data": {
      "text/plain": [
       "shape: (1, 6)\n",
       "┌────────────┬───────────────────┬────────────────────┬───────────────────┬────────────┬───────────┐\n",
       "│ product_cd ┆ category_major_cd ┆ category_medium_cd ┆ category_small_cd ┆ unit_price ┆ unit_cost │\n",
       "│ ---        ┆ ---               ┆ ---                ┆ ---               ┆ ---        ┆ ---       │\n",
       "│ u32        ┆ u32               ┆ u32                ┆ u32               ┆ u32        ┆ u32       │\n",
       "╞════════════╪═══════════════════╪════════════════════╪═══════════════════╪════════════╪═══════════╡\n",
       "│ 0          ┆ 0                 ┆ 0                  ┆ 0                 ┆ 0          ┆ 0         │\n",
       "└────────────┴───────────────────┴────────────────────┴───────────────────┴────────────┴───────────┘"
      ]
     },
     "execution_count": 22,
     "metadata": {},
     "output_type": "execute_result"
    }
   ],
   "source": [
    "let tmp_df = df_product.clone()\n",
    "    .collect()\n",
    "    .unwrap()\n",
    "    .fill_null(FillNullStrategy::Mean)?;\n",
    "\n",
    "println!(\"{:?}\", &tmp_df);\n",
    "tmp_df.null_count()\n",
    "\n",
    "// let tmp_df = df_product.clone()\n",
    "//     .with_columns([\n",
    "//         col(\"unit_price\").fill_null(col(\"unit_price\").mean().cast(DataType::Int32)),\n",
    "//         col(\"unit_cost\").fill_null(col(\"unit_cost\").mean().cast(DataType::Int32)),\n",
    "//     ]);\n",
    "// println!(\"{:?}\", tmp_df.clone().collect().unwrap());\n",
    "// tmp_df.null_count().collect().unwrap()\n"
   ]
  },
  {
   "cell_type": "markdown",
   "metadata": {
    "tags": []
   },
   "source": [
    "---\n",
    "> P-082: 単価（unit_price）と原価（unit_cost）の欠損値について、それぞれの中央値で補完した新たな商品データを作成せよ。なお、中央値については1円未満を丸めること（四捨五入または偶数への丸めで良い）。補完実施後、各項目について欠損が生じていないことも確認すること。"
   ]
  },
  {
   "cell_type": "code",
   "execution_count": 25,
   "metadata": {
    "vscode": {
     "languageId": "rust"
    }
   },
   "outputs": [
    {
     "name": "stdout",
     "output_type": "stream",
     "text": [
      "shape: (7, 8)\n",
      "┌────────────┬────────────┬────────────┬───────────┬───────────┬───────────┬───────────┬───────────┐\n",
      "│ product_cd ┆ category_m ┆ category_m ┆ category_ ┆ unit_pric ┆ unit_cost ┆ filled_un ┆ filled_un │\n",
      "│ ---        ┆ ajor_cd    ┆ edium_cd   ┆ small_cd  ┆ e         ┆ ---       ┆ it_price  ┆ it_cost   │\n",
      "│ str        ┆ ---        ┆ ---        ┆ ---       ┆ ---       ┆ i64       ┆ ---       ┆ ---       │\n",
      "│            ┆ str        ┆ str        ┆ str       ┆ i64       ┆           ┆ i64       ┆ i64       │\n",
      "╞════════════╪════════════╪════════════╪═══════════╪═══════════╪═══════════╪═══════════╪═══════════╡\n",
      "│ P040802007 ┆ 04         ┆ 0408       ┆ 040802    ┆ null      ┆ null      ┆ 252       ┆ 189       │\n",
      "│ P050103021 ┆ 05         ┆ 0501       ┆ 050103    ┆ null      ┆ null      ┆ 252       ┆ 189       │\n",
      "│ P050405009 ┆ 05         ┆ 0504       ┆ 050405    ┆ null      ┆ null      ┆ 252       ┆ 189       │\n",
      "│ P060802026 ┆ 06         ┆ 0608       ┆ 060802    ┆ null      ┆ null      ┆ 252       ┆ 189       │\n",
      "│ P070202092 ┆ 07         ┆ 0702       ┆ 070202    ┆ null      ┆ null      ┆ 252       ┆ 189       │\n",
      "│ P080504027 ┆ 08         ┆ 0805       ┆ 080504    ┆ null      ┆ null      ┆ 252       ┆ 189       │\n",
      "│ P090204185 ┆ 09         ┆ 0902       ┆ 090204    ┆ null      ┆ null      ┆ 252       ┆ 189       │\n",
      "└────────────┴────────────┴────────────┴───────────┴───────────┴───────────┴───────────┴───────────┘\n"
     ]
    },
    {
     "data": {
      "text/plain": [
       "shape: (1, 8)\n",
       "┌────────────┬────────────┬────────────┬───────────┬───────────┬───────────┬───────────┬───────────┐\n",
       "│ product_cd ┆ category_m ┆ category_m ┆ category_ ┆ unit_pric ┆ unit_cost ┆ filled_un ┆ filled_un │\n",
       "│ ---        ┆ ajor_cd    ┆ edium_cd   ┆ small_cd  ┆ e         ┆ ---       ┆ it_price  ┆ it_cost   │\n",
       "│ u32        ┆ ---        ┆ ---        ┆ ---       ┆ ---       ┆ u32       ┆ ---       ┆ ---       │\n",
       "│            ┆ u32        ┆ u32        ┆ u32       ┆ u32       ┆           ┆ u32       ┆ u32       │\n",
       "╞════════════╪════════════╪════════════╪═══════════╪═══════════╪═══════════╪═══════════╪═══════════╡\n",
       "│ 0          ┆ 0          ┆ 0          ┆ 0         ┆ 7         ┆ 7         ┆ 0         ┆ 0         │\n",
       "└────────────┴────────────┴────────────┴───────────┴───────────┴───────────┴───────────┴───────────┘"
      ]
     },
     "execution_count": 25,
     "metadata": {},
     "output_type": "execute_result"
    }
   ],
   "source": [
    "let tmp_df = df_product.clone()\n",
    "    .with_columns([\n",
    "        col(\"unit_price\").fill_null(col(\"unit_price\").median().cast(DataType::Int32)).alias(\"filled_unit_price\"),\n",
    "        col(\"unit_cost\").fill_null(col(\"unit_cost\").median().cast(DataType::Int32)).alias(\"filled_unit_cost\"),\n",
    "    ]);\n",
    "\n",
    "println!(\n",
    "    \"{:?}\",\n",
    "    tmp_df.clone()\n",
    "        .filter(col(\"unit_price\").is_null().or(col(\"unit_cost\").is_null()))\n",
    "        .collect()\n",
    "        .unwrap()\n",
    ");\n",
    "tmp_df.null_count().collect().unwrap()"
   ]
  },
  {
   "cell_type": "markdown",
   "metadata": {},
   "source": [
    "---\n",
    "> P-083: 単価（unit_price）と原価（unit_cost）の欠損値について、各商品のカテゴリ小区分コード（category_small_cd）ごとに算出した中央値で補完した新たな商品データを作成せよ。なお、中央値については1円未満を丸めること（四捨五入または偶数への丸めで良い）。補完実施後、各項目について欠損が生じていないことも確認すること。"
   ]
  },
  {
   "cell_type": "code",
   "execution_count": 26,
   "metadata": {
    "vscode": {
     "languageId": "rust"
    }
   },
   "outputs": [
    {
     "name": "stdout",
     "output_type": "stream",
     "text": [
      "shape: (7, 8)\n",
      "┌────────────┬────────────┬────────────┬───────────┬───────────┬───────────┬───────────┬───────────┐\n",
      "│ product_cd ┆ category_m ┆ category_m ┆ category_ ┆ unit_pric ┆ unit_cost ┆ filled_un ┆ filled_un │\n",
      "│ ---        ┆ ajor_cd    ┆ edium_cd   ┆ small_cd  ┆ e         ┆ ---       ┆ it_price  ┆ it_cost   │\n",
      "│ str        ┆ ---        ┆ ---        ┆ ---       ┆ ---       ┆ i64       ┆ ---       ┆ ---       │\n",
      "│            ┆ str        ┆ str        ┆ str       ┆ i64       ┆           ┆ i64       ┆ i64       │\n",
      "╞════════════╪════════════╪════════════╪═══════════╪═══════════╪═══════════╪═══════════╪═══════════╡\n",
      "│ P040802007 ┆ 04         ┆ 0408       ┆ 040802    ┆ null      ┆ null      ┆ 235       ┆ 313       │\n",
      "│ P050103021 ┆ 05         ┆ 0501       ┆ 050103    ┆ null      ┆ null      ┆ 99        ┆ 132       │\n",
      "│ P050405009 ┆ 05         ┆ 0504       ┆ 050405    ┆ null      ┆ null      ┆ 133       ┆ 178       │\n",
      "│ P060802026 ┆ 06         ┆ 0608       ┆ 060802    ┆ null      ┆ null      ┆ 200       ┆ 270       │\n",
      "│ P070202092 ┆ 07         ┆ 0702       ┆ 070202    ┆ null      ┆ null      ┆ 179       ┆ 238       │\n",
      "│ P080504027 ┆ 08         ┆ 0805       ┆ 080504    ┆ null      ┆ null      ┆ 195       ┆ 258       │\n",
      "│ P090204185 ┆ 09         ┆ 0902       ┆ 090204    ┆ null      ┆ null      ┆ 521       ┆ 694       │\n",
      "└────────────┴────────────┴────────────┴───────────┴───────────┴───────────┴───────────┴───────────┘\n"
     ]
    },
    {
     "data": {
      "text/plain": [
       "shape: (1, 8)\n",
       "┌────────────┬────────────┬────────────┬───────────┬───────────┬───────────┬───────────┬───────────┐\n",
       "│ product_cd ┆ category_m ┆ category_m ┆ category_ ┆ unit_pric ┆ unit_cost ┆ filled_un ┆ filled_un │\n",
       "│ ---        ┆ ajor_cd    ┆ edium_cd   ┆ small_cd  ┆ e         ┆ ---       ┆ it_price  ┆ it_cost   │\n",
       "│ u32        ┆ ---        ┆ ---        ┆ ---       ┆ ---       ┆ u32       ┆ ---       ┆ ---       │\n",
       "│            ┆ u32        ┆ u32        ┆ u32       ┆ u32       ┆           ┆ u32       ┆ u32       │\n",
       "╞════════════╪════════════╪════════════╪═══════════╪═══════════╪═══════════╪═══════════╪═══════════╡\n",
       "│ 0          ┆ 0          ┆ 0          ┆ 0         ┆ 7         ┆ 7         ┆ 0         ┆ 0         │\n",
       "└────────────┴────────────┴────────────┴───────────┴───────────┴───────────┴───────────┴───────────┘"
      ]
     },
     "execution_count": 26,
     "metadata": {},
     "output_type": "execute_result"
    }
   ],
   "source": [
    "let tmp_df: LazyFrame = df_product.clone()\n",
    "    .with_columns([\n",
    "        coalesce(&[\n",
    "            col(\"unit_cost\"),\n",
    "            median(\"unit_cost\").over([col(\"category_small_cd\")]).cast(DataType::Int64)\n",
    "        ]).alias(\"filled_unit_price\"),\n",
    "        coalesce(&[\n",
    "            col(\"unit_price\"),\n",
    "            median(\"unit_price\").over([col(\"category_small_cd\")]).cast(DataType::Int64)\n",
    "        ]).alias(\"filled_unit_cost\"),\n",
    "    ]);\n",
    "\n",
    "println!(\n",
    "    \"{:?}\",\n",
    "    tmp_df.clone()\n",
    "        .filter(col(\"unit_price\").is_null().or(col(\"unit_cost\").is_null()))\n",
    "        .collect()\n",
    "        .unwrap()\n",
    ");\n",
    "tmp_df.null_count().collect().unwrap()"
   ]
  },
  {
   "cell_type": "markdown",
   "metadata": {},
   "source": [
    "---\n",
    "> P-084: 顧客データ（df_customer）の全顧客に対して全期間の売上金額に占める2019年売上金額の割合を計算し、新たなデータを作成せよ。ただし、売上実績がない場合は0として扱うこと。そして計算した割合が0超のものを抽出し、結果を10件表示せよ。また、作成したデータに欠損が存在しないことを確認せよ。"
   ]
  },
  {
   "cell_type": "code",
   "execution_count": 57,
   "metadata": {
    "vscode": {
     "languageId": "rust"
    }
   },
   "outputs": [
    {
     "name": "stdout",
     "output_type": "stream",
     "text": [
      "shape: (10, 4)\n",
      "┌────────────────┬─────────────┬────────────┬─────────────┐\n",
      "│ customer_id    ┆ amount_2019 ┆ amount_all ┆ amount_rate │\n",
      "│ ---            ┆ ---         ┆ ---        ┆ ---         │\n",
      "│ str            ┆ i64         ┆ i64        ┆ f64         │\n",
      "╞════════════════╪═════════════╪════════════╪═════════════╡\n",
      "│ CS031415000172 ┆ 2971        ┆ 5088       ┆ 0.583923    │\n",
      "│ CS015414000103 ┆ 874         ┆ 3122       ┆ 0.279949    │\n",
      "│ CS011215000048 ┆ 248         ┆ 3444       ┆ 0.072009    │\n",
      "│ CS029415000023 ┆ 3767        ┆ 5167       ┆ 0.72905     │\n",
      "│ …              ┆ …           ┆ …          ┆ …           │\n",
      "│ CS035513000134 ┆ 463         ┆ 1565       ┆ 0.295847    │\n",
      "│ CS001515000263 ┆ 216         ┆ 216        ┆ 1.0         │\n",
      "│ CS006415000279 ┆ 229         ┆ 229        ┆ 1.0         │\n",
      "│ CS031415000106 ┆ 215         ┆ 7741       ┆ 0.027774    │\n",
      "└────────────────┴─────────────┴────────────┴─────────────┘\n"
     ]
    },
    {
     "data": {
      "text/plain": [
       "shape: (1, 4)\n",
       "┌─────────────┬─────────────┬────────────┬─────────────┐\n",
       "│ customer_id ┆ amount_2019 ┆ amount_all ┆ amount_rate │\n",
       "│ ---         ┆ ---         ┆ ---        ┆ ---         │\n",
       "│ u32         ┆ u32         ┆ u32        ┆ u32         │\n",
       "╞═════════════╪═════════════╪════════════╪═════════════╡\n",
       "│ 0           ┆ 0           ┆ 0          ┆ 0           │\n",
       "└─────────────┴─────────────┴────────────┴─────────────┘"
      ]
     },
     "execution_count": 57,
     "metadata": {},
     "output_type": "execute_result"
    }
   ],
   "source": [
    "let tmp_df = df_customer.clone()\n",
    "    .inner_join(\n",
    "        df_receipt.clone()\n",
    "            .with_column(col(\"amount\").fill_null(lit(0)))\n",
    "            .groupby([\"customer_id\"]).agg([\n",
    "                col(\"amount\")\n",
    "                    .filter(\n",
    "                        col(\"sales_ymd\").lt(lit(20200101))\n",
    "                        .and(col(\"sales_ymd\").gt(lit(20181231)))\n",
    "                    )\n",
    "                    .sum().alias(\"amount_2019\"),\n",
    "                col(\"amount\").sum().alias(\"amount_all\"),\n",
    "            ])\n",
    "            .with_column(\n",
    "                (col(\"amount_2019\").cast(DataType::Float32) / col(\"amount_all\"))\n",
    "                    .alias(\"amount_rate\")\n",
    "            )\n",
    "            .filter(col(\"amount_rate\").gt(lit(0))),\n",
    "        col(\"customer_id\"),\n",
    "        col(\"customer_id\"),\n",
    "    )\n",
    "    .select([\n",
    "        col(\"customer_id\"),\n",
    "        col(\"amount_2019\"),\n",
    "        col(\"amount_all\"),\n",
    "        col(\"amount_rate\"),\n",
    "    ]);\n",
    "\n",
    "println!(\"{:?}\", tmp_df.clone().collect().unwrap().head(Some(10)));\n",
    "tmp_df.null_count().collect().unwrap()\n"
   ]
  },
  {
   "cell_type": "markdown",
   "metadata": {},
   "source": [
    "---\n",
    "> P-085: 顧客データ（df_customer）の全顧客に対し、郵便番号（postal_cd）を用いてジオコードデータ（df_geocode）を紐付け、新たな顧客データを作成せよ。ただし、1つの郵便番号（postal_cd）に複数の経度（longitude）、緯度（latitude）情報が紐づく場合は、経度（longitude）、緯度（latitude）の平均値を算出して使用すること。また、作成結果を確認するために結果を10件表示せよ。"
   ]
  },
  {
   "cell_type": "code",
   "execution_count": 75,
   "metadata": {
    "vscode": {
     "languageId": "rust"
    }
   },
   "outputs": [
    {
     "data": {
      "text/plain": [
       "shape: (10, 13)\n",
       "┌────────────┬────────────┬───────────┬────────┬───┬────────────┬───────────┬───────────┬──────────┐\n",
       "│ customer_i ┆ customer_n ┆ gender_cd ┆ gender ┆ … ┆ applicatio ┆ status_cd ┆ longitude ┆ latitude │\n",
       "│ d          ┆ ame        ┆ ---       ┆ ---    ┆   ┆ n_date     ┆ ---       ┆ ---       ┆ ---      │\n",
       "│ ---        ┆ ---        ┆ str       ┆ str    ┆   ┆ ---        ┆ str       ┆ f64       ┆ f64      │\n",
       "│ str        ┆ str        ┆           ┆        ┆   ┆ str        ┆           ┆           ┆          │\n",
       "╞════════════╪════════════╪═══════════╪════════╪═══╪════════════╪═══════════╪═══════════╪══════════╡\n",
       "│ CS02131300 ┆ 大野       ┆ 1         ┆ 女性   ┆ … ┆ 20150905   ┆ 0-0000000 ┆ 139.31779 ┆ 35.41358 │\n",
       "│ 0114       ┆ あや子     ┆           ┆        ┆   ┆            ┆ 0-0       ┆           ┆          │\n",
       "│ CS02130300 ┆ 堀 一徳    ┆ 0         ┆ 男性   ┆ … ┆ 20160411   ┆ 0-0000000 ┆ 139.31779 ┆ 35.41358 │\n",
       "│ 0023       ┆            ┆           ┆        ┆   ┆            ┆ 0-0       ┆           ┆          │\n",
       "│ CS02130300 ┆ 石倉 俊二  ┆ 0         ┆ 男性   ┆ … ┆ 20150707   ┆ 0-0000000 ┆ 139.31779 ┆ 35.41358 │\n",
       "│ 0007       ┆            ┆           ┆        ┆   ┆            ┆ 0-0       ┆           ┆          │\n",
       "│ CS02131300 ┆ 草野 未來  ┆ 1         ┆ 女性   ┆ … ┆ 20170611   ┆ 0-0000000 ┆ 139.31779 ┆ 35.41358 │\n",
       "│ 0183       ┆            ┆           ┆        ┆   ┆            ┆ 0-0       ┆           ┆          │\n",
       "│ …          ┆ …          ┆ …         ┆ …      ┆ … ┆ …          ┆ …         ┆ …         ┆ …        │\n",
       "│ CS02141300 ┆ 大野 幸子  ┆ 1         ┆ 女性   ┆ … ┆ 20150703   ┆ 0-0000000 ┆ 139.31779 ┆ 35.41358 │\n",
       "│ 0049       ┆            ┆           ┆        ┆   ┆            ┆ 0-0       ┆           ┆          │\n",
       "│ CS03761300 ┆ 六角 雅彦  ┆ 9         ┆ 不明   ┆ … ┆ 20150414   ┆ 0-0000000 ┆ 139.83502 ┆ 35.67193 │\n",
       "│ 0071       ┆            ┆           ┆        ┆   ┆            ┆ 0-0       ┆           ┆          │\n",
       "│ CS01541500 ┆ 大谷 倫子  ┆ 1         ┆ 女性   ┆ … ┆ 20150909   ┆ B-2009061 ┆ 139.83502 ┆ 35.67193 │\n",
       "│ 0209       ┆            ┆           ┆        ┆   ┆            ┆ 0-C       ┆           ┆          │\n",
       "│ CS03761400 ┆ 長沢 麻緒  ┆ 1         ┆ 女性   ┆ … ┆ 20150209   ┆ 5-2009120 ┆ 139.83502 ┆ 35.67193 │\n",
       "│ 0045       ┆            ┆           ┆        ┆   ┆            ┆ 7-6       ┆           ┆          │\n",
       "└────────────┴────────────┴───────────┴────────┴───┴────────────┴───────────┴───────────┴──────────┘"
      ]
     },
     "execution_count": 75,
     "metadata": {},
     "output_type": "execute_result"
    }
   ],
   "source": [
    "let df_customer1 = df_customer.clone()\n",
    "    .inner_join(\n",
    "        df_geocode.clone()\n",
    "            .groupby([\"postal_cd\"]).agg([\n",
    "                col(\"longitude\").mean(),\n",
    "                col(\"latitude\").mean(),\n",
    "            ]),\n",
    "        col(\"postal_cd\"),\n",
    "        col(\"postal_cd\"),\n",
    "    );\n",
    "\n",
    "df_customer1.clone()\n",
    ".filter(\n",
    "    col(\"postal_cd\").eq(lit(\"136-0076\"))\n",
    "    .or(col(\"postal_cd\").eq(lit(\"259-1113\")))\n",
    ") // pythonの解答と同じ情報を出力するための記述\n",
    ".collect().unwrap().head(Some(10))"
   ]
  },
  {
   "cell_type": "markdown",
   "metadata": {},
   "source": [
    "---\n",
    "> P-086: 085で作成した緯度経度つき顧客データに対し、会員申込店舗コード（application_store_cd）をキーに店舗データ（df_store）と結合せよ。そして申込み店舗の緯度（latitude）・経度情報（longitude)と顧客住所（address）の緯度・経度を用いて申込み店舗と顧客住所の距離（単位：km）を求め、顧客ID（customer_id）、顧客住所（address）、店舗住所（address）とともに表示せよ。計算式は以下の簡易式で良いものとするが、その他精度の高い方式を利用したライブラリを利用してもかまわない。結果は10件表示せよ。\n",
    "\n",
    "$$\n",
    "\\text{緯度（ラジアン）}：\\phi \\\\\n",
    "\\text{経度（ラジアン）}：\\lambda \\\\\n",
    "\\text{距離}L = 6371 * \\arccos(\\sin \\phi_1 * \\sin \\phi_2\n",
    "+ \\cos \\phi_1 * \\cos \\phi_2 * \\cos(\\lambda_1 − \\lambda_2))\n",
    "$$"
   ]
  },
  {
   "cell_type": "code",
   "execution_count": 89,
   "metadata": {
    "vscode": {
     "languageId": "rust"
    }
   },
   "outputs": [
    {
     "data": {
      "text/plain": [
       "shape: (10, 4)\n",
       "┌────────────────┬──────────────────────────────────┬──────────────────────────────┬──────────┐\n",
       "│ customer_id    ┆ customer_address                 ┆ store_address                ┆ distance │\n",
       "│ ---            ┆ ---                              ┆ ---                          ┆ ---      │\n",
       "│ str            ┆ str                              ┆ str                          ┆ f64      │\n",
       "╞════════════════╪══════════════════════════════════╪══════════════════════════════╪══════════╡\n",
       "│ CS021313000114 ┆ 神奈川県伊勢原市粟窪**********   ┆ 神奈川県伊勢原市伊勢原四丁目 ┆ 1.394409 │\n",
       "│ CS021303000023 ┆ 神奈川県伊勢原市粟窪**********   ┆ 神奈川県伊勢原市伊勢原四丁目 ┆ 1.394409 │\n",
       "│ CS021303000007 ┆ 神奈川県伊勢原市粟窪**********   ┆ 神奈川県伊勢原市伊勢原四丁目 ┆ 1.394409 │\n",
       "│ CS021313000183 ┆ 神奈川県伊勢原市粟窪**********   ┆ 神奈川県伊勢原市伊勢原四丁目 ┆ 1.394409 │\n",
       "│ …              ┆ …                                ┆ …                            ┆ …        │\n",
       "│ CS021413000049 ┆ 神奈川県伊勢原市粟窪**********   ┆ 神奈川県伊勢原市伊勢原四丁目 ┆ 1.394409 │\n",
       "│ CS021313000025 ┆ 神奈川県伊勢原市伊勢原********** ┆ 神奈川県伊勢原市伊勢原四丁目 ┆ 0.474282 │\n",
       "│ CS021413000022 ┆ 神奈川県伊勢原市伊勢原********** ┆ 神奈川県伊勢原市伊勢原四丁目 ┆ 0.474282 │\n",
       "│ CS021413000094 ┆ 神奈川県伊勢原市伊勢原********** ┆ 神奈川県伊勢原市伊勢原四丁目 ┆ 0.474282 │\n",
       "└────────────────┴──────────────────────────────────┴──────────────────────────────┴──────────┘"
      ]
     },
     "execution_count": 89,
     "metadata": {},
     "output_type": "execute_result"
    }
   ],
   "source": [
    "use std::f64::consts::PI;\n",
    "\n",
    "fn distance_expr(lon1_rad: Expr, lat1_rad: Expr, lon2_rad: Expr, lat2_rad: Expr) -> Expr {\n",
    "    lit(6371) * (\n",
    "        lat1_rad.clone().sin() * lat2_rad.clone().sin() + \n",
    "        lat1_rad.clone().cos() * lat2_rad.clone().cos() * (lon1_rad.clone() - lon2_rad.clone()).cos()\n",
    "    ).arccos()\n",
    "}\n",
    "\n",
    "df_customer1.clone()\n",
    "    .inner_join(\n",
    "        df_store.clone(),\n",
    "        col(\"application_store_cd\"),\n",
    "        col(\"store_cd\"),\n",
    "    )\n",
    "    .select([\n",
    "        col(\"customer_id\"),\n",
    "        col(\"address\").alias(\"customer_address\"),\n",
    "        col(\"address_right\").alias(\"store_address\"),\n",
    "        distance_expr(\n",
    "            col(\"longitude\").clone().radians(),\n",
    "            col(\"latitude\").clone().radians(),\n",
    "            col(\"longitude_right\").clone().radians(),\n",
    "            col(\"latitude_right\").clone().radians()\n",
    "        ).alias(\"distance\")\n",
    "    ])\n",
    "    .filter(\n",
    "        col(\"customer_address\").eq(lit(\"神奈川県伊勢原市粟窪**********\"))\n",
    "        .or(col(\"customer_address\").eq(lit(\"神奈川県伊勢原市伊勢原**********\")))\n",
    "    ) // pythonの解答の出力に合わせるために必要\n",
    "    .collect()\n",
    "    .unwrap()\n",
    "    .head(Some(10))"
   ]
  },
  {
   "cell_type": "markdown",
   "metadata": {},
   "source": [
    "---\n",
    "> P-087: 顧客データ（df_customer）では、異なる店舗での申込みなどにより同一顧客が複数登録されている。名前（customer_name）と郵便番号（postal_cd）が同じ顧客は同一顧客とみなして1顧客1レコードとなるように名寄せした名寄顧客データを作成し、顧客データの件数、名寄顧客データの件数、重複数を算出せよ。ただし、同一顧客に対しては売上金額合計が最も高いものを残し、売上金額合計が同一もしくは売上実績がない顧客については顧客ID（customer_id）の番号が小さいものを残すこととする。"
   ]
  },
  {
   "cell_type": "code",
   "execution_count": 113,
   "metadata": {
    "vscode": {
     "languageId": "rust"
    }
   },
   "outputs": [
    {
     "name": "stdout",
     "output_type": "stream",
     "text": [
      "shape: (21_941, 12)\n",
      "┌────────────┬────────────┬───────────┬────────┬───┬────────────┬────────────┬────────────┬────────┐\n",
      "│ customer_i ┆ customer_n ┆ gender_cd ┆ gender ┆ … ┆ applicatio ┆ applicatio ┆ status_cd  ┆ amount │\n",
      "│ d          ┆ ame        ┆ ---       ┆ ---    ┆   ┆ n_store_cd ┆ n_date     ┆ ---        ┆ ---    │\n",
      "│ ---        ┆ ---        ┆ str       ┆ str    ┆   ┆ ---        ┆ ---        ┆ str        ┆ i64    │\n",
      "│ str        ┆ str        ┆           ┆        ┆   ┆ str        ┆ str        ┆            ┆        │\n",
      "╞════════════╪════════════╪═══════════╪════════╪═══╪════════════╪════════════╪════════════╪════════╡\n",
      "│ CS01741500 ┆ 福士 千夏  ┆ 1         ┆ 女性   ┆ … ┆ S13017     ┆ 20151209   ┆ F-20101006 ┆ 23086  │\n",
      "│ 0097       ┆            ┆           ┆        ┆   ┆            ┆            ┆ -F         ┆        │\n",
      "│ CS01541500 ┆ 岩淵       ┆ 1         ┆ 女性   ┆ … ┆ S13015     ┆ 20150322   ┆ F-20101014 ┆ 20153  │\n",
      "│ 0185       ┆ はるみ     ┆           ┆        ┆   ┆            ┆            ┆ -F         ┆        │\n",
      "│ CS03141400 ┆ 長澤       ┆ 1         ┆ 女性   ┆ … ┆ S13031     ┆ 20150823   ┆ F-20101009 ┆ 19202  │\n",
      "│ 0051       ┆ 沙知絵     ┆           ┆        ┆   ┆            ┆            ┆ -F         ┆        │\n",
      "│ CS01021400 ┆ 高嶋 芽以  ┆ 1         ┆ 女性   ┆ … ┆ S14010     ┆ 20141106   ┆ F-20100909 ┆ 18585  │\n",
      "│ 0010       ┆            ┆           ┆        ┆   ┆            ┆            ┆ -F         ┆        │\n",
      "│ …          ┆ …          ┆ …         ┆ …      ┆ … ┆ …          ┆ …          ┆ …          ┆ …      │\n",
      "│ CS03740300 ┆ 松田       ┆ 0         ┆ 男性   ┆ … ┆ S13037     ┆ 20150729   ┆ 0-00000000 ┆ null   │\n",
      "│ 0033       ┆ サダヲ     ┆           ┆        ┆   ┆            ┆            ┆ -0         ┆        │\n",
      "│ CS03771500 ┆ 布施       ┆ 1         ┆ 女性   ┆ … ┆ S13037     ┆ 20150724   ┆ 0-00000000 ┆ null   │\n",
      "│ 0019       ┆ なつみ     ┆           ┆        ┆   ┆            ┆            ┆ -0         ┆        │\n",
      "│ CS04050200 ┆ 日下部     ┆ 0         ┆ 男性   ┆ … ┆ S14040     ┆ 20150912   ┆ 0-00000000 ┆ null   │\n",
      "│ 0007       ┆ 浩正       ┆           ┆        ┆   ┆            ┆            ┆ -0         ┆        │\n",
      "│ CS04051200 ┆ 野田       ┆ 1         ┆ 女性   ┆ … ┆ S14040     ┆ 20151103   ┆ 0-00000000 ┆ null   │\n",
      "│ 0088       ┆ 璃奈子     ┆           ┆        ┆   ┆            ┆            ┆ -0         ┆        │\n",
      "└────────────┴────────────┴───────────┴────────┴───┴────────────┴────────────┴────────────┴────────┘\n",
      "df_customer_cnt:21971\n",
      "df_customer_unique_cnt: 21941\n",
      "diff: 30\n"
     ]
    }
   ],
   "source": [
    "let df_customer_u = df_customer.clone().left_join(\n",
    "        df_receipt.clone().groupby([\"customer_id\"]).agg([col(\"amount\").sum()]),\n",
    "        col(\"customer_id\"),\n",
    "        col(\"customer_id\"),\n",
    "    ).sort_by_exprs(\n",
    "        vec![col(\"amount\"), col(\"customer_id\")],\n",
    "        vec![true, false],\n",
    "        true,\n",
    "        true,\n",
    "    ).unique(\n",
    "        Some(vec![\"customer_name\".to_string(), \"postal_cd\".to_string()]),\n",
    "        UniqueKeepStrategy::First,\n",
    "    );\n",
    "\n",
    "println!(\"{:?}\", df_customer_u.clone().collect().unwrap());\n",
    "\n",
    "let data_count_c = df_customer.clone().collect().unwrap().height();\n",
    "let data_count_u = df_customer_u.clone().collect().unwrap().height();\n",
    "println!(\n",
    "    \"df_customer_cnt:{}\\ndf_customer_unique_cnt: {}\\ndiff: {}\",\n",
    "    &data_count_c,\n",
    "    &data_count_u,\n",
    "    &data_count_c - &data_count_u\n",
    ");"
   ]
  },
  {
   "cell_type": "markdown",
   "metadata": {},
   "source": [
    "---\n",
    "> P-088: 087で作成したデータを元に、顧客データに統合名寄IDを付与したデータを作成せよ。ただし、統合名寄IDは以下の仕様で付与するものとする。\n",
    ">\n",
    "> - 重複していない顧客：顧客ID（customer_id）を設定\n",
    "> - 重複している顧客：前設問で抽出したレコードの顧客IDを設定\n",
    "> \n",
    "> 顧客IDのユニーク件数と、統合名寄IDのユニーク件数の差も確認すること。"
   ]
  },
  {
   "cell_type": "code",
   "execution_count": 122,
   "metadata": {
    "vscode": {
     "languageId": "rust"
    }
   },
   "outputs": [
    {
     "name": "stdout",
     "output_type": "stream",
     "text": [
      "shape: (21_971, 12)\n",
      "┌────────────┬────────────┬───────────┬────────┬───┬───────────┬───────────┬───────────┬───────────┐\n",
      "│ customer_i ┆ customer_n ┆ gender_cd ┆ gender ┆ … ┆ applicati ┆ applicati ┆ status_cd ┆ integrati │\n",
      "│ d          ┆ ame        ┆ ---       ┆ ---    ┆   ┆ on_store_ ┆ on_date   ┆ ---       ┆ on_id     │\n",
      "│ ---        ┆ ---        ┆ str       ┆ str    ┆   ┆ cd        ┆ ---       ┆ str       ┆ ---       │\n",
      "│ str        ┆ str        ┆           ┆        ┆   ┆ ---       ┆ str       ┆           ┆ str       │\n",
      "│            ┆            ┆           ┆        ┆   ┆ str       ┆           ┆           ┆           │\n",
      "╞════════════╪════════════╪═══════════╪════════╪═══╪═══════════╪═══════════╪═══════════╪═══════════╡\n",
      "│ CS02131300 ┆ 大野       ┆ 1         ┆ 女性   ┆ … ┆ S14021    ┆ 20150905  ┆ 0-0000000 ┆ CS0213130 │\n",
      "│ 0114       ┆ あや子     ┆           ┆        ┆   ┆           ┆           ┆ 0-0       ┆ 00114     │\n",
      "│ CS03761300 ┆ 六角 雅彦  ┆ 9         ┆ 不明   ┆ … ┆ S13037    ┆ 20150414  ┆ 0-0000000 ┆ CS0376130 │\n",
      "│ 0071       ┆            ┆           ┆        ┆   ┆           ┆           ┆ 0-0       ┆ 00071     │\n",
      "│ CS03141500 ┆ 宇多田     ┆ 1         ┆ 女性   ┆ … ┆ S13031    ┆ 20150529  ┆ D-2010032 ┆ CS0314150 │\n",
      "│ 0172       ┆ 貴美子     ┆           ┆        ┆   ┆           ┆           ┆ 5-C       ┆ 00172     │\n",
      "│ CS02881100 ┆ 堀井       ┆ 1         ┆ 女性   ┆ … ┆ S14028    ┆ 20160115  ┆ 0-0000000 ┆ CS0288110 │\n",
      "│ 0001       ┆ かおり     ┆           ┆        ┆   ┆           ┆           ┆ 0-0       ┆ 00001     │\n",
      "│ …          ┆ …          ┆ …         ┆ …      ┆ … ┆ …         ┆ …         ┆ …         ┆ …         │\n",
      "│ CS02941400 ┆ 上村 怜奈  ┆ 1         ┆ 女性   ┆ … ┆ S12029    ┆ 20150313  ┆ F-2010102 ┆ CS0294140 │\n",
      "│ 0065       ┆            ┆           ┆        ┆   ┆           ┆           ┆ 8-F       ┆ 00065     │\n",
      "│ CS01240300 ┆ 堀越 明    ┆ 0         ┆ 男性   ┆ … ┆ S14012    ┆ 20150406  ┆ 0-0000000 ┆ CS0124030 │\n",
      "│ 0043       ┆            ┆           ┆        ┆   ┆           ┆           ┆ 0-0       ┆ 00043     │\n",
      "│ CS03351200 ┆ 池谷 華子  ┆ 1         ┆ 女性   ┆ … ┆ S14033    ┆ 20160206  ┆ 0-0000000 ┆ CS0335120 │\n",
      "│ 0184       ┆            ┆           ┆        ┆   ┆           ┆           ┆ 0-0       ┆ 00184     │\n",
      "│ CS00921300 ┆ 稲垣 咲    ┆ 1         ┆ 女性   ┆ … ┆ S13009    ┆ 20150424  ┆ 0-0000000 ┆ CS0092130 │\n",
      "│ 0022       ┆            ┆           ┆        ┆   ┆           ┆           ┆ 0-0       ┆ 00022     │\n",
      "└────────────┴────────────┴───────────┴────────┴───┴───────────┴───────────┴───────────┴───────────┘\n"
     ]
    },
    {
     "data": {
      "text/plain": [
       "shape: (1, 3)\n",
       "┌─────────────┬────────────────┬──────┐\n",
       "│ customer_id ┆ integration_id ┆ diff │\n",
       "│ ---         ┆ ---            ┆ ---  │\n",
       "│ u32         ┆ u32            ┆ u32  │\n",
       "╞═════════════╪════════════════╪══════╡\n",
       "│ 21971       ┆ 21941          ┆ 30   │\n",
       "└─────────────┴────────────────┴──────┘"
      ]
     },
     "execution_count": 122,
     "metadata": {},
     "output_type": "execute_result"
    }
   ],
   "source": [
    "let df_customer_n = df_customer.clone()\n",
    "    .join(\n",
    "        df_customer_u.clone()\n",
    "            .select([\n",
    "                col(\"customer_name\"),\n",
    "                col(\"postal_cd\"),\n",
    "                col(\"customer_id\").alias(\"integration_id\"),\n",
    "            ]),\n",
    "        [col(\"customer_name\"), col(\"postal_cd\")],\n",
    "        [col(\"customer_name\"), col(\"postal_cd\")],\n",
    "        JoinArgs::new(JoinType::Inner),\n",
    "    );\n",
    "\n",
    "println!(\"{:?}\", df_customer_n.clone().collect().unwrap());\n",
    "\n",
    "df_customer_n\n",
    "    .select([\n",
    "        col(\"customer_id\").n_unique(),\n",
    "        col(\"integration_id\").n_unique(),\n",
    "        (col(\"customer_id\").n_unique() - col(\"integration_id\").n_unique()).alias(\"diff\")\n",
    "    ])\n",
    "    .collect()\n",
    "    .unwrap()"
   ]
  },
  {
   "cell_type": "markdown",
   "metadata": {},
   "source": [
    "---\n",
    "> P-089: 売上実績がある顧客を、予測モデル構築のため学習用データとテスト用データに分割したい。それぞれ8:2の割合でランダムにデータを分割せよ。"
   ]
  },
  {
   "cell_type": "code",
   "execution_count": 132,
   "metadata": {
    "vscode": {
     "languageId": "rust"
    }
   },
   "outputs": [
    {
     "ename": "Error",
     "evalue": "Compilation failed, but no parsable errors were found. STDERR:\n   Compiling num-traits v0.2.16\n   Compiling num-integer v0.1.45\n   Compiling num-bigint v0.4.3\n   Compiling num-iter v0.1.43\n   Compiling num-rational v0.4.1\n   Compiling chrono v0.4.26\n   Compiling atoi v2.0.0\n   Compiling polars-utils v0.31.1\n   Compiling rand_distr v0.4.3\n   Compiling argminmax v0.6.1\n   Compiling num-complex v0.4.3\n   Compiling arrow2 v0.17.3\n   Compiling now v0.1.3\n   Compiling approx v0.5.1\n   Compiling num v0.4.1\n   Compiling smartcore v0.3.2\n   Compiling polars-error v0.31.1\n   Compiling polars-arrow v0.31.1\n   Compiling polars-row v0.31.1\n   Compiling polars-core v0.31.1\n   Compiling polars-ops v0.31.1\n   Compiling polars-time v0.31.1\n   Compiling polars-io v0.31.1\n   Compiling polars-plan v0.31.1\n   Compiling polars-pipe v0.31.1\n   Compiling polars-lazy v0.31.1\n   Compiling polars-sql v0.31.1\n   Compiling polars v0.31.1\nerror: could not compile `polars-core` (lib)\n\nCaused by:\n  process didn't exit successfully: `/usr/local/rustup/toolchains/1.70.0-aarch64-unknown-linux-gnu/bin/rustc --crate-name polars_core --edition=2021 /usr/local/cargo/registry/src/index.crates.io-6f17d22bba15001f/polars-core-0.31.1/src/lib.rs --error-format=json --json=diagnostic-rendered-ansi,artifacts,future-incompat --crate-type lib --emit=dep-info,metadata,link -C opt-level=2 -C embed-bitcode=no -C codegen-units=16 -C debug-assertions=on --cfg 'feature=\"abs\"' --cfg 'feature=\"chrono\"' --cfg 'feature=\"comfy-table\"' --cfg 'feature=\"concat_str\"' --cfg 'feature=\"cross_join\"' --cfg 'feature=\"cum_agg\"' --cfg 'feature=\"default\"' --cfg 'feature=\"describe\"' --cfg 'feature=\"docs\"' --cfg 'feature=\"dtype-array\"' --cfg 'feature=\"dtype-categorical\"' --cfg 'feature=\"dtype-date\"' --cfg 'feature=\"dtype-datetime\"' --cfg 'feature=\"dtype-decimal\"' --cfg 'feature=\"dtype-duration\"' --cfg 'feature=\"dtype-i16\"' --cfg 'feature=\"dtype-i8\"' --cfg 'feature=\"dtype-struct\"' --cfg 'feature=\"dtype-time\"' --cfg 'feature=\"dtype-u16\"' --cfg 'feature=\"dtype-u8\"' --cfg 'feature=\"fmt\"' --cfg 'feature=\"is_in\"' --cfg 'feature=\"lazy\"' --cfg 'feature=\"mode\"' --cfg 'feature=\"object\"' --cfg 'feature=\"rand\"' --cfg 'feature=\"rand_distr\"' --cfg 'feature=\"random\"' --cfg 'feature=\"regex\"' --cfg 'feature=\"round_series\"' --cfg 'feature=\"rows\"' --cfg 'feature=\"serde_json\"' --cfg 'feature=\"strings\"' --cfg 'feature=\"temporal\"' --cfg 'feature=\"zip_with\"' -C metadata=b2e3c69346b76501 -C extra-filename=-b2e3c69346b76501 -C rpath --out-dir /tmp/.tmpCUQ1hT/target/aarch64-unknown-linux-gnu/debug/deps --target aarch64-unknown-linux-gnu -C strip=debuginfo -L dependency=/tmp/.tmpCUQ1hT/target/aarch64-unknown-linux-gnu/debug/deps -L dependency=/tmp/.tmpCUQ1hT/target/debug/deps --extern ahash=/tmp/.tmpCUQ1hT/target/aarch64-unknown-linux-gnu/debug/deps/libahash-905308c309da85b1.rmeta --extern arrow=/tmp/.tmpCUQ1hT/target/aarch64-unknown-linux-gnu/debug/deps/libarrow2-c2801577b45971e8.rmeta --extern bitflags=/tmp/.tmpCUQ1hT/target/aarch64-unknown-linux-gnu/debug/deps/libbitflags-c86609eaabf79163.rmeta --extern chrono=/tmp/.tmpCUQ1hT/target/aarch64-unknown-linux-gnu/debug/deps/libchrono-9f0b9aecaac0591f.rmeta --extern comfy_table=/tmp/.tmpCUQ1hT/target/aarch64-unknown-linux-gnu/debug/deps/libcomfy_table-15893be6e458f572.rmeta --extern either=/tmp/.tmpCUQ1hT/target/aarch64-unknown-linux-gnu/debug/deps/libeither-44ca51474f613e07.rmeta --extern hashbrown=/tmp/.tmpCUQ1hT/target/aarch64-unknown-linux-gnu/debug/deps/libhashbrown-4dd996a008d17533.rmeta --extern indexmap=/tmp/.tmpCUQ1hT/target/aarch64-unknown-linux-gnu/debug/deps/libindexmap-9c2c79c88e2cc9aa.rmeta --extern itoap=/tmp/.tmpCUQ1hT/target/aarch64-unknown-linux-gnu/debug/deps/libitoap-efc0cb45d8ad6b58.rmeta --extern num_traits=/tmp/.tmpCUQ1hT/target/aarch64-unknown-linux-gnu/debug/deps/libnum_traits-5230b112098bd4e3.rmeta --extern once_cell=/tmp/.tmpCUQ1hT/target/aarch64-unknown-linux-gnu/debug/deps/libonce_cell-1f3d8f13061616dd.rmeta --extern polars_arrow=/tmp/.tmpCUQ1hT/target/aarch64-unknown-linux-gnu/debug/deps/libpolars_arrow-4be4d84b0af63b99.rmeta --extern polars_error=/tmp/.tmpCUQ1hT/target/aarch64-unknown-linux-gnu/debug/deps/libpolars_error-913e0e900945831e.rmeta --extern polars_row=/tmp/.tmpCUQ1hT/target/aarch64-unknown-linux-gnu/debug/deps/libpolars_row-7270675092078035.rmeta --extern polars_utils=/tmp/.tmpCUQ1hT/target/aarch64-unknown-linux-gnu/debug/deps/libpolars_utils-c304a62001c13f78.rmeta --extern rand=/tmp/.tmpCUQ1hT/target/aarch64-unknown-linux-gnu/debug/deps/librand-1f1720288f141c1b.rmeta --extern rand_distr=/tmp/.tmpCUQ1hT/target/aarch64-unknown-linux-gnu/debug/deps/librand_distr-14ae1fbb10d67233.rmeta --extern rayon=/tmp/.tmpCUQ1hT/target/aarch64-unknown-linux-gnu/debug/deps/librayon-c4b6d5744d733b7e.rmeta --extern regex=/tmp/.tmpCUQ1hT/target/aarch64-unknown-linux-gnu/debug/deps/libregex-ce4fff22e2b092b0.rmeta --extern serde_json=/tmp/.tmpCUQ1hT/target/aarch64-unknown-linux-gnu/debug/deps/libserde_json-5144ae063601c7cc.rmeta --extern smartstring=/tmp/.tmpCUQ1hT/target/aarch64-unknown-linux-gnu/debug/deps/libsmartstring-f4fe7563a38c4cfb.rmeta --extern thiserror=/tmp/.tmpCUQ1hT/target/aarch64-unknown-linux-gnu/debug/deps/libthiserror-363adb09f8b9c27c.rmeta --extern xxhash_rust=/tmp/.tmpCUQ1hT/target/aarch64-unknown-linux-gnu/debug/deps/libxxhash_rust-e26a92155d69d561.rmeta --cap-lints allow -L native=/tmp/.tmpCUQ1hT/target/aarch64-unknown-linux-gnu/debug/build/lz4-sys-d9eeb4f26f79cc59/out -L native=/tmp/.tmpCUQ1hT/target/aarch64-unknown-linux-gnu/debug/build/zstd-sys-5afeac7105d31ce6/out` (signal: 9, SIGKILL: kill)\n\nSTDOUT:{\"reason\":\"compiler-artifact\",\"package_id\":\"autocfg 1.1.0 (registry+https://github.com/rust-lang/crates.io-index)\",\"manifest_path\":\"/usr/local/cargo/registry/src/index.crates.io-6f17d22bba15001f/autocfg-1.1.0/Cargo.toml\",\"target\":{\"kind\":[\"lib\"],\"crate_types\":[\"lib\"],\"name\":\"autocfg\",\"src_path\":\"/usr/local/cargo/registry/src/index.crates.io-6f17d22bba15001f/autocfg-1.1.0/src/lib.rs\",\"edition\":\"2015\",\"doc\":true,\"doctest\":true,\"test\":true},\"profile\":{\"opt_level\":\"0\",\"debuginfo\":null,\"debug_assertions\":true,\"overflow_checks\":true,\"test\":false},\"features\":[],\"filenames\":[\"/tmp/.tmpCUQ1hT/target/debug/deps/libautocfg-6fcbd28e6621aaa3.rlib\",\"/tmp/.tmpCUQ1hT/target/debug/deps/libautocfg-6fcbd28e6621aaa3.rmeta\"],\"executable\":null,\"fresh\":true}\n{\"reason\":\"compiler-artifact\",\"package_id\":\"libc 0.2.147 (registry+https://github.com/rust-lang/crates.io-index)\",\"manifest_path\":\"/usr/local/cargo/registry/src/index.crates.io-6f17d22bba15001f/libc-0.2.147/Cargo.toml\",\"target\":{\"kind\":[\"custom-build\"],\"crate_types\":[\"bin\"],\"name\":\"build-script-build\",\"src_path\":\"/usr/local/cargo/registry/src/index.crates.io-6f17d22bba15001f/libc-0.2.147/build.rs\",\"edition\":\"2015\",\"doc\":false,\"doctest\":false,\"test\":false},\"profile\":{\"opt_level\":\"0\",\"debuginfo\":null,\"debug_assertions\":true,\"overflow_checks\":true,\"test\":false},\"features\":[\"default\",\"std\"],\"filenames\":[\"/tmp/.tmpCUQ1hT/target/debug/build/libc-dbc1a13cd4f83fbb/build-script-build\"],\"executable\":null,\"fresh\":true}\n{\"reason\":\"compiler-artifact\",\"package_id\":\"proc-macro2 1.0.66 (registry+https://github.com/rust-lang/crates.io-index)\",\"manifest_path\":\"/usr/local/cargo/registry/src/index.crates.io-6f17d22bba15001f/proc-macro2-1.0.66/Cargo.toml\",\"target\":{\"kind\":[\"custom-build\"],\"crate_types\":[\"bin\"],\"name\":\"build-script-build\",\"src_path\":\"/usr/local/cargo/registry/src/index.crates.io-6f17d22bba15001f/proc-macro2-1.0.66/build.rs\",\"edition\":\"2021\",\"doc\":false,\"doctest\":false,\"test\":false},\"profile\":{\"opt_level\":\"0\",\"debuginfo\":null,\"debug_assertions\":true,\"overflow_checks\":true,\"test\":false},\"features\":[\"default\",\"proc-macro\"],\"filenames\":[\"/tmp/.tmpCUQ1hT/target/debug/build/proc-macro2-e8a1ace7f3d36d65/build-script-build\"],\"executable\":null,\"fresh\":true}\n{\"reason\":\"compiler-artifact\",\"package_id\":\"unicode-ident 1.0.11 (registry+https://github.com/rust-lang/crates.io-index)\",\"manifest_path\":\"/usr/local/cargo/registry/src/index.crates.io-6f17d22bba15001f/unicode-ident-1.0.11/Cargo.toml\",\"target\":{\"kind\":[\"lib\"],\"crate_types\":[\"lib\"],\"name\":\"unicode-ident\",\"src_path\":\"/usr/local/cargo/registry/src/index.crates.io-6f17d22bba15001f/unicode-ident-1.0.11/src/lib.rs\",\"edition\":\"2018\",\"doc\":true,\"doctest\":true,\"test\":true},\"profile\":{\"opt_level\":\"0\",\"debuginfo\":null,\"debug_assertions\":true,\"overflow_checks\":true,\"test\":false},\"features\":[],\"filenames\":[\"/tmp/.tmpCUQ1hT/target/debug/deps/libunicode_ident-e7c69be63f6a6861.rlib\",\"/tmp/.tmpCUQ1hT/target/debug/deps/libunicode_ident-e7c69be63f6a6861.rmeta\"],\"executable\":null,\"fresh\":true}\n{\"reason\":\"compiler-artifact\",\"package_id\":\"cfg-if 1.0.0 (registry+https://github.com/rust-lang/crates.io-index)\",\"manifest_path\":\"/usr/local/cargo/registry/src/index.crates.io-6f17d22bba15001f/cfg-if-1.0.0/Cargo.toml\",\"target\":{\"kind\":[\"lib\"],\"crate_types\":[\"lib\"],\"name\":\"cfg-if\",\"src_path\":\"/usr/local/cargo/registry/src/index.crates.io-6f17d22bba15001f/cfg-if-1.0.0/src/lib.rs\",\"edition\":\"2018\",\"doc\":true,\"doctest\":true,\"test\":true},\"profile\":{\"opt_level\":\"2\",\"debuginfo\":null,\"debug_assertions\":true,\"overflow_checks\":true,\"test\":false},\"features\":[],\"filenames\":[\"/tmp/.tmpCUQ1hT/target/aarch64-unknown-linux-gnu/debug/deps/libcfg_if-aef3edbec0651992.rlib\",\"/tmp/.tmpCUQ1hT/target/aarch64-unknown-linux-gnu/debug/deps/libcfg_if-aef3edbec0651992.rmeta\"],\"executable\":null,\"fresh\":true}\n{\"reason\":\"build-script-executed\",\"package_id\":\"libc 0.2.147 (registry+https://github.com/rust-lang/crates.io-index)\",\"linked_libs\":[],\"linked_paths\":[],\"cfgs\":[\"freebsd11\",\"libc_priv_mod_use\",\"libc_union\",\"libc_const_size_of\",\"libc_align\",\"libc_int128\",\"libc_core_cvoid\",\"libc_packedN\",\"libc_cfg_target_vendor\",\"libc_non_exhaustive\",\"libc_long_array\",\"libc_ptr_addr_of\",\"libc_underscore_const_names\",\"libc_const_extern_fn\"],\"env\":[],\"out_dir\":\"/tmp/.tmpCUQ1hT/target/aarch64-unknown-linux-gnu/debug/build/libc-7d93fb38b339d81f/out\"}\n{\"reason\":\"build-script-executed\",\"package_id\":\"proc-macro2 1.0.66 (registry+https://github.com/rust-lang/crates.io-index)\",\"linked_libs\":[],\"linked_paths\":[],\"cfgs\":[\"wrap_proc_macro\"],\"env\":[],\"out_dir\":\"/tmp/.tmpCUQ1hT/target/debug/build/proc-macro2-56fcf604a79aada1/out\"}\n{\"reason\":\"compiler-artifact\",\"package_id\":\"libm 0.2.7 (registry+https://github.com/rust-lang/crates.io-index)\",\"manifest_path\":\"/usr/local/cargo/registry/src/index.crates.io-6f17d22bba15001f/libm-0.2.7/Cargo.toml\",\"target\":{\"kind\":[\"custom-build\"],\"crate_types\":[\"bin\"],\"name\":\"build-script-build\",\"src_path\":\"/usr/local/cargo/registry/src/index.crates.io-6f17d22bba15001f/libm-0.2.7/build.rs\",\"edition\":\"2018\",\"doc\":false,\"doctest\":false,\"test\":false},\"profile\":{\"opt_level\":\"0\",\"debuginfo\":null,\"debug_assertions\":true,\"overflow_checks\":true,\"test\":false},\"features\":[\"default\"],\"filenames\":[\"/tmp/.tmpCUQ1hT/target/debug/build/libm-3fa89cc1ffbc14c8/build-script-build\"],\"executable\":null,\"fresh\":true}\n{\"reason\":\"compiler-artifact\",\"package_id\":\"libc 0.2.147 (registry+https://github.com/rust-lang/crates.io-index)\",\"manifest_path\":\"/usr/local/cargo/registry/src/index.crates.io-6f17d22bba15001f/libc-0.2.147/Cargo.toml\",\"target\":{\"kind\":[\"lib\"],\"crate_types\":[\"lib\"],\"name\":\"libc\",\"src_path\":\"/usr/local/cargo/registry/src/index.crates.io-6f17d22bba15001f/libc-0.2.147/src/lib.rs\",\"edition\":\"2015\",\"doc\":true,\"doctest\":true,\"test\":true},\"profile\":{\"opt_level\":\"2\",\"debuginfo\":null,\"debug_assertions\":true,\"overflow_checks\":true,\"test\":false},\"features\":[\"default\",\"std\"],\"filenames\":[\"/tmp/.tmpCUQ1hT/target/aarch64-unknown-linux-gnu/debug/deps/liblibc-3569d88fc8ee0172.rlib\",\"/tmp/.tmpCUQ1hT/target/aarch64-unknown-linux-gnu/debug/deps/liblibc-3569d88fc8ee0172.rmeta\"],\"executable\":null,\"fresh\":true}\n{\"reason\":\"compiler-artifact\",\"package_id\":\"proc-macro2 1.0.66 (registry+https://github.com/rust-lang/crates.io-index)\",\"manifest_path\":\"/usr/local/cargo/registry/src/index.crates.io-6f17d22bba15001f/proc-macro2-1.0.66/Cargo.toml\",\"target\":{\"kind\":[\"lib\"],\"crate_types\":[\"lib\"],\"name\":\"proc-macro2\",\"src_path\":\"/usr/local/cargo/registry/src/index.crates.io-6f17d22bba15001f/proc-macro2-1.0.66/src/lib.rs\",\"edition\":\"2021\",\"doc\":true,\"doctest\":true,\"test\":true},\"profile\":{\"opt_level\":\"0\",\"debuginfo\":null,\"debug_assertions\":true,\"overflow_checks\":true,\"test\":false},\"features\":[\"default\",\"proc-macro\"],\"filenames\":[\"/tmp/.tmpCUQ1hT/target/debug/deps/libproc_macro2-de0f6f00c81a3ef5.rlib\",\"/tmp/.tmpCUQ1hT/target/debug/deps/libproc_macro2-de0f6f00c81a3ef5.rmeta\"],\"executable\":null,\"fresh\":true}\n{\"reason\":\"build-script-executed\",\"package_id\":\"libm 0.2.7 (registry+https://github.com/rust-lang/crates.io-index)\",\"linked_libs\":[],\"linked_paths\":[],\"cfgs\":[\"assert_no_panic\"],\"env\":[],\"out_dir\":\"/tmp/.tmpCUQ1hT/target/aarch64-unknown-linux-gnu/debug/build/libm-18477a9f2590fc6b/out\"}\n{\"reason\":\"compiler-artifact\",\"package_id\":\"quote 1.0.32 (registry+https://github.com/rust-lang/crates.io-index)\",\"manifest_path\":\"/usr/local/cargo/registry/src/index.crates.io-6f17d22bba15001f/quote-1.0.32/Cargo.toml\",\"target\":{\"kind\":[\"lib\"],\"crate_types\":[\"lib\"],\"name\":\"quote\",\"src_path\":\"/usr/local/cargo/registry/src/index.crates.io-6f17d22bba15001f/quote-1.0.32/src/lib.rs\",\"edition\":\"2018\",\"doc\":true,\"doctest\":true,\"test\":true},\"profile\":{\"opt_level\":\"0\",\"debuginfo\":null,\"debug_assertions\":true,\"overflow_checks\":true,\"test\":false},\"features\":[\"default\",\"proc-macro\"],\"filenames\":[\"/tmp/.tmpCUQ1hT/target/debug/deps/libquote-2f2cc36948c6a7b7.rlib\",\"/tmp/.tmpCUQ1hT/target/debug/deps/libquote-2f2cc36948c6a7b7.rmeta\"],\"executable\":null,\"fresh\":true}\n{\"reason\":\"compiler-artifact\",\"package_id\":\"libm 0.2.7 (registry+https://github.com/rust-lang/crates.io-index)\",\"manifest_path\":\"/usr/local/cargo/registry/src/index.crates.io-6f17d22bba15001f/libm-0.2.7/Cargo.toml\",\"target\":{\"kind\":[\"lib\"],\"crate_types\":[\"lib\"],\"name\":\"libm\",\"src_path\":\"/usr/local/cargo/registry/src/index.crates.io-6f17d22bba15001f/libm-0.2.7/src/lib.rs\",\"edition\":\"2018\",\"doc\":true,\"doctest\":true,\"test\":true},\"profile\":{\"opt_level\":\"2\",\"debuginfo\":null,\"debug_assertions\":true,\"overflow_checks\":true,\"test\":false},\"features\":[\"default\"],\"filenames\":[\"/tmp/.tmpCUQ1hT/target/aarch64-unknown-linux-gnu/debug/deps/liblibm-7fe8a5c1d1414043.rlib\",\"/tmp/.tmpCUQ1hT/target/aarch64-unknown-linux-gnu/debug/deps/liblibm-7fe8a5c1d1414043.rmeta\"],\"executable\":null,\"fresh\":true}\n{\"reason\":\"build-script-executed\",\"package_id\":\"libc 0.2.147 (registry+https://github.com/rust-lang/crates.io-index)\",\"linked_libs\":[],\"linked_paths\":[],\"cfgs\":[\"freebsd11\",\"libc_priv_mod_use\",\"libc_union\",\"libc_const_size_of\",\"libc_align\",\"libc_int128\",\"libc_core_cvoid\",\"libc_packedN\",\"libc_cfg_target_vendor\",\"libc_non_exhaustive\",\"libc_long_array\",\"libc_ptr_addr_of\",\"libc_underscore_const_names\",\"libc_const_extern_fn\"],\"env\":[],\"out_dir\":\"/tmp/.tmpCUQ1hT/target/debug/build/libc-1cd215c2b151331a/out\"}\n{\"reason\":\"compiler-artifact\",\"package_id\":\"syn 2.0.28 (registry+https://github.com/rust-lang/crates.io-index)\",\"manifest_path\":\"/usr/local/cargo/registry/src/index.crates.io-6f17d22bba15001f/syn-2.0.28/Cargo.toml\",\"target\":{\"kind\":[\"lib\"],\"crate_types\":[\"lib\"],\"name\":\"syn\",\"src_path\":\"/usr/local/cargo/registry/src/index.crates.io-6f17d22bba15001f/syn-2.0.28/src/lib.rs\",\"edition\":\"2021\",\"doc\":true,\"doctest\":true,\"test\":true},\"profile\":{\"opt_level\":\"0\",\"debuginfo\":null,\"debug_assertions\":true,\"overflow_checks\":true,\"test\":false},\"features\":[\"clone-impls\",\"default\",\"derive\",\"extra-traits\",\"full\",\"parsing\",\"printing\",\"proc-macro\",\"quote\",\"visit-mut\"],\"filenames\":[\"/tmp/.tmpCUQ1hT/target/debug/deps/libsyn-fa16a5f71fb5b658.rlib\",\"/tmp/.tmpCUQ1hT/target/debug/deps/libsyn-fa16a5f71fb5b658.rmeta\"],\"executable\":null,\"fresh\":true}\n{\"reason\":\"compiler-artifact\",\"package_id\":\"libc 0.2.147 (registry+https://github.com/rust-lang/crates.io-index)\",\"manifest_path\":\"/usr/local/cargo/registry/src/index.crates.io-6f17d22bba15001f/libc-0.2.147/Cargo.toml\",\"target\":{\"kind\":[\"lib\"],\"crate_types\":[\"lib\"],\"name\":\"libc\",\"src_path\":\"/usr/local/cargo/registry/src/index.crates.io-6f17d22bba15001f/libc-0.2.147/src/lib.rs\",\"edition\":\"2015\",\"doc\":true,\"doctest\":true,\"test\":true},\"profile\":{\"opt_level\":\"0\",\"debuginfo\":null,\"debug_assertions\":true,\"overflow_checks\":true,\"test\":false},\"features\":[\"default\",\"std\"],\"filenames\":[\"/tmp/.tmpCUQ1hT/target/debug/deps/liblibc-77f11f16e18167f6.rlib\",\"/tmp/.tmpCUQ1hT/target/debug/deps/liblibc-77f11f16e18167f6.rmeta\"],\"executable\":null,\"fresh\":true}\n{\"reason\":\"compiler-artifact\",\"package_id\":\"version_check 0.9.4 (registry+https://github.com/rust-lang/crates.io-index)\",\"manifest_path\":\"/usr/local/cargo/registry/src/index.crates.io-6f17d22bba15001f/version_check-0.9.4/Cargo.toml\",\"target\":{\"kind\":[\"lib\"],\"crate_types\":[\"lib\"],\"name\":\"version_check\",\"src_path\":\"/usr/local/cargo/registry/src/index.crates.io-6f17d22bba15001f/version_check-0.9.4/src/lib.rs\",\"edition\":\"2015\",\"doc\":true,\"doctest\":true,\"test\":true},\"profile\":{\"opt_level\":\"0\",\"debuginfo\":null,\"debug_assertions\":true,\"overflow_checks\":true,\"test\":false},\"features\":[],\"filenames\":[\"/tmp/.tmpCUQ1hT/target/debug/deps/libversion_check-0ebca5dc9bb57a81.rlib\",\"/tmp/.tmpCUQ1hT/target/debug/deps/libversion_check-0ebca5dc9bb57a81.rmeta\"],\"executable\":null,\"fresh\":true}\n{\"reason\":\"compiler-artifact\",\"package_id\":\"jobserver 0.1.26 (registry+https://github.com/rust-lang/crates.io-index)\",\"manifest_path\":\"/usr/local/cargo/registry/src/index.crates.io-6f17d22bba15001f/jobserver-0.1.26/Cargo.toml\",\"target\":{\"kind\":[\"lib\"],\"crate_types\":[\"lib\"],\"name\":\"jobserver\",\"src_path\":\"/usr/local/cargo/registry/src/index.crates.io-6f17d22bba15001f/jobserver-0.1.26/src/lib.rs\",\"edition\":\"2018\",\"doc\":true,\"doctest\":true,\"test\":true},\"profile\":{\"opt_level\":\"0\",\"debuginfo\":null,\"debug_assertions\":true,\"overflow_checks\":true,\"test\":false},\"features\":[],\"filenames\":[\"/tmp/.tmpCUQ1hT/target/debug/deps/libjobserver-2bb3bf1bef98ab89.rlib\",\"/tmp/.tmpCUQ1hT/target/debug/deps/libjobserver-2bb3bf1bef98ab89.rmeta\"],\"executable\":null,\"fresh\":true}\n{\"reason\":\"compiler-artifact\",\"package_id\":\"getrandom 0.2.10 (registry+https://github.com/rust-lang/crates.io-index)\",\"manifest_path\":\"/usr/local/cargo/registry/src/index.crates.io-6f17d22bba15001f/getrandom-0.2.10/Cargo.toml\",\"target\":{\"kind\":[\"lib\"],\"crate_types\":[\"lib\"],\"name\":\"getrandom\",\"src_path\":\"/usr/local/cargo/registry/src/index.crates.io-6f17d22bba15001f/getrandom-0.2.10/src/lib.rs\",\"edition\":\"2018\",\"doc\":true,\"doctest\":true,\"test\":true},\"profile\":{\"opt_level\":\"2\",\"debuginfo\":null,\"debug_assertions\":true,\"overflow_checks\":true,\"test\":false},\"features\":[\"std\"],\"filenames\":[\"/tmp/.tmpCUQ1hT/target/aarch64-unknown-linux-gnu/debug/deps/libgetrandom-2c2e5fbfb4a4c55a.rlib\",\"/tmp/.tmpCUQ1hT/target/aarch64-unknown-linux-gnu/debug/deps/libgetrandom-2c2e5fbfb4a4c55a.rmeta\"],\"executable\":null,\"fresh\":true}\n{\"reason\":\"compiler-artifact\",\"package_id\":\"scopeguard 1.2.0 (registry+https://github.com/rust-lang/crates.io-index)\",\"manifest_path\":\"/usr/local/cargo/registry/src/index.crates.io-6f17d22bba15001f/scopeguard-1.2.0/Cargo.toml\",\"target\":{\"kind\":[\"lib\"],\"crate_types\":[\"lib\"],\"name\":\"scopeguard\",\"src_path\":\"/usr/local/cargo/registry/src/index.crates.io-6f17d22bba15001f/scopeguard-1.2.0/src/lib.rs\",\"edition\":\"2015\",\"doc\":true,\"doctest\":true,\"test\":true},\"profile\":{\"opt_level\":\"2\",\"debuginfo\":null,\"debug_assertions\":true,\"overflow_checks\":true,\"test\":false},\"features\":[],\"filenames\":[\"/tmp/.tmpCUQ1hT/target/aarch64-unknown-linux-gnu/debug/deps/libscopeguard-85d39e190b5bde09.rlib\",\"/tmp/.tmpCUQ1hT/target/aarch64-unknown-linux-gnu/debug/deps/libscopeguard-85d39e190b5bde09.rmeta\"],\"executable\":null,\"fresh\":true}\n{\"reason\":\"compiler-artifact\",\"package_id\":\"cc 1.0.79 (registry+https://github.com/rust-lang/crates.io-index)\",\"manifest_path\":\"/usr/local/cargo/registry/src/index.crates.io-6f17d22bba15001f/cc-1.0.79/Cargo.toml\",\"target\":{\"kind\":[\"lib\"],\"crate_types\":[\"lib\"],\"name\":\"cc\",\"src_path\":\"/usr/local/cargo/registry/src/index.crates.io-6f17d22bba15001f/cc-1.0.79/src/lib.rs\",\"edition\":\"2018\",\"doc\":true,\"doctest\":true,\"test\":true},\"profile\":{\"opt_level\":\"0\",\"debuginfo\":null,\"debug_assertions\":true,\"overflow_checks\":true,\"test\":false},\"features\":[\"jobserver\",\"parallel\"],\"filenames\":[\"/tmp/.tmpCUQ1hT/target/debug/deps/libcc-4ecf086577c46f19.rlib\",\"/tmp/.tmpCUQ1hT/target/debug/deps/libcc-4ecf086577c46f19.rmeta\"],\"executable\":null,\"fresh\":true}\n{\"reason\":\"compiler-artifact\",\"package_id\":\"static_assertions 1.1.0 (registry+https://github.com/rust-lang/crates.io-index)\",\"manifest_path\":\"/usr/local/cargo/registry/src/index.crates.io-6f17d22bba15001f/static_assertions-1.1.0/Cargo.toml\",\"target\":{\"kind\":[\"lib\"],\"crate_types\":[\"lib\"],\"name\":\"static_assertions\",\"src_path\":\"/usr/local/cargo/registry/src/index.crates.io-6f17d22bba15001f/static_assertions-1.1.0/src/lib.rs\",\"edition\":\"2015\",\"doc\":true,\"doctest\":true,\"test\":true},\"profile\":{\"opt_level\":\"2\",\"debuginfo\":null,\"debug_assertions\":true,\"overflow_checks\":true,\"test\":false},\"features\":[],\"filenames\":[\"/tmp/.tmpCUQ1hT/target/aarch64-unknown-linux-gnu/debug/deps/libstatic_assertions-959ed36936fa7001.rlib\",\"/tmp/.tmpCUQ1hT/target/aarch64-unknown-linux-gnu/debug/deps/libstatic_assertions-959ed36936fa7001.rmeta\"],\"executable\":null,\"fresh\":true}\n{\"reason\":\"compiler-artifact\",\"package_id\":\"crossbeam-utils 0.8.16 (registry+https://github.com/rust-lang/crates.io-index)\",\"manifest_path\":\"/usr/local/cargo/registry/src/index.crates.io-6f17d22bba15001f/crossbeam-utils-0.8.16/Cargo.toml\",\"target\":{\"kind\":[\"custom-build\"],\"crate_types\":[\"bin\"],\"name\":\"build-script-build\",\"src_path\":\"/usr/local/cargo/registry/src/index.crates.io-6f17d22bba15001f/crossbeam-utils-0.8.16/build.rs\",\"edition\":\"2018\",\"doc\":false,\"doctest\":false,\"test\":false},\"profile\":{\"opt_level\":\"0\",\"debuginfo\":null,\"debug_assertions\":true,\"overflow_checks\":true,\"test\":false},\"features\":[\"default\",\"std\"],\"filenames\":[\"/tmp/.tmpCUQ1hT/target/debug/build/crossbeam-utils-e1930de849e15b3b/build-script-build\"],\"executable\":null,\"fresh\":true}\n{\"reason\":\"compiler-artifact\",\"package_id\":\"memchr 2.5.0 (registry+https://github.com/rust-lang/crates.io-index)\",\"manifest_path\":\"/usr/local/cargo/registry/src/index.crates.io-6f17d22bba15001f/memchr-2.5.0/Cargo.toml\",\"target\":{\"kind\":[\"custom-build\"],\"crate_types\":[\"bin\"],\"name\":\"build-script-build\",\"src_path\":\"/usr/local/cargo/registry/src/index.crates.io-6f17d22bba15001f/memchr-2.5.0/build.rs\",\"edition\":\"2018\",\"doc\":false,\"doctest\":false,\"test\":false},\"profile\":{\"opt_level\":\"0\",\"debuginfo\":null,\"debug_assertions\":true,\"overflow_checks\":true,\"test\":false},\"features\":[\"default\",\"std\"],\"filenames\":[\"/tmp/.tmpCUQ1hT/target/debug/build/memchr-48f1a80679326688/build-script-build\"],\"executable\":null,\"fresh\":true}\n{\"reason\":\"build-script-executed\",\"package_id\":\"crossbeam-utils 0.8.16 (registry+https://github.com/rust-lang/crates.io-index)\",\"linked_libs\":[],\"linked_paths\":[],\"cfgs\":[],\"env\":[],\"out_dir\":\"/tmp/.tmpCUQ1hT/target/aarch64-unknown-linux-gnu/debug/build/crossbeam-utils-f31ab2407252f19c/out\"}\n{\"reason\":\"compiler-artifact\",\"package_id\":\"memoffset 0.9.0 (registry+https://github.com/rust-lang/crates.io-index)\",\"manifest_path\":\"/usr/local/cargo/registry/src/index.crates.io-6f17d22bba15001f/memoffset-0.9.0/Cargo.toml\",\"target\":{\"kind\":[\"custom-build\"],\"crate_types\":[\"bin\"],\"name\":\"build-script-build\",\"src_path\":\"/usr/local/cargo/registry/src/index.crates.io-6f17d22bba15001f/memoffset-0.9.0/build.rs\",\"edition\":\"2015\",\"doc\":false,\"doctest\":false,\"test\":false},\"profile\":{\"opt_level\":\"0\",\"debuginfo\":null,\"debug_assertions\":true,\"overflow_checks\":true,\"test\":false},\"features\":[\"default\"],\"filenames\":[\"/tmp/.tmpCUQ1hT/target/debug/build/memoffset-24cf2be06d4ade99/build-script-build\"],\"executable\":null,\"fresh\":true}\n{\"reason\":\"build-script-executed\",\"package_id\":\"memchr 2.5.0 (registry+https://github.com/rust-lang/crates.io-index)\",\"linked_libs\":[],\"linked_paths\":[],\"cfgs\":[],\"env\":[],\"out_dir\":\"/tmp/.tmpCUQ1hT/target/aarch64-unknown-linux-gnu/debug/build/memchr-1d8abcc1b50d3138/out\"}\n{\"reason\":\"build-script-executed\",\"package_id\":\"memoffset 0.9.0 (registry+https://github.com/rust-lang/crates.io-index)\",\"linked_libs\":[],\"linked_paths\":[],\"cfgs\":[\"tuple_ty\",\"allow_clippy\",\"maybe_uninit\",\"doctests\",\"raw_ref_macros\",\"stable_const\"],\"env\":[],\"out_dir\":\"/tmp/.tmpCUQ1hT/target/aarch64-unknown-linux-gnu/debug/build/memoffset-2118ffb523ab966a/out\"}\n{\"reason\":\"compiler-artifact\",\"package_id\":\"crossbeam-utils 0.8.16 (registry+https://github.com/rust-lang/crates.io-index)\",\"manifest_path\":\"/usr/local/cargo/registry/src/index.crates.io-6f17d22bba15001f/crossbeam-utils-0.8.16/Cargo.toml\",\"target\":{\"kind\":[\"lib\"],\"crate_types\":[\"lib\"],\"name\":\"crossbeam-utils\",\"src_path\":\"/usr/local/cargo/registry/src/index.crates.io-6f17d22bba15001f/crossbeam-utils-0.8.16/src/lib.rs\",\"edition\":\"2018\",\"doc\":true,\"doctest\":true,\"test\":true},\"profile\":{\"opt_level\":\"2\",\"debuginfo\":null,\"debug_assertions\":true,\"overflow_checks\":true,\"test\":false},\"features\":[\"default\",\"std\"],\"filenames\":[\"/tmp/.tmpCUQ1hT/target/aarch64-unknown-linux-gnu/debug/deps/libcrossbeam_utils-b3101919eaf0d16c.rlib\",\"/tmp/.tmpCUQ1hT/target/aarch64-unknown-linux-gnu/debug/deps/libcrossbeam_utils-b3101919eaf0d16c.rmeta\"],\"executable\":null,\"fresh\":true}\n{\"reason\":\"compiler-artifact\",\"package_id\":\"memchr 2.5.0 (registry+https://github.com/rust-lang/crates.io-index)\",\"manifest_path\":\"/usr/local/cargo/registry/src/index.crates.io-6f17d22bba15001f/memchr-2.5.0/Cargo.toml\",\"target\":{\"kind\":[\"lib\"],\"crate_types\":[\"lib\"],\"name\":\"memchr\",\"src_path\":\"/usr/local/cargo/registry/src/index.crates.io-6f17d22bba15001f/memchr-2.5.0/src/lib.rs\",\"edition\":\"2018\",\"doc\":true,\"doctest\":true,\"test\":true},\"profile\":{\"opt_level\":\"2\",\"debuginfo\":null,\"debug_assertions\":true,\"overflow_checks\":true,\"test\":false},\"features\":[\"default\",\"std\"],\"filenames\":[\"/tmp/.tmpCUQ1hT/target/aarch64-unknown-linux-gnu/debug/deps/libmemchr-9067e6a3c1b3f999.rlib\",\"/tmp/.tmpCUQ1hT/target/aarch64-unknown-linux-gnu/debug/deps/libmemchr-9067e6a3c1b3f999.rmeta\"],\"executable\":null,\"fresh\":true}\n{\"reason\":\"compiler-artifact\",\"package_id\":\"lexical-util 0.8.5 (registry+https://github.com/rust-lang/crates.io-index)\",\"manifest_path\":\"/usr/local/cargo/registry/src/index.crates.io-6f17d22bba15001f/lexical-util-0.8.5/Cargo.toml\",\"target\":{\"kind\":[\"lib\"],\"crate_types\":[\"lib\"],\"name\":\"lexical-util\",\"src_path\":\"/usr/local/cargo/registry/src/index.crates.io-6f17d22bba15001f/lexical-util-0.8.5/src/lib.rs\",\"edition\":\"2018\",\"doc\":true,\"doctest\":true,\"test\":true},\"profile\":{\"opt_level\":\"2\",\"debuginfo\":null,\"debug_assertions\":true,\"overflow_checks\":true,\"test\":false},\"features\":[\"floats\",\"integers\",\"parse\",\"parse-floats\",\"parse-integers\",\"std\",\"write\",\"write-floats\",\"write-integers\"],\"filenames\":[\"/tmp/.tmpCUQ1hT/target/aarch64-unknown-linux-gnu/debug/deps/liblexical_util-37171b88d92e604a.rlib\",\"/tmp/.tmpCUQ1hT/target/aarch64-unknown-linux-gnu/debug/deps/liblexical_util-37171b88d92e604a.rmeta\"],\"executable\":null,\"fresh\":true}\n{\"reason\":\"compiler-artifact\",\"package_id\":\"crossbeam-epoch 0.9.15 (registry+https://github.com/rust-lang/crates.io-index)\",\"manifest_path\":\"/usr/local/cargo/registry/src/index.crates.io-6f17d22bba15001f/crossbeam-epoch-0.9.15/Cargo.toml\",\"target\":{\"kind\":[\"custom-build\"],\"crate_types\":[\"bin\"],\"name\":\"build-script-build\",\"src_path\":\"/usr/local/cargo/registry/src/index.crates.io-6f17d22bba15001f/crossbeam-epoch-0.9.15/build.rs\",\"edition\":\"2018\",\"doc\":false,\"doctest\":false,\"test\":false},\"profile\":{\"opt_level\":\"0\",\"debuginfo\":null,\"debug_assertions\":true,\"overflow_checks\":true,\"test\":false},\"features\":[\"alloc\",\"std\"],\"filenames\":[\"/tmp/.tmpCUQ1hT/target/debug/build/crossbeam-epoch-31b5e8a28b23b54d/build-script-build\"],\"executable\":null,\"fresh\":true}\n{\"reason\":\"compiler-artifact\",\"package_id\":\"target-features 0.1.4 (registry+https://github.com/rust-lang/crates.io-index)\",\"manifest_path\":\"/usr/local/cargo/registry/src/index.crates.io-6f17d22bba15001f/target-features-0.1.4/Cargo.toml\",\"target\":{\"kind\":[\"custom-build\"],\"crate_types\":[\"bin\"],\"name\":\"build-script-build\",\"src_path\":\"/usr/local/cargo/registry/src/index.crates.io-6f17d22bba15001f/target-features-0.1.4/build.rs\",\"edition\":\"2021\",\"doc\":false,\"doctest\":false,\"test\":false},\"profile\":{\"opt_level\":\"0\",\"debuginfo\":null,\"debug_assertions\":true,\"overflow_checks\":true,\"test\":false},\"features\":[],\"filenames\":[\"/tmp/.tmpCUQ1hT/target/debug/build/target-features-43a35d87588908ee/build-script-build\"],\"executable\":null,\"fresh\":true}\n{\"reason\":\"compiler-artifact\",\"package_id\":\"futures-core 0.3.28 (registry+https://github.com/rust-lang/crates.io-index)\",\"manifest_path\":\"/usr/local/cargo/registry/src/index.crates.io-6f17d22bba15001f/futures-core-0.3.28/Cargo.toml\",\"target\":{\"kind\":[\"custom-build\"],\"crate_types\":[\"bin\"],\"name\":\"build-script-build\",\"src_path\":\"/usr/local/cargo/registry/src/index.crates.io-6f17d22bba15001f/futures-core-0.3.28/build.rs\",\"edition\":\"2018\",\"doc\":false,\"doctest\":false,\"test\":false},\"profile\":{\"opt_level\":\"0\",\"debuginfo\":null,\"debug_assertions\":true,\"overflow_checks\":true,\"test\":false},\"features\":[\"alloc\",\"std\"],\"filenames\":[\"/tmp/.tmpCUQ1hT/target/debug/build/futures-core-1813df2db190cbc8/build-script-build\"],\"executable\":null,\"fresh\":true}\n{\"reason\":\"compiler-artifact\",\"package_id\":\"pkg-config 0.3.27 (registry+https://github.com/rust-lang/crates.io-index)\",\"manifest_path\":\"/usr/local/cargo/registry/src/index.crates.io-6f17d22bba15001f/pkg-config-0.3.27/Cargo.toml\",\"target\":{\"kind\":[\"lib\"],\"crate_types\":[\"lib\"],\"name\":\"pkg-config\",\"src_path\":\"/usr/local/cargo/registry/src/index.crates.io-6f17d22bba15001f/pkg-config-0.3.27/src/lib.rs\",\"edition\":\"2015\",\"doc\":true,\"doctest\":true,\"test\":true},\"profile\":{\"opt_level\":\"0\",\"debuginfo\":null,\"debug_assertions\":true,\"overflow_checks\":true,\"test\":false},\"features\":[],\"filenames\":[\"/tmp/.tmpCUQ1hT/target/debug/deps/libpkg_config-8bb358591c092d46.rlib\",\"/tmp/.tmpCUQ1hT/target/debug/deps/libpkg_config-8bb358591c092d46.rmeta\"],\"executable\":null,\"fresh\":true}\n{\"reason\":\"compiler-artifact\",\"package_id\":\"syn 1.0.109 (registry+https://github.com/rust-lang/crates.io-index)\",\"manifest_path\":\"/usr/local/cargo/registry/src/index.crates.io-6f17d22bba15001f/syn-1.0.109/Cargo.toml\",\"target\":{\"kind\":[\"custom-build\"],\"crate_types\":[\"bin\"],\"name\":\"build-script-build\",\"src_path\":\"/usr/local/cargo/registry/src/index.crates.io-6f17d22bba15001f/syn-1.0.109/build.rs\",\"edition\":\"2018\",\"doc\":false,\"doctest\":false,\"test\":false},\"profile\":{\"opt_level\":\"0\",\"debuginfo\":null,\"debug_assertions\":true,\"overflow_checks\":true,\"test\":false},\"features\":[\"clone-impls\",\"default\",\"derive\",\"extra-traits\",\"full\",\"parsing\",\"printing\",\"proc-macro\",\"quote\",\"visit-mut\"],\"filenames\":[\"/tmp/.tmpCUQ1hT/target/debug/build/syn-6f5b5f0c2d084806/build-script-build\"],\"executable\":null,\"fresh\":true}\n{\"reason\":\"compiler-artifact\",\"package_id\":\"zstd-sys 2.0.8+zstd.1.5.5 (registry+https://github.com/rust-lang/crates.io-index)\",\"manifest_path\":\"/usr/local/cargo/registry/src/index.crates.io-6f17d22bba15001f/zstd-sys-2.0.8+zstd.1.5.5/Cargo.toml\",\"target\":{\"kind\":[\"custom-build\"],\"crate_types\":[\"bin\"],\"name\":\"build-script-build\",\"src_path\":\"/usr/local/cargo/registry/src/index.crates.io-6f17d22bba15001f/zstd-sys-2.0.8+zstd.1.5.5/build.rs\",\"edition\":\"2018\",\"doc\":false,\"doctest\":false,\"test\":false},\"profile\":{\"opt_level\":\"0\",\"debuginfo\":null,\"debug_assertions\":true,\"overflow_checks\":true,\"test\":false},\"features\":[\"legacy\",\"std\",\"zdict_builder\"],\"filenames\":[\"/tmp/.tmpCUQ1hT/target/debug/build/zstd-sys-f664f966686fb437/build-script-build\"],\"executable\":null,\"fresh\":true}\n{\"reason\":\"build-script-executed\",\"package_id\":\"futures-core 0.3.28 (registry+https://github.com/rust-lang/crates.io-index)\",\"linked_libs\":[],\"linked_paths\":[],\"cfgs\":[],\"env\":[],\"out_dir\":\"/tmp/.tmpCUQ1hT/target/aarch64-unknown-linux-gnu/debug/build/futures-core-9ea9900f84f6c2c1/out\"}\n{\"reason\":\"build-script-executed\",\"package_id\":\"syn 1.0.109 (registry+https://github.com/rust-lang/crates.io-index)\",\"linked_libs\":[],\"linked_paths\":[],\"cfgs\":[\"syn_disable_nightly_tests\"],\"env\":[],\"out_dir\":\"/tmp/.tmpCUQ1hT/target/debug/build/syn-11bbc0370138aaad/out\"}\n{\"reason\":\"build-script-executed\",\"package_id\":\"crossbeam-epoch 0.9.15 (registry+https://github.com/rust-lang/crates.io-index)\",\"linked_libs\":[],\"linked_paths\":[],\"cfgs\":[],\"env\":[],\"out_dir\":\"/tmp/.tmpCUQ1hT/target/aarch64-unknown-linux-gnu/debug/build/crossbeam-epoch-e8d3734bd2cdab14/out\"}\n{\"reason\":\"compiler-artifact\",\"package_id\":\"memoffset 0.9.0 (registry+https://github.com/rust-lang/crates.io-index)\",\"manifest_path\":\"/usr/local/cargo/registry/src/index.crates.io-6f17d22bba15001f/memoffset-0.9.0/Cargo.toml\",\"target\":{\"kind\":[\"lib\"],\"crate_types\":[\"lib\"],\"name\":\"memoffset\",\"src_path\":\"/usr/local/cargo/registry/src/index.crates.io-6f17d22bba15001f/memoffset-0.9.0/src/lib.rs\",\"edition\":\"2015\",\"doc\":true,\"doctest\":true,\"test\":true},\"profile\":{\"opt_level\":\"2\",\"debuginfo\":null,\"debug_assertions\":true,\"overflow_checks\":true,\"test\":false},\"features\":[\"default\"],\"filenames\":[\"/tmp/.tmpCUQ1hT/target/aarch64-unknown-linux-gnu/debug/deps/libmemoffset-b1e975e5bb179d09.rlib\",\"/tmp/.tmpCUQ1hT/target/aarch64-unknown-linux-gnu/debug/deps/libmemoffset-b1e975e5bb179d09.rmeta\"],\"executable\":null,\"fresh\":true}\n{\"reason\":\"compiler-artifact\",\"package_id\":\"ahash 0.8.3 (registry+https://github.com/rust-lang/crates.io-index)\",\"manifest_path\":\"/usr/local/cargo/registry/src/index.crates.io-6f17d22bba15001f/ahash-0.8.3/Cargo.toml\",\"target\":{\"kind\":[\"custom-build\"],\"crate_types\":[\"bin\"],\"name\":\"build-script-build\",\"src_path\":\"/usr/local/cargo/registry/src/index.crates.io-6f17d22bba15001f/ahash-0.8.3/./build.rs\",\"edition\":\"2018\",\"doc\":false,\"doctest\":false,\"test\":false},\"profile\":{\"opt_level\":\"0\",\"debuginfo\":null,\"debug_assertions\":true,\"overflow_checks\":true,\"test\":false},\"features\":[\"default\",\"getrandom\",\"runtime-rng\",\"std\"],\"filenames\":[\"/tmp/.tmpCUQ1hT/target/debug/build/ahash-9d9f43fbf78c2213/build-script-build\"],\"executable\":null,\"fresh\":true}\n{\"reason\":\"compiler-artifact\",\"package_id\":\"slab 0.4.8 (registry+https://github.com/rust-lang/crates.io-index)\",\"manifest_path\":\"/usr/local/cargo/registry/src/index.crates.io-6f17d22bba15001f/slab-0.4.8/Cargo.toml\",\"target\":{\"kind\":[\"custom-build\"],\"crate_types\":[\"bin\"],\"name\":\"build-script-build\",\"src_path\":\"/usr/local/cargo/registry/src/index.crates.io-6f17d22bba15001f/slab-0.4.8/build.rs\",\"edition\":\"2018\",\"doc\":false,\"doctest\":false,\"test\":false},\"profile\":{\"opt_level\":\"0\",\"debuginfo\":null,\"debug_assertions\":true,\"overflow_checks\":true,\"test\":false},\"features\":[\"default\",\"std\"],\"filenames\":[\"/tmp/.tmpCUQ1hT/target/debug/build/slab-61f5abc970a1ba34/build-script-build\"],\"executable\":null,\"fresh\":true}\n{\"reason\":\"compiler-artifact\",\"package_id\":\"futures-task 0.3.28 (registry+https://github.com/rust-lang/crates.io-index)\",\"manifest_path\":\"/usr/local/cargo/registry/src/index.crates.io-6f17d22bba15001f/futures-task-0.3.28/Cargo.toml\",\"target\":{\"kind\":[\"custom-build\"],\"crate_types\":[\"bin\"],\"name\":\"build-script-build\",\"src_path\":\"/usr/local/cargo/registry/src/index.crates.io-6f17d22bba15001f/futures-task-0.3.28/build.rs\",\"edition\":\"2018\",\"doc\":false,\"doctest\":false,\"test\":false},\"profile\":{\"opt_level\":\"0\",\"debuginfo\":null,\"debug_assertions\":true,\"overflow_checks\":true,\"test\":false},\"features\":[\"alloc\",\"std\"],\"filenames\":[\"/tmp/.tmpCUQ1hT/target/debug/build/futures-task-7034c9e94c99b71b/build-script-build\"],\"executable\":null,\"fresh\":true}\n{\"reason\":\"compiler-artifact\",\"package_id\":\"once_cell 1.18.0 (registry+https://github.com/rust-lang/crates.io-index)\",\"manifest_path\":\"/usr/local/cargo/registry/src/index.crates.io-6f17d22bba15001f/once_cell-1.18.0/Cargo.toml\",\"target\":{\"kind\":[\"lib\"],\"crate_types\":[\"lib\"],\"name\":\"once_cell\",\"src_path\":\"/usr/local/cargo/registry/src/index.crates.io-6f17d22bba15001f/once_cell-1.18.0/src/lib.rs\",\"edition\":\"2021\",\"doc\":true,\"doctest\":true,\"test\":true},\"profile\":{\"opt_level\":\"2\",\"debuginfo\":null,\"debug_assertions\":true,\"overflow_checks\":true,\"test\":false},\"features\":[\"alloc\",\"default\",\"race\",\"std\",\"unstable\"],\"filenames\":[\"/tmp/.tmpCUQ1hT/target/aarch64-unknown-linux-gnu/debug/deps/libonce_cell-1f3d8f13061616dd.rlib\",\"/tmp/.tmpCUQ1hT/target/aarch64-unknown-linux-gnu/debug/deps/libonce_cell-1f3d8f13061616dd.rmeta\"],\"executable\":null,\"fresh\":true}\n{\"reason\":\"compiler-artifact\",\"package_id\":\"semver 1.0.18 (registry+https://github.com/rust-lang/crates.io-index)\",\"manifest_path\":\"/usr/local/cargo/registry/src/index.crates.io-6f17d22bba15001f/semver-1.0.18/Cargo.toml\",\"target\":{\"kind\":[\"custom-build\"],\"crate_types\":[\"bin\"],\"name\":\"build-script-build\",\"src_path\":\"/usr/local/cargo/registry/src/index.crates.io-6f17d22bba15001f/semver-1.0.18/build.rs\",\"edition\":\"2018\",\"doc\":false,\"doctest\":false,\"test\":false},\"profile\":{\"opt_level\":\"0\",\"debuginfo\":null,\"debug_assertions\":true,\"overflow_checks\":true,\"test\":false},\"features\":[\"default\",\"std\"],\"filenames\":[\"/tmp/.tmpCUQ1hT/target/debug/build/semver-e064ddf09920f2c2/build-script-build\"],\"executable\":null,\"fresh\":true}\n{\"reason\":\"compiler-artifact\",\"package_id\":\"futures-channel 0.3.28 (registry+https://github.com/rust-lang/crates.io-index)\",\"manifest_path\":\"/usr/local/cargo/registry/src/index.crates.io-6f17d22bba15001f/futures-channel-0.3.28/Cargo.toml\",\"target\":{\"kind\":[\"custom-build\"],\"crate_types\":[\"bin\"],\"name\":\"build-script-build\",\"src_path\":\"/usr/local/cargo/registry/src/index.crates.io-6f17d22bba15001f/futures-channel-0.3.28/build.rs\",\"edition\":\"2018\",\"doc\":false,\"doctest\":false,\"test\":false},\"profile\":{\"opt_level\":\"0\",\"debuginfo\":null,\"debug_assertions\":true,\"overflow_checks\":true,\"test\":false},\"features\":[\"alloc\",\"futures-sink\",\"sink\",\"std\"],\"filenames\":[\"/tmp/.tmpCUQ1hT/target/debug/build/futures-channel-b3e579619a5ba6be/build-script-build\"],\"executable\":null,\"fresh\":true}\n{\"reason\":\"build-script-executed\",\"package_id\":\"semver 1.0.18 (registry+https://github.com/rust-lang/crates.io-index)\",\"linked_libs\":[],\"linked_paths\":[],\"cfgs\":[],\"env\":[],\"out_dir\":\"/tmp/.tmpCUQ1hT/target/debug/build/semver-19ba9625bc10ebf7/out\"}\n{\"reason\":\"build-script-executed\",\"package_id\":\"futures-channel 0.3.28 (registry+https://github.com/rust-lang/crates.io-index)\",\"linked_libs\":[],\"linked_paths\":[],\"cfgs\":[],\"env\":[],\"out_dir\":\"/tmp/.tmpCUQ1hT/target/aarch64-unknown-linux-gnu/debug/build/futures-channel-62576f0ba2acfe42/out\"}\n{\"reason\":\"build-script-executed\",\"package_id\":\"slab 0.4.8 (registry+https://github.com/rust-lang/crates.io-index)\",\"linked_libs\":[],\"linked_paths\":[],\"cfgs\":[],\"env\":[],\"out_dir\":\"/tmp/.tmpCUQ1hT/target/aarch64-unknown-linux-gnu/debug/build/slab-b9021581205c3b80/out\"}\n{\"reason\":\"build-script-executed\",\"package_id\":\"ahash 0.8.3 (registry+https://github.com/rust-lang/crates.io-index)\",\"linked_libs\":[],\"linked_paths\":[],\"cfgs\":[\"feature=\\\"folded_multiply\\\"\"],\"env\":[],\"out_dir\":\"/tmp/.tmpCUQ1hT/target/aarch64-unknown-linux-gnu/debug/build/ahash-210f152b15fb9474/out\"}\n{\"reason\":\"build-script-executed\",\"package_id\":\"futures-task 0.3.28 (registry+https://github.com/rust-lang/crates.io-index)\",\"linked_libs\":[],\"linked_paths\":[],\"cfgs\":[],\"env\":[],\"out_dir\":\"/tmp/.tmpCUQ1hT/target/aarch64-unknown-linux-gnu/debug/build/futures-task-4e129ea42e94013f/out\"}\n{\"reason\":\"compiler-artifact\",\"package_id\":\"crossbeam-epoch 0.9.15 (registry+https://github.com/rust-lang/crates.io-index)\",\"manifest_path\":\"/usr/local/cargo/registry/src/index.crates.io-6f17d22bba15001f/crossbeam-epoch-0.9.15/Cargo.toml\",\"target\":{\"kind\":[\"lib\"],\"crate_types\":[\"lib\"],\"name\":\"crossbeam-epoch\",\"src_path\":\"/usr/local/cargo/registry/src/index.crates.io-6f17d22bba15001f/crossbeam-epoch-0.9.15/src/lib.rs\",\"edition\":\"2018\",\"doc\":true,\"doctest\":true,\"test\":true},\"profile\":{\"opt_level\":\"2\",\"debuginfo\":null,\"debug_assertions\":true,\"overflow_checks\":true,\"test\":false},\"features\":[\"alloc\",\"std\"],\"filenames\":[\"/tmp/.tmpCUQ1hT/target/aarch64-unknown-linux-gnu/debug/deps/libcrossbeam_epoch-01c0a0319f591390.rlib\",\"/tmp/.tmpCUQ1hT/target/aarch64-unknown-linux-gnu/debug/deps/libcrossbeam_epoch-01c0a0319f591390.rmeta\"],\"executable\":null,\"fresh\":true}\n{\"reason\":\"compiler-artifact\",\"package_id\":\"syn 1.0.109 (registry+https://github.com/rust-lang/crates.io-index)\",\"manifest_path\":\"/usr/local/cargo/registry/src/index.crates.io-6f17d22bba15001f/syn-1.0.109/Cargo.toml\",\"target\":{\"kind\":[\"lib\"],\"crate_types\":[\"lib\"],\"name\":\"syn\",\"src_path\":\"/usr/local/cargo/registry/src/index.crates.io-6f17d22bba15001f/syn-1.0.109/src/lib.rs\",\"edition\":\"2018\",\"doc\":true,\"doctest\":true,\"test\":true},\"profile\":{\"opt_level\":\"0\",\"debuginfo\":null,\"debug_assertions\":true,\"overflow_checks\":true,\"test\":false},\"features\":[\"clone-impls\",\"default\",\"derive\",\"extra-traits\",\"full\",\"parsing\",\"printing\",\"proc-macro\",\"quote\",\"visit-mut\"],\"filenames\":[\"/tmp/.tmpCUQ1hT/target/debug/deps/libsyn-3a4328ef3428b100.rlib\",\"/tmp/.tmpCUQ1hT/target/debug/deps/libsyn-3a4328ef3428b100.rmeta\"],\"executable\":null,\"fresh\":true}\n{\"reason\":\"build-script-executed\",\"package_id\":\"zstd-sys 2.0.8+zstd.1.5.5 (registry+https://github.com/rust-lang/crates.io-index)\",\"linked_libs\":[\"static=zstd\"],\"linked_paths\":[\"native=/tmp/.tmpCUQ1hT/target/aarch64-unknown-linux-gnu/debug/build/zstd-sys-5afeac7105d31ce6/out\"],\"cfgs\":[],\"env\":[],\"out_dir\":\"/tmp/.tmpCUQ1hT/target/aarch64-unknown-linux-gnu/debug/build/zstd-sys-5afeac7105d31ce6/out\"}\n{\"reason\":\"compiler-artifact\",\"package_id\":\"futures-core 0.3.28 (registry+https://github.com/rust-lang/crates.io-index)\",\"manifest_path\":\"/usr/local/cargo/registry/src/index.crates.io-6f17d22bba15001f/futures-core-0.3.28/Cargo.toml\",\"target\":{\"kind\":[\"lib\"],\"crate_types\":[\"lib\"],\"name\":\"futures-core\",\"src_path\":\"/usr/local/cargo/registry/src/index.crates.io-6f17d22bba15001f/futures-core-0.3.28/src/lib.rs\",\"edition\":\"2018\",\"doc\":true,\"doctest\":true,\"test\":true},\"profile\":{\"opt_level\":\"2\",\"debuginfo\":null,\"debug_assertions\":true,\"overflow_checks\":true,\"test\":false},\"features\":[\"alloc\",\"std\"],\"filenames\":[\"/tmp/.tmpCUQ1hT/target/aarch64-unknown-linux-gnu/debug/deps/libfutures_core-b7a14c523ce87e8f.rlib\",\"/tmp/.tmpCUQ1hT/target/aarch64-unknown-linux-gnu/debug/deps/libfutures_core-b7a14c523ce87e8f.rmeta\"],\"executable\":null,\"fresh\":true}\n{\"reason\":\"compiler-artifact\",\"package_id\":\"futures-util 0.3.28 (registry+https://github.com/rust-lang/crates.io-index)\",\"manifest_path\":\"/usr/local/cargo/registry/src/index.crates.io-6f17d22bba15001f/futures-util-0.3.28/Cargo.toml\",\"target\":{\"kind\":[\"custom-build\"],\"crate_types\":[\"bin\"],\"name\":\"build-script-build\",\"src_path\":\"/usr/local/cargo/registry/src/index.crates.io-6f17d22bba15001f/futures-util-0.3.28/build.rs\",\"edition\":\"2018\",\"doc\":false,\"doctest\":false,\"test\":false},\"profile\":{\"opt_level\":\"0\",\"debuginfo\":null,\"debug_assertions\":true,\"overflow_checks\":true,\"test\":false},\"features\":[\"alloc\",\"async-await\",\"async-await-macro\",\"channel\",\"futures-channel\",\"futures-io\",\"futures-macro\",\"futures-sink\",\"io\",\"memchr\",\"sink\",\"slab\",\"std\"],\"filenames\":[\"/tmp/.tmpCUQ1hT/target/debug/build/futures-util-371402012f9a081b/build-script-build\"],\"executable\":null,\"fresh\":true}\n{\"reason\":\"compiler-artifact\",\"package_id\":\"either 1.9.0 (registry+https://github.com/rust-lang/crates.io-index)\",\"manifest_path\":\"/usr/local/cargo/registry/src/index.crates.io-6f17d22bba15001f/either-1.9.0/Cargo.toml\",\"target\":{\"kind\":[\"lib\"],\"crate_types\":[\"lib\"],\"name\":\"either\",\"src_path\":\"/usr/local/cargo/registry/src/index.crates.io-6f17d22bba15001f/either-1.9.0/src/lib.rs\",\"edition\":\"2018\",\"doc\":true,\"doctest\":true,\"test\":true},\"profile\":{\"opt_level\":\"2\",\"debuginfo\":null,\"debug_assertions\":true,\"overflow_checks\":true,\"test\":false},\"features\":[\"default\",\"use_std\"],\"filenames\":[\"/tmp/.tmpCUQ1hT/target/aarch64-unknown-linux-gnu/debug/deps/libeither-44ca51474f613e07.rlib\",\"/tmp/.tmpCUQ1hT/target/aarch64-unknown-linux-gnu/debug/deps/libeither-44ca51474f613e07.rmeta\"],\"executable\":null,\"fresh\":true}\n{\"reason\":\"compiler-artifact\",\"package_id\":\"futures-sink 0.3.28 (registry+https://github.com/rust-lang/crates.io-index)\",\"manifest_path\":\"/usr/local/cargo/registry/src/index.crates.io-6f17d22bba15001f/futures-sink-0.3.28/Cargo.toml\",\"target\":{\"kind\":[\"lib\"],\"crate_types\":[\"lib\"],\"name\":\"futures-sink\",\"src_path\":\"/usr/local/cargo/registry/src/index.crates.io-6f17d22bba15001f/futures-sink-0.3.28/src/lib.rs\",\"edition\":\"2018\",\"doc\":true,\"doctest\":true,\"test\":true},\"profile\":{\"opt_level\":\"2\",\"debuginfo\":null,\"debug_assertions\":true,\"overflow_checks\":true,\"test\":false},\"features\":[\"alloc\",\"std\"],\"filenames\":[\"/tmp/.tmpCUQ1hT/target/aarch64-unknown-linux-gnu/debug/deps/libfutures_sink-88154dfe4ca862fa.rlib\",\"/tmp/.tmpCUQ1hT/target/aarch64-unknown-linux-gnu/debug/deps/libfutures_sink-88154dfe4ca862fa.rmeta\"],\"executable\":null,\"fresh\":true}\n{\"reason\":\"compiler-artifact\",\"package_id\":\"serde 1.0.179 (registry+https://github.com/rust-lang/crates.io-index)\",\"manifest_path\":\"/usr/local/cargo/registry/src/index.crates.io-6f17d22bba15001f/serde-1.0.179/Cargo.toml\",\"target\":{\"kind\":[\"custom-build\"],\"crate_types\":[\"bin\"],\"name\":\"build-script-build\",\"src_path\":\"/usr/local/cargo/registry/src/index.crates.io-6f17d22bba15001f/serde-1.0.179/build.rs\",\"edition\":\"2015\",\"doc\":false,\"doctest\":false,\"test\":false},\"profile\":{\"opt_level\":\"0\",\"debuginfo\":null,\"debug_assertions\":true,\"overflow_checks\":true,\"test\":false},\"features\":[\"default\",\"derive\",\"serde_derive\",\"std\"],\"filenames\":[\"/tmp/.tmpCUQ1hT/target/debug/build/serde-363ccc49d7bb025f/build-script-build\"],\"executable\":null,\"fresh\":true}\n{\"reason\":\"compiler-artifact\",\"package_id\":\"pin-project-lite 0.2.10 (registry+https://github.com/rust-lang/crates.io-index)\",\"manifest_path\":\"/usr/local/cargo/registry/src/index.crates.io-6f17d22bba15001f/pin-project-lite-0.2.10/Cargo.toml\",\"target\":{\"kind\":[\"lib\"],\"crate_types\":[\"lib\"],\"name\":\"pin-project-lite\",\"src_path\":\"/usr/local/cargo/registry/src/index.crates.io-6f17d22bba15001f/pin-project-lite-0.2.10/src/lib.rs\",\"edition\":\"2018\",\"doc\":true,\"doctest\":true,\"test\":true},\"profile\":{\"opt_level\":\"2\",\"debuginfo\":null,\"debug_assertions\":true,\"overflow_checks\":true,\"test\":false},\"features\":[],\"filenames\":[\"/tmp/.tmpCUQ1hT/target/aarch64-unknown-linux-gnu/debug/deps/libpin_project_lite-cec6baf50a6c6925.rlib\",\"/tmp/.tmpCUQ1hT/target/aarch64-unknown-linux-gnu/debug/deps/libpin_project_lite-cec6baf50a6c6925.rmeta\"],\"executable\":null,\"fresh\":true}\n{\"reason\":\"compiler-artifact\",\"package_id\":\"rayon-core 1.11.0 (registry+https://github.com/rust-lang/crates.io-index)\",\"manifest_path\":\"/usr/local/cargo/registry/src/index.crates.io-6f17d22bba15001f/rayon-core-1.11.0/Cargo.toml\",\"target\":{\"kind\":[\"custom-build\"],\"crate_types\":[\"bin\"],\"name\":\"build-script-build\",\"src_path\":\"/usr/local/cargo/registry/src/index.crates.io-6f17d22bba15001f/rayon-core-1.11.0/build.rs\",\"edition\":\"2021\",\"doc\":false,\"doctest\":false,\"test\":false},\"profile\":{\"opt_level\":\"0\",\"debuginfo\":null,\"debug_assertions\":true,\"overflow_checks\":true,\"test\":false},\"features\":[],\"filenames\":[\"/tmp/.tmpCUQ1hT/target/debug/build/rayon-core-1a47e6e87e6b4305/build-script-build\"],\"executable\":null,\"fresh\":true}\n{\"reason\":\"build-script-executed\",\"package_id\":\"serde 1.0.179 (registry+https://github.com/rust-lang/crates.io-index)\",\"linked_libs\":[],\"linked_paths\":[],\"cfgs\":[],\"env\":[],\"out_dir\":\"/tmp/.tmpCUQ1hT/target/aarch64-unknown-linux-gnu/debug/build/serde-a8981076eb596758/out\"}\n{\"reason\":\"build-script-executed\",\"package_id\":\"rayon-core 1.11.0 (registry+https://github.com/rust-lang/crates.io-index)\",\"linked_libs\":[],\"linked_paths\":[],\"cfgs\":[],\"env\":[],\"out_dir\":\"/tmp/.tmpCUQ1hT/target/aarch64-unknown-linux-gnu/debug/build/rayon-core-332fd04cc6536aa8/out\"}\n{\"reason\":\"build-script-executed\",\"package_id\":\"futures-util 0.3.28 (registry+https://github.com/rust-lang/crates.io-index)\",\"linked_libs\":[],\"linked_paths\":[],\"cfgs\":[],\"env\":[],\"out_dir\":\"/tmp/.tmpCUQ1hT/target/aarch64-unknown-linux-gnu/debug/build/futures-util-77f4bca0b63a36c0/out\"}\n{\"reason\":\"compiler-artifact\",\"package_id\":\"futures-channel 0.3.28 (registry+https://github.com/rust-lang/crates.io-index)\",\"manifest_path\":\"/usr/local/cargo/registry/src/index.crates.io-6f17d22bba15001f/futures-channel-0.3.28/Cargo.toml\",\"target\":{\"kind\":[\"lib\"],\"crate_types\":[\"lib\"],\"name\":\"futures-channel\",\"src_path\":\"/usr/local/cargo/registry/src/index.crates.io-6f17d22bba15001f/futures-channel-0.3.28/src/lib.rs\",\"edition\":\"2018\",\"doc\":true,\"doctest\":true,\"test\":true},\"profile\":{\"opt_level\":\"2\",\"debuginfo\":null,\"debug_assertions\":true,\"overflow_checks\":true,\"test\":false},\"features\":[\"alloc\",\"futures-sink\",\"sink\",\"std\"],\"filenames\":[\"/tmp/.tmpCUQ1hT/target/aarch64-unknown-linux-gnu/debug/deps/libfutures_channel-a5df543fe669982f.rlib\",\"/tmp/.tmpCUQ1hT/target/aarch64-unknown-linux-gnu/debug/deps/libfutures_channel-a5df543fe669982f.rmeta\"],\"executable\":null,\"fresh\":true}\n{\"reason\":\"compiler-artifact\",\"package_id\":\"futures-task 0.3.28 (registry+https://github.com/rust-lang/crates.io-index)\",\"manifest_path\":\"/usr/local/cargo/registry/src/index.crates.io-6f17d22bba15001f/futures-task-0.3.28/Cargo.toml\",\"target\":{\"kind\":[\"lib\"],\"crate_types\":[\"lib\"],\"name\":\"futures-task\",\"src_path\":\"/usr/local/cargo/registry/src/index.crates.io-6f17d22bba15001f/futures-task-0.3.28/src/lib.rs\",\"edition\":\"2018\",\"doc\":true,\"doctest\":true,\"test\":true},\"profile\":{\"opt_level\":\"2\",\"debuginfo\":null,\"debug_assertions\":true,\"overflow_checks\":true,\"test\":false},\"features\":[\"alloc\",\"std\"],\"filenames\":[\"/tmp/.tmpCUQ1hT/target/aarch64-unknown-linux-gnu/debug/deps/libfutures_task-1997b6ace1eb3e9c.rlib\",\"/tmp/.tmpCUQ1hT/target/aarch64-unknown-linux-gnu/debug/deps/libfutures_task-1997b6ace1eb3e9c.rmeta\"],\"executable\":null,\"fresh\":true}\n{\"reason\":\"compiler-artifact\",\"package_id\":\"ahash 0.8.3 (registry+https://github.com/rust-lang/crates.io-index)\",\"manifest_path\":\"/usr/local/cargo/registry/src/index.crates.io-6f17d22bba15001f/ahash-0.8.3/Cargo.toml\",\"target\":{\"kind\":[\"lib\"],\"crate_types\":[\"lib\"],\"name\":\"ahash\",\"src_path\":\"/usr/local/cargo/registry/src/index.crates.io-6f17d22bba15001f/ahash-0.8.3/src/lib.rs\",\"edition\":\"2018\",\"doc\":true,\"doctest\":true,\"test\":true},\"profile\":{\"opt_level\":\"2\",\"debuginfo\":null,\"debug_assertions\":true,\"overflow_checks\":true,\"test\":false},\"features\":[\"default\",\"getrandom\",\"runtime-rng\",\"std\"],\"filenames\":[\"/tmp/.tmpCUQ1hT/target/aarch64-unknown-linux-gnu/debug/deps/libahash-905308c309da85b1.rlib\",\"/tmp/.tmpCUQ1hT/target/aarch64-unknown-linux-gnu/debug/deps/libahash-905308c309da85b1.rmeta\"],\"executable\":null,\"fresh\":true}\n{\"reason\":\"compiler-artifact\",\"package_id\":\"crossbeam-deque 0.8.3 (registry+https://github.com/rust-lang/crates.io-index)\",\"manifest_path\":\"/usr/local/cargo/registry/src/index.crates.io-6f17d22bba15001f/crossbeam-deque-0.8.3/Cargo.toml\",\"target\":{\"kind\":[\"lib\"],\"crate_types\":[\"lib\"],\"name\":\"crossbeam-deque\",\"src_path\":\"/usr/local/cargo/registry/src/index.crates.io-6f17d22bba15001f/crossbeam-deque-0.8.3/src/lib.rs\",\"edition\":\"2018\",\"doc\":true,\"doctest\":true,\"test\":true},\"profile\":{\"opt_level\":\"2\",\"debuginfo\":null,\"debug_assertions\":true,\"overflow_checks\":true,\"test\":false},\"features\":[\"crossbeam-epoch\",\"crossbeam-utils\",\"default\",\"std\"],\"filenames\":[\"/tmp/.tmpCUQ1hT/target/aarch64-unknown-linux-gnu/debug/deps/libcrossbeam_deque-ecfea82c7e33e45b.rlib\",\"/tmp/.tmpCUQ1hT/target/aarch64-unknown-linux-gnu/debug/deps/libcrossbeam_deque-ecfea82c7e33e45b.rmeta\"],\"executable\":null,\"fresh\":true}\n{\"reason\":\"compiler-artifact\",\"package_id\":\"slab 0.4.8 (registry+https://github.com/rust-lang/crates.io-index)\",\"manifest_path\":\"/usr/local/cargo/registry/src/index.crates.io-6f17d22bba15001f/slab-0.4.8/Cargo.toml\",\"target\":{\"kind\":[\"lib\"],\"crate_types\":[\"lib\"],\"name\":\"slab\",\"src_path\":\"/usr/local/cargo/registry/src/index.crates.io-6f17d22bba15001f/slab-0.4.8/src/lib.rs\",\"edition\":\"2018\",\"doc\":true,\"doctest\":true,\"test\":true},\"profile\":{\"opt_level\":\"2\",\"debuginfo\":null,\"debug_assertions\":true,\"overflow_checks\":true,\"test\":false},\"features\":[\"default\",\"std\"],\"filenames\":[\"/tmp/.tmpCUQ1hT/target/aarch64-unknown-linux-gnu/debug/deps/libslab-3bced67fb3716af3.rlib\",\"/tmp/.tmpCUQ1hT/target/aarch64-unknown-linux-gnu/debug/deps/libslab-3bced67fb3716af3.rmeta\"],\"executable\":null,\"fresh\":true}\n{\"reason\":\"compiler-artifact\",\"package_id\":\"semver 1.0.18 (registry+https://github.com/rust-lang/crates.io-index)\",\"manifest_path\":\"/usr/local/cargo/registry/src/index.crates.io-6f17d22bba15001f/semver-1.0.18/Cargo.toml\",\"target\":{\"kind\":[\"lib\"],\"crate_types\":[\"lib\"],\"name\":\"semver\",\"src_path\":\"/usr/local/cargo/registry/src/index.crates.io-6f17d22bba15001f/semver-1.0.18/src/lib.rs\",\"edition\":\"2018\",\"doc\":true,\"doctest\":true,\"test\":true},\"profile\":{\"opt_level\":\"0\",\"debuginfo\":null,\"debug_assertions\":true,\"overflow_checks\":true,\"test\":false},\"features\":[\"default\",\"std\"],\"filenames\":[\"/tmp/.tmpCUQ1hT/target/debug/deps/libsemver-907373c23dbf0ec9.rlib\",\"/tmp/.tmpCUQ1hT/target/debug/deps/libsemver-907373c23dbf0ec9.rmeta\"],\"executable\":null,\"fresh\":true}\n{\"reason\":\"build-script-executed\",\"package_id\":\"target-features 0.1.4 (registry+https://github.com/rust-lang/crates.io-index)\",\"linked_libs\":[],\"linked_paths\":[],\"cfgs\":[],\"env\":[],\"out_dir\":\"/tmp/.tmpCUQ1hT/target/debug/build/target-features-7044797dc17addcc/out\"}\n{\"reason\":\"compiler-artifact\",\"package_id\":\"lexical-parse-integer 0.8.6 (registry+https://github.com/rust-lang/crates.io-index)\",\"manifest_path\":\"/usr/local/cargo/registry/src/index.crates.io-6f17d22bba15001f/lexical-parse-integer-0.8.6/Cargo.toml\",\"target\":{\"kind\":[\"lib\"],\"crate_types\":[\"lib\"],\"name\":\"lexical-parse-integer\",\"src_path\":\"/usr/local/cargo/registry/src/index.crates.io-6f17d22bba15001f/lexical-parse-integer-0.8.6/src/lib.rs\",\"edition\":\"2018\",\"doc\":true,\"doctest\":true,\"test\":true},\"profile\":{\"opt_level\":\"2\",\"debuginfo\":null,\"debug_assertions\":true,\"overflow_checks\":true,\"test\":false},\"features\":[\"std\"],\"filenames\":[\"/tmp/.tmpCUQ1hT/target/aarch64-unknown-linux-gnu/debug/deps/liblexical_parse_integer-16276755549ba3ea.rlib\",\"/tmp/.tmpCUQ1hT/target/aarch64-unknown-linux-gnu/debug/deps/liblexical_parse_integer-16276755549ba3ea.rmeta\"],\"executable\":null,\"fresh\":true}\n{\"reason\":\"compiler-artifact\",\"package_id\":\"lexical-write-integer 0.8.5 (registry+https://github.com/rust-lang/crates.io-index)\",\"manifest_path\":\"/usr/local/cargo/registry/src/index.crates.io-6f17d22bba15001f/lexical-write-integer-0.8.5/Cargo.toml\",\"target\":{\"kind\":[\"lib\"],\"crate_types\":[\"lib\"],\"name\":\"lexical-write-integer\",\"src_path\":\"/usr/local/cargo/registry/src/index.crates.io-6f17d22bba15001f/lexical-write-integer-0.8.5/src/lib.rs\",\"edition\":\"2018\",\"doc\":true,\"doctest\":true,\"test\":true},\"profile\":{\"opt_level\":\"2\",\"debuginfo\":null,\"debug_assertions\":true,\"overflow_checks\":true,\"test\":false},\"features\":[\"std\"],\"filenames\":[\"/tmp/.tmpCUQ1hT/target/aarch64-unknown-linux-gnu/debug/deps/liblexical_write_integer-d9723220e9f460b8.rlib\",\"/tmp/.tmpCUQ1hT/target/aarch64-unknown-linux-gnu/debug/deps/liblexical_write_integer-d9723220e9f460b8.rmeta\"],\"executable\":null,\"fresh\":true}\n{\"reason\":\"compiler-artifact\",\"package_id\":\"crossbeam-channel 0.5.8 (registry+https://github.com/rust-lang/crates.io-index)\",\"manifest_path\":\"/usr/local/cargo/registry/src/index.crates.io-6f17d22bba15001f/crossbeam-channel-0.5.8/Cargo.toml\",\"target\":{\"kind\":[\"lib\"],\"crate_types\":[\"lib\"],\"name\":\"crossbeam-channel\",\"src_path\":\"/usr/local/cargo/registry/src/index.crates.io-6f17d22bba15001f/crossbeam-channel-0.5.8/src/lib.rs\",\"edition\":\"2018\",\"doc\":true,\"doctest\":true,\"test\":true},\"profile\":{\"opt_level\":\"2\",\"debuginfo\":null,\"debug_assertions\":true,\"overflow_checks\":true,\"test\":false},\"features\":[\"crossbeam-utils\",\"default\",\"std\"],\"filenames\":[\"/tmp/.tmpCUQ1hT/target/aarch64-unknown-linux-gnu/debug/deps/libcrossbeam_channel-a536c6d99f963609.rlib\",\"/tmp/.tmpCUQ1hT/target/aarch64-unknown-linux-gnu/debug/deps/libcrossbeam_channel-a536c6d99f963609.rmeta\"],\"executable\":null,\"fresh\":true}\n{\"reason\":\"compiler-artifact\",\"package_id\":\"lz4-sys 1.9.4 (registry+https://github.com/rust-lang/crates.io-index)\",\"manifest_path\":\"/usr/local/cargo/registry/src/index.crates.io-6f17d22bba15001f/lz4-sys-1.9.4/Cargo.toml\",\"target\":{\"kind\":[\"custom-build\"],\"crate_types\":[\"bin\"],\"name\":\"build-script-build\",\"src_path\":\"/usr/local/cargo/registry/src/index.crates.io-6f17d22bba15001f/lz4-sys-1.9.4/build.rs\",\"edition\":\"2015\",\"doc\":false,\"doctest\":false,\"test\":false},\"profile\":{\"opt_level\":\"0\",\"debuginfo\":null,\"debug_assertions\":true,\"overflow_checks\":true,\"test\":false},\"features\":[],\"filenames\":[\"/tmp/.tmpCUQ1hT/target/debug/build/lz4-sys-ddbbee7749e39b1b/build-script-build\"],\"executable\":null,\"fresh\":true}\n{\"reason\":\"compiler-artifact\",\"package_id\":\"serde_derive 1.0.179 (registry+https://github.com/rust-lang/crates.io-index)\",\"manifest_path\":\"/usr/local/cargo/registry/src/index.crates.io-6f17d22bba15001f/serde_derive-1.0.179/Cargo.toml\",\"target\":{\"kind\":[\"proc-macro\"],\"crate_types\":[\"proc-macro\"],\"name\":\"serde_derive\",\"src_path\":\"/usr/local/cargo/registry/src/index.crates.io-6f17d22bba15001f/serde_derive-1.0.179/src/lib.rs\",\"edition\":\"2015\",\"doc\":true,\"doctest\":true,\"test\":true},\"profile\":{\"opt_level\":\"0\",\"debuginfo\":null,\"debug_assertions\":true,\"overflow_checks\":true,\"test\":false},\"features\":[\"default\"],\"filenames\":[\"/tmp/.tmpCUQ1hT/target/debug/deps/libserde_derive-64228c220e0adf67.so\"],\"executable\":null,\"fresh\":true}\n{\"reason\":\"compiler-artifact\",\"package_id\":\"futures-macro 0.3.28 (registry+https://github.com/rust-lang/crates.io-index)\",\"manifest_path\":\"/usr/local/cargo/registry/src/index.crates.io-6f17d22bba15001f/futures-macro-0.3.28/Cargo.toml\",\"target\":{\"kind\":[\"proc-macro\"],\"crate_types\":[\"proc-macro\"],\"name\":\"futures-macro\",\"src_path\":\"/usr/local/cargo/registry/src/index.crates.io-6f17d22bba15001f/futures-macro-0.3.28/src/lib.rs\",\"edition\":\"2018\",\"doc\":true,\"doctest\":true,\"test\":true},\"profile\":{\"opt_level\":\"0\",\"debuginfo\":null,\"debug_assertions\":true,\"overflow_checks\":true,\"test\":false},\"features\":[],\"filenames\":[\"/tmp/.tmpCUQ1hT/target/debug/deps/libfutures_macro-21981af0139b4519.so\"],\"executable\":null,\"fresh\":true}\n{\"reason\":\"compiler-artifact\",\"package_id\":\"num_cpus 1.16.0 (registry+https://github.com/rust-lang/crates.io-index)\",\"manifest_path\":\"/usr/local/cargo/registry/src/index.crates.io-6f17d22bba15001f/num_cpus-1.16.0/Cargo.toml\",\"target\":{\"kind\":[\"lib\"],\"crate_types\":[\"lib\"],\"name\":\"num_cpus\",\"src_path\":\"/usr/local/cargo/registry/src/index.crates.io-6f17d22bba15001f/num_cpus-1.16.0/src/lib.rs\",\"edition\":\"2015\",\"doc\":true,\"doctest\":true,\"test\":true},\"profile\":{\"opt_level\":\"2\",\"debuginfo\":null,\"debug_assertions\":true,\"overflow_checks\":true,\"test\":false},\"features\":[],\"filenames\":[\"/tmp/.tmpCUQ1hT/target/aarch64-unknown-linux-gnu/debug/deps/libnum_cpus-cd6d7daa8975acca.rlib\",\"/tmp/.tmpCUQ1hT/target/aarch64-unknown-linux-gnu/debug/deps/libnum_cpus-cd6d7daa8975acca.rmeta\"],\"executable\":null,\"fresh\":true}\n{\"reason\":\"compiler-artifact\",\"package_id\":\"futures-io 0.3.28 (registry+https://github.com/rust-lang/crates.io-index)\",\"manifest_path\":\"/usr/local/cargo/registry/src/index.crates.io-6f17d22bba15001f/futures-io-0.3.28/Cargo.toml\",\"target\":{\"kind\":[\"lib\"],\"crate_types\":[\"lib\"],\"name\":\"futures-io\",\"src_path\":\"/usr/local/cargo/registry/src/index.crates.io-6f17d22bba15001f/futures-io-0.3.28/src/lib.rs\",\"edition\":\"2018\",\"doc\":true,\"doctest\":true,\"test\":true},\"profile\":{\"opt_level\":\"2\",\"debuginfo\":null,\"debug_assertions\":true,\"overflow_checks\":true,\"test\":false},\"features\":[\"std\"],\"filenames\":[\"/tmp/.tmpCUQ1hT/target/aarch64-unknown-linux-gnu/debug/deps/libfutures_io-e21ecbd948193e5d.rlib\",\"/tmp/.tmpCUQ1hT/target/aarch64-unknown-linux-gnu/debug/deps/libfutures_io-e21ecbd948193e5d.rmeta\"],\"executable\":null,\"fresh\":true}\n{\"reason\":\"compiler-artifact\",\"package_id\":\"zstd-safe 6.0.6 (registry+https://github.com/rust-lang/crates.io-index)\",\"manifest_path\":\"/usr/local/cargo/registry/src/index.crates.io-6f17d22bba15001f/zstd-safe-6.0.6/Cargo.toml\",\"target\":{\"kind\":[\"custom-build\"],\"crate_types\":[\"bin\"],\"name\":\"build-script-build\",\"src_path\":\"/usr/local/cargo/registry/src/index.crates.io-6f17d22bba15001f/zstd-safe-6.0.6/build.rs\",\"edition\":\"2018\",\"doc\":false,\"doctest\":false,\"test\":false},\"profile\":{\"opt_level\":\"0\",\"debuginfo\":null,\"debug_assertions\":true,\"overflow_checks\":true,\"test\":false},\"features\":[\"arrays\",\"legacy\",\"std\",\"zdict_builder\"],\"filenames\":[\"/tmp/.tmpCUQ1hT/target/debug/build/zstd-safe-a1b9101164420abd/build-script-build\"],\"executable\":null,\"fresh\":true}\n{\"reason\":\"compiler-artifact\",\"package_id\":\"pin-utils 0.1.0 (registry+https://github.com/rust-lang/crates.io-index)\",\"manifest_path\":\"/usr/local/cargo/registry/src/index.crates.io-6f17d22bba15001f/pin-utils-0.1.0/Cargo.toml\",\"target\":{\"kind\":[\"lib\"],\"crate_types\":[\"lib\"],\"name\":\"pin-utils\",\"src_path\":\"/usr/local/cargo/registry/src/index.crates.io-6f17d22bba15001f/pin-utils-0.1.0/src/lib.rs\",\"edition\":\"2018\",\"doc\":true,\"doctest\":true,\"test\":true},\"profile\":{\"opt_level\":\"2\",\"debuginfo\":null,\"debug_assertions\":true,\"overflow_checks\":true,\"test\":false},\"features\":[],\"filenames\":[\"/tmp/.tmpCUQ1hT/target/aarch64-unknown-linux-gnu/debug/deps/libpin_utils-f2eb816f10a763b8.rlib\",\"/tmp/.tmpCUQ1hT/target/aarch64-unknown-linux-gnu/debug/deps/libpin_utils-f2eb816f10a763b8.rmeta\"],\"executable\":null,\"fresh\":true}\n{\"reason\":\"compiler-artifact\",\"package_id\":\"rayon-core 1.11.0 (registry+https://github.com/rust-lang/crates.io-index)\",\"manifest_path\":\"/usr/local/cargo/registry/src/index.crates.io-6f17d22bba15001f/rayon-core-1.11.0/Cargo.toml\",\"target\":{\"kind\":[\"lib\"],\"crate_types\":[\"lib\"],\"name\":\"rayon-core\",\"src_path\":\"/usr/local/cargo/registry/src/index.crates.io-6f17d22bba15001f/rayon-core-1.11.0/src/lib.rs\",\"edition\":\"2021\",\"doc\":true,\"doctest\":true,\"test\":true},\"profile\":{\"opt_level\":\"2\",\"debuginfo\":null,\"debug_assertions\":true,\"overflow_checks\":true,\"test\":false},\"features\":[],\"filenames\":[\"/tmp/.tmpCUQ1hT/target/aarch64-unknown-linux-gnu/debug/deps/librayon_core-4b9edcf77fe545cf.rlib\",\"/tmp/.tmpCUQ1hT/target/aarch64-unknown-linux-gnu/debug/deps/librayon_core-4b9edcf77fe545cf.rmeta\"],\"executable\":null,\"fresh\":true}\n{\"reason\":\"compiler-artifact\",\"package_id\":\"futures-util 0.3.28 (registry+https://github.com/rust-lang/crates.io-index)\",\"manifest_path\":\"/usr/local/cargo/registry/src/index.crates.io-6f17d22bba15001f/futures-util-0.3.28/Cargo.toml\",\"target\":{\"kind\":[\"lib\"],\"crate_types\":[\"lib\"],\"name\":\"futures-util\",\"src_path\":\"/usr/local/cargo/registry/src/index.crates.io-6f17d22bba15001f/futures-util-0.3.28/src/lib.rs\",\"edition\":\"2018\",\"doc\":true,\"doctest\":true,\"test\":true},\"profile\":{\"opt_level\":\"2\",\"debuginfo\":null,\"debug_assertions\":true,\"overflow_checks\":true,\"test\":false},\"features\":[\"alloc\",\"async-await\",\"async-await-macro\",\"channel\",\"futures-channel\",\"futures-io\",\"futures-macro\",\"futures-sink\",\"io\",\"memchr\",\"sink\",\"slab\",\"std\"],\"filenames\":[\"/tmp/.tmpCUQ1hT/target/aarch64-unknown-linux-gnu/debug/deps/libfutures_util-74eaae292098659c.rlib\",\"/tmp/.tmpCUQ1hT/target/aarch64-unknown-linux-gnu/debug/deps/libfutures_util-74eaae292098659c.rmeta\"],\"executable\":null,\"fresh\":true}\n{\"reason\":\"build-script-executed\",\"package_id\":\"zstd-safe 6.0.6 (registry+https://github.com/rust-lang/crates.io-index)\",\"linked_libs\":[],\"linked_paths\":[],\"cfgs\":[],\"env\":[],\"out_dir\":\"/tmp/.tmpCUQ1hT/target/aarch64-unknown-linux-gnu/debug/build/zstd-safe-a045781c19c28db8/out\"}\n{\"reason\":\"build-script-executed\",\"package_id\":\"lz4-sys 1.9.4 (registry+https://github.com/rust-lang/crates.io-index)\",\"linked_libs\":[\"static=lz4\"],\"linked_paths\":[\"native=/tmp/.tmpCUQ1hT/target/aarch64-unknown-linux-gnu/debug/build/lz4-sys-d9eeb4f26f79cc59/out\"],\"cfgs\":[],\"env\":[],\"out_dir\":\"/tmp/.tmpCUQ1hT/target/aarch64-unknown-linux-gnu/debug/build/lz4-sys-d9eeb4f26f79cc59/out\"}\n{\"reason\":\"compiler-artifact\",\"package_id\":\"serde 1.0.179 (registry+https://github.com/rust-lang/crates.io-index)\",\"manifest_path\":\"/usr/local/cargo/registry/src/index.crates.io-6f17d22bba15001f/serde-1.0.179/Cargo.toml\",\"target\":{\"kind\":[\"lib\"],\"crate_types\":[\"lib\"],\"name\":\"serde\",\"src_path\":\"/usr/local/cargo/registry/src/index.crates.io-6f17d22bba15001f/serde-1.0.179/src/lib.rs\",\"edition\":\"2015\",\"doc\":true,\"doctest\":true,\"test\":true},\"profile\":{\"opt_level\":\"2\",\"debuginfo\":null,\"debug_assertions\":true,\"overflow_checks\":true,\"test\":false},\"features\":[\"default\",\"derive\",\"serde_derive\",\"std\"],\"filenames\":[\"/tmp/.tmpCUQ1hT/target/aarch64-unknown-linux-gnu/debug/deps/libserde-9f44df40a22feda5.rlib\",\"/tmp/.tmpCUQ1hT/target/aarch64-unknown-linux-gnu/debug/deps/libserde-9f44df40a22feda5.rmeta\"],\"executable\":null,\"fresh\":true}\n{\"reason\":\"compiler-artifact\",\"package_id\":\"target-features 0.1.4 (registry+https://github.com/rust-lang/crates.io-index)\",\"manifest_path\":\"/usr/local/cargo/registry/src/index.crates.io-6f17d22bba15001f/target-features-0.1.4/Cargo.toml\",\"target\":{\"kind\":[\"lib\"],\"crate_types\":[\"lib\"],\"name\":\"target-features\",\"src_path\":\"/usr/local/cargo/registry/src/index.crates.io-6f17d22bba15001f/target-features-0.1.4/src/lib.rs\",\"edition\":\"2021\",\"doc\":true,\"doctest\":true,\"test\":true},\"profile\":{\"opt_level\":\"0\",\"debuginfo\":null,\"debug_assertions\":true,\"overflow_checks\":true,\"test\":false},\"features\":[],\"filenames\":[\"/tmp/.tmpCUQ1hT/target/debug/deps/libtarget_features-daf63ce54916bb9e.rlib\",\"/tmp/.tmpCUQ1hT/target/debug/deps/libtarget_features-daf63ce54916bb9e.rmeta\"],\"executable\":null,\"fresh\":true}\n{\"reason\":\"compiler-artifact\",\"package_id\":\"lexical-parse-float 0.8.5 (registry+https://github.com/rust-lang/crates.io-index)\",\"manifest_path\":\"/usr/local/cargo/registry/src/index.crates.io-6f17d22bba15001f/lexical-parse-float-0.8.5/Cargo.toml\",\"target\":{\"kind\":[\"lib\"],\"crate_types\":[\"lib\"],\"name\":\"lexical-parse-float\",\"src_path\":\"/usr/local/cargo/registry/src/index.crates.io-6f17d22bba15001f/lexical-parse-float-0.8.5/src/lib.rs\",\"edition\":\"2018\",\"doc\":true,\"doctest\":true,\"test\":true},\"profile\":{\"opt_level\":\"2\",\"debuginfo\":null,\"debug_assertions\":true,\"overflow_checks\":true,\"test\":false},\"features\":[\"std\"],\"filenames\":[\"/tmp/.tmpCUQ1hT/target/aarch64-unknown-linux-gnu/debug/deps/liblexical_parse_float-1ab799694f6ddc8d.rlib\",\"/tmp/.tmpCUQ1hT/target/aarch64-unknown-linux-gnu/debug/deps/liblexical_parse_float-1ab799694f6ddc8d.rmeta\"],\"executable\":null,\"fresh\":true}\n{\"reason\":\"compiler-artifact\",\"package_id\":\"lexical-write-float 0.8.5 (registry+https://github.com/rust-lang/crates.io-index)\",\"manifest_path\":\"/usr/local/cargo/registry/src/index.crates.io-6f17d22bba15001f/lexical-write-float-0.8.5/Cargo.toml\",\"target\":{\"kind\":[\"lib\"],\"crate_types\":[\"lib\"],\"name\":\"lexical-write-float\",\"src_path\":\"/usr/local/cargo/registry/src/index.crates.io-6f17d22bba15001f/lexical-write-float-0.8.5/src/lib.rs\",\"edition\":\"2018\",\"doc\":true,\"doctest\":true,\"test\":true},\"profile\":{\"opt_level\":\"2\",\"debuginfo\":null,\"debug_assertions\":true,\"overflow_checks\":true,\"test\":false},\"features\":[\"std\"],\"filenames\":[\"/tmp/.tmpCUQ1hT/target/aarch64-unknown-linux-gnu/debug/deps/liblexical_write_float-1b3cde74b21e1177.rlib\",\"/tmp/.tmpCUQ1hT/target/aarch64-unknown-linux-gnu/debug/deps/liblexical_write_float-1b3cde74b21e1177.rmeta\"],\"executable\":null,\"fresh\":true}\n{\"reason\":\"compiler-artifact\",\"package_id\":\"rustc_version 0.4.0 (registry+https://github.com/rust-lang/crates.io-index)\",\"manifest_path\":\"/usr/local/cargo/registry/src/index.crates.io-6f17d22bba15001f/rustc_version-0.4.0/Cargo.toml\",\"target\":{\"kind\":[\"lib\"],\"crate_types\":[\"lib\"],\"name\":\"rustc_version\",\"src_path\":\"/usr/local/cargo/registry/src/index.crates.io-6f17d22bba15001f/rustc_version-0.4.0/src/lib.rs\",\"edition\":\"2018\",\"doc\":true,\"doctest\":true,\"test\":true},\"profile\":{\"opt_level\":\"0\",\"debuginfo\":null,\"debug_assertions\":true,\"overflow_checks\":true,\"test\":false},\"features\":[],\"filenames\":[\"/tmp/.tmpCUQ1hT/target/debug/deps/librustc_version-bc0d26f6be03c73b.rlib\",\"/tmp/.tmpCUQ1hT/target/debug/deps/librustc_version-bc0d26f6be03c73b.rmeta\"],\"executable\":null,\"fresh\":true}\n{\"reason\":\"compiler-artifact\",\"package_id\":\"zstd-sys 2.0.8+zstd.1.5.5 (registry+https://github.com/rust-lang/crates.io-index)\",\"manifest_path\":\"/usr/local/cargo/registry/src/index.crates.io-6f17d22bba15001f/zstd-sys-2.0.8+zstd.1.5.5/Cargo.toml\",\"target\":{\"kind\":[\"lib\"],\"crate_types\":[\"lib\"],\"name\":\"zstd-sys\",\"src_path\":\"/usr/local/cargo/registry/src/index.crates.io-6f17d22bba15001f/zstd-sys-2.0.8+zstd.1.5.5/src/lib.rs\",\"edition\":\"2018\",\"doc\":true,\"doctest\":false,\"test\":true},\"profile\":{\"opt_level\":\"2\",\"debuginfo\":null,\"debug_assertions\":true,\"overflow_checks\":true,\"test\":false},\"features\":[\"legacy\",\"std\",\"zdict_builder\"],\"filenames\":[\"/tmp/.tmpCUQ1hT/target/aarch64-unknown-linux-gnu/debug/deps/libzstd_sys-208fe992c89da60d.rlib\",\"/tmp/.tmpCUQ1hT/target/aarch64-unknown-linux-gnu/debug/deps/libzstd_sys-208fe992c89da60d.rmeta\"],\"executable\":null,\"fresh\":true}\n{\"reason\":\"build-script-executed\",\"package_id\":\"target-features 0.1.4 (registry+https://github.com/rust-lang/crates.io-index)\",\"linked_libs\":[],\"linked_paths\":[],\"cfgs\":[],\"env\":[],\"out_dir\":\"/tmp/.tmpCUQ1hT/target/aarch64-unknown-linux-gnu/debug/build/target-features-fc8e3c16fab1edc2/out\"}\n{\"reason\":\"compiler-artifact\",\"package_id\":\"aho-corasick 1.0.2 (registry+https://github.com/rust-lang/crates.io-index)\",\"manifest_path\":\"/usr/local/cargo/registry/src/index.crates.io-6f17d22bba15001f/aho-corasick-1.0.2/Cargo.toml\",\"target\":{\"kind\":[\"lib\"],\"crate_types\":[\"lib\"],\"name\":\"aho_corasick\",\"src_path\":\"/usr/local/cargo/registry/src/index.crates.io-6f17d22bba15001f/aho-corasick-1.0.2/src/lib.rs\",\"edition\":\"2021\",\"doc\":true,\"doctest\":true,\"test\":true},\"profile\":{\"opt_level\":\"2\",\"debuginfo\":null,\"debug_assertions\":true,\"overflow_checks\":true,\"test\":false},\"features\":[\"default\",\"perf-literal\",\"std\"],\"filenames\":[\"/tmp/.tmpCUQ1hT/target/aarch64-unknown-linux-gnu/debug/deps/libaho_corasick-a5fc8a419f1211c7.rlib\",\"/tmp/.tmpCUQ1hT/target/aarch64-unknown-linux-gnu/debug/deps/libaho_corasick-a5fc8a419f1211c7.rmeta\"],\"executable\":null,\"fresh\":true}\n{\"reason\":\"compiler-artifact\",\"package_id\":\"iana-time-zone 0.1.57 (registry+https://github.com/rust-lang/crates.io-index)\",\"manifest_path\":\"/usr/local/cargo/registry/src/index.crates.io-6f17d22bba15001f/iana-time-zone-0.1.57/Cargo.toml\",\"target\":{\"kind\":[\"lib\"],\"crate_types\":[\"lib\"],\"name\":\"iana-time-zone\",\"src_path\":\"/usr/local/cargo/registry/src/index.crates.io-6f17d22bba15001f/iana-time-zone-0.1.57/src/lib.rs\",\"edition\":\"2018\",\"doc\":true,\"doctest\":true,\"test\":true},\"profile\":{\"opt_level\":\"2\",\"debuginfo\":null,\"debug_assertions\":true,\"overflow_checks\":true,\"test\":false},\"features\":[\"fallback\"],\"filenames\":[\"/tmp/.tmpCUQ1hT/target/aarch64-unknown-linux-gnu/debug/deps/libiana_time_zone-9a1f5b065e39c5bd.rlib\",\"/tmp/.tmpCUQ1hT/target/aarch64-unknown-linux-gnu/debug/deps/libiana_time_zone-9a1f5b065e39c5bd.rmeta\"],\"executable\":null,\"fresh\":true}\n{\"reason\":\"compiler-artifact\",\"package_id\":\"array-init-cursor 0.2.0 (registry+https://github.com/rust-lang/crates.io-index)\",\"manifest_path\":\"/usr/local/cargo/registry/src/index.crates.io-6f17d22bba15001f/array-init-cursor-0.2.0/Cargo.toml\",\"target\":{\"kind\":[\"lib\"],\"crate_types\":[\"lib\"],\"name\":\"array-init-cursor\",\"src_path\":\"/usr/local/cargo/registry/src/index.crates.io-6f17d22bba15001f/array-init-cursor-0.2.0/src/lib.rs\",\"edition\":\"2021\",\"doc\":true,\"doctest\":true,\"test\":true},\"profile\":{\"opt_level\":\"2\",\"debuginfo\":null,\"debug_assertions\":true,\"overflow_checks\":true,\"test\":false},\"features\":[],\"filenames\":[\"/tmp/.tmpCUQ1hT/target/aarch64-unknown-linux-gnu/debug/deps/libarray_init_cursor-d7e779b6e6409996.rlib\",\"/tmp/.tmpCUQ1hT/target/aarch64-unknown-linux-gnu/debug/deps/libarray_init_cursor-d7e779b6e6409996.rmeta\"],\"executable\":null,\"fresh\":true}\n{\"reason\":\"compiler-artifact\",\"package_id\":\"regex-syntax 0.7.4 (registry+https://github.com/rust-lang/crates.io-index)\",\"manifest_path\":\"/usr/local/cargo/registry/src/index.crates.io-6f17d22bba15001f/regex-syntax-0.7.4/Cargo.toml\",\"target\":{\"kind\":[\"lib\"],\"crate_types\":[\"lib\"],\"name\":\"regex-syntax\",\"src_path\":\"/usr/local/cargo/registry/src/index.crates.io-6f17d22bba15001f/regex-syntax-0.7.4/src/lib.rs\",\"edition\":\"2021\",\"doc\":true,\"doctest\":true,\"test\":true},\"profile\":{\"opt_level\":\"2\",\"debuginfo\":null,\"debug_assertions\":true,\"overflow_checks\":true,\"test\":false},\"features\":[\"default\",\"std\",\"unicode\",\"unicode-age\",\"unicode-bool\",\"unicode-case\",\"unicode-gencat\",\"unicode-perl\",\"unicode-script\",\"unicode-segment\"],\"filenames\":[\"/tmp/.tmpCUQ1hT/target/aarch64-unknown-linux-gnu/debug/deps/libregex_syntax-d20222b8ae17e61b.rlib\",\"/tmp/.tmpCUQ1hT/target/aarch64-unknown-linux-gnu/debug/deps/libregex_syntax-d20222b8ae17e61b.rmeta\"],\"executable\":null,\"fresh\":true}\n{\"reason\":\"compiler-artifact\",\"package_id\":\"log 0.4.19 (registry+https://github.com/rust-lang/crates.io-index)\",\"manifest_path\":\"/usr/local/cargo/registry/src/index.crates.io-6f17d22bba15001f/log-0.4.19/Cargo.toml\",\"target\":{\"kind\":[\"lib\"],\"crate_types\":[\"lib\"],\"name\":\"log\",\"src_path\":\"/usr/local/cargo/registry/src/index.crates.io-6f17d22bba15001f/log-0.4.19/src/lib.rs\",\"edition\":\"2015\",\"doc\":true,\"doctest\":true,\"test\":true},\"profile\":{\"opt_level\":\"2\",\"debuginfo\":null,\"debug_assertions\":true,\"overflow_checks\":true,\"test\":false},\"features\":[],\"filenames\":[\"/tmp/.tmpCUQ1hT/target/aarch64-unknown-linux-gnu/debug/deps/liblog-ca0a0b30fdbe6804.rlib\",\"/tmp/.tmpCUQ1hT/target/aarch64-unknown-linux-gnu/debug/deps/liblog-ca0a0b30fdbe6804.rmeta\"],\"executable\":null,\"fresh\":true}\n{\"reason\":\"compiler-artifact\",\"package_id\":\"planus 0.3.1 (registry+https://github.com/rust-lang/crates.io-index)\",\"manifest_path\":\"/usr/local/cargo/registry/src/index.crates.io-6f17d22bba15001f/planus-0.3.1/Cargo.toml\",\"target\":{\"kind\":[\"lib\"],\"crate_types\":[\"lib\"],\"name\":\"planus\",\"src_path\":\"/usr/local/cargo/registry/src/index.crates.io-6f17d22bba15001f/planus-0.3.1/src/lib.rs\",\"edition\":\"2021\",\"doc\":true,\"doctest\":true,\"test\":true},\"profile\":{\"opt_level\":\"2\",\"debuginfo\":null,\"debug_assertions\":true,\"overflow_checks\":true,\"test\":false},\"features\":[\"default\",\"std\"],\"filenames\":[\"/tmp/.tmpCUQ1hT/target/aarch64-unknown-linux-gnu/debug/deps/libplanus-42aed8a0aa994459.rlib\",\"/tmp/.tmpCUQ1hT/target/aarch64-unknown-linux-gnu/debug/deps/libplanus-42aed8a0aa994459.rmeta\"],\"executable\":null,\"fresh\":true}\n{\"reason\":\"compiler-artifact\",\"package_id\":\"regex-automata 0.3.4 (registry+https://github.com/rust-lang/crates.io-index)\",\"manifest_path\":\"/usr/local/cargo/registry/src/index.crates.io-6f17d22bba15001f/regex-automata-0.3.4/Cargo.toml\",\"target\":{\"kind\":[\"lib\"],\"crate_types\":[\"lib\"],\"name\":\"regex-automata\",\"src_path\":\"/usr/local/cargo/registry/src/index.crates.io-6f17d22bba15001f/regex-automata-0.3.4/src/lib.rs\",\"edition\":\"2021\",\"doc\":true,\"doctest\":true,\"test\":true},\"profile\":{\"opt_level\":\"2\",\"debuginfo\":null,\"debug_assertions\":true,\"overflow_checks\":true,\"test\":false},\"features\":[\"alloc\",\"dfa-onepass\",\"hybrid\",\"meta\",\"nfa-backtrack\",\"nfa-pikevm\",\"nfa-thompson\",\"perf-inline\",\"perf-literal\",\"perf-literal-multisubstring\",\"perf-literal-substring\",\"std\",\"syntax\",\"unicode\",\"unicode-age\",\"unicode-bool\",\"unicode-case\",\"unicode-gencat\",\"unicode-perl\",\"unicode-script\",\"unicode-segment\",\"unicode-word-boundary\"],\"filenames\":[\"/tmp/.tmpCUQ1hT/target/aarch64-unknown-linux-gnu/debug/deps/libregex_automata-349340124f24118d.rlib\",\"/tmp/.tmpCUQ1hT/target/aarch64-unknown-linux-gnu/debug/deps/libregex_automata-349340124f24118d.rmeta\"],\"executable\":null,\"fresh\":true}\n{\"reason\":\"compiler-artifact\",\"package_id\":\"target-features 0.1.4 (registry+https://github.com/rust-lang/crates.io-index)\",\"manifest_path\":\"/usr/local/cargo/registry/src/index.crates.io-6f17d22bba15001f/target-features-0.1.4/Cargo.toml\",\"target\":{\"kind\":[\"lib\"],\"crate_types\":[\"lib\"],\"name\":\"target-features\",\"src_path\":\"/usr/local/cargo/registry/src/index.crates.io-6f17d22bba15001f/target-features-0.1.4/src/lib.rs\",\"edition\":\"2021\",\"doc\":true,\"doctest\":true,\"test\":true},\"profile\":{\"opt_level\":\"2\",\"debuginfo\":null,\"debug_assertions\":true,\"overflow_checks\":true,\"test\":false},\"features\":[],\"filenames\":[\"/tmp/.tmpCUQ1hT/target/aarch64-unknown-linux-gnu/debug/deps/libtarget_features-a415f759f3c78df6.rlib\",\"/tmp/.tmpCUQ1hT/target/aarch64-unknown-linux-gnu/debug/deps/libtarget_features-a415f759f3c78df6.rmeta\"],\"executable\":null,\"fresh\":true}\n{\"reason\":\"compiler-artifact\",\"package_id\":\"arrow2 0.17.3 (registry+https://github.com/rust-lang/crates.io-index)\",\"manifest_path\":\"/usr/local/cargo/registry/src/index.crates.io-6f17d22bba15001f/arrow2-0.17.3/Cargo.toml\",\"target\":{\"kind\":[\"custom-build\"],\"crate_types\":[\"bin\"],\"name\":\"build-script-build\",\"src_path\":\"/usr/local/cargo/registry/src/index.crates.io-6f17d22bba15001f/arrow2-0.17.3/build.rs\",\"edition\":\"2021\",\"doc\":false,\"doctest\":false,\"test\":false},\"profile\":{\"opt_level\":\"0\",\"debuginfo\":null,\"debug_assertions\":true,\"overflow_checks\":true,\"test\":false},\"features\":[\"arrow-format\",\"compute_aggregate\",\"compute_arithmetics\",\"compute_arithmetics_decimal\",\"compute_boolean\",\"compute_boolean_kleene\",\"compute_cast\",\"compute_comparison\",\"compute_concatenate\",\"compute_filter\",\"compute_if_then_else\",\"compute_like\",\"compute_substring\",\"compute_take\",\"compute_temporal\",\"futures\",\"io_ipc\",\"io_ipc_compression\",\"io_ipc_write_async\",\"lexical-core\",\"lz4\",\"multiversion\",\"regex\",\"regex-syntax\",\"strength_reduce\",\"zstd\"],\"filenames\":[\"/tmp/.tmpCUQ1hT/target/debug/build/arrow2-0fbdf4c3a40a4c6c/build-script-build\"],\"executable\":null,\"fresh\":true}\n{\"reason\":\"compiler-artifact\",\"package_id\":\"lexical-core 0.8.5 (registry+https://github.com/rust-lang/crates.io-index)\",\"manifest_path\":\"/usr/local/cargo/registry/src/index.crates.io-6f17d22bba15001f/lexical-core-0.8.5/Cargo.toml\",\"target\":{\"kind\":[\"lib\"],\"crate_types\":[\"lib\"],\"name\":\"lexical-core\",\"src_path\":\"/usr/local/cargo/registry/src/index.crates.io-6f17d22bba15001f/lexical-core-0.8.5/src/lib.rs\",\"edition\":\"2018\",\"doc\":true,\"doctest\":true,\"test\":true},\"profile\":{\"opt_level\":\"2\",\"debuginfo\":null,\"debug_assertions\":true,\"overflow_checks\":true,\"test\":false},\"features\":[\"default\",\"floats\",\"integers\",\"lexical-parse-float\",\"lexical-parse-integer\",\"lexical-write-float\",\"lexical-write-integer\",\"parse\",\"parse-floats\",\"parse-integers\",\"std\",\"write\",\"write-floats\",\"write-integers\"],\"filenames\":[\"/tmp/.tmpCUQ1hT/target/aarch64-unknown-linux-gnu/debug/deps/liblexical_core-e1316ce1c2b09722.rlib\",\"/tmp/.tmpCUQ1hT/target/aarch64-unknown-linux-gnu/debug/deps/liblexical_core-e1316ce1c2b09722.rmeta\"],\"executable\":null,\"fresh\":true}\n{\"reason\":\"compiler-artifact\",\"package_id\":\"zstd-safe 6.0.6 (registry+https://github.com/rust-lang/crates.io-index)\",\"manifest_path\":\"/usr/local/cargo/registry/src/index.crates.io-6f17d22bba15001f/zstd-safe-6.0.6/Cargo.toml\",\"target\":{\"kind\":[\"lib\"],\"crate_types\":[\"lib\"],\"name\":\"zstd-safe\",\"src_path\":\"/usr/local/cargo/registry/src/index.crates.io-6f17d22bba15001f/zstd-safe-6.0.6/src/lib.rs\",\"edition\":\"2018\",\"doc\":true,\"doctest\":true,\"test\":true},\"profile\":{\"opt_level\":\"2\",\"debuginfo\":null,\"debug_assertions\":true,\"overflow_checks\":true,\"test\":false},\"features\":[\"arrays\",\"legacy\",\"std\",\"zdict_builder\"],\"filenames\":[\"/tmp/.tmpCUQ1hT/target/aarch64-unknown-linux-gnu/debug/deps/libzstd_safe-272d8b84e6cfa347.rlib\",\"/tmp/.tmpCUQ1hT/target/aarch64-unknown-linux-gnu/debug/deps/libzstd_safe-272d8b84e6cfa347.rmeta\"],\"executable\":null,\"fresh\":true}\n{\"reason\":\"compiler-artifact\",\"package_id\":\"multiversion-macros 0.7.2 (registry+https://github.com/rust-lang/crates.io-index)\",\"manifest_path\":\"/usr/local/cargo/registry/src/index.crates.io-6f17d22bba15001f/multiversion-macros-0.7.2/Cargo.toml\",\"target\":{\"kind\":[\"proc-macro\"],\"crate_types\":[\"proc-macro\"],\"name\":\"multiversion-macros\",\"src_path\":\"/usr/local/cargo/registry/src/index.crates.io-6f17d22bba15001f/multiversion-macros-0.7.2/src/lib.rs\",\"edition\":\"2021\",\"doc\":true,\"doctest\":true,\"test\":true},\"profile\":{\"opt_level\":\"0\",\"debuginfo\":null,\"debug_assertions\":true,\"overflow_checks\":true,\"test\":false},\"features\":[\"std\"],\"filenames\":[\"/tmp/.tmpCUQ1hT/target/debug/deps/libmultiversion_macros-ed87b5c97f263278.so\"],\"executable\":null,\"fresh\":true}\n{\"reason\":\"compiler-artifact\",\"package_id\":\"lz4-sys 1.9.4 (registry+https://github.com/rust-lang/crates.io-index)\",\"manifest_path\":\"/usr/local/cargo/registry/src/index.crates.io-6f17d22bba15001f/lz4-sys-1.9.4/Cargo.toml\",\"target\":{\"kind\":[\"lib\"],\"crate_types\":[\"lib\"],\"name\":\"lz4-sys\",\"src_path\":\"/usr/local/cargo/registry/src/index.crates.io-6f17d22bba15001f/lz4-sys-1.9.4/src/lib.rs\",\"edition\":\"2015\",\"doc\":true,\"doctest\":true,\"test\":true},\"profile\":{\"opt_level\":\"2\",\"debuginfo\":null,\"debug_assertions\":true,\"overflow_checks\":true,\"test\":false},\"features\":[],\"filenames\":[\"/tmp/.tmpCUQ1hT/target/aarch64-unknown-linux-gnu/debug/deps/liblz4_sys-aa5ad1b70d6a7834.rlib\",\"/tmp/.tmpCUQ1hT/target/aarch64-unknown-linux-gnu/debug/deps/liblz4_sys-aa5ad1b70d6a7834.rmeta\"],\"executable\":null,\"fresh\":true}\n{\"reason\":\"compiler-artifact\",\"package_id\":\"futures-executor 0.3.28 (registry+https://github.com/rust-lang/crates.io-index)\",\"manifest_path\":\"/usr/local/cargo/registry/src/index.crates.io-6f17d22bba15001f/futures-executor-0.3.28/Cargo.toml\",\"target\":{\"kind\":[\"lib\"],\"crate_types\":[\"lib\"],\"name\":\"futures-executor\",\"src_path\":\"/usr/local/cargo/registry/src/index.crates.io-6f17d22bba15001f/futures-executor-0.3.28/src/lib.rs\",\"edition\":\"2018\",\"doc\":true,\"doctest\":true,\"test\":true},\"profile\":{\"opt_level\":\"2\",\"debuginfo\":null,\"debug_assertions\":true,\"overflow_checks\":true,\"test\":false},\"features\":[\"std\"],\"filenames\":[\"/tmp/.tmpCUQ1hT/target/aarch64-unknown-linux-gnu/debug/deps/libfutures_executor-edcf80a8d0858f05.rlib\",\"/tmp/.tmpCUQ1hT/target/aarch64-unknown-linux-gnu/debug/deps/libfutures_executor-edcf80a8d0858f05.rmeta\"],\"executable\":null,\"fresh\":true}\n{\"reason\":\"compiler-artifact\",\"package_id\":\"rayon 1.7.0 (registry+https://github.com/rust-lang/crates.io-index)\",\"manifest_path\":\"/usr/local/cargo/registry/src/index.crates.io-6f17d22bba15001f/rayon-1.7.0/Cargo.toml\",\"target\":{\"kind\":[\"lib\"],\"crate_types\":[\"lib\"],\"name\":\"rayon\",\"src_path\":\"/usr/local/cargo/registry/src/index.crates.io-6f17d22bba15001f/rayon-1.7.0/src/lib.rs\",\"edition\":\"2021\",\"doc\":true,\"doctest\":true,\"test\":true},\"profile\":{\"opt_level\":\"2\",\"debuginfo\":null,\"debug_assertions\":true,\"overflow_checks\":true,\"test\":false},\"features\":[],\"filenames\":[\"/tmp/.tmpCUQ1hT/target/aarch64-unknown-linux-gnu/debug/deps/librayon-c4b6d5744d733b7e.rlib\",\"/tmp/.tmpCUQ1hT/target/aarch64-unknown-linux-gnu/debug/deps/librayon-c4b6d5744d733b7e.rmeta\"],\"executable\":null,\"fresh\":true}\n{\"reason\":\"compiler-artifact\",\"package_id\":\"bytemuck_derive 1.4.1 (registry+https://github.com/rust-lang/crates.io-index)\",\"manifest_path\":\"/usr/local/cargo/registry/src/index.crates.io-6f17d22bba15001f/bytemuck_derive-1.4.1/Cargo.toml\",\"target\":{\"kind\":[\"proc-macro\"],\"crate_types\":[\"proc-macro\"],\"name\":\"bytemuck_derive\",\"src_path\":\"/usr/local/cargo/registry/src/index.crates.io-6f17d22bba15001f/bytemuck_derive-1.4.1/src/lib.rs\",\"edition\":\"2018\",\"doc\":true,\"doctest\":true,\"test\":true},\"profile\":{\"opt_level\":\"0\",\"debuginfo\":null,\"debug_assertions\":true,\"overflow_checks\":true,\"test\":false},\"features\":[],\"filenames\":[\"/tmp/.tmpCUQ1hT/target/debug/deps/libbytemuck_derive-ba11e9d533fffe0f.so\"],\"executable\":null,\"fresh\":true}\n{\"reason\":\"compiler-artifact\",\"package_id\":\"lock_api 0.4.10 (registry+https://github.com/rust-lang/crates.io-index)\",\"manifest_path\":\"/usr/local/cargo/registry/src/index.crates.io-6f17d22bba15001f/lock_api-0.4.10/Cargo.toml\",\"target\":{\"kind\":[\"custom-build\"],\"crate_types\":[\"bin\"],\"name\":\"build-script-build\",\"src_path\":\"/usr/local/cargo/registry/src/index.crates.io-6f17d22bba15001f/lock_api-0.4.10/build.rs\",\"edition\":\"2018\",\"doc\":false,\"doctest\":false,\"test\":false},\"profile\":{\"opt_level\":\"0\",\"debuginfo\":null,\"debug_assertions\":true,\"overflow_checks\":true,\"test\":false},\"features\":[\"atomic_usize\",\"default\"],\"filenames\":[\"/tmp/.tmpCUQ1hT/target/debug/build/lock_api-fd8f35141238e5cb/build-script-build\"],\"executable\":null,\"fresh\":true}\n{\"reason\":\"compiler-artifact\",\"package_id\":\"thiserror 1.0.44 (registry+https://github.com/rust-lang/crates.io-index)\",\"manifest_path\":\"/usr/local/cargo/registry/src/index.crates.io-6f17d22bba15001f/thiserror-1.0.44/Cargo.toml\",\"target\":{\"kind\":[\"custom-build\"],\"crate_types\":[\"bin\"],\"name\":\"build-script-build\",\"src_path\":\"/usr/local/cargo/registry/src/index.crates.io-6f17d22bba15001f/thiserror-1.0.44/build.rs\",\"edition\":\"2021\",\"doc\":false,\"doctest\":false,\"test\":false},\"profile\":{\"opt_level\":\"0\",\"debuginfo\":null,\"debug_assertions\":true,\"overflow_checks\":true,\"test\":false},\"features\":[],\"filenames\":[\"/tmp/.tmpCUQ1hT/target/debug/build/thiserror-9224b1aa29a288f4/build-script-build\"],\"executable\":null,\"fresh\":true}\n{\"reason\":\"compiler-artifact\",\"package_id\":\"parking_lot_core 0.9.8 (registry+https://github.com/rust-lang/crates.io-index)\",\"manifest_path\":\"/usr/local/cargo/registry/src/index.crates.io-6f17d22bba15001f/parking_lot_core-0.9.8/Cargo.toml\",\"target\":{\"kind\":[\"custom-build\"],\"crate_types\":[\"bin\"],\"name\":\"build-script-build\",\"src_path\":\"/usr/local/cargo/registry/src/index.crates.io-6f17d22bba15001f/parking_lot_core-0.9.8/build.rs\",\"edition\":\"2018\",\"doc\":false,\"doctest\":false,\"test\":false},\"profile\":{\"opt_level\":\"0\",\"debuginfo\":null,\"debug_assertions\":true,\"overflow_checks\":true,\"test\":false},\"features\":[],\"filenames\":[\"/tmp/.tmpCUQ1hT/target/debug/build/parking_lot_core-7ebee107b35a0dc8/build-script-build\"],\"executable\":null,\"fresh\":true}\n{\"reason\":\"compiler-artifact\",\"package_id\":\"allocator-api2 0.2.16 (registry+https://github.com/rust-lang/crates.io-index)\",\"manifest_path\":\"/usr/local/cargo/registry/src/index.crates.io-6f17d22bba15001f/allocator-api2-0.2.16/Cargo.toml\",\"target\":{\"kind\":[\"lib\"],\"crate_types\":[\"lib\"],\"name\":\"allocator-api2\",\"src_path\":\"/usr/local/cargo/registry/src/index.crates.io-6f17d22bba15001f/allocator-api2-0.2.16/src/lib.rs\",\"edition\":\"2018\",\"doc\":true,\"doctest\":true,\"test\":true},\"profile\":{\"opt_level\":\"2\",\"debuginfo\":null,\"debug_assertions\":true,\"overflow_checks\":true,\"test\":false},\"features\":[\"alloc\"],\"filenames\":[\"/tmp/.tmpCUQ1hT/target/aarch64-unknown-linux-gnu/debug/deps/liballocator_api2-77331481b29bc08a.rlib\",\"/tmp/.tmpCUQ1hT/target/aarch64-unknown-linux-gnu/debug/deps/liballocator_api2-77331481b29bc08a.rmeta\"],\"executable\":null,\"fresh\":true}\n{\"reason\":\"compiler-artifact\",\"package_id\":\"signal-hook 0.3.17 (registry+https://github.com/rust-lang/crates.io-index)\",\"manifest_path\":\"/usr/local/cargo/registry/src/index.crates.io-6f17d22bba15001f/signal-hook-0.3.17/Cargo.toml\",\"target\":{\"kind\":[\"custom-build\"],\"crate_types\":[\"bin\"],\"name\":\"build-script-build\",\"src_path\":\"/usr/local/cargo/registry/src/index.crates.io-6f17d22bba15001f/signal-hook-0.3.17/build.rs\",\"edition\":\"2018\",\"doc\":false,\"doctest\":false,\"test\":false},\"profile\":{\"opt_level\":\"0\",\"debuginfo\":null,\"debug_assertions\":true,\"overflow_checks\":true,\"test\":false},\"features\":[\"channel\",\"default\",\"iterator\"],\"filenames\":[\"/tmp/.tmpCUQ1hT/target/debug/build/signal-hook-e9bb93eb59294877/build-script-build\"],\"executable\":null,\"fresh\":true}\n{\"reason\":\"compiler-artifact\",\"package_id\":\"rustversion 1.0.14 (registry+https://github.com/rust-lang/crates.io-index)\",\"manifest_path\":\"/usr/local/cargo/registry/src/index.crates.io-6f17d22bba15001f/rustversion-1.0.14/Cargo.toml\",\"target\":{\"kind\":[\"custom-build\"],\"crate_types\":[\"bin\"],\"name\":\"build-script-build\",\"src_path\":\"/usr/local/cargo/registry/src/index.crates.io-6f17d22bba15001f/rustversion-1.0.14/build/build.rs\",\"edition\":\"2018\",\"doc\":false,\"doctest\":false,\"test\":false},\"profile\":{\"opt_level\":\"0\",\"debuginfo\":null,\"debug_assertions\":true,\"overflow_checks\":true,\"test\":false},\"features\":[],\"filenames\":[\"/tmp/.tmpCUQ1hT/target/debug/build/rustversion-93bf824655606e1a/build-script-build\"],\"executable\":null,\"fresh\":true}\n{\"reason\":\"build-script-executed\",\"package_id\":\"parking_lot_core 0.9.8 (registry+https://github.com/rust-lang/crates.io-index)\",\"linked_libs\":[],\"linked_paths\":[],\"cfgs\":[],\"env\":[],\"out_dir\":\"/tmp/.tmpCUQ1hT/target/aarch64-unknown-linux-gnu/debug/build/parking_lot_core-3386a036bf4738e9/out\"}\n{\"reason\":\"build-script-executed\",\"package_id\":\"signal-hook 0.3.17 (registry+https://github.com/rust-lang/crates.io-index)\",\"linked_libs\":[],\"linked_paths\":[],\"cfgs\":[],\"env\":[],\"out_dir\":\"/tmp/.tmpCUQ1hT/target/aarch64-unknown-linux-gnu/debug/build/signal-hook-0afa1427af27359a/out\"}\n{\"reason\":\"build-script-executed\",\"package_id\":\"rustversion 1.0.14 (registry+https://github.com/rust-lang/crates.io-index)\",\"linked_libs\":[],\"linked_paths\":[],\"cfgs\":[],\"env\":[],\"out_dir\":\"/tmp/.tmpCUQ1hT/target/debug/build/rustversion-1e558be6f36bd907/out\"}\n{\"reason\":\"build-script-executed\",\"package_id\":\"thiserror 1.0.44 (registry+https://github.com/rust-lang/crates.io-index)\",\"linked_libs\":[],\"linked_paths\":[],\"cfgs\":[],\"env\":[],\"out_dir\":\"/tmp/.tmpCUQ1hT/target/aarch64-unknown-linux-gnu/debug/build/thiserror-ac1f719312e33e4f/out\"}\n{\"reason\":\"compiler-artifact\",\"package_id\":\"hashbrown 0.14.0 (registry+https://github.com/rust-lang/crates.io-index)\",\"manifest_path\":\"/usr/local/cargo/registry/src/index.crates.io-6f17d22bba15001f/hashbrown-0.14.0/Cargo.toml\",\"target\":{\"kind\":[\"lib\"],\"crate_types\":[\"lib\"],\"name\":\"hashbrown\",\"src_path\":\"/usr/local/cargo/registry/src/index.crates.io-6f17d22bba15001f/hashbrown-0.14.0/src/lib.rs\",\"edition\":\"2021\",\"doc\":true,\"doctest\":true,\"test\":true},\"profile\":{\"opt_level\":\"2\",\"debuginfo\":null,\"debug_assertions\":true,\"overflow_checks\":true,\"test\":false},\"features\":[\"ahash\",\"allocator-api2\",\"default\",\"inline-more\",\"raw\",\"rayon\"],\"filenames\":[\"/tmp/.tmpCUQ1hT/target/aarch64-unknown-linux-gnu/debug/deps/libhashbrown-4dd996a008d17533.rlib\",\"/tmp/.tmpCUQ1hT/target/aarch64-unknown-linux-gnu/debug/deps/libhashbrown-4dd996a008d17533.rmeta\"],\"executable\":null,\"fresh\":true}\n{\"reason\":\"build-script-executed\",\"package_id\":\"lock_api 0.4.10 (registry+https://github.com/rust-lang/crates.io-index)\",\"linked_libs\":[],\"linked_paths\":[],\"cfgs\":[\"has_const_fn_trait_bound\"],\"env\":[],\"out_dir\":\"/tmp/.tmpCUQ1hT/target/aarch64-unknown-linux-gnu/debug/build/lock_api-727e5b0c5f9b1c97/out\"}\n{\"reason\":\"compiler-artifact\",\"package_id\":\"bytemuck 1.13.1 (registry+https://github.com/rust-lang/crates.io-index)\",\"manifest_path\":\"/usr/local/cargo/registry/src/index.crates.io-6f17d22bba15001f/bytemuck-1.13.1/Cargo.toml\",\"target\":{\"kind\":[\"lib\"],\"crate_types\":[\"lib\"],\"name\":\"bytemuck\",\"src_path\":\"/usr/local/cargo/registry/src/index.crates.io-6f17d22bba15001f/bytemuck-1.13.1/src/lib.rs\",\"edition\":\"2018\",\"doc\":true,\"doctest\":true,\"test\":true},\"profile\":{\"opt_level\":\"2\",\"debuginfo\":null,\"debug_assertions\":true,\"overflow_checks\":true,\"test\":false},\"features\":[\"bytemuck_derive\",\"derive\"],\"filenames\":[\"/tmp/.tmpCUQ1hT/target/aarch64-unknown-linux-gnu/debug/deps/libbytemuck-00ca67e499056d43.rlib\",\"/tmp/.tmpCUQ1hT/target/aarch64-unknown-linux-gnu/debug/deps/libbytemuck-00ca67e499056d43.rmeta\"],\"executable\":null,\"fresh\":true}\n{\"reason\":\"compiler-artifact\",\"package_id\":\"lz4 1.24.0 (registry+https://github.com/rust-lang/crates.io-index)\",\"manifest_path\":\"/usr/local/cargo/registry/src/index.crates.io-6f17d22bba15001f/lz4-1.24.0/Cargo.toml\",\"target\":{\"kind\":[\"lib\"],\"crate_types\":[\"lib\"],\"name\":\"lz4\",\"src_path\":\"/usr/local/cargo/registry/src/index.crates.io-6f17d22bba15001f/lz4-1.24.0/src/lib.rs\",\"edition\":\"2018\",\"doc\":true,\"doctest\":true,\"test\":true},\"profile\":{\"opt_level\":\"2\",\"debuginfo\":null,\"debug_assertions\":true,\"overflow_checks\":true,\"test\":false},\"features\":[],\"filenames\":[\"/tmp/.tmpCUQ1hT/target/aarch64-unknown-linux-gnu/debug/deps/liblz4-7a9bd2b7939cdbc5.rlib\",\"/tmp/.tmpCUQ1hT/target/aarch64-unknown-linux-gnu/debug/deps/liblz4-7a9bd2b7939cdbc5.rmeta\"],\"executable\":null,\"fresh\":true}\n{\"reason\":\"compiler-artifact\",\"package_id\":\"futures 0.3.28 (registry+https://github.com/rust-lang/crates.io-index)\",\"manifest_path\":\"/usr/local/cargo/registry/src/index.crates.io-6f17d22bba15001f/futures-0.3.28/Cargo.toml\",\"target\":{\"kind\":[\"lib\"],\"crate_types\":[\"lib\"],\"name\":\"futures\",\"src_path\":\"/usr/local/cargo/registry/src/index.crates.io-6f17d22bba15001f/futures-0.3.28/src/lib.rs\",\"edition\":\"2018\",\"doc\":true,\"doctest\":true,\"test\":true},\"profile\":{\"opt_level\":\"2\",\"debuginfo\":null,\"debug_assertions\":true,\"overflow_checks\":true,\"test\":false},\"features\":[\"alloc\",\"async-await\",\"default\",\"executor\",\"futures-executor\",\"std\"],\"filenames\":[\"/tmp/.tmpCUQ1hT/target/aarch64-unknown-linux-gnu/debug/deps/libfutures-3ad504a451f9a133.rlib\",\"/tmp/.tmpCUQ1hT/target/aarch64-unknown-linux-gnu/debug/deps/libfutures-3ad504a451f9a133.rmeta\"],\"executable\":null,\"fresh\":true}\n{\"reason\":\"compiler-artifact\",\"package_id\":\"multiversion 0.7.2 (registry+https://github.com/rust-lang/crates.io-index)\",\"manifest_path\":\"/usr/local/cargo/registry/src/index.crates.io-6f17d22bba15001f/multiversion-0.7.2/Cargo.toml\",\"target\":{\"kind\":[\"lib\"],\"crate_types\":[\"lib\"],\"name\":\"multiversion\",\"src_path\":\"/usr/local/cargo/registry/src/index.crates.io-6f17d22bba15001f/multiversion-0.7.2/src/lib.rs\",\"edition\":\"2021\",\"doc\":true,\"doctest\":true,\"test\":true},\"profile\":{\"opt_level\":\"2\",\"debuginfo\":null,\"debug_assertions\":true,\"overflow_checks\":true,\"test\":false},\"features\":[\"default\",\"std\"],\"filenames\":[\"/tmp/.tmpCUQ1hT/target/aarch64-unknown-linux-gnu/debug/deps/libmultiversion-b9cc4116d7bd9b6a.rlib\",\"/tmp/.tmpCUQ1hT/target/aarch64-unknown-linux-gnu/debug/deps/libmultiversion-b9cc4116d7bd9b6a.rmeta\"],\"executable\":null,\"fresh\":true}\n{\"reason\":\"compiler-artifact\",\"package_id\":\"zstd 0.12.4 (registry+https://github.com/rust-lang/crates.io-index)\",\"manifest_path\":\"/usr/local/cargo/registry/src/index.crates.io-6f17d22bba15001f/zstd-0.12.4/Cargo.toml\",\"target\":{\"kind\":[\"lib\"],\"crate_types\":[\"lib\"],\"name\":\"zstd\",\"src_path\":\"/usr/local/cargo/registry/src/index.crates.io-6f17d22bba15001f/zstd-0.12.4/src/lib.rs\",\"edition\":\"2018\",\"doc\":true,\"doctest\":true,\"test\":true},\"profile\":{\"opt_level\":\"2\",\"debuginfo\":null,\"debug_assertions\":true,\"overflow_checks\":true,\"test\":false},\"features\":[\"arrays\",\"default\",\"legacy\",\"zdict_builder\"],\"filenames\":[\"/tmp/.tmpCUQ1hT/target/aarch64-unknown-linux-gnu/debug/deps/libzstd-67b9620aa8e2c223.rlib\",\"/tmp/.tmpCUQ1hT/target/aarch64-unknown-linux-gnu/debug/deps/libzstd-67b9620aa8e2c223.rmeta\"],\"executable\":null,\"fresh\":true}\n{\"reason\":\"build-script-executed\",\"package_id\":\"arrow2 0.17.3 (registry+https://github.com/rust-lang/crates.io-index)\",\"linked_libs\":[],\"linked_paths\":[],\"cfgs\":[],\"env\":[],\"out_dir\":\"/tmp/.tmpCUQ1hT/target/aarch64-unknown-linux-gnu/debug/build/arrow2-3dff51315df6da3a/out\"}\n{\"reason\":\"compiler-artifact\",\"package_id\":\"arrow-format 0.8.1 (registry+https://github.com/rust-lang/crates.io-index)\",\"manifest_path\":\"/usr/local/cargo/registry/src/index.crates.io-6f17d22bba15001f/arrow-format-0.8.1/Cargo.toml\",\"target\":{\"kind\":[\"lib\"],\"crate_types\":[\"lib\"],\"name\":\"arrow-format\",\"src_path\":\"/usr/local/cargo/registry/src/index.crates.io-6f17d22bba15001f/arrow-format-0.8.1/src/lib.rs\",\"edition\":\"2018\",\"doc\":true,\"doctest\":true,\"test\":true},\"profile\":{\"opt_level\":\"2\",\"debuginfo\":null,\"debug_assertions\":true,\"overflow_checks\":true,\"test\":false},\"features\":[\"default\",\"ipc\",\"planus\",\"serde\"],\"filenames\":[\"/tmp/.tmpCUQ1hT/target/aarch64-unknown-linux-gnu/debug/deps/libarrow_format-84916da7d7d9aece.rlib\",\"/tmp/.tmpCUQ1hT/target/aarch64-unknown-linux-gnu/debug/deps/libarrow_format-84916da7d7d9aece.rmeta\"],\"executable\":null,\"fresh\":true}\n{\"reason\":\"compiler-artifact\",\"package_id\":\"regex 1.9.1 (registry+https://github.com/rust-lang/crates.io-index)\",\"manifest_path\":\"/usr/local/cargo/registry/src/index.crates.io-6f17d22bba15001f/regex-1.9.1/Cargo.toml\",\"target\":{\"kind\":[\"lib\"],\"crate_types\":[\"lib\"],\"name\":\"regex\",\"src_path\":\"/usr/local/cargo/registry/src/index.crates.io-6f17d22bba15001f/regex-1.9.1/src/lib.rs\",\"edition\":\"2021\",\"doc\":true,\"doctest\":true,\"test\":true},\"profile\":{\"opt_level\":\"2\",\"debuginfo\":null,\"debug_assertions\":true,\"overflow_checks\":true,\"test\":false},\"features\":[\"default\",\"perf\",\"perf-backtrack\",\"perf-cache\",\"perf-dfa\",\"perf-inline\",\"perf-literal\",\"perf-onepass\",\"std\",\"unicode\",\"unicode-age\",\"unicode-bool\",\"unicode-case\",\"unicode-gencat\",\"unicode-perl\",\"unicode-script\",\"unicode-segment\"],\"filenames\":[\"/tmp/.tmpCUQ1hT/target/aarch64-unknown-linux-gnu/debug/deps/libregex-ce4fff22e2b092b0.rlib\",\"/tmp/.tmpCUQ1hT/target/aarch64-unknown-linux-gnu/debug/deps/libregex-ce4fff22e2b092b0.rmeta\"],\"executable\":null,\"fresh\":true}\n{\"reason\":\"compiler-artifact\",\"package_id\":\"mio 0.8.8 (registry+https://github.com/rust-lang/crates.io-index)\",\"manifest_path\":\"/usr/local/cargo/registry/src/index.crates.io-6f17d22bba15001f/mio-0.8.8/Cargo.toml\",\"target\":{\"kind\":[\"lib\"],\"crate_types\":[\"lib\"],\"name\":\"mio\",\"src_path\":\"/usr/local/cargo/registry/src/index.crates.io-6f17d22bba15001f/mio-0.8.8/src/lib.rs\",\"edition\":\"2018\",\"doc\":true,\"doctest\":true,\"test\":true},\"profile\":{\"opt_level\":\"2\",\"debuginfo\":null,\"debug_assertions\":true,\"overflow_checks\":true,\"test\":false},\"features\":[\"default\",\"log\",\"net\",\"os-ext\",\"os-poll\"],\"filenames\":[\"/tmp/.tmpCUQ1hT/target/aarch64-unknown-linux-gnu/debug/deps/libmio-0264a9dcf75105bb.rlib\",\"/tmp/.tmpCUQ1hT/target/aarch64-unknown-linux-gnu/debug/deps/libmio-0264a9dcf75105bb.rmeta\"],\"executable\":null,\"fresh\":true}\n{\"reason\":\"compiler-artifact\",\"package_id\":\"rand_core 0.6.4 (registry+https://github.com/rust-lang/crates.io-index)\",\"manifest_path\":\"/usr/local/cargo/registry/src/index.crates.io-6f17d22bba15001f/rand_core-0.6.4/Cargo.toml\",\"target\":{\"kind\":[\"lib\"],\"crate_types\":[\"lib\"],\"name\":\"rand_core\",\"src_path\":\"/usr/local/cargo/registry/src/index.crates.io-6f17d22bba15001f/rand_core-0.6.4/src/lib.rs\",\"edition\":\"2018\",\"doc\":true,\"doctest\":true,\"test\":true},\"profile\":{\"opt_level\":\"2\",\"debuginfo\":null,\"debug_assertions\":true,\"overflow_checks\":true,\"test\":false},\"features\":[\"alloc\",\"getrandom\",\"std\"],\"filenames\":[\"/tmp/.tmpCUQ1hT/target/aarch64-unknown-linux-gnu/debug/deps/librand_core-774e452d12d32cbb.rlib\",\"/tmp/.tmpCUQ1hT/target/aarch64-unknown-linux-gnu/debug/deps/librand_core-774e452d12d32cbb.rmeta\"],\"executable\":null,\"fresh\":true}\n{\"reason\":\"compiler-artifact\",\"package_id\":\"smartstring 1.0.1 (registry+https://github.com/rust-lang/crates.io-index)\",\"manifest_path\":\"/usr/local/cargo/registry/src/index.crates.io-6f17d22bba15001f/smartstring-1.0.1/Cargo.toml\",\"target\":{\"kind\":[\"custom-build\"],\"crate_types\":[\"bin\"],\"name\":\"build-script-build\",\"src_path\":\"/usr/local/cargo/registry/src/index.crates.io-6f17d22bba15001f/smartstring-1.0.1/./build.rs\",\"edition\":\"2021\",\"doc\":false,\"doctest\":false,\"test\":false},\"profile\":{\"opt_level\":\"0\",\"debuginfo\":null,\"debug_assertions\":true,\"overflow_checks\":true,\"test\":false},\"features\":[\"default\",\"std\"],\"filenames\":[\"/tmp/.tmpCUQ1hT/target/debug/build/smartstring-6162518edcd39c63/build-script-build\"],\"executable\":null,\"fresh\":true}\n{\"reason\":\"compiler-artifact\",\"package_id\":\"thiserror-impl 1.0.44 (registry+https://github.com/rust-lang/crates.io-index)\",\"manifest_path\":\"/usr/local/cargo/registry/src/index.crates.io-6f17d22bba15001f/thiserror-impl-1.0.44/Cargo.toml\",\"target\":{\"kind\":[\"proc-macro\"],\"crate_types\":[\"proc-macro\"],\"name\":\"thiserror-impl\",\"src_path\":\"/usr/local/cargo/registry/src/index.crates.io-6f17d22bba15001f/thiserror-impl-1.0.44/src/lib.rs\",\"edition\":\"2021\",\"doc\":true,\"doctest\":true,\"test\":true},\"profile\":{\"opt_level\":\"0\",\"debuginfo\":null,\"debug_assertions\":true,\"overflow_checks\":true,\"test\":false},\"features\":[],\"filenames\":[\"/tmp/.tmpCUQ1hT/target/debug/deps/libthiserror_impl-a72fe5f608f16815.so\"],\"executable\":null,\"fresh\":true}\n{\"reason\":\"compiler-artifact\",\"package_id\":\"signal-hook-registry 1.4.1 (registry+https://github.com/rust-lang/crates.io-index)\",\"manifest_path\":\"/usr/local/cargo/registry/src/index.crates.io-6f17d22bba15001f/signal-hook-registry-1.4.1/Cargo.toml\",\"target\":{\"kind\":[\"lib\"],\"crate_types\":[\"lib\"],\"name\":\"signal-hook-registry\",\"src_path\":\"/usr/local/cargo/registry/src/index.crates.io-6f17d22bba15001f/signal-hook-registry-1.4.1/src/lib.rs\",\"edition\":\"2015\",\"doc\":true,\"doctest\":true,\"test\":true},\"profile\":{\"opt_level\":\"2\",\"debuginfo\":null,\"debug_assertions\":true,\"overflow_checks\":true,\"test\":false},\"features\":[],\"filenames\":[\"/tmp/.tmpCUQ1hT/target/aarch64-unknown-linux-gnu/debug/deps/libsignal_hook_registry-67892c425cb7f067.rlib\",\"/tmp/.tmpCUQ1hT/target/aarch64-unknown-linux-gnu/debug/deps/libsignal_hook_registry-67892c425cb7f067.rmeta\"],\"executable\":null,\"fresh\":true}\n{\"reason\":\"compiler-artifact\",\"package_id\":\"ppv-lite86 0.2.17 (registry+https://github.com/rust-lang/crates.io-index)\",\"manifest_path\":\"/usr/local/cargo/registry/src/index.crates.io-6f17d22bba15001f/ppv-lite86-0.2.17/Cargo.toml\",\"target\":{\"kind\":[\"lib\"],\"crate_types\":[\"lib\"],\"name\":\"ppv-lite86\",\"src_path\":\"/usr/local/cargo/registry/src/index.crates.io-6f17d22bba15001f/ppv-lite86-0.2.17/src/lib.rs\",\"edition\":\"2018\",\"doc\":true,\"doctest\":true,\"test\":true},\"profile\":{\"opt_level\":\"2\",\"debuginfo\":null,\"debug_assertions\":true,\"overflow_checks\":true,\"test\":false},\"features\":[\"simd\",\"std\"],\"filenames\":[\"/tmp/.tmpCUQ1hT/target/aarch64-unknown-linux-gnu/debug/deps/libppv_lite86-c26d47616679139b.rlib\",\"/tmp/.tmpCUQ1hT/target/aarch64-unknown-linux-gnu/debug/deps/libppv_lite86-c26d47616679139b.rmeta\"],\"executable\":null,\"fresh\":true}\n{\"reason\":\"compiler-artifact\",\"package_id\":\"dyn-clone 1.0.12 (registry+https://github.com/rust-lang/crates.io-index)\",\"manifest_path\":\"/usr/local/cargo/registry/src/index.crates.io-6f17d22bba15001f/dyn-clone-1.0.12/Cargo.toml\",\"target\":{\"kind\":[\"lib\"],\"crate_types\":[\"lib\"],\"name\":\"dyn-clone\",\"src_path\":\"/usr/local/cargo/registry/src/index.crates.io-6f17d22bba15001f/dyn-clone-1.0.12/src/lib.rs\",\"edition\":\"2018\",\"doc\":true,\"doctest\":true,\"test\":true},\"profile\":{\"opt_level\":\"2\",\"debuginfo\":null,\"debug_assertions\":true,\"overflow_checks\":true,\"test\":false},\"features\":[],\"filenames\":[\"/tmp/.tmpCUQ1hT/target/aarch64-unknown-linux-gnu/debug/deps/libdyn_clone-88cb4b567a0743ac.rlib\",\"/tmp/.tmpCUQ1hT/target/aarch64-unknown-linux-gnu/debug/deps/libdyn_clone-88cb4b567a0743ac.rmeta\"],\"executable\":null,\"fresh\":true}\n{\"reason\":\"compiler-artifact\",\"package_id\":\"regex-syntax 0.6.29 (registry+https://github.com/rust-lang/crates.io-index)\",\"manifest_path\":\"/usr/local/cargo/registry/src/index.crates.io-6f17d22bba15001f/regex-syntax-0.6.29/Cargo.toml\",\"target\":{\"kind\":[\"lib\"],\"crate_types\":[\"lib\"],\"name\":\"regex-syntax\",\"src_path\":\"/usr/local/cargo/registry/src/index.crates.io-6f17d22bba15001f/regex-syntax-0.6.29/src/lib.rs\",\"edition\":\"2018\",\"doc\":true,\"doctest\":true,\"test\":true},\"profile\":{\"opt_level\":\"2\",\"debuginfo\":null,\"debug_assertions\":true,\"overflow_checks\":true,\"test\":false},\"features\":[\"default\",\"unicode\",\"unicode-age\",\"unicode-bool\",\"unicode-case\",\"unicode-gencat\",\"unicode-perl\",\"unicode-script\",\"unicode-segment\"],\"filenames\":[\"/tmp/.tmpCUQ1hT/target/aarch64-unknown-linux-gnu/debug/deps/libregex_syntax-19f055a76d0cb3a5.rlib\",\"/tmp/.tmpCUQ1hT/target/aarch64-unknown-linux-gnu/debug/deps/libregex_syntax-19f055a76d0cb3a5.rmeta\"],\"executable\":null,\"fresh\":true}\n{\"reason\":\"compiler-artifact\",\"package_id\":\"foreign_vec 0.1.0 (registry+https://github.com/rust-lang/crates.io-index)\",\"manifest_path\":\"/usr/local/cargo/registry/src/index.crates.io-6f17d22bba15001f/foreign_vec-0.1.0/Cargo.toml\",\"target\":{\"kind\":[\"lib\"],\"crate_types\":[\"lib\"],\"name\":\"foreign_vec\",\"src_path\":\"/usr/local/cargo/registry/src/index.crates.io-6f17d22bba15001f/foreign_vec-0.1.0/src/lib.rs\",\"edition\":\"2021\",\"doc\":true,\"doctest\":true,\"test\":true},\"profile\":{\"opt_level\":\"2\",\"debuginfo\":null,\"debug_assertions\":true,\"overflow_checks\":true,\"test\":false},\"features\":[],\"filenames\":[\"/tmp/.tmpCUQ1hT/target/aarch64-unknown-linux-gnu/debug/deps/libforeign_vec-e9d64551d8553a6e.rlib\",\"/tmp/.tmpCUQ1hT/target/aarch64-unknown-linux-gnu/debug/deps/libforeign_vec-e9d64551d8553a6e.rmeta\"],\"executable\":null,\"fresh\":true}\n{\"reason\":\"compiler-artifact\",\"package_id\":\"strength_reduce 0.2.4 (registry+https://github.com/rust-lang/crates.io-index)\",\"manifest_path\":\"/usr/local/cargo/registry/src/index.crates.io-6f17d22bba15001f/strength_reduce-0.2.4/Cargo.toml\",\"target\":{\"kind\":[\"lib\"],\"crate_types\":[\"lib\"],\"name\":\"strength_reduce\",\"src_path\":\"/usr/local/cargo/registry/src/index.crates.io-6f17d22bba15001f/strength_reduce-0.2.4/src/lib.rs\",\"edition\":\"2015\",\"doc\":true,\"doctest\":true,\"test\":true},\"profile\":{\"opt_level\":\"2\",\"debuginfo\":null,\"debug_assertions\":true,\"overflow_checks\":true,\"test\":false},\"features\":[],\"filenames\":[\"/tmp/.tmpCUQ1hT/target/aarch64-unknown-linux-gnu/debug/deps/libstrength_reduce-c2ef72aa0f1db33e.rlib\",\"/tmp/.tmpCUQ1hT/target/aarch64-unknown-linux-gnu/debug/deps/libstrength_reduce-c2ef72aa0f1db33e.rmeta\"],\"executable\":null,\"fresh\":true}\n{\"reason\":\"compiler-artifact\",\"package_id\":\"ethnum 1.3.2 (registry+https://github.com/rust-lang/crates.io-index)\",\"manifest_path\":\"/usr/local/cargo/registry/src/index.crates.io-6f17d22bba15001f/ethnum-1.3.2/Cargo.toml\",\"target\":{\"kind\":[\"lib\"],\"crate_types\":[\"lib\"],\"name\":\"ethnum\",\"src_path\":\"/usr/local/cargo/registry/src/index.crates.io-6f17d22bba15001f/ethnum-1.3.2/src/lib.rs\",\"edition\":\"2021\",\"doc\":true,\"doctest\":true,\"test\":true},\"profile\":{\"opt_level\":\"2\",\"debuginfo\":null,\"debug_assertions\":true,\"overflow_checks\":true,\"test\":false},\"features\":[],\"filenames\":[\"/tmp/.tmpCUQ1hT/target/aarch64-unknown-linux-gnu/debug/deps/libethnum-0df51b642f8e58a2.rlib\",\"/tmp/.tmpCUQ1hT/target/aarch64-unknown-linux-gnu/debug/deps/libethnum-0df51b642f8e58a2.rmeta\"],\"executable\":null,\"fresh\":true}\n{\"reason\":\"compiler-artifact\",\"package_id\":\"smallvec 1.11.0 (registry+https://github.com/rust-lang/crates.io-index)\",\"manifest_path\":\"/usr/local/cargo/registry/src/index.crates.io-6f17d22bba15001f/smallvec-1.11.0/Cargo.toml\",\"target\":{\"kind\":[\"lib\"],\"crate_types\":[\"lib\"],\"name\":\"smallvec\",\"src_path\":\"/usr/local/cargo/registry/src/index.crates.io-6f17d22bba15001f/smallvec-1.11.0/src/lib.rs\",\"edition\":\"2018\",\"doc\":true,\"doctest\":true,\"test\":true},\"profile\":{\"opt_level\":\"2\",\"debuginfo\":null,\"debug_assertions\":true,\"overflow_checks\":true,\"test\":false},\"features\":[],\"filenames\":[\"/tmp/.tmpCUQ1hT/target/aarch64-unknown-linux-gnu/debug/deps/libsmallvec-9f99bf5d67715f1d.rlib\",\"/tmp/.tmpCUQ1hT/target/aarch64-unknown-linux-gnu/debug/deps/libsmallvec-9f99bf5d67715f1d.rmeta\"],\"executable\":null,\"fresh\":true}\n{\"reason\":\"compiler-artifact\",\"package_id\":\"simdutf8 0.1.4 (registry+https://github.com/rust-lang/crates.io-index)\",\"manifest_path\":\"/usr/local/cargo/registry/src/index.crates.io-6f17d22bba15001f/simdutf8-0.1.4/Cargo.toml\",\"target\":{\"kind\":[\"lib\"],\"crate_types\":[\"lib\"],\"name\":\"simdutf8\",\"src_path\":\"/usr/local/cargo/registry/src/index.crates.io-6f17d22bba15001f/simdutf8-0.1.4/src/lib.rs\",\"edition\":\"2018\",\"doc\":true,\"doctest\":true,\"test\":true},\"profile\":{\"opt_level\":\"2\",\"debuginfo\":null,\"debug_assertions\":true,\"overflow_checks\":true,\"test\":false},\"features\":[\"default\",\"std\"],\"filenames\":[\"/tmp/.tmpCUQ1hT/target/aarch64-unknown-linux-gnu/debug/deps/libsimdutf8-c3245d2cea94a2cb.rlib\",\"/tmp/.tmpCUQ1hT/target/aarch64-unknown-linux-gnu/debug/deps/libsimdutf8-c3245d2cea94a2cb.rmeta\"],\"executable\":null,\"fresh\":true}\n{\"reason\":\"compiler-artifact\",\"package_id\":\"hash_hasher 2.0.3 (registry+https://github.com/rust-lang/crates.io-index)\",\"manifest_path\":\"/usr/local/cargo/registry/src/index.crates.io-6f17d22bba15001f/hash_hasher-2.0.3/Cargo.toml\",\"target\":{\"kind\":[\"lib\"],\"crate_types\":[\"lib\"],\"name\":\"hash_hasher\",\"src_path\":\"/usr/local/cargo/registry/src/index.crates.io-6f17d22bba15001f/hash_hasher-2.0.3/src/lib.rs\",\"edition\":\"2018\",\"doc\":true,\"doctest\":true,\"test\":true},\"profile\":{\"opt_level\":\"2\",\"debuginfo\":null,\"debug_assertions\":true,\"overflow_checks\":true,\"test\":false},\"features\":[],\"filenames\":[\"/tmp/.tmpCUQ1hT/target/aarch64-unknown-linux-gnu/debug/deps/libhash_hasher-6f57d1cf7b0dee37.rlib\",\"/tmp/.tmpCUQ1hT/target/aarch64-unknown-linux-gnu/debug/deps/libhash_hasher-6f57d1cf7b0dee37.rmeta\"],\"executable\":null,\"fresh\":true}\n{\"reason\":\"compiler-artifact\",\"package_id\":\"parking_lot_core 0.9.8 (registry+https://github.com/rust-lang/crates.io-index)\",\"manifest_path\":\"/usr/local/cargo/registry/src/index.crates.io-6f17d22bba15001f/parking_lot_core-0.9.8/Cargo.toml\",\"target\":{\"kind\":[\"lib\"],\"crate_types\":[\"lib\"],\"name\":\"parking_lot_core\",\"src_path\":\"/usr/local/cargo/registry/src/index.crates.io-6f17d22bba15001f/parking_lot_core-0.9.8/src/lib.rs\",\"edition\":\"2018\",\"doc\":true,\"doctest\":true,\"test\":true},\"profile\":{\"opt_level\":\"2\",\"debuginfo\":null,\"debug_assertions\":true,\"overflow_checks\":true,\"test\":false},\"features\":[],\"filenames\":[\"/tmp/.tmpCUQ1hT/target/aarch64-unknown-linux-gnu/debug/deps/libparking_lot_core-e7a62d41da31cdf6.rlib\",\"/tmp/.tmpCUQ1hT/target/aarch64-unknown-linux-gnu/debug/deps/libparking_lot_core-e7a62d41da31cdf6.rmeta\"],\"executable\":null,\"fresh\":true}\n{\"reason\":\"compiler-artifact\",\"package_id\":\"rand_chacha 0.3.1 (registry+https://github.com/rust-lang/crates.io-index)\",\"manifest_path\":\"/usr/local/cargo/registry/src/index.crates.io-6f17d22bba15001f/rand_chacha-0.3.1/Cargo.toml\",\"target\":{\"kind\":[\"lib\"],\"crate_types\":[\"lib\"],\"name\":\"rand_chacha\",\"src_path\":\"/usr/local/cargo/registry/src/index.crates.io-6f17d22bba15001f/rand_chacha-0.3.1/src/lib.rs\",\"edition\":\"2018\",\"doc\":true,\"doctest\":true,\"test\":true},\"profile\":{\"opt_level\":\"2\",\"debuginfo\":null,\"debug_assertions\":true,\"overflow_checks\":true,\"test\":false},\"features\":[\"std\"],\"filenames\":[\"/tmp/.tmpCUQ1hT/target/aarch64-unknown-linux-gnu/debug/deps/librand_chacha-854bb308b9f3674f.rlib\",\"/tmp/.tmpCUQ1hT/target/aarch64-unknown-linux-gnu/debug/deps/librand_chacha-854bb308b9f3674f.rmeta\"],\"executable\":null,\"fresh\":true}\n{\"reason\":\"compiler-artifact\",\"package_id\":\"thiserror 1.0.44 (registry+https://github.com/rust-lang/crates.io-index)\",\"manifest_path\":\"/usr/local/cargo/registry/src/index.crates.io-6f17d22bba15001f/thiserror-1.0.44/Cargo.toml\",\"target\":{\"kind\":[\"lib\"],\"crate_types\":[\"lib\"],\"name\":\"thiserror\",\"src_path\":\"/usr/local/cargo/registry/src/index.crates.io-6f17d22bba15001f/thiserror-1.0.44/src/lib.rs\",\"edition\":\"2021\",\"doc\":true,\"doctest\":true,\"test\":true},\"profile\":{\"opt_level\":\"2\",\"debuginfo\":null,\"debug_assertions\":true,\"overflow_checks\":true,\"test\":false},\"features\":[],\"filenames\":[\"/tmp/.tmpCUQ1hT/target/aarch64-unknown-linux-gnu/debug/deps/libthiserror-363adb09f8b9c27c.rlib\",\"/tmp/.tmpCUQ1hT/target/aarch64-unknown-linux-gnu/debug/deps/libthiserror-363adb09f8b9c27c.rmeta\"],\"executable\":null,\"fresh\":true}\n{\"reason\":\"build-script-executed\",\"package_id\":\"smartstring 1.0.1 (registry+https://github.com/rust-lang/crates.io-index)\",\"linked_libs\":[],\"linked_paths\":[],\"cfgs\":[],\"env\":[],\"out_dir\":\"/tmp/.tmpCUQ1hT/target/aarch64-unknown-linux-gnu/debug/build/smartstring-5bb60976544469a9/out\"}\n{\"reason\":\"compiler-artifact\",\"package_id\":\"signal-hook 0.3.17 (registry+https://github.com/rust-lang/crates.io-index)\",\"manifest_path\":\"/usr/local/cargo/registry/src/index.crates.io-6f17d22bba15001f/signal-hook-0.3.17/Cargo.toml\",\"target\":{\"kind\":[\"lib\"],\"crate_types\":[\"lib\"],\"name\":\"signal-hook\",\"src_path\":\"/usr/local/cargo/registry/src/index.crates.io-6f17d22bba15001f/signal-hook-0.3.17/src/lib.rs\",\"edition\":\"2018\",\"doc\":true,\"doctest\":true,\"test\":true},\"profile\":{\"opt_level\":\"2\",\"debuginfo\":null,\"debug_assertions\":true,\"overflow_checks\":true,\"test\":false},\"features\":[\"channel\",\"default\",\"iterator\"],\"filenames\":[\"/tmp/.tmpCUQ1hT/target/aarch64-unknown-linux-gnu/debug/deps/libsignal_hook-a8c5dca501f5465d.rlib\",\"/tmp/.tmpCUQ1hT/target/aarch64-unknown-linux-gnu/debug/deps/libsignal_hook-a8c5dca501f5465d.rmeta\"],\"executable\":null,\"fresh\":true}\n{\"reason\":\"compiler-artifact\",\"package_id\":\"lock_api 0.4.10 (registry+https://github.com/rust-lang/crates.io-index)\",\"manifest_path\":\"/usr/local/cargo/registry/src/index.crates.io-6f17d22bba15001f/lock_api-0.4.10/Cargo.toml\",\"target\":{\"kind\":[\"lib\"],\"crate_types\":[\"lib\"],\"name\":\"lock_api\",\"src_path\":\"/usr/local/cargo/registry/src/index.crates.io-6f17d22bba15001f/lock_api-0.4.10/src/lib.rs\",\"edition\":\"2018\",\"doc\":true,\"doctest\":true,\"test\":true},\"profile\":{\"opt_level\":\"2\",\"debuginfo\":null,\"debug_assertions\":true,\"overflow_checks\":true,\"test\":false},\"features\":[\"atomic_usize\",\"default\"],\"filenames\":[\"/tmp/.tmpCUQ1hT/target/aarch64-unknown-linux-gnu/debug/deps/liblock_api-207d88259f2ecedd.rlib\",\"/tmp/.tmpCUQ1hT/target/aarch64-unknown-linux-gnu/debug/deps/liblock_api-207d88259f2ecedd.rmeta\"],\"executable\":null,\"fresh\":true}\n{\"reason\":\"compiler-artifact\",\"package_id\":\"rustversion 1.0.14 (registry+https://github.com/rust-lang/crates.io-index)\",\"manifest_path\":\"/usr/local/cargo/registry/src/index.crates.io-6f17d22bba15001f/rustversion-1.0.14/Cargo.toml\",\"target\":{\"kind\":[\"proc-macro\"],\"crate_types\":[\"proc-macro\"],\"name\":\"rustversion\",\"src_path\":\"/usr/local/cargo/registry/src/index.crates.io-6f17d22bba15001f/rustversion-1.0.14/src/lib.rs\",\"edition\":\"2018\",\"doc\":true,\"doctest\":true,\"test\":true},\"profile\":{\"opt_level\":\"0\",\"debuginfo\":null,\"debug_assertions\":true,\"overflow_checks\":true,\"test\":false},\"features\":[],\"filenames\":[\"/tmp/.tmpCUQ1hT/target/debug/deps/librustversion-a1b0301a2e623a49.so\"],\"executable\":null,\"fresh\":true}\n{\"reason\":\"compiler-artifact\",\"package_id\":\"heck 0.4.1 (registry+https://github.com/rust-lang/crates.io-index)\",\"manifest_path\":\"/usr/local/cargo/registry/src/index.crates.io-6f17d22bba15001f/heck-0.4.1/Cargo.toml\",\"target\":{\"kind\":[\"lib\"],\"crate_types\":[\"lib\"],\"name\":\"heck\",\"src_path\":\"/usr/local/cargo/registry/src/index.crates.io-6f17d22bba15001f/heck-0.4.1/src/lib.rs\",\"edition\":\"2018\",\"doc\":true,\"doctest\":true,\"test\":true},\"profile\":{\"opt_level\":\"0\",\"debuginfo\":null,\"debug_assertions\":true,\"overflow_checks\":true,\"test\":false},\"features\":[\"default\"],\"filenames\":[\"/tmp/.tmpCUQ1hT/target/debug/deps/libheck-2e9c67159a136d76.rlib\",\"/tmp/.tmpCUQ1hT/target/debug/deps/libheck-2e9c67159a136d76.rmeta\"],\"executable\":null,\"fresh\":true}\n{\"reason\":\"compiler-artifact\",\"package_id\":\"parking_lot 0.12.1 (registry+https://github.com/rust-lang/crates.io-index)\",\"manifest_path\":\"/usr/local/cargo/registry/src/index.crates.io-6f17d22bba15001f/parking_lot-0.12.1/Cargo.toml\",\"target\":{\"kind\":[\"lib\"],\"crate_types\":[\"lib\"],\"name\":\"parking_lot\",\"src_path\":\"/usr/local/cargo/registry/src/index.crates.io-6f17d22bba15001f/parking_lot-0.12.1/src/lib.rs\",\"edition\":\"2018\",\"doc\":true,\"doctest\":true,\"test\":true},\"profile\":{\"opt_level\":\"2\",\"debuginfo\":null,\"debug_assertions\":true,\"overflow_checks\":true,\"test\":false},\"features\":[\"default\"],\"filenames\":[\"/tmp/.tmpCUQ1hT/target/aarch64-unknown-linux-gnu/debug/deps/libparking_lot-20816180bf84bab4.rlib\",\"/tmp/.tmpCUQ1hT/target/aarch64-unknown-linux-gnu/debug/deps/libparking_lot-20816180bf84bab4.rmeta\"],\"executable\":null,\"fresh\":true}\n{\"reason\":\"compiler-artifact\",\"package_id\":\"signal-hook-mio 0.2.3 (registry+https://github.com/rust-lang/crates.io-index)\",\"manifest_path\":\"/usr/local/cargo/registry/src/index.crates.io-6f17d22bba15001f/signal-hook-mio-0.2.3/Cargo.toml\",\"target\":{\"kind\":[\"lib\"],\"crate_types\":[\"lib\"],\"name\":\"signal-hook-mio\",\"src_path\":\"/usr/local/cargo/registry/src/index.crates.io-6f17d22bba15001f/signal-hook-mio-0.2.3/src/lib.rs\",\"edition\":\"2018\",\"doc\":true,\"doctest\":true,\"test\":true},\"profile\":{\"opt_level\":\"2\",\"debuginfo\":null,\"debug_assertions\":true,\"overflow_checks\":true,\"test\":false},\"features\":[\"mio-0_8\",\"support-v0_8\"],\"filenames\":[\"/tmp/.tmpCUQ1hT/target/aarch64-unknown-linux-gnu/debug/deps/libsignal_hook_mio-67f8a8d368b6a949.rlib\",\"/tmp/.tmpCUQ1hT/target/aarch64-unknown-linux-gnu/debug/deps/libsignal_hook_mio-67f8a8d368b6a949.rmeta\"],\"executable\":null,\"fresh\":true}\n{\"reason\":\"compiler-artifact\",\"package_id\":\"smartstring 1.0.1 (registry+https://github.com/rust-lang/crates.io-index)\",\"manifest_path\":\"/usr/local/cargo/registry/src/index.crates.io-6f17d22bba15001f/smartstring-1.0.1/Cargo.toml\",\"target\":{\"kind\":[\"lib\"],\"crate_types\":[\"lib\"],\"name\":\"smartstring\",\"src_path\":\"/usr/local/cargo/registry/src/index.crates.io-6f17d22bba15001f/smartstring-1.0.1/src/lib.rs\",\"edition\":\"2021\",\"doc\":true,\"doctest\":true,\"test\":true},\"profile\":{\"opt_level\":\"2\",\"debuginfo\":null,\"debug_assertions\":true,\"overflow_checks\":true,\"test\":false},\"features\":[\"default\",\"std\"],\"filenames\":[\"/tmp/.tmpCUQ1hT/target/aarch64-unknown-linux-gnu/debug/deps/libsmartstring-f4fe7563a38c4cfb.rlib\",\"/tmp/.tmpCUQ1hT/target/aarch64-unknown-linux-gnu/debug/deps/libsmartstring-f4fe7563a38c4cfb.rmeta\"],\"executable\":null,\"fresh\":true}\n{\"reason\":\"compiler-artifact\",\"package_id\":\"rand 0.8.5 (registry+https://github.com/rust-lang/crates.io-index)\",\"manifest_path\":\"/usr/local/cargo/registry/src/index.crates.io-6f17d22bba15001f/rand-0.8.5/Cargo.toml\",\"target\":{\"kind\":[\"lib\"],\"crate_types\":[\"lib\"],\"name\":\"rand\",\"src_path\":\"/usr/local/cargo/registry/src/index.crates.io-6f17d22bba15001f/rand-0.8.5/src/lib.rs\",\"edition\":\"2018\",\"doc\":true,\"doctest\":true,\"test\":true},\"profile\":{\"opt_level\":\"2\",\"debuginfo\":null,\"debug_assertions\":true,\"overflow_checks\":true,\"test\":false},\"features\":[\"alloc\",\"default\",\"getrandom\",\"libc\",\"rand_chacha\",\"small_rng\",\"std\",\"std_rng\"],\"filenames\":[\"/tmp/.tmpCUQ1hT/target/aarch64-unknown-linux-gnu/debug/deps/librand-1f1720288f141c1b.rlib\",\"/tmp/.tmpCUQ1hT/target/aarch64-unknown-linux-gnu/debug/deps/librand-1f1720288f141c1b.rmeta\"],\"executable\":null,\"fresh\":true}\n{\"reason\":\"compiler-artifact\",\"package_id\":\"sysinfo 0.29.7 (registry+https://github.com/rust-lang/crates.io-index)\",\"manifest_path\":\"/usr/local/cargo/registry/src/index.crates.io-6f17d22bba15001f/sysinfo-0.29.7/Cargo.toml\",\"target\":{\"kind\":[\"lib\"],\"crate_types\":[\"lib\"],\"name\":\"sysinfo\",\"src_path\":\"/usr/local/cargo/registry/src/index.crates.io-6f17d22bba15001f/sysinfo-0.29.7/src/lib.rs\",\"edition\":\"2018\",\"doc\":true,\"doctest\":true,\"test\":true},\"profile\":{\"opt_level\":\"2\",\"debuginfo\":null,\"debug_assertions\":true,\"overflow_checks\":true,\"test\":false},\"features\":[],\"filenames\":[\"/tmp/.tmpCUQ1hT/target/aarch64-unknown-linux-gnu/debug/deps/libsysinfo-09844e5e19b1ec24.rlib\",\"/tmp/.tmpCUQ1hT/target/aarch64-unknown-linux-gnu/debug/deps/libsysinfo-09844e5e19b1ec24.rmeta\"],\"executable\":null,\"fresh\":true}\n{\"reason\":\"compiler-artifact\",\"package_id\":\"serde_json 1.0.104 (registry+https://github.com/rust-lang/crates.io-index)\",\"manifest_path\":\"/usr/local/cargo/registry/src/index.crates.io-6f17d22bba15001f/serde_json-1.0.104/Cargo.toml\",\"target\":{\"kind\":[\"custom-build\"],\"crate_types\":[\"bin\"],\"name\":\"build-script-build\",\"src_path\":\"/usr/local/cargo/registry/src/index.crates.io-6f17d22bba15001f/serde_json-1.0.104/build.rs\",\"edition\":\"2021\",\"doc\":false,\"doctest\":false,\"test\":false},\"profile\":{\"opt_level\":\"0\",\"debuginfo\":null,\"debug_assertions\":true,\"overflow_checks\":true,\"test\":false},\"features\":[\"default\",\"std\"],\"filenames\":[\"/tmp/.tmpCUQ1hT/target/debug/build/serde_json-b8f31c74acd854e0/build-script-build\"],\"executable\":null,\"fresh\":true}\n{\"reason\":\"compiler-artifact\",\"package_id\":\"bitflags 1.3.2 (registry+https://github.com/rust-lang/crates.io-index)\",\"manifest_path\":\"/usr/local/cargo/registry/src/index.crates.io-6f17d22bba15001f/bitflags-1.3.2/Cargo.toml\",\"target\":{\"kind\":[\"lib\"],\"crate_types\":[\"lib\"],\"name\":\"bitflags\",\"src_path\":\"/usr/local/cargo/registry/src/index.crates.io-6f17d22bba15001f/bitflags-1.3.2/src/lib.rs\",\"edition\":\"2018\",\"doc\":true,\"doctest\":true,\"test\":true},\"profile\":{\"opt_level\":\"2\",\"debuginfo\":null,\"debug_assertions\":true,\"overflow_checks\":true,\"test\":false},\"features\":[\"default\"],\"filenames\":[\"/tmp/.tmpCUQ1hT/target/aarch64-unknown-linux-gnu/debug/deps/libbitflags-c86609eaabf79163.rlib\",\"/tmp/.tmpCUQ1hT/target/aarch64-unknown-linux-gnu/debug/deps/libbitflags-c86609eaabf79163.rmeta\"],\"executable\":null,\"fresh\":true}\n{\"reason\":\"build-script-executed\",\"package_id\":\"serde_json 1.0.104 (registry+https://github.com/rust-lang/crates.io-index)\",\"linked_libs\":[],\"linked_paths\":[],\"cfgs\":[\"limb_width_64\"],\"env\":[],\"out_dir\":\"/tmp/.tmpCUQ1hT/target/aarch64-unknown-linux-gnu/debug/build/serde_json-659144fd2d75c43c/out\"}\n{\"reason\":\"compiler-artifact\",\"package_id\":\"crossterm 0.26.1 (registry+https://github.com/rust-lang/crates.io-index)\",\"manifest_path\":\"/usr/local/cargo/registry/src/index.crates.io-6f17d22bba15001f/crossterm-0.26.1/Cargo.toml\",\"target\":{\"kind\":[\"lib\"],\"crate_types\":[\"lib\"],\"name\":\"crossterm\",\"src_path\":\"/usr/local/cargo/registry/src/index.crates.io-6f17d22bba15001f/crossterm-0.26.1/src/lib.rs\",\"edition\":\"2021\",\"doc\":true,\"doctest\":true,\"test\":true},\"profile\":{\"opt_level\":\"2\",\"debuginfo\":null,\"debug_assertions\":true,\"overflow_checks\":true,\"test\":false},\"features\":[],\"filenames\":[\"/tmp/.tmpCUQ1hT/target/aarch64-unknown-linux-gnu/debug/deps/libcrossterm-18b1c9e545b05d42.rlib\",\"/tmp/.tmpCUQ1hT/target/aarch64-unknown-linux-gnu/debug/deps/libcrossterm-18b1c9e545b05d42.rmeta\"],\"executable\":null,\"fresh\":true}\n{\"reason\":\"compiler-artifact\",\"package_id\":\"strum_macros 0.24.3 (registry+https://github.com/rust-lang/crates.io-index)\",\"manifest_path\":\"/usr/local/cargo/registry/src/index.crates.io-6f17d22bba15001f/strum_macros-0.24.3/Cargo.toml\",\"target\":{\"kind\":[\"proc-macro\"],\"crate_types\":[\"proc-macro\"],\"name\":\"strum_macros\",\"src_path\":\"/usr/local/cargo/registry/src/index.crates.io-6f17d22bba15001f/strum_macros-0.24.3/src/lib.rs\",\"edition\":\"2018\",\"doc\":true,\"doctest\":true,\"test\":true},\"profile\":{\"opt_level\":\"0\",\"debuginfo\":null,\"debug_assertions\":true,\"overflow_checks\":true,\"test\":false},\"features\":[],\"filenames\":[\"/tmp/.tmpCUQ1hT/target/debug/deps/libstrum_macros-a0612537bb0c9e2d.so\"],\"executable\":null,\"fresh\":true}\n{\"reason\":\"compiler-artifact\",\"package_id\":\"equivalent 1.0.1 (registry+https://github.com/rust-lang/crates.io-index)\",\"manifest_path\":\"/usr/local/cargo/registry/src/index.crates.io-6f17d22bba15001f/equivalent-1.0.1/Cargo.toml\",\"target\":{\"kind\":[\"lib\"],\"crate_types\":[\"lib\"],\"name\":\"equivalent\",\"src_path\":\"/usr/local/cargo/registry/src/index.crates.io-6f17d22bba15001f/equivalent-1.0.1/src/lib.rs\",\"edition\":\"2015\",\"doc\":true,\"doctest\":true,\"test\":true},\"profile\":{\"opt_level\":\"2\",\"debuginfo\":null,\"debug_assertions\":true,\"overflow_checks\":true,\"test\":false},\"features\":[],\"filenames\":[\"/tmp/.tmpCUQ1hT/target/aarch64-unknown-linux-gnu/debug/deps/libequivalent-2142400bef886e83.rlib\",\"/tmp/.tmpCUQ1hT/target/aarch64-unknown-linux-gnu/debug/deps/libequivalent-2142400bef886e83.rmeta\"],\"executable\":null,\"fresh\":true}\n{\"reason\":\"compiler-artifact\",\"package_id\":\"strum 0.24.1 (registry+https://github.com/rust-lang/crates.io-index)\",\"manifest_path\":\"/usr/local/cargo/registry/src/index.crates.io-6f17d22bba15001f/strum-0.24.1/Cargo.toml\",\"target\":{\"kind\":[\"lib\"],\"crate_types\":[\"lib\"],\"name\":\"strum\",\"src_path\":\"/usr/local/cargo/registry/src/index.crates.io-6f17d22bba15001f/strum-0.24.1/src/lib.rs\",\"edition\":\"2018\",\"doc\":true,\"doctest\":true,\"test\":true},\"profile\":{\"opt_level\":\"2\",\"debuginfo\":null,\"debug_assertions\":true,\"overflow_checks\":true,\"test\":false},\"features\":[\"default\",\"std\"],\"filenames\":[\"/tmp/.tmpCUQ1hT/target/aarch64-unknown-linux-gnu/debug/deps/libstrum-e4ca4ec6ee878ed5.rlib\",\"/tmp/.tmpCUQ1hT/target/aarch64-unknown-linux-gnu/debug/deps/libstrum-e4ca4ec6ee878ed5.rmeta\"],\"executable\":null,\"fresh\":true}\n{\"reason\":\"compiler-artifact\",\"package_id\":\"unicode-width 0.1.10 (registry+https://github.com/rust-lang/crates.io-index)\",\"manifest_path\":\"/usr/local/cargo/registry/src/index.crates.io-6f17d22bba15001f/unicode-width-0.1.10/Cargo.toml\",\"target\":{\"kind\":[\"lib\"],\"crate_types\":[\"lib\"],\"name\":\"unicode-width\",\"src_path\":\"/usr/local/cargo/registry/src/index.crates.io-6f17d22bba15001f/unicode-width-0.1.10/src/lib.rs\",\"edition\":\"2015\",\"doc\":true,\"doctest\":true,\"test\":true},\"profile\":{\"opt_level\":\"2\",\"debuginfo\":null,\"debug_assertions\":true,\"overflow_checks\":true,\"test\":false},\"features\":[\"default\"],\"filenames\":[\"/tmp/.tmpCUQ1hT/target/aarch64-unknown-linux-gnu/debug/deps/libunicode_width-e9d248bd26c56ccf.rlib\",\"/tmp/.tmpCUQ1hT/target/aarch64-unknown-linux-gnu/debug/deps/libunicode_width-e9d248bd26c56ccf.rmeta\"],\"executable\":null,\"fresh\":true}\n{\"reason\":\"compiler-artifact\",\"package_id\":\"itoa 1.0.9 (registry+https://github.com/rust-lang/crates.io-index)\",\"manifest_path\":\"/usr/local/cargo/registry/src/index.crates.io-6f17d22bba15001f/itoa-1.0.9/Cargo.toml\",\"target\":{\"kind\":[\"lib\"],\"crate_types\":[\"lib\"],\"name\":\"itoa\",\"src_path\":\"/usr/local/cargo/registry/src/index.crates.io-6f17d22bba15001f/itoa-1.0.9/src/lib.rs\",\"edition\":\"2018\",\"doc\":true,\"doctest\":true,\"test\":true},\"profile\":{\"opt_level\":\"2\",\"debuginfo\":null,\"debug_assertions\":true,\"overflow_checks\":true,\"test\":false},\"features\":[],\"filenames\":[\"/tmp/.tmpCUQ1hT/target/aarch64-unknown-linux-gnu/debug/deps/libitoa-f9bcc97913e980eb.rlib\",\"/tmp/.tmpCUQ1hT/target/aarch64-unknown-linux-gnu/debug/deps/libitoa-f9bcc97913e980eb.rmeta\"],\"executable\":null,\"fresh\":true}\n{\"reason\":\"compiler-artifact\",\"package_id\":\"ryu 1.0.15 (registry+https://github.com/rust-lang/crates.io-index)\",\"manifest_path\":\"/usr/local/cargo/registry/src/index.crates.io-6f17d22bba15001f/ryu-1.0.15/Cargo.toml\",\"target\":{\"kind\":[\"lib\"],\"crate_types\":[\"lib\"],\"name\":\"ryu\",\"src_path\":\"/usr/local/cargo/registry/src/index.crates.io-6f17d22bba15001f/ryu-1.0.15/src/lib.rs\",\"edition\":\"2018\",\"doc\":true,\"doctest\":true,\"test\":true},\"profile\":{\"opt_level\":\"2\",\"debuginfo\":null,\"debug_assertions\":true,\"overflow_checks\":true,\"test\":false},\"features\":[],\"filenames\":[\"/tmp/.tmpCUQ1hT/target/aarch64-unknown-linux-gnu/debug/deps/libryu-03597c8a10b12b18.rlib\",\"/tmp/.tmpCUQ1hT/target/aarch64-unknown-linux-gnu/debug/deps/libryu-03597c8a10b12b18.rmeta\"],\"executable\":null,\"fresh\":true}\n{\"reason\":\"compiler-artifact\",\"package_id\":\"comfy-table 7.0.1 (registry+https://github.com/rust-lang/crates.io-index)\",\"manifest_path\":\"/usr/local/cargo/registry/src/index.crates.io-6f17d22bba15001f/comfy-table-7.0.1/Cargo.toml\",\"target\":{\"kind\":[\"lib\"],\"crate_types\":[\"lib\"],\"name\":\"comfy-table\",\"src_path\":\"/usr/local/cargo/registry/src/index.crates.io-6f17d22bba15001f/comfy-table-7.0.1/src/lib.rs\",\"edition\":\"2021\",\"doc\":true,\"doctest\":true,\"test\":true},\"profile\":{\"opt_level\":\"2\",\"debuginfo\":null,\"debug_assertions\":true,\"overflow_checks\":true,\"test\":false},\"features\":[\"crossterm\",\"tty\"],\"filenames\":[\"/tmp/.tmpCUQ1hT/target/aarch64-unknown-linux-gnu/debug/deps/libcomfy_table-15893be6e458f572.rlib\",\"/tmp/.tmpCUQ1hT/target/aarch64-unknown-linux-gnu/debug/deps/libcomfy_table-15893be6e458f572.rmeta\"],\"executable\":null,\"fresh\":true}\n{\"reason\":\"compiler-artifact\",\"package_id\":\"serde_json 1.0.104 (registry+https://github.com/rust-lang/crates.io-index)\",\"manifest_path\":\"/usr/local/cargo/registry/src/index.crates.io-6f17d22bba15001f/serde_json-1.0.104/Cargo.toml\",\"target\":{\"kind\":[\"lib\"],\"crate_types\":[\"lib\"],\"name\":\"serde_json\",\"src_path\":\"/usr/local/cargo/registry/src/index.crates.io-6f17d22bba15001f/serde_json-1.0.104/src/lib.rs\",\"edition\":\"2021\",\"doc\":true,\"doctest\":true,\"test\":true},\"profile\":{\"opt_level\":\"2\",\"debuginfo\":null,\"debug_assertions\":true,\"overflow_checks\":true,\"test\":false},\"features\":[\"default\",\"std\"],\"filenames\":[\"/tmp/.tmpCUQ1hT/target/aarch64-unknown-linux-gnu/debug/deps/libserde_json-5144ae063601c7cc.rlib\",\"/tmp/.tmpCUQ1hT/target/aarch64-unknown-linux-gnu/debug/deps/libserde_json-5144ae063601c7cc.rmeta\"],\"executable\":null,\"fresh\":true}\n{\"reason\":\"compiler-artifact\",\"package_id\":\"indexmap 2.0.0 (registry+https://github.com/rust-lang/crates.io-index)\",\"manifest_path\":\"/usr/local/cargo/registry/src/index.crates.io-6f17d22bba15001f/indexmap-2.0.0/Cargo.toml\",\"target\":{\"kind\":[\"lib\"],\"crate_types\":[\"lib\"],\"name\":\"indexmap\",\"src_path\":\"/usr/local/cargo/registry/src/index.crates.io-6f17d22bba15001f/indexmap-2.0.0/src/lib.rs\",\"edition\":\"2021\",\"doc\":true,\"doctest\":true,\"test\":true},\"profile\":{\"opt_level\":\"2\",\"debuginfo\":null,\"debug_assertions\":true,\"overflow_checks\":true,\"test\":false},\"features\":[\"default\",\"std\"],\"filenames\":[\"/tmp/.tmpCUQ1hT/target/aarch64-unknown-linux-gnu/debug/deps/libindexmap-9c2c79c88e2cc9aa.rlib\",\"/tmp/.tmpCUQ1hT/target/aarch64-unknown-linux-gnu/debug/deps/libindexmap-9c2c79c88e2cc9aa.rmeta\"],\"executable\":null,\"fresh\":true}\n{\"reason\":\"compiler-artifact\",\"package_id\":\"itoap 1.0.1 (registry+https://github.com/rust-lang/crates.io-index)\",\"manifest_path\":\"/usr/local/cargo/registry/src/index.crates.io-6f17d22bba15001f/itoap-1.0.1/Cargo.toml\",\"target\":{\"kind\":[\"lib\"],\"crate_types\":[\"lib\"],\"name\":\"itoap\",\"src_path\":\"/usr/local/cargo/registry/src/index.crates.io-6f17d22bba15001f/itoap-1.0.1/src/lib.rs\",\"edition\":\"2018\",\"doc\":true,\"doctest\":true,\"test\":true},\"profile\":{\"opt_level\":\"2\",\"debuginfo\":null,\"debug_assertions\":true,\"overflow_checks\":true,\"test\":false},\"features\":[\"alloc\",\"default\",\"simd\",\"std\"],\"filenames\":[\"/tmp/.tmpCUQ1hT/target/aarch64-unknown-linux-gnu/debug/deps/libitoap-efc0cb45d8ad6b58.rlib\",\"/tmp/.tmpCUQ1hT/target/aarch64-unknown-linux-gnu/debug/deps/libitoap-efc0cb45d8ad6b58.rmeta\"],\"executable\":null,\"fresh\":true}\n{\"reason\":\"compiler-artifact\",\"package_id\":\"xxhash-rust 0.8.6 (registry+https://github.com/rust-lang/crates.io-index)\",\"manifest_path\":\"/usr/local/cargo/registry/src/index.crates.io-6f17d22bba15001f/xxhash-rust-0.8.6/Cargo.toml\",\"target\":{\"kind\":[\"lib\"],\"crate_types\":[\"lib\"],\"name\":\"xxhash-rust\",\"src_path\":\"/usr/local/cargo/registry/src/index.crates.io-6f17d22bba15001f/xxhash-rust-0.8.6/src/lib.rs\",\"edition\":\"2018\",\"doc\":true,\"doctest\":true,\"test\":true},\"profile\":{\"opt_level\":\"2\",\"debuginfo\":null,\"debug_assertions\":true,\"overflow_checks\":true,\"test\":false},\"features\":[\"xxh3\"],\"filenames\":[\"/tmp/.tmpCUQ1hT/target/aarch64-unknown-linux-gnu/debug/deps/libxxhash_rust-e26a92155d69d561.rlib\",\"/tmp/.tmpCUQ1hT/target/aarch64-unknown-linux-gnu/debug/deps/libxxhash_rust-e26a92155d69d561.rmeta\"],\"executable\":null,\"fresh\":true}\n{\"reason\":\"compiler-artifact\",\"package_id\":\"tokio 1.29.1 (registry+https://github.com/rust-lang/crates.io-index)\",\"manifest_path\":\"/usr/local/cargo/registry/src/index.crates.io-6f17d22bba15001f/tokio-1.29.1/Cargo.toml\",\"target\":{\"kind\":[\"custom-build\"],\"crate_types\":[\"bin\"],\"name\":\"build-script-build\",\"src_path\":\"/usr/local/cargo/registry/src/index.crates.io-6f17d22bba15001f/tokio-1.29.1/build.rs\",\"edition\":\"2021\",\"doc\":false,\"doctest\":false,\"test\":false},\"profile\":{\"opt_level\":\"0\",\"debuginfo\":null,\"debug_assertions\":true,\"overflow_checks\":true,\"test\":false},\"features\":[\"default\",\"libc\",\"mio\",\"net\",\"socket2\"],\"filenames\":[\"/tmp/.tmpCUQ1hT/target/debug/build/tokio-c8b6a8f786593e5c/build-script-build\"],\"executable\":null,\"fresh\":true}\n{\"reason\":\"compiler-artifact\",\"package_id\":\"async-trait 0.1.72 (registry+https://github.com/rust-lang/crates.io-index)\",\"manifest_path\":\"/usr/local/cargo/registry/src/index.crates.io-6f17d22bba15001f/async-trait-0.1.72/Cargo.toml\",\"target\":{\"kind\":[\"custom-build\"],\"crate_types\":[\"bin\"],\"name\":\"build-script-build\",\"src_path\":\"/usr/local/cargo/registry/src/index.crates.io-6f17d22bba15001f/async-trait-0.1.72/build.rs\",\"edition\":\"2021\",\"doc\":false,\"doctest\":false,\"test\":false},\"profile\":{\"opt_level\":\"0\",\"debuginfo\":null,\"debug_assertions\":true,\"overflow_checks\":true,\"test\":false},\"features\":[],\"filenames\":[\"/tmp/.tmpCUQ1hT/target/debug/build/async-trait-595eec58e20e51d1/build-script-build\"],\"executable\":null,\"fresh\":true}\n{\"reason\":\"build-script-executed\",\"package_id\":\"tokio 1.29.1 (registry+https://github.com/rust-lang/crates.io-index)\",\"linked_libs\":[],\"linked_paths\":[],\"cfgs\":[],\"env\":[],\"out_dir\":\"/tmp/.tmpCUQ1hT/target/aarch64-unknown-linux-gnu/debug/build/tokio-951ed4c731f41634/out\"}\n{\"reason\":\"build-script-executed\",\"package_id\":\"async-trait 0.1.72 (registry+https://github.com/rust-lang/crates.io-index)\",\"linked_libs\":[],\"linked_paths\":[],\"cfgs\":[],\"env\":[],\"out_dir\":\"/tmp/.tmpCUQ1hT/target/debug/build/async-trait-5fad351de47762f8/out\"}\n{\"reason\":\"compiler-artifact\",\"package_id\":\"socket2 0.4.9 (registry+https://github.com/rust-lang/crates.io-index)\",\"manifest_path\":\"/usr/local/cargo/registry/src/index.crates.io-6f17d22bba15001f/socket2-0.4.9/Cargo.toml\",\"target\":{\"kind\":[\"lib\"],\"crate_types\":[\"lib\"],\"name\":\"socket2\",\"src_path\":\"/usr/local/cargo/registry/src/index.crates.io-6f17d22bba15001f/socket2-0.4.9/src/lib.rs\",\"edition\":\"2018\",\"doc\":true,\"doctest\":true,\"test\":true},\"profile\":{\"opt_level\":\"2\",\"debuginfo\":null,\"debug_assertions\":true,\"overflow_checks\":true,\"test\":false},\"features\":[\"all\"],\"filenames\":[\"/tmp/.tmpCUQ1hT/target/aarch64-unknown-linux-gnu/debug/deps/libsocket2-9dbd497f90bc7315.rlib\",\"/tmp/.tmpCUQ1hT/target/aarch64-unknown-linux-gnu/debug/deps/libsocket2-9dbd497f90bc7315.rmeta\"],\"executable\":null,\"fresh\":true}\n{\"reason\":\"compiler-artifact\",\"package_id\":\"tokio 1.29.1 (registry+https://github.com/rust-lang/crates.io-index)\",\"manifest_path\":\"/usr/local/cargo/registry/src/index.crates.io-6f17d22bba15001f/tokio-1.29.1/Cargo.toml\",\"target\":{\"kind\":[\"lib\"],\"crate_types\":[\"lib\"],\"name\":\"tokio\",\"src_path\":\"/usr/local/cargo/registry/src/index.crates.io-6f17d22bba15001f/tokio-1.29.1/src/lib.rs\",\"edition\":\"2021\",\"doc\":true,\"doctest\":true,\"test\":true},\"profile\":{\"opt_level\":\"2\",\"debuginfo\":null,\"debug_assertions\":true,\"overflow_checks\":true,\"test\":false},\"features\":[\"default\",\"libc\",\"mio\",\"net\",\"socket2\"],\"filenames\":[\"/tmp/.tmpCUQ1hT/target/aarch64-unknown-linux-gnu/debug/deps/libtokio-e171c64058294c3c.rlib\",\"/tmp/.tmpCUQ1hT/target/aarch64-unknown-linux-gnu/debug/deps/libtokio-e171c64058294c3c.rmeta\"],\"executable\":null,\"fresh\":true}\n{\"reason\":\"compiler-artifact\",\"package_id\":\"async-trait 0.1.72 (registry+https://github.com/rust-lang/crates.io-index)\",\"manifest_path\":\"/usr/local/cargo/registry/src/index.crates.io-6f17d22bba15001f/async-trait-0.1.72/Cargo.toml\",\"target\":{\"kind\":[\"proc-macro\"],\"crate_types\":[\"proc-macro\"],\"name\":\"async-trait\",\"src_path\":\"/usr/local/cargo/registry/src/index.crates.io-6f17d22bba15001f/async-trait-0.1.72/src/lib.rs\",\"edition\":\"2021\",\"doc\":true,\"doctest\":true,\"test\":true},\"profile\":{\"opt_level\":\"0\",\"debuginfo\":null,\"debug_assertions\":true,\"overflow_checks\":true,\"test\":false},\"features\":[],\"filenames\":[\"/tmp/.tmpCUQ1hT/target/debug/deps/libasync_trait-ea18e968b7015b30.so\"],\"executable\":null,\"fresh\":true}\n{\"reason\":\"compiler-artifact\",\"package_id\":\"lexical 6.1.1 (registry+https://github.com/rust-lang/crates.io-index)\",\"manifest_path\":\"/usr/local/cargo/registry/src/index.crates.io-6f17d22bba15001f/lexical-6.1.1/Cargo.toml\",\"target\":{\"kind\":[\"lib\"],\"crate_types\":[\"lib\"],\"name\":\"lexical\",\"src_path\":\"/usr/local/cargo/registry/src/index.crates.io-6f17d22bba15001f/lexical-6.1.1/src/lib.rs\",\"edition\":\"2018\",\"doc\":true,\"doctest\":true,\"test\":true},\"profile\":{\"opt_level\":\"2\",\"debuginfo\":null,\"debug_assertions\":true,\"overflow_checks\":true,\"test\":false},\"features\":[\"integers\",\"parse\",\"parse-integers\",\"std\"],\"filenames\":[\"/tmp/.tmpCUQ1hT/target/aarch64-unknown-linux-gnu/debug/deps/liblexical-50d0e4d3896c80f2.rlib\",\"/tmp/.tmpCUQ1hT/target/aarch64-unknown-linux-gnu/debug/deps/liblexical-50d0e4d3896c80f2.rmeta\"],\"executable\":null,\"fresh\":true}\n{\"reason\":\"compiler-artifact\",\"package_id\":\"memmap2 0.5.10 (registry+https://github.com/rust-lang/crates.io-index)\",\"manifest_path\":\"/usr/local/cargo/registry/src/index.crates.io-6f17d22bba15001f/memmap2-0.5.10/Cargo.toml\",\"target\":{\"kind\":[\"lib\"],\"crate_types\":[\"lib\"],\"name\":\"memmap2\",\"src_path\":\"/usr/local/cargo/registry/src/index.crates.io-6f17d22bba15001f/memmap2-0.5.10/src/lib.rs\",\"edition\":\"2018\",\"doc\":true,\"doctest\":true,\"test\":true},\"profile\":{\"opt_level\":\"2\",\"debuginfo\":null,\"debug_assertions\":true,\"overflow_checks\":true,\"test\":false},\"features\":[],\"filenames\":[\"/tmp/.tmpCUQ1hT/target/aarch64-unknown-linux-gnu/debug/deps/libmemmap2-77ecd4c64edda4ff.rlib\",\"/tmp/.tmpCUQ1hT/target/aarch64-unknown-linux-gnu/debug/deps/libmemmap2-77ecd4c64edda4ff.rmeta\"],\"executable\":null,\"fresh\":true}\n{\"reason\":\"compiler-artifact\",\"package_id\":\"home 0.5.5 (registry+https://github.com/rust-lang/crates.io-index)\",\"manifest_path\":\"/usr/local/cargo/registry/src/index.crates.io-6f17d22bba15001f/home-0.5.5/Cargo.toml\",\"target\":{\"kind\":[\"lib\"],\"crate_types\":[\"lib\"],\"name\":\"home\",\"src_path\":\"/usr/local/cargo/registry/src/index.crates.io-6f17d22bba15001f/home-0.5.5/src/lib.rs\",\"edition\":\"2018\",\"doc\":true,\"doctest\":true,\"test\":true},\"profile\":{\"opt_level\":\"2\",\"debuginfo\":null,\"debug_assertions\":true,\"overflow_checks\":true,\"test\":false},\"features\":[],\"filenames\":[\"/tmp/.tmpCUQ1hT/target/aarch64-unknown-linux-gnu/debug/deps/libhome-63f7666b9348139c.rlib\",\"/tmp/.tmpCUQ1hT/target/aarch64-unknown-linux-gnu/debug/deps/libhome-63f7666b9348139c.rmeta\"],\"executable\":null,\"fresh\":true}\n{\"reason\":\"compiler-artifact\",\"package_id\":\"fast-float 0.2.0 (registry+https://github.com/rust-lang/crates.io-index)\",\"manifest_path\":\"/usr/local/cargo/registry/src/index.crates.io-6f17d22bba15001f/fast-float-0.2.0/Cargo.toml\",\"target\":{\"kind\":[\"lib\"],\"crate_types\":[\"lib\"],\"name\":\"fast-float\",\"src_path\":\"/usr/local/cargo/registry/src/index.crates.io-6f17d22bba15001f/fast-float-0.2.0/src/lib.rs\",\"edition\":\"2018\",\"doc\":true,\"doctest\":true,\"test\":true},\"profile\":{\"opt_level\":\"2\",\"debuginfo\":null,\"debug_assertions\":true,\"overflow_checks\":true,\"test\":false},\"features\":[\"default\",\"std\"],\"filenames\":[\"/tmp/.tmpCUQ1hT/target/aarch64-unknown-linux-gnu/debug/deps/libfast_float-f07e793dad2c7201.rlib\",\"/tmp/.tmpCUQ1hT/target/aarch64-unknown-linux-gnu/debug/deps/libfast_float-f07e793dad2c7201.rmeta\"],\"executable\":null,\"fresh\":true}\n{\"reason\":\"compiler-artifact\",\"package_id\":\"bytes 1.4.0 (registry+https://github.com/rust-lang/crates.io-index)\",\"manifest_path\":\"/usr/local/cargo/registry/src/index.crates.io-6f17d22bba15001f/bytes-1.4.0/Cargo.toml\",\"target\":{\"kind\":[\"lib\"],\"crate_types\":[\"lib\"],\"name\":\"bytes\",\"src_path\":\"/usr/local/cargo/registry/src/index.crates.io-6f17d22bba15001f/bytes-1.4.0/src/lib.rs\",\"edition\":\"2018\",\"doc\":true,\"doctest\":true,\"test\":true},\"profile\":{\"opt_level\":\"2\",\"debuginfo\":null,\"debug_assertions\":true,\"overflow_checks\":true,\"test\":false},\"features\":[\"default\",\"std\"],\"filenames\":[\"/tmp/.tmpCUQ1hT/target/aarch64-unknown-linux-gnu/debug/deps/libbytes-4cf38b6e7a36d763.rlib\",\"/tmp/.tmpCUQ1hT/target/aarch64-unknown-linux-gnu/debug/deps/libbytes-4cf38b6e7a36d763.rmeta\"],\"executable\":null,\"fresh\":true}\n{\"reason\":\"compiler-artifact\",\"package_id\":\"strum_macros 0.25.1 (registry+https://github.com/rust-lang/crates.io-index)\",\"manifest_path\":\"/usr/local/cargo/registry/src/index.crates.io-6f17d22bba15001f/strum_macros-0.25.1/Cargo.toml\",\"target\":{\"kind\":[\"proc-macro\"],\"crate_types\":[\"proc-macro\"],\"name\":\"strum_macros\",\"src_path\":\"/usr/local/cargo/registry/src/index.crates.io-6f17d22bba15001f/strum_macros-0.25.1/src/lib.rs\",\"edition\":\"2018\",\"doc\":true,\"doctest\":true,\"test\":true},\"profile\":{\"opt_level\":\"0\",\"debuginfo\":null,\"debug_assertions\":true,\"overflow_checks\":true,\"test\":false},\"features\":[],\"filenames\":[\"/tmp/.tmpCUQ1hT/target/debug/deps/libstrum_macros-1a8869bb44925d8b.so\"],\"executable\":null,\"fresh\":true}\n{\"reason\":\"compiler-artifact\",\"package_id\":\"once_cell 1.18.0 (registry+https://github.com/rust-lang/crates.io-index)\",\"manifest_path\":\"/usr/local/cargo/registry/src/index.crates.io-6f17d22bba15001f/once_cell-1.18.0/Cargo.toml\",\"target\":{\"kind\":[\"lib\"],\"crate_types\":[\"lib\"],\"name\":\"once_cell\",\"src_path\":\"/usr/local/cargo/registry/src/index.crates.io-6f17d22bba15001f/once_cell-1.18.0/src/lib.rs\",\"edition\":\"2021\",\"doc\":true,\"doctest\":true,\"test\":true},\"profile\":{\"opt_level\":\"0\",\"debuginfo\":null,\"debug_assertions\":true,\"overflow_checks\":true,\"test\":false},\"features\":[\"alloc\",\"default\",\"race\",\"std\"],\"filenames\":[\"/tmp/.tmpCUQ1hT/target/debug/deps/libonce_cell-6f853b9529b46c15.rlib\",\"/tmp/.tmpCUQ1hT/target/debug/deps/libonce_cell-6f853b9529b46c15.rmeta\"],\"executable\":null,\"fresh\":true}\n{\"reason\":\"compiler-artifact\",\"package_id\":\"enum_dispatch 0.3.12 (registry+https://github.com/rust-lang/crates.io-index)\",\"manifest_path\":\"/usr/local/cargo/registry/src/index.crates.io-6f17d22bba15001f/enum_dispatch-0.3.12/Cargo.toml\",\"target\":{\"kind\":[\"proc-macro\"],\"crate_types\":[\"proc-macro\"],\"name\":\"enum_dispatch\",\"src_path\":\"/usr/local/cargo/registry/src/index.crates.io-6f17d22bba15001f/enum_dispatch-0.3.12/src/lib.rs\",\"edition\":\"2018\",\"doc\":true,\"doctest\":true,\"test\":true},\"profile\":{\"opt_level\":\"0\",\"debuginfo\":null,\"debug_assertions\":true,\"overflow_checks\":true,\"test\":false},\"features\":[],\"filenames\":[\"/tmp/.tmpCUQ1hT/target/debug/deps/libenum_dispatch-24494196545f3ad7.so\"],\"executable\":null,\"fresh\":true}\n{\"reason\":\"compiler-artifact\",\"package_id\":\"num-iter 0.1.43 (registry+https://github.com/rust-lang/crates.io-index)\",\"manifest_path\":\"/usr/local/cargo/registry/src/index.crates.io-6f17d22bba15001f/num-iter-0.1.43/Cargo.toml\",\"target\":{\"kind\":[\"custom-build\"],\"crate_types\":[\"bin\"],\"name\":\"build-script-build\",\"src_path\":\"/usr/local/cargo/registry/src/index.crates.io-6f17d22bba15001f/num-iter-0.1.43/build.rs\",\"edition\":\"2015\",\"doc\":false,\"doctest\":false,\"test\":false},\"profile\":{\"opt_level\":\"0\",\"debuginfo\":null,\"debug_assertions\":true,\"overflow_checks\":true,\"test\":false},\"features\":[\"i128\",\"std\"],\"filenames\":[\"/tmp/.tmpCUQ1hT/target/debug/build/num-iter-0397927c118f5941/build-script-build\"],\"executable\":null,\"fresh\":false}\n{\"reason\":\"compiler-artifact\",\"package_id\":\"num-integer 0.1.45 (registry+https://github.com/rust-lang/crates.io-index)\",\"manifest_path\":\"/usr/local/cargo/registry/src/index.crates.io-6f17d22bba15001f/num-integer-0.1.45/Cargo.toml\",\"target\":{\"kind\":[\"custom-build\"],\"crate_types\":[\"bin\"],\"name\":\"build-script-build\",\"src_path\":\"/usr/local/cargo/registry/src/index.crates.io-6f17d22bba15001f/num-integer-0.1.45/build.rs\",\"edition\":\"2015\",\"doc\":false,\"doctest\":false,\"test\":false},\"profile\":{\"opt_level\":\"0\",\"debuginfo\":null,\"debug_assertions\":true,\"overflow_checks\":true,\"test\":false},\"features\":[\"i128\",\"std\"],\"filenames\":[\"/tmp/.tmpCUQ1hT/target/debug/build/num-integer-981ad9a1dc962152/build-script-build\"],\"executable\":null,\"fresh\":false}\n{\"reason\":\"compiler-artifact\",\"package_id\":\"num-traits 0.2.16 (registry+https://github.com/rust-lang/crates.io-index)\",\"manifest_path\":\"/usr/local/cargo/registry/src/index.crates.io-6f17d22bba15001f/num-traits-0.2.16/Cargo.toml\",\"target\":{\"kind\":[\"custom-build\"],\"crate_types\":[\"bin\"],\"name\":\"build-script-build\",\"src_path\":\"/usr/local/cargo/registry/src/index.crates.io-6f17d22bba15001f/num-traits-0.2.16/build.rs\",\"edition\":\"2018\",\"doc\":false,\"doctest\":false,\"test\":false},\"profile\":{\"opt_level\":\"0\",\"debuginfo\":null,\"debug_assertions\":true,\"overflow_checks\":true,\"test\":false},\"features\":[\"default\",\"i128\",\"libm\",\"std\"],\"filenames\":[\"/tmp/.tmpCUQ1hT/target/debug/build/num-traits-3f134c34af49ad26/build-script-build\"],\"executable\":null,\"fresh\":false}\n{\"reason\":\"build-script-executed\",\"package_id\":\"num-integer 0.1.45 (registry+https://github.com/rust-lang/crates.io-index)\",\"linked_libs\":[],\"linked_paths\":[],\"cfgs\":[\"has_i128\"],\"env\":[],\"out_dir\":\"/tmp/.tmpCUQ1hT/target/aarch64-unknown-linux-gnu/debug/build/num-integer-df69db3dc131cd9f/out\"}\n{\"reason\":\"build-script-executed\",\"package_id\":\"num-iter 0.1.43 (registry+https://github.com/rust-lang/crates.io-index)\",\"linked_libs\":[],\"linked_paths\":[],\"cfgs\":[\"has_i128\",\"rustc_1_28\"],\"env\":[],\"out_dir\":\"/tmp/.tmpCUQ1hT/target/aarch64-unknown-linux-gnu/debug/build/num-iter-7557196c534e8175/out\"}\n{\"reason\":\"compiler-artifact\",\"package_id\":\"glob 0.3.1 (registry+https://github.com/rust-lang/crates.io-index)\",\"manifest_path\":\"/usr/local/cargo/registry/src/index.crates.io-6f17d22bba15001f/glob-0.3.1/Cargo.toml\",\"target\":{\"kind\":[\"lib\"],\"crate_types\":[\"lib\"],\"name\":\"glob\",\"src_path\":\"/usr/local/cargo/registry/src/index.crates.io-6f17d22bba15001f/glob-0.3.1/src/lib.rs\",\"edition\":\"2015\",\"doc\":true,\"doctest\":true,\"test\":true},\"profile\":{\"opt_level\":\"2\",\"debuginfo\":null,\"debug_assertions\":true,\"overflow_checks\":true,\"test\":false},\"features\":[],\"filenames\":[\"/tmp/.tmpCUQ1hT/target/aarch64-unknown-linux-gnu/debug/deps/libglob-d0ec4984b74d7a5e.rlib\",\"/tmp/.tmpCUQ1hT/target/aarch64-unknown-linux-gnu/debug/deps/libglob-d0ec4984b74d7a5e.rmeta\"],\"executable\":null,\"fresh\":true}\n{\"reason\":\"compiler-artifact\",\"package_id\":\"sqlparser 0.34.0 (registry+https://github.com/rust-lang/crates.io-index)\",\"manifest_path\":\"/usr/local/cargo/registry/src/index.crates.io-6f17d22bba15001f/sqlparser-0.34.0/Cargo.toml\",\"target\":{\"kind\":[\"lib\"],\"crate_types\":[\"lib\"],\"name\":\"sqlparser\",\"src_path\":\"/usr/local/cargo/registry/src/index.crates.io-6f17d22bba15001f/sqlparser-0.34.0/src/lib.rs\",\"edition\":\"2021\",\"doc\":true,\"doctest\":true,\"test\":true},\"profile\":{\"opt_level\":\"2\",\"debuginfo\":null,\"debug_assertions\":true,\"overflow_checks\":true,\"test\":false},\"features\":[\"default\",\"std\"],\"filenames\":[\"/tmp/.tmpCUQ1hT/target/aarch64-unknown-linux-gnu/debug/deps/libsqlparser-b9121373cf52f675.rlib\",\"/tmp/.tmpCUQ1hT/target/aarch64-unknown-linux-gnu/debug/deps/libsqlparser-b9121373cf52f675.rmeta\"],\"executable\":null,\"fresh\":true}\n{\"reason\":\"compiler-artifact\",\"package_id\":\"polars 0.31.1 (registry+https://github.com/rust-lang/crates.io-index)\",\"manifest_path\":\"/usr/local/cargo/registry/src/index.crates.io-6f17d22bba15001f/polars-0.31.1/Cargo.toml\",\"target\":{\"kind\":[\"custom-build\"],\"crate_types\":[\"bin\"],\"name\":\"build-script-build\",\"src_path\":\"/usr/local/cargo/registry/src/index.crates.io-6f17d22bba15001f/polars-0.31.1/build.rs\",\"edition\":\"2021\",\"doc\":false,\"doctest\":false,\"test\":false},\"profile\":{\"opt_level\":\"0\",\"debuginfo\":null,\"debug_assertions\":true,\"overflow_checks\":true,\"test\":false},\"features\":[\"concat_str\",\"csv\",\"default\",\"describe\",\"docs\",\"dtype-array\",\"dtype-categorical\",\"dtype-date\",\"dtype-datetime\",\"dtype-decimal\",\"dtype-duration\",\"dtype-full\",\"dtype-i16\",\"dtype-i8\",\"dtype-slim\",\"dtype-struct\",\"dtype-time\",\"dtype-u16\",\"dtype-u8\",\"fmt\",\"lazy\",\"log\",\"mode\",\"object\",\"polars-io\",\"polars-lazy\",\"polars-sql\",\"polars-time\",\"temporal\",\"to_dummies\",\"trigonometry\",\"zip_with\"],\"filenames\":[\"/tmp/.tmpCUQ1hT/target/debug/build/polars-7e9879780d2b2046/build-script-build\"],\"executable\":null,\"fresh\":true}\n{\"reason\":\"build-script-executed\",\"package_id\":\"polars 0.31.1 (registry+https://github.com/rust-lang/crates.io-index)\",\"linked_libs\":[],\"linked_paths\":[],\"cfgs\":[],\"env\":[],\"out_dir\":\"/tmp/.tmpCUQ1hT/target/aarch64-unknown-linux-gnu/debug/build/polars-c6d0d4ce215d8bad/out\"}\n{\"reason\":\"compiler-artifact\",\"package_id\":\"num-bigint 0.4.3 (registry+https://github.com/rust-lang/crates.io-index)\",\"manifest_path\":\"/usr/local/cargo/registry/src/index.crates.io-6f17d22bba15001f/num-bigint-0.4.3/Cargo.toml\",\"target\":{\"kind\":[\"custom-build\"],\"crate_types\":[\"bin\"],\"name\":\"build-script-build\",\"src_path\":\"/usr/local/cargo/registry/src/index.crates.io-6f17d22bba15001f/num-bigint-0.4.3/build.rs\",\"edition\":\"2018\",\"doc\":false,\"doctest\":false,\"test\":false},\"profile\":{\"opt_level\":\"0\",\"debuginfo\":null,\"debug_assertions\":true,\"overflow_checks\":true,\"test\":false},\"features\":[\"std\"],\"filenames\":[\"/tmp/.tmpCUQ1hT/target/debug/build/num-bigint-32f98664bc5a4910/build-script-build\"],\"executable\":null,\"fresh\":false}\n{\"reason\":\"compiler-artifact\",\"package_id\":\"num-rational 0.4.1 (registry+https://github.com/rust-lang/crates.io-index)\",\"manifest_path\":\"/usr/local/cargo/registry/src/index.crates.io-6f17d22bba15001f/num-rational-0.4.1/Cargo.toml\",\"target\":{\"kind\":[\"custom-build\"],\"crate_types\":[\"bin\"],\"name\":\"build-script-build\",\"src_path\":\"/usr/local/cargo/registry/src/index.crates.io-6f17d22bba15001f/num-rational-0.4.1/build.rs\",\"edition\":\"2018\",\"doc\":false,\"doctest\":false,\"test\":false},\"profile\":{\"opt_level\":\"0\",\"debuginfo\":null,\"debug_assertions\":true,\"overflow_checks\":true,\"test\":false},\"features\":[\"num-bigint\",\"num-bigint-std\",\"std\"],\"filenames\":[\"/tmp/.tmpCUQ1hT/target/debug/build/num-rational-373c0911955de4ce/build-script-build\"],\"executable\":null,\"fresh\":false}\n{\"reason\":\"build-script-executed\",\"package_id\":\"num-bigint 0.4.3 (registry+https://github.com/rust-lang/crates.io-index)\",\"linked_libs\":[],\"linked_paths\":[],\"cfgs\":[\"u64_digit\",\"has_try_from\"],\"env\":[],\"out_dir\":\"/tmp/.tmpCUQ1hT/target/aarch64-unknown-linux-gnu/debug/build/num-bigint-10f930273bf89fca/out\"}\n{\"reason\":\"build-script-executed\",\"package_id\":\"num-rational 0.4.1 (registry+https://github.com/rust-lang/crates.io-index)\",\"linked_libs\":[],\"linked_paths\":[],\"cfgs\":[\"has_int_exp_fmt\"],\"env\":[],\"out_dir\":\"/tmp/.tmpCUQ1hT/target/aarch64-unknown-linux-gnu/debug/build/num-rational-c1e1685ee0e7f26e/out\"}\n{\"reason\":\"build-script-executed\",\"package_id\":\"num-traits 0.2.16 (registry+https://github.com/rust-lang/crates.io-index)\",\"linked_libs\":[],\"linked_paths\":[],\"cfgs\":[\"has_to_int_unchecked\",\"has_reverse_bits\",\"has_leading_trailing_ones\",\"has_div_euclid\",\"has_copysign\",\"has_is_subnormal\",\"has_int_to_from_bytes\",\"has_float_to_from_bytes\"],\"env\":[],\"out_dir\":\"/tmp/.tmpCUQ1hT/target/aarch64-unknown-linux-gnu/debug/build/num-traits-fd36f4dd9a61e2ce/out\"}\n{\"reason\":\"compiler-artifact\",\"package_id\":\"atoi 2.0.0 (registry+https://github.com/rust-lang/crates.io-index)\",\"manifest_path\":\"/usr/local/cargo/registry/src/index.crates.io-6f17d22bba15001f/atoi-2.0.0/Cargo.toml\",\"target\":{\"kind\":[\"lib\"],\"crate_types\":[\"lib\"],\"name\":\"atoi\",\"src_path\":\"/usr/local/cargo/registry/src/index.crates.io-6f17d22bba15001f/atoi-2.0.0/src/lib.rs\",\"edition\":\"2021\",\"doc\":true,\"doctest\":true,\"test\":true},\"profile\":{\"opt_level\":\"2\",\"debuginfo\":null,\"debug_assertions\":true,\"overflow_checks\":true,\"test\":false},\"features\":[\"default\",\"std\"],\"filenames\":[\"/tmp/.tmpCUQ1hT/target/aarch64-unknown-linux-gnu/debug/deps/libatoi-d87d0cc70290428a.rlib\",\"/tmp/.tmpCUQ1hT/target/aarch64-unknown-linux-gnu/debug/deps/libatoi-d87d0cc70290428a.rmeta\"],\"executable\":null,\"fresh\":false}\n{\"reason\":\"compiler-artifact\",\"package_id\":\"num-traits 0.2.16 (registry+https://github.com/rust-lang/crates.io-index)\",\"manifest_path\":\"/usr/local/cargo/registry/src/index.crates.io-6f17d22bba15001f/num-traits-0.2.16/Cargo.toml\",\"target\":{\"kind\":[\"lib\"],\"crate_types\":[\"lib\"],\"name\":\"num-traits\",\"src_path\":\"/usr/local/cargo/registry/src/index.crates.io-6f17d22bba15001f/num-traits-0.2.16/src/lib.rs\",\"edition\":\"2018\",\"doc\":true,\"doctest\":true,\"test\":true},\"profile\":{\"opt_level\":\"2\",\"debuginfo\":null,\"debug_assertions\":true,\"overflow_checks\":true,\"test\":false},\"features\":[\"default\",\"i128\",\"libm\",\"std\"],\"filenames\":[\"/tmp/.tmpCUQ1hT/target/aarch64-unknown-linux-gnu/debug/deps/libnum_traits-5230b112098bd4e3.rlib\",\"/tmp/.tmpCUQ1hT/target/aarch64-unknown-linux-gnu/debug/deps/libnum_traits-5230b112098bd4e3.rmeta\"],\"executable\":null,\"fresh\":false}\n{\"reason\":\"compiler-artifact\",\"package_id\":\"argminmax 0.6.1 (registry+https://github.com/rust-lang/crates.io-index)\",\"manifest_path\":\"/usr/local/cargo/registry/src/index.crates.io-6f17d22bba15001f/argminmax-0.6.1/Cargo.toml\",\"target\":{\"kind\":[\"lib\"],\"crate_types\":[\"lib\"],\"name\":\"argminmax\",\"src_path\":\"/usr/local/cargo/registry/src/index.crates.io-6f17d22bba15001f/argminmax-0.6.1/src/lib.rs\",\"edition\":\"2021\",\"doc\":true,\"doctest\":true,\"test\":true},\"profile\":{\"opt_level\":\"2\",\"debuginfo\":null,\"debug_assertions\":true,\"overflow_checks\":true,\"test\":false},\"features\":[\"float\"],\"filenames\":[\"/tmp/.tmpCUQ1hT/target/aarch64-unknown-linux-gnu/debug/deps/libargminmax-202d7ad9e721c3fb.rlib\",\"/tmp/.tmpCUQ1hT/target/aarch64-unknown-linux-gnu/debug/deps/libargminmax-202d7ad9e721c3fb.rmeta\"],\"executable\":null,\"fresh\":false}\n{\"reason\":\"compiler-artifact\",\"package_id\":\"rand_distr 0.4.3 (registry+https://github.com/rust-lang/crates.io-index)\",\"manifest_path\":\"/usr/local/cargo/registry/src/index.crates.io-6f17d22bba15001f/rand_distr-0.4.3/Cargo.toml\",\"target\":{\"kind\":[\"lib\"],\"crate_types\":[\"lib\"],\"name\":\"rand_distr\",\"src_path\":\"/usr/local/cargo/registry/src/index.crates.io-6f17d22bba15001f/rand_distr-0.4.3/src/lib.rs\",\"edition\":\"2018\",\"doc\":true,\"doctest\":true,\"test\":true},\"profile\":{\"opt_level\":\"2\",\"debuginfo\":null,\"debug_assertions\":true,\"overflow_checks\":true,\"test\":false},\"features\":[\"alloc\",\"default\",\"std\"],\"filenames\":[\"/tmp/.tmpCUQ1hT/target/aarch64-unknown-linux-gnu/debug/deps/librand_distr-14ae1fbb10d67233.rlib\",\"/tmp/.tmpCUQ1hT/target/aarch64-unknown-linux-gnu/debug/deps/librand_distr-14ae1fbb10d67233.rmeta\"],\"executable\":null,\"fresh\":false}\n{\"reason\":\"compiler-artifact\",\"package_id\":\"num-integer 0.1.45 (registry+https://github.com/rust-lang/crates.io-index)\",\"manifest_path\":\"/usr/local/cargo/registry/src/index.crates.io-6f17d22bba15001f/num-integer-0.1.45/Cargo.toml\",\"target\":{\"kind\":[\"lib\"],\"crate_types\":[\"lib\"],\"name\":\"num-integer\",\"src_path\":\"/usr/local/cargo/registry/src/index.crates.io-6f17d22bba15001f/num-integer-0.1.45/src/lib.rs\",\"edition\":\"2015\",\"doc\":true,\"doctest\":true,\"test\":true},\"profile\":{\"opt_level\":\"2\",\"debuginfo\":null,\"debug_assertions\":true,\"overflow_checks\":true,\"test\":false},\"features\":[\"i128\",\"std\"],\"filenames\":[\"/tmp/.tmpCUQ1hT/target/aarch64-unknown-linux-gnu/debug/deps/libnum_integer-520d87868fb7c55a.rlib\",\"/tmp/.tmpCUQ1hT/target/aarch64-unknown-linux-gnu/debug/deps/libnum_integer-520d87868fb7c55a.rmeta\"],\"executable\":null,\"fresh\":false}\n{\"reason\":\"compiler-artifact\",\"package_id\":\"num-complex 0.4.3 (registry+https://github.com/rust-lang/crates.io-index)\",\"manifest_path\":\"/usr/local/cargo/registry/src/index.crates.io-6f17d22bba15001f/num-complex-0.4.3/Cargo.toml\",\"target\":{\"kind\":[\"lib\"],\"crate_types\":[\"lib\"],\"name\":\"num-complex\",\"src_path\":\"/usr/local/cargo/registry/src/index.crates.io-6f17d22bba15001f/num-complex-0.4.3/src/lib.rs\",\"edition\":\"2018\",\"doc\":true,\"doctest\":true,\"test\":true},\"profile\":{\"opt_level\":\"2\",\"debuginfo\":null,\"debug_assertions\":true,\"overflow_checks\":true,\"test\":false},\"features\":[\"std\"],\"filenames\":[\"/tmp/.tmpCUQ1hT/target/aarch64-unknown-linux-gnu/debug/deps/libnum_complex-aab59768696c5f92.rlib\",\"/tmp/.tmpCUQ1hT/target/aarch64-unknown-linux-gnu/debug/deps/libnum_complex-aab59768696c5f92.rmeta\"],\"executable\":null,\"fresh\":false}\n{\"reason\":\"compiler-artifact\",\"package_id\":\"now 0.1.3 (registry+https://github.com/rust-lang/crates.io-index)\",\"manifest_path\":\"/usr/local/cargo/registry/src/index.crates.io-6f17d22bba15001f/now-0.1.3/Cargo.toml\",\"target\":{\"kind\":[\"lib\"],\"crate_types\":[\"lib\"],\"name\":\"now\",\"src_path\":\"/usr/local/cargo/registry/src/index.crates.io-6f17d22bba15001f/now-0.1.3/src/lib.rs\",\"edition\":\"2018\",\"doc\":true,\"doctest\":true,\"test\":true},\"profile\":{\"opt_level\":\"2\",\"debuginfo\":null,\"debug_assertions\":true,\"overflow_checks\":true,\"test\":false},\"features\":[],\"filenames\":[\"/tmp/.tmpCUQ1hT/target/aarch64-unknown-linux-gnu/debug/deps/libnow-59f93c5a21cdf5ae.rlib\",\"/tmp/.tmpCUQ1hT/target/aarch64-unknown-linux-gnu/debug/deps/libnow-59f93c5a21cdf5ae.rmeta\"],\"executable\":null,\"fresh\":false}\n{\"reason\":\"compiler-artifact\",\"package_id\":\"polars-utils 0.31.1 (registry+https://github.com/rust-lang/crates.io-index)\",\"manifest_path\":\"/usr/local/cargo/registry/src/index.crates.io-6f17d22bba15001f/polars-utils-0.31.1/Cargo.toml\",\"target\":{\"kind\":[\"lib\"],\"crate_types\":[\"lib\"],\"name\":\"polars-utils\",\"src_path\":\"/usr/local/cargo/registry/src/index.crates.io-6f17d22bba15001f/polars-utils-0.31.1/src/lib.rs\",\"edition\":\"2021\",\"doc\":true,\"doctest\":true,\"test\":true},\"profile\":{\"opt_level\":\"2\",\"debuginfo\":null,\"debug_assertions\":true,\"overflow_checks\":true,\"test\":false},\"features\":[\"sysinfo\"],\"filenames\":[\"/tmp/.tmpCUQ1hT/target/aarch64-unknown-linux-gnu/debug/deps/libpolars_utils-c304a62001c13f78.rlib\",\"/tmp/.tmpCUQ1hT/target/aarch64-unknown-linux-gnu/debug/deps/libpolars_utils-c304a62001c13f78.rmeta\"],\"executable\":null,\"fresh\":false}\n{\"reason\":\"compiler-artifact\",\"package_id\":\"num-iter 0.1.43 (registry+https://github.com/rust-lang/crates.io-index)\",\"manifest_path\":\"/usr/local/cargo/registry/src/index.crates.io-6f17d22bba15001f/num-iter-0.1.43/Cargo.toml\",\"target\":{\"kind\":[\"lib\"],\"crate_types\":[\"lib\"],\"name\":\"num-iter\",\"src_path\":\"/usr/local/cargo/registry/src/index.crates.io-6f17d22bba15001f/num-iter-0.1.43/src/lib.rs\",\"edition\":\"2015\",\"doc\":true,\"doctest\":true,\"test\":true},\"profile\":{\"opt_level\":\"2\",\"debuginfo\":null,\"debug_assertions\":true,\"overflow_checks\":true,\"test\":false},\"features\":[\"i128\",\"std\"],\"filenames\":[\"/tmp/.tmpCUQ1hT/target/aarch64-unknown-linux-gnu/debug/deps/libnum_iter-79db47a3486fb826.rlib\",\"/tmp/.tmpCUQ1hT/target/aarch64-unknown-linux-gnu/debug/deps/libnum_iter-79db47a3486fb826.rmeta\"],\"executable\":null,\"fresh\":false}\n{\"reason\":\"compiler-artifact\",\"package_id\":\"approx 0.5.1 (registry+https://github.com/rust-lang/crates.io-index)\",\"manifest_path\":\"/usr/local/cargo/registry/src/index.crates.io-6f17d22bba15001f/approx-0.5.1/Cargo.toml\",\"target\":{\"kind\":[\"lib\"],\"crate_types\":[\"lib\"],\"name\":\"approx\",\"src_path\":\"/usr/local/cargo/registry/src/index.crates.io-6f17d22bba15001f/approx-0.5.1/src/lib.rs\",\"edition\":\"2015\",\"doc\":true,\"doctest\":true,\"test\":true},\"profile\":{\"opt_level\":\"2\",\"debuginfo\":null,\"debug_assertions\":true,\"overflow_checks\":true,\"test\":false},\"features\":[\"default\",\"std\"],\"filenames\":[\"/tmp/.tmpCUQ1hT/target/aarch64-unknown-linux-gnu/debug/deps/libapprox-3f8e59cb737535cb.rlib\",\"/tmp/.tmpCUQ1hT/target/aarch64-unknown-linux-gnu/debug/deps/libapprox-3f8e59cb737535cb.rmeta\"],\"executable\":null,\"fresh\":false}\n{\"reason\":\"compiler-artifact\",\"package_id\":\"chrono 0.4.26 (registry+https://github.com/rust-lang/crates.io-index)\",\"manifest_path\":\"/usr/local/cargo/registry/src/index.crates.io-6f17d22bba15001f/chrono-0.4.26/Cargo.toml\",\"target\":{\"kind\":[\"lib\"],\"crate_types\":[\"lib\"],\"name\":\"chrono\",\"src_path\":\"/usr/local/cargo/registry/src/index.crates.io-6f17d22bba15001f/chrono-0.4.26/src/lib.rs\",\"edition\":\"2021\",\"doc\":true,\"doctest\":true,\"test\":true},\"profile\":{\"opt_level\":\"2\",\"debuginfo\":null,\"debug_assertions\":true,\"overflow_checks\":true,\"test\":false},\"features\":[\"clock\",\"iana-time-zone\",\"std\",\"winapi\"],\"filenames\":[\"/tmp/.tmpCUQ1hT/target/aarch64-unknown-linux-gnu/debug/deps/libchrono-9f0b9aecaac0591f.rlib\",\"/tmp/.tmpCUQ1hT/target/aarch64-unknown-linux-gnu/debug/deps/libchrono-9f0b9aecaac0591f.rmeta\"],\"executable\":null,\"fresh\":false}\n{\"reason\":\"compiler-artifact\",\"package_id\":\"num-bigint 0.4.3 (registry+https://github.com/rust-lang/crates.io-index)\",\"manifest_path\":\"/usr/local/cargo/registry/src/index.crates.io-6f17d22bba15001f/num-bigint-0.4.3/Cargo.toml\",\"target\":{\"kind\":[\"lib\"],\"crate_types\":[\"lib\"],\"name\":\"num-bigint\",\"src_path\":\"/usr/local/cargo/registry/src/index.crates.io-6f17d22bba15001f/num-bigint-0.4.3/src/lib.rs\",\"edition\":\"2018\",\"doc\":true,\"doctest\":true,\"test\":true},\"profile\":{\"opt_level\":\"2\",\"debuginfo\":null,\"debug_assertions\":true,\"overflow_checks\":true,\"test\":false},\"features\":[\"std\"],\"filenames\":[\"/tmp/.tmpCUQ1hT/target/aarch64-unknown-linux-gnu/debug/deps/libnum_bigint-c2b86b5c1481375f.rlib\",\"/tmp/.tmpCUQ1hT/target/aarch64-unknown-linux-gnu/debug/deps/libnum_bigint-c2b86b5c1481375f.rmeta\"],\"executable\":null,\"fresh\":false}\n{\"reason\":\"compiler-artifact\",\"package_id\":\"num 0.4.1 (registry+https://github.com/rust-lang/crates.io-index)\",\"manifest_path\":\"/usr/local/cargo/registry/src/index.crates.io-6f17d22bba15001f/num-0.4.1/Cargo.toml\",\"target\":{\"kind\":[\"lib\"],\"crate_types\":[\"lib\"],\"name\":\"num\",\"src_path\":\"/usr/local/cargo/registry/src/index.crates.io-6f17d22bba15001f/num-0.4.1/src/lib.rs\",\"edition\":\"2018\",\"doc\":true,\"doctest\":true,\"test\":true},\"profile\":{\"opt_level\":\"2\",\"debuginfo\":null,\"debug_assertions\":true,\"overflow_checks\":true,\"test\":false},\"features\":[\"default\",\"num-bigint\",\"std\"],\"filenames\":[\"/tmp/.tmpCUQ1hT/target/aarch64-unknown-linux-gnu/debug/deps/libnum-e313fc00357e24d4.rlib\",\"/tmp/.tmpCUQ1hT/target/aarch64-unknown-linux-gnu/debug/deps/libnum-e313fc00357e24d4.rmeta\"],\"executable\":null,\"fresh\":false}\n{\"reason\":\"compiler-artifact\",\"package_id\":\"num-rational 0.4.1 (registry+https://github.com/rust-lang/crates.io-index)\",\"manifest_path\":\"/usr/local/cargo/registry/src/index.crates.io-6f17d22bba15001f/num-rational-0.4.1/Cargo.toml\",\"target\":{\"kind\":[\"lib\"],\"crate_types\":[\"lib\"],\"name\":\"num-rational\",\"src_path\":\"/usr/local/cargo/registry/src/index.crates.io-6f17d22bba15001f/num-rational-0.4.1/src/lib.rs\",\"edition\":\"2018\",\"doc\":true,\"doctest\":true,\"test\":true},\"profile\":{\"opt_level\":\"2\",\"debuginfo\":null,\"debug_assertions\":true,\"overflow_checks\":true,\"test\":false},\"features\":[\"num-bigint\",\"num-bigint-std\",\"std\"],\"filenames\":[\"/tmp/.tmpCUQ1hT/target/aarch64-unknown-linux-gnu/debug/deps/libnum_rational-b0f24ceb71eb81a5.rlib\",\"/tmp/.tmpCUQ1hT/target/aarch64-unknown-linux-gnu/debug/deps/libnum_rational-b0f24ceb71eb81a5.rmeta\"],\"executable\":null,\"fresh\":false}\n{\"reason\":\"compiler-artifact\",\"package_id\":\"polars-error 0.31.1 (registry+https://github.com/rust-lang/crates.io-index)\",\"manifest_path\":\"/usr/local/cargo/registry/src/index.crates.io-6f17d22bba15001f/polars-error-0.31.1/Cargo.toml\",\"target\":{\"kind\":[\"lib\"],\"crate_types\":[\"lib\"],\"name\":\"polars-error\",\"src_path\":\"/usr/local/cargo/registry/src/index.crates.io-6f17d22bba15001f/polars-error-0.31.1/src/lib.rs\",\"edition\":\"2021\",\"doc\":true,\"doctest\":true,\"test\":true},\"profile\":{\"opt_level\":\"2\",\"debuginfo\":null,\"debug_assertions\":true,\"overflow_checks\":true,\"test\":false},\"features\":[\"regex\"],\"filenames\":[\"/tmp/.tmpCUQ1hT/target/aarch64-unknown-linux-gnu/debug/deps/libpolars_error-913e0e900945831e.rlib\",\"/tmp/.tmpCUQ1hT/target/aarch64-unknown-linux-gnu/debug/deps/libpolars_error-913e0e900945831e.rmeta\"],\"executable\":null,\"fresh\":false}\n{\"reason\":\"compiler-artifact\",\"package_id\":\"smartcore 0.3.2 (registry+https://github.com/rust-lang/crates.io-index)\",\"manifest_path\":\"/usr/local/cargo/registry/src/index.crates.io-6f17d22bba15001f/smartcore-0.3.2/Cargo.toml\",\"target\":{\"kind\":[\"lib\"],\"crate_types\":[\"lib\"],\"name\":\"smartcore\",\"src_path\":\"/usr/local/cargo/registry/src/index.crates.io-6f17d22bba15001f/smartcore-0.3.2/src/lib.rs\",\"edition\":\"2021\",\"doc\":true,\"doctest\":true,\"test\":true},\"profile\":{\"opt_level\":\"2\",\"debuginfo\":null,\"debug_assertions\":true,\"overflow_checks\":true,\"test\":false},\"features\":[\"default\"],\"filenames\":[\"/tmp/.tmpCUQ1hT/target/aarch64-unknown-linux-gnu/debug/deps/libsmartcore-803a86a375cfa165.rlib\",\"/tmp/.tmpCUQ1hT/target/aarch64-unknown-linux-gnu/debug/deps/libsmartcore-803a86a375cfa165.rmeta\"],\"executable\":null,\"fresh\":false}\n{\"reason\":\"compiler-artifact\",\"package_id\":\"polars-row 0.31.1 (registry+https://github.com/rust-lang/crates.io-index)\",\"manifest_path\":\"/usr/local/cargo/registry/src/index.crates.io-6f17d22bba15001f/polars-row-0.31.1/Cargo.toml\",\"target\":{\"kind\":[\"lib\"],\"crate_types\":[\"lib\"],\"name\":\"polars-row\",\"src_path\":\"/usr/local/cargo/registry/src/index.crates.io-6f17d22bba15001f/polars-row-0.31.1/src/lib.rs\",\"edition\":\"2021\",\"doc\":true,\"doctest\":true,\"test\":true},\"profile\":{\"opt_level\":\"2\",\"debuginfo\":null,\"debug_assertions\":true,\"overflow_checks\":true,\"test\":false},\"features\":[],\"filenames\":[\"/tmp/.tmpCUQ1hT/target/aarch64-unknown-linux-gnu/debug/deps/libpolars_row-7270675092078035.rlib\",\"/tmp/.tmpCUQ1hT/target/aarch64-unknown-linux-gnu/debug/deps/libpolars_row-7270675092078035.rmeta\"],\"executable\":null,\"fresh\":false}\n{\"reason\":\"compiler-artifact\",\"package_id\":\"polars-arrow 0.31.1 (registry+https://github.com/rust-lang/crates.io-index)\",\"manifest_path\":\"/usr/local/cargo/registry/src/index.crates.io-6f17d22bba15001f/polars-arrow-0.31.1/Cargo.toml\",\"target\":{\"kind\":[\"lib\"],\"crate_types\":[\"lib\"],\"name\":\"polars-arrow\",\"src_path\":\"/usr/local/cargo/registry/src/index.crates.io-6f17d22bba15001f/polars-arrow-0.31.1/src/lib.rs\",\"edition\":\"2021\",\"doc\":true,\"doctest\":true,\"test\":true},\"profile\":{\"opt_level\":\"2\",\"debuginfo\":null,\"debug_assertions\":true,\"overflow_checks\":true,\"test\":false},\"features\":[\"atoi\",\"compute\",\"dtype-array\",\"dtype-decimal\",\"ethnum\",\"like\",\"strings\",\"temporal\"],\"filenames\":[\"/tmp/.tmpCUQ1hT/target/aarch64-unknown-linux-gnu/debug/deps/libpolars_arrow-4be4d84b0af63b99.rlib\",\"/tmp/.tmpCUQ1hT/target/aarch64-unknown-linux-gnu/debug/deps/libpolars_arrow-4be4d84b0af63b99.rmeta\"],\"executable\":null,\"fresh\":false}\n{\"reason\":\"compiler-artifact\",\"package_id\":\"polars-ops 0.31.1 (registry+https://github.com/rust-lang/crates.io-index)\",\"manifest_path\":\"/usr/local/cargo/registry/src/index.crates.io-6f17d22bba15001f/polars-ops-0.31.1/Cargo.toml\",\"target\":{\"kind\":[\"lib\"],\"crate_types\":[\"lib\"],\"name\":\"polars-ops\",\"src_path\":\"/usr/local/cargo/registry/src/index.crates.io-6f17d22bba15001f/polars-ops-0.31.1/src/lib.rs\",\"edition\":\"2021\",\"doc\":true,\"doctest\":true,\"test\":true},\"profile\":{\"opt_level\":\"2\",\"debuginfo\":null,\"debug_assertions\":true,\"overflow_checks\":true,\"test\":false},\"features\":[\"cross_join\",\"dtype-array\",\"dtype-categorical\",\"dtype-date\",\"dtype-datetime\",\"dtype-decimal\",\"dtype-duration\",\"dtype-i16\",\"dtype-i8\",\"dtype-struct\",\"dtype-time\",\"dtype-u16\",\"dtype-u8\",\"log\",\"round_series\",\"search_sorted\",\"strings\",\"to_dummies\"],\"filenames\":[\"/tmp/.tmpCUQ1hT/target/aarch64-unknown-linux-gnu/debug/deps/libpolars_ops-242f6108dd45a78b.rlib\",\"/tmp/.tmpCUQ1hT/target/aarch64-unknown-linux-gnu/debug/deps/libpolars_ops-242f6108dd45a78b.rmeta\"],\"executable\":null,\"fresh\":false}\n{\"reason\":\"compiler-artifact\",\"package_id\":\"polars-time 0.31.1 (registry+https://github.com/rust-lang/crates.io-index)\",\"manifest_path\":\"/usr/local/cargo/registry/src/index.crates.io-6f17d22bba15001f/polars-time-0.31.1/Cargo.toml\",\"target\":{\"kind\":[\"lib\"],\"crate_types\":[\"lib\"],\"name\":\"polars-time\",\"src_path\":\"/usr/local/cargo/registry/src/index.crates.io-6f17d22bba15001f/polars-time-0.31.1/src/lib.rs\",\"edition\":\"2021\",\"doc\":true,\"doctest\":true,\"test\":true},\"profile\":{\"opt_level\":\"2\",\"debuginfo\":null,\"debug_assertions\":true,\"overflow_checks\":true,\"test\":false},\"features\":[\"default\",\"dtype-date\",\"dtype-datetime\",\"dtype-duration\",\"dtype-time\"],\"filenames\":[\"/tmp/.tmpCUQ1hT/target/aarch64-unknown-linux-gnu/debug/deps/libpolars_time-135054296dfd126c.rlib\",\"/tmp/.tmpCUQ1hT/target/aarch64-unknown-linux-gnu/debug/deps/libpolars_time-135054296dfd126c.rmeta\"],\"executable\":null,\"fresh\":false}\n{\"reason\":\"compiler-artifact\",\"package_id\":\"polars-io 0.31.1 (registry+https://github.com/rust-lang/crates.io-index)\",\"manifest_path\":\"/usr/local/cargo/registry/src/index.crates.io-6f17d22bba15001f/polars-io-0.31.1/Cargo.toml\",\"target\":{\"kind\":[\"lib\"],\"crate_types\":[\"lib\"],\"name\":\"polars-io\",\"src_path\":\"/usr/local/cargo/registry/src/index.crates.io-6f17d22bba15001f/polars-io-0.31.1/src/lib.rs\",\"edition\":\"2021\",\"doc\":true,\"doctest\":true,\"test\":true},\"profile\":{\"opt_level\":\"2\",\"debuginfo\":null,\"debug_assertions\":true,\"overflow_checks\":true,\"test\":false},\"features\":[\"async\",\"async-trait\",\"chrono\",\"csv\",\"dtype-categorical\",\"dtype-date\",\"dtype-datetime\",\"dtype-decimal\",\"dtype-struct\",\"dtype-time\",\"fast-float\",\"futures\",\"ipc\",\"lazy\",\"lexical\",\"lexical-core\",\"memmap\",\"object\",\"polars-time\",\"simdutf8\",\"temporal\",\"tokio\"],\"filenames\":[\"/tmp/.tmpCUQ1hT/target/aarch64-unknown-linux-gnu/debug/deps/libpolars_io-6f718ff05dc93da0.rlib\",\"/tmp/.tmpCUQ1hT/target/aarch64-unknown-linux-gnu/debug/deps/libpolars_io-6f718ff05dc93da0.rmeta\"],\"executable\":null,\"fresh\":false}\n{\"reason\":\"compiler-artifact\",\"package_id\":\"polars-pipe 0.31.1 (registry+https://github.com/rust-lang/crates.io-index)\",\"manifest_path\":\"/usr/local/cargo/registry/src/index.crates.io-6f17d22bba15001f/polars-pipe-0.31.1/Cargo.toml\",\"target\":{\"kind\":[\"lib\"],\"crate_types\":[\"lib\"],\"name\":\"polars-pipe\",\"src_path\":\"/usr/local/cargo/registry/src/index.crates.io-6f17d22bba15001f/polars-pipe-0.31.1/src/lib.rs\",\"edition\":\"2021\",\"doc\":true,\"doctest\":true,\"test\":true},\"profile\":{\"opt_level\":\"2\",\"debuginfo\":null,\"debug_assertions\":true,\"overflow_checks\":true,\"test\":false},\"features\":[\"cross_join\",\"csv\",\"dtype-array\",\"dtype-categorical\",\"dtype-decimal\",\"dtype-i16\",\"dtype-i8\",\"dtype-u16\",\"dtype-u8\"],\"filenames\":[\"/tmp/.tmpCUQ1hT/target/aarch64-unknown-linux-gnu/debug/deps/libpolars_pipe-eca8369015617e8a.rlib\",\"/tmp/.tmpCUQ1hT/target/aarch64-unknown-linux-gnu/debug/deps/libpolars_pipe-eca8369015617e8a.rmeta\"],\"executable\":null,\"fresh\":false}\n{\"reason\":\"compiler-artifact\",\"package_id\":\"arrow2 0.17.3 (registry+https://github.com/rust-lang/crates.io-index)\",\"manifest_path\":\"/usr/local/cargo/registry/src/index.crates.io-6f17d22bba15001f/arrow2-0.17.3/Cargo.toml\",\"target\":{\"kind\":[\"lib\"],\"crate_types\":[\"lib\"],\"name\":\"arrow2\",\"src_path\":\"/usr/local/cargo/registry/src/index.crates.io-6f17d22bba15001f/arrow2-0.17.3/src/lib.rs\",\"edition\":\"2021\",\"doc\":true,\"doctest\":true,\"test\":true},\"profile\":{\"opt_level\":\"2\",\"debuginfo\":null,\"debug_assertions\":true,\"overflow_checks\":true,\"test\":false},\"features\":[\"arrow-format\",\"compute_aggregate\",\"compute_arithmetics\",\"compute_arithmetics_decimal\",\"compute_boolean\",\"compute_boolean_kleene\",\"compute_cast\",\"compute_comparison\",\"compute_concatenate\",\"compute_filter\",\"compute_if_then_else\",\"compute_like\",\"compute_substring\",\"compute_take\",\"compute_temporal\",\"futures\",\"io_ipc\",\"io_ipc_compression\",\"io_ipc_write_async\",\"lexical-core\",\"lz4\",\"multiversion\",\"regex\",\"regex-syntax\",\"strength_reduce\",\"zstd\"],\"filenames\":[\"/tmp/.tmpCUQ1hT/target/aarch64-unknown-linux-gnu/debug/deps/libarrow2-c2801577b45971e8.rlib\",\"/tmp/.tmpCUQ1hT/target/aarch64-unknown-linux-gnu/debug/deps/libarrow2-c2801577b45971e8.rmeta\"],\"executable\":null,\"fresh\":false}\n{\"reason\":\"compiler-artifact\",\"package_id\":\"polars-plan 0.31.1 (registry+https://github.com/rust-lang/crates.io-index)\",\"manifest_path\":\"/usr/local/cargo/registry/src/index.crates.io-6f17d22bba15001f/polars-plan-0.31.1/Cargo.toml\",\"target\":{\"kind\":[\"lib\"],\"crate_types\":[\"lib\"],\"name\":\"polars-plan\",\"src_path\":\"/usr/local/cargo/registry/src/index.crates.io-6f17d22bba15001f/polars-plan-0.31.1/src/lib.rs\",\"edition\":\"2021\",\"doc\":true,\"doctest\":true,\"test\":true},\"profile\":{\"opt_level\":\"2\",\"debuginfo\":null,\"debug_assertions\":true,\"overflow_checks\":true,\"test\":false},\"features\":[\"abs\",\"compile\",\"concat_str\",\"cross_join\",\"csv\",\"cum_agg\",\"default\",\"dtype-array\",\"dtype-categorical\",\"dtype-date\",\"dtype-datetime\",\"dtype-decimal\",\"dtype-duration\",\"dtype-i16\",\"dtype-i8\",\"dtype-struct\",\"dtype-time\",\"dtype-u16\",\"dtype-u8\",\"is_in\",\"log\",\"meta\",\"mode\",\"object\",\"polars-time\",\"regex\",\"round_series\",\"strings\",\"temporal\",\"trigonometry\"],\"filenames\":[\"/tmp/.tmpCUQ1hT/target/aarch64-unknown-linux-gnu/debug/deps/libpolars_plan-a61b445be7684f9e.rlib\",\"/tmp/.tmpCUQ1hT/target/aarch64-unknown-linux-gnu/debug/deps/libpolars_plan-a61b445be7684f9e.rmeta\"],\"executable\":null,\"fresh\":false}\n{\"reason\":\"compiler-artifact\",\"package_id\":\"polars 0.31.1 (registry+https://github.com/rust-lang/crates.io-index)\",\"manifest_path\":\"/usr/local/cargo/registry/src/index.crates.io-6f17d22bba15001f/polars-0.31.1/Cargo.toml\",\"target\":{\"kind\":[\"lib\"],\"crate_types\":[\"lib\"],\"name\":\"polars\",\"src_path\":\"/usr/local/cargo/registry/src/index.crates.io-6f17d22bba15001f/polars-0.31.1/src/lib.rs\",\"edition\":\"2021\",\"doc\":true,\"doctest\":true,\"test\":true},\"profile\":{\"opt_level\":\"2\",\"debuginfo\":null,\"debug_assertions\":true,\"overflow_checks\":true,\"test\":false},\"features\":[\"concat_str\",\"csv\",\"default\",\"describe\",\"docs\",\"dtype-array\",\"dtype-categorical\",\"dtype-date\",\"dtype-datetime\",\"dtype-decimal\",\"dtype-duration\",\"dtype-full\",\"dtype-i16\",\"dtype-i8\",\"dtype-slim\",\"dtype-struct\",\"dtype-time\",\"dtype-u16\",\"dtype-u8\",\"fmt\",\"lazy\",\"log\",\"mode\",\"object\",\"polars-io\",\"polars-lazy\",\"polars-sql\",\"polars-time\",\"temporal\",\"to_dummies\",\"trigonometry\",\"zip_with\"],\"filenames\":[\"/tmp/.tmpCUQ1hT/target/aarch64-unknown-linux-gnu/debug/deps/libpolars-c9e9d51e07949fcb.rlib\",\"/tmp/.tmpCUQ1hT/target/aarch64-unknown-linux-gnu/debug/deps/libpolars-c9e9d51e07949fcb.rmeta\"],\"executable\":null,\"fresh\":false}\n{\"reason\":\"compiler-artifact\",\"package_id\":\"polars-sql 0.31.1 (registry+https://github.com/rust-lang/crates.io-index)\",\"manifest_path\":\"/usr/local/cargo/registry/src/index.crates.io-6f17d22bba15001f/polars-sql-0.31.1/Cargo.toml\",\"target\":{\"kind\":[\"lib\"],\"crate_types\":[\"lib\"],\"name\":\"polars-sql\",\"src_path\":\"/usr/local/cargo/registry/src/index.crates.io-6f17d22bba15001f/polars-sql-0.31.1/src/lib.rs\",\"edition\":\"2021\",\"doc\":true,\"doctest\":true,\"test\":true},\"profile\":{\"opt_level\":\"2\",\"debuginfo\":null,\"debug_assertions\":true,\"overflow_checks\":true,\"test\":false},\"features\":[\"csv\"],\"filenames\":[\"/tmp/.tmpCUQ1hT/target/aarch64-unknown-linux-gnu/debug/deps/libpolars_sql-ab47ce25a3b807bf.rlib\",\"/tmp/.tmpCUQ1hT/target/aarch64-unknown-linux-gnu/debug/deps/libpolars_sql-ab47ce25a3b807bf.rmeta\"],\"executable\":null,\"fresh\":false}\n{\"reason\":\"compiler-artifact\",\"package_id\":\"polars-lazy 0.31.1 (registry+https://github.com/rust-lang/crates.io-index)\",\"manifest_path\":\"/usr/local/cargo/registry/src/index.crates.io-6f17d22bba15001f/polars-lazy-0.31.1/Cargo.toml\",\"target\":{\"kind\":[\"lib\"],\"crate_types\":[\"lib\"],\"name\":\"polars-lazy\",\"src_path\":\"/usr/local/cargo/registry/src/index.crates.io-6f17d22bba15001f/polars-lazy-0.31.1/src/lib.rs\",\"edition\":\"2021\",\"doc\":true,\"doctest\":true,\"test\":true},\"profile\":{\"opt_level\":\"2\",\"debuginfo\":null,\"debug_assertions\":true,\"overflow_checks\":true,\"test\":false},\"features\":[\"abs\",\"compile\",\"concat_str\",\"cross_join\",\"csv\",\"cum_agg\",\"default\",\"dtype-array\",\"dtype-categorical\",\"dtype-date\",\"dtype-datetime\",\"dtype-decimal\",\"dtype-duration\",\"dtype-i16\",\"dtype-i8\",\"dtype-struct\",\"dtype-time\",\"dtype-u16\",\"dtype-u8\",\"is_in\",\"log\",\"meta\",\"mode\",\"object\",\"polars-pipe\",\"polars-time\",\"regex\",\"round_series\",\"strings\",\"temporal\",\"trigonometry\"],\"filenames\":[\"/tmp/.tmpCUQ1hT/target/aarch64-unknown-linux-gnu/debug/deps/libpolars_lazy-271da89216fffa9c.rlib\",\"/tmp/.tmpCUQ1hT/target/aarch64-unknown-linux-gnu/debug/deps/libpolars_lazy-271da89216fffa9c.rmeta\"],\"executable\":null,\"fresh\":false}\n{\"reason\":\"build-finished\",\"success\":false}\n\n",
     "output_type": "error",
     "traceback": [
      "Compilation failed, but no parsable errors were found. STDERR:\n   Compiling num-traits v0.2.16\n   Compiling num-integer v0.1.45\n   Compiling num-bigint v0.4.3\n   Compiling num-iter v0.1.43\n   Compiling num-rational v0.4.1\n   Compiling chrono v0.4.26\n   Compiling atoi v2.0.0\n   Compiling polars-utils v0.31.1\n   Compiling rand_distr v0.4.3\n   Compiling argminmax v0.6.1\n   Compiling num-complex v0.4.3\n   Compiling arrow2 v0.17.3\n   Compiling now v0.1.3\n   Compiling approx v0.5.1\n   Compiling num v0.4.1\n   Compiling smartcore v0.3.2\n   Compiling polars-error v0.31.1\n   Compiling polars-arrow v0.31.1\n   Compiling polars-row v0.31.1\n   Compiling polars-core v0.31.1\n   Compiling polars-ops v0.31.1\n   Compiling polars-time v0.31.1\n   Compiling polars-io v0.31.1\n   Compiling polars-plan v0.31.1\n   Compiling polars-pipe v0.31.1\n   Compiling polars-lazy v0.31.1\n   Compiling polars-sql v0.31.1\n   Compiling polars v0.31.1\nerror: could not compile `polars-core` (lib)\n\nCaused by:\n  process didn't exit successfully: `/usr/local/rustup/toolchains/1.70.0-aarch64-unknown-linux-gnu/bin/rustc --crate-name polars_core --edition=2021 /usr/local/cargo/registry/src/index.crates.io-6f17d22bba15001f/polars-core-0.31.1/src/lib.rs --error-format=json --json=diagnostic-rendered-ansi,artifacts,future-incompat --crate-type lib --emit=dep-info,metadata,link -C opt-level=2 -C embed-bitcode=no -C codegen-units=16 -C debug-assertions=on --cfg 'feature=\"abs\"' --cfg 'feature=\"chrono\"' --cfg 'feature=\"comfy-table\"' --cfg 'feature=\"concat_str\"' --cfg 'feature=\"cross_join\"' --cfg 'feature=\"cum_agg\"' --cfg 'feature=\"default\"' --cfg 'feature=\"describe\"' --cfg 'feature=\"docs\"' --cfg 'feature=\"dtype-array\"' --cfg 'feature=\"dtype-categorical\"' --cfg 'feature=\"dtype-date\"' --cfg 'feature=\"dtype-datetime\"' --cfg 'feature=\"dtype-decimal\"' --cfg 'feature=\"dtype-duration\"' --cfg 'feature=\"dtype-i16\"' --cfg 'feature=\"dtype-i8\"' --cfg 'feature=\"dtype-struct\"' --cfg 'feature=\"dtype-time\"' --cfg 'feature=\"dtype-u16\"' --cfg 'feature=\"dtype-u8\"' --cfg 'feature=\"fmt\"' --cfg 'feature=\"is_in\"' --cfg 'feature=\"lazy\"' --cfg 'feature=\"mode\"' --cfg 'feature=\"object\"' --cfg 'feature=\"rand\"' --cfg 'feature=\"rand_distr\"' --cfg 'feature=\"random\"' --cfg 'feature=\"regex\"' --cfg 'feature=\"round_series\"' --cfg 'feature=\"rows\"' --cfg 'feature=\"serde_json\"' --cfg 'feature=\"strings\"' --cfg 'feature=\"temporal\"' --cfg 'feature=\"zip_with\"' -C metadata=b2e3c69346b76501 -C extra-filename=-b2e3c69346b76501 -C rpath --out-dir /tmp/.tmpCUQ1hT/target/aarch64-unknown-linux-gnu/debug/deps --target aarch64-unknown-linux-gnu -C strip=debuginfo -L dependency=/tmp/.tmpCUQ1hT/target/aarch64-unknown-linux-gnu/debug/deps -L dependency=/tmp/.tmpCUQ1hT/target/debug/deps --extern ahash=/tmp/.tmpCUQ1hT/target/aarch64-unknown-linux-gnu/debug/deps/libahash-905308c309da85b1.rmeta --extern arrow=/tmp/.tmpCUQ1hT/target/aarch64-unknown-linux-gnu/debug/deps/libarrow2-c2801577b45971e8.rmeta --extern bitflags=/tmp/.tmpCUQ1hT/target/aarch64-unknown-linux-gnu/debug/deps/libbitflags-c86609eaabf79163.rmeta --extern chrono=/tmp/.tmpCUQ1hT/target/aarch64-unknown-linux-gnu/debug/deps/libchrono-9f0b9aecaac0591f.rmeta --extern comfy_table=/tmp/.tmpCUQ1hT/target/aarch64-unknown-linux-gnu/debug/deps/libcomfy_table-15893be6e458f572.rmeta --extern either=/tmp/.tmpCUQ1hT/target/aarch64-unknown-linux-gnu/debug/deps/libeither-44ca51474f613e07.rmeta --extern hashbrown=/tmp/.tmpCUQ1hT/target/aarch64-unknown-linux-gnu/debug/deps/libhashbrown-4dd996a008d17533.rmeta --extern indexmap=/tmp/.tmpCUQ1hT/target/aarch64-unknown-linux-gnu/debug/deps/libindexmap-9c2c79c88e2cc9aa.rmeta --extern itoap=/tmp/.tmpCUQ1hT/target/aarch64-unknown-linux-gnu/debug/deps/libitoap-efc0cb45d8ad6b58.rmeta --extern num_traits=/tmp/.tmpCUQ1hT/target/aarch64-unknown-linux-gnu/debug/deps/libnum_traits-5230b112098bd4e3.rmeta --extern once_cell=/tmp/.tmpCUQ1hT/target/aarch64-unknown-linux-gnu/debug/deps/libonce_cell-1f3d8f13061616dd.rmeta --extern polars_arrow=/tmp/.tmpCUQ1hT/target/aarch64-unknown-linux-gnu/debug/deps/libpolars_arrow-4be4d84b0af63b99.rmeta --extern polars_error=/tmp/.tmpCUQ1hT/target/aarch64-unknown-linux-gnu/debug/deps/libpolars_error-913e0e900945831e.rmeta --extern polars_row=/tmp/.tmpCUQ1hT/target/aarch64-unknown-linux-gnu/debug/deps/libpolars_row-7270675092078035.rmeta --extern polars_utils=/tmp/.tmpCUQ1hT/target/aarch64-unknown-linux-gnu/debug/deps/libpolars_utils-c304a62001c13f78.rmeta --extern rand=/tmp/.tmpCUQ1hT/target/aarch64-unknown-linux-gnu/debug/deps/librand-1f1720288f141c1b.rmeta --extern rand_distr=/tmp/.tmpCUQ1hT/target/aarch64-unknown-linux-gnu/debug/deps/librand_distr-14ae1fbb10d67233.rmeta --extern rayon=/tmp/.tmpCUQ1hT/target/aarch64-unknown-linux-gnu/debug/deps/librayon-c4b6d5744d733b7e.rmeta --extern regex=/tmp/.tmpCUQ1hT/target/aarch64-unknown-linux-gnu/debug/deps/libregex-ce4fff22e2b092b0.rmeta --extern serde_json=/tmp/.tmpCUQ1hT/target/aarch64-unknown-linux-gnu/debug/deps/libserde_json-5144ae063601c7cc.rmeta --extern smartstring=/tmp/.tmpCUQ1hT/target/aarch64-unknown-linux-gnu/debug/deps/libsmartstring-f4fe7563a38c4cfb.rmeta --extern thiserror=/tmp/.tmpCUQ1hT/target/aarch64-unknown-linux-gnu/debug/deps/libthiserror-363adb09f8b9c27c.rmeta --extern xxhash_rust=/tmp/.tmpCUQ1hT/target/aarch64-unknown-linux-gnu/debug/deps/libxxhash_rust-e26a92155d69d561.rmeta --cap-lints allow -L native=/tmp/.tmpCUQ1hT/target/aarch64-unknown-linux-gnu/debug/build/lz4-sys-d9eeb4f26f79cc59/out -L native=/tmp/.tmpCUQ1hT/target/aarch64-unknown-linux-gnu/debug/build/zstd-sys-5afeac7105d31ce6/out` (signal: 9, SIGKILL: kill)\n\nSTDOUT:{\"reason\":\"compiler-artifact\",\"package_id\":\"autocfg 1.1.0 (registry+https://github.com/rust-lang/crates.io-index)\",\"manifest_path\":\"/usr/local/cargo/registry/src/index.crates.io-6f17d22bba15001f/autocfg-1.1.0/Cargo.toml\",\"target\":{\"kind\":[\"lib\"],\"crate_types\":[\"lib\"],\"name\":\"autocfg\",\"src_path\":\"/usr/local/cargo/registry/src/index.crates.io-6f17d22bba15001f/autocfg-1.1.0/src/lib.rs\",\"edition\":\"2015\",\"doc\":true,\"doctest\":true,\"test\":true},\"profile\":{\"opt_level\":\"0\",\"debuginfo\":null,\"debug_assertions\":true,\"overflow_checks\":true,\"test\":false},\"features\":[],\"filenames\":[\"/tmp/.tmpCUQ1hT/target/debug/deps/libautocfg-6fcbd28e6621aaa3.rlib\",\"/tmp/.tmpCUQ1hT/target/debug/deps/libautocfg-6fcbd28e6621aaa3.rmeta\"],\"executable\":null,\"fresh\":true}\n{\"reason\":\"compiler-artifact\",\"package_id\":\"libc 0.2.147 (registry+https://github.com/rust-lang/crates.io-index)\",\"manifest_path\":\"/usr/local/cargo/registry/src/index.crates.io-6f17d22bba15001f/libc-0.2.147/Cargo.toml\",\"target\":{\"kind\":[\"custom-build\"],\"crate_types\":[\"bin\"],\"name\":\"build-script-build\",\"src_path\":\"/usr/local/cargo/registry/src/index.crates.io-6f17d22bba15001f/libc-0.2.147/build.rs\",\"edition\":\"2015\",\"doc\":false,\"doctest\":false,\"test\":false},\"profile\":{\"opt_level\":\"0\",\"debuginfo\":null,\"debug_assertions\":true,\"overflow_checks\":true,\"test\":false},\"features\":[\"default\",\"std\"],\"filenames\":[\"/tmp/.tmpCUQ1hT/target/debug/build/libc-dbc1a13cd4f83fbb/build-script-build\"],\"executable\":null,\"fresh\":true}\n{\"reason\":\"compiler-artifact\",\"package_id\":\"proc-macro2 1.0.66 (registry+https://github.com/rust-lang/crates.io-index)\",\"manifest_path\":\"/usr/local/cargo/registry/src/index.crates.io-6f17d22bba15001f/proc-macro2-1.0.66/Cargo.toml\",\"target\":{\"kind\":[\"custom-build\"],\"crate_types\":[\"bin\"],\"name\":\"build-script-build\",\"src_path\":\"/usr/local/cargo/registry/src/index.crates.io-6f17d22bba15001f/proc-macro2-1.0.66/build.rs\",\"edition\":\"2021\",\"doc\":false,\"doctest\":false,\"test\":false},\"profile\":{\"opt_level\":\"0\",\"debuginfo\":null,\"debug_assertions\":true,\"overflow_checks\":true,\"test\":false},\"features\":[\"default\",\"proc-macro\"],\"filenames\":[\"/tmp/.tmpCUQ1hT/target/debug/build/proc-macro2-e8a1ace7f3d36d65/build-script-build\"],\"executable\":null,\"fresh\":true}\n{\"reason\":\"compiler-artifact\",\"package_id\":\"unicode-ident 1.0.11 (registry+https://github.com/rust-lang/crates.io-index)\",\"manifest_path\":\"/usr/local/cargo/registry/src/index.crates.io-6f17d22bba15001f/unicode-ident-1.0.11/Cargo.toml\",\"target\":{\"kind\":[\"lib\"],\"crate_types\":[\"lib\"],\"name\":\"unicode-ident\",\"src_path\":\"/usr/local/cargo/registry/src/index.crates.io-6f17d22bba15001f/unicode-ident-1.0.11/src/lib.rs\",\"edition\":\"2018\",\"doc\":true,\"doctest\":true,\"test\":true},\"profile\":{\"opt_level\":\"0\",\"debuginfo\":null,\"debug_assertions\":true,\"overflow_checks\":true,\"test\":false},\"features\":[],\"filenames\":[\"/tmp/.tmpCUQ1hT/target/debug/deps/libunicode_ident-e7c69be63f6a6861.rlib\",\"/tmp/.tmpCUQ1hT/target/debug/deps/libunicode_ident-e7c69be63f6a6861.rmeta\"],\"executable\":null,\"fresh\":true}\n{\"reason\":\"compiler-artifact\",\"package_id\":\"cfg-if 1.0.0 (registry+https://github.com/rust-lang/crates.io-index)\",\"manifest_path\":\"/usr/local/cargo/registry/src/index.crates.io-6f17d22bba15001f/cfg-if-1.0.0/Cargo.toml\",\"target\":{\"kind\":[\"lib\"],\"crate_types\":[\"lib\"],\"name\":\"cfg-if\",\"src_path\":\"/usr/local/cargo/registry/src/index.crates.io-6f17d22bba15001f/cfg-if-1.0.0/src/lib.rs\",\"edition\":\"2018\",\"doc\":true,\"doctest\":true,\"test\":true},\"profile\":{\"opt_level\":\"2\",\"debuginfo\":null,\"debug_assertions\":true,\"overflow_checks\":true,\"test\":false},\"features\":[],\"filenames\":[\"/tmp/.tmpCUQ1hT/target/aarch64-unknown-linux-gnu/debug/deps/libcfg_if-aef3edbec0651992.rlib\",\"/tmp/.tmpCUQ1hT/target/aarch64-unknown-linux-gnu/debug/deps/libcfg_if-aef3edbec0651992.rmeta\"],\"executable\":null,\"fresh\":true}\n{\"reason\":\"build-script-executed\",\"package_id\":\"libc 0.2.147 (registry+https://github.com/rust-lang/crates.io-index)\",\"linked_libs\":[],\"linked_paths\":[],\"cfgs\":[\"freebsd11\",\"libc_priv_mod_use\",\"libc_union\",\"libc_const_size_of\",\"libc_align\",\"libc_int128\",\"libc_core_cvoid\",\"libc_packedN\",\"libc_cfg_target_vendor\",\"libc_non_exhaustive\",\"libc_long_array\",\"libc_ptr_addr_of\",\"libc_underscore_const_names\",\"libc_const_extern_fn\"],\"env\":[],\"out_dir\":\"/tmp/.tmpCUQ1hT/target/aarch64-unknown-linux-gnu/debug/build/libc-7d93fb38b339d81f/out\"}\n{\"reason\":\"build-script-executed\",\"package_id\":\"proc-macro2 1.0.66 (registry+https://github.com/rust-lang/crates.io-index)\",\"linked_libs\":[],\"linked_paths\":[],\"cfgs\":[\"wrap_proc_macro\"],\"env\":[],\"out_dir\":\"/tmp/.tmpCUQ1hT/target/debug/build/proc-macro2-56fcf604a79aada1/out\"}\n{\"reason\":\"compiler-artifact\",\"package_id\":\"libm 0.2.7 (registry+https://github.com/rust-lang/crates.io-index)\",\"manifest_path\":\"/usr/local/cargo/registry/src/index.crates.io-6f17d22bba15001f/libm-0.2.7/Cargo.toml\",\"target\":{\"kind\":[\"custom-build\"],\"crate_types\":[\"bin\"],\"name\":\"build-script-build\",\"src_path\":\"/usr/local/cargo/registry/src/index.crates.io-6f17d22bba15001f/libm-0.2.7/build.rs\",\"edition\":\"2018\",\"doc\":false,\"doctest\":false,\"test\":false},\"profile\":{\"opt_level\":\"0\",\"debuginfo\":null,\"debug_assertions\":true,\"overflow_checks\":true,\"test\":false},\"features\":[\"default\"],\"filenames\":[\"/tmp/.tmpCUQ1hT/target/debug/build/libm-3fa89cc1ffbc14c8/build-script-build\"],\"executable\":null,\"fresh\":true}\n{\"reason\":\"compiler-artifact\",\"package_id\":\"libc 0.2.147 (registry+https://github.com/rust-lang/crates.io-index)\",\"manifest_path\":\"/usr/local/cargo/registry/src/index.crates.io-6f17d22bba15001f/libc-0.2.147/Cargo.toml\",\"target\":{\"kind\":[\"lib\"],\"crate_types\":[\"lib\"],\"name\":\"libc\",\"src_path\":\"/usr/local/cargo/registry/src/index.crates.io-6f17d22bba15001f/libc-0.2.147/src/lib.rs\",\"edition\":\"2015\",\"doc\":true,\"doctest\":true,\"test\":true},\"profile\":{\"opt_level\":\"2\",\"debuginfo\":null,\"debug_assertions\":true,\"overflow_checks\":true,\"test\":false},\"features\":[\"default\",\"std\"],\"filenames\":[\"/tmp/.tmpCUQ1hT/target/aarch64-unknown-linux-gnu/debug/deps/liblibc-3569d88fc8ee0172.rlib\",\"/tmp/.tmpCUQ1hT/target/aarch64-unknown-linux-gnu/debug/deps/liblibc-3569d88fc8ee0172.rmeta\"],\"executable\":null,\"fresh\":true}\n{\"reason\":\"compiler-artifact\",\"package_id\":\"proc-macro2 1.0.66 (registry+https://github.com/rust-lang/crates.io-index)\",\"manifest_path\":\"/usr/local/cargo/registry/src/index.crates.io-6f17d22bba15001f/proc-macro2-1.0.66/Cargo.toml\",\"target\":{\"kind\":[\"lib\"],\"crate_types\":[\"lib\"],\"name\":\"proc-macro2\",\"src_path\":\"/usr/local/cargo/registry/src/index.crates.io-6f17d22bba15001f/proc-macro2-1.0.66/src/lib.rs\",\"edition\":\"2021\",\"doc\":true,\"doctest\":true,\"test\":true},\"profile\":{\"opt_level\":\"0\",\"debuginfo\":null,\"debug_assertions\":true,\"overflow_checks\":true,\"test\":false},\"features\":[\"default\",\"proc-macro\"],\"filenames\":[\"/tmp/.tmpCUQ1hT/target/debug/deps/libproc_macro2-de0f6f00c81a3ef5.rlib\",\"/tmp/.tmpCUQ1hT/target/debug/deps/libproc_macro2-de0f6f00c81a3ef5.rmeta\"],\"executable\":null,\"fresh\":true}\n{\"reason\":\"build-script-executed\",\"package_id\":\"libm 0.2.7 (registry+https://github.com/rust-lang/crates.io-index)\",\"linked_libs\":[],\"linked_paths\":[],\"cfgs\":[\"assert_no_panic\"],\"env\":[],\"out_dir\":\"/tmp/.tmpCUQ1hT/target/aarch64-unknown-linux-gnu/debug/build/libm-18477a9f2590fc6b/out\"}\n{\"reason\":\"compiler-artifact\",\"package_id\":\"quote 1.0.32 (registry+https://github.com/rust-lang/crates.io-index)\",\"manifest_path\":\"/usr/local/cargo/registry/src/index.crates.io-6f17d22bba15001f/quote-1.0.32/Cargo.toml\",\"target\":{\"kind\":[\"lib\"],\"crate_types\":[\"lib\"],\"name\":\"quote\",\"src_path\":\"/usr/local/cargo/registry/src/index.crates.io-6f17d22bba15001f/quote-1.0.32/src/lib.rs\",\"edition\":\"2018\",\"doc\":true,\"doctest\":true,\"test\":true},\"profile\":{\"opt_level\":\"0\",\"debuginfo\":null,\"debug_assertions\":true,\"overflow_checks\":true,\"test\":false},\"features\":[\"default\",\"proc-macro\"],\"filenames\":[\"/tmp/.tmpCUQ1hT/target/debug/deps/libquote-2f2cc36948c6a7b7.rlib\",\"/tmp/.tmpCUQ1hT/target/debug/deps/libquote-2f2cc36948c6a7b7.rmeta\"],\"executable\":null,\"fresh\":true}\n{\"reason\":\"compiler-artifact\",\"package_id\":\"libm 0.2.7 (registry+https://github.com/rust-lang/crates.io-index)\",\"manifest_path\":\"/usr/local/cargo/registry/src/index.crates.io-6f17d22bba15001f/libm-0.2.7/Cargo.toml\",\"target\":{\"kind\":[\"lib\"],\"crate_types\":[\"lib\"],\"name\":\"libm\",\"src_path\":\"/usr/local/cargo/registry/src/index.crates.io-6f17d22bba15001f/libm-0.2.7/src/lib.rs\",\"edition\":\"2018\",\"doc\":true,\"doctest\":true,\"test\":true},\"profile\":{\"opt_level\":\"2\",\"debuginfo\":null,\"debug_assertions\":true,\"overflow_checks\":true,\"test\":false},\"features\":[\"default\"],\"filenames\":[\"/tmp/.tmpCUQ1hT/target/aarch64-unknown-linux-gnu/debug/deps/liblibm-7fe8a5c1d1414043.rlib\",\"/tmp/.tmpCUQ1hT/target/aarch64-unknown-linux-gnu/debug/deps/liblibm-7fe8a5c1d1414043.rmeta\"],\"executable\":null,\"fresh\":true}\n{\"reason\":\"build-script-executed\",\"package_id\":\"libc 0.2.147 (registry+https://github.com/rust-lang/crates.io-index)\",\"linked_libs\":[],\"linked_paths\":[],\"cfgs\":[\"freebsd11\",\"libc_priv_mod_use\",\"libc_union\",\"libc_const_size_of\",\"libc_align\",\"libc_int128\",\"libc_core_cvoid\",\"libc_packedN\",\"libc_cfg_target_vendor\",\"libc_non_exhaustive\",\"libc_long_array\",\"libc_ptr_addr_of\",\"libc_underscore_const_names\",\"libc_const_extern_fn\"],\"env\":[],\"out_dir\":\"/tmp/.tmpCUQ1hT/target/debug/build/libc-1cd215c2b151331a/out\"}\n{\"reason\":\"compiler-artifact\",\"package_id\":\"syn 2.0.28 (registry+https://github.com/rust-lang/crates.io-index)\",\"manifest_path\":\"/usr/local/cargo/registry/src/index.crates.io-6f17d22bba15001f/syn-2.0.28/Cargo.toml\",\"target\":{\"kind\":[\"lib\"],\"crate_types\":[\"lib\"],\"name\":\"syn\",\"src_path\":\"/usr/local/cargo/registry/src/index.crates.io-6f17d22bba15001f/syn-2.0.28/src/lib.rs\",\"edition\":\"2021\",\"doc\":true,\"doctest\":true,\"test\":true},\"profile\":{\"opt_level\":\"0\",\"debuginfo\":null,\"debug_assertions\":true,\"overflow_checks\":true,\"test\":false},\"features\":[\"clone-impls\",\"default\",\"derive\",\"extra-traits\",\"full\",\"parsing\",\"printing\",\"proc-macro\",\"quote\",\"visit-mut\"],\"filenames\":[\"/tmp/.tmpCUQ1hT/target/debug/deps/libsyn-fa16a5f71fb5b658.rlib\",\"/tmp/.tmpCUQ1hT/target/debug/deps/libsyn-fa16a5f71fb5b658.rmeta\"],\"executable\":null,\"fresh\":true}\n{\"reason\":\"compiler-artifact\",\"package_id\":\"libc 0.2.147 (registry+https://github.com/rust-lang/crates.io-index)\",\"manifest_path\":\"/usr/local/cargo/registry/src/index.crates.io-6f17d22bba15001f/libc-0.2.147/Cargo.toml\",\"target\":{\"kind\":[\"lib\"],\"crate_types\":[\"lib\"],\"name\":\"libc\",\"src_path\":\"/usr/local/cargo/registry/src/index.crates.io-6f17d22bba15001f/libc-0.2.147/src/lib.rs\",\"edition\":\"2015\",\"doc\":true,\"doctest\":true,\"test\":true},\"profile\":{\"opt_level\":\"0\",\"debuginfo\":null,\"debug_assertions\":true,\"overflow_checks\":true,\"test\":false},\"features\":[\"default\",\"std\"],\"filenames\":[\"/tmp/.tmpCUQ1hT/target/debug/deps/liblibc-77f11f16e18167f6.rlib\",\"/tmp/.tmpCUQ1hT/target/debug/deps/liblibc-77f11f16e18167f6.rmeta\"],\"executable\":null,\"fresh\":true}\n{\"reason\":\"compiler-artifact\",\"package_id\":\"version_check 0.9.4 (registry+https://github.com/rust-lang/crates.io-index)\",\"manifest_path\":\"/usr/local/cargo/registry/src/index.crates.io-6f17d22bba15001f/version_check-0.9.4/Cargo.toml\",\"target\":{\"kind\":[\"lib\"],\"crate_types\":[\"lib\"],\"name\":\"version_check\",\"src_path\":\"/usr/local/cargo/registry/src/index.crates.io-6f17d22bba15001f/version_check-0.9.4/src/lib.rs\",\"edition\":\"2015\",\"doc\":true,\"doctest\":true,\"test\":true},\"profile\":{\"opt_level\":\"0\",\"debuginfo\":null,\"debug_assertions\":true,\"overflow_checks\":true,\"test\":false},\"features\":[],\"filenames\":[\"/tmp/.tmpCUQ1hT/target/debug/deps/libversion_check-0ebca5dc9bb57a81.rlib\",\"/tmp/.tmpCUQ1hT/target/debug/deps/libversion_check-0ebca5dc9bb57a81.rmeta\"],\"executable\":null,\"fresh\":true}\n{\"reason\":\"compiler-artifact\",\"package_id\":\"jobserver 0.1.26 (registry+https://github.com/rust-lang/crates.io-index)\",\"manifest_path\":\"/usr/local/cargo/registry/src/index.crates.io-6f17d22bba15001f/jobserver-0.1.26/Cargo.toml\",\"target\":{\"kind\":[\"lib\"],\"crate_types\":[\"lib\"],\"name\":\"jobserver\",\"src_path\":\"/usr/local/cargo/registry/src/index.crates.io-6f17d22bba15001f/jobserver-0.1.26/src/lib.rs\",\"edition\":\"2018\",\"doc\":true,\"doctest\":true,\"test\":true},\"profile\":{\"opt_level\":\"0\",\"debuginfo\":null,\"debug_assertions\":true,\"overflow_checks\":true,\"test\":false},\"features\":[],\"filenames\":[\"/tmp/.tmpCUQ1hT/target/debug/deps/libjobserver-2bb3bf1bef98ab89.rlib\",\"/tmp/.tmpCUQ1hT/target/debug/deps/libjobserver-2bb3bf1bef98ab89.rmeta\"],\"executable\":null,\"fresh\":true}\n{\"reason\":\"compiler-artifact\",\"package_id\":\"getrandom 0.2.10 (registry+https://github.com/rust-lang/crates.io-index)\",\"manifest_path\":\"/usr/local/cargo/registry/src/index.crates.io-6f17d22bba15001f/getrandom-0.2.10/Cargo.toml\",\"target\":{\"kind\":[\"lib\"],\"crate_types\":[\"lib\"],\"name\":\"getrandom\",\"src_path\":\"/usr/local/cargo/registry/src/index.crates.io-6f17d22bba15001f/getrandom-0.2.10/src/lib.rs\",\"edition\":\"2018\",\"doc\":true,\"doctest\":true,\"test\":true},\"profile\":{\"opt_level\":\"2\",\"debuginfo\":null,\"debug_assertions\":true,\"overflow_checks\":true,\"test\":false},\"features\":[\"std\"],\"filenames\":[\"/tmp/.tmpCUQ1hT/target/aarch64-unknown-linux-gnu/debug/deps/libgetrandom-2c2e5fbfb4a4c55a.rlib\",\"/tmp/.tmpCUQ1hT/target/aarch64-unknown-linux-gnu/debug/deps/libgetrandom-2c2e5fbfb4a4c55a.rmeta\"],\"executable\":null,\"fresh\":true}\n{\"reason\":\"compiler-artifact\",\"package_id\":\"scopeguard 1.2.0 (registry+https://github.com/rust-lang/crates.io-index)\",\"manifest_path\":\"/usr/local/cargo/registry/src/index.crates.io-6f17d22bba15001f/scopeguard-1.2.0/Cargo.toml\",\"target\":{\"kind\":[\"lib\"],\"crate_types\":[\"lib\"],\"name\":\"scopeguard\",\"src_path\":\"/usr/local/cargo/registry/src/index.crates.io-6f17d22bba15001f/scopeguard-1.2.0/src/lib.rs\",\"edition\":\"2015\",\"doc\":true,\"doctest\":true,\"test\":true},\"profile\":{\"opt_level\":\"2\",\"debuginfo\":null,\"debug_assertions\":true,\"overflow_checks\":true,\"test\":false},\"features\":[],\"filenames\":[\"/tmp/.tmpCUQ1hT/target/aarch64-unknown-linux-gnu/debug/deps/libscopeguard-85d39e190b5bde09.rlib\",\"/tmp/.tmpCUQ1hT/target/aarch64-unknown-linux-gnu/debug/deps/libscopeguard-85d39e190b5bde09.rmeta\"],\"executable\":null,\"fresh\":true}\n{\"reason\":\"compiler-artifact\",\"package_id\":\"cc 1.0.79 (registry+https://github.com/rust-lang/crates.io-index)\",\"manifest_path\":\"/usr/local/cargo/registry/src/index.crates.io-6f17d22bba15001f/cc-1.0.79/Cargo.toml\",\"target\":{\"kind\":[\"lib\"],\"crate_types\":[\"lib\"],\"name\":\"cc\",\"src_path\":\"/usr/local/cargo/registry/src/index.crates.io-6f17d22bba15001f/cc-1.0.79/src/lib.rs\",\"edition\":\"2018\",\"doc\":true,\"doctest\":true,\"test\":true},\"profile\":{\"opt_level\":\"0\",\"debuginfo\":null,\"debug_assertions\":true,\"overflow_checks\":true,\"test\":false},\"features\":[\"jobserver\",\"parallel\"],\"filenames\":[\"/tmp/.tmpCUQ1hT/target/debug/deps/libcc-4ecf086577c46f19.rlib\",\"/tmp/.tmpCUQ1hT/target/debug/deps/libcc-4ecf086577c46f19.rmeta\"],\"executable\":null,\"fresh\":true}\n{\"reason\":\"compiler-artifact\",\"package_id\":\"static_assertions 1.1.0 (registry+https://github.com/rust-lang/crates.io-index)\",\"manifest_path\":\"/usr/local/cargo/registry/src/index.crates.io-6f17d22bba15001f/static_assertions-1.1.0/Cargo.toml\",\"target\":{\"kind\":[\"lib\"],\"crate_types\":[\"lib\"],\"name\":\"static_assertions\",\"src_path\":\"/usr/local/cargo/registry/src/index.crates.io-6f17d22bba15001f/static_assertions-1.1.0/src/lib.rs\",\"edition\":\"2015\",\"doc\":true,\"doctest\":true,\"test\":true},\"profile\":{\"opt_level\":\"2\",\"debuginfo\":null,\"debug_assertions\":true,\"overflow_checks\":true,\"test\":false},\"features\":[],\"filenames\":[\"/tmp/.tmpCUQ1hT/target/aarch64-unknown-linux-gnu/debug/deps/libstatic_assertions-959ed36936fa7001.rlib\",\"/tmp/.tmpCUQ1hT/target/aarch64-unknown-linux-gnu/debug/deps/libstatic_assertions-959ed36936fa7001.rmeta\"],\"executable\":null,\"fresh\":true}\n{\"reason\":\"compiler-artifact\",\"package_id\":\"crossbeam-utils 0.8.16 (registry+https://github.com/rust-lang/crates.io-index)\",\"manifest_path\":\"/usr/local/cargo/registry/src/index.crates.io-6f17d22bba15001f/crossbeam-utils-0.8.16/Cargo.toml\",\"target\":{\"kind\":[\"custom-build\"],\"crate_types\":[\"bin\"],\"name\":\"build-script-build\",\"src_path\":\"/usr/local/cargo/registry/src/index.crates.io-6f17d22bba15001f/crossbeam-utils-0.8.16/build.rs\",\"edition\":\"2018\",\"doc\":false,\"doctest\":false,\"test\":false},\"profile\":{\"opt_level\":\"0\",\"debuginfo\":null,\"debug_assertions\":true,\"overflow_checks\":true,\"test\":false},\"features\":[\"default\",\"std\"],\"filenames\":[\"/tmp/.tmpCUQ1hT/target/debug/build/crossbeam-utils-e1930de849e15b3b/build-script-build\"],\"executable\":null,\"fresh\":true}\n{\"reason\":\"compiler-artifact\",\"package_id\":\"memchr 2.5.0 (registry+https://github.com/rust-lang/crates.io-index)\",\"manifest_path\":\"/usr/local/cargo/registry/src/index.crates.io-6f17d22bba15001f/memchr-2.5.0/Cargo.toml\",\"target\":{\"kind\":[\"custom-build\"],\"crate_types\":[\"bin\"],\"name\":\"build-script-build\",\"src_path\":\"/usr/local/cargo/registry/src/index.crates.io-6f17d22bba15001f/memchr-2.5.0/build.rs\",\"edition\":\"2018\",\"doc\":false,\"doctest\":false,\"test\":false},\"profile\":{\"opt_level\":\"0\",\"debuginfo\":null,\"debug_assertions\":true,\"overflow_checks\":true,\"test\":false},\"features\":[\"default\",\"std\"],\"filenames\":[\"/tmp/.tmpCUQ1hT/target/debug/build/memchr-48f1a80679326688/build-script-build\"],\"executable\":null,\"fresh\":true}\n{\"reason\":\"build-script-executed\",\"package_id\":\"crossbeam-utils 0.8.16 (registry+https://github.com/rust-lang/crates.io-index)\",\"linked_libs\":[],\"linked_paths\":[],\"cfgs\":[],\"env\":[],\"out_dir\":\"/tmp/.tmpCUQ1hT/target/aarch64-unknown-linux-gnu/debug/build/crossbeam-utils-f31ab2407252f19c/out\"}\n{\"reason\":\"compiler-artifact\",\"package_id\":\"memoffset 0.9.0 (registry+https://github.com/rust-lang/crates.io-index)\",\"manifest_path\":\"/usr/local/cargo/registry/src/index.crates.io-6f17d22bba15001f/memoffset-0.9.0/Cargo.toml\",\"target\":{\"kind\":[\"custom-build\"],\"crate_types\":[\"bin\"],\"name\":\"build-script-build\",\"src_path\":\"/usr/local/cargo/registry/src/index.crates.io-6f17d22bba15001f/memoffset-0.9.0/build.rs\",\"edition\":\"2015\",\"doc\":false,\"doctest\":false,\"test\":false},\"profile\":{\"opt_level\":\"0\",\"debuginfo\":null,\"debug_assertions\":true,\"overflow_checks\":true,\"test\":false},\"features\":[\"default\"],\"filenames\":[\"/tmp/.tmpCUQ1hT/target/debug/build/memoffset-24cf2be06d4ade99/build-script-build\"],\"executable\":null,\"fresh\":true}\n{\"reason\":\"build-script-executed\",\"package_id\":\"memchr 2.5.0 (registry+https://github.com/rust-lang/crates.io-index)\",\"linked_libs\":[],\"linked_paths\":[],\"cfgs\":[],\"env\":[],\"out_dir\":\"/tmp/.tmpCUQ1hT/target/aarch64-unknown-linux-gnu/debug/build/memchr-1d8abcc1b50d3138/out\"}\n{\"reason\":\"build-script-executed\",\"package_id\":\"memoffset 0.9.0 (registry+https://github.com/rust-lang/crates.io-index)\",\"linked_libs\":[],\"linked_paths\":[],\"cfgs\":[\"tuple_ty\",\"allow_clippy\",\"maybe_uninit\",\"doctests\",\"raw_ref_macros\",\"stable_const\"],\"env\":[],\"out_dir\":\"/tmp/.tmpCUQ1hT/target/aarch64-unknown-linux-gnu/debug/build/memoffset-2118ffb523ab966a/out\"}\n{\"reason\":\"compiler-artifact\",\"package_id\":\"crossbeam-utils 0.8.16 (registry+https://github.com/rust-lang/crates.io-index)\",\"manifest_path\":\"/usr/local/cargo/registry/src/index.crates.io-6f17d22bba15001f/crossbeam-utils-0.8.16/Cargo.toml\",\"target\":{\"kind\":[\"lib\"],\"crate_types\":[\"lib\"],\"name\":\"crossbeam-utils\",\"src_path\":\"/usr/local/cargo/registry/src/index.crates.io-6f17d22bba15001f/crossbeam-utils-0.8.16/src/lib.rs\",\"edition\":\"2018\",\"doc\":true,\"doctest\":true,\"test\":true},\"profile\":{\"opt_level\":\"2\",\"debuginfo\":null,\"debug_assertions\":true,\"overflow_checks\":true,\"test\":false},\"features\":[\"default\",\"std\"],\"filenames\":[\"/tmp/.tmpCUQ1hT/target/aarch64-unknown-linux-gnu/debug/deps/libcrossbeam_utils-b3101919eaf0d16c.rlib\",\"/tmp/.tmpCUQ1hT/target/aarch64-unknown-linux-gnu/debug/deps/libcrossbeam_utils-b3101919eaf0d16c.rmeta\"],\"executable\":null,\"fresh\":true}\n{\"reason\":\"compiler-artifact\",\"package_id\":\"memchr 2.5.0 (registry+https://github.com/rust-lang/crates.io-index)\",\"manifest_path\":\"/usr/local/cargo/registry/src/index.crates.io-6f17d22bba15001f/memchr-2.5.0/Cargo.toml\",\"target\":{\"kind\":[\"lib\"],\"crate_types\":[\"lib\"],\"name\":\"memchr\",\"src_path\":\"/usr/local/cargo/registry/src/index.crates.io-6f17d22bba15001f/memchr-2.5.0/src/lib.rs\",\"edition\":\"2018\",\"doc\":true,\"doctest\":true,\"test\":true},\"profile\":{\"opt_level\":\"2\",\"debuginfo\":null,\"debug_assertions\":true,\"overflow_checks\":true,\"test\":false},\"features\":[\"default\",\"std\"],\"filenames\":[\"/tmp/.tmpCUQ1hT/target/aarch64-unknown-linux-gnu/debug/deps/libmemchr-9067e6a3c1b3f999.rlib\",\"/tmp/.tmpCUQ1hT/target/aarch64-unknown-linux-gnu/debug/deps/libmemchr-9067e6a3c1b3f999.rmeta\"],\"executable\":null,\"fresh\":true}\n{\"reason\":\"compiler-artifact\",\"package_id\":\"lexical-util 0.8.5 (registry+https://github.com/rust-lang/crates.io-index)\",\"manifest_path\":\"/usr/local/cargo/registry/src/index.crates.io-6f17d22bba15001f/lexical-util-0.8.5/Cargo.toml\",\"target\":{\"kind\":[\"lib\"],\"crate_types\":[\"lib\"],\"name\":\"lexical-util\",\"src_path\":\"/usr/local/cargo/registry/src/index.crates.io-6f17d22bba15001f/lexical-util-0.8.5/src/lib.rs\",\"edition\":\"2018\",\"doc\":true,\"doctest\":true,\"test\":true},\"profile\":{\"opt_level\":\"2\",\"debuginfo\":null,\"debug_assertions\":true,\"overflow_checks\":true,\"test\":false},\"features\":[\"floats\",\"integers\",\"parse\",\"parse-floats\",\"parse-integers\",\"std\",\"write\",\"write-floats\",\"write-integers\"],\"filenames\":[\"/tmp/.tmpCUQ1hT/target/aarch64-unknown-linux-gnu/debug/deps/liblexical_util-37171b88d92e604a.rlib\",\"/tmp/.tmpCUQ1hT/target/aarch64-unknown-linux-gnu/debug/deps/liblexical_util-37171b88d92e604a.rmeta\"],\"executable\":null,\"fresh\":true}\n{\"reason\":\"compiler-artifact\",\"package_id\":\"crossbeam-epoch 0.9.15 (registry+https://github.com/rust-lang/crates.io-index)\",\"manifest_path\":\"/usr/local/cargo/registry/src/index.crates.io-6f17d22bba15001f/crossbeam-epoch-0.9.15/Cargo.toml\",\"target\":{\"kind\":[\"custom-build\"],\"crate_types\":[\"bin\"],\"name\":\"build-script-build\",\"src_path\":\"/usr/local/cargo/registry/src/index.crates.io-6f17d22bba15001f/crossbeam-epoch-0.9.15/build.rs\",\"edition\":\"2018\",\"doc\":false,\"doctest\":false,\"test\":false},\"profile\":{\"opt_level\":\"0\",\"debuginfo\":null,\"debug_assertions\":true,\"overflow_checks\":true,\"test\":false},\"features\":[\"alloc\",\"std\"],\"filenames\":[\"/tmp/.tmpCUQ1hT/target/debug/build/crossbeam-epoch-31b5e8a28b23b54d/build-script-build\"],\"executable\":null,\"fresh\":true}\n{\"reason\":\"compiler-artifact\",\"package_id\":\"target-features 0.1.4 (registry+https://github.com/rust-lang/crates.io-index)\",\"manifest_path\":\"/usr/local/cargo/registry/src/index.crates.io-6f17d22bba15001f/target-features-0.1.4/Cargo.toml\",\"target\":{\"kind\":[\"custom-build\"],\"crate_types\":[\"bin\"],\"name\":\"build-script-build\",\"src_path\":\"/usr/local/cargo/registry/src/index.crates.io-6f17d22bba15001f/target-features-0.1.4/build.rs\",\"edition\":\"2021\",\"doc\":false,\"doctest\":false,\"test\":false},\"profile\":{\"opt_level\":\"0\",\"debuginfo\":null,\"debug_assertions\":true,\"overflow_checks\":true,\"test\":false},\"features\":[],\"filenames\":[\"/tmp/.tmpCUQ1hT/target/debug/build/target-features-43a35d87588908ee/build-script-build\"],\"executable\":null,\"fresh\":true}\n{\"reason\":\"compiler-artifact\",\"package_id\":\"futures-core 0.3.28 (registry+https://github.com/rust-lang/crates.io-index)\",\"manifest_path\":\"/usr/local/cargo/registry/src/index.crates.io-6f17d22bba15001f/futures-core-0.3.28/Cargo.toml\",\"target\":{\"kind\":[\"custom-build\"],\"crate_types\":[\"bin\"],\"name\":\"build-script-build\",\"src_path\":\"/usr/local/cargo/registry/src/index.crates.io-6f17d22bba15001f/futures-core-0.3.28/build.rs\",\"edition\":\"2018\",\"doc\":false,\"doctest\":false,\"test\":false},\"profile\":{\"opt_level\":\"0\",\"debuginfo\":null,\"debug_assertions\":true,\"overflow_checks\":true,\"test\":false},\"features\":[\"alloc\",\"std\"],\"filenames\":[\"/tmp/.tmpCUQ1hT/target/debug/build/futures-core-1813df2db190cbc8/build-script-build\"],\"executable\":null,\"fresh\":true}\n{\"reason\":\"compiler-artifact\",\"package_id\":\"pkg-config 0.3.27 (registry+https://github.com/rust-lang/crates.io-index)\",\"manifest_path\":\"/usr/local/cargo/registry/src/index.crates.io-6f17d22bba15001f/pkg-config-0.3.27/Cargo.toml\",\"target\":{\"kind\":[\"lib\"],\"crate_types\":[\"lib\"],\"name\":\"pkg-config\",\"src_path\":\"/usr/local/cargo/registry/src/index.crates.io-6f17d22bba15001f/pkg-config-0.3.27/src/lib.rs\",\"edition\":\"2015\",\"doc\":true,\"doctest\":true,\"test\":true},\"profile\":{\"opt_level\":\"0\",\"debuginfo\":null,\"debug_assertions\":true,\"overflow_checks\":true,\"test\":false},\"features\":[],\"filenames\":[\"/tmp/.tmpCUQ1hT/target/debug/deps/libpkg_config-8bb358591c092d46.rlib\",\"/tmp/.tmpCUQ1hT/target/debug/deps/libpkg_config-8bb358591c092d46.rmeta\"],\"executable\":null,\"fresh\":true}\n{\"reason\":\"compiler-artifact\",\"package_id\":\"syn 1.0.109 (registry+https://github.com/rust-lang/crates.io-index)\",\"manifest_path\":\"/usr/local/cargo/registry/src/index.crates.io-6f17d22bba15001f/syn-1.0.109/Cargo.toml\",\"target\":{\"kind\":[\"custom-build\"],\"crate_types\":[\"bin\"],\"name\":\"build-script-build\",\"src_path\":\"/usr/local/cargo/registry/src/index.crates.io-6f17d22bba15001f/syn-1.0.109/build.rs\",\"edition\":\"2018\",\"doc\":false,\"doctest\":false,\"test\":false},\"profile\":{\"opt_level\":\"0\",\"debuginfo\":null,\"debug_assertions\":true,\"overflow_checks\":true,\"test\":false},\"features\":[\"clone-impls\",\"default\",\"derive\",\"extra-traits\",\"full\",\"parsing\",\"printing\",\"proc-macro\",\"quote\",\"visit-mut\"],\"filenames\":[\"/tmp/.tmpCUQ1hT/target/debug/build/syn-6f5b5f0c2d084806/build-script-build\"],\"executable\":null,\"fresh\":true}\n{\"reason\":\"compiler-artifact\",\"package_id\":\"zstd-sys 2.0.8+zstd.1.5.5 (registry+https://github.com/rust-lang/crates.io-index)\",\"manifest_path\":\"/usr/local/cargo/registry/src/index.crates.io-6f17d22bba15001f/zstd-sys-2.0.8+zstd.1.5.5/Cargo.toml\",\"target\":{\"kind\":[\"custom-build\"],\"crate_types\":[\"bin\"],\"name\":\"build-script-build\",\"src_path\":\"/usr/local/cargo/registry/src/index.crates.io-6f17d22bba15001f/zstd-sys-2.0.8+zstd.1.5.5/build.rs\",\"edition\":\"2018\",\"doc\":false,\"doctest\":false,\"test\":false},\"profile\":{\"opt_level\":\"0\",\"debuginfo\":null,\"debug_assertions\":true,\"overflow_checks\":true,\"test\":false},\"features\":[\"legacy\",\"std\",\"zdict_builder\"],\"filenames\":[\"/tmp/.tmpCUQ1hT/target/debug/build/zstd-sys-f664f966686fb437/build-script-build\"],\"executable\":null,\"fresh\":true}\n{\"reason\":\"build-script-executed\",\"package_id\":\"futures-core 0.3.28 (registry+https://github.com/rust-lang/crates.io-index)\",\"linked_libs\":[],\"linked_paths\":[],\"cfgs\":[],\"env\":[],\"out_dir\":\"/tmp/.tmpCUQ1hT/target/aarch64-unknown-linux-gnu/debug/build/futures-core-9ea9900f84f6c2c1/out\"}\n{\"reason\":\"build-script-executed\",\"package_id\":\"syn 1.0.109 (registry+https://github.com/rust-lang/crates.io-index)\",\"linked_libs\":[],\"linked_paths\":[],\"cfgs\":[\"syn_disable_nightly_tests\"],\"env\":[],\"out_dir\":\"/tmp/.tmpCUQ1hT/target/debug/build/syn-11bbc0370138aaad/out\"}\n{\"reason\":\"build-script-executed\",\"package_id\":\"crossbeam-epoch 0.9.15 (registry+https://github.com/rust-lang/crates.io-index)\",\"linked_libs\":[],\"linked_paths\":[],\"cfgs\":[],\"env\":[],\"out_dir\":\"/tmp/.tmpCUQ1hT/target/aarch64-unknown-linux-gnu/debug/build/crossbeam-epoch-e8d3734bd2cdab14/out\"}\n{\"reason\":\"compiler-artifact\",\"package_id\":\"memoffset 0.9.0 (registry+https://github.com/rust-lang/crates.io-index)\",\"manifest_path\":\"/usr/local/cargo/registry/src/index.crates.io-6f17d22bba15001f/memoffset-0.9.0/Cargo.toml\",\"target\":{\"kind\":[\"lib\"],\"crate_types\":[\"lib\"],\"name\":\"memoffset\",\"src_path\":\"/usr/local/cargo/registry/src/index.crates.io-6f17d22bba15001f/memoffset-0.9.0/src/lib.rs\",\"edition\":\"2015\",\"doc\":true,\"doctest\":true,\"test\":true},\"profile\":{\"opt_level\":\"2\",\"debuginfo\":null,\"debug_assertions\":true,\"overflow_checks\":true,\"test\":false},\"features\":[\"default\"],\"filenames\":[\"/tmp/.tmpCUQ1hT/target/aarch64-unknown-linux-gnu/debug/deps/libmemoffset-b1e975e5bb179d09.rlib\",\"/tmp/.tmpCUQ1hT/target/aarch64-unknown-linux-gnu/debug/deps/libmemoffset-b1e975e5bb179d09.rmeta\"],\"executable\":null,\"fresh\":true}\n{\"reason\":\"compiler-artifact\",\"package_id\":\"ahash 0.8.3 (registry+https://github.com/rust-lang/crates.io-index)\",\"manifest_path\":\"/usr/local/cargo/registry/src/index.crates.io-6f17d22bba15001f/ahash-0.8.3/Cargo.toml\",\"target\":{\"kind\":[\"custom-build\"],\"crate_types\":[\"bin\"],\"name\":\"build-script-build\",\"src_path\":\"/usr/local/cargo/registry/src/index.crates.io-6f17d22bba15001f/ahash-0.8.3/./build.rs\",\"edition\":\"2018\",\"doc\":false,\"doctest\":false,\"test\":false},\"profile\":{\"opt_level\":\"0\",\"debuginfo\":null,\"debug_assertions\":true,\"overflow_checks\":true,\"test\":false},\"features\":[\"default\",\"getrandom\",\"runtime-rng\",\"std\"],\"filenames\":[\"/tmp/.tmpCUQ1hT/target/debug/build/ahash-9d9f43fbf78c2213/build-script-build\"],\"executable\":null,\"fresh\":true}\n{\"reason\":\"compiler-artifact\",\"package_id\":\"slab 0.4.8 (registry+https://github.com/rust-lang/crates.io-index)\",\"manifest_path\":\"/usr/local/cargo/registry/src/index.crates.io-6f17d22bba15001f/slab-0.4.8/Cargo.toml\",\"target\":{\"kind\":[\"custom-build\"],\"crate_types\":[\"bin\"],\"name\":\"build-script-build\",\"src_path\":\"/usr/local/cargo/registry/src/index.crates.io-6f17d22bba15001f/slab-0.4.8/build.rs\",\"edition\":\"2018\",\"doc\":false,\"doctest\":false,\"test\":false},\"profile\":{\"opt_level\":\"0\",\"debuginfo\":null,\"debug_assertions\":true,\"overflow_checks\":true,\"test\":false},\"features\":[\"default\",\"std\"],\"filenames\":[\"/tmp/.tmpCUQ1hT/target/debug/build/slab-61f5abc970a1ba34/build-script-build\"],\"executable\":null,\"fresh\":true}\n{\"reason\":\"compiler-artifact\",\"package_id\":\"futures-task 0.3.28 (registry+https://github.com/rust-lang/crates.io-index)\",\"manifest_path\":\"/usr/local/cargo/registry/src/index.crates.io-6f17d22bba15001f/futures-task-0.3.28/Cargo.toml\",\"target\":{\"kind\":[\"custom-build\"],\"crate_types\":[\"bin\"],\"name\":\"build-script-build\",\"src_path\":\"/usr/local/cargo/registry/src/index.crates.io-6f17d22bba15001f/futures-task-0.3.28/build.rs\",\"edition\":\"2018\",\"doc\":false,\"doctest\":false,\"test\":false},\"profile\":{\"opt_level\":\"0\",\"debuginfo\":null,\"debug_assertions\":true,\"overflow_checks\":true,\"test\":false},\"features\":[\"alloc\",\"std\"],\"filenames\":[\"/tmp/.tmpCUQ1hT/target/debug/build/futures-task-7034c9e94c99b71b/build-script-build\"],\"executable\":null,\"fresh\":true}\n{\"reason\":\"compiler-artifact\",\"package_id\":\"once_cell 1.18.0 (registry+https://github.com/rust-lang/crates.io-index)\",\"manifest_path\":\"/usr/local/cargo/registry/src/index.crates.io-6f17d22bba15001f/once_cell-1.18.0/Cargo.toml\",\"target\":{\"kind\":[\"lib\"],\"crate_types\":[\"lib\"],\"name\":\"once_cell\",\"src_path\":\"/usr/local/cargo/registry/src/index.crates.io-6f17d22bba15001f/once_cell-1.18.0/src/lib.rs\",\"edition\":\"2021\",\"doc\":true,\"doctest\":true,\"test\":true},\"profile\":{\"opt_level\":\"2\",\"debuginfo\":null,\"debug_assertions\":true,\"overflow_checks\":true,\"test\":false},\"features\":[\"alloc\",\"default\",\"race\",\"std\",\"unstable\"],\"filenames\":[\"/tmp/.tmpCUQ1hT/target/aarch64-unknown-linux-gnu/debug/deps/libonce_cell-1f3d8f13061616dd.rlib\",\"/tmp/.tmpCUQ1hT/target/aarch64-unknown-linux-gnu/debug/deps/libonce_cell-1f3d8f13061616dd.rmeta\"],\"executable\":null,\"fresh\":true}\n{\"reason\":\"compiler-artifact\",\"package_id\":\"semver 1.0.18 (registry+https://github.com/rust-lang/crates.io-index)\",\"manifest_path\":\"/usr/local/cargo/registry/src/index.crates.io-6f17d22bba15001f/semver-1.0.18/Cargo.toml\",\"target\":{\"kind\":[\"custom-build\"],\"crate_types\":[\"bin\"],\"name\":\"build-script-build\",\"src_path\":\"/usr/local/cargo/registry/src/index.crates.io-6f17d22bba15001f/semver-1.0.18/build.rs\",\"edition\":\"2018\",\"doc\":false,\"doctest\":false,\"test\":false},\"profile\":{\"opt_level\":\"0\",\"debuginfo\":null,\"debug_assertions\":true,\"overflow_checks\":true,\"test\":false},\"features\":[\"default\",\"std\"],\"filenames\":[\"/tmp/.tmpCUQ1hT/target/debug/build/semver-e064ddf09920f2c2/build-script-build\"],\"executable\":null,\"fresh\":true}\n{\"reason\":\"compiler-artifact\",\"package_id\":\"futures-channel 0.3.28 (registry+https://github.com/rust-lang/crates.io-index)\",\"manifest_path\":\"/usr/local/cargo/registry/src/index.crates.io-6f17d22bba15001f/futures-channel-0.3.28/Cargo.toml\",\"target\":{\"kind\":[\"custom-build\"],\"crate_types\":[\"bin\"],\"name\":\"build-script-build\",\"src_path\":\"/usr/local/cargo/registry/src/index.crates.io-6f17d22bba15001f/futures-channel-0.3.28/build.rs\",\"edition\":\"2018\",\"doc\":false,\"doctest\":false,\"test\":false},\"profile\":{\"opt_level\":\"0\",\"debuginfo\":null,\"debug_assertions\":true,\"overflow_checks\":true,\"test\":false},\"features\":[\"alloc\",\"futures-sink\",\"sink\",\"std\"],\"filenames\":[\"/tmp/.tmpCUQ1hT/target/debug/build/futures-channel-b3e579619a5ba6be/build-script-build\"],\"executable\":null,\"fresh\":true}\n{\"reason\":\"build-script-executed\",\"package_id\":\"semver 1.0.18 (registry+https://github.com/rust-lang/crates.io-index)\",\"linked_libs\":[],\"linked_paths\":[],\"cfgs\":[],\"env\":[],\"out_dir\":\"/tmp/.tmpCUQ1hT/target/debug/build/semver-19ba9625bc10ebf7/out\"}\n{\"reason\":\"build-script-executed\",\"package_id\":\"futures-channel 0.3.28 (registry+https://github.com/rust-lang/crates.io-index)\",\"linked_libs\":[],\"linked_paths\":[],\"cfgs\":[],\"env\":[],\"out_dir\":\"/tmp/.tmpCUQ1hT/target/aarch64-unknown-linux-gnu/debug/build/futures-channel-62576f0ba2acfe42/out\"}\n{\"reason\":\"build-script-executed\",\"package_id\":\"slab 0.4.8 (registry+https://github.com/rust-lang/crates.io-index)\",\"linked_libs\":[],\"linked_paths\":[],\"cfgs\":[],\"env\":[],\"out_dir\":\"/tmp/.tmpCUQ1hT/target/aarch64-unknown-linux-gnu/debug/build/slab-b9021581205c3b80/out\"}\n{\"reason\":\"build-script-executed\",\"package_id\":\"ahash 0.8.3 (registry+https://github.com/rust-lang/crates.io-index)\",\"linked_libs\":[],\"linked_paths\":[],\"cfgs\":[\"feature=\\\"folded_multiply\\\"\"],\"env\":[],\"out_dir\":\"/tmp/.tmpCUQ1hT/target/aarch64-unknown-linux-gnu/debug/build/ahash-210f152b15fb9474/out\"}\n{\"reason\":\"build-script-executed\",\"package_id\":\"futures-task 0.3.28 (registry+https://github.com/rust-lang/crates.io-index)\",\"linked_libs\":[],\"linked_paths\":[],\"cfgs\":[],\"env\":[],\"out_dir\":\"/tmp/.tmpCUQ1hT/target/aarch64-unknown-linux-gnu/debug/build/futures-task-4e129ea42e94013f/out\"}\n{\"reason\":\"compiler-artifact\",\"package_id\":\"crossbeam-epoch 0.9.15 (registry+https://github.com/rust-lang/crates.io-index)\",\"manifest_path\":\"/usr/local/cargo/registry/src/index.crates.io-6f17d22bba15001f/crossbeam-epoch-0.9.15/Cargo.toml\",\"target\":{\"kind\":[\"lib\"],\"crate_types\":[\"lib\"],\"name\":\"crossbeam-epoch\",\"src_path\":\"/usr/local/cargo/registry/src/index.crates.io-6f17d22bba15001f/crossbeam-epoch-0.9.15/src/lib.rs\",\"edition\":\"2018\",\"doc\":true,\"doctest\":true,\"test\":true},\"profile\":{\"opt_level\":\"2\",\"debuginfo\":null,\"debug_assertions\":true,\"overflow_checks\":true,\"test\":false},\"features\":[\"alloc\",\"std\"],\"filenames\":[\"/tmp/.tmpCUQ1hT/target/aarch64-unknown-linux-gnu/debug/deps/libcrossbeam_epoch-01c0a0319f591390.rlib\",\"/tmp/.tmpCUQ1hT/target/aarch64-unknown-linux-gnu/debug/deps/libcrossbeam_epoch-01c0a0319f591390.rmeta\"],\"executable\":null,\"fresh\":true}\n{\"reason\":\"compiler-artifact\",\"package_id\":\"syn 1.0.109 (registry+https://github.com/rust-lang/crates.io-index)\",\"manifest_path\":\"/usr/local/cargo/registry/src/index.crates.io-6f17d22bba15001f/syn-1.0.109/Cargo.toml\",\"target\":{\"kind\":[\"lib\"],\"crate_types\":[\"lib\"],\"name\":\"syn\",\"src_path\":\"/usr/local/cargo/registry/src/index.crates.io-6f17d22bba15001f/syn-1.0.109/src/lib.rs\",\"edition\":\"2018\",\"doc\":true,\"doctest\":true,\"test\":true},\"profile\":{\"opt_level\":\"0\",\"debuginfo\":null,\"debug_assertions\":true,\"overflow_checks\":true,\"test\":false},\"features\":[\"clone-impls\",\"default\",\"derive\",\"extra-traits\",\"full\",\"parsing\",\"printing\",\"proc-macro\",\"quote\",\"visit-mut\"],\"filenames\":[\"/tmp/.tmpCUQ1hT/target/debug/deps/libsyn-3a4328ef3428b100.rlib\",\"/tmp/.tmpCUQ1hT/target/debug/deps/libsyn-3a4328ef3428b100.rmeta\"],\"executable\":null,\"fresh\":true}\n{\"reason\":\"build-script-executed\",\"package_id\":\"zstd-sys 2.0.8+zstd.1.5.5 (registry+https://github.com/rust-lang/crates.io-index)\",\"linked_libs\":[\"static=zstd\"],\"linked_paths\":[\"native=/tmp/.tmpCUQ1hT/target/aarch64-unknown-linux-gnu/debug/build/zstd-sys-5afeac7105d31ce6/out\"],\"cfgs\":[],\"env\":[],\"out_dir\":\"/tmp/.tmpCUQ1hT/target/aarch64-unknown-linux-gnu/debug/build/zstd-sys-5afeac7105d31ce6/out\"}\n{\"reason\":\"compiler-artifact\",\"package_id\":\"futures-core 0.3.28 (registry+https://github.com/rust-lang/crates.io-index)\",\"manifest_path\":\"/usr/local/cargo/registry/src/index.crates.io-6f17d22bba15001f/futures-core-0.3.28/Cargo.toml\",\"target\":{\"kind\":[\"lib\"],\"crate_types\":[\"lib\"],\"name\":\"futures-core\",\"src_path\":\"/usr/local/cargo/registry/src/index.crates.io-6f17d22bba15001f/futures-core-0.3.28/src/lib.rs\",\"edition\":\"2018\",\"doc\":true,\"doctest\":true,\"test\":true},\"profile\":{\"opt_level\":\"2\",\"debuginfo\":null,\"debug_assertions\":true,\"overflow_checks\":true,\"test\":false},\"features\":[\"alloc\",\"std\"],\"filenames\":[\"/tmp/.tmpCUQ1hT/target/aarch64-unknown-linux-gnu/debug/deps/libfutures_core-b7a14c523ce87e8f.rlib\",\"/tmp/.tmpCUQ1hT/target/aarch64-unknown-linux-gnu/debug/deps/libfutures_core-b7a14c523ce87e8f.rmeta\"],\"executable\":null,\"fresh\":true}\n{\"reason\":\"compiler-artifact\",\"package_id\":\"futures-util 0.3.28 (registry+https://github.com/rust-lang/crates.io-index)\",\"manifest_path\":\"/usr/local/cargo/registry/src/index.crates.io-6f17d22bba15001f/futures-util-0.3.28/Cargo.toml\",\"target\":{\"kind\":[\"custom-build\"],\"crate_types\":[\"bin\"],\"name\":\"build-script-build\",\"src_path\":\"/usr/local/cargo/registry/src/index.crates.io-6f17d22bba15001f/futures-util-0.3.28/build.rs\",\"edition\":\"2018\",\"doc\":false,\"doctest\":false,\"test\":false},\"profile\":{\"opt_level\":\"0\",\"debuginfo\":null,\"debug_assertions\":true,\"overflow_checks\":true,\"test\":false},\"features\":[\"alloc\",\"async-await\",\"async-await-macro\",\"channel\",\"futures-channel\",\"futures-io\",\"futures-macro\",\"futures-sink\",\"io\",\"memchr\",\"sink\",\"slab\",\"std\"],\"filenames\":[\"/tmp/.tmpCUQ1hT/target/debug/build/futures-util-371402012f9a081b/build-script-build\"],\"executable\":null,\"fresh\":true}\n{\"reason\":\"compiler-artifact\",\"package_id\":\"either 1.9.0 (registry+https://github.com/rust-lang/crates.io-index)\",\"manifest_path\":\"/usr/local/cargo/registry/src/index.crates.io-6f17d22bba15001f/either-1.9.0/Cargo.toml\",\"target\":{\"kind\":[\"lib\"],\"crate_types\":[\"lib\"],\"name\":\"either\",\"src_path\":\"/usr/local/cargo/registry/src/index.crates.io-6f17d22bba15001f/either-1.9.0/src/lib.rs\",\"edition\":\"2018\",\"doc\":true,\"doctest\":true,\"test\":true},\"profile\":{\"opt_level\":\"2\",\"debuginfo\":null,\"debug_assertions\":true,\"overflow_checks\":true,\"test\":false},\"features\":[\"default\",\"use_std\"],\"filenames\":[\"/tmp/.tmpCUQ1hT/target/aarch64-unknown-linux-gnu/debug/deps/libeither-44ca51474f613e07.rlib\",\"/tmp/.tmpCUQ1hT/target/aarch64-unknown-linux-gnu/debug/deps/libeither-44ca51474f613e07.rmeta\"],\"executable\":null,\"fresh\":true}\n{\"reason\":\"compiler-artifact\",\"package_id\":\"futures-sink 0.3.28 (registry+https://github.com/rust-lang/crates.io-index)\",\"manifest_path\":\"/usr/local/cargo/registry/src/index.crates.io-6f17d22bba15001f/futures-sink-0.3.28/Cargo.toml\",\"target\":{\"kind\":[\"lib\"],\"crate_types\":[\"lib\"],\"name\":\"futures-sink\",\"src_path\":\"/usr/local/cargo/registry/src/index.crates.io-6f17d22bba15001f/futures-sink-0.3.28/src/lib.rs\",\"edition\":\"2018\",\"doc\":true,\"doctest\":true,\"test\":true},\"profile\":{\"opt_level\":\"2\",\"debuginfo\":null,\"debug_assertions\":true,\"overflow_checks\":true,\"test\":false},\"features\":[\"alloc\",\"std\"],\"filenames\":[\"/tmp/.tmpCUQ1hT/target/aarch64-unknown-linux-gnu/debug/deps/libfutures_sink-88154dfe4ca862fa.rlib\",\"/tmp/.tmpCUQ1hT/target/aarch64-unknown-linux-gnu/debug/deps/libfutures_sink-88154dfe4ca862fa.rmeta\"],\"executable\":null,\"fresh\":true}\n{\"reason\":\"compiler-artifact\",\"package_id\":\"serde 1.0.179 (registry+https://github.com/rust-lang/crates.io-index)\",\"manifest_path\":\"/usr/local/cargo/registry/src/index.crates.io-6f17d22bba15001f/serde-1.0.179/Cargo.toml\",\"target\":{\"kind\":[\"custom-build\"],\"crate_types\":[\"bin\"],\"name\":\"build-script-build\",\"src_path\":\"/usr/local/cargo/registry/src/index.crates.io-6f17d22bba15001f/serde-1.0.179/build.rs\",\"edition\":\"2015\",\"doc\":false,\"doctest\":false,\"test\":false},\"profile\":{\"opt_level\":\"0\",\"debuginfo\":null,\"debug_assertions\":true,\"overflow_checks\":true,\"test\":false},\"features\":[\"default\",\"derive\",\"serde_derive\",\"std\"],\"filenames\":[\"/tmp/.tmpCUQ1hT/target/debug/build/serde-363ccc49d7bb025f/build-script-build\"],\"executable\":null,\"fresh\":true}\n{\"reason\":\"compiler-artifact\",\"package_id\":\"pin-project-lite 0.2.10 (registry+https://github.com/rust-lang/crates.io-index)\",\"manifest_path\":\"/usr/local/cargo/registry/src/index.crates.io-6f17d22bba15001f/pin-project-lite-0.2.10/Cargo.toml\",\"target\":{\"kind\":[\"lib\"],\"crate_types\":[\"lib\"],\"name\":\"pin-project-lite\",\"src_path\":\"/usr/local/cargo/registry/src/index.crates.io-6f17d22bba15001f/pin-project-lite-0.2.10/src/lib.rs\",\"edition\":\"2018\",\"doc\":true,\"doctest\":true,\"test\":true},\"profile\":{\"opt_level\":\"2\",\"debuginfo\":null,\"debug_assertions\":true,\"overflow_checks\":true,\"test\":false},\"features\":[],\"filenames\":[\"/tmp/.tmpCUQ1hT/target/aarch64-unknown-linux-gnu/debug/deps/libpin_project_lite-cec6baf50a6c6925.rlib\",\"/tmp/.tmpCUQ1hT/target/aarch64-unknown-linux-gnu/debug/deps/libpin_project_lite-cec6baf50a6c6925.rmeta\"],\"executable\":null,\"fresh\":true}\n{\"reason\":\"compiler-artifact\",\"package_id\":\"rayon-core 1.11.0 (registry+https://github.com/rust-lang/crates.io-index)\",\"manifest_path\":\"/usr/local/cargo/registry/src/index.crates.io-6f17d22bba15001f/rayon-core-1.11.0/Cargo.toml\",\"target\":{\"kind\":[\"custom-build\"],\"crate_types\":[\"bin\"],\"name\":\"build-script-build\",\"src_path\":\"/usr/local/cargo/registry/src/index.crates.io-6f17d22bba15001f/rayon-core-1.11.0/build.rs\",\"edition\":\"2021\",\"doc\":false,\"doctest\":false,\"test\":false},\"profile\":{\"opt_level\":\"0\",\"debuginfo\":null,\"debug_assertions\":true,\"overflow_checks\":true,\"test\":false},\"features\":[],\"filenames\":[\"/tmp/.tmpCUQ1hT/target/debug/build/rayon-core-1a47e6e87e6b4305/build-script-build\"],\"executable\":null,\"fresh\":true}\n{\"reason\":\"build-script-executed\",\"package_id\":\"serde 1.0.179 (registry+https://github.com/rust-lang/crates.io-index)\",\"linked_libs\":[],\"linked_paths\":[],\"cfgs\":[],\"env\":[],\"out_dir\":\"/tmp/.tmpCUQ1hT/target/aarch64-unknown-linux-gnu/debug/build/serde-a8981076eb596758/out\"}\n{\"reason\":\"build-script-executed\",\"package_id\":\"rayon-core 1.11.0 (registry+https://github.com/rust-lang/crates.io-index)\",\"linked_libs\":[],\"linked_paths\":[],\"cfgs\":[],\"env\":[],\"out_dir\":\"/tmp/.tmpCUQ1hT/target/aarch64-unknown-linux-gnu/debug/build/rayon-core-332fd04cc6536aa8/out\"}\n{\"reason\":\"build-script-executed\",\"package_id\":\"futures-util 0.3.28 (registry+https://github.com/rust-lang/crates.io-index)\",\"linked_libs\":[],\"linked_paths\":[],\"cfgs\":[],\"env\":[],\"out_dir\":\"/tmp/.tmpCUQ1hT/target/aarch64-unknown-linux-gnu/debug/build/futures-util-77f4bca0b63a36c0/out\"}\n{\"reason\":\"compiler-artifact\",\"package_id\":\"futures-channel 0.3.28 (registry+https://github.com/rust-lang/crates.io-index)\",\"manifest_path\":\"/usr/local/cargo/registry/src/index.crates.io-6f17d22bba15001f/futures-channel-0.3.28/Cargo.toml\",\"target\":{\"kind\":[\"lib\"],\"crate_types\":[\"lib\"],\"name\":\"futures-channel\",\"src_path\":\"/usr/local/cargo/registry/src/index.crates.io-6f17d22bba15001f/futures-channel-0.3.28/src/lib.rs\",\"edition\":\"2018\",\"doc\":true,\"doctest\":true,\"test\":true},\"profile\":{\"opt_level\":\"2\",\"debuginfo\":null,\"debug_assertions\":true,\"overflow_checks\":true,\"test\":false},\"features\":[\"alloc\",\"futures-sink\",\"sink\",\"std\"],\"filenames\":[\"/tmp/.tmpCUQ1hT/target/aarch64-unknown-linux-gnu/debug/deps/libfutures_channel-a5df543fe669982f.rlib\",\"/tmp/.tmpCUQ1hT/target/aarch64-unknown-linux-gnu/debug/deps/libfutures_channel-a5df543fe669982f.rmeta\"],\"executable\":null,\"fresh\":true}\n{\"reason\":\"compiler-artifact\",\"package_id\":\"futures-task 0.3.28 (registry+https://github.com/rust-lang/crates.io-index)\",\"manifest_path\":\"/usr/local/cargo/registry/src/index.crates.io-6f17d22bba15001f/futures-task-0.3.28/Cargo.toml\",\"target\":{\"kind\":[\"lib\"],\"crate_types\":[\"lib\"],\"name\":\"futures-task\",\"src_path\":\"/usr/local/cargo/registry/src/index.crates.io-6f17d22bba15001f/futures-task-0.3.28/src/lib.rs\",\"edition\":\"2018\",\"doc\":true,\"doctest\":true,\"test\":true},\"profile\":{\"opt_level\":\"2\",\"debuginfo\":null,\"debug_assertions\":true,\"overflow_checks\":true,\"test\":false},\"features\":[\"alloc\",\"std\"],\"filenames\":[\"/tmp/.tmpCUQ1hT/target/aarch64-unknown-linux-gnu/debug/deps/libfutures_task-1997b6ace1eb3e9c.rlib\",\"/tmp/.tmpCUQ1hT/target/aarch64-unknown-linux-gnu/debug/deps/libfutures_task-1997b6ace1eb3e9c.rmeta\"],\"executable\":null,\"fresh\":true}\n{\"reason\":\"compiler-artifact\",\"package_id\":\"ahash 0.8.3 (registry+https://github.com/rust-lang/crates.io-index)\",\"manifest_path\":\"/usr/local/cargo/registry/src/index.crates.io-6f17d22bba15001f/ahash-0.8.3/Cargo.toml\",\"target\":{\"kind\":[\"lib\"],\"crate_types\":[\"lib\"],\"name\":\"ahash\",\"src_path\":\"/usr/local/cargo/registry/src/index.crates.io-6f17d22bba15001f/ahash-0.8.3/src/lib.rs\",\"edition\":\"2018\",\"doc\":true,\"doctest\":true,\"test\":true},\"profile\":{\"opt_level\":\"2\",\"debuginfo\":null,\"debug_assertions\":true,\"overflow_checks\":true,\"test\":false},\"features\":[\"default\",\"getrandom\",\"runtime-rng\",\"std\"],\"filenames\":[\"/tmp/.tmpCUQ1hT/target/aarch64-unknown-linux-gnu/debug/deps/libahash-905308c309da85b1.rlib\",\"/tmp/.tmpCUQ1hT/target/aarch64-unknown-linux-gnu/debug/deps/libahash-905308c309da85b1.rmeta\"],\"executable\":null,\"fresh\":true}\n{\"reason\":\"compiler-artifact\",\"package_id\":\"crossbeam-deque 0.8.3 (registry+https://github.com/rust-lang/crates.io-index)\",\"manifest_path\":\"/usr/local/cargo/registry/src/index.crates.io-6f17d22bba15001f/crossbeam-deque-0.8.3/Cargo.toml\",\"target\":{\"kind\":[\"lib\"],\"crate_types\":[\"lib\"],\"name\":\"crossbeam-deque\",\"src_path\":\"/usr/local/cargo/registry/src/index.crates.io-6f17d22bba15001f/crossbeam-deque-0.8.3/src/lib.rs\",\"edition\":\"2018\",\"doc\":true,\"doctest\":true,\"test\":true},\"profile\":{\"opt_level\":\"2\",\"debuginfo\":null,\"debug_assertions\":true,\"overflow_checks\":true,\"test\":false},\"features\":[\"crossbeam-epoch\",\"crossbeam-utils\",\"default\",\"std\"],\"filenames\":[\"/tmp/.tmpCUQ1hT/target/aarch64-unknown-linux-gnu/debug/deps/libcrossbeam_deque-ecfea82c7e33e45b.rlib\",\"/tmp/.tmpCUQ1hT/target/aarch64-unknown-linux-gnu/debug/deps/libcrossbeam_deque-ecfea82c7e33e45b.rmeta\"],\"executable\":null,\"fresh\":true}\n{\"reason\":\"compiler-artifact\",\"package_id\":\"slab 0.4.8 (registry+https://github.com/rust-lang/crates.io-index)\",\"manifest_path\":\"/usr/local/cargo/registry/src/index.crates.io-6f17d22bba15001f/slab-0.4.8/Cargo.toml\",\"target\":{\"kind\":[\"lib\"],\"crate_types\":[\"lib\"],\"name\":\"slab\",\"src_path\":\"/usr/local/cargo/registry/src/index.crates.io-6f17d22bba15001f/slab-0.4.8/src/lib.rs\",\"edition\":\"2018\",\"doc\":true,\"doctest\":true,\"test\":true},\"profile\":{\"opt_level\":\"2\",\"debuginfo\":null,\"debug_assertions\":true,\"overflow_checks\":true,\"test\":false},\"features\":[\"default\",\"std\"],\"filenames\":[\"/tmp/.tmpCUQ1hT/target/aarch64-unknown-linux-gnu/debug/deps/libslab-3bced67fb3716af3.rlib\",\"/tmp/.tmpCUQ1hT/target/aarch64-unknown-linux-gnu/debug/deps/libslab-3bced67fb3716af3.rmeta\"],\"executable\":null,\"fresh\":true}\n{\"reason\":\"compiler-artifact\",\"package_id\":\"semver 1.0.18 (registry+https://github.com/rust-lang/crates.io-index)\",\"manifest_path\":\"/usr/local/cargo/registry/src/index.crates.io-6f17d22bba15001f/semver-1.0.18/Cargo.toml\",\"target\":{\"kind\":[\"lib\"],\"crate_types\":[\"lib\"],\"name\":\"semver\",\"src_path\":\"/usr/local/cargo/registry/src/index.crates.io-6f17d22bba15001f/semver-1.0.18/src/lib.rs\",\"edition\":\"2018\",\"doc\":true,\"doctest\":true,\"test\":true},\"profile\":{\"opt_level\":\"0\",\"debuginfo\":null,\"debug_assertions\":true,\"overflow_checks\":true,\"test\":false},\"features\":[\"default\",\"std\"],\"filenames\":[\"/tmp/.tmpCUQ1hT/target/debug/deps/libsemver-907373c23dbf0ec9.rlib\",\"/tmp/.tmpCUQ1hT/target/debug/deps/libsemver-907373c23dbf0ec9.rmeta\"],\"executable\":null,\"fresh\":true}\n{\"reason\":\"build-script-executed\",\"package_id\":\"target-features 0.1.4 (registry+https://github.com/rust-lang/crates.io-index)\",\"linked_libs\":[],\"linked_paths\":[],\"cfgs\":[],\"env\":[],\"out_dir\":\"/tmp/.tmpCUQ1hT/target/debug/build/target-features-7044797dc17addcc/out\"}\n{\"reason\":\"compiler-artifact\",\"package_id\":\"lexical-parse-integer 0.8.6 (registry+https://github.com/rust-lang/crates.io-index)\",\"manifest_path\":\"/usr/local/cargo/registry/src/index.crates.io-6f17d22bba15001f/lexical-parse-integer-0.8.6/Cargo.toml\",\"target\":{\"kind\":[\"lib\"],\"crate_types\":[\"lib\"],\"name\":\"lexical-parse-integer\",\"src_path\":\"/usr/local/cargo/registry/src/index.crates.io-6f17d22bba15001f/lexical-parse-integer-0.8.6/src/lib.rs\",\"edition\":\"2018\",\"doc\":true,\"doctest\":true,\"test\":true},\"profile\":{\"opt_level\":\"2\",\"debuginfo\":null,\"debug_assertions\":true,\"overflow_checks\":true,\"test\":false},\"features\":[\"std\"],\"filenames\":[\"/tmp/.tmpCUQ1hT/target/aarch64-unknown-linux-gnu/debug/deps/liblexical_parse_integer-16276755549ba3ea.rlib\",\"/tmp/.tmpCUQ1hT/target/aarch64-unknown-linux-gnu/debug/deps/liblexical_parse_integer-16276755549ba3ea.rmeta\"],\"executable\":null,\"fresh\":true}\n{\"reason\":\"compiler-artifact\",\"package_id\":\"lexical-write-integer 0.8.5 (registry+https://github.com/rust-lang/crates.io-index)\",\"manifest_path\":\"/usr/local/cargo/registry/src/index.crates.io-6f17d22bba15001f/lexical-write-integer-0.8.5/Cargo.toml\",\"target\":{\"kind\":[\"lib\"],\"crate_types\":[\"lib\"],\"name\":\"lexical-write-integer\",\"src_path\":\"/usr/local/cargo/registry/src/index.crates.io-6f17d22bba15001f/lexical-write-integer-0.8.5/src/lib.rs\",\"edition\":\"2018\",\"doc\":true,\"doctest\":true,\"test\":true},\"profile\":{\"opt_level\":\"2\",\"debuginfo\":null,\"debug_assertions\":true,\"overflow_checks\":true,\"test\":false},\"features\":[\"std\"],\"filenames\":[\"/tmp/.tmpCUQ1hT/target/aarch64-unknown-linux-gnu/debug/deps/liblexical_write_integer-d9723220e9f460b8.rlib\",\"/tmp/.tmpCUQ1hT/target/aarch64-unknown-linux-gnu/debug/deps/liblexical_write_integer-d9723220e9f460b8.rmeta\"],\"executable\":null,\"fresh\":true}\n{\"reason\":\"compiler-artifact\",\"package_id\":\"crossbeam-channel 0.5.8 (registry+https://github.com/rust-lang/crates.io-index)\",\"manifest_path\":\"/usr/local/cargo/registry/src/index.crates.io-6f17d22bba15001f/crossbeam-channel-0.5.8/Cargo.toml\",\"target\":{\"kind\":[\"lib\"],\"crate_types\":[\"lib\"],\"name\":\"crossbeam-channel\",\"src_path\":\"/usr/local/cargo/registry/src/index.crates.io-6f17d22bba15001f/crossbeam-channel-0.5.8/src/lib.rs\",\"edition\":\"2018\",\"doc\":true,\"doctest\":true,\"test\":true},\"profile\":{\"opt_level\":\"2\",\"debuginfo\":null,\"debug_assertions\":true,\"overflow_checks\":true,\"test\":false},\"features\":[\"crossbeam-utils\",\"default\",\"std\"],\"filenames\":[\"/tmp/.tmpCUQ1hT/target/aarch64-unknown-linux-gnu/debug/deps/libcrossbeam_channel-a536c6d99f963609.rlib\",\"/tmp/.tmpCUQ1hT/target/aarch64-unknown-linux-gnu/debug/deps/libcrossbeam_channel-a536c6d99f963609.rmeta\"],\"executable\":null,\"fresh\":true}\n{\"reason\":\"compiler-artifact\",\"package_id\":\"lz4-sys 1.9.4 (registry+https://github.com/rust-lang/crates.io-index)\",\"manifest_path\":\"/usr/local/cargo/registry/src/index.crates.io-6f17d22bba15001f/lz4-sys-1.9.4/Cargo.toml\",\"target\":{\"kind\":[\"custom-build\"],\"crate_types\":[\"bin\"],\"name\":\"build-script-build\",\"src_path\":\"/usr/local/cargo/registry/src/index.crates.io-6f17d22bba15001f/lz4-sys-1.9.4/build.rs\",\"edition\":\"2015\",\"doc\":false,\"doctest\":false,\"test\":false},\"profile\":{\"opt_level\":\"0\",\"debuginfo\":null,\"debug_assertions\":true,\"overflow_checks\":true,\"test\":false},\"features\":[],\"filenames\":[\"/tmp/.tmpCUQ1hT/target/debug/build/lz4-sys-ddbbee7749e39b1b/build-script-build\"],\"executable\":null,\"fresh\":true}\n{\"reason\":\"compiler-artifact\",\"package_id\":\"serde_derive 1.0.179 (registry+https://github.com/rust-lang/crates.io-index)\",\"manifest_path\":\"/usr/local/cargo/registry/src/index.crates.io-6f17d22bba15001f/serde_derive-1.0.179/Cargo.toml\",\"target\":{\"kind\":[\"proc-macro\"],\"crate_types\":[\"proc-macro\"],\"name\":\"serde_derive\",\"src_path\":\"/usr/local/cargo/registry/src/index.crates.io-6f17d22bba15001f/serde_derive-1.0.179/src/lib.rs\",\"edition\":\"2015\",\"doc\":true,\"doctest\":true,\"test\":true},\"profile\":{\"opt_level\":\"0\",\"debuginfo\":null,\"debug_assertions\":true,\"overflow_checks\":true,\"test\":false},\"features\":[\"default\"],\"filenames\":[\"/tmp/.tmpCUQ1hT/target/debug/deps/libserde_derive-64228c220e0adf67.so\"],\"executable\":null,\"fresh\":true}\n{\"reason\":\"compiler-artifact\",\"package_id\":\"futures-macro 0.3.28 (registry+https://github.com/rust-lang/crates.io-index)\",\"manifest_path\":\"/usr/local/cargo/registry/src/index.crates.io-6f17d22bba15001f/futures-macro-0.3.28/Cargo.toml\",\"target\":{\"kind\":[\"proc-macro\"],\"crate_types\":[\"proc-macro\"],\"name\":\"futures-macro\",\"src_path\":\"/usr/local/cargo/registry/src/index.crates.io-6f17d22bba15001f/futures-macro-0.3.28/src/lib.rs\",\"edition\":\"2018\",\"doc\":true,\"doctest\":true,\"test\":true},\"profile\":{\"opt_level\":\"0\",\"debuginfo\":null,\"debug_assertions\":true,\"overflow_checks\":true,\"test\":false},\"features\":[],\"filenames\":[\"/tmp/.tmpCUQ1hT/target/debug/deps/libfutures_macro-21981af0139b4519.so\"],\"executable\":null,\"fresh\":true}\n{\"reason\":\"compiler-artifact\",\"package_id\":\"num_cpus 1.16.0 (registry+https://github.com/rust-lang/crates.io-index)\",\"manifest_path\":\"/usr/local/cargo/registry/src/index.crates.io-6f17d22bba15001f/num_cpus-1.16.0/Cargo.toml\",\"target\":{\"kind\":[\"lib\"],\"crate_types\":[\"lib\"],\"name\":\"num_cpus\",\"src_path\":\"/usr/local/cargo/registry/src/index.crates.io-6f17d22bba15001f/num_cpus-1.16.0/src/lib.rs\",\"edition\":\"2015\",\"doc\":true,\"doctest\":true,\"test\":true},\"profile\":{\"opt_level\":\"2\",\"debuginfo\":null,\"debug_assertions\":true,\"overflow_checks\":true,\"test\":false},\"features\":[],\"filenames\":[\"/tmp/.tmpCUQ1hT/target/aarch64-unknown-linux-gnu/debug/deps/libnum_cpus-cd6d7daa8975acca.rlib\",\"/tmp/.tmpCUQ1hT/target/aarch64-unknown-linux-gnu/debug/deps/libnum_cpus-cd6d7daa8975acca.rmeta\"],\"executable\":null,\"fresh\":true}\n{\"reason\":\"compiler-artifact\",\"package_id\":\"futures-io 0.3.28 (registry+https://github.com/rust-lang/crates.io-index)\",\"manifest_path\":\"/usr/local/cargo/registry/src/index.crates.io-6f17d22bba15001f/futures-io-0.3.28/Cargo.toml\",\"target\":{\"kind\":[\"lib\"],\"crate_types\":[\"lib\"],\"name\":\"futures-io\",\"src_path\":\"/usr/local/cargo/registry/src/index.crates.io-6f17d22bba15001f/futures-io-0.3.28/src/lib.rs\",\"edition\":\"2018\",\"doc\":true,\"doctest\":true,\"test\":true},\"profile\":{\"opt_level\":\"2\",\"debuginfo\":null,\"debug_assertions\":true,\"overflow_checks\":true,\"test\":false},\"features\":[\"std\"],\"filenames\":[\"/tmp/.tmpCUQ1hT/target/aarch64-unknown-linux-gnu/debug/deps/libfutures_io-e21ecbd948193e5d.rlib\",\"/tmp/.tmpCUQ1hT/target/aarch64-unknown-linux-gnu/debug/deps/libfutures_io-e21ecbd948193e5d.rmeta\"],\"executable\":null,\"fresh\":true}\n{\"reason\":\"compiler-artifact\",\"package_id\":\"zstd-safe 6.0.6 (registry+https://github.com/rust-lang/crates.io-index)\",\"manifest_path\":\"/usr/local/cargo/registry/src/index.crates.io-6f17d22bba15001f/zstd-safe-6.0.6/Cargo.toml\",\"target\":{\"kind\":[\"custom-build\"],\"crate_types\":[\"bin\"],\"name\":\"build-script-build\",\"src_path\":\"/usr/local/cargo/registry/src/index.crates.io-6f17d22bba15001f/zstd-safe-6.0.6/build.rs\",\"edition\":\"2018\",\"doc\":false,\"doctest\":false,\"test\":false},\"profile\":{\"opt_level\":\"0\",\"debuginfo\":null,\"debug_assertions\":true,\"overflow_checks\":true,\"test\":false},\"features\":[\"arrays\",\"legacy\",\"std\",\"zdict_builder\"],\"filenames\":[\"/tmp/.tmpCUQ1hT/target/debug/build/zstd-safe-a1b9101164420abd/build-script-build\"],\"executable\":null,\"fresh\":true}\n{\"reason\":\"compiler-artifact\",\"package_id\":\"pin-utils 0.1.0 (registry+https://github.com/rust-lang/crates.io-index)\",\"manifest_path\":\"/usr/local/cargo/registry/src/index.crates.io-6f17d22bba15001f/pin-utils-0.1.0/Cargo.toml\",\"target\":{\"kind\":[\"lib\"],\"crate_types\":[\"lib\"],\"name\":\"pin-utils\",\"src_path\":\"/usr/local/cargo/registry/src/index.crates.io-6f17d22bba15001f/pin-utils-0.1.0/src/lib.rs\",\"edition\":\"2018\",\"doc\":true,\"doctest\":true,\"test\":true},\"profile\":{\"opt_level\":\"2\",\"debuginfo\":null,\"debug_assertions\":true,\"overflow_checks\":true,\"test\":false},\"features\":[],\"filenames\":[\"/tmp/.tmpCUQ1hT/target/aarch64-unknown-linux-gnu/debug/deps/libpin_utils-f2eb816f10a763b8.rlib\",\"/tmp/.tmpCUQ1hT/target/aarch64-unknown-linux-gnu/debug/deps/libpin_utils-f2eb816f10a763b8.rmeta\"],\"executable\":null,\"fresh\":true}\n{\"reason\":\"compiler-artifact\",\"package_id\":\"rayon-core 1.11.0 (registry+https://github.com/rust-lang/crates.io-index)\",\"manifest_path\":\"/usr/local/cargo/registry/src/index.crates.io-6f17d22bba15001f/rayon-core-1.11.0/Cargo.toml\",\"target\":{\"kind\":[\"lib\"],\"crate_types\":[\"lib\"],\"name\":\"rayon-core\",\"src_path\":\"/usr/local/cargo/registry/src/index.crates.io-6f17d22bba15001f/rayon-core-1.11.0/src/lib.rs\",\"edition\":\"2021\",\"doc\":true,\"doctest\":true,\"test\":true},\"profile\":{\"opt_level\":\"2\",\"debuginfo\":null,\"debug_assertions\":true,\"overflow_checks\":true,\"test\":false},\"features\":[],\"filenames\":[\"/tmp/.tmpCUQ1hT/target/aarch64-unknown-linux-gnu/debug/deps/librayon_core-4b9edcf77fe545cf.rlib\",\"/tmp/.tmpCUQ1hT/target/aarch64-unknown-linux-gnu/debug/deps/librayon_core-4b9edcf77fe545cf.rmeta\"],\"executable\":null,\"fresh\":true}\n{\"reason\":\"compiler-artifact\",\"package_id\":\"futures-util 0.3.28 (registry+https://github.com/rust-lang/crates.io-index)\",\"manifest_path\":\"/usr/local/cargo/registry/src/index.crates.io-6f17d22bba15001f/futures-util-0.3.28/Cargo.toml\",\"target\":{\"kind\":[\"lib\"],\"crate_types\":[\"lib\"],\"name\":\"futures-util\",\"src_path\":\"/usr/local/cargo/registry/src/index.crates.io-6f17d22bba15001f/futures-util-0.3.28/src/lib.rs\",\"edition\":\"2018\",\"doc\":true,\"doctest\":true,\"test\":true},\"profile\":{\"opt_level\":\"2\",\"debuginfo\":null,\"debug_assertions\":true,\"overflow_checks\":true,\"test\":false},\"features\":[\"alloc\",\"async-await\",\"async-await-macro\",\"channel\",\"futures-channel\",\"futures-io\",\"futures-macro\",\"futures-sink\",\"io\",\"memchr\",\"sink\",\"slab\",\"std\"],\"filenames\":[\"/tmp/.tmpCUQ1hT/target/aarch64-unknown-linux-gnu/debug/deps/libfutures_util-74eaae292098659c.rlib\",\"/tmp/.tmpCUQ1hT/target/aarch64-unknown-linux-gnu/debug/deps/libfutures_util-74eaae292098659c.rmeta\"],\"executable\":null,\"fresh\":true}\n{\"reason\":\"build-script-executed\",\"package_id\":\"zstd-safe 6.0.6 (registry+https://github.com/rust-lang/crates.io-index)\",\"linked_libs\":[],\"linked_paths\":[],\"cfgs\":[],\"env\":[],\"out_dir\":\"/tmp/.tmpCUQ1hT/target/aarch64-unknown-linux-gnu/debug/build/zstd-safe-a045781c19c28db8/out\"}\n{\"reason\":\"build-script-executed\",\"package_id\":\"lz4-sys 1.9.4 (registry+https://github.com/rust-lang/crates.io-index)\",\"linked_libs\":[\"static=lz4\"],\"linked_paths\":[\"native=/tmp/.tmpCUQ1hT/target/aarch64-unknown-linux-gnu/debug/build/lz4-sys-d9eeb4f26f79cc59/out\"],\"cfgs\":[],\"env\":[],\"out_dir\":\"/tmp/.tmpCUQ1hT/target/aarch64-unknown-linux-gnu/debug/build/lz4-sys-d9eeb4f26f79cc59/out\"}\n{\"reason\":\"compiler-artifact\",\"package_id\":\"serde 1.0.179 (registry+https://github.com/rust-lang/crates.io-index)\",\"manifest_path\":\"/usr/local/cargo/registry/src/index.crates.io-6f17d22bba15001f/serde-1.0.179/Cargo.toml\",\"target\":{\"kind\":[\"lib\"],\"crate_types\":[\"lib\"],\"name\":\"serde\",\"src_path\":\"/usr/local/cargo/registry/src/index.crates.io-6f17d22bba15001f/serde-1.0.179/src/lib.rs\",\"edition\":\"2015\",\"doc\":true,\"doctest\":true,\"test\":true},\"profile\":{\"opt_level\":\"2\",\"debuginfo\":null,\"debug_assertions\":true,\"overflow_checks\":true,\"test\":false},\"features\":[\"default\",\"derive\",\"serde_derive\",\"std\"],\"filenames\":[\"/tmp/.tmpCUQ1hT/target/aarch64-unknown-linux-gnu/debug/deps/libserde-9f44df40a22feda5.rlib\",\"/tmp/.tmpCUQ1hT/target/aarch64-unknown-linux-gnu/debug/deps/libserde-9f44df40a22feda5.rmeta\"],\"executable\":null,\"fresh\":true}\n{\"reason\":\"compiler-artifact\",\"package_id\":\"target-features 0.1.4 (registry+https://github.com/rust-lang/crates.io-index)\",\"manifest_path\":\"/usr/local/cargo/registry/src/index.crates.io-6f17d22bba15001f/target-features-0.1.4/Cargo.toml\",\"target\":{\"kind\":[\"lib\"],\"crate_types\":[\"lib\"],\"name\":\"target-features\",\"src_path\":\"/usr/local/cargo/registry/src/index.crates.io-6f17d22bba15001f/target-features-0.1.4/src/lib.rs\",\"edition\":\"2021\",\"doc\":true,\"doctest\":true,\"test\":true},\"profile\":{\"opt_level\":\"0\",\"debuginfo\":null,\"debug_assertions\":true,\"overflow_checks\":true,\"test\":false},\"features\":[],\"filenames\":[\"/tmp/.tmpCUQ1hT/target/debug/deps/libtarget_features-daf63ce54916bb9e.rlib\",\"/tmp/.tmpCUQ1hT/target/debug/deps/libtarget_features-daf63ce54916bb9e.rmeta\"],\"executable\":null,\"fresh\":true}\n{\"reason\":\"compiler-artifact\",\"package_id\":\"lexical-parse-float 0.8.5 (registry+https://github.com/rust-lang/crates.io-index)\",\"manifest_path\":\"/usr/local/cargo/registry/src/index.crates.io-6f17d22bba15001f/lexical-parse-float-0.8.5/Cargo.toml\",\"target\":{\"kind\":[\"lib\"],\"crate_types\":[\"lib\"],\"name\":\"lexical-parse-float\",\"src_path\":\"/usr/local/cargo/registry/src/index.crates.io-6f17d22bba15001f/lexical-parse-float-0.8.5/src/lib.rs\",\"edition\":\"2018\",\"doc\":true,\"doctest\":true,\"test\":true},\"profile\":{\"opt_level\":\"2\",\"debuginfo\":null,\"debug_assertions\":true,\"overflow_checks\":true,\"test\":false},\"features\":[\"std\"],\"filenames\":[\"/tmp/.tmpCUQ1hT/target/aarch64-unknown-linux-gnu/debug/deps/liblexical_parse_float-1ab799694f6ddc8d.rlib\",\"/tmp/.tmpCUQ1hT/target/aarch64-unknown-linux-gnu/debug/deps/liblexical_parse_float-1ab799694f6ddc8d.rmeta\"],\"executable\":null,\"fresh\":true}\n{\"reason\":\"compiler-artifact\",\"package_id\":\"lexical-write-float 0.8.5 (registry+https://github.com/rust-lang/crates.io-index)\",\"manifest_path\":\"/usr/local/cargo/registry/src/index.crates.io-6f17d22bba15001f/lexical-write-float-0.8.5/Cargo.toml\",\"target\":{\"kind\":[\"lib\"],\"crate_types\":[\"lib\"],\"name\":\"lexical-write-float\",\"src_path\":\"/usr/local/cargo/registry/src/index.crates.io-6f17d22bba15001f/lexical-write-float-0.8.5/src/lib.rs\",\"edition\":\"2018\",\"doc\":true,\"doctest\":true,\"test\":true},\"profile\":{\"opt_level\":\"2\",\"debuginfo\":null,\"debug_assertions\":true,\"overflow_checks\":true,\"test\":false},\"features\":[\"std\"],\"filenames\":[\"/tmp/.tmpCUQ1hT/target/aarch64-unknown-linux-gnu/debug/deps/liblexical_write_float-1b3cde74b21e1177.rlib\",\"/tmp/.tmpCUQ1hT/target/aarch64-unknown-linux-gnu/debug/deps/liblexical_write_float-1b3cde74b21e1177.rmeta\"],\"executable\":null,\"fresh\":true}\n{\"reason\":\"compiler-artifact\",\"package_id\":\"rustc_version 0.4.0 (registry+https://github.com/rust-lang/crates.io-index)\",\"manifest_path\":\"/usr/local/cargo/registry/src/index.crates.io-6f17d22bba15001f/rustc_version-0.4.0/Cargo.toml\",\"target\":{\"kind\":[\"lib\"],\"crate_types\":[\"lib\"],\"name\":\"rustc_version\",\"src_path\":\"/usr/local/cargo/registry/src/index.crates.io-6f17d22bba15001f/rustc_version-0.4.0/src/lib.rs\",\"edition\":\"2018\",\"doc\":true,\"doctest\":true,\"test\":true},\"profile\":{\"opt_level\":\"0\",\"debuginfo\":null,\"debug_assertions\":true,\"overflow_checks\":true,\"test\":false},\"features\":[],\"filenames\":[\"/tmp/.tmpCUQ1hT/target/debug/deps/librustc_version-bc0d26f6be03c73b.rlib\",\"/tmp/.tmpCUQ1hT/target/debug/deps/librustc_version-bc0d26f6be03c73b.rmeta\"],\"executable\":null,\"fresh\":true}\n{\"reason\":\"compiler-artifact\",\"package_id\":\"zstd-sys 2.0.8+zstd.1.5.5 (registry+https://github.com/rust-lang/crates.io-index)\",\"manifest_path\":\"/usr/local/cargo/registry/src/index.crates.io-6f17d22bba15001f/zstd-sys-2.0.8+zstd.1.5.5/Cargo.toml\",\"target\":{\"kind\":[\"lib\"],\"crate_types\":[\"lib\"],\"name\":\"zstd-sys\",\"src_path\":\"/usr/local/cargo/registry/src/index.crates.io-6f17d22bba15001f/zstd-sys-2.0.8+zstd.1.5.5/src/lib.rs\",\"edition\":\"2018\",\"doc\":true,\"doctest\":false,\"test\":true},\"profile\":{\"opt_level\":\"2\",\"debuginfo\":null,\"debug_assertions\":true,\"overflow_checks\":true,\"test\":false},\"features\":[\"legacy\",\"std\",\"zdict_builder\"],\"filenames\":[\"/tmp/.tmpCUQ1hT/target/aarch64-unknown-linux-gnu/debug/deps/libzstd_sys-208fe992c89da60d.rlib\",\"/tmp/.tmpCUQ1hT/target/aarch64-unknown-linux-gnu/debug/deps/libzstd_sys-208fe992c89da60d.rmeta\"],\"executable\":null,\"fresh\":true}\n{\"reason\":\"build-script-executed\",\"package_id\":\"target-features 0.1.4 (registry+https://github.com/rust-lang/crates.io-index)\",\"linked_libs\":[],\"linked_paths\":[],\"cfgs\":[],\"env\":[],\"out_dir\":\"/tmp/.tmpCUQ1hT/target/aarch64-unknown-linux-gnu/debug/build/target-features-fc8e3c16fab1edc2/out\"}\n{\"reason\":\"compiler-artifact\",\"package_id\":\"aho-corasick 1.0.2 (registry+https://github.com/rust-lang/crates.io-index)\",\"manifest_path\":\"/usr/local/cargo/registry/src/index.crates.io-6f17d22bba15001f/aho-corasick-1.0.2/Cargo.toml\",\"target\":{\"kind\":[\"lib\"],\"crate_types\":[\"lib\"],\"name\":\"aho_corasick\",\"src_path\":\"/usr/local/cargo/registry/src/index.crates.io-6f17d22bba15001f/aho-corasick-1.0.2/src/lib.rs\",\"edition\":\"2021\",\"doc\":true,\"doctest\":true,\"test\":true},\"profile\":{\"opt_level\":\"2\",\"debuginfo\":null,\"debug_assertions\":true,\"overflow_checks\":true,\"test\":false},\"features\":[\"default\",\"perf-literal\",\"std\"],\"filenames\":[\"/tmp/.tmpCUQ1hT/target/aarch64-unknown-linux-gnu/debug/deps/libaho_corasick-a5fc8a419f1211c7.rlib\",\"/tmp/.tmpCUQ1hT/target/aarch64-unknown-linux-gnu/debug/deps/libaho_corasick-a5fc8a419f1211c7.rmeta\"],\"executable\":null,\"fresh\":true}\n{\"reason\":\"compiler-artifact\",\"package_id\":\"iana-time-zone 0.1.57 (registry+https://github.com/rust-lang/crates.io-index)\",\"manifest_path\":\"/usr/local/cargo/registry/src/index.crates.io-6f17d22bba15001f/iana-time-zone-0.1.57/Cargo.toml\",\"target\":{\"kind\":[\"lib\"],\"crate_types\":[\"lib\"],\"name\":\"iana-time-zone\",\"src_path\":\"/usr/local/cargo/registry/src/index.crates.io-6f17d22bba15001f/iana-time-zone-0.1.57/src/lib.rs\",\"edition\":\"2018\",\"doc\":true,\"doctest\":true,\"test\":true},\"profile\":{\"opt_level\":\"2\",\"debuginfo\":null,\"debug_assertions\":true,\"overflow_checks\":true,\"test\":false},\"features\":[\"fallback\"],\"filenames\":[\"/tmp/.tmpCUQ1hT/target/aarch64-unknown-linux-gnu/debug/deps/libiana_time_zone-9a1f5b065e39c5bd.rlib\",\"/tmp/.tmpCUQ1hT/target/aarch64-unknown-linux-gnu/debug/deps/libiana_time_zone-9a1f5b065e39c5bd.rmeta\"],\"executable\":null,\"fresh\":true}\n{\"reason\":\"compiler-artifact\",\"package_id\":\"array-init-cursor 0.2.0 (registry+https://github.com/rust-lang/crates.io-index)\",\"manifest_path\":\"/usr/local/cargo/registry/src/index.crates.io-6f17d22bba15001f/array-init-cursor-0.2.0/Cargo.toml\",\"target\":{\"kind\":[\"lib\"],\"crate_types\":[\"lib\"],\"name\":\"array-init-cursor\",\"src_path\":\"/usr/local/cargo/registry/src/index.crates.io-6f17d22bba15001f/array-init-cursor-0.2.0/src/lib.rs\",\"edition\":\"2021\",\"doc\":true,\"doctest\":true,\"test\":true},\"profile\":{\"opt_level\":\"2\",\"debuginfo\":null,\"debug_assertions\":true,\"overflow_checks\":true,\"test\":false},\"features\":[],\"filenames\":[\"/tmp/.tmpCUQ1hT/target/aarch64-unknown-linux-gnu/debug/deps/libarray_init_cursor-d7e779b6e6409996.rlib\",\"/tmp/.tmpCUQ1hT/target/aarch64-unknown-linux-gnu/debug/deps/libarray_init_cursor-d7e779b6e6409996.rmeta\"],\"executable\":null,\"fresh\":true}\n{\"reason\":\"compiler-artifact\",\"package_id\":\"regex-syntax 0.7.4 (registry+https://github.com/rust-lang/crates.io-index)\",\"manifest_path\":\"/usr/local/cargo/registry/src/index.crates.io-6f17d22bba15001f/regex-syntax-0.7.4/Cargo.toml\",\"target\":{\"kind\":[\"lib\"],\"crate_types\":[\"lib\"],\"name\":\"regex-syntax\",\"src_path\":\"/usr/local/cargo/registry/src/index.crates.io-6f17d22bba15001f/regex-syntax-0.7.4/src/lib.rs\",\"edition\":\"2021\",\"doc\":true,\"doctest\":true,\"test\":true},\"profile\":{\"opt_level\":\"2\",\"debuginfo\":null,\"debug_assertions\":true,\"overflow_checks\":true,\"test\":false},\"features\":[\"default\",\"std\",\"unicode\",\"unicode-age\",\"unicode-bool\",\"unicode-case\",\"unicode-gencat\",\"unicode-perl\",\"unicode-script\",\"unicode-segment\"],\"filenames\":[\"/tmp/.tmpCUQ1hT/target/aarch64-unknown-linux-gnu/debug/deps/libregex_syntax-d20222b8ae17e61b.rlib\",\"/tmp/.tmpCUQ1hT/target/aarch64-unknown-linux-gnu/debug/deps/libregex_syntax-d20222b8ae17e61b.rmeta\"],\"executable\":null,\"fresh\":true}\n{\"reason\":\"compiler-artifact\",\"package_id\":\"log 0.4.19 (registry+https://github.com/rust-lang/crates.io-index)\",\"manifest_path\":\"/usr/local/cargo/registry/src/index.crates.io-6f17d22bba15001f/log-0.4.19/Cargo.toml\",\"target\":{\"kind\":[\"lib\"],\"crate_types\":[\"lib\"],\"name\":\"log\",\"src_path\":\"/usr/local/cargo/registry/src/index.crates.io-6f17d22bba15001f/log-0.4.19/src/lib.rs\",\"edition\":\"2015\",\"doc\":true,\"doctest\":true,\"test\":true},\"profile\":{\"opt_level\":\"2\",\"debuginfo\":null,\"debug_assertions\":true,\"overflow_checks\":true,\"test\":false},\"features\":[],\"filenames\":[\"/tmp/.tmpCUQ1hT/target/aarch64-unknown-linux-gnu/debug/deps/liblog-ca0a0b30fdbe6804.rlib\",\"/tmp/.tmpCUQ1hT/target/aarch64-unknown-linux-gnu/debug/deps/liblog-ca0a0b30fdbe6804.rmeta\"],\"executable\":null,\"fresh\":true}\n{\"reason\":\"compiler-artifact\",\"package_id\":\"planus 0.3.1 (registry+https://github.com/rust-lang/crates.io-index)\",\"manifest_path\":\"/usr/local/cargo/registry/src/index.crates.io-6f17d22bba15001f/planus-0.3.1/Cargo.toml\",\"target\":{\"kind\":[\"lib\"],\"crate_types\":[\"lib\"],\"name\":\"planus\",\"src_path\":\"/usr/local/cargo/registry/src/index.crates.io-6f17d22bba15001f/planus-0.3.1/src/lib.rs\",\"edition\":\"2021\",\"doc\":true,\"doctest\":true,\"test\":true},\"profile\":{\"opt_level\":\"2\",\"debuginfo\":null,\"debug_assertions\":true,\"overflow_checks\":true,\"test\":false},\"features\":[\"default\",\"std\"],\"filenames\":[\"/tmp/.tmpCUQ1hT/target/aarch64-unknown-linux-gnu/debug/deps/libplanus-42aed8a0aa994459.rlib\",\"/tmp/.tmpCUQ1hT/target/aarch64-unknown-linux-gnu/debug/deps/libplanus-42aed8a0aa994459.rmeta\"],\"executable\":null,\"fresh\":true}\n{\"reason\":\"compiler-artifact\",\"package_id\":\"regex-automata 0.3.4 (registry+https://github.com/rust-lang/crates.io-index)\",\"manifest_path\":\"/usr/local/cargo/registry/src/index.crates.io-6f17d22bba15001f/regex-automata-0.3.4/Cargo.toml\",\"target\":{\"kind\":[\"lib\"],\"crate_types\":[\"lib\"],\"name\":\"regex-automata\",\"src_path\":\"/usr/local/cargo/registry/src/index.crates.io-6f17d22bba15001f/regex-automata-0.3.4/src/lib.rs\",\"edition\":\"2021\",\"doc\":true,\"doctest\":true,\"test\":true},\"profile\":{\"opt_level\":\"2\",\"debuginfo\":null,\"debug_assertions\":true,\"overflow_checks\":true,\"test\":false},\"features\":[\"alloc\",\"dfa-onepass\",\"hybrid\",\"meta\",\"nfa-backtrack\",\"nfa-pikevm\",\"nfa-thompson\",\"perf-inline\",\"perf-literal\",\"perf-literal-multisubstring\",\"perf-literal-substring\",\"std\",\"syntax\",\"unicode\",\"unicode-age\",\"unicode-bool\",\"unicode-case\",\"unicode-gencat\",\"unicode-perl\",\"unicode-script\",\"unicode-segment\",\"unicode-word-boundary\"],\"filenames\":[\"/tmp/.tmpCUQ1hT/target/aarch64-unknown-linux-gnu/debug/deps/libregex_automata-349340124f24118d.rlib\",\"/tmp/.tmpCUQ1hT/target/aarch64-unknown-linux-gnu/debug/deps/libregex_automata-349340124f24118d.rmeta\"],\"executable\":null,\"fresh\":true}\n{\"reason\":\"compiler-artifact\",\"package_id\":\"target-features 0.1.4 (registry+https://github.com/rust-lang/crates.io-index)\",\"manifest_path\":\"/usr/local/cargo/registry/src/index.crates.io-6f17d22bba15001f/target-features-0.1.4/Cargo.toml\",\"target\":{\"kind\":[\"lib\"],\"crate_types\":[\"lib\"],\"name\":\"target-features\",\"src_path\":\"/usr/local/cargo/registry/src/index.crates.io-6f17d22bba15001f/target-features-0.1.4/src/lib.rs\",\"edition\":\"2021\",\"doc\":true,\"doctest\":true,\"test\":true},\"profile\":{\"opt_level\":\"2\",\"debuginfo\":null,\"debug_assertions\":true,\"overflow_checks\":true,\"test\":false},\"features\":[],\"filenames\":[\"/tmp/.tmpCUQ1hT/target/aarch64-unknown-linux-gnu/debug/deps/libtarget_features-a415f759f3c78df6.rlib\",\"/tmp/.tmpCUQ1hT/target/aarch64-unknown-linux-gnu/debug/deps/libtarget_features-a415f759f3c78df6.rmeta\"],\"executable\":null,\"fresh\":true}\n{\"reason\":\"compiler-artifact\",\"package_id\":\"arrow2 0.17.3 (registry+https://github.com/rust-lang/crates.io-index)\",\"manifest_path\":\"/usr/local/cargo/registry/src/index.crates.io-6f17d22bba15001f/arrow2-0.17.3/Cargo.toml\",\"target\":{\"kind\":[\"custom-build\"],\"crate_types\":[\"bin\"],\"name\":\"build-script-build\",\"src_path\":\"/usr/local/cargo/registry/src/index.crates.io-6f17d22bba15001f/arrow2-0.17.3/build.rs\",\"edition\":\"2021\",\"doc\":false,\"doctest\":false,\"test\":false},\"profile\":{\"opt_level\":\"0\",\"debuginfo\":null,\"debug_assertions\":true,\"overflow_checks\":true,\"test\":false},\"features\":[\"arrow-format\",\"compute_aggregate\",\"compute_arithmetics\",\"compute_arithmetics_decimal\",\"compute_boolean\",\"compute_boolean_kleene\",\"compute_cast\",\"compute_comparison\",\"compute_concatenate\",\"compute_filter\",\"compute_if_then_else\",\"compute_like\",\"compute_substring\",\"compute_take\",\"compute_temporal\",\"futures\",\"io_ipc\",\"io_ipc_compression\",\"io_ipc_write_async\",\"lexical-core\",\"lz4\",\"multiversion\",\"regex\",\"regex-syntax\",\"strength_reduce\",\"zstd\"],\"filenames\":[\"/tmp/.tmpCUQ1hT/target/debug/build/arrow2-0fbdf4c3a40a4c6c/build-script-build\"],\"executable\":null,\"fresh\":true}\n{\"reason\":\"compiler-artifact\",\"package_id\":\"lexical-core 0.8.5 (registry+https://github.com/rust-lang/crates.io-index)\",\"manifest_path\":\"/usr/local/cargo/registry/src/index.crates.io-6f17d22bba15001f/lexical-core-0.8.5/Cargo.toml\",\"target\":{\"kind\":[\"lib\"],\"crate_types\":[\"lib\"],\"name\":\"lexical-core\",\"src_path\":\"/usr/local/cargo/registry/src/index.crates.io-6f17d22bba15001f/lexical-core-0.8.5/src/lib.rs\",\"edition\":\"2018\",\"doc\":true,\"doctest\":true,\"test\":true},\"profile\":{\"opt_level\":\"2\",\"debuginfo\":null,\"debug_assertions\":true,\"overflow_checks\":true,\"test\":false},\"features\":[\"default\",\"floats\",\"integers\",\"lexical-parse-float\",\"lexical-parse-integer\",\"lexical-write-float\",\"lexical-write-integer\",\"parse\",\"parse-floats\",\"parse-integers\",\"std\",\"write\",\"write-floats\",\"write-integers\"],\"filenames\":[\"/tmp/.tmpCUQ1hT/target/aarch64-unknown-linux-gnu/debug/deps/liblexical_core-e1316ce1c2b09722.rlib\",\"/tmp/.tmpCUQ1hT/target/aarch64-unknown-linux-gnu/debug/deps/liblexical_core-e1316ce1c2b09722.rmeta\"],\"executable\":null,\"fresh\":true}\n{\"reason\":\"compiler-artifact\",\"package_id\":\"zstd-safe 6.0.6 (registry+https://github.com/rust-lang/crates.io-index)\",\"manifest_path\":\"/usr/local/cargo/registry/src/index.crates.io-6f17d22bba15001f/zstd-safe-6.0.6/Cargo.toml\",\"target\":{\"kind\":[\"lib\"],\"crate_types\":[\"lib\"],\"name\":\"zstd-safe\",\"src_path\":\"/usr/local/cargo/registry/src/index.crates.io-6f17d22bba15001f/zstd-safe-6.0.6/src/lib.rs\",\"edition\":\"2018\",\"doc\":true,\"doctest\":true,\"test\":true},\"profile\":{\"opt_level\":\"2\",\"debuginfo\":null,\"debug_assertions\":true,\"overflow_checks\":true,\"test\":false},\"features\":[\"arrays\",\"legacy\",\"std\",\"zdict_builder\"],\"filenames\":[\"/tmp/.tmpCUQ1hT/target/aarch64-unknown-linux-gnu/debug/deps/libzstd_safe-272d8b84e6cfa347.rlib\",\"/tmp/.tmpCUQ1hT/target/aarch64-unknown-linux-gnu/debug/deps/libzstd_safe-272d8b84e6cfa347.rmeta\"],\"executable\":null,\"fresh\":true}\n{\"reason\":\"compiler-artifact\",\"package_id\":\"multiversion-macros 0.7.2 (registry+https://github.com/rust-lang/crates.io-index)\",\"manifest_path\":\"/usr/local/cargo/registry/src/index.crates.io-6f17d22bba15001f/multiversion-macros-0.7.2/Cargo.toml\",\"target\":{\"kind\":[\"proc-macro\"],\"crate_types\":[\"proc-macro\"],\"name\":\"multiversion-macros\",\"src_path\":\"/usr/local/cargo/registry/src/index.crates.io-6f17d22bba15001f/multiversion-macros-0.7.2/src/lib.rs\",\"edition\":\"2021\",\"doc\":true,\"doctest\":true,\"test\":true},\"profile\":{\"opt_level\":\"0\",\"debuginfo\":null,\"debug_assertions\":true,\"overflow_checks\":true,\"test\":false},\"features\":[\"std\"],\"filenames\":[\"/tmp/.tmpCUQ1hT/target/debug/deps/libmultiversion_macros-ed87b5c97f263278.so\"],\"executable\":null,\"fresh\":true}\n{\"reason\":\"compiler-artifact\",\"package_id\":\"lz4-sys 1.9.4 (registry+https://github.com/rust-lang/crates.io-index)\",\"manifest_path\":\"/usr/local/cargo/registry/src/index.crates.io-6f17d22bba15001f/lz4-sys-1.9.4/Cargo.toml\",\"target\":{\"kind\":[\"lib\"],\"crate_types\":[\"lib\"],\"name\":\"lz4-sys\",\"src_path\":\"/usr/local/cargo/registry/src/index.crates.io-6f17d22bba15001f/lz4-sys-1.9.4/src/lib.rs\",\"edition\":\"2015\",\"doc\":true,\"doctest\":true,\"test\":true},\"profile\":{\"opt_level\":\"2\",\"debuginfo\":null,\"debug_assertions\":true,\"overflow_checks\":true,\"test\":false},\"features\":[],\"filenames\":[\"/tmp/.tmpCUQ1hT/target/aarch64-unknown-linux-gnu/debug/deps/liblz4_sys-aa5ad1b70d6a7834.rlib\",\"/tmp/.tmpCUQ1hT/target/aarch64-unknown-linux-gnu/debug/deps/liblz4_sys-aa5ad1b70d6a7834.rmeta\"],\"executable\":null,\"fresh\":true}\n{\"reason\":\"compiler-artifact\",\"package_id\":\"futures-executor 0.3.28 (registry+https://github.com/rust-lang/crates.io-index)\",\"manifest_path\":\"/usr/local/cargo/registry/src/index.crates.io-6f17d22bba15001f/futures-executor-0.3.28/Cargo.toml\",\"target\":{\"kind\":[\"lib\"],\"crate_types\":[\"lib\"],\"name\":\"futures-executor\",\"src_path\":\"/usr/local/cargo/registry/src/index.crates.io-6f17d22bba15001f/futures-executor-0.3.28/src/lib.rs\",\"edition\":\"2018\",\"doc\":true,\"doctest\":true,\"test\":true},\"profile\":{\"opt_level\":\"2\",\"debuginfo\":null,\"debug_assertions\":true,\"overflow_checks\":true,\"test\":false},\"features\":[\"std\"],\"filenames\":[\"/tmp/.tmpCUQ1hT/target/aarch64-unknown-linux-gnu/debug/deps/libfutures_executor-edcf80a8d0858f05.rlib\",\"/tmp/.tmpCUQ1hT/target/aarch64-unknown-linux-gnu/debug/deps/libfutures_executor-edcf80a8d0858f05.rmeta\"],\"executable\":null,\"fresh\":true}\n{\"reason\":\"compiler-artifact\",\"package_id\":\"rayon 1.7.0 (registry+https://github.com/rust-lang/crates.io-index)\",\"manifest_path\":\"/usr/local/cargo/registry/src/index.crates.io-6f17d22bba15001f/rayon-1.7.0/Cargo.toml\",\"target\":{\"kind\":[\"lib\"],\"crate_types\":[\"lib\"],\"name\":\"rayon\",\"src_path\":\"/usr/local/cargo/registry/src/index.crates.io-6f17d22bba15001f/rayon-1.7.0/src/lib.rs\",\"edition\":\"2021\",\"doc\":true,\"doctest\":true,\"test\":true},\"profile\":{\"opt_level\":\"2\",\"debuginfo\":null,\"debug_assertions\":true,\"overflow_checks\":true,\"test\":false},\"features\":[],\"filenames\":[\"/tmp/.tmpCUQ1hT/target/aarch64-unknown-linux-gnu/debug/deps/librayon-c4b6d5744d733b7e.rlib\",\"/tmp/.tmpCUQ1hT/target/aarch64-unknown-linux-gnu/debug/deps/librayon-c4b6d5744d733b7e.rmeta\"],\"executable\":null,\"fresh\":true}\n{\"reason\":\"compiler-artifact\",\"package_id\":\"bytemuck_derive 1.4.1 (registry+https://github.com/rust-lang/crates.io-index)\",\"manifest_path\":\"/usr/local/cargo/registry/src/index.crates.io-6f17d22bba15001f/bytemuck_derive-1.4.1/Cargo.toml\",\"target\":{\"kind\":[\"proc-macro\"],\"crate_types\":[\"proc-macro\"],\"name\":\"bytemuck_derive\",\"src_path\":\"/usr/local/cargo/registry/src/index.crates.io-6f17d22bba15001f/bytemuck_derive-1.4.1/src/lib.rs\",\"edition\":\"2018\",\"doc\":true,\"doctest\":true,\"test\":true},\"profile\":{\"opt_level\":\"0\",\"debuginfo\":null,\"debug_assertions\":true,\"overflow_checks\":true,\"test\":false},\"features\":[],\"filenames\":[\"/tmp/.tmpCUQ1hT/target/debug/deps/libbytemuck_derive-ba11e9d533fffe0f.so\"],\"executable\":null,\"fresh\":true}\n{\"reason\":\"compiler-artifact\",\"package_id\":\"lock_api 0.4.10 (registry+https://github.com/rust-lang/crates.io-index)\",\"manifest_path\":\"/usr/local/cargo/registry/src/index.crates.io-6f17d22bba15001f/lock_api-0.4.10/Cargo.toml\",\"target\":{\"kind\":[\"custom-build\"],\"crate_types\":[\"bin\"],\"name\":\"build-script-build\",\"src_path\":\"/usr/local/cargo/registry/src/index.crates.io-6f17d22bba15001f/lock_api-0.4.10/build.rs\",\"edition\":\"2018\",\"doc\":false,\"doctest\":false,\"test\":false},\"profile\":{\"opt_level\":\"0\",\"debuginfo\":null,\"debug_assertions\":true,\"overflow_checks\":true,\"test\":false},\"features\":[\"atomic_usize\",\"default\"],\"filenames\":[\"/tmp/.tmpCUQ1hT/target/debug/build/lock_api-fd8f35141238e5cb/build-script-build\"],\"executable\":null,\"fresh\":true}\n{\"reason\":\"compiler-artifact\",\"package_id\":\"thiserror 1.0.44 (registry+https://github.com/rust-lang/crates.io-index)\",\"manifest_path\":\"/usr/local/cargo/registry/src/index.crates.io-6f17d22bba15001f/thiserror-1.0.44/Cargo.toml\",\"target\":{\"kind\":[\"custom-build\"],\"crate_types\":[\"bin\"],\"name\":\"build-script-build\",\"src_path\":\"/usr/local/cargo/registry/src/index.crates.io-6f17d22bba15001f/thiserror-1.0.44/build.rs\",\"edition\":\"2021\",\"doc\":false,\"doctest\":false,\"test\":false},\"profile\":{\"opt_level\":\"0\",\"debuginfo\":null,\"debug_assertions\":true,\"overflow_checks\":true,\"test\":false},\"features\":[],\"filenames\":[\"/tmp/.tmpCUQ1hT/target/debug/build/thiserror-9224b1aa29a288f4/build-script-build\"],\"executable\":null,\"fresh\":true}\n{\"reason\":\"compiler-artifact\",\"package_id\":\"parking_lot_core 0.9.8 (registry+https://github.com/rust-lang/crates.io-index)\",\"manifest_path\":\"/usr/local/cargo/registry/src/index.crates.io-6f17d22bba15001f/parking_lot_core-0.9.8/Cargo.toml\",\"target\":{\"kind\":[\"custom-build\"],\"crate_types\":[\"bin\"],\"name\":\"build-script-build\",\"src_path\":\"/usr/local/cargo/registry/src/index.crates.io-6f17d22bba15001f/parking_lot_core-0.9.8/build.rs\",\"edition\":\"2018\",\"doc\":false,\"doctest\":false,\"test\":false},\"profile\":{\"opt_level\":\"0\",\"debuginfo\":null,\"debug_assertions\":true,\"overflow_checks\":true,\"test\":false},\"features\":[],\"filenames\":[\"/tmp/.tmpCUQ1hT/target/debug/build/parking_lot_core-7ebee107b35a0dc8/build-script-build\"],\"executable\":null,\"fresh\":true}\n{\"reason\":\"compiler-artifact\",\"package_id\":\"allocator-api2 0.2.16 (registry+https://github.com/rust-lang/crates.io-index)\",\"manifest_path\":\"/usr/local/cargo/registry/src/index.crates.io-6f17d22bba15001f/allocator-api2-0.2.16/Cargo.toml\",\"target\":{\"kind\":[\"lib\"],\"crate_types\":[\"lib\"],\"name\":\"allocator-api2\",\"src_path\":\"/usr/local/cargo/registry/src/index.crates.io-6f17d22bba15001f/allocator-api2-0.2.16/src/lib.rs\",\"edition\":\"2018\",\"doc\":true,\"doctest\":true,\"test\":true},\"profile\":{\"opt_level\":\"2\",\"debuginfo\":null,\"debug_assertions\":true,\"overflow_checks\":true,\"test\":false},\"features\":[\"alloc\"],\"filenames\":[\"/tmp/.tmpCUQ1hT/target/aarch64-unknown-linux-gnu/debug/deps/liballocator_api2-77331481b29bc08a.rlib\",\"/tmp/.tmpCUQ1hT/target/aarch64-unknown-linux-gnu/debug/deps/liballocator_api2-77331481b29bc08a.rmeta\"],\"executable\":null,\"fresh\":true}\n{\"reason\":\"compiler-artifact\",\"package_id\":\"signal-hook 0.3.17 (registry+https://github.com/rust-lang/crates.io-index)\",\"manifest_path\":\"/usr/local/cargo/registry/src/index.crates.io-6f17d22bba15001f/signal-hook-0.3.17/Cargo.toml\",\"target\":{\"kind\":[\"custom-build\"],\"crate_types\":[\"bin\"],\"name\":\"build-script-build\",\"src_path\":\"/usr/local/cargo/registry/src/index.crates.io-6f17d22bba15001f/signal-hook-0.3.17/build.rs\",\"edition\":\"2018\",\"doc\":false,\"doctest\":false,\"test\":false},\"profile\":{\"opt_level\":\"0\",\"debuginfo\":null,\"debug_assertions\":true,\"overflow_checks\":true,\"test\":false},\"features\":[\"channel\",\"default\",\"iterator\"],\"filenames\":[\"/tmp/.tmpCUQ1hT/target/debug/build/signal-hook-e9bb93eb59294877/build-script-build\"],\"executable\":null,\"fresh\":true}\n{\"reason\":\"compiler-artifact\",\"package_id\":\"rustversion 1.0.14 (registry+https://github.com/rust-lang/crates.io-index)\",\"manifest_path\":\"/usr/local/cargo/registry/src/index.crates.io-6f17d22bba15001f/rustversion-1.0.14/Cargo.toml\",\"target\":{\"kind\":[\"custom-build\"],\"crate_types\":[\"bin\"],\"name\":\"build-script-build\",\"src_path\":\"/usr/local/cargo/registry/src/index.crates.io-6f17d22bba15001f/rustversion-1.0.14/build/build.rs\",\"edition\":\"2018\",\"doc\":false,\"doctest\":false,\"test\":false},\"profile\":{\"opt_level\":\"0\",\"debuginfo\":null,\"debug_assertions\":true,\"overflow_checks\":true,\"test\":false},\"features\":[],\"filenames\":[\"/tmp/.tmpCUQ1hT/target/debug/build/rustversion-93bf824655606e1a/build-script-build\"],\"executable\":null,\"fresh\":true}\n{\"reason\":\"build-script-executed\",\"package_id\":\"parking_lot_core 0.9.8 (registry+https://github.com/rust-lang/crates.io-index)\",\"linked_libs\":[],\"linked_paths\":[],\"cfgs\":[],\"env\":[],\"out_dir\":\"/tmp/.tmpCUQ1hT/target/aarch64-unknown-linux-gnu/debug/build/parking_lot_core-3386a036bf4738e9/out\"}\n{\"reason\":\"build-script-executed\",\"package_id\":\"signal-hook 0.3.17 (registry+https://github.com/rust-lang/crates.io-index)\",\"linked_libs\":[],\"linked_paths\":[],\"cfgs\":[],\"env\":[],\"out_dir\":\"/tmp/.tmpCUQ1hT/target/aarch64-unknown-linux-gnu/debug/build/signal-hook-0afa1427af27359a/out\"}\n{\"reason\":\"build-script-executed\",\"package_id\":\"rustversion 1.0.14 (registry+https://github.com/rust-lang/crates.io-index)\",\"linked_libs\":[],\"linked_paths\":[],\"cfgs\":[],\"env\":[],\"out_dir\":\"/tmp/.tmpCUQ1hT/target/debug/build/rustversion-1e558be6f36bd907/out\"}\n{\"reason\":\"build-script-executed\",\"package_id\":\"thiserror 1.0.44 (registry+https://github.com/rust-lang/crates.io-index)\",\"linked_libs\":[],\"linked_paths\":[],\"cfgs\":[],\"env\":[],\"out_dir\":\"/tmp/.tmpCUQ1hT/target/aarch64-unknown-linux-gnu/debug/build/thiserror-ac1f719312e33e4f/out\"}\n{\"reason\":\"compiler-artifact\",\"package_id\":\"hashbrown 0.14.0 (registry+https://github.com/rust-lang/crates.io-index)\",\"manifest_path\":\"/usr/local/cargo/registry/src/index.crates.io-6f17d22bba15001f/hashbrown-0.14.0/Cargo.toml\",\"target\":{\"kind\":[\"lib\"],\"crate_types\":[\"lib\"],\"name\":\"hashbrown\",\"src_path\":\"/usr/local/cargo/registry/src/index.crates.io-6f17d22bba15001f/hashbrown-0.14.0/src/lib.rs\",\"edition\":\"2021\",\"doc\":true,\"doctest\":true,\"test\":true},\"profile\":{\"opt_level\":\"2\",\"debuginfo\":null,\"debug_assertions\":true,\"overflow_checks\":true,\"test\":false},\"features\":[\"ahash\",\"allocator-api2\",\"default\",\"inline-more\",\"raw\",\"rayon\"],\"filenames\":[\"/tmp/.tmpCUQ1hT/target/aarch64-unknown-linux-gnu/debug/deps/libhashbrown-4dd996a008d17533.rlib\",\"/tmp/.tmpCUQ1hT/target/aarch64-unknown-linux-gnu/debug/deps/libhashbrown-4dd996a008d17533.rmeta\"],\"executable\":null,\"fresh\":true}\n{\"reason\":\"build-script-executed\",\"package_id\":\"lock_api 0.4.10 (registry+https://github.com/rust-lang/crates.io-index)\",\"linked_libs\":[],\"linked_paths\":[],\"cfgs\":[\"has_const_fn_trait_bound\"],\"env\":[],\"out_dir\":\"/tmp/.tmpCUQ1hT/target/aarch64-unknown-linux-gnu/debug/build/lock_api-727e5b0c5f9b1c97/out\"}\n{\"reason\":\"compiler-artifact\",\"package_id\":\"bytemuck 1.13.1 (registry+https://github.com/rust-lang/crates.io-index)\",\"manifest_path\":\"/usr/local/cargo/registry/src/index.crates.io-6f17d22bba15001f/bytemuck-1.13.1/Cargo.toml\",\"target\":{\"kind\":[\"lib\"],\"crate_types\":[\"lib\"],\"name\":\"bytemuck\",\"src_path\":\"/usr/local/cargo/registry/src/index.crates.io-6f17d22bba15001f/bytemuck-1.13.1/src/lib.rs\",\"edition\":\"2018\",\"doc\":true,\"doctest\":true,\"test\":true},\"profile\":{\"opt_level\":\"2\",\"debuginfo\":null,\"debug_assertions\":true,\"overflow_checks\":true,\"test\":false},\"features\":[\"bytemuck_derive\",\"derive\"],\"filenames\":[\"/tmp/.tmpCUQ1hT/target/aarch64-unknown-linux-gnu/debug/deps/libbytemuck-00ca67e499056d43.rlib\",\"/tmp/.tmpCUQ1hT/target/aarch64-unknown-linux-gnu/debug/deps/libbytemuck-00ca67e499056d43.rmeta\"],\"executable\":null,\"fresh\":true}\n{\"reason\":\"compiler-artifact\",\"package_id\":\"lz4 1.24.0 (registry+https://github.com/rust-lang/crates.io-index)\",\"manifest_path\":\"/usr/local/cargo/registry/src/index.crates.io-6f17d22bba15001f/lz4-1.24.0/Cargo.toml\",\"target\":{\"kind\":[\"lib\"],\"crate_types\":[\"lib\"],\"name\":\"lz4\",\"src_path\":\"/usr/local/cargo/registry/src/index.crates.io-6f17d22bba15001f/lz4-1.24.0/src/lib.rs\",\"edition\":\"2018\",\"doc\":true,\"doctest\":true,\"test\":true},\"profile\":{\"opt_level\":\"2\",\"debuginfo\":null,\"debug_assertions\":true,\"overflow_checks\":true,\"test\":false},\"features\":[],\"filenames\":[\"/tmp/.tmpCUQ1hT/target/aarch64-unknown-linux-gnu/debug/deps/liblz4-7a9bd2b7939cdbc5.rlib\",\"/tmp/.tmpCUQ1hT/target/aarch64-unknown-linux-gnu/debug/deps/liblz4-7a9bd2b7939cdbc5.rmeta\"],\"executable\":null,\"fresh\":true}\n{\"reason\":\"compiler-artifact\",\"package_id\":\"futures 0.3.28 (registry+https://github.com/rust-lang/crates.io-index)\",\"manifest_path\":\"/usr/local/cargo/registry/src/index.crates.io-6f17d22bba15001f/futures-0.3.28/Cargo.toml\",\"target\":{\"kind\":[\"lib\"],\"crate_types\":[\"lib\"],\"name\":\"futures\",\"src_path\":\"/usr/local/cargo/registry/src/index.crates.io-6f17d22bba15001f/futures-0.3.28/src/lib.rs\",\"edition\":\"2018\",\"doc\":true,\"doctest\":true,\"test\":true},\"profile\":{\"opt_level\":\"2\",\"debuginfo\":null,\"debug_assertions\":true,\"overflow_checks\":true,\"test\":false},\"features\":[\"alloc\",\"async-await\",\"default\",\"executor\",\"futures-executor\",\"std\"],\"filenames\":[\"/tmp/.tmpCUQ1hT/target/aarch64-unknown-linux-gnu/debug/deps/libfutures-3ad504a451f9a133.rlib\",\"/tmp/.tmpCUQ1hT/target/aarch64-unknown-linux-gnu/debug/deps/libfutures-3ad504a451f9a133.rmeta\"],\"executable\":null,\"fresh\":true}\n{\"reason\":\"compiler-artifact\",\"package_id\":\"multiversion 0.7.2 (registry+https://github.com/rust-lang/crates.io-index)\",\"manifest_path\":\"/usr/local/cargo/registry/src/index.crates.io-6f17d22bba15001f/multiversion-0.7.2/Cargo.toml\",\"target\":{\"kind\":[\"lib\"],\"crate_types\":[\"lib\"],\"name\":\"multiversion\",\"src_path\":\"/usr/local/cargo/registry/src/index.crates.io-6f17d22bba15001f/multiversion-0.7.2/src/lib.rs\",\"edition\":\"2021\",\"doc\":true,\"doctest\":true,\"test\":true},\"profile\":{\"opt_level\":\"2\",\"debuginfo\":null,\"debug_assertions\":true,\"overflow_checks\":true,\"test\":false},\"features\":[\"default\",\"std\"],\"filenames\":[\"/tmp/.tmpCUQ1hT/target/aarch64-unknown-linux-gnu/debug/deps/libmultiversion-b9cc4116d7bd9b6a.rlib\",\"/tmp/.tmpCUQ1hT/target/aarch64-unknown-linux-gnu/debug/deps/libmultiversion-b9cc4116d7bd9b6a.rmeta\"],\"executable\":null,\"fresh\":true}\n{\"reason\":\"compiler-artifact\",\"package_id\":\"zstd 0.12.4 (registry+https://github.com/rust-lang/crates.io-index)\",\"manifest_path\":\"/usr/local/cargo/registry/src/index.crates.io-6f17d22bba15001f/zstd-0.12.4/Cargo.toml\",\"target\":{\"kind\":[\"lib\"],\"crate_types\":[\"lib\"],\"name\":\"zstd\",\"src_path\":\"/usr/local/cargo/registry/src/index.crates.io-6f17d22bba15001f/zstd-0.12.4/src/lib.rs\",\"edition\":\"2018\",\"doc\":true,\"doctest\":true,\"test\":true},\"profile\":{\"opt_level\":\"2\",\"debuginfo\":null,\"debug_assertions\":true,\"overflow_checks\":true,\"test\":false},\"features\":[\"arrays\",\"default\",\"legacy\",\"zdict_builder\"],\"filenames\":[\"/tmp/.tmpCUQ1hT/target/aarch64-unknown-linux-gnu/debug/deps/libzstd-67b9620aa8e2c223.rlib\",\"/tmp/.tmpCUQ1hT/target/aarch64-unknown-linux-gnu/debug/deps/libzstd-67b9620aa8e2c223.rmeta\"],\"executable\":null,\"fresh\":true}\n{\"reason\":\"build-script-executed\",\"package_id\":\"arrow2 0.17.3 (registry+https://github.com/rust-lang/crates.io-index)\",\"linked_libs\":[],\"linked_paths\":[],\"cfgs\":[],\"env\":[],\"out_dir\":\"/tmp/.tmpCUQ1hT/target/aarch64-unknown-linux-gnu/debug/build/arrow2-3dff51315df6da3a/out\"}\n{\"reason\":\"compiler-artifact\",\"package_id\":\"arrow-format 0.8.1 (registry+https://github.com/rust-lang/crates.io-index)\",\"manifest_path\":\"/usr/local/cargo/registry/src/index.crates.io-6f17d22bba15001f/arrow-format-0.8.1/Cargo.toml\",\"target\":{\"kind\":[\"lib\"],\"crate_types\":[\"lib\"],\"name\":\"arrow-format\",\"src_path\":\"/usr/local/cargo/registry/src/index.crates.io-6f17d22bba15001f/arrow-format-0.8.1/src/lib.rs\",\"edition\":\"2018\",\"doc\":true,\"doctest\":true,\"test\":true},\"profile\":{\"opt_level\":\"2\",\"debuginfo\":null,\"debug_assertions\":true,\"overflow_checks\":true,\"test\":false},\"features\":[\"default\",\"ipc\",\"planus\",\"serde\"],\"filenames\":[\"/tmp/.tmpCUQ1hT/target/aarch64-unknown-linux-gnu/debug/deps/libarrow_format-84916da7d7d9aece.rlib\",\"/tmp/.tmpCUQ1hT/target/aarch64-unknown-linux-gnu/debug/deps/libarrow_format-84916da7d7d9aece.rmeta\"],\"executable\":null,\"fresh\":true}\n{\"reason\":\"compiler-artifact\",\"package_id\":\"regex 1.9.1 (registry+https://github.com/rust-lang/crates.io-index)\",\"manifest_path\":\"/usr/local/cargo/registry/src/index.crates.io-6f17d22bba15001f/regex-1.9.1/Cargo.toml\",\"target\":{\"kind\":[\"lib\"],\"crate_types\":[\"lib\"],\"name\":\"regex\",\"src_path\":\"/usr/local/cargo/registry/src/index.crates.io-6f17d22bba15001f/regex-1.9.1/src/lib.rs\",\"edition\":\"2021\",\"doc\":true,\"doctest\":true,\"test\":true},\"profile\":{\"opt_level\":\"2\",\"debuginfo\":null,\"debug_assertions\":true,\"overflow_checks\":true,\"test\":false},\"features\":[\"default\",\"perf\",\"perf-backtrack\",\"perf-cache\",\"perf-dfa\",\"perf-inline\",\"perf-literal\",\"perf-onepass\",\"std\",\"unicode\",\"unicode-age\",\"unicode-bool\",\"unicode-case\",\"unicode-gencat\",\"unicode-perl\",\"unicode-script\",\"unicode-segment\"],\"filenames\":[\"/tmp/.tmpCUQ1hT/target/aarch64-unknown-linux-gnu/debug/deps/libregex-ce4fff22e2b092b0.rlib\",\"/tmp/.tmpCUQ1hT/target/aarch64-unknown-linux-gnu/debug/deps/libregex-ce4fff22e2b092b0.rmeta\"],\"executable\":null,\"fresh\":true}\n{\"reason\":\"compiler-artifact\",\"package_id\":\"mio 0.8.8 (registry+https://github.com/rust-lang/crates.io-index)\",\"manifest_path\":\"/usr/local/cargo/registry/src/index.crates.io-6f17d22bba15001f/mio-0.8.8/Cargo.toml\",\"target\":{\"kind\":[\"lib\"],\"crate_types\":[\"lib\"],\"name\":\"mio\",\"src_path\":\"/usr/local/cargo/registry/src/index.crates.io-6f17d22bba15001f/mio-0.8.8/src/lib.rs\",\"edition\":\"2018\",\"doc\":true,\"doctest\":true,\"test\":true},\"profile\":{\"opt_level\":\"2\",\"debuginfo\":null,\"debug_assertions\":true,\"overflow_checks\":true,\"test\":false},\"features\":[\"default\",\"log\",\"net\",\"os-ext\",\"os-poll\"],\"filenames\":[\"/tmp/.tmpCUQ1hT/target/aarch64-unknown-linux-gnu/debug/deps/libmio-0264a9dcf75105bb.rlib\",\"/tmp/.tmpCUQ1hT/target/aarch64-unknown-linux-gnu/debug/deps/libmio-0264a9dcf75105bb.rmeta\"],\"executable\":null,\"fresh\":true}\n{\"reason\":\"compiler-artifact\",\"package_id\":\"rand_core 0.6.4 (registry+https://github.com/rust-lang/crates.io-index)\",\"manifest_path\":\"/usr/local/cargo/registry/src/index.crates.io-6f17d22bba15001f/rand_core-0.6.4/Cargo.toml\",\"target\":{\"kind\":[\"lib\"],\"crate_types\":[\"lib\"],\"name\":\"rand_core\",\"src_path\":\"/usr/local/cargo/registry/src/index.crates.io-6f17d22bba15001f/rand_core-0.6.4/src/lib.rs\",\"edition\":\"2018\",\"doc\":true,\"doctest\":true,\"test\":true},\"profile\":{\"opt_level\":\"2\",\"debuginfo\":null,\"debug_assertions\":true,\"overflow_checks\":true,\"test\":false},\"features\":[\"alloc\",\"getrandom\",\"std\"],\"filenames\":[\"/tmp/.tmpCUQ1hT/target/aarch64-unknown-linux-gnu/debug/deps/librand_core-774e452d12d32cbb.rlib\",\"/tmp/.tmpCUQ1hT/target/aarch64-unknown-linux-gnu/debug/deps/librand_core-774e452d12d32cbb.rmeta\"],\"executable\":null,\"fresh\":true}\n{\"reason\":\"compiler-artifact\",\"package_id\":\"smartstring 1.0.1 (registry+https://github.com/rust-lang/crates.io-index)\",\"manifest_path\":\"/usr/local/cargo/registry/src/index.crates.io-6f17d22bba15001f/smartstring-1.0.1/Cargo.toml\",\"target\":{\"kind\":[\"custom-build\"],\"crate_types\":[\"bin\"],\"name\":\"build-script-build\",\"src_path\":\"/usr/local/cargo/registry/src/index.crates.io-6f17d22bba15001f/smartstring-1.0.1/./build.rs\",\"edition\":\"2021\",\"doc\":false,\"doctest\":false,\"test\":false},\"profile\":{\"opt_level\":\"0\",\"debuginfo\":null,\"debug_assertions\":true,\"overflow_checks\":true,\"test\":false},\"features\":[\"default\",\"std\"],\"filenames\":[\"/tmp/.tmpCUQ1hT/target/debug/build/smartstring-6162518edcd39c63/build-script-build\"],\"executable\":null,\"fresh\":true}\n{\"reason\":\"compiler-artifact\",\"package_id\":\"thiserror-impl 1.0.44 (registry+https://github.com/rust-lang/crates.io-index)\",\"manifest_path\":\"/usr/local/cargo/registry/src/index.crates.io-6f17d22bba15001f/thiserror-impl-1.0.44/Cargo.toml\",\"target\":{\"kind\":[\"proc-macro\"],\"crate_types\":[\"proc-macro\"],\"name\":\"thiserror-impl\",\"src_path\":\"/usr/local/cargo/registry/src/index.crates.io-6f17d22bba15001f/thiserror-impl-1.0.44/src/lib.rs\",\"edition\":\"2021\",\"doc\":true,\"doctest\":true,\"test\":true},\"profile\":{\"opt_level\":\"0\",\"debuginfo\":null,\"debug_assertions\":true,\"overflow_checks\":true,\"test\":false},\"features\":[],\"filenames\":[\"/tmp/.tmpCUQ1hT/target/debug/deps/libthiserror_impl-a72fe5f608f16815.so\"],\"executable\":null,\"fresh\":true}\n{\"reason\":\"compiler-artifact\",\"package_id\":\"signal-hook-registry 1.4.1 (registry+https://github.com/rust-lang/crates.io-index)\",\"manifest_path\":\"/usr/local/cargo/registry/src/index.crates.io-6f17d22bba15001f/signal-hook-registry-1.4.1/Cargo.toml\",\"target\":{\"kind\":[\"lib\"],\"crate_types\":[\"lib\"],\"name\":\"signal-hook-registry\",\"src_path\":\"/usr/local/cargo/registry/src/index.crates.io-6f17d22bba15001f/signal-hook-registry-1.4.1/src/lib.rs\",\"edition\":\"2015\",\"doc\":true,\"doctest\":true,\"test\":true},\"profile\":{\"opt_level\":\"2\",\"debuginfo\":null,\"debug_assertions\":true,\"overflow_checks\":true,\"test\":false},\"features\":[],\"filenames\":[\"/tmp/.tmpCUQ1hT/target/aarch64-unknown-linux-gnu/debug/deps/libsignal_hook_registry-67892c425cb7f067.rlib\",\"/tmp/.tmpCUQ1hT/target/aarch64-unknown-linux-gnu/debug/deps/libsignal_hook_registry-67892c425cb7f067.rmeta\"],\"executable\":null,\"fresh\":true}\n{\"reason\":\"compiler-artifact\",\"package_id\":\"ppv-lite86 0.2.17 (registry+https://github.com/rust-lang/crates.io-index)\",\"manifest_path\":\"/usr/local/cargo/registry/src/index.crates.io-6f17d22bba15001f/ppv-lite86-0.2.17/Cargo.toml\",\"target\":{\"kind\":[\"lib\"],\"crate_types\":[\"lib\"],\"name\":\"ppv-lite86\",\"src_path\":\"/usr/local/cargo/registry/src/index.crates.io-6f17d22bba15001f/ppv-lite86-0.2.17/src/lib.rs\",\"edition\":\"2018\",\"doc\":true,\"doctest\":true,\"test\":true},\"profile\":{\"opt_level\":\"2\",\"debuginfo\":null,\"debug_assertions\":true,\"overflow_checks\":true,\"test\":false},\"features\":[\"simd\",\"std\"],\"filenames\":[\"/tmp/.tmpCUQ1hT/target/aarch64-unknown-linux-gnu/debug/deps/libppv_lite86-c26d47616679139b.rlib\",\"/tmp/.tmpCUQ1hT/target/aarch64-unknown-linux-gnu/debug/deps/libppv_lite86-c26d47616679139b.rmeta\"],\"executable\":null,\"fresh\":true}\n{\"reason\":\"compiler-artifact\",\"package_id\":\"dyn-clone 1.0.12 (registry+https://github.com/rust-lang/crates.io-index)\",\"manifest_path\":\"/usr/local/cargo/registry/src/index.crates.io-6f17d22bba15001f/dyn-clone-1.0.12/Cargo.toml\",\"target\":{\"kind\":[\"lib\"],\"crate_types\":[\"lib\"],\"name\":\"dyn-clone\",\"src_path\":\"/usr/local/cargo/registry/src/index.crates.io-6f17d22bba15001f/dyn-clone-1.0.12/src/lib.rs\",\"edition\":\"2018\",\"doc\":true,\"doctest\":true,\"test\":true},\"profile\":{\"opt_level\":\"2\",\"debuginfo\":null,\"debug_assertions\":true,\"overflow_checks\":true,\"test\":false},\"features\":[],\"filenames\":[\"/tmp/.tmpCUQ1hT/target/aarch64-unknown-linux-gnu/debug/deps/libdyn_clone-88cb4b567a0743ac.rlib\",\"/tmp/.tmpCUQ1hT/target/aarch64-unknown-linux-gnu/debug/deps/libdyn_clone-88cb4b567a0743ac.rmeta\"],\"executable\":null,\"fresh\":true}\n{\"reason\":\"compiler-artifact\",\"package_id\":\"regex-syntax 0.6.29 (registry+https://github.com/rust-lang/crates.io-index)\",\"manifest_path\":\"/usr/local/cargo/registry/src/index.crates.io-6f17d22bba15001f/regex-syntax-0.6.29/Cargo.toml\",\"target\":{\"kind\":[\"lib\"],\"crate_types\":[\"lib\"],\"name\":\"regex-syntax\",\"src_path\":\"/usr/local/cargo/registry/src/index.crates.io-6f17d22bba15001f/regex-syntax-0.6.29/src/lib.rs\",\"edition\":\"2018\",\"doc\":true,\"doctest\":true,\"test\":true},\"profile\":{\"opt_level\":\"2\",\"debuginfo\":null,\"debug_assertions\":true,\"overflow_checks\":true,\"test\":false},\"features\":[\"default\",\"unicode\",\"unicode-age\",\"unicode-bool\",\"unicode-case\",\"unicode-gencat\",\"unicode-perl\",\"unicode-script\",\"unicode-segment\"],\"filenames\":[\"/tmp/.tmpCUQ1hT/target/aarch64-unknown-linux-gnu/debug/deps/libregex_syntax-19f055a76d0cb3a5.rlib\",\"/tmp/.tmpCUQ1hT/target/aarch64-unknown-linux-gnu/debug/deps/libregex_syntax-19f055a76d0cb3a5.rmeta\"],\"executable\":null,\"fresh\":true}\n{\"reason\":\"compiler-artifact\",\"package_id\":\"foreign_vec 0.1.0 (registry+https://github.com/rust-lang/crates.io-index)\",\"manifest_path\":\"/usr/local/cargo/registry/src/index.crates.io-6f17d22bba15001f/foreign_vec-0.1.0/Cargo.toml\",\"target\":{\"kind\":[\"lib\"],\"crate_types\":[\"lib\"],\"name\":\"foreign_vec\",\"src_path\":\"/usr/local/cargo/registry/src/index.crates.io-6f17d22bba15001f/foreign_vec-0.1.0/src/lib.rs\",\"edition\":\"2021\",\"doc\":true,\"doctest\":true,\"test\":true},\"profile\":{\"opt_level\":\"2\",\"debuginfo\":null,\"debug_assertions\":true,\"overflow_checks\":true,\"test\":false},\"features\":[],\"filenames\":[\"/tmp/.tmpCUQ1hT/target/aarch64-unknown-linux-gnu/debug/deps/libforeign_vec-e9d64551d8553a6e.rlib\",\"/tmp/.tmpCUQ1hT/target/aarch64-unknown-linux-gnu/debug/deps/libforeign_vec-e9d64551d8553a6e.rmeta\"],\"executable\":null,\"fresh\":true}\n{\"reason\":\"compiler-artifact\",\"package_id\":\"strength_reduce 0.2.4 (registry+https://github.com/rust-lang/crates.io-index)\",\"manifest_path\":\"/usr/local/cargo/registry/src/index.crates.io-6f17d22bba15001f/strength_reduce-0.2.4/Cargo.toml\",\"target\":{\"kind\":[\"lib\"],\"crate_types\":[\"lib\"],\"name\":\"strength_reduce\",\"src_path\":\"/usr/local/cargo/registry/src/index.crates.io-6f17d22bba15001f/strength_reduce-0.2.4/src/lib.rs\",\"edition\":\"2015\",\"doc\":true,\"doctest\":true,\"test\":true},\"profile\":{\"opt_level\":\"2\",\"debuginfo\":null,\"debug_assertions\":true,\"overflow_checks\":true,\"test\":false},\"features\":[],\"filenames\":[\"/tmp/.tmpCUQ1hT/target/aarch64-unknown-linux-gnu/debug/deps/libstrength_reduce-c2ef72aa0f1db33e.rlib\",\"/tmp/.tmpCUQ1hT/target/aarch64-unknown-linux-gnu/debug/deps/libstrength_reduce-c2ef72aa0f1db33e.rmeta\"],\"executable\":null,\"fresh\":true}\n{\"reason\":\"compiler-artifact\",\"package_id\":\"ethnum 1.3.2 (registry+https://github.com/rust-lang/crates.io-index)\",\"manifest_path\":\"/usr/local/cargo/registry/src/index.crates.io-6f17d22bba15001f/ethnum-1.3.2/Cargo.toml\",\"target\":{\"kind\":[\"lib\"],\"crate_types\":[\"lib\"],\"name\":\"ethnum\",\"src_path\":\"/usr/local/cargo/registry/src/index.crates.io-6f17d22bba15001f/ethnum-1.3.2/src/lib.rs\",\"edition\":\"2021\",\"doc\":true,\"doctest\":true,\"test\":true},\"profile\":{\"opt_level\":\"2\",\"debuginfo\":null,\"debug_assertions\":true,\"overflow_checks\":true,\"test\":false},\"features\":[],\"filenames\":[\"/tmp/.tmpCUQ1hT/target/aarch64-unknown-linux-gnu/debug/deps/libethnum-0df51b642f8e58a2.rlib\",\"/tmp/.tmpCUQ1hT/target/aarch64-unknown-linux-gnu/debug/deps/libethnum-0df51b642f8e58a2.rmeta\"],\"executable\":null,\"fresh\":true}\n{\"reason\":\"compiler-artifact\",\"package_id\":\"smallvec 1.11.0 (registry+https://github.com/rust-lang/crates.io-index)\",\"manifest_path\":\"/usr/local/cargo/registry/src/index.crates.io-6f17d22bba15001f/smallvec-1.11.0/Cargo.toml\",\"target\":{\"kind\":[\"lib\"],\"crate_types\":[\"lib\"],\"name\":\"smallvec\",\"src_path\":\"/usr/local/cargo/registry/src/index.crates.io-6f17d22bba15001f/smallvec-1.11.0/src/lib.rs\",\"edition\":\"2018\",\"doc\":true,\"doctest\":true,\"test\":true},\"profile\":{\"opt_level\":\"2\",\"debuginfo\":null,\"debug_assertions\":true,\"overflow_checks\":true,\"test\":false},\"features\":[],\"filenames\":[\"/tmp/.tmpCUQ1hT/target/aarch64-unknown-linux-gnu/debug/deps/libsmallvec-9f99bf5d67715f1d.rlib\",\"/tmp/.tmpCUQ1hT/target/aarch64-unknown-linux-gnu/debug/deps/libsmallvec-9f99bf5d67715f1d.rmeta\"],\"executable\":null,\"fresh\":true}\n{\"reason\":\"compiler-artifact\",\"package_id\":\"simdutf8 0.1.4 (registry+https://github.com/rust-lang/crates.io-index)\",\"manifest_path\":\"/usr/local/cargo/registry/src/index.crates.io-6f17d22bba15001f/simdutf8-0.1.4/Cargo.toml\",\"target\":{\"kind\":[\"lib\"],\"crate_types\":[\"lib\"],\"name\":\"simdutf8\",\"src_path\":\"/usr/local/cargo/registry/src/index.crates.io-6f17d22bba15001f/simdutf8-0.1.4/src/lib.rs\",\"edition\":\"2018\",\"doc\":true,\"doctest\":true,\"test\":true},\"profile\":{\"opt_level\":\"2\",\"debuginfo\":null,\"debug_assertions\":true,\"overflow_checks\":true,\"test\":false},\"features\":[\"default\",\"std\"],\"filenames\":[\"/tmp/.tmpCUQ1hT/target/aarch64-unknown-linux-gnu/debug/deps/libsimdutf8-c3245d2cea94a2cb.rlib\",\"/tmp/.tmpCUQ1hT/target/aarch64-unknown-linux-gnu/debug/deps/libsimdutf8-c3245d2cea94a2cb.rmeta\"],\"executable\":null,\"fresh\":true}\n{\"reason\":\"compiler-artifact\",\"package_id\":\"hash_hasher 2.0.3 (registry+https://github.com/rust-lang/crates.io-index)\",\"manifest_path\":\"/usr/local/cargo/registry/src/index.crates.io-6f17d22bba15001f/hash_hasher-2.0.3/Cargo.toml\",\"target\":{\"kind\":[\"lib\"],\"crate_types\":[\"lib\"],\"name\":\"hash_hasher\",\"src_path\":\"/usr/local/cargo/registry/src/index.crates.io-6f17d22bba15001f/hash_hasher-2.0.3/src/lib.rs\",\"edition\":\"2018\",\"doc\":true,\"doctest\":true,\"test\":true},\"profile\":{\"opt_level\":\"2\",\"debuginfo\":null,\"debug_assertions\":true,\"overflow_checks\":true,\"test\":false},\"features\":[],\"filenames\":[\"/tmp/.tmpCUQ1hT/target/aarch64-unknown-linux-gnu/debug/deps/libhash_hasher-6f57d1cf7b0dee37.rlib\",\"/tmp/.tmpCUQ1hT/target/aarch64-unknown-linux-gnu/debug/deps/libhash_hasher-6f57d1cf7b0dee37.rmeta\"],\"executable\":null,\"fresh\":true}\n{\"reason\":\"compiler-artifact\",\"package_id\":\"parking_lot_core 0.9.8 (registry+https://github.com/rust-lang/crates.io-index)\",\"manifest_path\":\"/usr/local/cargo/registry/src/index.crates.io-6f17d22bba15001f/parking_lot_core-0.9.8/Cargo.toml\",\"target\":{\"kind\":[\"lib\"],\"crate_types\":[\"lib\"],\"name\":\"parking_lot_core\",\"src_path\":\"/usr/local/cargo/registry/src/index.crates.io-6f17d22bba15001f/parking_lot_core-0.9.8/src/lib.rs\",\"edition\":\"2018\",\"doc\":true,\"doctest\":true,\"test\":true},\"profile\":{\"opt_level\":\"2\",\"debuginfo\":null,\"debug_assertions\":true,\"overflow_checks\":true,\"test\":false},\"features\":[],\"filenames\":[\"/tmp/.tmpCUQ1hT/target/aarch64-unknown-linux-gnu/debug/deps/libparking_lot_core-e7a62d41da31cdf6.rlib\",\"/tmp/.tmpCUQ1hT/target/aarch64-unknown-linux-gnu/debug/deps/libparking_lot_core-e7a62d41da31cdf6.rmeta\"],\"executable\":null,\"fresh\":true}\n{\"reason\":\"compiler-artifact\",\"package_id\":\"rand_chacha 0.3.1 (registry+https://github.com/rust-lang/crates.io-index)\",\"manifest_path\":\"/usr/local/cargo/registry/src/index.crates.io-6f17d22bba15001f/rand_chacha-0.3.1/Cargo.toml\",\"target\":{\"kind\":[\"lib\"],\"crate_types\":[\"lib\"],\"name\":\"rand_chacha\",\"src_path\":\"/usr/local/cargo/registry/src/index.crates.io-6f17d22bba15001f/rand_chacha-0.3.1/src/lib.rs\",\"edition\":\"2018\",\"doc\":true,\"doctest\":true,\"test\":true},\"profile\":{\"opt_level\":\"2\",\"debuginfo\":null,\"debug_assertions\":true,\"overflow_checks\":true,\"test\":false},\"features\":[\"std\"],\"filenames\":[\"/tmp/.tmpCUQ1hT/target/aarch64-unknown-linux-gnu/debug/deps/librand_chacha-854bb308b9f3674f.rlib\",\"/tmp/.tmpCUQ1hT/target/aarch64-unknown-linux-gnu/debug/deps/librand_chacha-854bb308b9f3674f.rmeta\"],\"executable\":null,\"fresh\":true}\n{\"reason\":\"compiler-artifact\",\"package_id\":\"thiserror 1.0.44 (registry+https://github.com/rust-lang/crates.io-index)\",\"manifest_path\":\"/usr/local/cargo/registry/src/index.crates.io-6f17d22bba15001f/thiserror-1.0.44/Cargo.toml\",\"target\":{\"kind\":[\"lib\"],\"crate_types\":[\"lib\"],\"name\":\"thiserror\",\"src_path\":\"/usr/local/cargo/registry/src/index.crates.io-6f17d22bba15001f/thiserror-1.0.44/src/lib.rs\",\"edition\":\"2021\",\"doc\":true,\"doctest\":true,\"test\":true},\"profile\":{\"opt_level\":\"2\",\"debuginfo\":null,\"debug_assertions\":true,\"overflow_checks\":true,\"test\":false},\"features\":[],\"filenames\":[\"/tmp/.tmpCUQ1hT/target/aarch64-unknown-linux-gnu/debug/deps/libthiserror-363adb09f8b9c27c.rlib\",\"/tmp/.tmpCUQ1hT/target/aarch64-unknown-linux-gnu/debug/deps/libthiserror-363adb09f8b9c27c.rmeta\"],\"executable\":null,\"fresh\":true}\n{\"reason\":\"build-script-executed\",\"package_id\":\"smartstring 1.0.1 (registry+https://github.com/rust-lang/crates.io-index)\",\"linked_libs\":[],\"linked_paths\":[],\"cfgs\":[],\"env\":[],\"out_dir\":\"/tmp/.tmpCUQ1hT/target/aarch64-unknown-linux-gnu/debug/build/smartstring-5bb60976544469a9/out\"}\n{\"reason\":\"compiler-artifact\",\"package_id\":\"signal-hook 0.3.17 (registry+https://github.com/rust-lang/crates.io-index)\",\"manifest_path\":\"/usr/local/cargo/registry/src/index.crates.io-6f17d22bba15001f/signal-hook-0.3.17/Cargo.toml\",\"target\":{\"kind\":[\"lib\"],\"crate_types\":[\"lib\"],\"name\":\"signal-hook\",\"src_path\":\"/usr/local/cargo/registry/src/index.crates.io-6f17d22bba15001f/signal-hook-0.3.17/src/lib.rs\",\"edition\":\"2018\",\"doc\":true,\"doctest\":true,\"test\":true},\"profile\":{\"opt_level\":\"2\",\"debuginfo\":null,\"debug_assertions\":true,\"overflow_checks\":true,\"test\":false},\"features\":[\"channel\",\"default\",\"iterator\"],\"filenames\":[\"/tmp/.tmpCUQ1hT/target/aarch64-unknown-linux-gnu/debug/deps/libsignal_hook-a8c5dca501f5465d.rlib\",\"/tmp/.tmpCUQ1hT/target/aarch64-unknown-linux-gnu/debug/deps/libsignal_hook-a8c5dca501f5465d.rmeta\"],\"executable\":null,\"fresh\":true}\n{\"reason\":\"compiler-artifact\",\"package_id\":\"lock_api 0.4.10 (registry+https://github.com/rust-lang/crates.io-index)\",\"manifest_path\":\"/usr/local/cargo/registry/src/index.crates.io-6f17d22bba15001f/lock_api-0.4.10/Cargo.toml\",\"target\":{\"kind\":[\"lib\"],\"crate_types\":[\"lib\"],\"name\":\"lock_api\",\"src_path\":\"/usr/local/cargo/registry/src/index.crates.io-6f17d22bba15001f/lock_api-0.4.10/src/lib.rs\",\"edition\":\"2018\",\"doc\":true,\"doctest\":true,\"test\":true},\"profile\":{\"opt_level\":\"2\",\"debuginfo\":null,\"debug_assertions\":true,\"overflow_checks\":true,\"test\":false},\"features\":[\"atomic_usize\",\"default\"],\"filenames\":[\"/tmp/.tmpCUQ1hT/target/aarch64-unknown-linux-gnu/debug/deps/liblock_api-207d88259f2ecedd.rlib\",\"/tmp/.tmpCUQ1hT/target/aarch64-unknown-linux-gnu/debug/deps/liblock_api-207d88259f2ecedd.rmeta\"],\"executable\":null,\"fresh\":true}\n{\"reason\":\"compiler-artifact\",\"package_id\":\"rustversion 1.0.14 (registry+https://github.com/rust-lang/crates.io-index)\",\"manifest_path\":\"/usr/local/cargo/registry/src/index.crates.io-6f17d22bba15001f/rustversion-1.0.14/Cargo.toml\",\"target\":{\"kind\":[\"proc-macro\"],\"crate_types\":[\"proc-macro\"],\"name\":\"rustversion\",\"src_path\":\"/usr/local/cargo/registry/src/index.crates.io-6f17d22bba15001f/rustversion-1.0.14/src/lib.rs\",\"edition\":\"2018\",\"doc\":true,\"doctest\":true,\"test\":true},\"profile\":{\"opt_level\":\"0\",\"debuginfo\":null,\"debug_assertions\":true,\"overflow_checks\":true,\"test\":false},\"features\":[],\"filenames\":[\"/tmp/.tmpCUQ1hT/target/debug/deps/librustversion-a1b0301a2e623a49.so\"],\"executable\":null,\"fresh\":true}\n{\"reason\":\"compiler-artifact\",\"package_id\":\"heck 0.4.1 (registry+https://github.com/rust-lang/crates.io-index)\",\"manifest_path\":\"/usr/local/cargo/registry/src/index.crates.io-6f17d22bba15001f/heck-0.4.1/Cargo.toml\",\"target\":{\"kind\":[\"lib\"],\"crate_types\":[\"lib\"],\"name\":\"heck\",\"src_path\":\"/usr/local/cargo/registry/src/index.crates.io-6f17d22bba15001f/heck-0.4.1/src/lib.rs\",\"edition\":\"2018\",\"doc\":true,\"doctest\":true,\"test\":true},\"profile\":{\"opt_level\":\"0\",\"debuginfo\":null,\"debug_assertions\":true,\"overflow_checks\":true,\"test\":false},\"features\":[\"default\"],\"filenames\":[\"/tmp/.tmpCUQ1hT/target/debug/deps/libheck-2e9c67159a136d76.rlib\",\"/tmp/.tmpCUQ1hT/target/debug/deps/libheck-2e9c67159a136d76.rmeta\"],\"executable\":null,\"fresh\":true}\n{\"reason\":\"compiler-artifact\",\"package_id\":\"parking_lot 0.12.1 (registry+https://github.com/rust-lang/crates.io-index)\",\"manifest_path\":\"/usr/local/cargo/registry/src/index.crates.io-6f17d22bba15001f/parking_lot-0.12.1/Cargo.toml\",\"target\":{\"kind\":[\"lib\"],\"crate_types\":[\"lib\"],\"name\":\"parking_lot\",\"src_path\":\"/usr/local/cargo/registry/src/index.crates.io-6f17d22bba15001f/parking_lot-0.12.1/src/lib.rs\",\"edition\":\"2018\",\"doc\":true,\"doctest\":true,\"test\":true},\"profile\":{\"opt_level\":\"2\",\"debuginfo\":null,\"debug_assertions\":true,\"overflow_checks\":true,\"test\":false},\"features\":[\"default\"],\"filenames\":[\"/tmp/.tmpCUQ1hT/target/aarch64-unknown-linux-gnu/debug/deps/libparking_lot-20816180bf84bab4.rlib\",\"/tmp/.tmpCUQ1hT/target/aarch64-unknown-linux-gnu/debug/deps/libparking_lot-20816180bf84bab4.rmeta\"],\"executable\":null,\"fresh\":true}\n{\"reason\":\"compiler-artifact\",\"package_id\":\"signal-hook-mio 0.2.3 (registry+https://github.com/rust-lang/crates.io-index)\",\"manifest_path\":\"/usr/local/cargo/registry/src/index.crates.io-6f17d22bba15001f/signal-hook-mio-0.2.3/Cargo.toml\",\"target\":{\"kind\":[\"lib\"],\"crate_types\":[\"lib\"],\"name\":\"signal-hook-mio\",\"src_path\":\"/usr/local/cargo/registry/src/index.crates.io-6f17d22bba15001f/signal-hook-mio-0.2.3/src/lib.rs\",\"edition\":\"2018\",\"doc\":true,\"doctest\":true,\"test\":true},\"profile\":{\"opt_level\":\"2\",\"debuginfo\":null,\"debug_assertions\":true,\"overflow_checks\":true,\"test\":false},\"features\":[\"mio-0_8\",\"support-v0_8\"],\"filenames\":[\"/tmp/.tmpCUQ1hT/target/aarch64-unknown-linux-gnu/debug/deps/libsignal_hook_mio-67f8a8d368b6a949.rlib\",\"/tmp/.tmpCUQ1hT/target/aarch64-unknown-linux-gnu/debug/deps/libsignal_hook_mio-67f8a8d368b6a949.rmeta\"],\"executable\":null,\"fresh\":true}\n{\"reason\":\"compiler-artifact\",\"package_id\":\"smartstring 1.0.1 (registry+https://github.com/rust-lang/crates.io-index)\",\"manifest_path\":\"/usr/local/cargo/registry/src/index.crates.io-6f17d22bba15001f/smartstring-1.0.1/Cargo.toml\",\"target\":{\"kind\":[\"lib\"],\"crate_types\":[\"lib\"],\"name\":\"smartstring\",\"src_path\":\"/usr/local/cargo/registry/src/index.crates.io-6f17d22bba15001f/smartstring-1.0.1/src/lib.rs\",\"edition\":\"2021\",\"doc\":true,\"doctest\":true,\"test\":true},\"profile\":{\"opt_level\":\"2\",\"debuginfo\":null,\"debug_assertions\":true,\"overflow_checks\":true,\"test\":false},\"features\":[\"default\",\"std\"],\"filenames\":[\"/tmp/.tmpCUQ1hT/target/aarch64-unknown-linux-gnu/debug/deps/libsmartstring-f4fe7563a38c4cfb.rlib\",\"/tmp/.tmpCUQ1hT/target/aarch64-unknown-linux-gnu/debug/deps/libsmartstring-f4fe7563a38c4cfb.rmeta\"],\"executable\":null,\"fresh\":true}\n{\"reason\":\"compiler-artifact\",\"package_id\":\"rand 0.8.5 (registry+https://github.com/rust-lang/crates.io-index)\",\"manifest_path\":\"/usr/local/cargo/registry/src/index.crates.io-6f17d22bba15001f/rand-0.8.5/Cargo.toml\",\"target\":{\"kind\":[\"lib\"],\"crate_types\":[\"lib\"],\"name\":\"rand\",\"src_path\":\"/usr/local/cargo/registry/src/index.crates.io-6f17d22bba15001f/rand-0.8.5/src/lib.rs\",\"edition\":\"2018\",\"doc\":true,\"doctest\":true,\"test\":true},\"profile\":{\"opt_level\":\"2\",\"debuginfo\":null,\"debug_assertions\":true,\"overflow_checks\":true,\"test\":false},\"features\":[\"alloc\",\"default\",\"getrandom\",\"libc\",\"rand_chacha\",\"small_rng\",\"std\",\"std_rng\"],\"filenames\":[\"/tmp/.tmpCUQ1hT/target/aarch64-unknown-linux-gnu/debug/deps/librand-1f1720288f141c1b.rlib\",\"/tmp/.tmpCUQ1hT/target/aarch64-unknown-linux-gnu/debug/deps/librand-1f1720288f141c1b.rmeta\"],\"executable\":null,\"fresh\":true}\n{\"reason\":\"compiler-artifact\",\"package_id\":\"sysinfo 0.29.7 (registry+https://github.com/rust-lang/crates.io-index)\",\"manifest_path\":\"/usr/local/cargo/registry/src/index.crates.io-6f17d22bba15001f/sysinfo-0.29.7/Cargo.toml\",\"target\":{\"kind\":[\"lib\"],\"crate_types\":[\"lib\"],\"name\":\"sysinfo\",\"src_path\":\"/usr/local/cargo/registry/src/index.crates.io-6f17d22bba15001f/sysinfo-0.29.7/src/lib.rs\",\"edition\":\"2018\",\"doc\":true,\"doctest\":true,\"test\":true},\"profile\":{\"opt_level\":\"2\",\"debuginfo\":null,\"debug_assertions\":true,\"overflow_checks\":true,\"test\":false},\"features\":[],\"filenames\":[\"/tmp/.tmpCUQ1hT/target/aarch64-unknown-linux-gnu/debug/deps/libsysinfo-09844e5e19b1ec24.rlib\",\"/tmp/.tmpCUQ1hT/target/aarch64-unknown-linux-gnu/debug/deps/libsysinfo-09844e5e19b1ec24.rmeta\"],\"executable\":null,\"fresh\":true}\n{\"reason\":\"compiler-artifact\",\"package_id\":\"serde_json 1.0.104 (registry+https://github.com/rust-lang/crates.io-index)\",\"manifest_path\":\"/usr/local/cargo/registry/src/index.crates.io-6f17d22bba15001f/serde_json-1.0.104/Cargo.toml\",\"target\":{\"kind\":[\"custom-build\"],\"crate_types\":[\"bin\"],\"name\":\"build-script-build\",\"src_path\":\"/usr/local/cargo/registry/src/index.crates.io-6f17d22bba15001f/serde_json-1.0.104/build.rs\",\"edition\":\"2021\",\"doc\":false,\"doctest\":false,\"test\":false},\"profile\":{\"opt_level\":\"0\",\"debuginfo\":null,\"debug_assertions\":true,\"overflow_checks\":true,\"test\":false},\"features\":[\"default\",\"std\"],\"filenames\":[\"/tmp/.tmpCUQ1hT/target/debug/build/serde_json-b8f31c74acd854e0/build-script-build\"],\"executable\":null,\"fresh\":true}\n{\"reason\":\"compiler-artifact\",\"package_id\":\"bitflags 1.3.2 (registry+https://github.com/rust-lang/crates.io-index)\",\"manifest_path\":\"/usr/local/cargo/registry/src/index.crates.io-6f17d22bba15001f/bitflags-1.3.2/Cargo.toml\",\"target\":{\"kind\":[\"lib\"],\"crate_types\":[\"lib\"],\"name\":\"bitflags\",\"src_path\":\"/usr/local/cargo/registry/src/index.crates.io-6f17d22bba15001f/bitflags-1.3.2/src/lib.rs\",\"edition\":\"2018\",\"doc\":true,\"doctest\":true,\"test\":true},\"profile\":{\"opt_level\":\"2\",\"debuginfo\":null,\"debug_assertions\":true,\"overflow_checks\":true,\"test\":false},\"features\":[\"default\"],\"filenames\":[\"/tmp/.tmpCUQ1hT/target/aarch64-unknown-linux-gnu/debug/deps/libbitflags-c86609eaabf79163.rlib\",\"/tmp/.tmpCUQ1hT/target/aarch64-unknown-linux-gnu/debug/deps/libbitflags-c86609eaabf79163.rmeta\"],\"executable\":null,\"fresh\":true}\n{\"reason\":\"build-script-executed\",\"package_id\":\"serde_json 1.0.104 (registry+https://github.com/rust-lang/crates.io-index)\",\"linked_libs\":[],\"linked_paths\":[],\"cfgs\":[\"limb_width_64\"],\"env\":[],\"out_dir\":\"/tmp/.tmpCUQ1hT/target/aarch64-unknown-linux-gnu/debug/build/serde_json-659144fd2d75c43c/out\"}\n{\"reason\":\"compiler-artifact\",\"package_id\":\"crossterm 0.26.1 (registry+https://github.com/rust-lang/crates.io-index)\",\"manifest_path\":\"/usr/local/cargo/registry/src/index.crates.io-6f17d22bba15001f/crossterm-0.26.1/Cargo.toml\",\"target\":{\"kind\":[\"lib\"],\"crate_types\":[\"lib\"],\"name\":\"crossterm\",\"src_path\":\"/usr/local/cargo/registry/src/index.crates.io-6f17d22bba15001f/crossterm-0.26.1/src/lib.rs\",\"edition\":\"2021\",\"doc\":true,\"doctest\":true,\"test\":true},\"profile\":{\"opt_level\":\"2\",\"debuginfo\":null,\"debug_assertions\":true,\"overflow_checks\":true,\"test\":false},\"features\":[],\"filenames\":[\"/tmp/.tmpCUQ1hT/target/aarch64-unknown-linux-gnu/debug/deps/libcrossterm-18b1c9e545b05d42.rlib\",\"/tmp/.tmpCUQ1hT/target/aarch64-unknown-linux-gnu/debug/deps/libcrossterm-18b1c9e545b05d42.rmeta\"],\"executable\":null,\"fresh\":true}\n{\"reason\":\"compiler-artifact\",\"package_id\":\"strum_macros 0.24.3 (registry+https://github.com/rust-lang/crates.io-index)\",\"manifest_path\":\"/usr/local/cargo/registry/src/index.crates.io-6f17d22bba15001f/strum_macros-0.24.3/Cargo.toml\",\"target\":{\"kind\":[\"proc-macro\"],\"crate_types\":[\"proc-macro\"],\"name\":\"strum_macros\",\"src_path\":\"/usr/local/cargo/registry/src/index.crates.io-6f17d22bba15001f/strum_macros-0.24.3/src/lib.rs\",\"edition\":\"2018\",\"doc\":true,\"doctest\":true,\"test\":true},\"profile\":{\"opt_level\":\"0\",\"debuginfo\":null,\"debug_assertions\":true,\"overflow_checks\":true,\"test\":false},\"features\":[],\"filenames\":[\"/tmp/.tmpCUQ1hT/target/debug/deps/libstrum_macros-a0612537bb0c9e2d.so\"],\"executable\":null,\"fresh\":true}\n{\"reason\":\"compiler-artifact\",\"package_id\":\"equivalent 1.0.1 (registry+https://github.com/rust-lang/crates.io-index)\",\"manifest_path\":\"/usr/local/cargo/registry/src/index.crates.io-6f17d22bba15001f/equivalent-1.0.1/Cargo.toml\",\"target\":{\"kind\":[\"lib\"],\"crate_types\":[\"lib\"],\"name\":\"equivalent\",\"src_path\":\"/usr/local/cargo/registry/src/index.crates.io-6f17d22bba15001f/equivalent-1.0.1/src/lib.rs\",\"edition\":\"2015\",\"doc\":true,\"doctest\":true,\"test\":true},\"profile\":{\"opt_level\":\"2\",\"debuginfo\":null,\"debug_assertions\":true,\"overflow_checks\":true,\"test\":false},\"features\":[],\"filenames\":[\"/tmp/.tmpCUQ1hT/target/aarch64-unknown-linux-gnu/debug/deps/libequivalent-2142400bef886e83.rlib\",\"/tmp/.tmpCUQ1hT/target/aarch64-unknown-linux-gnu/debug/deps/libequivalent-2142400bef886e83.rmeta\"],\"executable\":null,\"fresh\":true}\n{\"reason\":\"compiler-artifact\",\"package_id\":\"strum 0.24.1 (registry+https://github.com/rust-lang/crates.io-index)\",\"manifest_path\":\"/usr/local/cargo/registry/src/index.crates.io-6f17d22bba15001f/strum-0.24.1/Cargo.toml\",\"target\":{\"kind\":[\"lib\"],\"crate_types\":[\"lib\"],\"name\":\"strum\",\"src_path\":\"/usr/local/cargo/registry/src/index.crates.io-6f17d22bba15001f/strum-0.24.1/src/lib.rs\",\"edition\":\"2018\",\"doc\":true,\"doctest\":true,\"test\":true},\"profile\":{\"opt_level\":\"2\",\"debuginfo\":null,\"debug_assertions\":true,\"overflow_checks\":true,\"test\":false},\"features\":[\"default\",\"std\"],\"filenames\":[\"/tmp/.tmpCUQ1hT/target/aarch64-unknown-linux-gnu/debug/deps/libstrum-e4ca4ec6ee878ed5.rlib\",\"/tmp/.tmpCUQ1hT/target/aarch64-unknown-linux-gnu/debug/deps/libstrum-e4ca4ec6ee878ed5.rmeta\"],\"executable\":null,\"fresh\":true}\n{\"reason\":\"compiler-artifact\",\"package_id\":\"unicode-width 0.1.10 (registry+https://github.com/rust-lang/crates.io-index)\",\"manifest_path\":\"/usr/local/cargo/registry/src/index.crates.io-6f17d22bba15001f/unicode-width-0.1.10/Cargo.toml\",\"target\":{\"kind\":[\"lib\"],\"crate_types\":[\"lib\"],\"name\":\"unicode-width\",\"src_path\":\"/usr/local/cargo/registry/src/index.crates.io-6f17d22bba15001f/unicode-width-0.1.10/src/lib.rs\",\"edition\":\"2015\",\"doc\":true,\"doctest\":true,\"test\":true},\"profile\":{\"opt_level\":\"2\",\"debuginfo\":null,\"debug_assertions\":true,\"overflow_checks\":true,\"test\":false},\"features\":[\"default\"],\"filenames\":[\"/tmp/.tmpCUQ1hT/target/aarch64-unknown-linux-gnu/debug/deps/libunicode_width-e9d248bd26c56ccf.rlib\",\"/tmp/.tmpCUQ1hT/target/aarch64-unknown-linux-gnu/debug/deps/libunicode_width-e9d248bd26c56ccf.rmeta\"],\"executable\":null,\"fresh\":true}\n{\"reason\":\"compiler-artifact\",\"package_id\":\"itoa 1.0.9 (registry+https://github.com/rust-lang/crates.io-index)\",\"manifest_path\":\"/usr/local/cargo/registry/src/index.crates.io-6f17d22bba15001f/itoa-1.0.9/Cargo.toml\",\"target\":{\"kind\":[\"lib\"],\"crate_types\":[\"lib\"],\"name\":\"itoa\",\"src_path\":\"/usr/local/cargo/registry/src/index.crates.io-6f17d22bba15001f/itoa-1.0.9/src/lib.rs\",\"edition\":\"2018\",\"doc\":true,\"doctest\":true,\"test\":true},\"profile\":{\"opt_level\":\"2\",\"debuginfo\":null,\"debug_assertions\":true,\"overflow_checks\":true,\"test\":false},\"features\":[],\"filenames\":[\"/tmp/.tmpCUQ1hT/target/aarch64-unknown-linux-gnu/debug/deps/libitoa-f9bcc97913e980eb.rlib\",\"/tmp/.tmpCUQ1hT/target/aarch64-unknown-linux-gnu/debug/deps/libitoa-f9bcc97913e980eb.rmeta\"],\"executable\":null,\"fresh\":true}\n{\"reason\":\"compiler-artifact\",\"package_id\":\"ryu 1.0.15 (registry+https://github.com/rust-lang/crates.io-index)\",\"manifest_path\":\"/usr/local/cargo/registry/src/index.crates.io-6f17d22bba15001f/ryu-1.0.15/Cargo.toml\",\"target\":{\"kind\":[\"lib\"],\"crate_types\":[\"lib\"],\"name\":\"ryu\",\"src_path\":\"/usr/local/cargo/registry/src/index.crates.io-6f17d22bba15001f/ryu-1.0.15/src/lib.rs\",\"edition\":\"2018\",\"doc\":true,\"doctest\":true,\"test\":true},\"profile\":{\"opt_level\":\"2\",\"debuginfo\":null,\"debug_assertions\":true,\"overflow_checks\":true,\"test\":false},\"features\":[],\"filenames\":[\"/tmp/.tmpCUQ1hT/target/aarch64-unknown-linux-gnu/debug/deps/libryu-03597c8a10b12b18.rlib\",\"/tmp/.tmpCUQ1hT/target/aarch64-unknown-linux-gnu/debug/deps/libryu-03597c8a10b12b18.rmeta\"],\"executable\":null,\"fresh\":true}\n{\"reason\":\"compiler-artifact\",\"package_id\":\"comfy-table 7.0.1 (registry+https://github.com/rust-lang/crates.io-index)\",\"manifest_path\":\"/usr/local/cargo/registry/src/index.crates.io-6f17d22bba15001f/comfy-table-7.0.1/Cargo.toml\",\"target\":{\"kind\":[\"lib\"],\"crate_types\":[\"lib\"],\"name\":\"comfy-table\",\"src_path\":\"/usr/local/cargo/registry/src/index.crates.io-6f17d22bba15001f/comfy-table-7.0.1/src/lib.rs\",\"edition\":\"2021\",\"doc\":true,\"doctest\":true,\"test\":true},\"profile\":{\"opt_level\":\"2\",\"debuginfo\":null,\"debug_assertions\":true,\"overflow_checks\":true,\"test\":false},\"features\":[\"crossterm\",\"tty\"],\"filenames\":[\"/tmp/.tmpCUQ1hT/target/aarch64-unknown-linux-gnu/debug/deps/libcomfy_table-15893be6e458f572.rlib\",\"/tmp/.tmpCUQ1hT/target/aarch64-unknown-linux-gnu/debug/deps/libcomfy_table-15893be6e458f572.rmeta\"],\"executable\":null,\"fresh\":true}\n{\"reason\":\"compiler-artifact\",\"package_id\":\"serde_json 1.0.104 (registry+https://github.com/rust-lang/crates.io-index)\",\"manifest_path\":\"/usr/local/cargo/registry/src/index.crates.io-6f17d22bba15001f/serde_json-1.0.104/Cargo.toml\",\"target\":{\"kind\":[\"lib\"],\"crate_types\":[\"lib\"],\"name\":\"serde_json\",\"src_path\":\"/usr/local/cargo/registry/src/index.crates.io-6f17d22bba15001f/serde_json-1.0.104/src/lib.rs\",\"edition\":\"2021\",\"doc\":true,\"doctest\":true,\"test\":true},\"profile\":{\"opt_level\":\"2\",\"debuginfo\":null,\"debug_assertions\":true,\"overflow_checks\":true,\"test\":false},\"features\":[\"default\",\"std\"],\"filenames\":[\"/tmp/.tmpCUQ1hT/target/aarch64-unknown-linux-gnu/debug/deps/libserde_json-5144ae063601c7cc.rlib\",\"/tmp/.tmpCUQ1hT/target/aarch64-unknown-linux-gnu/debug/deps/libserde_json-5144ae063601c7cc.rmeta\"],\"executable\":null,\"fresh\":true}\n{\"reason\":\"compiler-artifact\",\"package_id\":\"indexmap 2.0.0 (registry+https://github.com/rust-lang/crates.io-index)\",\"manifest_path\":\"/usr/local/cargo/registry/src/index.crates.io-6f17d22bba15001f/indexmap-2.0.0/Cargo.toml\",\"target\":{\"kind\":[\"lib\"],\"crate_types\":[\"lib\"],\"name\":\"indexmap\",\"src_path\":\"/usr/local/cargo/registry/src/index.crates.io-6f17d22bba15001f/indexmap-2.0.0/src/lib.rs\",\"edition\":\"2021\",\"doc\":true,\"doctest\":true,\"test\":true},\"profile\":{\"opt_level\":\"2\",\"debuginfo\":null,\"debug_assertions\":true,\"overflow_checks\":true,\"test\":false},\"features\":[\"default\",\"std\"],\"filenames\":[\"/tmp/.tmpCUQ1hT/target/aarch64-unknown-linux-gnu/debug/deps/libindexmap-9c2c79c88e2cc9aa.rlib\",\"/tmp/.tmpCUQ1hT/target/aarch64-unknown-linux-gnu/debug/deps/libindexmap-9c2c79c88e2cc9aa.rmeta\"],\"executable\":null,\"fresh\":true}\n{\"reason\":\"compiler-artifact\",\"package_id\":\"itoap 1.0.1 (registry+https://github.com/rust-lang/crates.io-index)\",\"manifest_path\":\"/usr/local/cargo/registry/src/index.crates.io-6f17d22bba15001f/itoap-1.0.1/Cargo.toml\",\"target\":{\"kind\":[\"lib\"],\"crate_types\":[\"lib\"],\"name\":\"itoap\",\"src_path\":\"/usr/local/cargo/registry/src/index.crates.io-6f17d22bba15001f/itoap-1.0.1/src/lib.rs\",\"edition\":\"2018\",\"doc\":true,\"doctest\":true,\"test\":true},\"profile\":{\"opt_level\":\"2\",\"debuginfo\":null,\"debug_assertions\":true,\"overflow_checks\":true,\"test\":false},\"features\":[\"alloc\",\"default\",\"simd\",\"std\"],\"filenames\":[\"/tmp/.tmpCUQ1hT/target/aarch64-unknown-linux-gnu/debug/deps/libitoap-efc0cb45d8ad6b58.rlib\",\"/tmp/.tmpCUQ1hT/target/aarch64-unknown-linux-gnu/debug/deps/libitoap-efc0cb45d8ad6b58.rmeta\"],\"executable\":null,\"fresh\":true}\n{\"reason\":\"compiler-artifact\",\"package_id\":\"xxhash-rust 0.8.6 (registry+https://github.com/rust-lang/crates.io-index)\",\"manifest_path\":\"/usr/local/cargo/registry/src/index.crates.io-6f17d22bba15001f/xxhash-rust-0.8.6/Cargo.toml\",\"target\":{\"kind\":[\"lib\"],\"crate_types\":[\"lib\"],\"name\":\"xxhash-rust\",\"src_path\":\"/usr/local/cargo/registry/src/index.crates.io-6f17d22bba15001f/xxhash-rust-0.8.6/src/lib.rs\",\"edition\":\"2018\",\"doc\":true,\"doctest\":true,\"test\":true},\"profile\":{\"opt_level\":\"2\",\"debuginfo\":null,\"debug_assertions\":true,\"overflow_checks\":true,\"test\":false},\"features\":[\"xxh3\"],\"filenames\":[\"/tmp/.tmpCUQ1hT/target/aarch64-unknown-linux-gnu/debug/deps/libxxhash_rust-e26a92155d69d561.rlib\",\"/tmp/.tmpCUQ1hT/target/aarch64-unknown-linux-gnu/debug/deps/libxxhash_rust-e26a92155d69d561.rmeta\"],\"executable\":null,\"fresh\":true}\n{\"reason\":\"compiler-artifact\",\"package_id\":\"tokio 1.29.1 (registry+https://github.com/rust-lang/crates.io-index)\",\"manifest_path\":\"/usr/local/cargo/registry/src/index.crates.io-6f17d22bba15001f/tokio-1.29.1/Cargo.toml\",\"target\":{\"kind\":[\"custom-build\"],\"crate_types\":[\"bin\"],\"name\":\"build-script-build\",\"src_path\":\"/usr/local/cargo/registry/src/index.crates.io-6f17d22bba15001f/tokio-1.29.1/build.rs\",\"edition\":\"2021\",\"doc\":false,\"doctest\":false,\"test\":false},\"profile\":{\"opt_level\":\"0\",\"debuginfo\":null,\"debug_assertions\":true,\"overflow_checks\":true,\"test\":false},\"features\":[\"default\",\"libc\",\"mio\",\"net\",\"socket2\"],\"filenames\":[\"/tmp/.tmpCUQ1hT/target/debug/build/tokio-c8b6a8f786593e5c/build-script-build\"],\"executable\":null,\"fresh\":true}\n{\"reason\":\"compiler-artifact\",\"package_id\":\"async-trait 0.1.72 (registry+https://github.com/rust-lang/crates.io-index)\",\"manifest_path\":\"/usr/local/cargo/registry/src/index.crates.io-6f17d22bba15001f/async-trait-0.1.72/Cargo.toml\",\"target\":{\"kind\":[\"custom-build\"],\"crate_types\":[\"bin\"],\"name\":\"build-script-build\",\"src_path\":\"/usr/local/cargo/registry/src/index.crates.io-6f17d22bba15001f/async-trait-0.1.72/build.rs\",\"edition\":\"2021\",\"doc\":false,\"doctest\":false,\"test\":false},\"profile\":{\"opt_level\":\"0\",\"debuginfo\":null,\"debug_assertions\":true,\"overflow_checks\":true,\"test\":false},\"features\":[],\"filenames\":[\"/tmp/.tmpCUQ1hT/target/debug/build/async-trait-595eec58e20e51d1/build-script-build\"],\"executable\":null,\"fresh\":true}\n{\"reason\":\"build-script-executed\",\"package_id\":\"tokio 1.29.1 (registry+https://github.com/rust-lang/crates.io-index)\",\"linked_libs\":[],\"linked_paths\":[],\"cfgs\":[],\"env\":[],\"out_dir\":\"/tmp/.tmpCUQ1hT/target/aarch64-unknown-linux-gnu/debug/build/tokio-951ed4c731f41634/out\"}\n{\"reason\":\"build-script-executed\",\"package_id\":\"async-trait 0.1.72 (registry+https://github.com/rust-lang/crates.io-index)\",\"linked_libs\":[],\"linked_paths\":[],\"cfgs\":[],\"env\":[],\"out_dir\":\"/tmp/.tmpCUQ1hT/target/debug/build/async-trait-5fad351de47762f8/out\"}\n{\"reason\":\"compiler-artifact\",\"package_id\":\"socket2 0.4.9 (registry+https://github.com/rust-lang/crates.io-index)\",\"manifest_path\":\"/usr/local/cargo/registry/src/index.crates.io-6f17d22bba15001f/socket2-0.4.9/Cargo.toml\",\"target\":{\"kind\":[\"lib\"],\"crate_types\":[\"lib\"],\"name\":\"socket2\",\"src_path\":\"/usr/local/cargo/registry/src/index.crates.io-6f17d22bba15001f/socket2-0.4.9/src/lib.rs\",\"edition\":\"2018\",\"doc\":true,\"doctest\":true,\"test\":true},\"profile\":{\"opt_level\":\"2\",\"debuginfo\":null,\"debug_assertions\":true,\"overflow_checks\":true,\"test\":false},\"features\":[\"all\"],\"filenames\":[\"/tmp/.tmpCUQ1hT/target/aarch64-unknown-linux-gnu/debug/deps/libsocket2-9dbd497f90bc7315.rlib\",\"/tmp/.tmpCUQ1hT/target/aarch64-unknown-linux-gnu/debug/deps/libsocket2-9dbd497f90bc7315.rmeta\"],\"executable\":null,\"fresh\":true}\n{\"reason\":\"compiler-artifact\",\"package_id\":\"tokio 1.29.1 (registry+https://github.com/rust-lang/crates.io-index)\",\"manifest_path\":\"/usr/local/cargo/registry/src/index.crates.io-6f17d22bba15001f/tokio-1.29.1/Cargo.toml\",\"target\":{\"kind\":[\"lib\"],\"crate_types\":[\"lib\"],\"name\":\"tokio\",\"src_path\":\"/usr/local/cargo/registry/src/index.crates.io-6f17d22bba15001f/tokio-1.29.1/src/lib.rs\",\"edition\":\"2021\",\"doc\":true,\"doctest\":true,\"test\":true},\"profile\":{\"opt_level\":\"2\",\"debuginfo\":null,\"debug_assertions\":true,\"overflow_checks\":true,\"test\":false},\"features\":[\"default\",\"libc\",\"mio\",\"net\",\"socket2\"],\"filenames\":[\"/tmp/.tmpCUQ1hT/target/aarch64-unknown-linux-gnu/debug/deps/libtokio-e171c64058294c3c.rlib\",\"/tmp/.tmpCUQ1hT/target/aarch64-unknown-linux-gnu/debug/deps/libtokio-e171c64058294c3c.rmeta\"],\"executable\":null,\"fresh\":true}\n{\"reason\":\"compiler-artifact\",\"package_id\":\"async-trait 0.1.72 (registry+https://github.com/rust-lang/crates.io-index)\",\"manifest_path\":\"/usr/local/cargo/registry/src/index.crates.io-6f17d22bba15001f/async-trait-0.1.72/Cargo.toml\",\"target\":{\"kind\":[\"proc-macro\"],\"crate_types\":[\"proc-macro\"],\"name\":\"async-trait\",\"src_path\":\"/usr/local/cargo/registry/src/index.crates.io-6f17d22bba15001f/async-trait-0.1.72/src/lib.rs\",\"edition\":\"2021\",\"doc\":true,\"doctest\":true,\"test\":true},\"profile\":{\"opt_level\":\"0\",\"debuginfo\":null,\"debug_assertions\":true,\"overflow_checks\":true,\"test\":false},\"features\":[],\"filenames\":[\"/tmp/.tmpCUQ1hT/target/debug/deps/libasync_trait-ea18e968b7015b30.so\"],\"executable\":null,\"fresh\":true}\n{\"reason\":\"compiler-artifact\",\"package_id\":\"lexical 6.1.1 (registry+https://github.com/rust-lang/crates.io-index)\",\"manifest_path\":\"/usr/local/cargo/registry/src/index.crates.io-6f17d22bba15001f/lexical-6.1.1/Cargo.toml\",\"target\":{\"kind\":[\"lib\"],\"crate_types\":[\"lib\"],\"name\":\"lexical\",\"src_path\":\"/usr/local/cargo/registry/src/index.crates.io-6f17d22bba15001f/lexical-6.1.1/src/lib.rs\",\"edition\":\"2018\",\"doc\":true,\"doctest\":true,\"test\":true},\"profile\":{\"opt_level\":\"2\",\"debuginfo\":null,\"debug_assertions\":true,\"overflow_checks\":true,\"test\":false},\"features\":[\"integers\",\"parse\",\"parse-integers\",\"std\"],\"filenames\":[\"/tmp/.tmpCUQ1hT/target/aarch64-unknown-linux-gnu/debug/deps/liblexical-50d0e4d3896c80f2.rlib\",\"/tmp/.tmpCUQ1hT/target/aarch64-unknown-linux-gnu/debug/deps/liblexical-50d0e4d3896c80f2.rmeta\"],\"executable\":null,\"fresh\":true}\n{\"reason\":\"compiler-artifact\",\"package_id\":\"memmap2 0.5.10 (registry+https://github.com/rust-lang/crates.io-index)\",\"manifest_path\":\"/usr/local/cargo/registry/src/index.crates.io-6f17d22bba15001f/memmap2-0.5.10/Cargo.toml\",\"target\":{\"kind\":[\"lib\"],\"crate_types\":[\"lib\"],\"name\":\"memmap2\",\"src_path\":\"/usr/local/cargo/registry/src/index.crates.io-6f17d22bba15001f/memmap2-0.5.10/src/lib.rs\",\"edition\":\"2018\",\"doc\":true,\"doctest\":true,\"test\":true},\"profile\":{\"opt_level\":\"2\",\"debuginfo\":null,\"debug_assertions\":true,\"overflow_checks\":true,\"test\":false},\"features\":[],\"filenames\":[\"/tmp/.tmpCUQ1hT/target/aarch64-unknown-linux-gnu/debug/deps/libmemmap2-77ecd4c64edda4ff.rlib\",\"/tmp/.tmpCUQ1hT/target/aarch64-unknown-linux-gnu/debug/deps/libmemmap2-77ecd4c64edda4ff.rmeta\"],\"executable\":null,\"fresh\":true}\n{\"reason\":\"compiler-artifact\",\"package_id\":\"home 0.5.5 (registry+https://github.com/rust-lang/crates.io-index)\",\"manifest_path\":\"/usr/local/cargo/registry/src/index.crates.io-6f17d22bba15001f/home-0.5.5/Cargo.toml\",\"target\":{\"kind\":[\"lib\"],\"crate_types\":[\"lib\"],\"name\":\"home\",\"src_path\":\"/usr/local/cargo/registry/src/index.crates.io-6f17d22bba15001f/home-0.5.5/src/lib.rs\",\"edition\":\"2018\",\"doc\":true,\"doctest\":true,\"test\":true},\"profile\":{\"opt_level\":\"2\",\"debuginfo\":null,\"debug_assertions\":true,\"overflow_checks\":true,\"test\":false},\"features\":[],\"filenames\":[\"/tmp/.tmpCUQ1hT/target/aarch64-unknown-linux-gnu/debug/deps/libhome-63f7666b9348139c.rlib\",\"/tmp/.tmpCUQ1hT/target/aarch64-unknown-linux-gnu/debug/deps/libhome-63f7666b9348139c.rmeta\"],\"executable\":null,\"fresh\":true}\n{\"reason\":\"compiler-artifact\",\"package_id\":\"fast-float 0.2.0 (registry+https://github.com/rust-lang/crates.io-index)\",\"manifest_path\":\"/usr/local/cargo/registry/src/index.crates.io-6f17d22bba15001f/fast-float-0.2.0/Cargo.toml\",\"target\":{\"kind\":[\"lib\"],\"crate_types\":[\"lib\"],\"name\":\"fast-float\",\"src_path\":\"/usr/local/cargo/registry/src/index.crates.io-6f17d22bba15001f/fast-float-0.2.0/src/lib.rs\",\"edition\":\"2018\",\"doc\":true,\"doctest\":true,\"test\":true},\"profile\":{\"opt_level\":\"2\",\"debuginfo\":null,\"debug_assertions\":true,\"overflow_checks\":true,\"test\":false},\"features\":[\"default\",\"std\"],\"filenames\":[\"/tmp/.tmpCUQ1hT/target/aarch64-unknown-linux-gnu/debug/deps/libfast_float-f07e793dad2c7201.rlib\",\"/tmp/.tmpCUQ1hT/target/aarch64-unknown-linux-gnu/debug/deps/libfast_float-f07e793dad2c7201.rmeta\"],\"executable\":null,\"fresh\":true}\n{\"reason\":\"compiler-artifact\",\"package_id\":\"bytes 1.4.0 (registry+https://github.com/rust-lang/crates.io-index)\",\"manifest_path\":\"/usr/local/cargo/registry/src/index.crates.io-6f17d22bba15001f/bytes-1.4.0/Cargo.toml\",\"target\":{\"kind\":[\"lib\"],\"crate_types\":[\"lib\"],\"name\":\"bytes\",\"src_path\":\"/usr/local/cargo/registry/src/index.crates.io-6f17d22bba15001f/bytes-1.4.0/src/lib.rs\",\"edition\":\"2018\",\"doc\":true,\"doctest\":true,\"test\":true},\"profile\":{\"opt_level\":\"2\",\"debuginfo\":null,\"debug_assertions\":true,\"overflow_checks\":true,\"test\":false},\"features\":[\"default\",\"std\"],\"filenames\":[\"/tmp/.tmpCUQ1hT/target/aarch64-unknown-linux-gnu/debug/deps/libbytes-4cf38b6e7a36d763.rlib\",\"/tmp/.tmpCUQ1hT/target/aarch64-unknown-linux-gnu/debug/deps/libbytes-4cf38b6e7a36d763.rmeta\"],\"executable\":null,\"fresh\":true}\n{\"reason\":\"compiler-artifact\",\"package_id\":\"strum_macros 0.25.1 (registry+https://github.com/rust-lang/crates.io-index)\",\"manifest_path\":\"/usr/local/cargo/registry/src/index.crates.io-6f17d22bba15001f/strum_macros-0.25.1/Cargo.toml\",\"target\":{\"kind\":[\"proc-macro\"],\"crate_types\":[\"proc-macro\"],\"name\":\"strum_macros\",\"src_path\":\"/usr/local/cargo/registry/src/index.crates.io-6f17d22bba15001f/strum_macros-0.25.1/src/lib.rs\",\"edition\":\"2018\",\"doc\":true,\"doctest\":true,\"test\":true},\"profile\":{\"opt_level\":\"0\",\"debuginfo\":null,\"debug_assertions\":true,\"overflow_checks\":true,\"test\":false},\"features\":[],\"filenames\":[\"/tmp/.tmpCUQ1hT/target/debug/deps/libstrum_macros-1a8869bb44925d8b.so\"],\"executable\":null,\"fresh\":true}\n{\"reason\":\"compiler-artifact\",\"package_id\":\"once_cell 1.18.0 (registry+https://github.com/rust-lang/crates.io-index)\",\"manifest_path\":\"/usr/local/cargo/registry/src/index.crates.io-6f17d22bba15001f/once_cell-1.18.0/Cargo.toml\",\"target\":{\"kind\":[\"lib\"],\"crate_types\":[\"lib\"],\"name\":\"once_cell\",\"src_path\":\"/usr/local/cargo/registry/src/index.crates.io-6f17d22bba15001f/once_cell-1.18.0/src/lib.rs\",\"edition\":\"2021\",\"doc\":true,\"doctest\":true,\"test\":true},\"profile\":{\"opt_level\":\"0\",\"debuginfo\":null,\"debug_assertions\":true,\"overflow_checks\":true,\"test\":false},\"features\":[\"alloc\",\"default\",\"race\",\"std\"],\"filenames\":[\"/tmp/.tmpCUQ1hT/target/debug/deps/libonce_cell-6f853b9529b46c15.rlib\",\"/tmp/.tmpCUQ1hT/target/debug/deps/libonce_cell-6f853b9529b46c15.rmeta\"],\"executable\":null,\"fresh\":true}\n{\"reason\":\"compiler-artifact\",\"package_id\":\"enum_dispatch 0.3.12 (registry+https://github.com/rust-lang/crates.io-index)\",\"manifest_path\":\"/usr/local/cargo/registry/src/index.crates.io-6f17d22bba15001f/enum_dispatch-0.3.12/Cargo.toml\",\"target\":{\"kind\":[\"proc-macro\"],\"crate_types\":[\"proc-macro\"],\"name\":\"enum_dispatch\",\"src_path\":\"/usr/local/cargo/registry/src/index.crates.io-6f17d22bba15001f/enum_dispatch-0.3.12/src/lib.rs\",\"edition\":\"2018\",\"doc\":true,\"doctest\":true,\"test\":true},\"profile\":{\"opt_level\":\"0\",\"debuginfo\":null,\"debug_assertions\":true,\"overflow_checks\":true,\"test\":false},\"features\":[],\"filenames\":[\"/tmp/.tmpCUQ1hT/target/debug/deps/libenum_dispatch-24494196545f3ad7.so\"],\"executable\":null,\"fresh\":true}\n{\"reason\":\"compiler-artifact\",\"package_id\":\"num-iter 0.1.43 (registry+https://github.com/rust-lang/crates.io-index)\",\"manifest_path\":\"/usr/local/cargo/registry/src/index.crates.io-6f17d22bba15001f/num-iter-0.1.43/Cargo.toml\",\"target\":{\"kind\":[\"custom-build\"],\"crate_types\":[\"bin\"],\"name\":\"build-script-build\",\"src_path\":\"/usr/local/cargo/registry/src/index.crates.io-6f17d22bba15001f/num-iter-0.1.43/build.rs\",\"edition\":\"2015\",\"doc\":false,\"doctest\":false,\"test\":false},\"profile\":{\"opt_level\":\"0\",\"debuginfo\":null,\"debug_assertions\":true,\"overflow_checks\":true,\"test\":false},\"features\":[\"i128\",\"std\"],\"filenames\":[\"/tmp/.tmpCUQ1hT/target/debug/build/num-iter-0397927c118f5941/build-script-build\"],\"executable\":null,\"fresh\":false}\n{\"reason\":\"compiler-artifact\",\"package_id\":\"num-integer 0.1.45 (registry+https://github.com/rust-lang/crates.io-index)\",\"manifest_path\":\"/usr/local/cargo/registry/src/index.crates.io-6f17d22bba15001f/num-integer-0.1.45/Cargo.toml\",\"target\":{\"kind\":[\"custom-build\"],\"crate_types\":[\"bin\"],\"name\":\"build-script-build\",\"src_path\":\"/usr/local/cargo/registry/src/index.crates.io-6f17d22bba15001f/num-integer-0.1.45/build.rs\",\"edition\":\"2015\",\"doc\":false,\"doctest\":false,\"test\":false},\"profile\":{\"opt_level\":\"0\",\"debuginfo\":null,\"debug_assertions\":true,\"overflow_checks\":true,\"test\":false},\"features\":[\"i128\",\"std\"],\"filenames\":[\"/tmp/.tmpCUQ1hT/target/debug/build/num-integer-981ad9a1dc962152/build-script-build\"],\"executable\":null,\"fresh\":false}\n{\"reason\":\"compiler-artifact\",\"package_id\":\"num-traits 0.2.16 (registry+https://github.com/rust-lang/crates.io-index)\",\"manifest_path\":\"/usr/local/cargo/registry/src/index.crates.io-6f17d22bba15001f/num-traits-0.2.16/Cargo.toml\",\"target\":{\"kind\":[\"custom-build\"],\"crate_types\":[\"bin\"],\"name\":\"build-script-build\",\"src_path\":\"/usr/local/cargo/registry/src/index.crates.io-6f17d22bba15001f/num-traits-0.2.16/build.rs\",\"edition\":\"2018\",\"doc\":false,\"doctest\":false,\"test\":false},\"profile\":{\"opt_level\":\"0\",\"debuginfo\":null,\"debug_assertions\":true,\"overflow_checks\":true,\"test\":false},\"features\":[\"default\",\"i128\",\"libm\",\"std\"],\"filenames\":[\"/tmp/.tmpCUQ1hT/target/debug/build/num-traits-3f134c34af49ad26/build-script-build\"],\"executable\":null,\"fresh\":false}\n{\"reason\":\"build-script-executed\",\"package_id\":\"num-integer 0.1.45 (registry+https://github.com/rust-lang/crates.io-index)\",\"linked_libs\":[],\"linked_paths\":[],\"cfgs\":[\"has_i128\"],\"env\":[],\"out_dir\":\"/tmp/.tmpCUQ1hT/target/aarch64-unknown-linux-gnu/debug/build/num-integer-df69db3dc131cd9f/out\"}\n{\"reason\":\"build-script-executed\",\"package_id\":\"num-iter 0.1.43 (registry+https://github.com/rust-lang/crates.io-index)\",\"linked_libs\":[],\"linked_paths\":[],\"cfgs\":[\"has_i128\",\"rustc_1_28\"],\"env\":[],\"out_dir\":\"/tmp/.tmpCUQ1hT/target/aarch64-unknown-linux-gnu/debug/build/num-iter-7557196c534e8175/out\"}\n{\"reason\":\"compiler-artifact\",\"package_id\":\"glob 0.3.1 (registry+https://github.com/rust-lang/crates.io-index)\",\"manifest_path\":\"/usr/local/cargo/registry/src/index.crates.io-6f17d22bba15001f/glob-0.3.1/Cargo.toml\",\"target\":{\"kind\":[\"lib\"],\"crate_types\":[\"lib\"],\"name\":\"glob\",\"src_path\":\"/usr/local/cargo/registry/src/index.crates.io-6f17d22bba15001f/glob-0.3.1/src/lib.rs\",\"edition\":\"2015\",\"doc\":true,\"doctest\":true,\"test\":true},\"profile\":{\"opt_level\":\"2\",\"debuginfo\":null,\"debug_assertions\":true,\"overflow_checks\":true,\"test\":false},\"features\":[],\"filenames\":[\"/tmp/.tmpCUQ1hT/target/aarch64-unknown-linux-gnu/debug/deps/libglob-d0ec4984b74d7a5e.rlib\",\"/tmp/.tmpCUQ1hT/target/aarch64-unknown-linux-gnu/debug/deps/libglob-d0ec4984b74d7a5e.rmeta\"],\"executable\":null,\"fresh\":true}\n{\"reason\":\"compiler-artifact\",\"package_id\":\"sqlparser 0.34.0 (registry+https://github.com/rust-lang/crates.io-index)\",\"manifest_path\":\"/usr/local/cargo/registry/src/index.crates.io-6f17d22bba15001f/sqlparser-0.34.0/Cargo.toml\",\"target\":{\"kind\":[\"lib\"],\"crate_types\":[\"lib\"],\"name\":\"sqlparser\",\"src_path\":\"/usr/local/cargo/registry/src/index.crates.io-6f17d22bba15001f/sqlparser-0.34.0/src/lib.rs\",\"edition\":\"2021\",\"doc\":true,\"doctest\":true,\"test\":true},\"profile\":{\"opt_level\":\"2\",\"debuginfo\":null,\"debug_assertions\":true,\"overflow_checks\":true,\"test\":false},\"features\":[\"default\",\"std\"],\"filenames\":[\"/tmp/.tmpCUQ1hT/target/aarch64-unknown-linux-gnu/debug/deps/libsqlparser-b9121373cf52f675.rlib\",\"/tmp/.tmpCUQ1hT/target/aarch64-unknown-linux-gnu/debug/deps/libsqlparser-b9121373cf52f675.rmeta\"],\"executable\":null,\"fresh\":true}\n{\"reason\":\"compiler-artifact\",\"package_id\":\"polars 0.31.1 (registry+https://github.com/rust-lang/crates.io-index)\",\"manifest_path\":\"/usr/local/cargo/registry/src/index.crates.io-6f17d22bba15001f/polars-0.31.1/Cargo.toml\",\"target\":{\"kind\":[\"custom-build\"],\"crate_types\":[\"bin\"],\"name\":\"build-script-build\",\"src_path\":\"/usr/local/cargo/registry/src/index.crates.io-6f17d22bba15001f/polars-0.31.1/build.rs\",\"edition\":\"2021\",\"doc\":false,\"doctest\":false,\"test\":false},\"profile\":{\"opt_level\":\"0\",\"debuginfo\":null,\"debug_assertions\":true,\"overflow_checks\":true,\"test\":false},\"features\":[\"concat_str\",\"csv\",\"default\",\"describe\",\"docs\",\"dtype-array\",\"dtype-categorical\",\"dtype-date\",\"dtype-datetime\",\"dtype-decimal\",\"dtype-duration\",\"dtype-full\",\"dtype-i16\",\"dtype-i8\",\"dtype-slim\",\"dtype-struct\",\"dtype-time\",\"dtype-u16\",\"dtype-u8\",\"fmt\",\"lazy\",\"log\",\"mode\",\"object\",\"polars-io\",\"polars-lazy\",\"polars-sql\",\"polars-time\",\"temporal\",\"to_dummies\",\"trigonometry\",\"zip_with\"],\"filenames\":[\"/tmp/.tmpCUQ1hT/target/debug/build/polars-7e9879780d2b2046/build-script-build\"],\"executable\":null,\"fresh\":true}\n{\"reason\":\"build-script-executed\",\"package_id\":\"polars 0.31.1 (registry+https://github.com/rust-lang/crates.io-index)\",\"linked_libs\":[],\"linked_paths\":[],\"cfgs\":[],\"env\":[],\"out_dir\":\"/tmp/.tmpCUQ1hT/target/aarch64-unknown-linux-gnu/debug/build/polars-c6d0d4ce215d8bad/out\"}\n{\"reason\":\"compiler-artifact\",\"package_id\":\"num-bigint 0.4.3 (registry+https://github.com/rust-lang/crates.io-index)\",\"manifest_path\":\"/usr/local/cargo/registry/src/index.crates.io-6f17d22bba15001f/num-bigint-0.4.3/Cargo.toml\",\"target\":{\"kind\":[\"custom-build\"],\"crate_types\":[\"bin\"],\"name\":\"build-script-build\",\"src_path\":\"/usr/local/cargo/registry/src/index.crates.io-6f17d22bba15001f/num-bigint-0.4.3/build.rs\",\"edition\":\"2018\",\"doc\":false,\"doctest\":false,\"test\":false},\"profile\":{\"opt_level\":\"0\",\"debuginfo\":null,\"debug_assertions\":true,\"overflow_checks\":true,\"test\":false},\"features\":[\"std\"],\"filenames\":[\"/tmp/.tmpCUQ1hT/target/debug/build/num-bigint-32f98664bc5a4910/build-script-build\"],\"executable\":null,\"fresh\":false}\n{\"reason\":\"compiler-artifact\",\"package_id\":\"num-rational 0.4.1 (registry+https://github.com/rust-lang/crates.io-index)\",\"manifest_path\":\"/usr/local/cargo/registry/src/index.crates.io-6f17d22bba15001f/num-rational-0.4.1/Cargo.toml\",\"target\":{\"kind\":[\"custom-build\"],\"crate_types\":[\"bin\"],\"name\":\"build-script-build\",\"src_path\":\"/usr/local/cargo/registry/src/index.crates.io-6f17d22bba15001f/num-rational-0.4.1/build.rs\",\"edition\":\"2018\",\"doc\":false,\"doctest\":false,\"test\":false},\"profile\":{\"opt_level\":\"0\",\"debuginfo\":null,\"debug_assertions\":true,\"overflow_checks\":true,\"test\":false},\"features\":[\"num-bigint\",\"num-bigint-std\",\"std\"],\"filenames\":[\"/tmp/.tmpCUQ1hT/target/debug/build/num-rational-373c0911955de4ce/build-script-build\"],\"executable\":null,\"fresh\":false}\n{\"reason\":\"build-script-executed\",\"package_id\":\"num-bigint 0.4.3 (registry+https://github.com/rust-lang/crates.io-index)\",\"linked_libs\":[],\"linked_paths\":[],\"cfgs\":[\"u64_digit\",\"has_try_from\"],\"env\":[],\"out_dir\":\"/tmp/.tmpCUQ1hT/target/aarch64-unknown-linux-gnu/debug/build/num-bigint-10f930273bf89fca/out\"}\n{\"reason\":\"build-script-executed\",\"package_id\":\"num-rational 0.4.1 (registry+https://github.com/rust-lang/crates.io-index)\",\"linked_libs\":[],\"linked_paths\":[],\"cfgs\":[\"has_int_exp_fmt\"],\"env\":[],\"out_dir\":\"/tmp/.tmpCUQ1hT/target/aarch64-unknown-linux-gnu/debug/build/num-rational-c1e1685ee0e7f26e/out\"}\n{\"reason\":\"build-script-executed\",\"package_id\":\"num-traits 0.2.16 (registry+https://github.com/rust-lang/crates.io-index)\",\"linked_libs\":[],\"linked_paths\":[],\"cfgs\":[\"has_to_int_unchecked\",\"has_reverse_bits\",\"has_leading_trailing_ones\",\"has_div_euclid\",\"has_copysign\",\"has_is_subnormal\",\"has_int_to_from_bytes\",\"has_float_to_from_bytes\"],\"env\":[],\"out_dir\":\"/tmp/.tmpCUQ1hT/target/aarch64-unknown-linux-gnu/debug/build/num-traits-fd36f4dd9a61e2ce/out\"}\n{\"reason\":\"compiler-artifact\",\"package_id\":\"atoi 2.0.0 (registry+https://github.com/rust-lang/crates.io-index)\",\"manifest_path\":\"/usr/local/cargo/registry/src/index.crates.io-6f17d22bba15001f/atoi-2.0.0/Cargo.toml\",\"target\":{\"kind\":[\"lib\"],\"crate_types\":[\"lib\"],\"name\":\"atoi\",\"src_path\":\"/usr/local/cargo/registry/src/index.crates.io-6f17d22bba15001f/atoi-2.0.0/src/lib.rs\",\"edition\":\"2021\",\"doc\":true,\"doctest\":true,\"test\":true},\"profile\":{\"opt_level\":\"2\",\"debuginfo\":null,\"debug_assertions\":true,\"overflow_checks\":true,\"test\":false},\"features\":[\"default\",\"std\"],\"filenames\":[\"/tmp/.tmpCUQ1hT/target/aarch64-unknown-linux-gnu/debug/deps/libatoi-d87d0cc70290428a.rlib\",\"/tmp/.tmpCUQ1hT/target/aarch64-unknown-linux-gnu/debug/deps/libatoi-d87d0cc70290428a.rmeta\"],\"executable\":null,\"fresh\":false}\n{\"reason\":\"compiler-artifact\",\"package_id\":\"num-traits 0.2.16 (registry+https://github.com/rust-lang/crates.io-index)\",\"manifest_path\":\"/usr/local/cargo/registry/src/index.crates.io-6f17d22bba15001f/num-traits-0.2.16/Cargo.toml\",\"target\":{\"kind\":[\"lib\"],\"crate_types\":[\"lib\"],\"name\":\"num-traits\",\"src_path\":\"/usr/local/cargo/registry/src/index.crates.io-6f17d22bba15001f/num-traits-0.2.16/src/lib.rs\",\"edition\":\"2018\",\"doc\":true,\"doctest\":true,\"test\":true},\"profile\":{\"opt_level\":\"2\",\"debuginfo\":null,\"debug_assertions\":true,\"overflow_checks\":true,\"test\":false},\"features\":[\"default\",\"i128\",\"libm\",\"std\"],\"filenames\":[\"/tmp/.tmpCUQ1hT/target/aarch64-unknown-linux-gnu/debug/deps/libnum_traits-5230b112098bd4e3.rlib\",\"/tmp/.tmpCUQ1hT/target/aarch64-unknown-linux-gnu/debug/deps/libnum_traits-5230b112098bd4e3.rmeta\"],\"executable\":null,\"fresh\":false}\n{\"reason\":\"compiler-artifact\",\"package_id\":\"argminmax 0.6.1 (registry+https://github.com/rust-lang/crates.io-index)\",\"manifest_path\":\"/usr/local/cargo/registry/src/index.crates.io-6f17d22bba15001f/argminmax-0.6.1/Cargo.toml\",\"target\":{\"kind\":[\"lib\"],\"crate_types\":[\"lib\"],\"name\":\"argminmax\",\"src_path\":\"/usr/local/cargo/registry/src/index.crates.io-6f17d22bba15001f/argminmax-0.6.1/src/lib.rs\",\"edition\":\"2021\",\"doc\":true,\"doctest\":true,\"test\":true},\"profile\":{\"opt_level\":\"2\",\"debuginfo\":null,\"debug_assertions\":true,\"overflow_checks\":true,\"test\":false},\"features\":[\"float\"],\"filenames\":[\"/tmp/.tmpCUQ1hT/target/aarch64-unknown-linux-gnu/debug/deps/libargminmax-202d7ad9e721c3fb.rlib\",\"/tmp/.tmpCUQ1hT/target/aarch64-unknown-linux-gnu/debug/deps/libargminmax-202d7ad9e721c3fb.rmeta\"],\"executable\":null,\"fresh\":false}\n{\"reason\":\"compiler-artifact\",\"package_id\":\"rand_distr 0.4.3 (registry+https://github.com/rust-lang/crates.io-index)\",\"manifest_path\":\"/usr/local/cargo/registry/src/index.crates.io-6f17d22bba15001f/rand_distr-0.4.3/Cargo.toml\",\"target\":{\"kind\":[\"lib\"],\"crate_types\":[\"lib\"],\"name\":\"rand_distr\",\"src_path\":\"/usr/local/cargo/registry/src/index.crates.io-6f17d22bba15001f/rand_distr-0.4.3/src/lib.rs\",\"edition\":\"2018\",\"doc\":true,\"doctest\":true,\"test\":true},\"profile\":{\"opt_level\":\"2\",\"debuginfo\":null,\"debug_assertions\":true,\"overflow_checks\":true,\"test\":false},\"features\":[\"alloc\",\"default\",\"std\"],\"filenames\":[\"/tmp/.tmpCUQ1hT/target/aarch64-unknown-linux-gnu/debug/deps/librand_distr-14ae1fbb10d67233.rlib\",\"/tmp/.tmpCUQ1hT/target/aarch64-unknown-linux-gnu/debug/deps/librand_distr-14ae1fbb10d67233.rmeta\"],\"executable\":null,\"fresh\":false}\n{\"reason\":\"compiler-artifact\",\"package_id\":\"num-integer 0.1.45 (registry+https://github.com/rust-lang/crates.io-index)\",\"manifest_path\":\"/usr/local/cargo/registry/src/index.crates.io-6f17d22bba15001f/num-integer-0.1.45/Cargo.toml\",\"target\":{\"kind\":[\"lib\"],\"crate_types\":[\"lib\"],\"name\":\"num-integer\",\"src_path\":\"/usr/local/cargo/registry/src/index.crates.io-6f17d22bba15001f/num-integer-0.1.45/src/lib.rs\",\"edition\":\"2015\",\"doc\":true,\"doctest\":true,\"test\":true},\"profile\":{\"opt_level\":\"2\",\"debuginfo\":null,\"debug_assertions\":true,\"overflow_checks\":true,\"test\":false},\"features\":[\"i128\",\"std\"],\"filenames\":[\"/tmp/.tmpCUQ1hT/target/aarch64-unknown-linux-gnu/debug/deps/libnum_integer-520d87868fb7c55a.rlib\",\"/tmp/.tmpCUQ1hT/target/aarch64-unknown-linux-gnu/debug/deps/libnum_integer-520d87868fb7c55a.rmeta\"],\"executable\":null,\"fresh\":false}\n{\"reason\":\"compiler-artifact\",\"package_id\":\"num-complex 0.4.3 (registry+https://github.com/rust-lang/crates.io-index)\",\"manifest_path\":\"/usr/local/cargo/registry/src/index.crates.io-6f17d22bba15001f/num-complex-0.4.3/Cargo.toml\",\"target\":{\"kind\":[\"lib\"],\"crate_types\":[\"lib\"],\"name\":\"num-complex\",\"src_path\":\"/usr/local/cargo/registry/src/index.crates.io-6f17d22bba15001f/num-complex-0.4.3/src/lib.rs\",\"edition\":\"2018\",\"doc\":true,\"doctest\":true,\"test\":true},\"profile\":{\"opt_level\":\"2\",\"debuginfo\":null,\"debug_assertions\":true,\"overflow_checks\":true,\"test\":false},\"features\":[\"std\"],\"filenames\":[\"/tmp/.tmpCUQ1hT/target/aarch64-unknown-linux-gnu/debug/deps/libnum_complex-aab59768696c5f92.rlib\",\"/tmp/.tmpCUQ1hT/target/aarch64-unknown-linux-gnu/debug/deps/libnum_complex-aab59768696c5f92.rmeta\"],\"executable\":null,\"fresh\":false}\n{\"reason\":\"compiler-artifact\",\"package_id\":\"now 0.1.3 (registry+https://github.com/rust-lang/crates.io-index)\",\"manifest_path\":\"/usr/local/cargo/registry/src/index.crates.io-6f17d22bba15001f/now-0.1.3/Cargo.toml\",\"target\":{\"kind\":[\"lib\"],\"crate_types\":[\"lib\"],\"name\":\"now\",\"src_path\":\"/usr/local/cargo/registry/src/index.crates.io-6f17d22bba15001f/now-0.1.3/src/lib.rs\",\"edition\":\"2018\",\"doc\":true,\"doctest\":true,\"test\":true},\"profile\":{\"opt_level\":\"2\",\"debuginfo\":null,\"debug_assertions\":true,\"overflow_checks\":true,\"test\":false},\"features\":[],\"filenames\":[\"/tmp/.tmpCUQ1hT/target/aarch64-unknown-linux-gnu/debug/deps/libnow-59f93c5a21cdf5ae.rlib\",\"/tmp/.tmpCUQ1hT/target/aarch64-unknown-linux-gnu/debug/deps/libnow-59f93c5a21cdf5ae.rmeta\"],\"executable\":null,\"fresh\":false}\n{\"reason\":\"compiler-artifact\",\"package_id\":\"polars-utils 0.31.1 (registry+https://github.com/rust-lang/crates.io-index)\",\"manifest_path\":\"/usr/local/cargo/registry/src/index.crates.io-6f17d22bba15001f/polars-utils-0.31.1/Cargo.toml\",\"target\":{\"kind\":[\"lib\"],\"crate_types\":[\"lib\"],\"name\":\"polars-utils\",\"src_path\":\"/usr/local/cargo/registry/src/index.crates.io-6f17d22bba15001f/polars-utils-0.31.1/src/lib.rs\",\"edition\":\"2021\",\"doc\":true,\"doctest\":true,\"test\":true},\"profile\":{\"opt_level\":\"2\",\"debuginfo\":null,\"debug_assertions\":true,\"overflow_checks\":true,\"test\":false},\"features\":[\"sysinfo\"],\"filenames\":[\"/tmp/.tmpCUQ1hT/target/aarch64-unknown-linux-gnu/debug/deps/libpolars_utils-c304a62001c13f78.rlib\",\"/tmp/.tmpCUQ1hT/target/aarch64-unknown-linux-gnu/debug/deps/libpolars_utils-c304a62001c13f78.rmeta\"],\"executable\":null,\"fresh\":false}\n{\"reason\":\"compiler-artifact\",\"package_id\":\"num-iter 0.1.43 (registry+https://github.com/rust-lang/crates.io-index)\",\"manifest_path\":\"/usr/local/cargo/registry/src/index.crates.io-6f17d22bba15001f/num-iter-0.1.43/Cargo.toml\",\"target\":{\"kind\":[\"lib\"],\"crate_types\":[\"lib\"],\"name\":\"num-iter\",\"src_path\":\"/usr/local/cargo/registry/src/index.crates.io-6f17d22bba15001f/num-iter-0.1.43/src/lib.rs\",\"edition\":\"2015\",\"doc\":true,\"doctest\":true,\"test\":true},\"profile\":{\"opt_level\":\"2\",\"debuginfo\":null,\"debug_assertions\":true,\"overflow_checks\":true,\"test\":false},\"features\":[\"i128\",\"std\"],\"filenames\":[\"/tmp/.tmpCUQ1hT/target/aarch64-unknown-linux-gnu/debug/deps/libnum_iter-79db47a3486fb826.rlib\",\"/tmp/.tmpCUQ1hT/target/aarch64-unknown-linux-gnu/debug/deps/libnum_iter-79db47a3486fb826.rmeta\"],\"executable\":null,\"fresh\":false}\n{\"reason\":\"compiler-artifact\",\"package_id\":\"approx 0.5.1 (registry+https://github.com/rust-lang/crates.io-index)\",\"manifest_path\":\"/usr/local/cargo/registry/src/index.crates.io-6f17d22bba15001f/approx-0.5.1/Cargo.toml\",\"target\":{\"kind\":[\"lib\"],\"crate_types\":[\"lib\"],\"name\":\"approx\",\"src_path\":\"/usr/local/cargo/registry/src/index.crates.io-6f17d22bba15001f/approx-0.5.1/src/lib.rs\",\"edition\":\"2015\",\"doc\":true,\"doctest\":true,\"test\":true},\"profile\":{\"opt_level\":\"2\",\"debuginfo\":null,\"debug_assertions\":true,\"overflow_checks\":true,\"test\":false},\"features\":[\"default\",\"std\"],\"filenames\":[\"/tmp/.tmpCUQ1hT/target/aarch64-unknown-linux-gnu/debug/deps/libapprox-3f8e59cb737535cb.rlib\",\"/tmp/.tmpCUQ1hT/target/aarch64-unknown-linux-gnu/debug/deps/libapprox-3f8e59cb737535cb.rmeta\"],\"executable\":null,\"fresh\":false}\n{\"reason\":\"compiler-artifact\",\"package_id\":\"chrono 0.4.26 (registry+https://github.com/rust-lang/crates.io-index)\",\"manifest_path\":\"/usr/local/cargo/registry/src/index.crates.io-6f17d22bba15001f/chrono-0.4.26/Cargo.toml\",\"target\":{\"kind\":[\"lib\"],\"crate_types\":[\"lib\"],\"name\":\"chrono\",\"src_path\":\"/usr/local/cargo/registry/src/index.crates.io-6f17d22bba15001f/chrono-0.4.26/src/lib.rs\",\"edition\":\"2021\",\"doc\":true,\"doctest\":true,\"test\":true},\"profile\":{\"opt_level\":\"2\",\"debuginfo\":null,\"debug_assertions\":true,\"overflow_checks\":true,\"test\":false},\"features\":[\"clock\",\"iana-time-zone\",\"std\",\"winapi\"],\"filenames\":[\"/tmp/.tmpCUQ1hT/target/aarch64-unknown-linux-gnu/debug/deps/libchrono-9f0b9aecaac0591f.rlib\",\"/tmp/.tmpCUQ1hT/target/aarch64-unknown-linux-gnu/debug/deps/libchrono-9f0b9aecaac0591f.rmeta\"],\"executable\":null,\"fresh\":false}\n{\"reason\":\"compiler-artifact\",\"package_id\":\"num-bigint 0.4.3 (registry+https://github.com/rust-lang/crates.io-index)\",\"manifest_path\":\"/usr/local/cargo/registry/src/index.crates.io-6f17d22bba15001f/num-bigint-0.4.3/Cargo.toml\",\"target\":{\"kind\":[\"lib\"],\"crate_types\":[\"lib\"],\"name\":\"num-bigint\",\"src_path\":\"/usr/local/cargo/registry/src/index.crates.io-6f17d22bba15001f/num-bigint-0.4.3/src/lib.rs\",\"edition\":\"2018\",\"doc\":true,\"doctest\":true,\"test\":true},\"profile\":{\"opt_level\":\"2\",\"debuginfo\":null,\"debug_assertions\":true,\"overflow_checks\":true,\"test\":false},\"features\":[\"std\"],\"filenames\":[\"/tmp/.tmpCUQ1hT/target/aarch64-unknown-linux-gnu/debug/deps/libnum_bigint-c2b86b5c1481375f.rlib\",\"/tmp/.tmpCUQ1hT/target/aarch64-unknown-linux-gnu/debug/deps/libnum_bigint-c2b86b5c1481375f.rmeta\"],\"executable\":null,\"fresh\":false}\n{\"reason\":\"compiler-artifact\",\"package_id\":\"num 0.4.1 (registry+https://github.com/rust-lang/crates.io-index)\",\"manifest_path\":\"/usr/local/cargo/registry/src/index.crates.io-6f17d22bba15001f/num-0.4.1/Cargo.toml\",\"target\":{\"kind\":[\"lib\"],\"crate_types\":[\"lib\"],\"name\":\"num\",\"src_path\":\"/usr/local/cargo/registry/src/index.crates.io-6f17d22bba15001f/num-0.4.1/src/lib.rs\",\"edition\":\"2018\",\"doc\":true,\"doctest\":true,\"test\":true},\"profile\":{\"opt_level\":\"2\",\"debuginfo\":null,\"debug_assertions\":true,\"overflow_checks\":true,\"test\":false},\"features\":[\"default\",\"num-bigint\",\"std\"],\"filenames\":[\"/tmp/.tmpCUQ1hT/target/aarch64-unknown-linux-gnu/debug/deps/libnum-e313fc00357e24d4.rlib\",\"/tmp/.tmpCUQ1hT/target/aarch64-unknown-linux-gnu/debug/deps/libnum-e313fc00357e24d4.rmeta\"],\"executable\":null,\"fresh\":false}\n{\"reason\":\"compiler-artifact\",\"package_id\":\"num-rational 0.4.1 (registry+https://github.com/rust-lang/crates.io-index)\",\"manifest_path\":\"/usr/local/cargo/registry/src/index.crates.io-6f17d22bba15001f/num-rational-0.4.1/Cargo.toml\",\"target\":{\"kind\":[\"lib\"],\"crate_types\":[\"lib\"],\"name\":\"num-rational\",\"src_path\":\"/usr/local/cargo/registry/src/index.crates.io-6f17d22bba15001f/num-rational-0.4.1/src/lib.rs\",\"edition\":\"2018\",\"doc\":true,\"doctest\":true,\"test\":true},\"profile\":{\"opt_level\":\"2\",\"debuginfo\":null,\"debug_assertions\":true,\"overflow_checks\":true,\"test\":false},\"features\":[\"num-bigint\",\"num-bigint-std\",\"std\"],\"filenames\":[\"/tmp/.tmpCUQ1hT/target/aarch64-unknown-linux-gnu/debug/deps/libnum_rational-b0f24ceb71eb81a5.rlib\",\"/tmp/.tmpCUQ1hT/target/aarch64-unknown-linux-gnu/debug/deps/libnum_rational-b0f24ceb71eb81a5.rmeta\"],\"executable\":null,\"fresh\":false}\n{\"reason\":\"compiler-artifact\",\"package_id\":\"polars-error 0.31.1 (registry+https://github.com/rust-lang/crates.io-index)\",\"manifest_path\":\"/usr/local/cargo/registry/src/index.crates.io-6f17d22bba15001f/polars-error-0.31.1/Cargo.toml\",\"target\":{\"kind\":[\"lib\"],\"crate_types\":[\"lib\"],\"name\":\"polars-error\",\"src_path\":\"/usr/local/cargo/registry/src/index.crates.io-6f17d22bba15001f/polars-error-0.31.1/src/lib.rs\",\"edition\":\"2021\",\"doc\":true,\"doctest\":true,\"test\":true},\"profile\":{\"opt_level\":\"2\",\"debuginfo\":null,\"debug_assertions\":true,\"overflow_checks\":true,\"test\":false},\"features\":[\"regex\"],\"filenames\":[\"/tmp/.tmpCUQ1hT/target/aarch64-unknown-linux-gnu/debug/deps/libpolars_error-913e0e900945831e.rlib\",\"/tmp/.tmpCUQ1hT/target/aarch64-unknown-linux-gnu/debug/deps/libpolars_error-913e0e900945831e.rmeta\"],\"executable\":null,\"fresh\":false}\n{\"reason\":\"compiler-artifact\",\"package_id\":\"smartcore 0.3.2 (registry+https://github.com/rust-lang/crates.io-index)\",\"manifest_path\":\"/usr/local/cargo/registry/src/index.crates.io-6f17d22bba15001f/smartcore-0.3.2/Cargo.toml\",\"target\":{\"kind\":[\"lib\"],\"crate_types\":[\"lib\"],\"name\":\"smartcore\",\"src_path\":\"/usr/local/cargo/registry/src/index.crates.io-6f17d22bba15001f/smartcore-0.3.2/src/lib.rs\",\"edition\":\"2021\",\"doc\":true,\"doctest\":true,\"test\":true},\"profile\":{\"opt_level\":\"2\",\"debuginfo\":null,\"debug_assertions\":true,\"overflow_checks\":true,\"test\":false},\"features\":[\"default\"],\"filenames\":[\"/tmp/.tmpCUQ1hT/target/aarch64-unknown-linux-gnu/debug/deps/libsmartcore-803a86a375cfa165.rlib\",\"/tmp/.tmpCUQ1hT/target/aarch64-unknown-linux-gnu/debug/deps/libsmartcore-803a86a375cfa165.rmeta\"],\"executable\":null,\"fresh\":false}\n{\"reason\":\"compiler-artifact\",\"package_id\":\"polars-row 0.31.1 (registry+https://github.com/rust-lang/crates.io-index)\",\"manifest_path\":\"/usr/local/cargo/registry/src/index.crates.io-6f17d22bba15001f/polars-row-0.31.1/Cargo.toml\",\"target\":{\"kind\":[\"lib\"],\"crate_types\":[\"lib\"],\"name\":\"polars-row\",\"src_path\":\"/usr/local/cargo/registry/src/index.crates.io-6f17d22bba15001f/polars-row-0.31.1/src/lib.rs\",\"edition\":\"2021\",\"doc\":true,\"doctest\":true,\"test\":true},\"profile\":{\"opt_level\":\"2\",\"debuginfo\":null,\"debug_assertions\":true,\"overflow_checks\":true,\"test\":false},\"features\":[],\"filenames\":[\"/tmp/.tmpCUQ1hT/target/aarch64-unknown-linux-gnu/debug/deps/libpolars_row-7270675092078035.rlib\",\"/tmp/.tmpCUQ1hT/target/aarch64-unknown-linux-gnu/debug/deps/libpolars_row-7270675092078035.rmeta\"],\"executable\":null,\"fresh\":false}\n{\"reason\":\"compiler-artifact\",\"package_id\":\"polars-arrow 0.31.1 (registry+https://github.com/rust-lang/crates.io-index)\",\"manifest_path\":\"/usr/local/cargo/registry/src/index.crates.io-6f17d22bba15001f/polars-arrow-0.31.1/Cargo.toml\",\"target\":{\"kind\":[\"lib\"],\"crate_types\":[\"lib\"],\"name\":\"polars-arrow\",\"src_path\":\"/usr/local/cargo/registry/src/index.crates.io-6f17d22bba15001f/polars-arrow-0.31.1/src/lib.rs\",\"edition\":\"2021\",\"doc\":true,\"doctest\":true,\"test\":true},\"profile\":{\"opt_level\":\"2\",\"debuginfo\":null,\"debug_assertions\":true,\"overflow_checks\":true,\"test\":false},\"features\":[\"atoi\",\"compute\",\"dtype-array\",\"dtype-decimal\",\"ethnum\",\"like\",\"strings\",\"temporal\"],\"filenames\":[\"/tmp/.tmpCUQ1hT/target/aarch64-unknown-linux-gnu/debug/deps/libpolars_arrow-4be4d84b0af63b99.rlib\",\"/tmp/.tmpCUQ1hT/target/aarch64-unknown-linux-gnu/debug/deps/libpolars_arrow-4be4d84b0af63b99.rmeta\"],\"executable\":null,\"fresh\":false}\n{\"reason\":\"compiler-artifact\",\"package_id\":\"polars-ops 0.31.1 (registry+https://github.com/rust-lang/crates.io-index)\",\"manifest_path\":\"/usr/local/cargo/registry/src/index.crates.io-6f17d22bba15001f/polars-ops-0.31.1/Cargo.toml\",\"target\":{\"kind\":[\"lib\"],\"crate_types\":[\"lib\"],\"name\":\"polars-ops\",\"src_path\":\"/usr/local/cargo/registry/src/index.crates.io-6f17d22bba15001f/polars-ops-0.31.1/src/lib.rs\",\"edition\":\"2021\",\"doc\":true,\"doctest\":true,\"test\":true},\"profile\":{\"opt_level\":\"2\",\"debuginfo\":null,\"debug_assertions\":true,\"overflow_checks\":true,\"test\":false},\"features\":[\"cross_join\",\"dtype-array\",\"dtype-categorical\",\"dtype-date\",\"dtype-datetime\",\"dtype-decimal\",\"dtype-duration\",\"dtype-i16\",\"dtype-i8\",\"dtype-struct\",\"dtype-time\",\"dtype-u16\",\"dtype-u8\",\"log\",\"round_series\",\"search_sorted\",\"strings\",\"to_dummies\"],\"filenames\":[\"/tmp/.tmpCUQ1hT/target/aarch64-unknown-linux-gnu/debug/deps/libpolars_ops-242f6108dd45a78b.rlib\",\"/tmp/.tmpCUQ1hT/target/aarch64-unknown-linux-gnu/debug/deps/libpolars_ops-242f6108dd45a78b.rmeta\"],\"executable\":null,\"fresh\":false}\n{\"reason\":\"compiler-artifact\",\"package_id\":\"polars-time 0.31.1 (registry+https://github.com/rust-lang/crates.io-index)\",\"manifest_path\":\"/usr/local/cargo/registry/src/index.crates.io-6f17d22bba15001f/polars-time-0.31.1/Cargo.toml\",\"target\":{\"kind\":[\"lib\"],\"crate_types\":[\"lib\"],\"name\":\"polars-time\",\"src_path\":\"/usr/local/cargo/registry/src/index.crates.io-6f17d22bba15001f/polars-time-0.31.1/src/lib.rs\",\"edition\":\"2021\",\"doc\":true,\"doctest\":true,\"test\":true},\"profile\":{\"opt_level\":\"2\",\"debuginfo\":null,\"debug_assertions\":true,\"overflow_checks\":true,\"test\":false},\"features\":[\"default\",\"dtype-date\",\"dtype-datetime\",\"dtype-duration\",\"dtype-time\"],\"filenames\":[\"/tmp/.tmpCUQ1hT/target/aarch64-unknown-linux-gnu/debug/deps/libpolars_time-135054296dfd126c.rlib\",\"/tmp/.tmpCUQ1hT/target/aarch64-unknown-linux-gnu/debug/deps/libpolars_time-135054296dfd126c.rmeta\"],\"executable\":null,\"fresh\":false}\n{\"reason\":\"compiler-artifact\",\"package_id\":\"polars-io 0.31.1 (registry+https://github.com/rust-lang/crates.io-index)\",\"manifest_path\":\"/usr/local/cargo/registry/src/index.crates.io-6f17d22bba15001f/polars-io-0.31.1/Cargo.toml\",\"target\":{\"kind\":[\"lib\"],\"crate_types\":[\"lib\"],\"name\":\"polars-io\",\"src_path\":\"/usr/local/cargo/registry/src/index.crates.io-6f17d22bba15001f/polars-io-0.31.1/src/lib.rs\",\"edition\":\"2021\",\"doc\":true,\"doctest\":true,\"test\":true},\"profile\":{\"opt_level\":\"2\",\"debuginfo\":null,\"debug_assertions\":true,\"overflow_checks\":true,\"test\":false},\"features\":[\"async\",\"async-trait\",\"chrono\",\"csv\",\"dtype-categorical\",\"dtype-date\",\"dtype-datetime\",\"dtype-decimal\",\"dtype-struct\",\"dtype-time\",\"fast-float\",\"futures\",\"ipc\",\"lazy\",\"lexical\",\"lexical-core\",\"memmap\",\"object\",\"polars-time\",\"simdutf8\",\"temporal\",\"tokio\"],\"filenames\":[\"/tmp/.tmpCUQ1hT/target/aarch64-unknown-linux-gnu/debug/deps/libpolars_io-6f718ff05dc93da0.rlib\",\"/tmp/.tmpCUQ1hT/target/aarch64-unknown-linux-gnu/debug/deps/libpolars_io-6f718ff05dc93da0.rmeta\"],\"executable\":null,\"fresh\":false}\n{\"reason\":\"compiler-artifact\",\"package_id\":\"polars-pipe 0.31.1 (registry+https://github.com/rust-lang/crates.io-index)\",\"manifest_path\":\"/usr/local/cargo/registry/src/index.crates.io-6f17d22bba15001f/polars-pipe-0.31.1/Cargo.toml\",\"target\":{\"kind\":[\"lib\"],\"crate_types\":[\"lib\"],\"name\":\"polars-pipe\",\"src_path\":\"/usr/local/cargo/registry/src/index.crates.io-6f17d22bba15001f/polars-pipe-0.31.1/src/lib.rs\",\"edition\":\"2021\",\"doc\":true,\"doctest\":true,\"test\":true},\"profile\":{\"opt_level\":\"2\",\"debuginfo\":null,\"debug_assertions\":true,\"overflow_checks\":true,\"test\":false},\"features\":[\"cross_join\",\"csv\",\"dtype-array\",\"dtype-categorical\",\"dtype-decimal\",\"dtype-i16\",\"dtype-i8\",\"dtype-u16\",\"dtype-u8\"],\"filenames\":[\"/tmp/.tmpCUQ1hT/target/aarch64-unknown-linux-gnu/debug/deps/libpolars_pipe-eca8369015617e8a.rlib\",\"/tmp/.tmpCUQ1hT/target/aarch64-unknown-linux-gnu/debug/deps/libpolars_pipe-eca8369015617e8a.rmeta\"],\"executable\":null,\"fresh\":false}\n{\"reason\":\"compiler-artifact\",\"package_id\":\"arrow2 0.17.3 (registry+https://github.com/rust-lang/crates.io-index)\",\"manifest_path\":\"/usr/local/cargo/registry/src/index.crates.io-6f17d22bba15001f/arrow2-0.17.3/Cargo.toml\",\"target\":{\"kind\":[\"lib\"],\"crate_types\":[\"lib\"],\"name\":\"arrow2\",\"src_path\":\"/usr/local/cargo/registry/src/index.crates.io-6f17d22bba15001f/arrow2-0.17.3/src/lib.rs\",\"edition\":\"2021\",\"doc\":true,\"doctest\":true,\"test\":true},\"profile\":{\"opt_level\":\"2\",\"debuginfo\":null,\"debug_assertions\":true,\"overflow_checks\":true,\"test\":false},\"features\":[\"arrow-format\",\"compute_aggregate\",\"compute_arithmetics\",\"compute_arithmetics_decimal\",\"compute_boolean\",\"compute_boolean_kleene\",\"compute_cast\",\"compute_comparison\",\"compute_concatenate\",\"compute_filter\",\"compute_if_then_else\",\"compute_like\",\"compute_substring\",\"compute_take\",\"compute_temporal\",\"futures\",\"io_ipc\",\"io_ipc_compression\",\"io_ipc_write_async\",\"lexical-core\",\"lz4\",\"multiversion\",\"regex\",\"regex-syntax\",\"strength_reduce\",\"zstd\"],\"filenames\":[\"/tmp/.tmpCUQ1hT/target/aarch64-unknown-linux-gnu/debug/deps/libarrow2-c2801577b45971e8.rlib\",\"/tmp/.tmpCUQ1hT/target/aarch64-unknown-linux-gnu/debug/deps/libarrow2-c2801577b45971e8.rmeta\"],\"executable\":null,\"fresh\":false}\n{\"reason\":\"compiler-artifact\",\"package_id\":\"polars-plan 0.31.1 (registry+https://github.com/rust-lang/crates.io-index)\",\"manifest_path\":\"/usr/local/cargo/registry/src/index.crates.io-6f17d22bba15001f/polars-plan-0.31.1/Cargo.toml\",\"target\":{\"kind\":[\"lib\"],\"crate_types\":[\"lib\"],\"name\":\"polars-plan\",\"src_path\":\"/usr/local/cargo/registry/src/index.crates.io-6f17d22bba15001f/polars-plan-0.31.1/src/lib.rs\",\"edition\":\"2021\",\"doc\":true,\"doctest\":true,\"test\":true},\"profile\":{\"opt_level\":\"2\",\"debuginfo\":null,\"debug_assertions\":true,\"overflow_checks\":true,\"test\":false},\"features\":[\"abs\",\"compile\",\"concat_str\",\"cross_join\",\"csv\",\"cum_agg\",\"default\",\"dtype-array\",\"dtype-categorical\",\"dtype-date\",\"dtype-datetime\",\"dtype-decimal\",\"dtype-duration\",\"dtype-i16\",\"dtype-i8\",\"dtype-struct\",\"dtype-time\",\"dtype-u16\",\"dtype-u8\",\"is_in\",\"log\",\"meta\",\"mode\",\"object\",\"polars-time\",\"regex\",\"round_series\",\"strings\",\"temporal\",\"trigonometry\"],\"filenames\":[\"/tmp/.tmpCUQ1hT/target/aarch64-unknown-linux-gnu/debug/deps/libpolars_plan-a61b445be7684f9e.rlib\",\"/tmp/.tmpCUQ1hT/target/aarch64-unknown-linux-gnu/debug/deps/libpolars_plan-a61b445be7684f9e.rmeta\"],\"executable\":null,\"fresh\":false}\n{\"reason\":\"compiler-artifact\",\"package_id\":\"polars 0.31.1 (registry+https://github.com/rust-lang/crates.io-index)\",\"manifest_path\":\"/usr/local/cargo/registry/src/index.crates.io-6f17d22bba15001f/polars-0.31.1/Cargo.toml\",\"target\":{\"kind\":[\"lib\"],\"crate_types\":[\"lib\"],\"name\":\"polars\",\"src_path\":\"/usr/local/cargo/registry/src/index.crates.io-6f17d22bba15001f/polars-0.31.1/src/lib.rs\",\"edition\":\"2021\",\"doc\":true,\"doctest\":true,\"test\":true},\"profile\":{\"opt_level\":\"2\",\"debuginfo\":null,\"debug_assertions\":true,\"overflow_checks\":true,\"test\":false},\"features\":[\"concat_str\",\"csv\",\"default\",\"describe\",\"docs\",\"dtype-array\",\"dtype-categorical\",\"dtype-date\",\"dtype-datetime\",\"dtype-decimal\",\"dtype-duration\",\"dtype-full\",\"dtype-i16\",\"dtype-i8\",\"dtype-slim\",\"dtype-struct\",\"dtype-time\",\"dtype-u16\",\"dtype-u8\",\"fmt\",\"lazy\",\"log\",\"mode\",\"object\",\"polars-io\",\"polars-lazy\",\"polars-sql\",\"polars-time\",\"temporal\",\"to_dummies\",\"trigonometry\",\"zip_with\"],\"filenames\":[\"/tmp/.tmpCUQ1hT/target/aarch64-unknown-linux-gnu/debug/deps/libpolars-c9e9d51e07949fcb.rlib\",\"/tmp/.tmpCUQ1hT/target/aarch64-unknown-linux-gnu/debug/deps/libpolars-c9e9d51e07949fcb.rmeta\"],\"executable\":null,\"fresh\":false}\n{\"reason\":\"compiler-artifact\",\"package_id\":\"polars-sql 0.31.1 (registry+https://github.com/rust-lang/crates.io-index)\",\"manifest_path\":\"/usr/local/cargo/registry/src/index.crates.io-6f17d22bba15001f/polars-sql-0.31.1/Cargo.toml\",\"target\":{\"kind\":[\"lib\"],\"crate_types\":[\"lib\"],\"name\":\"polars-sql\",\"src_path\":\"/usr/local/cargo/registry/src/index.crates.io-6f17d22bba15001f/polars-sql-0.31.1/src/lib.rs\",\"edition\":\"2021\",\"doc\":true,\"doctest\":true,\"test\":true},\"profile\":{\"opt_level\":\"2\",\"debuginfo\":null,\"debug_assertions\":true,\"overflow_checks\":true,\"test\":false},\"features\":[\"csv\"],\"filenames\":[\"/tmp/.tmpCUQ1hT/target/aarch64-unknown-linux-gnu/debug/deps/libpolars_sql-ab47ce25a3b807bf.rlib\",\"/tmp/.tmpCUQ1hT/target/aarch64-unknown-linux-gnu/debug/deps/libpolars_sql-ab47ce25a3b807bf.rmeta\"],\"executable\":null,\"fresh\":false}\n{\"reason\":\"compiler-artifact\",\"package_id\":\"polars-lazy 0.31.1 (registry+https://github.com/rust-lang/crates.io-index)\",\"manifest_path\":\"/usr/local/cargo/registry/src/index.crates.io-6f17d22bba15001f/polars-lazy-0.31.1/Cargo.toml\",\"target\":{\"kind\":[\"lib\"],\"crate_types\":[\"lib\"],\"name\":\"polars-lazy\",\"src_path\":\"/usr/local/cargo/registry/src/index.crates.io-6f17d22bba15001f/polars-lazy-0.31.1/src/lib.rs\",\"edition\":\"2021\",\"doc\":true,\"doctest\":true,\"test\":true},\"profile\":{\"opt_level\":\"2\",\"debuginfo\":null,\"debug_assertions\":true,\"overflow_checks\":true,\"test\":false},\"features\":[\"abs\",\"compile\",\"concat_str\",\"cross_join\",\"csv\",\"cum_agg\",\"default\",\"dtype-array\",\"dtype-categorical\",\"dtype-date\",\"dtype-datetime\",\"dtype-decimal\",\"dtype-duration\",\"dtype-i16\",\"dtype-i8\",\"dtype-struct\",\"dtype-time\",\"dtype-u16\",\"dtype-u8\",\"is_in\",\"log\",\"meta\",\"mode\",\"object\",\"polars-pipe\",\"polars-time\",\"regex\",\"round_series\",\"strings\",\"temporal\",\"trigonometry\"],\"filenames\":[\"/tmp/.tmpCUQ1hT/target/aarch64-unknown-linux-gnu/debug/deps/libpolars_lazy-271da89216fffa9c.rlib\",\"/tmp/.tmpCUQ1hT/target/aarch64-unknown-linux-gnu/debug/deps/libpolars_lazy-271da89216fffa9c.rmeta\"],\"executable\":null,\"fresh\":false}\n{\"reason\":\"build-finished\",\"success\":false}\n\n"
     ]
    }
   ],
   "source": [
    "fn convert_features_to_matrix(df: &DataFrame) -> Result<DenseMatrix<f64>> {\n",
    "    let nrows = df.height();\n",
    "    let ncols = df.width();\n",
    "\n",
    "    let features_res = df.to_ndarray::<Float64Type>().unwrap();\n",
    "    let mut xmatrix: DenseMatrix<f64> = BaseMatrix::zeros(nrows, ncols);\n",
    "\n",
    "    let mut col: u32 = 0;\n",
    "    let mut row: u32 = 0;\n",
    "\n",
    "    for val in features_res.iter() {\n",
    "        let m_row = usize::try_from(row).unwrap();\n",
    "        let m_col = usize::try_from(col).unwrap();\n",
    "        xmatrix.set(m_row, m_col, *val);\n",
    "        if m_col == ncols - 1 {\n",
    "            row += 1;\n",
    "            col = 0;\n",
    "        } else {\n",
    "            col += 1;\n",
    "        }\n",
    "    }\n",
    "    Ok(xmatrix)\n",
    "}\n",
    "\n",
    "let df_sales_customer = df_receipt.clone()\n",
    "    .groupby([\"customer_id\"]).agg([col(\"amount\").sum()])\n",
    "    .filter(col(\"amount\") > 0);\n",
    "\n",
    "let df_train =\n",
    "\n",
    "let df_test = df_sales_customer.clone()\n",
    "    .with_row_count(\"id\")\n",
    "    .with_column(col(\"id\").shuffle() < 0.8 * all().len())\n",
    "    .partition_by(\"id\");\n",
    "\n",
    "println(\n",
    "    \"{:?}\\n{:?}\\n{:?}\"\n",
    "    df_train.shape(),\n",
    "    df_test.shape(),\n",
    "    df_sales_customer.shape(),\n",
    ")"
   ]
  },
  {
   "cell_type": "markdown",
   "metadata": {},
   "source": [
    "---\n",
    "> P-090: レシート明細データ（df_receipt）は2017年1月1日〜2019年10月31日までのデータを有している。売上金額（amount）を月次で集計し、学習用に12ヶ月、テスト用に6ヶ月の時系列モデル構築用データを3セット作成せよ。"
   ]
  },
  {
   "cell_type": "code",
   "execution_count": 127,
   "metadata": {
    "vscode": {
     "languageId": "rust"
    }
   },
   "outputs": [
    {
     "name": "stdout",
     "output_type": "stream",
     "text": [
      "df_train1:\n",
      "shape: (12, 2)\n",
      "┌───────────┬────────┐\n",
      "│ sales_ymd ┆ amount │\n",
      "│ ---       ┆ ---    │\n",
      "│ i64       ┆ i64    │\n",
      "╞═══════════╪════════╡\n",
      "│ 201701    ┆ 902056 │\n",
      "│ 201702    ┆ 764413 │\n",
      "│ 201703    ┆ 962945 │\n",
      "│ 201704    ┆ 847566 │\n",
      "│ …         ┆ …      │\n",
      "│ 201709    ┆ 902037 │\n",
      "│ 201710    ┆ 905739 │\n",
      "│ 201711    ┆ 932157 │\n",
      "│ 201712    ┆ 939654 │\n",
      "└───────────┴────────┘\n",
      "df_test1:\n",
      "shape: (6, 2)\n",
      "┌───────────┬─────────┐\n",
      "│ sales_ymd ┆ amount  │\n",
      "│ ---       ┆ ---     │\n",
      "│ i64       ┆ i64     │\n",
      "╞═══════════╪═════════╡\n",
      "│ 201801    ┆ 944509  │\n",
      "│ 201802    ┆ 864128  │\n",
      "│ 201803    ┆ 946588  │\n",
      "│ 201804    ┆ 937099  │\n",
      "│ 201805    ┆ 1004438 │\n",
      "│ 201806    ┆ 1012329 │\n",
      "└───────────┴─────────┘\n",
      "df_train2:\n",
      "shape: (12, 2)\n",
      "┌───────────┬─────────┐\n",
      "│ sales_ymd ┆ amount  │\n",
      "│ ---       ┆ ---     │\n",
      "│ i64       ┆ i64     │\n",
      "╞═══════════╪═════════╡\n",
      "│ 201707    ┆ 959205  │\n",
      "│ 201708    ┆ 954836  │\n",
      "│ 201709    ┆ 902037  │\n",
      "│ 201710    ┆ 905739  │\n",
      "│ …         ┆ …       │\n",
      "│ 201803    ┆ 946588  │\n",
      "│ 201804    ┆ 937099  │\n",
      "│ 201805    ┆ 1004438 │\n",
      "│ 201806    ┆ 1012329 │\n",
      "└───────────┴─────────┘\n",
      "df_test2:\n",
      "shape: (6, 2)\n",
      "┌───────────┬─────────┐\n",
      "│ sales_ymd ┆ amount  │\n",
      "│ ---       ┆ ---     │\n",
      "│ i64       ┆ i64     │\n",
      "╞═══════════╪═════════╡\n",
      "│ 201807    ┆ 1058472 │\n",
      "│ 201808    ┆ 1045793 │\n",
      "│ 201809    ┆ 977114  │\n",
      "│ 201810    ┆ 1069939 │\n",
      "│ 201811    ┆ 967479  │\n",
      "│ 201812    ┆ 1016425 │\n",
      "└───────────┴─────────┘\n",
      "df_train3:\n",
      "shape: (12, 2)\n",
      "┌───────────┬─────────┐\n",
      "│ sales_ymd ┆ amount  │\n",
      "│ ---       ┆ ---     │\n",
      "│ i64       ┆ i64     │\n",
      "╞═══════════╪═════════╡\n",
      "│ 201801    ┆ 944509  │\n",
      "│ 201802    ┆ 864128  │\n",
      "│ 201803    ┆ 946588  │\n",
      "│ 201804    ┆ 937099  │\n",
      "│ …         ┆ …       │\n",
      "│ 201809    ┆ 977114  │\n",
      "│ 201810    ┆ 1069939 │\n",
      "│ 201811    ┆ 967479  │\n",
      "│ 201812    ┆ 1016425 │\n",
      "└───────────┴─────────┘\n",
      "df_test3:\n",
      "shape: (6, 2)\n",
      "┌───────────┬─────────┐\n",
      "│ sales_ymd ┆ amount  │\n",
      "│ ---       ┆ ---     │\n",
      "│ i64       ┆ i64     │\n",
      "╞═══════════╪═════════╡\n",
      "│ 201901    ┆ 1064085 │\n",
      "│ 201902    ┆ 959538  │\n",
      "│ 201903    ┆ 1093753 │\n",
      "│ 201904    ┆ 1044210 │\n",
      "│ 201905    ┆ 1111985 │\n",
      "│ 201906    ┆ 1089063 │\n",
      "└───────────┴─────────┘\n",
      "\n"
     ]
    }
   ],
   "source": [
    "let df_ts_amount = df_receipt.clone()\n",
    "    .groupby([col(\"sales_ymd\") / lit(100)]).agg([col(\"amount\").sum()])\n",
    "    .sort(\n",
    "        \"sales_ymd\",\n",
    "        SortOptions {\n",
    "            descending: false,\n",
    "            nulls_last: true,\n",
    "            multithreaded: true,\n",
    "            maintain_order: true\n",
    "        }\n",
    "    );\n",
    "\n",
    "fn split_data(df: LazyFrame, train_size: u32, test_size: u32, slide_window: i64, start_point: i64) -> (LazyFrame, LazyFrame) {\n",
    "    let train_start = start_point * slide_window;\n",
    "    let test_start = train_start + train_size as i64;\n",
    "    (df.clone().slice(train_start, train_size), df.clone().slice(test_start, test_size))\n",
    "}\n",
    "\n",
    "let (df_train_1, df_test_1) = split_data(df_ts_amount.clone(), 12, 6, 6, 0);\n",
    "let (df_train_2, df_test_2) = split_data(df_ts_amount.clone(), 12, 6, 6, 1);\n",
    "let (df_train_3, df_test_3) = split_data(df_ts_amount.clone(), 12, 6, 6, 2);\n",
    "\n",
    "println!(\n",
    "    \"df_train1:\\n{:?}\\ndf_test1:\\n{:?}\\ndf_train2:\\n{:?}\\ndf_test2:\\n{:?}\\ndf_train3:\\n{:?}\\ndf_test3:\\n{:?}\\n\",    \n",
    "    df_train_1.collect().unwrap(),\n",
    "    df_test_1.collect().unwrap(),\n",
    "    df_train_2.collect().unwrap(),\n",
    "    df_test_2.collect().unwrap(),\n",
    "    df_train_3.collect().unwrap(),\n",
    "    df_test_3.collect().unwrap(),\n",
    ");"
   ]
  },
  {
   "cell_type": "markdown",
   "metadata": {},
   "source": [
    "---\n",
    "> P-091: 顧客データ（df_customer）の各顧客に対し、売上実績がある顧客数と売上実績がない顧客数が1:1となるようにアンダーサンプリングで抽出せよ。"
   ]
  },
  {
   "cell_type": "code",
   "execution_count": null,
   "metadata": {
    "vscode": {
     "languageId": "rust"
    }
   },
   "outputs": [],
   "source": []
  },
  {
   "cell_type": "markdown",
   "metadata": {},
   "source": [
    "---\n",
    "> P-092: 顧客データ（df_customer）の性別について、第三正規形へと正規化せよ。"
   ]
  },
  {
   "cell_type": "code",
   "execution_count": 145,
   "metadata": {
    "vscode": {
     "languageId": "rust"
    }
   },
   "outputs": [],
   "source": [
    "let df_gender_std: LazyFrame = df_customer.clone()\n",
    "    .select([col(\"gender_cd\"), col(\"gender\")])\n",
    "    .unique(\n",
    "        Some(vec![\"gender_cd\".to_string(), \"gender\".to_string()]),\n",
    "        UniqueKeepStrategy::First\n",
    "    );\n",
    "let df_customer_std: LazyFrame = df_customer.clone().drop_columns([\"gender\"]);"
   ]
  },
  {
   "cell_type": "code",
   "execution_count": 146,
   "metadata": {
    "vscode": {
     "languageId": "rust"
    }
   },
   "outputs": [
    {
     "data": {
      "text/plain": [
       "shape: (3, 10)\n",
       "┌───────────┬───────────┬───────────┬───────────┬───┬───────────┬───────────┬───────────┬──────────┐\n",
       "│ customer_ ┆ customer_ ┆ gender_cd ┆ birth_day ┆ … ┆ address   ┆ applicati ┆ applicati ┆ status_c │\n",
       "│ id        ┆ name      ┆ ---       ┆ ---       ┆   ┆ ---       ┆ on_store_ ┆ on_date   ┆ d        │\n",
       "│ ---       ┆ ---       ┆ str       ┆ date      ┆   ┆ str       ┆ cd        ┆ ---       ┆ ---      │\n",
       "│ str       ┆ str       ┆           ┆           ┆   ┆           ┆ ---       ┆ str       ┆ str      │\n",
       "│           ┆           ┆           ┆           ┆   ┆           ┆ str       ┆           ┆          │\n",
       "╞═══════════╪═══════════╪═══════════╪═══════════╪═══╪═══════════╪═══════════╪═══════════╪══════════╡\n",
       "│ CS0213130 ┆ 大野      ┆ 1         ┆ 1981-04-2 ┆ … ┆ 神奈川県  ┆ S14021    ┆ 20150905  ┆ 0-000000 │\n",
       "│ 00114     ┆ あや子    ┆           ┆ 9         ┆   ┆ 伊勢原市  ┆           ┆           ┆ 00-0     │\n",
       "│           ┆           ┆           ┆           ┆   ┆ 粟窪***** ┆           ┆           ┆          │\n",
       "│           ┆           ┆           ┆           ┆   ┆ *****     ┆           ┆           ┆          │\n",
       "│ CS0376130 ┆ 六角 雅彦 ┆ 9         ┆ 1952-04-0 ┆ … ┆ 東京都江  ┆ S13037    ┆ 20150414  ┆ 0-000000 │\n",
       "│ 00071     ┆           ┆           ┆ 1         ┆   ┆ 東区南砂* ┆           ┆           ┆ 00-0     │\n",
       "│           ┆           ┆           ┆           ┆   ┆ ********* ┆           ┆           ┆          │\n",
       "│ CS0314150 ┆ 宇多田    ┆ 1         ┆ 1976-10-0 ┆ … ┆ 東京都渋  ┆ S13031    ┆ 20150529  ┆ D-201003 │\n",
       "│ 00172     ┆ 貴美子    ┆           ┆ 4         ┆   ┆ 谷区代々  ┆           ┆           ┆ 25-C     │\n",
       "│           ┆           ┆           ┆           ┆   ┆ 木******* ┆           ┆           ┆          │\n",
       "│           ┆           ┆           ┆           ┆   ┆ ***       ┆           ┆           ┆          │\n",
       "└───────────┴───────────┴───────────┴───────────┴───┴───────────┴───────────┴───────────┴──────────┘"
      ]
     },
     "execution_count": 146,
     "metadata": {},
     "output_type": "execute_result"
    }
   ],
   "source": [
    "df_customer_std.collect().unwrap().head(Some(3))"
   ]
  },
  {
   "cell_type": "code",
   "execution_count": 147,
   "metadata": {
    "vscode": {
     "languageId": "rust"
    }
   },
   "outputs": [
    {
     "data": {
      "text/plain": [
       "shape: (3, 2)\n",
       "┌───────────┬────────┐\n",
       "│ gender_cd ┆ gender │\n",
       "│ ---       ┆ ---    │\n",
       "│ str       ┆ str    │\n",
       "╞═══════════╪════════╡\n",
       "│ 1         ┆ 女性   │\n",
       "│ 9         ┆ 不明   │\n",
       "│ 0         ┆ 男性   │\n",
       "└───────────┴────────┘"
      ]
     },
     "execution_count": 147,
     "metadata": {},
     "output_type": "execute_result"
    }
   ],
   "source": [
    "df_gender_std.collect().unwrap().head(Some(3))"
   ]
  },
  {
   "cell_type": "markdown",
   "metadata": {},
   "source": [
    "---\n",
    "> P-093: 商品データ（df_product）では各カテゴリのコード値だけを保有し、カテゴリ名は保有していない。カテゴリデータ（df_category）と組み合わせて非正規化し、カテゴリ名を保有した新たな商品データを作成せよ。"
   ]
  },
  {
   "cell_type": "code",
   "execution_count": 167,
   "metadata": {
    "vscode": {
     "languageId": "rust"
    }
   },
   "outputs": [
    {
     "data": {
      "text/plain": [
       "shape: (10_030, 9)\n",
       "┌───────────┬───────────┬───────────┬───────────┬───┬───────────┬───────────┬───────────┬──────────┐\n",
       "│ product_c ┆ category_ ┆ category_ ┆ category_ ┆ … ┆ unit_cost ┆ category_ ┆ category_ ┆ category │\n",
       "│ d         ┆ major_cd  ┆ medium_cd ┆ small_cd  ┆   ┆ ---       ┆ major_nam ┆ medium_na ┆ _small_n │\n",
       "│ ---       ┆ ---       ┆ ---       ┆ ---       ┆   ┆ i64       ┆ e         ┆ me        ┆ ame      │\n",
       "│ str       ┆ str       ┆ str       ┆ str       ┆   ┆           ┆ ---       ┆ ---       ┆ ---      │\n",
       "│           ┆           ┆           ┆           ┆   ┆           ┆ str       ┆ str       ┆ str      │\n",
       "╞═══════════╪═══════════╪═══════════╪═══════════╪═══╪═══════════╪═══════════╪═══════════╪══════════╡\n",
       "│ P04010100 ┆ 04        ┆ 0401      ┆ 040101    ┆ … ┆ 149       ┆ 惣菜      ┆ 御飯類    ┆ 弁当類   │\n",
       "│ 1         ┆           ┆           ┆           ┆   ┆           ┆           ┆           ┆          │\n",
       "│ P04010100 ┆ 04        ┆ 0401      ┆ 040101    ┆ … ┆ 164       ┆ 惣菜      ┆ 御飯類    ┆ 弁当類   │\n",
       "│ 2         ┆           ┆           ┆           ┆   ┆           ┆           ┆           ┆          │\n",
       "│ P04010100 ┆ 04        ┆ 0401      ┆ 040101    ┆ … ┆ 173       ┆ 惣菜      ┆ 御飯類    ┆ 弁当類   │\n",
       "│ 3         ┆           ┆           ┆           ┆   ┆           ┆           ┆           ┆          │\n",
       "│ P04010100 ┆ 04        ┆ 0401      ┆ 040101    ┆ … ┆ 186       ┆ 惣菜      ┆ 御飯類    ┆ 弁当類   │\n",
       "│ 4         ┆           ┆           ┆           ┆   ┆           ┆           ┆           ┆          │\n",
       "│ …         ┆ …         ┆ …         ┆ …         ┆ … ┆ …         ┆ …         ┆ …         ┆ …        │\n",
       "│ P09150300 ┆ 09        ┆ 0915      ┆ 091503    ┆ … ┆ 510       ┆ 洗剤      ┆ ＤＩＹ用  ┆ 園芸用品 │\n",
       "│ 2         ┆           ┆           ┆           ┆   ┆           ┆           ┆ 品        ┆          │\n",
       "│ P09150300 ┆ 09        ┆ 0915      ┆ 091503    ┆ … ┆ 810       ┆ 洗剤      ┆ ＤＩＹ用  ┆ 園芸用品 │\n",
       "│ 3         ┆           ┆           ┆           ┆   ┆           ┆           ┆ 品        ┆          │\n",
       "│ P09150300 ┆ 09        ┆ 0915      ┆ 091503    ┆ … ┆ 848       ┆ 洗剤      ┆ ＤＩＹ用  ┆ 園芸用品 │\n",
       "│ 4         ┆           ┆           ┆           ┆   ┆           ┆           ┆ 品        ┆          │\n",
       "│ P09150300 ┆ 09        ┆ 0915      ┆ 091503    ┆ … ┆ 960       ┆ 洗剤      ┆ ＤＩＹ用  ┆ 園芸用品 │\n",
       "│ 5         ┆           ┆           ┆           ┆   ┆           ┆           ┆ 品        ┆          │\n",
       "└───────────┴───────────┴───────────┴───────────┴───┴───────────┴───────────┴───────────┴──────────┘"
      ]
     },
     "execution_count": 167,
     "metadata": {},
     "output_type": "execute_result"
    }
   ],
   "source": [
    "let df_product_full = df_product.clone().left_join(\n",
    "        df_category.clone().select([col(\"category_small_cd\"), col(\"^category_.*_name$\")]), \n",
    "        col(\"category_small_cd\"),\n",
    "        col(\"category_small_cd\"),\n",
    "    );\n",
    "\n",
    "df_product_full.clone().collect().unwrap()"
   ]
  },
  {
   "cell_type": "markdown",
   "metadata": {},
   "source": [
    "---\n",
    "> P-094: 093で作成したカテゴリ名付き商品データを以下の仕様でファイル出力せよ。\n",
    ">\n",
    "> |ファイル形式|ヘッダ有無|文字エンコーディング|\n",
    "> |:--:|:--:|:--:|\n",
    "> |CSV（カンマ区切り）|有り|UTF-8|\n",
    "> \n",
    "> ファイル出力先のパスは以下のようにすること\n",
    "> \n",
    "> |出力先|\n",
    "> |:--:|\n",
    "> |./data|"
   ]
  },
  {
   "cell_type": "code",
   "execution_count": 169,
   "metadata": {
    "vscode": {
     "languageId": "rust"
    }
   },
   "outputs": [],
   "source": [
    "let path_094 = \"../data/P_df_product_full_UTF-8_header.csv\";\n",
    "let mut f = std::fs::File::create(&path_094)?;\n",
    "CsvWriter::new(&mut f)\n",
    "    .has_header(true)\n",
    "    .with_delimiter(b\",\")\n",
    "    .finish(&mut df_product_full.clone().collect().unwrap())?;"
   ]
  },
  {
   "cell_type": "markdown",
   "metadata": {},
   "source": [
    "---\n",
    "> P-095: 093で作成したカテゴリ名付き商品データを以下の仕様でファイル出力せよ。\n",
    ">\n",
    "> |ファイル形式|ヘッダ有無|文字エンコーディング|\n",
    "> |:--:|:--:|:--:|\n",
    "> |CSV（カンマ区切り）|有り|CP932|\n",
    "> \n",
    "> ファイル出力先のパスは以下のようにすること。\n",
    "> \n",
    "> |出力先|\n",
    "> |:--:|\n",
    "> |./data|"
   ]
  },
  {
   "cell_type": "code",
   "execution_count": 160,
   "metadata": {
    "vscode": {
     "languageId": "rust"
    }
   },
   "outputs": [],
   "source": [
    "let path = \"../data/P_df_product_full_cp932_header.csv\";\n",
    "let mut f = std::fs::File::create(path)?;\n",
    "CsvWriter::new(&mut f)\n",
    "    .has_header(true)\n",
    "    .with_delimiter(b\",\")\n",
    "    .finish(&mut df_product_full.clone().collect().unwrap())?;"
   ]
  },
  {
   "cell_type": "markdown",
   "metadata": {},
   "source": [
    "---\n",
    "> P-096: 093で作成したカテゴリ名付き商品データを以下の仕様でファイル出力せよ。\n",
    ">\n",
    "> |ファイル形式|ヘッダ有無|文字エンコーディング|\n",
    "> |:--:|:--:|:--:|\n",
    "> |CSV（カンマ区切り）|無し|UTF-8|\n",
    "> \n",
    "> ファイル出力先のパスは以下のようにすること。\n",
    "> \n",
    "> |出力先|\n",
    "> |:--:|\n",
    "> |./data|"
   ]
  },
  {
   "cell_type": "code",
   "execution_count": 170,
   "metadata": {
    "vscode": {
     "languageId": "rust"
    }
   },
   "outputs": [],
   "source": [
    "let path_096 = \"../data/P_df_product_full_UTF-8_noh.csv\";\n",
    "let mut f = std::fs::File::create(&path_096)?;\n",
    "CsvWriter::new(&mut f)\n",
    "    .has_header(false)\n",
    "    .with_delimiter(b\",\")\n",
    "    .finish(&mut df_product_full.clone().collect().unwrap())?;"
   ]
  },
  {
   "cell_type": "markdown",
   "metadata": {},
   "source": [
    "---\n",
    "> P-097: 094で作成した以下形式のファイルを読み込み、データを3件を表示させて正しく取り込まれていることを確認せよ。\n",
    "> \n",
    "> |ファイル形式|ヘッダ有無|文字エンコーディング|\n",
    "> |:--:|:--:|:--:|\n",
    "> |CSV（カンマ区切り）|有り|UTF-8|"
   ]
  },
  {
   "cell_type": "code",
   "execution_count": 168,
   "metadata": {
    "vscode": {
     "languageId": "rust"
    }
   },
   "outputs": [
    {
     "data": {
      "text/plain": [
       "shape: (3, 9)\n",
       "┌───────────┬───────────┬───────────┬───────────┬───┬───────────┬───────────┬───────────┬──────────┐\n",
       "│ product_c ┆ category_ ┆ category_ ┆ category_ ┆ … ┆ unit_cost ┆ category_ ┆ category_ ┆ category │\n",
       "│ d         ┆ major_cd  ┆ medium_cd ┆ small_cd  ┆   ┆ ---       ┆ major_nam ┆ medium_na ┆ _small_n │\n",
       "│ ---       ┆ ---       ┆ ---       ┆ ---       ┆   ┆ i64       ┆ e         ┆ me        ┆ ame      │\n",
       "│ str       ┆ str       ┆ str       ┆ str       ┆   ┆           ┆ ---       ┆ ---       ┆ ---      │\n",
       "│           ┆           ┆           ┆           ┆   ┆           ┆ str       ┆ str       ┆ str      │\n",
       "╞═══════════╪═══════════╪═══════════╪═══════════╪═══╪═══════════╪═══════════╪═══════════╪══════════╡\n",
       "│ P04010100 ┆ 04        ┆ 0401      ┆ 040101    ┆ … ┆ 149       ┆ 惣菜      ┆ 御飯類    ┆ 弁当類   │\n",
       "│ 1         ┆           ┆           ┆           ┆   ┆           ┆           ┆           ┆          │\n",
       "│ P04010100 ┆ 04        ┆ 0401      ┆ 040101    ┆ … ┆ 164       ┆ 惣菜      ┆ 御飯類    ┆ 弁当類   │\n",
       "│ 2         ┆           ┆           ┆           ┆   ┆           ┆           ┆           ┆          │\n",
       "│ P04010100 ┆ 04        ┆ 0401      ┆ 040101    ┆ … ┆ 173       ┆ 惣菜      ┆ 御飯類    ┆ 弁当類   │\n",
       "│ 3         ┆           ┆           ┆           ┆   ┆           ┆           ┆           ┆          │\n",
       "└───────────┴───────────┴───────────┴───────────┴───┴───────────┴───────────┴───────────┴──────────┘"
      ]
     },
     "execution_count": 168,
     "metadata": {},
     "output_type": "execute_result"
    }
   ],
   "source": [
    "let path_094 = \"../data/P_df_product_full_UTF-8_header.csv\";\n",
    "let df_product_full2 = LazyCsvReader::new(&path_094)\n",
    "    .has_header(true)\n",
    "    .with_dtype_overwrite(Some(&schema.clone()))\n",
    "    .finish()\n",
    "    .unwrap();\n",
    "\n",
    "df_product_full2.collect().unwrap().head(Some(3))"
   ]
  },
  {
   "cell_type": "markdown",
   "metadata": {},
   "source": [
    "---\n",
    "> P-098: 096で作成した以下形式のファイルを読み込み、データを3件を表示させて正しく取り込まれていることを確認せよ。\n",
    "> \n",
    "> |ファイル形式|ヘッダ有無|文字エンコーディング|\n",
    "> |:--:|:--:|:--:|\n",
    "> |CSV（カンマ区切り）|ヘッダ無し|UTF-8|"
   ]
  },
  {
   "cell_type": "code",
   "execution_count": 199,
   "metadata": {
    "vscode": {
     "languageId": "rust"
    }
   },
   "outputs": [
    {
     "data": {
      "text/plain": [
       "shape: (3, 9)\n",
       "┌───────────┬───────────┬───────────┬───────────┬───┬───────────┬───────────┬───────────┬──────────┐\n",
       "│ product_c ┆ category_ ┆ category_ ┆ category_ ┆ … ┆ unit_cost ┆ category_ ┆ category_ ┆ category │\n",
       "│ d         ┆ major_cd  ┆ medium_cd ┆ small_cd  ┆   ┆ ---       ┆ major_nam ┆ medium_na ┆ _small_n │\n",
       "│ ---       ┆ ---       ┆ ---       ┆ ---       ┆   ┆ i64       ┆ e         ┆ me        ┆ ame      │\n",
       "│ str       ┆ str       ┆ str       ┆ str       ┆   ┆           ┆ ---       ┆ ---       ┆ ---      │\n",
       "│           ┆           ┆           ┆           ┆   ┆           ┆ str       ┆ str       ┆ str      │\n",
       "╞═══════════╪═══════════╪═══════════╪═══════════╪═══╪═══════════╪═══════════╪═══════════╪══════════╡\n",
       "│ P04010100 ┆ 04        ┆ 0401      ┆ 040101    ┆ … ┆ 149       ┆ 惣菜      ┆ 御飯類    ┆ 弁当類   │\n",
       "│ 1         ┆           ┆           ┆           ┆   ┆           ┆           ┆           ┆          │\n",
       "│ P04010100 ┆ 04        ┆ 0401      ┆ 040101    ┆ … ┆ 164       ┆ 惣菜      ┆ 御飯類    ┆ 弁当類   │\n",
       "│ 2         ┆           ┆           ┆           ┆   ┆           ┆           ┆           ┆          │\n",
       "│ P04010100 ┆ 04        ┆ 0401      ┆ 040101    ┆ … ┆ 173       ┆ 惣菜      ┆ 御飯類    ┆ 弁当類   │\n",
       "│ 3         ┆           ┆           ┆           ┆   ┆           ┆           ┆           ┆          │\n",
       "└───────────┴───────────┴───────────┴───────────┴───┴───────────┴───────────┴───────────┴──────────┘"
      ]
     },
     "execution_count": 199,
     "metadata": {},
     "output_type": "execute_result"
    }
   ],
   "source": [
    "// データ型の指定\n",
    "let mut new_schema = Schema::new();\n",
    "new_schema.with_column(\"column_1\".into(), DataType::Utf8);\n",
    "new_schema.with_column(\"column_2\".into(), DataType::Utf8);\n",
    "new_schema.with_column(\"column_3\".into(), DataType::Utf8);\n",
    "new_schema.with_column(\"column_4\".into(), DataType::Utf8);\n",
    "\n",
    "let old_c_names = vec![\n",
    "    \"column_1\", \n",
    "    \"column_2\",\n",
    "    \"column_3\",\n",
    "    \"column_4\",\n",
    "    \"column_5\",\n",
    "    \"column_6\",\n",
    "    \"column_7\",\n",
    "    \"column_8\",\n",
    "    \"column_9\",\n",
    "];\n",
    "\n",
    "let new_c_names = vec![\n",
    "    \"product_cd\", \n",
    "    \"category_major_cd\",\n",
    "    \"category_medium_cd\",\n",
    "    \"category_small_cd\",\n",
    "    \"unit_price\",\n",
    "    \"unit_cost\",\n",
    "    \"category_major_name\",\n",
    "    \"category_medium_name\",\n",
    "    \"category_small_name\",\n",
    "];\n",
    "\n",
    "let path_096 = \"../data/P_df_product_full_UTF-8_noh.csv\";\n",
    "let df_product_full3: LazyFrame = LazyCsvReader::new(&path_096)\n",
    "    .has_header(false)\n",
    "    .with_dtype_overwrite(Some(&new_schema.clone()))\n",
    "    .finish()?\n",
    "    .rename(old_c_names, new_c_names);\n",
    "\n",
    "df_product_full3.collect().unwrap().head(Some(3))"
   ]
  },
  {
   "cell_type": "markdown",
   "metadata": {},
   "source": [
    "---\n",
    "> P-099: 093で作成したカテゴリ名付き商品データを以下の仕様でファイル出力せよ。\n",
    ">\n",
    "> |ファイル形式|ヘッダ有無|文字エンコーディング|\n",
    "> |:--:|:--:|:--:|\n",
    "> |TSV（タブ区切り）|有り|UTF-8|\n",
    "> \n",
    "> ファイル出力先のパスは以下のようにすること\n",
    "> \n",
    "> |出力先|\n",
    "> |:--:|\n",
    "> |./data|"
   ]
  },
  {
   "cell_type": "code",
   "execution_count": 219,
   "metadata": {
    "vscode": {
     "languageId": "rust"
    }
   },
   "outputs": [
    {
     "ename": "Error",
     "evalue": "invalid character in numeric character escape: `\\`",
     "output_type": "error",
     "traceback": [
      "\u001b[31mError:\u001b[0m invalid character in numeric character escape: `\\`",
      "   \u001b[38;5;246m╭\u001b[0m\u001b[38;5;246m─\u001b[0m\u001b[38;5;246m[\u001b[0mcommand_219:1:1\u001b[38;5;246m]\u001b[0m",
      "   \u001b[38;5;246m│\u001b[0m",
      " \u001b[38;5;246m5 │\u001b[0m \u001b[38;5;249m \u001b[0m\u001b[38;5;249m \u001b[0m\u001b[38;5;249m \u001b[0m\u001b[38;5;249m \u001b[0m\u001b[38;5;249m.\u001b[0m\u001b[38;5;249mw\u001b[0m\u001b[38;5;249mi\u001b[0m\u001b[38;5;249mt\u001b[0m\u001b[38;5;249mh\u001b[0m\u001b[38;5;249m_\u001b[0m\u001b[38;5;249md\u001b[0m\u001b[38;5;249me\u001b[0m\u001b[38;5;249ml\u001b[0m\u001b[38;5;249mi\u001b[0m\u001b[38;5;249mm\u001b[0m\u001b[38;5;249mi\u001b[0m\u001b[38;5;249mt\u001b[0m\u001b[38;5;249me\u001b[0m\u001b[38;5;249mr\u001b[0m\u001b[38;5;249m(\u001b[0m\u001b[38;5;249mb\u001b[0m\u001b[38;5;249m\"\u001b[0m\u001b[38;5;249m\\\u001b[0m\u001b[38;5;249mx\u001b[0m\u001b[38;5;54m\\\u001b[0m\u001b[38;5;249m0\u001b[0m\u001b[38;5;249m9\u001b[0m\u001b[38;5;249m\"\u001b[0m\u001b[38;5;249m)\u001b[0m",
      " \u001b[38;5;240m  │\u001b[0m                         \u001b[38;5;54m┬\u001b[0m  ",
      " \u001b[38;5;240m  │\u001b[0m                         \u001b[38;5;54m╰\u001b[0m\u001b[38;5;54m─\u001b[0m\u001b[38;5;54m─\u001b[0m invalid character in numeric character escape",
      "\u001b[38;5;246m───╯\u001b[0m"
     ]
    }
   ],
   "source": [
    "let path_099 = \"../data/P_df_product_full_UTF-8_header.tsv\";\n",
    "let mut f = std::fs::File::create(&path_099)?;\n",
    "CsvWriter::new(&mut f)\n",
    "    .has_header(true)\n",
    "    .with_delimiter(b\"\\x09\")\n",
    "    .finish(&mut df_product_full.clone().collect().unwrap())?;"
   ]
  },
  {
   "cell_type": "markdown",
   "metadata": {},
   "source": [
    "---\n",
    "> P-100: 099で作成した以下形式のファイルを読み込み、データを3件を表示させて正しく取り込まれていることを確認せよ。\n",
    "> \n",
    "> |ファイル形式|ヘッダ有無|文字エンコーディング|\n",
    "> |:--:|:--:|:--:|\n",
    "> |TSV（タブ区切り）|有り|UTF-8|"
   ]
  },
  {
   "cell_type": "code",
   "execution_count": null,
   "metadata": {
    "vscode": {
     "languageId": "rust"
    }
   },
   "outputs": [],
   "source": [
    "let path_099 = \"../data/P_df_product_full_UTF-8_header.tsv\";\n",
    "let df_product_full4 = LazyCsvReader::new(&path_099)\n",
    "    .has_header(true)\n",
    "    .with_delimiter(b\"\\x09\")\n",
    "    .with_dtype_overwrite(Some(&schema.clone()))\n",
    "    .finish()\n",
    "    .unwrap();\n",
    "\n",
    "df_product_full4.collect().unwrap().head(Some(3))"
   ]
  },
  {
   "cell_type": "markdown",
   "metadata": {},
   "source": [
    "# これで１００本終わりです。おつかれさまでした！"
   ]
  }
 ],
 "metadata": {
  "kernelspec": {
   "display_name": "Rust",
   "language": "rust",
   "name": "rust"
  },
  "language_info": {
   "codemirror_mode": "rust",
   "file_extension": ".rs",
   "mimetype": "text/rust",
   "name": "Rust",
   "pygment_lexer": "rust",
   "version": ""
  }
 },
 "nbformat": 4,
 "nbformat_minor": 4
}
